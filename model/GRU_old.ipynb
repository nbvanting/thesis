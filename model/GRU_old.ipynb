{
 "cells": [
  {
   "cell_type": "code",
   "execution_count": 9,
   "id": "british-curve",
   "metadata": {},
   "outputs": [],
   "source": [
    "import pandas as pd\n",
    "import datetime as dt\n",
    "from sklearn.preprocessing import MinMaxScaler"
   ]
  },
  {
   "cell_type": "code",
   "execution_count": 14,
   "id": "representative-participation",
   "metadata": {},
   "outputs": [],
   "source": [
    "kld = pd.read_csv('../../data/processed/kolding_features.csv', index_col='Datetime', parse_dates=['Datetime'])\n",
    "train = kld.copy()"
   ]
  },
  {
   "cell_type": "code",
   "execution_count": 15,
   "id": "annoying-detective",
   "metadata": {},
   "outputs": [],
   "source": [
    "T = 6\n",
    "HORIZON = 1\n",
    "valid_date = dt.datetime(2021,1,1)\n",
    "test_date = dt.datetime(2021,2,1)"
   ]
  },
  {
   "cell_type": "code",
   "execution_count": 16,
   "id": "monthly-bristol",
   "metadata": {},
   "outputs": [
    {
     "data": {
      "text/plain": [
       "MinMaxScaler()"
      ]
     },
     "execution_count": 16,
     "metadata": {},
     "output_type": "execute_result"
    }
   ],
   "source": [
    "yscaler = MinMaxScaler()\n",
    "yscaler.fit(train[['Value']])"
   ]
  },
  {
   "cell_type": "code",
   "execution_count": 18,
   "id": "immune-ranch",
   "metadata": {},
   "outputs": [],
   "source": [
    "Xscaler = MinMaxScaler()\n",
    "train[kld.columns.tolist()] = Xscaler.fit_transform(train)"
   ]
  },
  {
   "cell_type": "code",
   "execution_count": null,
   "id": "permanent-colors",
   "metadata": {},
   "outputs": [],
   "source": []
  },
  {
   "cell_type": "code",
   "execution_count": null,
   "id": "deluxe-imagination",
   "metadata": {},
   "outputs": [],
   "source": []
  },
  {
   "cell_type": "code",
   "execution_count": null,
   "id": "backed-helping",
   "metadata": {},
   "outputs": [],
   "source": [
    "\n",
    "\n",
    "\n",
    "\n",
    "y_train = train_shifted[y_col].values\n",
    "X_train = train_shifted[X_cols].values\n",
    "\n",
    "X_train = X_train.reshape(X_train.shape[0], T, 1)\n",
    "\n",
    "print(y_train.shape)\n",
    "print(X_train.shape)\n",
    "val = kld.copy()[(kld.index >= valid_date) & (kld.index < end_date)]\n",
    "val['Value'] = scaler.fit_transform(val)\n",
    "val_shifted = val.copy()\n",
    "val_shifted['y_t+1'] = val_shifted['Value'].shift(-1, freq='H')\n",
    "for t in range(1, T+1):\n",
    "    val_shifted[str(T-t)] = val_shifted['Value'].shift(T-t, freq='H')\n",
    "y_col = 'y_t+1'\n",
    "X_cols = ['load_t-5',\n",
    "         'load_t-4',\n",
    "         'load_t-3',\n",
    "         'load_t-2',\n",
    "         'load_t-1',\n",
    "         'load_t']\n",
    "val_shifted.columns = ['load_original'] + [y_col] + X_cols\n",
    "\n",
    "val_shifted = val_shifted.dropna(how='any')\n",
    "val_shifted.head()\n",
    "y_val = val_shifted[y_col].values\n",
    "X_val = val_shifted[X_cols].values\n",
    "\n",
    "X_val = X_val.reshape(X_val.shape[0], T, 1)\n",
    "\n",
    "print(y_val.shape)\n",
    "print(X_val.shape)\n",
    "\n",
    "from tensorflow.keras.models import Model, Sequential\n",
    "from tensorflow.keras.layers import GRU, Dense\n",
    "from tensorflow.keras.callbacks import EarlyStopping\n",
    "\n",
    "LATENT_DIM = 5\n",
    "BATCH_SIZE = 32\n",
    "EPOCHS = 25\n",
    "\n",
    "model = Sequential()\n",
    "model.add(GRU(LATENT_DIM, input_shape=(T, 1)))\n",
    "model.add(Dense(HORIZON))\n",
    "model.compile(optimizer='RMSprop', loss='mse')\n",
    "model.summary()\n",
    "\n",
    "GRU_ES = EarlyStopping(monitor='val_loss', min_delta=0, patience=5)\n",
    "\n",
    "hist = model.fit(X_train,\n",
    "                y_train,\n",
    "                batch_size=BATCH_SIZE,\n",
    "                epochs=EPOCHS,\n",
    "                validation_data=(X_val, y_val),\n",
    "                callbacks=[GRU_ES],\n",
    "                verbose=1)\n",
    "\n",
    "preds = model.predict(X_val)\n",
    "\n",
    "eval_data = pd.DataFrame(preds, columns=['t+'+str(t) for t in range(1, HORIZON+1)])\n",
    "eval_data['Datetime'] = val_shifted.index\n",
    "eval_data = pd.melt(eval_data, id_vars='Datetime', value_name='Prediction', var_name='H')\n",
    "eval_data['Actual'] = np.transpose(y_val).ravel()\n",
    "eval_data[['Prediction','Actual']] = scaler.inverse_transform(eval_data[['Prediction','Actual']])\n",
    "eval_data.head()\n",
    "\n",
    "def mape(pred, true):\n",
    "    return ((pred - true).abs() / true).mean()\n",
    "\n",
    "1-mape(eval_data['Prediction'], eval_data['Actual'])"
   ]
  }
 ],
 "metadata": {
  "kernelspec": {
   "display_name": "Python 3",
   "language": "python",
   "name": "python3"
  },
  "language_info": {
   "codemirror_mode": {
    "name": "ipython",
    "version": 3
   },
   "file_extension": ".py",
   "mimetype": "text/x-python",
   "name": "python",
   "nbconvert_exporter": "python",
   "pygments_lexer": "ipython3",
   "version": "3.8.3"
  }
 },
 "nbformat": 4,
 "nbformat_minor": 5
}
