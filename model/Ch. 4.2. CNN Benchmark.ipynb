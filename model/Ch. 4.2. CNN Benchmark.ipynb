{
 "cells": [
  {
   "cell_type": "code",
   "execution_count": 1,
   "id": "mathematical-audience",
   "metadata": {},
   "outputs": [],
   "source": [
    "import pandas as pd\n",
    "import numpy as np\n",
    "import matplotlib.pyplot as plt\n",
    "import math\n",
    "import random\n",
    "import os\n",
    "import datetime as dt\n",
    "import pickle\n",
    "\n",
    "from utils import processing\n",
    "from utils import utils\n",
    "\n",
    "from tensorflow.keras.preprocessing import timeseries_dataset_from_array\n",
    "from sklearn.preprocessing import MinMaxScaler, StandardScaler\n",
    "\n",
    "import tensorflow as tf\n",
    "from tensorflow.keras.losses import mean_squared_error, mean_absolute_error, mean_absolute_percentage_error\n",
    "from tensorflow.keras.models import Sequential, load_model\n",
    "from tensorflow.keras import Input\n",
    "from tensorflow.keras.layers import LSTM, GRU, Conv1D, MaxPooling1D, Flatten, Dense, Dropout, TimeDistributed, \\\n",
    "    BatchNormalization\n",
    "from tensorflow.keras.optimizers import RMSprop, Adam, SGD\n",
    "from tensorflow.keras.callbacks import EarlyStopping, ModelCheckpoint, ReduceLROnPlateau\n",
    "\n",
    "import wandb\n",
    "from wandb.keras import WandbCallback\n"
   ]
  },
  {
   "cell_type": "code",
   "execution_count": 2,
   "id": "adult-integrity",
   "metadata": {},
   "outputs": [],
   "source": [
    "random.seed(hash(\"random seed\") % 2**32 - 1)\n",
    "np.random.seed(hash(\"numpy seed\") % 2**32 - 1)\n",
    "tf.random.set_seed(hash(\"tensorflow seed\") % 2**32 - 1)"
   ]
  },
  {
   "cell_type": "code",
   "execution_count": 3,
   "id": "novel-diamond",
   "metadata": {},
   "outputs": [],
   "source": [
    "plt.style.use('fivethirtyeight')\n",
    "plt.rcParams[\"figure.figsize\"] = (20,12)"
   ]
  },
  {
   "cell_type": "code",
   "execution_count": 4,
   "id": "several-confidence",
   "metadata": {},
   "outputs": [],
   "source": [
    "kld = pd.read_csv('../data/processed/kolding_features.csv', index_col='Datetime', parse_dates=['Datetime'])\n",
    "kld = kld[['Value', 'sunshine_mins', 'airtemp_c', 'daylength_hrs', 'wkdy_sin', 'wkdy_cos', 'wknd', 'mnth_sin', 'mnth_cos']]\n",
    "stb = pd.read_csv('../data/processed/kolding_features.csv', index_col='Datetime', parse_dates=['Datetime'])\n",
    "stb = stb[['Value', 'sunshine_mins', 'airtemp_c', 'daylength_hrs', 'wkdy_sin', 'wkdy_cos', 'wknd', 'mnth_sin', 'mnth_cos']]"
   ]
  },
  {
   "cell_type": "code",
   "execution_count": 5,
   "id": "ignored-invalid",
   "metadata": {},
   "outputs": [],
   "source": [
    "# Processing Parameters\n",
    "steps = 1 # timesteps: 1 hour\n",
    "num_features = 9\n",
    "\n",
    "lookback = 744 # the number of hours in the past the model is shown\n",
    "horizon = 1 # the target hour in the future we want to predict 1 hour ahead\n",
    "\n",
    "# Training parameters\n",
    "batch_size = 224\n",
    "epochs = 100\n",
    "lr = 0.04"
   ]
  },
  {
   "cell_type": "code",
   "execution_count": 6,
   "id": "shared-rugby",
   "metadata": {},
   "outputs": [],
   "source": [
    "# Create Train, Val, and Test Sets\n",
    "kld_train, kld_val, kld_test = processing.ts_offset_split(kld, steps=steps, lookback=lookback,\n",
    "                                                          horizon=horizon, batch_size=batch_size, scaler='standard')\n",
    "stb_train, stb_val, stb_test = processing.ts_offset_split(stb, steps=steps, lookback=lookback,\n",
    "                                                          horizon=horizon, batch_size=batch_size, scaler='standard')"
   ]
  },
  {
   "cell_type": "code",
   "execution_count": 30,
   "id": "thirty-confirmation",
   "metadata": {},
   "outputs": [],
   "source": [
    "def metrics(true, pred):\n",
    "    print(f'MSE: {np.mean(mean_squared_error(true, pred))}')\n",
    "    print(f'RMSE: {np.sqrt(np.mean(mean_squared_error(true, pred)))}')\n",
    "    print(f'MAE: {np.mean(mean_absolute_error(true, pred))}')\n",
    "    print(f'MAPE: {np.mean(mean_absolute_percentage_error(true, pred))}')"
   ]
  },
  {
   "cell_type": "markdown",
   "id": "happy-alloy",
   "metadata": {},
   "source": [
    "# CNN: Kolding Dataset"
   ]
  },
  {
   "cell_type": "code",
   "execution_count": 8,
   "id": "bronze-terrorism",
   "metadata": {},
   "outputs": [
    {
     "name": "stdout",
     "output_type": "stream",
     "text": [
      "Input Shape: (224, 744, 9)\n",
      "Target Shape: (224, 1)\n"
     ]
    }
   ],
   "source": [
    "for batch in kld_train.take(1):\n",
    "    inputs, targets = batch\n",
    "    \n",
    "print(f\"Input Shape: {inputs.numpy().shape}\")\n",
    "print(f\"Target Shape: {targets.numpy().shape}\")"
   ]
  },
  {
   "cell_type": "code",
   "execution_count": 9,
   "id": "expired-forwarding",
   "metadata": {},
   "outputs": [],
   "source": [
    "CNN_base_kld = Sequential()\n",
    "CNN_base_kld.add(Input(shape=(lookback, num_features)))\n",
    "CNN_base_kld.add(Conv1D(filters=56, kernel_size=3, activation='relu'))\n",
    "CNN_base_kld.add(MaxPooling1D(pool_size=2))\n",
    "\n",
    "CNN_base_kld.add(Flatten())\n",
    "\n",
    "CNN_base_kld.add(Dense(56, activation='relu'))\n",
    "CNN_base_kld.add(Dense(1))\n",
    "\n",
    "CNN_base_kld.compile(optimizer=Adam(learning_rate=lr), loss='mse', metrics=['mae'])"
   ]
  },
  {
   "cell_type": "code",
   "execution_count": 10,
   "id": "environmental-defense",
   "metadata": {},
   "outputs": [],
   "source": [
    "# Callbacks\n",
    "estp = EarlyStopping(monitor='val_loss', patience=10, restore_best_weights=True)\n",
    "\n",
    "reduce_lr = ReduceLROnPlateau(monitor='val_loss', factor=0.6, patience=5, verbose=1)\n",
    "\n",
    "ckpt_path = \"../model/models/CNN_benchmark_kld.h5\"\n",
    "ckpt = ModelCheckpoint(\n",
    "    monitor='val_loss',\n",
    "    filepath=ckpt_path,\n",
    "    verbose=1,\n",
    "    save_weights_only=True,\n",
    "    save_best_only=True\n",
    ")\n"
   ]
  },
  {
   "cell_type": "code",
   "execution_count": 11,
   "id": "intense-sensitivity",
   "metadata": {
    "scrolled": true
   },
   "outputs": [
    {
     "name": "stdout",
     "output_type": "stream",
     "text": [
      "Epoch 1/100\n",
      "66/66 [==============================] - 9s 127ms/step - loss: 49212.6866 - mae: 71.7230 - val_loss: 1.1388 - val_mae: 0.7965\n",
      "\n",
      "Epoch 00001: val_loss improved from inf to 1.13876, saving model to ../model/models\\CNN_benchmark_kld.h5\n",
      "Epoch 2/100\n",
      "66/66 [==============================] - 7s 103ms/step - loss: 1.0250 - mae: 0.8097 - val_loss: 1.1403 - val_mae: 0.7967\n",
      "\n",
      "Epoch 00002: val_loss did not improve from 1.13876\n",
      "Epoch 3/100\n",
      "66/66 [==============================] - 7s 105ms/step - loss: 1.0323 - mae: 0.8105 - val_loss: 1.1425 - val_mae: 0.7969- ETA: 2s - loss: 1.0413 - m - ETA: 1s - loss: 1.0\n",
      "\n",
      "Epoch 00003: val_loss did not improve from 1.13876\n",
      "Epoch 4/100\n",
      "66/66 [==============================] - 7s 105ms/step - loss: 1.0361 - mae: 0.8121 - val_loss: 1.1450 - val_mae: 0.7972 ETA: 2s - loss: \n",
      "\n",
      "Epoch 00004: val_loss did not improve from 1.13876\n",
      "Epoch 5/100\n",
      "66/66 [==============================] - 7s 106ms/step - loss: 1.0403 - mae: 0.8112 - val_loss: 1.1478 - val_mae: 0.7975- m\n",
      "\n",
      "Epoch 00005: val_loss did not improve from 1.13876\n",
      "Epoch 6/100\n",
      "66/66 [==============================] - 7s 105ms/step - loss: 1.0379 - mae: 0.8087 - val_loss: 1.1507 - val_mae: 0.7978- loss: 1.0428 - m\n",
      "\n",
      "Epoch 00006: val_loss did not improve from 1.13876\n",
      "\n",
      "Epoch 00006: ReduceLROnPlateau reducing learning rate to 0.023999999463558196.\n",
      "Epoch 7/100\n",
      "66/66 [==============================] - 7s 109ms/step - loss: 1.0369 - mae: 0.8096 - val_loss: 1.1527 - val_mae: 0.7980s: 1.0580 - - ETA: 2s - \n",
      "\n",
      "Epoch 00007: val_loss did not improve from 1.13876\n",
      "Epoch 8/100\n",
      "66/66 [==============================] - 8s 114ms/step - loss: 1.0350 - mae: 0.8069 - val_loss: 1.1548 - val_mae: 0.7983\n",
      "\n",
      "Epoch 00008: val_loss did not improve from 1.13876\n",
      "Epoch 9/100\n",
      "66/66 [==============================] - 8s 115ms/step - loss: 1.0295 - mae: 0.8035 - val_loss: 1.1570 - val_mae: 0.7985\n",
      "\n",
      "Epoch 00009: val_loss did not improve from 1.13876\n",
      "Epoch 10/100\n",
      "66/66 [==============================] - 8s 116ms/step - loss: 1.0311 - mae: 0.8039 - val_loss: 1.1594 - val_mae: 0.7988\n",
      "\n",
      "Epoch 00010: val_loss did not improve from 1.13876\n",
      "Epoch 11/100\n",
      "66/66 [==============================] - 8s 113ms/step - loss: 1.0197 - mae: 0.8008 - val_loss: 1.1616 - val_mae: 0.7991\n",
      "\n",
      "Epoch 00011: val_loss did not improve from 1.13876\n",
      "\n",
      "Epoch 00011: ReduceLROnPlateau reducing learning rate to 0.014400000125169753.\n"
     ]
    }
   ],
   "source": [
    "history_kld = CNN_base_kld.fit(\n",
    "    kld_train,\n",
    "    epochs=epochs,\n",
    "    validation_data=kld_val,\n",
    "    callbacks=[estp, ckpt, reduce_lr]\n",
    ")"
   ]
  },
  {
   "cell_type": "code",
   "execution_count": 12,
   "id": "assumed-mobile",
   "metadata": {
    "collapsed": true
   },
   "outputs": [
    {
     "data": {
      "image/png": "[encoded data removed]",
      "text/plain": [
       "<Figure size 1440x864 with 1 Axes>"
      ]
     },
     "metadata": {},
     "output_type": "display_data"
    }
   ],
   "source": [
    "utils.plot_training(history_kld, \"Kolding: Training and Validation Loss on CNN Benchmark\")"
   ]
  },
  {
   "cell_type": "code",
   "execution_count": 12,
   "id": "incorrect-child",
   "metadata": {},
   "outputs": [],
   "source": [
    "CNN_base_kld.load_weights(ckpt_path)"
   ]
  },
  {
   "cell_type": "code",
   "execution_count": 13,
   "id": "informed-sociology",
   "metadata": {},
   "outputs": [
    {
     "name": "stdout",
     "output_type": "stream",
     "text": [
      "7/7 [==============================] - 1s 82ms/step - loss: 1.4020 - mae: 0.8665\n"
     ]
    }
   ],
   "source": [
    "kld_eval = CNN_base_kld.evaluate(kld_test)"
   ]
  },
  {
   "cell_type": "code",
   "execution_count": 14,
   "id": "sufficient-heart",
   "metadata": {},
   "outputs": [
    {
     "name": "stdout",
     "output_type": "stream",
     "text": [
      "Inverse Scaled MAE: 27.13\n"
     ]
    }
   ],
   "source": [
    "kld_std = 31.31291841\n",
    "kld_mean = 87.50684772\n",
    "print(f'Inverse Scaled MAE: {round(kld_eval[1] * kld_std, 2)}')"
   ]
  },
  {
   "cell_type": "code",
   "execution_count": 15,
   "id": "established-quality",
   "metadata": {},
   "outputs": [],
   "source": [
    "kld_pred = CNN_base_kld.predict(kld_test)\n",
    "kld_inverse_scaled_pred = (kld_pred * kld_std) + kld_mean\n",
    "\n",
    "\n",
    "y_true_kld = pd.read_csv('y_true_kolding.csv', index_col='Datetime', parse_dates=['Datetime'])\n",
    "kld_pred_df = y_true_kld.copy()\n",
    "kld_pred_df.rename(columns={'Value':'True'}, inplace=True)\n",
    "kld_pred_df['Pred'] = kld_inverse_scaled_pred"
   ]
  },
  {
   "cell_type": "code",
   "execution_count": 32,
   "id": "interstate-truck",
   "metadata": {},
   "outputs": [
    {
     "name": "stdout",
     "output_type": "stream",
     "text": [
      "MSE: 1265.09912109375\n",
      "RMSE: 35.568233489990234\n",
      "MAE: 26.17221450805664\n",
      "MAPE: 22.435352325439453\n"
     ]
    }
   ],
   "source": [
    "metrics(kld_pred_df['True'].values, kld_pred_df['Pred'].values)"
   ]
  },
  {
   "cell_type": "markdown",
   "id": "handled-extreme",
   "metadata": {},
   "source": [
    "# CNN: Middelfart Dataset"
   ]
  },
  {
   "cell_type": "code",
   "execution_count": 19,
   "id": "successful-balloon",
   "metadata": {},
   "outputs": [
    {
     "name": "stdout",
     "output_type": "stream",
     "text": [
      "Input Shape: (224, 744, 9)\n",
      "Target Shape: (224, 1)\n"
     ]
    }
   ],
   "source": [
    "for batch in stb_train.take(1):\n",
    "    inputs, targets = batch\n",
    "    \n",
    "print(f\"Input Shape: {inputs.numpy().shape}\")\n",
    "print(f\"Target Shape: {targets.numpy().shape}\")"
   ]
  },
  {
   "cell_type": "code",
   "execution_count": 21,
   "id": "ready-bangladesh",
   "metadata": {},
   "outputs": [],
   "source": [
    "CNN_base_stb = Sequential()\n",
    "CNN_base_stb.add(Input(shape=(lookback, num_features)))\n",
    "CNN_base_stb.add(Conv1D(filters=56, kernel_size=3, activation='relu'))\n",
    "CNN_base_stb.add(MaxPooling1D(pool_size=2))\n",
    "CNN_base_stb.add(Flatten())\n",
    "\n",
    "CNN_base_stb.add(Dense(56, activation='relu'))\n",
    "CNN_base_stb.add(Dense(1))\n",
    "\n",
    "CNN_base_stb.compile(optimizer=Adam(learning_rate=lr), loss='mse', metrics=['mae'])"
   ]
  },
  {
   "cell_type": "code",
   "execution_count": 23,
   "id": "built-density",
   "metadata": {},
   "outputs": [],
   "source": [
    "estp = EarlyStopping(monitor='val_loss', patience=10, restore_best_weights=True)\n",
    "\n",
    "reduce_lr = ReduceLROnPlateau(monitor='val_loss', factor=0.6, patience=5)\n",
    "\n",
    "ckpt_path = \"../model/models/CNN_benchmark_stb.h5\"\n",
    "ckpt = ModelCheckpoint(\n",
    "    monitor='val_loss',\n",
    "    filepath=ckpt_path,\n",
    "    verbose=1,\n",
    "    save_weights_only=True,\n",
    "    save_best_only=True\n",
    ")\n"
   ]
  },
  {
   "cell_type": "code",
   "execution_count": 24,
   "id": "visible-error",
   "metadata": {},
   "outputs": [
    {
     "name": "stdout",
     "output_type": "stream",
     "text": [
      "Epoch 1/100\n",
      "66/66 [==============================] - 8s 108ms/step - loss: 43563.1652 - mae: 59.2313 - val_loss: 1.1109 - val_mae: 0.7947\n",
      "\n",
      "Epoch 00001: val_loss improved from inf to 1.11090, saving model to ../model/models\\CNN_benchmark_stb.h5\n",
      "Epoch 2/100\n",
      "66/66 [==============================] - 7s 108ms/step - loss: 1.0223 - mae: 0.8172 - val_loss: 1.1130 - val_mae: 0.7948- mae:\n",
      "\n",
      "Epoch 00002: val_loss did not improve from 1.11090\n",
      "Epoch 3/100\n",
      "66/66 [==============================] - 7s 105ms/step - loss: 1.0192 - mae: 0.8157 - val_loss: 1.1159 - val_mae: 0.7949\n",
      "\n",
      "Epoch 00003: val_loss did not improve from 1.11090\n",
      "Epoch 4/100\n",
      "66/66 [==============================] - 7s 108ms/step - loss: 1.0126 - mae: 0.8111 - val_loss: 1.1193 - val_mae: 0.7950\n",
      "\n",
      "Epoch 00004: val_loss did not improve from 1.11090\n",
      "Epoch 5/100\n",
      "66/66 [==============================] - 7s 106ms/step - loss: 1.0281 - mae: 0.8147 - val_loss: 1.1232 - val_mae: 0.7952\n",
      "\n",
      "Epoch 00005: val_loss did not improve from 1.11090\n",
      "Epoch 6/100\n",
      "66/66 [==============================] - 7s 109ms/step - loss: 1.0093 - mae: 0.8075 - val_loss: 1.1276 - val_mae: 0.7955oss: 1.0091 - mae: 0.807\n",
      "\n",
      "Epoch 00006: val_loss did not improve from 1.11090\n",
      "Epoch 7/100\n",
      "66/66 [==============================] - 7s 107ms/step - loss: 1.0103 - mae: 0.8062 - val_loss: 1.1304 - val_mae: 0.7957los\n",
      "\n",
      "Epoch 00007: val_loss did not improve from 1.11090\n",
      "Epoch 8/100\n",
      "66/66 [==============================] - 7s 105ms/step - loss: 1.0234 - mae: 0.8115 - val_loss: 1.1332 - val_mae: 0.7960\n",
      "\n",
      "Epoch 00008: val_loss did not improve from 1.11090\n",
      "Epoch 9/100\n",
      "66/66 [==============================] - 7s 104ms/step - loss: 1.0077 - mae: 0.8015 - val_loss: 1.1363 - val_mae: 0.7963\n",
      "\n",
      "Epoch 00009: val_loss did not improve from 1.11090\n",
      "Epoch 10/100\n",
      "66/66 [==============================] - 7s 106ms/step - loss: 1.0045 - mae: 0.8014 - val_loss: 1.1394 - val_mae: 0.7966\n",
      "\n",
      "Epoch 00010: val_loss did not improve from 1.11090\n",
      "Epoch 11/100\n",
      "66/66 [==============================] - 7s 107ms/step - loss: 1.0113 - mae: 0.8018 - val_loss: 1.1426 - val_mae: 0.7969\n",
      "\n",
      "Epoch 00011: val_loss did not improve from 1.11090\n"
     ]
    }
   ],
   "source": [
    "history_stb = CNN_base_stb.fit(\n",
    "    stb_train,\n",
    "    epochs=epochs,\n",
    "    validation_data=stb_val,\n",
    "    callbacks=[estp, ckpt, reduce_lr]\n",
    ")"
   ]
  },
  {
   "cell_type": "code",
   "execution_count": 29,
   "id": "bright-trial",
   "metadata": {},
   "outputs": [
    {
     "data": {
      "image/png": "[encoded data removed]",
      "text/plain": [
       "<Figure size 1440x864 with 1 Axes>"
      ]
     },
     "metadata": {},
     "output_type": "display_data"
    }
   ],
   "source": [
    "utils.plot_training(history_stb, \"Middelfart: Training and Validation Loss on CNN Benchmark\")"
   ]
  },
  {
   "cell_type": "code",
   "execution_count": 25,
   "id": "fatal-findings",
   "metadata": {},
   "outputs": [
    {
     "name": "stdout",
     "output_type": "stream",
     "text": [
      "7/7 [==============================] - 0s 38ms/step - loss: 1.3493 - mae: 0.8548\n"
     ]
    }
   ],
   "source": [
    "stb_eval = CNN_base_stb.evaluate(stb_test)"
   ]
  },
  {
   "cell_type": "code",
   "execution_count": 26,
   "id": "serial-halloween",
   "metadata": {},
   "outputs": [
    {
     "name": "stdout",
     "output_type": "stream",
     "text": [
      "Inverse Scaled MAE: 15.68\n"
     ]
    }
   ],
   "source": [
    "stb_std = 18.33954707\n",
    "stb_mean = 52.17963965\n",
    "print(f'Inverse Scaled MAE: {round(stb_eval[1] * stb_std, 2)}')"
   ]
  },
  {
   "cell_type": "code",
   "execution_count": 27,
   "id": "prompt-quest",
   "metadata": {},
   "outputs": [],
   "source": [
    "stb_pred = CNN_base_stb.predict(kld_test)\n",
    "stb_inverse_scaled_pred = (stb_pred * kld_std) + stb_mean\n",
    "\n",
    "\n",
    "y_true_stb = pd.read_csv('y_true_strib.csv', index_col='Datetime', parse_dates=['Datetime'])\n",
    "stb_pred_df = y_true_stb.copy()\n",
    "stb_pred_df.rename(columns={'Value':'True'}, inplace=True)\n",
    "stb_pred_df['Pred'] = stb_inverse_scaled_pred"
   ]
  },
  {
   "cell_type": "code",
   "execution_count": 31,
   "id": "tutorial-procedure",
   "metadata": {},
   "outputs": [
    {
     "name": "stdout",
     "output_type": "stream",
     "text": [
      "MSE: 465.6524353027344\n",
      "RMSE: 21.578981399536133\n",
      "MAE: 16.64790916442871\n",
      "MAPE: 22.158018112182617\n"
     ]
    }
   ],
   "source": [
    "metrics(stb_pred_df['True'].values, stb_pred_df['Pred'].values)"
   ]
  },
  {
   "cell_type": "code",
   "execution_count": null,
   "id": "laughing-prerequisite",
   "metadata": {},
   "outputs": [],
   "source": []
  }
 ],
 "metadata": {
  "kernelspec": {
   "display_name": "Python 3",
   "language": "python",
   "name": "python3"
  },
  "language_info": {
   "codemirror_mode": {
    "name": "ipython",
    "version": 3
   },
   "file_extension": ".py",
   "mimetype": "text/x-python",
   "name": "python",
   "nbconvert_exporter": "python",
   "pygments_lexer": "ipython3",
   "version": "3.8.3"
  }
 },
 "nbformat": 4,
 "nbformat_minor": 5
}
