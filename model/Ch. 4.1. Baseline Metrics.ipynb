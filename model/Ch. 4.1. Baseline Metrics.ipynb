{
 "cells": [
  {
   "cell_type": "code",
   "execution_count": 1,
   "id": "roman-hearts",
   "metadata": {},
   "outputs": [],
   "source": [
    "import pandas as pd\n",
    "import numpy as np\n",
    "import matplotlib.pyplot as plt\n",
    "from utils import processing\n",
    "from utils import utils\n",
    "import datetime as dt\n",
    "\n",
    "from tensorflow import keras\n",
    "from tensorflow.keras.losses import mean_squared_error, mean_absolute_error, mean_absolute_percentage_error\n",
    "from tensorflow.keras.preprocessing import timeseries_dataset_from_array\n",
    "from sklearn.preprocessing import MinMaxScaler, StandardScaler"
   ]
  },
  {
   "cell_type": "code",
   "execution_count": 2,
   "id": "vital-mills",
   "metadata": {},
   "outputs": [],
   "source": [
    "# Processing Parameters\n",
    "split = 0.80 # split percentage for training data\n",
    "steps = 1 # timesteps: 1 hour\n",
    "\n",
    "lookback = 24 * 31  # the number of hours in the past the model is shown\n",
    "horizon = 1 # the target hour in the future we want to predict 1 hour ahead\n",
    "\n",
    "# Training parameters\n",
    "batch_size = 224"
   ]
  },
  {
   "cell_type": "code",
   "execution_count": 3,
   "id": "lesser-milton",
   "metadata": {},
   "outputs": [],
   "source": [
    "plt.style.use('fivethirtyeight')\n",
    "plt.rcParams[\"figure.figsize\"] = (18,10)"
   ]
  },
  {
   "cell_type": "code",
   "execution_count": 4,
   "id": "vanilla-geography",
   "metadata": {},
   "outputs": [],
   "source": [
    "kld = pd.read_csv('../data/processed/kolding_features.csv', index_col='Datetime', parse_dates=['Datetime'])\n",
    "stb = pd.read_csv('../data/processed/strib_features.csv', index_col='Datetime', parse_dates=['Datetime'])"
   ]
  },
  {
   "cell_type": "code",
   "execution_count": 5,
   "id": "velvet-bosnia",
   "metadata": {},
   "outputs": [],
   "source": [
    "kld = kld[['Value']]\n",
    "stb = stb[['Value']]"
   ]
  },
  {
   "cell_type": "markdown",
   "id": "regulation-mason",
   "metadata": {},
   "source": [
    "### Year Before"
   ]
  },
  {
   "cell_type": "code",
   "execution_count": 8,
   "id": "dependent-charleston",
   "metadata": {},
   "outputs": [],
   "source": [
    "kld2021 = kld[kld.index.year == 2021] # Year to predict\n",
    "kld2019 = kld[(kld.index.year == 2019) & (kld.index <= dt.datetime(2019, 5, 4, 23))]\n",
    "kld2020 = kld[(kld.index.year == 2020) & (kld.index <= dt.datetime(2020, 5, 4, 23))]\n",
    "kld2020 = kld2020[kld2020.index.date != dt.date(2020, 2, 29)]\n",
    "\n",
    "\n",
    "stb2021 = stb[stb.index.year == 2021] # Year to predict\n",
    "stb2019 = stb[(stb.index.year == 2019) & (stb.index <= dt.datetime(2019, 5, 4, 23))]\n",
    "stb2020 = stb[(stb.index.year == 2020) & (stb.index <= dt.datetime(2020, 5, 4, 23))]\n",
    "stb2020 = stb2020[stb2020.index.date != dt.date(2020, 2, 29)]"
   ]
  },
  {
   "cell_type": "code",
   "execution_count": 9,
   "id": "finnish-messenger",
   "metadata": {},
   "outputs": [],
   "source": [
    "# use 2019 and 2020 data to predict 2021 for naive forecast\n",
    "kld_true = kld2021['Value'].values\n",
    "kld_pred19 = kld2019['Value'].values\n",
    "kld_pred20 = kld2020['Value'].values\n",
    "\n",
    "stb_true = stb2021['Value'].values\n",
    "stb_pred19 = stb2019['Value'].values\n",
    "stb_pred20 = stb2020['Value'].values"
   ]
  },
  {
   "cell_type": "code",
   "execution_count": 10,
   "id": "reliable-carrier",
   "metadata": {},
   "outputs": [],
   "source": [
    "def metrics(true, pred):\n",
    "    print(f'MSE: {np.mean(mean_squared_error(true, pred))}')\n",
    "    print(f'RMSE: {np.sqrt(np.mean(mean_squared_error(true, pred)))}')\n",
    "    print(f'MAE: {np.mean(mean_absolute_error(true, pred))}')\n",
    "    print(f'MAPE: {np.mean(mean_absolute_percentage_error(true, pred))}')"
   ]
  },
  {
   "cell_type": "code",
   "execution_count": 11,
   "id": "curious-institute",
   "metadata": {},
   "outputs": [
    {
     "name": "stdout",
     "output_type": "stream",
     "text": [
      "MSE: 523.1050031502017\n",
      "RMSE: 22.871488870429964\n",
      "MAE: 17.678650201612903\n",
      "MAPE: 17.053641775857486\n"
     ]
    }
   ],
   "source": [
    "# Kolding: `19 data to predict `21\n",
    "metrics(kld_true, kld_pred19)"
   ]
  },
  {
   "cell_type": "code",
   "execution_count": 12,
   "id": "imposed-antibody",
   "metadata": {},
   "outputs": [
    {
     "name": "stdout",
     "output_type": "stream",
     "text": [
      "MSE: 439.92791935114263\n",
      "RMSE: 20.974458737978022\n",
      "MAE: 15.944457325268818\n",
      "MAPE: 15.446316452750416\n"
     ]
    }
   ],
   "source": [
    "# Kolding: `20 data to predict `21\n",
    "metrics(kld_true, kld_pred20)"
   ]
  },
  {
   "cell_type": "code",
   "execution_count": 13,
   "id": "saving-bible",
   "metadata": {},
   "outputs": [
    {
     "name": "stdout",
     "output_type": "stream",
     "text": [
      "MSE: 301.1630905937499\n",
      "RMSE: 17.354051129167217\n",
      "MAE: 14.523117943548392\n",
      "MAPE: 21.414846990578045\n"
     ]
    }
   ],
   "source": [
    "# Strib: `19 data to predict `21\n",
    "metrics(stb_true, stb_pred19)"
   ]
  },
  {
   "cell_type": "code",
   "execution_count": 14,
   "id": "collective-inflation",
   "metadata": {},
   "outputs": [
    {
     "name": "stdout",
     "output_type": "stream",
     "text": [
      "MSE: 193.45500703124998\n",
      "RMSE: 13.90881041035681\n",
      "MAE: 11.10651579301075\n",
      "MAPE: 15.85413071013743\n"
     ]
    }
   ],
   "source": [
    "# Strib: `20 data to predict `21\n",
    "metrics(stb_true, stb_pred20)"
   ]
  },
  {
   "cell_type": "code",
   "execution_count": 15,
   "id": "little-header",
   "metadata": {},
   "outputs": [],
   "source": [
    "# Average of both years\n",
    "kld_pred_avg = (kld_pred19 + kld_pred20) / 2\n",
    "stb_pred_avg = (stb_pred19 + stb_pred20) / 2"
   ]
  },
  {
   "cell_type": "code",
   "execution_count": 16,
   "id": "pacific-stevens",
   "metadata": {},
   "outputs": [
    {
     "name": "stdout",
     "output_type": "stream",
     "text": [
      "MSE: 402.1595851905243\n",
      "RMSE: 20.05391695381539\n",
      "MAE: 15.070034610215057\n",
      "MAPE: 14.348025451734136\n"
     ]
    }
   ],
   "source": [
    "# Kolding: Using `19 and `20 average to predict `21\n",
    "metrics(kld_true, kld_pred_avg)"
   ]
  },
  {
   "cell_type": "code",
   "execution_count": 17,
   "id": "other-treasure",
   "metadata": {},
   "outputs": [
    {
     "name": "stdout",
     "output_type": "stream",
     "text": [
      "MSE: 220.8466792137096\n",
      "RMSE: 14.860911116540251\n",
      "MAE: 12.193578293010749\n",
      "MAPE: 17.63887845030034\n"
     ]
    }
   ],
   "source": [
    "# Strib: Using `19 and `20 average to predict `21\n",
    "metrics(stb_true, stb_pred_avg)"
   ]
  },
  {
   "cell_type": "markdown",
   "id": "apart-centre",
   "metadata": {},
   "source": [
    " \n",
    "### Common Sense Approach"
   ]
  },
  {
   "cell_type": "code",
   "execution_count": 6,
   "id": "compressed-partner",
   "metadata": {},
   "outputs": [
    {
     "name": "stdout",
     "output_type": "stream",
     "text": [
      "Data has not been scaled.\n",
      "Data has not been scaled.\n"
     ]
    }
   ],
   "source": [
    "# Create Train, Val, and Test Sets\n",
    "kld_train, kld_val, kld_test = processing.ts_offset_split(kld, steps=steps, lookback=lookback,\n",
    "                                                          horizon=horizon, batch_size=batch_size, scaler=None)\n",
    "stb_train, stb_val, stb_test = processing.ts_offset_split(stb, steps=steps, lookback=lookback,\n",
    "                                                          horizon=horizon, batch_size=batch_size, scaler=None)\n"
   ]
  },
  {
   "cell_type": "code",
   "execution_count": 9,
   "id": "secret-location",
   "metadata": {},
   "outputs": [],
   "source": [
    "val_steps = (2231 - lookback) #length of test set\n",
    "\n",
    "def eval_naive(val):\n",
    "    batch_maes = []\n",
    "    batch_rmse = []\n",
    "    batch_mape = []\n",
    "    for step in range(val_steps):\n",
    "        for batch in val.take(1):\n",
    "            samples, targets = batch\n",
    "            pred = samples[:, -1]\n",
    "            # MAE\n",
    "            mae = np.mean(mean_absolute_error(targets, pred))\n",
    "            batch_maes.append(mae)\n",
    "            # MAPE\n",
    "            mape = np.mean(mean_absolute_percentage_error(targets, pred))\n",
    "            batch_mape.append(mape)\n",
    "            # RMSE\n",
    "            rmse = np.sqrt(np.mean(mean_squared_error(targets, pred)))\n",
    "            batch_rmse.append(rmse)\n",
    "            \n",
    "    print(f'MAE: {np.mean(batch_maes)}')\n",
    "    print(f'MAPE: {np.mean(batch_mape)}')\n",
    "    print(f'RMSE: {np.mean(batch_rmse)}')"
   ]
  },
  {
   "cell_type": "markdown",
   "id": "western-month",
   "metadata": {},
   "source": [
    "#### Kolding Common Sense Forecast"
   ]
  },
  {
   "cell_type": "code",
   "execution_count": 10,
   "id": "absent-worst",
   "metadata": {},
   "outputs": [
    {
     "name": "stdout",
     "output_type": "stream",
     "text": [
      "MAE: 24.592071428571426\n",
      "MAPE: 18.408773831241177\n",
      "RMSE: 33.1373976481687\n"
     ]
    }
   ],
   "source": [
    "eval_naive(kld_test)"
   ]
  },
  {
   "cell_type": "markdown",
   "id": "racial-barrier",
   "metadata": {},
   "source": [
    "#### Strib Common Sense Forecast"
   ]
  },
  {
   "cell_type": "code",
   "execution_count": 11,
   "id": "middle-clinton",
   "metadata": {},
   "outputs": [
    {
     "name": "stdout",
     "output_type": "stream",
     "text": [
      "MAE: 13.075562499999997\n",
      "MAPE: 15.967196220315058\n",
      "RMSE: 16.881341883179356\n"
     ]
    }
   ],
   "source": [
    "eval_naive(stb_test)"
   ]
  },
  {
   "cell_type": "code",
   "execution_count": null,
   "id": "closed-burton",
   "metadata": {},
   "outputs": [],
   "source": []
  }
 ],
 "metadata": {
  "kernelspec": {
   "display_name": "Python 3",
   "language": "python",
   "name": "python3"
  },
  "language_info": {
   "codemirror_mode": {
    "name": "ipython",
    "version": 3
   },
   "file_extension": ".py",
   "mimetype": "text/x-python",
   "name": "python",
   "nbconvert_exporter": "python",
   "pygments_lexer": "ipython3",
   "version": "3.8.3"
  }
 },
 "nbformat": 4,
 "nbformat_minor": 5
}
