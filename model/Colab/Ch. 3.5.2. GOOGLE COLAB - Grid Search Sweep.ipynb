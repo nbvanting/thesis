{
 "cells": [
  {
   "cell_type": "code",
   "execution_count": null,
   "metadata": {
    "id": "sgDkJnFdcCPo"
   },
   "outputs": [],
   "source": [
    "!pip install wandb"
   ]
  },
  {
   "cell_type": "code",
   "execution_count": null,
   "metadata": {
    "id": "Lw3te7gIcIgQ"
   },
   "outputs": [],
   "source": [
    "import pandas as pd\n",
    "import numpy as np\n",
    "import matplotlib.pyplot as plt\n",
    "import math\n",
    "import random\n",
    "import os\n",
    "\n",
    "from tensorflow.keras.preprocessing import timeseries_dataset_from_array\n",
    "from sklearn.preprocessing import MinMaxScaler, StandardScaler\n",
    "import datetime as dt\n",
    "\n",
    "import tensorflow as tf\n",
    "from tensorflow.keras.models import Sequential\n",
    "from tensorflow.keras import Input\n",
    "from tensorflow.keras.layers import LSTM, GRU, Conv1D, MaxPooling1D, Flatten, Dense, Dropout, TimeDistributed, \\\n",
    "    BatchNormalization\n",
    "from tensorflow.keras.optimizers import RMSprop, Adam, SGD\n",
    "from tensorflow.keras.callbacks import EarlyStopping, ModelCheckpoint, ReduceLROnPlateau\n",
    "\n",
    "import wandb\n",
    "from wandb.keras import WandbCallback\n"
   ]
  },
  {
   "cell_type": "code",
   "execution_count": null,
   "metadata": {
    "id": "59O8Ynu2cKAT"
   },
   "outputs": [],
   "source": [
    "random.seed(hash(\"random seed\") % 2**32 - 1)\n",
    "np.random.seed(hash(\"numpy seed\") % 2**32 - 1)\n",
    "tf.random.set_seed(hash(\"tensorflow seed\") % 2**32 - 1)"
   ]
  },
  {
   "cell_type": "code",
   "execution_count": null,
   "metadata": {
    "colab": {
     "base_uri": "https://localhost:8080/",
     "height": 71
    },
    "id": "McZ5xeewcLkK",
    "outputId": "8d299094-4bff-40c5-bba2-28ec5e7bc85f"
   },
   "outputs": [
    {
     "data": {
      "application/javascript": [
       "\n",
       "        window._wandbApiKey = new Promise((resolve, reject) => {\n",
       "            function loadScript(url) {\n",
       "            return new Promise(function(resolve, reject) {\n",
       "                let newScript = document.createElement(\"script\");\n",
       "                newScript.onerror = reject;\n",
       "                newScript.onload = resolve;\n",
       "                document.body.appendChild(newScript);\n",
       "                newScript.src = url;\n",
       "            });\n",
       "            }\n",
       "            loadScript(\"https://cdn.jsdelivr.net/npm/postmate/build/postmate.min.js\").then(() => {\n",
       "            const iframe = document.createElement('iframe')\n",
       "            iframe.style.cssText = \"width:0;height:0;border:none\"\n",
       "            document.body.appendChild(iframe)\n",
       "            const handshake = new Postmate({\n",
       "                container: iframe,\n",
       "                url: 'https://wandb.ai/authorize'\n",
       "            });\n",
       "            const timeout = setTimeout(() => reject(\"Couldn't auto authenticate\"), 5000)\n",
       "            handshake.then(function(child) {\n",
       "                child.on('authorize', data => {\n",
       "                    clearTimeout(timeout)\n",
       "                    resolve(data)\n",
       "                });\n",
       "            });\n",
       "            })\n",
       "        });\n",
       "    "
      ],
      "text/plain": [
       "<IPython.core.display.Javascript object>"
      ]
     },
     "metadata": {
      "tags": []
     },
     "output_type": "display_data"
    },
    {
     "name": "stderr",
     "output_type": "stream",
     "text": [
      "\u001b[34m\u001b[1mwandb\u001b[0m: Appending key for api.wandb.ai to your netrc file: /root/.netrc\n"
     ]
    },
    {
     "data": {
      "text/plain": [
       "True"
      ]
     },
     "execution_count": 4,
     "metadata": {
      "tags": []
     },
     "output_type": "execute_result"
    }
   ],
   "source": [
    "wandb.login()"
   ]
  },
  {
   "cell_type": "code",
   "execution_count": null,
   "metadata": {
    "id": "SxHwJQG8cOEQ"
   },
   "outputs": [],
   "source": [
    "def create_datasets(dataframe, split, steps, lookback, horizon, batch_size, scaler='standard'):\n",
    "    # Split method\n",
    "    train_split = int(split * dataframe.shape[0])\n",
    "    val_split = int((split+0.1) * dataframe.shape[0])\n",
    "\n",
    "    train = dataframe.iloc[:train_split]\n",
    "    val = dataframe.iloc[train_split:val_split]\n",
    "    test = dataframe.iloc[val_split:]\n",
    "\n",
    "    # Scaler\n",
    "    if scaler == 'standard':\n",
    "        X_scaler = StandardScaler()\n",
    "        y_scaler = StandardScaler()\n",
    "    elif scaler == 'minmax':\n",
    "        X_scaler = MinMaxScaler()\n",
    "        y_scaler = MinMaxScaler()\n",
    "    else:\n",
    "        print(\"Please specify one of 'standard' or 'minmax' to scaler parameter.\")\n",
    "    \n",
    "    # Training\n",
    "    start = lookback + horizon\n",
    "    end = start + train_split\n",
    "\n",
    "    X_train = train.values\n",
    "    y_train = dataframe.iloc[start:end][['Value']]\n",
    "\n",
    "    X_train = X_scaler.fit_transform(X_train)\n",
    "    y_train = y_scaler.fit_transform(y_train)\n",
    "\n",
    "    # Validation\n",
    "    x_end = len(val) - lookback - horizon\n",
    "    y_val_start = train_split + lookback + horizon\n",
    "\n",
    "    X_val = val.iloc[:x_end]\n",
    "    y_val = dataframe.iloc[y_val_start:y_val_start+x_end][['Value']]\n",
    "\n",
    "    X_val = X_scaler.transform(X_val)\n",
    "    y_val = y_scaler.transform(y_val)\n",
    "\n",
    "    # Test\n",
    "    x_end = len(test) - lookback - horizon\n",
    "    y_test_start = val_split + lookback + horizon\n",
    "\n",
    "    X_test = test.iloc[:x_end]\n",
    "    y_test = dataframe.iloc[y_test_start:y_test_start+x_end][['Value']]\n",
    "\n",
    "    X_test = X_scaler.transform(X_test)\n",
    "    y_test = y_scaler.transform(y_test)\n",
    "\n",
    "    # Batch Sequence Generators\n",
    "    sequence_length = int(lookback/steps)\n",
    "\n",
    "    dataset_train = timeseries_dataset_from_array(\n",
    "        X_train, y_train,\n",
    "        sequence_length=sequence_length,\n",
    "        sampling_rate=steps,\n",
    "        batch_size=batch_size,\n",
    "        shuffle=True\n",
    "    )\n",
    "\n",
    "    dataset_val = timeseries_dataset_from_array(\n",
    "        X_val, y_val,\n",
    "        sequence_length=sequence_length,\n",
    "        sampling_rate=steps,\n",
    "        batch_size=batch_size,\n",
    "        shuffle=True\n",
    "    )    \n",
    "\n",
    "    dataset_test = timeseries_dataset_from_array(\n",
    "        X_test, y_test,\n",
    "        sequence_length=sequence_length,\n",
    "        sampling_rate=steps,\n",
    "        batch_size=batch_size,\n",
    "        shuffle=True\n",
    "    )    \n",
    "\n",
    "    return dataset_train, dataset_val, dataset_test\n",
    "\n",
    "def ts_offset_split(dataframe, steps, lookback, horizon, batch_size, scaler='standard'):\n",
    "    start = 0\n",
    "    end = 168\n",
    "    offset = 24\n",
    "    training = []\n",
    "    validation = []\n",
    "\n",
    "    for i in range(int((365+366)/8)):\n",
    "\n",
    "        train = dataframe.iloc[start:end]\n",
    "        val = dataframe.iloc[end:end+offset]\n",
    "        training.append(train)\n",
    "        validation.append(val)\n",
    "\n",
    "        start += 192\n",
    "        end += 192\n",
    "    \n",
    "    # Decide Splits for sets\n",
    "    train = pd.concat(training)\n",
    "\n",
    "    val = pd.concat(validation)\n",
    "    train = train.append(dataframe[(dataframe.index.date > val.index.max()) & (dataframe.index.date < dt.date(2021,1,1))])\n",
    "\n",
    "    test = dataframe[dataframe.index.date >= dt.date(2021,1,1)]\n",
    "    \n",
    "    tmpdf = pd.concat([train,val,test])\n",
    "\n",
    "    # Scaler\n",
    "    if scaler == 'standard':\n",
    "        X_scaler = StandardScaler()\n",
    "        y_scaler = StandardScaler()\n",
    "    elif scaler == 'minmax':\n",
    "        X_scaler = MinMaxScaler()\n",
    "        y_scaler = MinMaxScaler()\n",
    "    else:\n",
    "        print(\"Please specify one of 'standard' or 'minmax' to scaler parameter.\")\n",
    "    \n",
    "    # Training\n",
    "    start = lookback + horizon\n",
    "    end = start + train.shape[0]\n",
    "\n",
    "    X_train = train.values\n",
    "    y_train = tmpdf.iloc[start:end][['Value']]\n",
    "\n",
    "    X_train = X_scaler.fit_transform(X_train)\n",
    "    y_train = y_scaler.fit_transform(y_train)\n",
    "\n",
    "    # Validation\n",
    "    x_end = len(val) - lookback - horizon\n",
    "    y_val_start = train.shape[0] + lookback + horizon\n",
    "\n",
    "    X_val = val.iloc[:x_end]\n",
    "    y_val = tmpdf.iloc[y_val_start:y_val_start+x_end][['Value']]\n",
    "\n",
    "    X_val = X_scaler.transform(X_val)\n",
    "    y_val = y_scaler.transform(y_val)\n",
    "\n",
    "    # Test\n",
    "    x_end = len(test) - lookback - horizon\n",
    "    y_test_start = (train.shape[0] + val.shape[0]) + lookback + horizon\n",
    "\n",
    "    X_test = test.iloc[:x_end]\n",
    "    y_test = tmpdf.iloc[y_test_start:y_test_start+x_end][['Value']]\n",
    "\n",
    "    X_test = X_scaler.transform(X_test)\n",
    "    y_test = y_scaler.transform(y_test)\n",
    "\n",
    "    # Batch Sequence Generators\n",
    "    sequence_length = int(lookback/steps)\n",
    "\n",
    "    dataset_train = timeseries_dataset_from_array(\n",
    "        X_train, y_train,\n",
    "        sequence_length=sequence_length,\n",
    "        sampling_rate=steps,\n",
    "        batch_size=batch_size,\n",
    "        shuffle=True\n",
    "    )\n",
    "\n",
    "    dataset_val = timeseries_dataset_from_array(\n",
    "        X_val, y_val,\n",
    "        sequence_length=sequence_length,\n",
    "        sampling_rate=steps,\n",
    "        batch_size=batch_size,\n",
    "        shuffle=True\n",
    "    )    \n",
    "\n",
    "    dataset_test = timeseries_dataset_from_array(\n",
    "        X_test, y_test,\n",
    "        sequence_length=sequence_length,\n",
    "        sampling_rate=steps,\n",
    "        batch_size=batch_size,\n",
    "        shuffle=True\n",
    "    )    \n",
    "\n",
    "    return dataset_train, dataset_val, dataset_test"
   ]
  },
  {
   "cell_type": "code",
   "execution_count": null,
   "metadata": {
    "id": "SSFXQRyUcP3d"
   },
   "outputs": [],
   "source": [
    "def load_data(config, splitmethod):\n",
    "    # Load csv & parse dates to datetime index\n",
    "    data = pd.read_csv(f'/content/drive/MyDrive/Thesis/{config.dataset}_features.csv', index_col='Datetime', parse_dates=['Datetime'])\n",
    "    # Select Features\n",
    "    data = data[['Value', 'sunshine_mins', 'airtemp_c', 'daylength_hrs', 'wkdy_sin', 'wkdy_cos', 'wknd', 'mnth_sin', 'mnth_cos']]\n",
    "    \n",
    "    if splitmethod == 'offset':\n",
    "        train, val, test = ts_offset_split(data, \n",
    "                                  steps=steps, lookback=config.lookback, \n",
    "                                  horizon=horizon, batch_size=config.batch_size, \n",
    "                                  scaler='standard')\n",
    "    \n",
    "    elif splitmethod == 'standard':\n",
    "        train, val, test = create_datasets(data, split=config.splitrate, \n",
    "                                  steps=steps, lookback=config.lookback, \n",
    "                                  horizon=horizon, batch_size=config.batch_size, \n",
    "                                  scaler='standard')\n",
    "    \n",
    "    return train, val, test\n",
    "    \n",
    "    \n",
    "def build_model(config):\n",
    "        \n",
    "    model = Sequential()\n",
    "\n",
    "    model.add(Input(shape=(config.lookback, config.num_features)))\n",
    "\n",
    "    # CNN Block\n",
    "    model.add(Conv1D(filters=config.cnn_layer_size_1, kernel_size=config.kernelsize, activation=config.activation_cnn))\n",
    "    model.add(MaxPooling1D(pool_size=2))\n",
    "    \n",
    "    # RNN Block  \n",
    "    model.add(GRU(config.gru_layer_size_1, return_sequences=False, activation=config.activation_gru))\n",
    "    model.add(Dropout(config.dropout))\n",
    "\n",
    "    model.add(Dense(1))\n",
    "    \n",
    "    opt = config.optimizer\n",
    "    if opt == 'sgd':\n",
    "        optimizer = SGD(learning_rate=config.learning_rate, momentum=config.momentum)\n",
    "        \n",
    "    model.compile(optimizer=optimizer, loss='mse', metrics=['mae'])\n",
    "    \n",
    "    return model\n",
    "\n",
    "def log_defaults():\n",
    "    # Default values from the first sweep\n",
    "    # The following values resulted in the strongest model\n",
    "    wandb_config = {\n",
    "        'num_features' : 9,\n",
    "        'epochs' : 100,\n",
    "        'batch_size' : 222,\n",
    "        'optimizer' : 'sgd',\n",
    "        'dropout' : 0.2,\n",
    "        'lookback' : 744,\n",
    "        'activation_cnn' : 'relu',\n",
    "        'activation_gru' : 'tanh',\n",
    "        'kernelsize': 7,\n",
    "        'cnn_layer_size_1' : 179,\n",
    "        'gru_layer_size_1' : 95,\n",
    "        'learning_rate' : 0.04,\n",
    "        'momentum' : 0.9,\n",
    "        'dataset' : 'kolding',\n",
    "        'splitrate': 0.8,\n",
    "        'splitmethod': 'offset',\n",
    "        \n",
    "    }\n",
    "    return wandb_config\n",
    "\n",
    "def run_tuner():\n",
    "    \n",
    "    wandb.init(config=log_defaults(), group='cnnrnn-sweep-grid-offset-2', project='thesis')\n",
    "    \n",
    "    model = build_model(config=wandb.config)\n",
    "    \n",
    "    train, val, test = load_data(config=wandb.config, splitmethod=wandb.config.splitmethod)\n",
    "    \n",
    "    reduce_lr = ReduceLROnPlateau(monitor='val_loss', factor=0.6, patience=5)\n",
    "\n",
    "    callbacks = [WandbCallback(), reduce_lr]\n",
    "    \n",
    "    model.fit(\n",
    "        train,\n",
    "        epochs=wandb.config.epochs,\n",
    "        validation_data=val,\n",
    "        callbacks=callbacks\n",
    "    )\n",
    "\n",
    "    eval = model.evaluate(test)\n",
    "\n",
    "    wandb.log({'test_loss': eval[0]})\n",
    "    wandb.log({'test_mae': eval[1]})\n"
   ]
  },
  {
   "cell_type": "code",
   "execution_count": null,
   "metadata": {
    "id": "I8ggJ4r-dCBk"
   },
   "outputs": [],
   "source": [
    "# Sweep Config\n",
    "sweep_config = {\n",
    "    'method': 'grid',\n",
    "    'metric': {\n",
    "        'name': 'val_loss',\n",
    "        'goal': 'minimize'\n",
    "    },\n",
    "    'early_terminate': {\n",
    "        'type': 'hyperband',\n",
    "        'min_iter': 5\n",
    "    },\n",
    "    'parameters': {\n",
    "        'num_features' : {\n",
    "            'value' : 9\n",
    "        },\n",
    "        'batch_size': {\n",
    "            'values': [64, 224]\n",
    "        },\n",
    "        'lookback': {\n",
    "            'value': 24*31\n",
    "        },\n",
    "        'optimizer': {\n",
    "            'value': 'sgd'\n",
    "        },\n",
    "        'dropout': {\n",
    "            'value': 0.2\n",
    "        },\n",
    "        'epochs': {\n",
    "            'value': 30\n",
    "        },\n",
    "        'activation_gru': {\n",
    "            'value': 'tanh'\n",
    "        },\n",
    "        'activation_cnn': {\n",
    "            'value': 'relu'\n",
    "        },\n",
    "        'kernelsize': {\n",
    "            'values': [3, 7]\n",
    "        },\n",
    "        'cnn_layer_size_1': {\n",
    "            'values': [56, 176]\n",
    "        },\n",
    "        'gru_layer_size_1': {\n",
    "            'values': [96, 192]\n",
    "        },\n",
    "        'learning_rate': {\n",
    "            'value': 0.04\n",
    "        },\n",
    "        'momentum': {\n",
    "            'value': 0.9\n",
    "        },\n",
    "        'dataset': {\n",
    "            'values': ['kolding', 'strib']\n",
    "        },\n",
    "        'splitrate': {\n",
    "            'value': 0.8\n",
    "        },\n",
    "        'splitmethod': {\n",
    "            'value': 'offset'\n",
    "        }\n",
    "    }\n",
    "}"
   ]
  },
  {
   "cell_type": "code",
   "execution_count": null,
   "metadata": {
    "id": "Xh8gIuvRdoXD"
   },
   "outputs": [],
   "source": [
    "# Additional Parameters\n",
    "steps = 1 # timesteps: 1 hour\n",
    "horizon = 1 # the target hour in the future we want to predict 1 hour ahead\n",
    "\n"
   ]
  },
  {
   "cell_type": "code",
   "execution_count": null,
   "metadata": {
    "colab": {
     "base_uri": "https://localhost:8080/"
    },
    "id": "Une2zXvmdqAJ",
    "outputId": "3d99481d-c4b8-4be5-b7f2-ab545e9c8a96"
   },
   "outputs": [
    {
     "name": "stdout",
     "output_type": "stream",
     "text": [
      "Create sweep with ID: 0xw7ge82\n",
      "Sweep URL: https://wandb.ai/nbvanting/thesis/sweeps/0xw7ge82\n"
     ]
    }
   ],
   "source": [
    "sweep_id = wandb.sweep(sweep_config, project='thesis')"
   ]
  },
  {
   "cell_type": "code",
   "execution_count": null,
   "metadata": {
    "colab": {
     "base_uri": "https://localhost:8080/",
     "height": 1000,
     "referenced_widgets": [
      "be51efa6437f4682918bd70d857231b0",
      "d96f94aea94b4c54a1c2b9c3008b6f1b",
      "924b43a644ed43f687c55540d31224dc",
      "dc5086f644434e74b14cbdbb780191c5",
      "8e68ee59fa68496ba60284ff07fc19e6",
      "021a9c752a554f7fb7c2b76669351ecd",
      "376e71389c0942e9aa29faaed0e97ff3",
      "93798bf7fb3f4b59b480e6ef7849c66a",
      "af5b88a1948d48feba25a15d781a4161",
      "4f505a5a27504184aeafe53c156eac4f",
      "b67a42217fcf415eade9dbdd433cf028",
      "2ad2728191ec43bfa5ee67537cdb7832",
      "c61c6eaeea27485eaefbf3df53e3e5fb",
      "baf244f6af174961b11cfdba84254b82",
      "ee8bfdf9dbf7407e98543efa997598be",
      "2b6ee86acffb45129da147073446883a",
      "f10639aabdfe405ab2f7afd2cd9747fe",
      "f4a072a4b2964f2ca63451a8fee57f00",
      "5b62c3f73fb84bc285e840849da00f9b",
      "7e20afbcaa0e4459bb0ae83ca1e2e819",
      "75e260f6850f4339973bc04dd3303191",
      "f1d790b934a843038edd611d7412e732",
      "a60a50bbc4b648878e193671f038ed52",
      "4e89c73c8e304f82a288a8d049d21f23",
      "18f5bba252294f51bf10ee74f6bde486",
      "87dde3783c63477c9036585311c3c893",
      "bc7f916b66b848ed95a830c7635eac4e",
      "595e132f656f4056a96ed6627dccd8e8",
      "02c312df6bf84646b6a9830dcefb2328",
      "51b8160690854f1baafe1a3c0fed2f43",
      "bb4fad7a8fc84bb590ed97e02616debb",
      "95f50cccbad447eebd47b52336844c0f",
      "d05a0c6d7c7a41b2a322e824dbc8c361",
      "c016e7be781d48b0bc637c1b532be9e5",
      "e391082a3d50495fb3d5b4c8c02e1742",
      "149847d0fe35429682dee1f6539860bc",
      "981aff5ff7a3433daf050ff83d271cdc",
      "fb03d010e7b74a00b5ec998d0036ed55",
      "9f9f8290b91240d88aa64cabf08d98c4",
      "bf5c39b5d9004b9db72d4f38dc04e181",
      "990dc11c33664cbe96b2fb9f9ae467d9",
      "e1e577b46d1444279e817a6d5c9e790a",
      "104ef426c33e4b77b1046be78ca54bd2",
      "a29a2cfd9c5247bda17f5ea7e0285a2f",
      "9e6d62cd3dcb4e81aec3cf4b0fdc820f",
      "25b7c213411c479fb75c7b5bf7dce79c",
      "e6f5d6e6f9af46d48eca41751a9f21f5",
      "6d05d0d5e1624ae6b0881645a671c375"
     ]
    },
    "id": "OL9615qTdqfT",
    "outputId": "efed109a-2a39-4b91-88b6-8a298836d615"
   },
   "outputs": [
    {
     "name": "stderr",
     "output_type": "stream",
     "text": [
      "\u001b[34m\u001b[1mwandb\u001b[0m: Agent Starting Run: wv28k353 with config:\n",
      "\u001b[34m\u001b[1mwandb\u001b[0m: \tactivation_cnn: relu\n",
      "\u001b[34m\u001b[1mwandb\u001b[0m: \tactivation_gru: tanh\n",
      "\u001b[34m\u001b[1mwandb\u001b[0m: \tbatch_size: 64\n",
      "\u001b[34m\u001b[1mwandb\u001b[0m: \tcnn_layer_size_1: 56\n",
      "\u001b[34m\u001b[1mwandb\u001b[0m: \tdataset: kolding\n",
      "\u001b[34m\u001b[1mwandb\u001b[0m: \tdropout: 0.2\n",
      "\u001b[34m\u001b[1mwandb\u001b[0m: \tepochs: 30\n",
      "\u001b[34m\u001b[1mwandb\u001b[0m: \tgru_layer_size_1: 96\n",
      "\u001b[34m\u001b[1mwandb\u001b[0m: \tkernelsize: 3\n",
      "\u001b[34m\u001b[1mwandb\u001b[0m: \tlearning_rate: 0.04\n",
      "\u001b[34m\u001b[1mwandb\u001b[0m: \tlookback: 744\n",
      "\u001b[34m\u001b[1mwandb\u001b[0m: \tmomentum: 0.9\n",
      "\u001b[34m\u001b[1mwandb\u001b[0m: \tnum_features: 9\n",
      "\u001b[34m\u001b[1mwandb\u001b[0m: \toptimizer: sgd\n",
      "\u001b[34m\u001b[1mwandb\u001b[0m: \tsplitmethod: offset\n",
      "\u001b[34m\u001b[1mwandb\u001b[0m: \tsplitrate: 0.8\n",
      "\u001b[34m\u001b[1mwandb\u001b[0m: Currently logged in as: \u001b[33mnbvanting\u001b[0m (use `wandb login --relogin` to force relogin)\n",
      "\u001b[34m\u001b[1mwandb\u001b[0m: \u001b[33mWARNING\u001b[0m Ignored wandb.init() arg project when running a sweep\n"
     ]
    },
    {
     "data": {
      "text/html": [
       "\n",
       "                Tracking run with wandb version 0.10.30<br/>\n",
       "                Syncing run <strong style=\"color:#cdcd00\">fine-sweep-1</strong> to <a href=\"https://wandb.ai\" target=\"_blank\">Weights & Biases</a> <a href=\"https://docs.wandb.com/integrations/jupyter.html\" target=\"_blank\">(Documentation)</a>.<br/>\n",
       "                Project page: <a href=\"https://wandb.ai/nbvanting/thesis\" target=\"_blank\">https://wandb.ai/nbvanting/thesis</a><br/>\n",
       "                Sweep page: <a href=\"https://wandb.ai/nbvanting/thesis/sweeps/0xw7ge82\" target=\"_blank\">https://wandb.ai/nbvanting/thesis/sweeps/0xw7ge82</a><br/>\n",
       "Run page: <a href=\"https://wandb.ai/nbvanting/thesis/runs/wv28k353\" target=\"_blank\">https://wandb.ai/nbvanting/thesis/runs/wv28k353</a><br/>\n",
       "                Run data is saved locally in <code>/content/wandb/run-20210510_114220-wv28k353</code><br/><br/>\n",
       "            "
      ],
      "text/plain": [
       "<IPython.core.display.HTML object>"
      ]
     },
     "metadata": {
      "tags": []
     },
     "output_type": "display_data"
    },
    {
     "name": "stdout",
     "output_type": "stream",
     "text": [
      "Epoch 1/30\n",
      "229/229 [==============================] - 54s 102ms/step - loss: 0.5446 - mae: 0.5516 - val_loss: 0.3377 - val_mae: 0.4311\n",
      "Epoch 2/30\n",
      "229/229 [==============================] - 22s 93ms/step - loss: 0.3089 - mae: 0.4182 - val_loss: 0.2045 - val_mae: 0.3430\n",
      "Epoch 3/30\n",
      "229/229 [==============================] - 21s 93ms/step - loss: 0.1856 - mae: 0.3335 - val_loss: 0.1561 - val_mae: 0.3054\n",
      "Epoch 4/30\n",
      "229/229 [==============================] - 22s 96ms/step - loss: 0.1531 - mae: 0.3010 - val_loss: 0.1381 - val_mae: 0.2902\n",
      "Epoch 5/30\n",
      "229/229 [==============================] - 22s 97ms/step - loss: 0.1307 - mae: 0.2789 - val_loss: 0.1377 - val_mae: 0.2920\n",
      "Epoch 6/30\n",
      "229/229 [==============================] - 21s 93ms/step - loss: 0.1221 - mae: 0.2694 - val_loss: 0.1298 - val_mae: 0.2842\n",
      "Epoch 7/30\n",
      "229/229 [==============================] - 22s 95ms/step - loss: 0.1227 - mae: 0.2695 - val_loss: 0.1149 - val_mae: 0.2646\n",
      "Epoch 8/30\n",
      "229/229 [==============================] - 22s 95ms/step - loss: 0.1127 - mae: 0.2584 - val_loss: 0.1304 - val_mae: 0.2866\n",
      "Epoch 9/30\n",
      "229/229 [==============================] - 21s 93ms/step - loss: 0.1010 - mae: 0.2456 - val_loss: 0.1138 - val_mae: 0.2660\n",
      "Epoch 10/30\n",
      "229/229 [==============================] - 22s 96ms/step - loss: 0.1000 - mae: 0.2426 - val_loss: 0.1079 - val_mae: 0.2603\n",
      "Epoch 11/30\n",
      "229/229 [==============================] - 22s 95ms/step - loss: 0.0962 - mae: 0.2380 - val_loss: 0.0960 - val_mae: 0.2391\n",
      "Epoch 12/30\n",
      "229/229 [==============================] - 22s 94ms/step - loss: 0.0910 - mae: 0.2314 - val_loss: 0.0974 - val_mae: 0.2416\n",
      "Epoch 13/30\n",
      "229/229 [==============================] - 22s 94ms/step - loss: 0.0872 - mae: 0.2259 - val_loss: 0.1009 - val_mae: 0.2447\n",
      "Epoch 14/30\n",
      "229/229 [==============================] - 22s 95ms/step - loss: 0.0922 - mae: 0.2322 - val_loss: 0.1100 - val_mae: 0.2524\n",
      "Epoch 15/30\n",
      "229/229 [==============================] - 22s 96ms/step - loss: 0.0886 - mae: 0.2288 - val_loss: 0.0942 - val_mae: 0.2337\n",
      "Epoch 16/30\n",
      "229/229 [==============================] - 21s 93ms/step - loss: 0.0810 - mae: 0.2189 - val_loss: 0.1121 - val_mae: 0.2558\n",
      "Epoch 17/30\n",
      "229/229 [==============================] - 21s 93ms/step - loss: 0.0835 - mae: 0.2214 - val_loss: 0.1008 - val_mae: 0.2424\n",
      "Epoch 18/30\n",
      "229/229 [==============================] - 21s 93ms/step - loss: 0.0796 - mae: 0.2165 - val_loss: 0.0960 - val_mae: 0.2370\n",
      "Epoch 19/30\n",
      "229/229 [==============================] - 21s 93ms/step - loss: 0.0806 - mae: 0.2177 - val_loss: 0.1001 - val_mae: 0.2418\n",
      "Epoch 20/30\n",
      "229/229 [==============================] - 22s 94ms/step - loss: 0.0827 - mae: 0.2201 - val_loss: 0.0967 - val_mae: 0.2395\n",
      "Epoch 21/30\n",
      "229/229 [==============================] - 21s 93ms/step - loss: 0.0746 - mae: 0.2094 - val_loss: 0.0960 - val_mae: 0.2353\n",
      "Epoch 22/30\n",
      "229/229 [==============================] - 22s 94ms/step - loss: 0.0701 - mae: 0.2034 - val_loss: 0.0910 - val_mae: 0.2316\n",
      "Epoch 23/30\n",
      "229/229 [==============================] - 22s 95ms/step - loss: 0.0670 - mae: 0.1979 - val_loss: 0.0944 - val_mae: 0.2352\n",
      "Epoch 24/30\n",
      "229/229 [==============================] - 22s 94ms/step - loss: 0.0682 - mae: 0.2002 - val_loss: 0.0933 - val_mae: 0.2323\n",
      "Epoch 25/30\n",
      "229/229 [==============================] - 22s 95ms/step - loss: 0.0672 - mae: 0.1982 - val_loss: 0.0998 - val_mae: 0.2434\n",
      "Epoch 26/30\n",
      "229/229 [==============================] - 22s 95ms/step - loss: 0.0684 - mae: 0.2013 - val_loss: 0.0907 - val_mae: 0.2310\n",
      "Epoch 27/30\n",
      "229/229 [==============================] - 22s 94ms/step - loss: 0.0653 - mae: 0.1960 - val_loss: 0.1067 - val_mae: 0.2516\n",
      "Epoch 28/30\n",
      "229/229 [==============================] - 22s 95ms/step - loss: 0.0670 - mae: 0.1986 - val_loss: 0.1022 - val_mae: 0.2454\n",
      "Epoch 29/30\n",
      "229/229 [==============================] - 22s 97ms/step - loss: 0.0672 - mae: 0.2000 - val_loss: 0.0967 - val_mae: 0.2378\n",
      "Epoch 30/30\n",
      "229/229 [==============================] - 22s 93ms/step - loss: 0.0641 - mae: 0.1952 - val_loss: 0.0882 - val_mae: 0.2290\n",
      "24/24 [==============================] - 1s 40ms/step - loss: 0.1329 - mae: 0.2753\n"
     ]
    },
    {
     "data": {
      "text/html": [
       "<br/>Waiting for W&B process to finish, PID 264<br/>Program failed with code 1.  Press ctrl-c to abort syncing."
      ],
      "text/plain": [
       "<IPython.core.display.HTML object>"
      ]
     },
     "metadata": {
      "tags": []
     },
     "output_type": "display_data"
    },
    {
     "data": {
      "application/vnd.jupyter.widget-view+json": {
       "model_id": "be51efa6437f4682918bd70d857231b0",
       "version_major": 2,
       "version_minor": 0
      },
      "text/plain": [
       "VBox(children=(Label(value=' 0.39MB of 0.39MB uploaded (0.00MB deduped)\\r'), FloatProgress(value=1.0, max=1.0)…"
      ]
     },
     "metadata": {
      "tags": []
     },
     "output_type": "display_data"
    },
    {
     "data": {
      "text/html": [
       "Find user logs for this run at: <code>/content/wandb/run-20210510_114220-wv28k353/logs/debug.log</code>"
      ],
      "text/plain": [
       "<IPython.core.display.HTML object>"
      ]
     },
     "metadata": {
      "tags": []
     },
     "output_type": "display_data"
    },
    {
     "data": {
      "text/html": [
       "Find internal logs for this run at: <code>/content/wandb/run-20210510_114220-wv28k353/logs/debug-internal.log</code>"
      ],
      "text/plain": [
       "<IPython.core.display.HTML object>"
      ]
     },
     "metadata": {
      "tags": []
     },
     "output_type": "display_data"
    },
    {
     "data": {
      "text/html": [
       "<h3>Run summary:</h3><br/><style>\n",
       "    table.wandb td:nth-child(1) { padding: 0 10px; text-align: right }\n",
       "    </style><table class=\"wandb\">\n",
       "<tr><td>epoch</td><td>29</td></tr><tr><td>loss</td><td>0.06213</td></tr><tr><td>mae</td><td>0.19244</td></tr><tr><td>val_loss</td><td>0.08825</td></tr><tr><td>val_mae</td><td>0.22897</td></tr><tr><td>_runtime</td><td>696</td></tr><tr><td>_timestamp</td><td>1620647636</td></tr><tr><td>_step</td><td>31</td></tr><tr><td>best_val_loss</td><td>0.08825</td></tr><tr><td>best_epoch</td><td>29</td></tr><tr><td>test_loss</td><td>0.13285</td></tr><tr><td>test_mae</td><td>0.27529</td></tr></table>"
      ],
      "text/plain": [
       "<IPython.core.display.HTML object>"
      ]
     },
     "metadata": {
      "tags": []
     },
     "output_type": "display_data"
    },
    {
     "data": {
      "text/html": [
       "<h3>Run history:</h3><br/><style>\n",
       "    table.wandb td:nth-child(1) { padding: 0 10px; text-align: right }\n",
       "    </style><table class=\"wandb\">\n",
       "<tr><td>epoch</td><td>▁▁▁▂▂▂▂▃▃▃▃▄▄▄▄▅▅▅▅▆▆▆▆▇▇▇▇███</td></tr><tr><td>loss</td><td>█▅▃▃▂▂▂▂▂▂▂▂▂▂▁▁▁▁▁▁▁▁▁▁▁▁▁▁▁▁</td></tr><tr><td>mae</td><td>█▆▄▃▃▃▃▂▂▂▂▂▂▂▂▂▂▂▂▂▁▁▁▁▁▁▁▁▁▁</td></tr><tr><td>val_loss</td><td>█▄▃▂▂▂▂▂▂▂▁▁▁▂▁▂▁▁▁▁▁▁▁▁▁▁▂▁▁▁</td></tr><tr><td>val_mae</td><td>█▅▄▃▃▃▂▃▂▂▁▁▂▂▁▂▁▁▁▁▁▁▁▁▂▁▂▂▁▁</td></tr><tr><td>_runtime</td><td>▁▁▁▂▂▂▂▃▃▃▃▄▄▄▄▅▅▅▅▆▆▆▆▇▇▇▇█████</td></tr><tr><td>_timestamp</td><td>▁▁▁▂▂▂▂▃▃▃▃▄▄▄▄▅▅▅▅▆▆▆▆▇▇▇▇█████</td></tr><tr><td>_step</td><td>▁▁▁▂▂▂▂▃▃▃▃▃▄▄▄▄▅▅▅▅▆▆▆▆▆▇▇▇▇███</td></tr><tr><td>test_loss</td><td>▁</td></tr><tr><td>test_mae</td><td>▁</td></tr></table><br/>"
      ],
      "text/plain": [
       "<IPython.core.display.HTML object>"
      ]
     },
     "metadata": {
      "tags": []
     },
     "output_type": "display_data"
    },
    {
     "data": {
      "text/html": [
       "Synced 5 W&B file(s), 1 media file(s), 0 artifact file(s) and 1 other file(s)"
      ],
      "text/plain": [
       "<IPython.core.display.HTML object>"
      ]
     },
     "metadata": {
      "tags": []
     },
     "output_type": "display_data"
    },
    {
     "data": {
      "text/html": [
       "\n",
       "                    <br/>Synced <strong style=\"color:#cdcd00\">fine-sweep-1</strong>: <a href=\"https://wandb.ai/nbvanting/thesis/runs/wv28k353\" target=\"_blank\">https://wandb.ai/nbvanting/thesis/runs/wv28k353</a><br/>\n",
       "                "
      ],
      "text/plain": [
       "<IPython.core.display.HTML object>"
      ]
     },
     "metadata": {
      "tags": []
     },
     "output_type": "display_data"
    },
    {
     "name": "stderr",
     "output_type": "stream",
     "text": [
      "Run wv28k353 errored: IndexError('list index out of range')\n",
      "\u001b[34m\u001b[1mwandb\u001b[0m: \u001b[32m\u001b[41mERROR\u001b[0m Run wv28k353 errored: IndexError('list index out of range')\n",
      "\u001b[34m\u001b[1mwandb\u001b[0m: Agent Starting Run: rrxnc7sz with config:\n",
      "\u001b[34m\u001b[1mwandb\u001b[0m: \tactivation_cnn: relu\n",
      "\u001b[34m\u001b[1mwandb\u001b[0m: \tactivation_gru: tanh\n",
      "\u001b[34m\u001b[1mwandb\u001b[0m: \tbatch_size: 64\n",
      "\u001b[34m\u001b[1mwandb\u001b[0m: \tcnn_layer_size_1: 56\n",
      "\u001b[34m\u001b[1mwandb\u001b[0m: \tdataset: kolding\n",
      "\u001b[34m\u001b[1mwandb\u001b[0m: \tdropout: 0.2\n",
      "\u001b[34m\u001b[1mwandb\u001b[0m: \tepochs: 30\n",
      "\u001b[34m\u001b[1mwandb\u001b[0m: \tgru_layer_size_1: 96\n",
      "\u001b[34m\u001b[1mwandb\u001b[0m: \tkernelsize: 7\n",
      "\u001b[34m\u001b[1mwandb\u001b[0m: \tlearning_rate: 0.04\n",
      "\u001b[34m\u001b[1mwandb\u001b[0m: \tlookback: 744\n",
      "\u001b[34m\u001b[1mwandb\u001b[0m: \tmomentum: 0.9\n",
      "\u001b[34m\u001b[1mwandb\u001b[0m: \tnum_features: 9\n",
      "\u001b[34m\u001b[1mwandb\u001b[0m: \toptimizer: sgd\n",
      "\u001b[34m\u001b[1mwandb\u001b[0m: \tsplitmethod: offset\n",
      "\u001b[34m\u001b[1mwandb\u001b[0m: \tsplitrate: 0.8\n",
      "\u001b[34m\u001b[1mwandb\u001b[0m: \u001b[33mWARNING\u001b[0m Ignored wandb.init() arg project when running a sweep\n"
     ]
    },
    {
     "data": {
      "text/html": [
       "\n",
       "                Tracking run with wandb version 0.10.30<br/>\n",
       "                Syncing run <strong style=\"color:#cdcd00\">rich-sweep-2</strong> to <a href=\"https://wandb.ai\" target=\"_blank\">Weights & Biases</a> <a href=\"https://docs.wandb.com/integrations/jupyter.html\" target=\"_blank\">(Documentation)</a>.<br/>\n",
       "                Project page: <a href=\"https://wandb.ai/nbvanting/thesis\" target=\"_blank\">https://wandb.ai/nbvanting/thesis</a><br/>\n",
       "                Sweep page: <a href=\"https://wandb.ai/nbvanting/thesis/sweeps/0xw7ge82\" target=\"_blank\">https://wandb.ai/nbvanting/thesis/sweeps/0xw7ge82</a><br/>\n",
       "Run page: <a href=\"https://wandb.ai/nbvanting/thesis/runs/rrxnc7sz\" target=\"_blank\">https://wandb.ai/nbvanting/thesis/runs/rrxnc7sz</a><br/>\n",
       "                Run data is saved locally in <code>/content/wandb/run-20210510_115401-rrxnc7sz</code><br/><br/>\n",
       "            "
      ],
      "text/plain": [
       "<IPython.core.display.HTML object>"
      ]
     },
     "metadata": {
      "tags": []
     },
     "output_type": "display_data"
    },
    {
     "name": "stdout",
     "output_type": "stream",
     "text": [
      "Epoch 1/30\n",
      "229/229 [==============================] - 25s 100ms/step - loss: 0.5251 - mae: 0.5434 - val_loss: 0.2633 - val_mae: 0.4117\n",
      "Epoch 2/30\n",
      "229/229 [==============================] - 22s 94ms/step - loss: 0.2120 - mae: 0.3533 - val_loss: 0.1880 - val_mae: 0.3399\n",
      "Epoch 3/30\n",
      "229/229 [==============================] - 21s 92ms/step - loss: 0.1521 - mae: 0.3021 - val_loss: 0.1306 - val_mae: 0.2818\n",
      "Epoch 4/30\n",
      "229/229 [==============================] - 22s 95ms/step - loss: 0.1271 - mae: 0.2747 - val_loss: 0.1286 - val_mae: 0.2799\n",
      "Epoch 5/30\n",
      "229/229 [==============================] - 21s 91ms/step - loss: 0.1277 - mae: 0.2735 - val_loss: 0.1470 - val_mae: 0.2946\n",
      "Epoch 6/30\n",
      "229/229 [==============================] - 22s 94ms/step - loss: 0.1224 - mae: 0.2710 - val_loss: 0.1282 - val_mae: 0.2753\n",
      "Epoch 7/30\n",
      "229/229 [==============================] - 22s 94ms/step - loss: 0.1078 - mae: 0.2531 - val_loss: 0.1150 - val_mae: 0.2646\n",
      "Epoch 8/30\n",
      "229/229 [==============================] - 22s 94ms/step - loss: 0.1024 - mae: 0.2459 - val_loss: 0.1115 - val_mae: 0.2617\n",
      "Epoch 9/30\n",
      "229/229 [==============================] - 22s 94ms/step - loss: 0.0951 - mae: 0.2361 - val_loss: 0.1055 - val_mae: 0.2539\n",
      "Epoch 10/30\n",
      "229/229 [==============================] - 21s 93ms/step - loss: 0.0942 - mae: 0.2370 - val_loss: 0.1241 - val_mae: 0.2708\n",
      "Epoch 11/30\n",
      "229/229 [==============================] - 22s 96ms/step - loss: 0.0914 - mae: 0.2329 - val_loss: 0.1123 - val_mae: 0.2524\n",
      "Epoch 12/30\n",
      "229/229 [==============================] - 21s 93ms/step - loss: 0.0922 - mae: 0.2342 - val_loss: 0.0962 - val_mae: 0.2393\n",
      "Epoch 13/30\n",
      "229/229 [==============================] - 22s 94ms/step - loss: 0.0910 - mae: 0.2336 - val_loss: 0.0995 - val_mae: 0.2440\n",
      "Epoch 14/30\n",
      "229/229 [==============================] - 21s 93ms/step - loss: 0.0894 - mae: 0.2303 - val_loss: 0.0977 - val_mae: 0.2382\n",
      "Epoch 15/30\n",
      "229/229 [==============================] - 22s 96ms/step - loss: 0.0850 - mae: 0.2245 - val_loss: 0.1087 - val_mae: 0.2526\n",
      "Epoch 16/30\n",
      "229/229 [==============================] - 21s 93ms/step - loss: 0.0868 - mae: 0.2251 - val_loss: 0.0969 - val_mae: 0.2368\n",
      "Epoch 17/30\n",
      "229/229 [==============================] - 22s 95ms/step - loss: 0.0844 - mae: 0.2240 - val_loss: 0.1162 - val_mae: 0.2613\n",
      "Epoch 18/30\n",
      "229/229 [==============================] - 22s 96ms/step - loss: 0.0784 - mae: 0.2150 - val_loss: 0.0921 - val_mae: 0.2307\n",
      "Epoch 19/30\n",
      "229/229 [==============================] - 21s 90ms/step - loss: 0.0712 - mae: 0.2048 - val_loss: 0.0929 - val_mae: 0.2329\n",
      "Epoch 20/30\n",
      "229/229 [==============================] - 21s 92ms/step - loss: 0.0712 - mae: 0.2053 - val_loss: 0.1010 - val_mae: 0.2407\n",
      "Epoch 21/30\n",
      "229/229 [==============================] - 21s 92ms/step - loss: 0.0713 - mae: 0.2061 - val_loss: 0.1010 - val_mae: 0.2410\n",
      "Epoch 22/30\n",
      "229/229 [==============================] - 22s 96ms/step - loss: 0.0712 - mae: 0.2052 - val_loss: 0.1064 - val_mae: 0.2464\n",
      "Epoch 23/30\n",
      "229/229 [==============================] - 21s 93ms/step - loss: 0.0704 - mae: 0.2036 - val_loss: 0.1002 - val_mae: 0.2442\n",
      "Epoch 24/30\n",
      "229/229 [==============================] - 22s 97ms/step - loss: 0.0667 - mae: 0.1980 - val_loss: 0.0855 - val_mae: 0.2233\n",
      "Epoch 25/30\n",
      "229/229 [==============================] - 22s 96ms/step - loss: 0.0643 - mae: 0.1944 - val_loss: 0.0863 - val_mae: 0.2242\n",
      "Epoch 26/30\n",
      "229/229 [==============================] - 22s 94ms/step - loss: 0.0632 - mae: 0.1932 - val_loss: 0.0924 - val_mae: 0.2309\n",
      "Epoch 27/30\n",
      "229/229 [==============================] - 21s 93ms/step - loss: 0.0637 - mae: 0.1940 - val_loss: 0.0885 - val_mae: 0.2267\n",
      "Epoch 28/30\n",
      "229/229 [==============================] - 22s 94ms/step - loss: 0.0620 - mae: 0.1920 - val_loss: 0.0868 - val_mae: 0.2237\n",
      "Epoch 29/30\n",
      "229/229 [==============================] - 21s 93ms/step - loss: 0.0611 - mae: 0.1896 - val_loss: 0.0895 - val_mae: 0.2268\n",
      "Epoch 30/30\n",
      "229/229 [==============================] - 22s 95ms/step - loss: 0.0604 - mae: 0.1887 - val_loss: 0.0869 - val_mae: 0.2249\n",
      "24/24 [==============================] - 1s 39ms/step - loss: 0.1357 - mae: 0.2806\n"
     ]
    },
    {
     "data": {
      "text/html": [
       "<br/>Waiting for W&B process to finish, PID 656<br/>Program failed with code 1.  Press ctrl-c to abort syncing."
      ],
      "text/plain": [
       "<IPython.core.display.HTML object>"
      ]
     },
     "metadata": {
      "tags": []
     },
     "output_type": "display_data"
    },
    {
     "data": {
      "application/vnd.jupyter.widget-view+json": {
       "model_id": "af5b88a1948d48feba25a15d781a4161",
       "version_major": 2,
       "version_minor": 0
      },
      "text/plain": [
       "VBox(children=(Label(value=' 0.40MB of 0.40MB uploaded (0.00MB deduped)\\r'), FloatProgress(value=1.0, max=1.0)…"
      ]
     },
     "metadata": {
      "tags": []
     },
     "output_type": "display_data"
    },
    {
     "data": {
      "text/html": [
       "Find user logs for this run at: <code>/content/wandb/run-20210510_115401-rrxnc7sz/logs/debug.log</code>"
      ],
      "text/plain": [
       "<IPython.core.display.HTML object>"
      ]
     },
     "metadata": {
      "tags": []
     },
     "output_type": "display_data"
    },
    {
     "data": {
      "text/html": [
       "Find internal logs for this run at: <code>/content/wandb/run-20210510_115401-rrxnc7sz/logs/debug-internal.log</code>"
      ],
      "text/plain": [
       "<IPython.core.display.HTML object>"
      ]
     },
     "metadata": {
      "tags": []
     },
     "output_type": "display_data"
    },
    {
     "data": {
      "text/html": [
       "<h3>Run summary:</h3><br/><style>\n",
       "    table.wandb td:nth-child(1) { padding: 0 10px; text-align: right }\n",
       "    </style><table class=\"wandb\">\n",
       "<tr><td>epoch</td><td>29</td></tr><tr><td>loss</td><td>0.05864</td></tr><tr><td>mae</td><td>0.18607</td></tr><tr><td>val_loss</td><td>0.08694</td></tr><tr><td>val_mae</td><td>0.22492</td></tr><tr><td>_runtime</td><td>657</td></tr><tr><td>_timestamp</td><td>1620648298</td></tr><tr><td>_step</td><td>31</td></tr><tr><td>best_val_loss</td><td>0.08546</td></tr><tr><td>best_epoch</td><td>23</td></tr><tr><td>test_loss</td><td>0.1357</td></tr><tr><td>test_mae</td><td>0.28059</td></tr></table>"
      ],
      "text/plain": [
       "<IPython.core.display.HTML object>"
      ]
     },
     "metadata": {
      "tags": []
     },
     "output_type": "display_data"
    },
    {
     "data": {
      "text/html": [
       "<h3>Run history:</h3><br/><style>\n",
       "    table.wandb td:nth-child(1) { padding: 0 10px; text-align: right }\n",
       "    </style><table class=\"wandb\">\n",
       "<tr><td>epoch</td><td>▁▁▁▂▂▂▂▃▃▃▃▄▄▄▄▅▅▅▅▆▆▆▆▇▇▇▇███</td></tr><tr><td>loss</td><td>█▄▃▂▂▂▂▂▂▂▂▂▂▂▂▂▂▁▁▁▁▁▁▁▁▁▁▁▁▁</td></tr><tr><td>mae</td><td>█▅▄▃▃▃▃▃▂▂▂▂▂▂▂▂▂▂▁▁▁▁▁▁▁▁▁▁▁▁</td></tr><tr><td>val_loss</td><td>█▅▃▃▃▃▂▂▂▃▂▁▂▁▂▁▂▁▁▂▂▂▂▁▁▁▁▁▁▁</td></tr><tr><td>val_mae</td><td>█▅▃▃▄▃▃▂▂▃▂▂▂▂▂▂▂▁▁▂▂▂▂▁▁▁▁▁▁▁</td></tr><tr><td>_runtime</td><td>▁▁▁▂▂▂▂▃▃▃▃▄▄▄▄▅▅▅▅▆▆▆▆▇▇▇▇▇████</td></tr><tr><td>_timestamp</td><td>▁▁▁▂▂▂▂▃▃▃▃▄▄▄▄▅▅▅▅▆▆▆▆▇▇▇▇▇████</td></tr><tr><td>_step</td><td>▁▁▁▂▂▂▂▃▃▃▃▃▄▄▄▄▅▅▅▅▆▆▆▆▆▇▇▇▇███</td></tr><tr><td>test_loss</td><td>▁</td></tr><tr><td>test_mae</td><td>▁</td></tr></table><br/>"
      ],
      "text/plain": [
       "<IPython.core.display.HTML object>"
      ]
     },
     "metadata": {
      "tags": []
     },
     "output_type": "display_data"
    },
    {
     "data": {
      "text/html": [
       "Synced 5 W&B file(s), 1 media file(s), 0 artifact file(s) and 1 other file(s)"
      ],
      "text/plain": [
       "<IPython.core.display.HTML object>"
      ]
     },
     "metadata": {
      "tags": []
     },
     "output_type": "display_data"
    },
    {
     "data": {
      "text/html": [
       "\n",
       "                    <br/>Synced <strong style=\"color:#cdcd00\">rich-sweep-2</strong>: <a href=\"https://wandb.ai/nbvanting/thesis/runs/rrxnc7sz\" target=\"_blank\">https://wandb.ai/nbvanting/thesis/runs/rrxnc7sz</a><br/>\n",
       "                "
      ],
      "text/plain": [
       "<IPython.core.display.HTML object>"
      ]
     },
     "metadata": {
      "tags": []
     },
     "output_type": "display_data"
    },
    {
     "name": "stderr",
     "output_type": "stream",
     "text": [
      "Run rrxnc7sz errored: IndexError('list index out of range')\n",
      "\u001b[34m\u001b[1mwandb\u001b[0m: \u001b[32m\u001b[41mERROR\u001b[0m Run rrxnc7sz errored: IndexError('list index out of range')\n",
      "\u001b[34m\u001b[1mwandb\u001b[0m: Agent Starting Run: 0j1ce7bo with config:\n",
      "\u001b[34m\u001b[1mwandb\u001b[0m: \tactivation_cnn: relu\n",
      "\u001b[34m\u001b[1mwandb\u001b[0m: \tactivation_gru: tanh\n",
      "\u001b[34m\u001b[1mwandb\u001b[0m: \tbatch_size: 64\n",
      "\u001b[34m\u001b[1mwandb\u001b[0m: \tcnn_layer_size_1: 56\n",
      "\u001b[34m\u001b[1mwandb\u001b[0m: \tdataset: kolding\n",
      "\u001b[34m\u001b[1mwandb\u001b[0m: \tdropout: 0.2\n",
      "\u001b[34m\u001b[1mwandb\u001b[0m: \tepochs: 30\n",
      "\u001b[34m\u001b[1mwandb\u001b[0m: \tgru_layer_size_1: 192\n",
      "\u001b[34m\u001b[1mwandb\u001b[0m: \tkernelsize: 3\n",
      "\u001b[34m\u001b[1mwandb\u001b[0m: \tlearning_rate: 0.04\n",
      "\u001b[34m\u001b[1mwandb\u001b[0m: \tlookback: 744\n",
      "\u001b[34m\u001b[1mwandb\u001b[0m: \tmomentum: 0.9\n",
      "\u001b[34m\u001b[1mwandb\u001b[0m: \tnum_features: 9\n",
      "\u001b[34m\u001b[1mwandb\u001b[0m: \toptimizer: sgd\n",
      "\u001b[34m\u001b[1mwandb\u001b[0m: \tsplitmethod: offset\n",
      "\u001b[34m\u001b[1mwandb\u001b[0m: \tsplitrate: 0.8\n",
      "\u001b[34m\u001b[1mwandb\u001b[0m: \u001b[33mWARNING\u001b[0m Ignored wandb.init() arg project when running a sweep\n"
     ]
    },
    {
     "data": {
      "text/html": [
       "\n",
       "                Tracking run with wandb version 0.10.30<br/>\n",
       "                Syncing run <strong style=\"color:#cdcd00\">radiant-sweep-3</strong> to <a href=\"https://wandb.ai\" target=\"_blank\">Weights & Biases</a> <a href=\"https://docs.wandb.com/integrations/jupyter.html\" target=\"_blank\">(Documentation)</a>.<br/>\n",
       "                Project page: <a href=\"https://wandb.ai/nbvanting/thesis\" target=\"_blank\">https://wandb.ai/nbvanting/thesis</a><br/>\n",
       "                Sweep page: <a href=\"https://wandb.ai/nbvanting/thesis/sweeps/0xw7ge82\" target=\"_blank\">https://wandb.ai/nbvanting/thesis/sweeps/0xw7ge82</a><br/>\n",
       "Run page: <a href=\"https://wandb.ai/nbvanting/thesis/runs/0j1ce7bo\" target=\"_blank\">https://wandb.ai/nbvanting/thesis/runs/0j1ce7bo</a><br/>\n",
       "                Run data is saved locally in <code>/content/wandb/run-20210510_120503-0j1ce7bo</code><br/><br/>\n",
       "            "
      ],
      "text/plain": [
       "<IPython.core.display.HTML object>"
      ]
     },
     "metadata": {
      "tags": []
     },
     "output_type": "display_data"
    },
    {
     "name": "stdout",
     "output_type": "stream",
     "text": [
      "Epoch 1/30\n",
      "229/229 [==============================] - 24s 97ms/step - loss: 0.5542 - mae: 0.5492 - val_loss: 0.3515 - val_mae: 0.4403\n",
      "Epoch 2/30\n",
      "229/229 [==============================] - 21s 93ms/step - loss: 0.3231 - mae: 0.4258 - val_loss: 0.2590 - val_mae: 0.3937\n",
      "Epoch 3/30\n",
      "229/229 [==============================] - 22s 94ms/step - loss: 0.2226 - mae: 0.3612 - val_loss: 0.2083 - val_mae: 0.3666\n",
      "Epoch 4/30\n",
      "229/229 [==============================] - 22s 94ms/step - loss: 0.1738 - mae: 0.3224 - val_loss: 0.1321 - val_mae: 0.2841\n",
      "Epoch 5/30\n",
      "229/229 [==============================] - 22s 95ms/step - loss: 0.1352 - mae: 0.2862 - val_loss: 0.1383 - val_mae: 0.2913\n",
      "Epoch 6/30\n",
      "229/229 [==============================] - 22s 96ms/step - loss: 0.1233 - mae: 0.2727 - val_loss: 0.1166 - val_mae: 0.2696\n",
      "Epoch 7/30\n",
      "229/229 [==============================] - 22s 95ms/step - loss: 0.1146 - mae: 0.2611 - val_loss: 0.1481 - val_mae: 0.3015\n",
      "Epoch 8/30\n",
      "229/229 [==============================] - 22s 95ms/step - loss: 0.1085 - mae: 0.2539 - val_loss: 0.1080 - val_mae: 0.2567\n",
      "Epoch 9/30\n",
      "229/229 [==============================] - 22s 95ms/step - loss: 0.1053 - mae: 0.2515 - val_loss: 0.1408 - val_mae: 0.2896\n",
      "Epoch 10/30\n",
      "229/229 [==============================] - 22s 94ms/step - loss: 0.1006 - mae: 0.2460 - val_loss: 0.1113 - val_mae: 0.2514\n",
      "Epoch 11/30\n",
      "229/229 [==============================] - 22s 95ms/step - loss: 0.1021 - mae: 0.2466 - val_loss: 0.1178 - val_mae: 0.2644\n",
      "Epoch 12/30\n",
      "229/229 [==============================] - 22s 94ms/step - loss: 0.0926 - mae: 0.2347 - val_loss: 0.1167 - val_mae: 0.2625\n",
      "Epoch 13/30\n",
      "229/229 [==============================] - 22s 96ms/step - loss: 0.0919 - mae: 0.2351 - val_loss: 0.0954 - val_mae: 0.2357\n",
      "Epoch 14/30\n",
      "229/229 [==============================] - 22s 95ms/step - loss: 0.0934 - mae: 0.2343 - val_loss: 0.1100 - val_mae: 0.2520\n",
      "Epoch 15/30\n",
      "229/229 [==============================] - 22s 96ms/step - loss: 0.0904 - mae: 0.2310 - val_loss: 0.0949 - val_mae: 0.2404\n",
      "Epoch 16/30\n",
      "229/229 [==============================] - 22s 95ms/step - loss: 0.0857 - mae: 0.2238 - val_loss: 0.1018 - val_mae: 0.2465\n",
      "Epoch 17/30\n",
      "229/229 [==============================] - 22s 94ms/step - loss: 0.0890 - mae: 0.2316 - val_loss: 0.0941 - val_mae: 0.2351\n",
      "Epoch 18/30\n",
      "229/229 [==============================] - 22s 95ms/step - loss: 0.0809 - mae: 0.2181 - val_loss: 0.0950 - val_mae: 0.2369\n",
      "Epoch 19/30\n",
      "229/229 [==============================] - 22s 95ms/step - loss: 0.0822 - mae: 0.2208 - val_loss: 0.1019 - val_mae: 0.2438\n",
      "Epoch 20/30\n",
      "229/229 [==============================] - 22s 95ms/step - loss: 0.0779 - mae: 0.2157 - val_loss: 0.1051 - val_mae: 0.2433\n",
      "Epoch 21/30\n",
      "229/229 [==============================] - 22s 96ms/step - loss: 0.0805 - mae: 0.2183 - val_loss: 0.0918 - val_mae: 0.2325\n",
      "Epoch 22/30\n",
      "229/229 [==============================] - 22s 95ms/step - loss: 0.0770 - mae: 0.2134 - val_loss: 0.0999 - val_mae: 0.2375\n",
      "Epoch 23/30\n",
      "229/229 [==============================] - 22s 95ms/step - loss: 0.0777 - mae: 0.2134 - val_loss: 0.1008 - val_mae: 0.2412\n",
      "Epoch 24/30\n",
      "229/229 [==============================] - 22s 96ms/step - loss: 0.0777 - mae: 0.2143 - val_loss: 0.1047 - val_mae: 0.2439\n",
      "Epoch 25/30\n",
      "229/229 [==============================] - 22s 95ms/step - loss: 0.0749 - mae: 0.2099 - val_loss: 0.0946 - val_mae: 0.2372\n",
      "Epoch 26/30\n",
      "229/229 [==============================] - 22s 96ms/step - loss: 0.0755 - mae: 0.2109 - val_loss: 0.0964 - val_mae: 0.2356\n",
      "Epoch 27/30\n",
      "229/229 [==============================] - 22s 96ms/step - loss: 0.0682 - mae: 0.2008 - val_loss: 0.0886 - val_mae: 0.2278\n",
      "Epoch 28/30\n",
      "229/229 [==============================] - 22s 95ms/step - loss: 0.0663 - mae: 0.1980 - val_loss: 0.0868 - val_mae: 0.2258\n",
      "Epoch 29/30\n",
      "229/229 [==============================] - 22s 96ms/step - loss: 0.0652 - mae: 0.1968 - val_loss: 0.0871 - val_mae: 0.2235\n",
      "Epoch 30/30\n",
      "229/229 [==============================] - 22s 96ms/step - loss: 0.0650 - mae: 0.1952 - val_loss: 0.0919 - val_mae: 0.2267\n",
      "24/24 [==============================] - 1s 37ms/step - loss: 0.1304 - mae: 0.2762\n"
     ]
    },
    {
     "data": {
      "text/html": [
       "<br/>Waiting for W&B process to finish, PID 1022<br/>Program failed with code 1.  Press ctrl-c to abort syncing."
      ],
      "text/plain": [
       "<IPython.core.display.HTML object>"
      ]
     },
     "metadata": {
      "tags": []
     },
     "output_type": "display_data"
    },
    {
     "data": {
      "application/vnd.jupyter.widget-view+json": {
       "model_id": "f10639aabdfe405ab2f7afd2cd9747fe",
       "version_major": 2,
       "version_minor": 0
      },
      "text/plain": [
       "VBox(children=(Label(value=' 1.15MB of 1.15MB uploaded (0.00MB deduped)\\r'), FloatProgress(value=1.0, max=1.0)…"
      ]
     },
     "metadata": {
      "tags": []
     },
     "output_type": "display_data"
    },
    {
     "data": {
      "text/html": [
       "Find user logs for this run at: <code>/content/wandb/run-20210510_120503-0j1ce7bo/logs/debug.log</code>"
      ],
      "text/plain": [
       "<IPython.core.display.HTML object>"
      ]
     },
     "metadata": {
      "tags": []
     },
     "output_type": "display_data"
    },
    {
     "data": {
      "text/html": [
       "Find internal logs for this run at: <code>/content/wandb/run-20210510_120503-0j1ce7bo/logs/debug-internal.log</code>"
      ],
      "text/plain": [
       "<IPython.core.display.HTML object>"
      ]
     },
     "metadata": {
      "tags": []
     },
     "output_type": "display_data"
    },
    {
     "data": {
      "text/html": [
       "<h3>Run summary:</h3><br/><style>\n",
       "    table.wandb td:nth-child(1) { padding: 0 10px; text-align: right }\n",
       "    </style><table class=\"wandb\">\n",
       "<tr><td>epoch</td><td>29</td></tr><tr><td>loss</td><td>0.06405</td></tr><tr><td>mae</td><td>0.19434</td></tr><tr><td>val_loss</td><td>0.09186</td></tr><tr><td>val_mae</td><td>0.2267</td></tr><tr><td>_runtime</td><td>664</td></tr><tr><td>_timestamp</td><td>1620648967</td></tr><tr><td>_step</td><td>31</td></tr><tr><td>best_val_loss</td><td>0.08685</td></tr><tr><td>best_epoch</td><td>27</td></tr><tr><td>test_loss</td><td>0.13044</td></tr><tr><td>test_mae</td><td>0.27619</td></tr></table>"
      ],
      "text/plain": [
       "<IPython.core.display.HTML object>"
      ]
     },
     "metadata": {
      "tags": []
     },
     "output_type": "display_data"
    },
    {
     "data": {
      "text/html": [
       "<h3>Run history:</h3><br/><style>\n",
       "    table.wandb td:nth-child(1) { padding: 0 10px; text-align: right }\n",
       "    </style><table class=\"wandb\">\n",
       "<tr><td>epoch</td><td>▁▁▁▂▂▂▂▃▃▃▃▄▄▄▄▅▅▅▅▆▆▆▆▇▇▇▇███</td></tr><tr><td>loss</td><td>█▅▄▃▂▂▂▂▂▂▂▂▁▂▁▁▁▁▁▁▁▁▁▁▁▁▁▁▁▁</td></tr><tr><td>mae</td><td>█▆▅▄▃▃▃▂▂▂▂▂▂▂▂▂▂▂▂▁▂▂▁▁▁▁▁▁▁▁</td></tr><tr><td>val_loss</td><td>█▆▄▂▂▂▃▂▂▂▂▂▁▂▁▁▁▁▁▁▁▁▁▁▁▁▁▁▁▁</td></tr><tr><td>val_mae</td><td>█▆▆▃▃▂▄▂▃▂▂▂▁▂▂▂▁▁▂▂▁▁▂▂▁▁▁▁▁▁</td></tr><tr><td>_runtime</td><td>▁▁▁▂▂▂▂▃▃▃▃▄▄▄▄▅▅▅▅▆▆▆▆▇▇▇▇█████</td></tr><tr><td>_timestamp</td><td>▁▁▁▂▂▂▂▃▃▃▃▄▄▄▄▅▅▅▅▆▆▆▆▇▇▇▇█████</td></tr><tr><td>_step</td><td>▁▁▁▂▂▂▂▃▃▃▃▃▄▄▄▄▅▅▅▅▆▆▆▆▆▇▇▇▇███</td></tr><tr><td>test_loss</td><td>▁</td></tr><tr><td>test_mae</td><td>▁</td></tr></table><br/>"
      ],
      "text/plain": [
       "<IPython.core.display.HTML object>"
      ]
     },
     "metadata": {
      "tags": []
     },
     "output_type": "display_data"
    },
    {
     "data": {
      "text/html": [
       "Synced 5 W&B file(s), 1 media file(s), 0 artifact file(s) and 1 other file(s)"
      ],
      "text/plain": [
       "<IPython.core.display.HTML object>"
      ]
     },
     "metadata": {
      "tags": []
     },
     "output_type": "display_data"
    },
    {
     "data": {
      "text/html": [
       "\n",
       "                    <br/>Synced <strong style=\"color:#cdcd00\">radiant-sweep-3</strong>: <a href=\"https://wandb.ai/nbvanting/thesis/runs/0j1ce7bo\" target=\"_blank\">https://wandb.ai/nbvanting/thesis/runs/0j1ce7bo</a><br/>\n",
       "                "
      ],
      "text/plain": [
       "<IPython.core.display.HTML object>"
      ]
     },
     "metadata": {
      "tags": []
     },
     "output_type": "display_data"
    },
    {
     "name": "stderr",
     "output_type": "stream",
     "text": [
      "Run 0j1ce7bo errored: IndexError('list index out of range')\n",
      "\u001b[34m\u001b[1mwandb\u001b[0m: \u001b[32m\u001b[41mERROR\u001b[0m Run 0j1ce7bo errored: IndexError('list index out of range')\n",
      "\u001b[34m\u001b[1mwandb\u001b[0m: Agent Starting Run: 9pxe8l58 with config:\n",
      "\u001b[34m\u001b[1mwandb\u001b[0m: \tactivation_cnn: relu\n",
      "\u001b[34m\u001b[1mwandb\u001b[0m: \tactivation_gru: tanh\n",
      "\u001b[34m\u001b[1mwandb\u001b[0m: \tbatch_size: 64\n",
      "\u001b[34m\u001b[1mwandb\u001b[0m: \tcnn_layer_size_1: 56\n",
      "\u001b[34m\u001b[1mwandb\u001b[0m: \tdataset: kolding\n",
      "\u001b[34m\u001b[1mwandb\u001b[0m: \tdropout: 0.2\n",
      "\u001b[34m\u001b[1mwandb\u001b[0m: \tepochs: 30\n",
      "\u001b[34m\u001b[1mwandb\u001b[0m: \tgru_layer_size_1: 192\n",
      "\u001b[34m\u001b[1mwandb\u001b[0m: \tkernelsize: 7\n",
      "\u001b[34m\u001b[1mwandb\u001b[0m: \tlearning_rate: 0.04\n",
      "\u001b[34m\u001b[1mwandb\u001b[0m: \tlookback: 744\n",
      "\u001b[34m\u001b[1mwandb\u001b[0m: \tmomentum: 0.9\n",
      "\u001b[34m\u001b[1mwandb\u001b[0m: \tnum_features: 9\n",
      "\u001b[34m\u001b[1mwandb\u001b[0m: \toptimizer: sgd\n",
      "\u001b[34m\u001b[1mwandb\u001b[0m: \tsplitmethod: offset\n",
      "\u001b[34m\u001b[1mwandb\u001b[0m: \tsplitrate: 0.8\n",
      "\u001b[34m\u001b[1mwandb\u001b[0m: \u001b[33mWARNING\u001b[0m Ignored wandb.init() arg project when running a sweep\n"
     ]
    },
    {
     "data": {
      "text/html": [
       "\n",
       "                Tracking run with wandb version 0.10.30<br/>\n",
       "                Syncing run <strong style=\"color:#cdcd00\">glowing-sweep-4</strong> to <a href=\"https://wandb.ai\" target=\"_blank\">Weights & Biases</a> <a href=\"https://docs.wandb.com/integrations/jupyter.html\" target=\"_blank\">(Documentation)</a>.<br/>\n",
       "                Project page: <a href=\"https://wandb.ai/nbvanting/thesis\" target=\"_blank\">https://wandb.ai/nbvanting/thesis</a><br/>\n",
       "                Sweep page: <a href=\"https://wandb.ai/nbvanting/thesis/sweeps/0xw7ge82\" target=\"_blank\">https://wandb.ai/nbvanting/thesis/sweeps/0xw7ge82</a><br/>\n",
       "Run page: <a href=\"https://wandb.ai/nbvanting/thesis/runs/9pxe8l58\" target=\"_blank\">https://wandb.ai/nbvanting/thesis/runs/9pxe8l58</a><br/>\n",
       "                Run data is saved locally in <code>/content/wandb/run-20210510_121613-9pxe8l58</code><br/><br/>\n",
       "            "
      ],
      "text/plain": [
       "<IPython.core.display.HTML object>"
      ]
     },
     "metadata": {
      "tags": []
     },
     "output_type": "display_data"
    },
    {
     "name": "stdout",
     "output_type": "stream",
     "text": [
      "Epoch 1/30\n",
      "  6/229 [..............................] - ETA: 26s - loss: 0.9431 - mae: 0.7512WARNING:tensorflow:Callback method `on_train_batch_end` is slow compared to the batch time (batch time: 0.0533s vs `on_train_batch_end` time: 0.0656s). Check your callbacks.\n",
      "229/229 [==============================] - 25s 99ms/step - loss: 0.5213 - mae: 0.5395 - val_loss: 0.2252 - val_mae: 0.3557\n",
      "Epoch 2/30\n",
      "229/229 [==============================] - 22s 96ms/step - loss: 0.2121 - mae: 0.3530 - val_loss: 0.1568 - val_mae: 0.2984\n",
      "Epoch 3/30\n",
      "229/229 [==============================] - 22s 96ms/step - loss: 0.1524 - mae: 0.3012 - val_loss: 0.1557 - val_mae: 0.3033\n",
      "Epoch 4/30\n",
      "229/229 [==============================] - 22s 95ms/step - loss: 0.1375 - mae: 0.2840 - val_loss: 0.1485 - val_mae: 0.2899\n",
      "Epoch 5/30\n",
      "229/229 [==============================] - 22s 96ms/step - loss: 0.1364 - mae: 0.2833 - val_loss: 0.1247 - val_mae: 0.2754\n",
      "Epoch 6/30\n",
      "229/229 [==============================] - 22s 95ms/step - loss: 0.1221 - mae: 0.2677 - val_loss: 0.1346 - val_mae: 0.2861\n",
      "Epoch 7/30\n",
      "229/229 [==============================] - 22s 95ms/step - loss: 0.1079 - mae: 0.2513 - val_loss: 0.1562 - val_mae: 0.3127\n",
      "Epoch 8/30\n",
      "229/229 [==============================] - 22s 95ms/step - loss: 0.1138 - mae: 0.2582 - val_loss: 0.1072 - val_mae: 0.2494\n",
      "Epoch 9/30\n",
      "229/229 [==============================] - 22s 96ms/step - loss: 0.0999 - mae: 0.2435 - val_loss: 0.1221 - val_mae: 0.2705\n",
      "Epoch 10/30\n",
      "229/229 [==============================] - 22s 96ms/step - loss: 0.0958 - mae: 0.2388 - val_loss: 0.1014 - val_mae: 0.2437\n",
      "Epoch 11/30\n",
      "229/229 [==============================] - 22s 95ms/step - loss: 0.1015 - mae: 0.2444 - val_loss: 0.1078 - val_mae: 0.2534\n",
      "Epoch 12/30\n",
      "229/229 [==============================] - 22s 96ms/step - loss: 0.0905 - mae: 0.2283 - val_loss: 0.1068 - val_mae: 0.2472\n",
      "Epoch 13/30\n",
      "229/229 [==============================] - 22s 95ms/step - loss: 0.0930 - mae: 0.2340 - val_loss: 0.1124 - val_mae: 0.2565\n",
      "Epoch 14/30\n",
      "229/229 [==============================] - 22s 98ms/step - loss: 0.0862 - mae: 0.2250 - val_loss: 0.1301 - val_mae: 0.2740\n",
      "Epoch 15/30\n",
      "229/229 [==============================] - 23s 98ms/step - loss: 0.0933 - mae: 0.2332 - val_loss: 0.1140 - val_mae: 0.2611\n",
      "Epoch 16/30\n",
      "229/229 [==============================] - 22s 98ms/step - loss: 0.0782 - mae: 0.2147 - val_loss: 0.1140 - val_mae: 0.2621\n",
      "Epoch 17/30\n",
      "229/229 [==============================] - 23s 98ms/step - loss: 0.0738 - mae: 0.2085 - val_loss: 0.0966 - val_mae: 0.2371\n",
      "Epoch 18/30\n",
      "229/229 [==============================] - 22s 97ms/step - loss: 0.0753 - mae: 0.2095 - val_loss: 0.0910 - val_mae: 0.2301\n",
      "Epoch 19/30\n",
      "229/229 [==============================] - 23s 98ms/step - loss: 0.0729 - mae: 0.2070 - val_loss: 0.0955 - val_mae: 0.2379\n",
      "Epoch 20/30\n",
      "229/229 [==============================] - 22s 98ms/step - loss: 0.0720 - mae: 0.2064 - val_loss: 0.0957 - val_mae: 0.2395\n",
      "Epoch 21/30\n",
      "229/229 [==============================] - 23s 98ms/step - loss: 0.0720 - mae: 0.2050 - val_loss: 0.0940 - val_mae: 0.2327\n",
      "Epoch 22/30\n",
      "229/229 [==============================] - 23s 98ms/step - loss: 0.0698 - mae: 0.2017 - val_loss: 0.1014 - val_mae: 0.2454\n",
      "Epoch 23/30\n",
      "229/229 [==============================] - 23s 98ms/step - loss: 0.0690 - mae: 0.2022 - val_loss: 0.1089 - val_mae: 0.2543\n",
      "Epoch 24/30\n",
      "229/229 [==============================] - 23s 98ms/step - loss: 0.0644 - mae: 0.1949 - val_loss: 0.0879 - val_mae: 0.2267\n",
      "Epoch 25/30\n",
      "229/229 [==============================] - 23s 98ms/step - loss: 0.0631 - mae: 0.1930 - val_loss: 0.0934 - val_mae: 0.2343\n",
      "Epoch 26/30\n",
      "229/229 [==============================] - 23s 98ms/step - loss: 0.0616 - mae: 0.1907 - val_loss: 0.0959 - val_mae: 0.2338\n",
      "Epoch 27/30\n",
      "229/229 [==============================] - 23s 99ms/step - loss: 0.0632 - mae: 0.1931 - val_loss: 0.0892 - val_mae: 0.2282\n",
      "Epoch 28/30\n",
      "229/229 [==============================] - 23s 99ms/step - loss: 0.0637 - mae: 0.1947 - val_loss: 0.0935 - val_mae: 0.2317\n",
      "Epoch 29/30\n",
      "229/229 [==============================] - 23s 99ms/step - loss: 0.0622 - mae: 0.1918 - val_loss: 0.0946 - val_mae: 0.2347\n",
      "Epoch 30/30\n",
      "229/229 [==============================] - 23s 99ms/step - loss: 0.0610 - mae: 0.1896 - val_loss: 0.0883 - val_mae: 0.2274\n",
      "24/24 [==============================] - 1s 39ms/step - loss: 0.1455 - mae: 0.2865\n"
     ]
    },
    {
     "data": {
      "text/html": [
       "<br/>Waiting for W&B process to finish, PID 1387<br/>Program failed with code 1.  Press ctrl-c to abort syncing."
      ],
      "text/plain": [
       "<IPython.core.display.HTML object>"
      ]
     },
     "metadata": {
      "tags": []
     },
     "output_type": "display_data"
    },
    {
     "data": {
      "application/vnd.jupyter.widget-view+json": {
       "model_id": "18f5bba252294f51bf10ee74f6bde486",
       "version_major": 2,
       "version_minor": 0
      },
      "text/plain": [
       "VBox(children=(Label(value=' 1.16MB of 1.16MB uploaded (0.00MB deduped)\\r'), FloatProgress(value=1.0, max=1.0)…"
      ]
     },
     "metadata": {
      "tags": []
     },
     "output_type": "display_data"
    },
    {
     "data": {
      "text/html": [
       "Find user logs for this run at: <code>/content/wandb/run-20210510_121613-9pxe8l58/logs/debug.log</code>"
      ],
      "text/plain": [
       "<IPython.core.display.HTML object>"
      ]
     },
     "metadata": {
      "tags": []
     },
     "output_type": "display_data"
    },
    {
     "data": {
      "text/html": [
       "Find internal logs for this run at: <code>/content/wandb/run-20210510_121613-9pxe8l58/logs/debug-internal.log</code>"
      ],
      "text/plain": [
       "<IPython.core.display.HTML object>"
      ]
     },
     "metadata": {
      "tags": []
     },
     "output_type": "display_data"
    },
    {
     "data": {
      "text/html": [
       "<h3>Run summary:</h3><br/><style>\n",
       "    table.wandb td:nth-child(1) { padding: 0 10px; text-align: right }\n",
       "    </style><table class=\"wandb\">\n",
       "<tr><td>epoch</td><td>29</td></tr><tr><td>loss</td><td>0.05811</td></tr><tr><td>mae</td><td>0.1854</td></tr><tr><td>val_loss</td><td>0.08826</td></tr><tr><td>val_mae</td><td>0.22737</td></tr><tr><td>_runtime</td><td>677</td></tr><tr><td>_timestamp</td><td>1620649650</td></tr><tr><td>_step</td><td>31</td></tr><tr><td>best_val_loss</td><td>0.08788</td></tr><tr><td>best_epoch</td><td>23</td></tr><tr><td>test_loss</td><td>0.14551</td></tr><tr><td>test_mae</td><td>0.28647</td></tr></table>"
      ],
      "text/plain": [
       "<IPython.core.display.HTML object>"
      ]
     },
     "metadata": {
      "tags": []
     },
     "output_type": "display_data"
    },
    {
     "data": {
      "text/html": [
       "<h3>Run history:</h3><br/><style>\n",
       "    table.wandb td:nth-child(1) { padding: 0 10px; text-align: right }\n",
       "    </style><table class=\"wandb\">\n",
       "<tr><td>epoch</td><td>▁▁▁▂▂▂▂▃▃▃▃▄▄▄▄▅▅▅▅▆▆▆▆▇▇▇▇███</td></tr><tr><td>loss</td><td>█▄▃▃▂▂▂▂▂▂▂▂▂▂▂▁▁▁▁▁▁▁▁▁▁▁▁▁▁▁</td></tr><tr><td>mae</td><td>█▅▄▃▃▃▃▃▂▂▂▂▂▂▂▂▂▂▂▁▁▁▁▁▁▁▁▁▁▁</td></tr><tr><td>val_loss</td><td>█▅▄▄▃▃▄▂▃▂▂▂▂▃▂▂▁▁▁▁▁▂▂▁▁▁▁▁▁▁</td></tr><tr><td>val_mae</td><td>█▅▅▄▄▄▆▂▃▂▂▂▃▄▃▃▂▁▂▂▁▂▂▁▁▁▁▁▁▁</td></tr><tr><td>_runtime</td><td>▁▁▁▂▂▂▂▃▃▃▃▄▄▄▄▅▅▅▅▆▆▆▆▇▇▇▇█████</td></tr><tr><td>_timestamp</td><td>▁▁▁▂▂▂▂▃▃▃▃▄▄▄▄▅▅▅▅▆▆▆▆▇▇▇▇█████</td></tr><tr><td>_step</td><td>▁▁▁▂▂▂▂▃▃▃▃▃▄▄▄▄▅▅▅▅▆▆▆▆▆▇▇▇▇███</td></tr><tr><td>test_loss</td><td>▁</td></tr><tr><td>test_mae</td><td>▁</td></tr></table><br/>"
      ],
      "text/plain": [
       "<IPython.core.display.HTML object>"
      ]
     },
     "metadata": {
      "tags": []
     },
     "output_type": "display_data"
    },
    {
     "data": {
      "text/html": [
       "Synced 5 W&B file(s), 1 media file(s), 0 artifact file(s) and 1 other file(s)"
      ],
      "text/plain": [
       "<IPython.core.display.HTML object>"
      ]
     },
     "metadata": {
      "tags": []
     },
     "output_type": "display_data"
    },
    {
     "data": {
      "text/html": [
       "\n",
       "                    <br/>Synced <strong style=\"color:#cdcd00\">glowing-sweep-4</strong>: <a href=\"https://wandb.ai/nbvanting/thesis/runs/9pxe8l58\" target=\"_blank\">https://wandb.ai/nbvanting/thesis/runs/9pxe8l58</a><br/>\n",
       "                "
      ],
      "text/plain": [
       "<IPython.core.display.HTML object>"
      ]
     },
     "metadata": {
      "tags": []
     },
     "output_type": "display_data"
    },
    {
     "name": "stderr",
     "output_type": "stream",
     "text": [
      "Run 9pxe8l58 errored: IndexError('list index out of range')\n",
      "\u001b[34m\u001b[1mwandb\u001b[0m: \u001b[32m\u001b[41mERROR\u001b[0m Run 9pxe8l58 errored: IndexError('list index out of range')\n",
      "\u001b[34m\u001b[1mwandb\u001b[0m: Sweep Agent: Waiting for job.\n",
      "\u001b[34m\u001b[1mwandb\u001b[0m: Job received.\n",
      "\u001b[34m\u001b[1mwandb\u001b[0m: Agent Starting Run: qbcuo68s with config:\n",
      "\u001b[34m\u001b[1mwandb\u001b[0m: \tactivation_cnn: relu\n",
      "\u001b[34m\u001b[1mwandb\u001b[0m: \tactivation_gru: tanh\n",
      "\u001b[34m\u001b[1mwandb\u001b[0m: \tbatch_size: 64\n",
      "\u001b[34m\u001b[1mwandb\u001b[0m: \tcnn_layer_size_1: 56\n",
      "\u001b[34m\u001b[1mwandb\u001b[0m: \tdataset: strib\n",
      "\u001b[34m\u001b[1mwandb\u001b[0m: \tdropout: 0.2\n",
      "\u001b[34m\u001b[1mwandb\u001b[0m: \tepochs: 30\n",
      "\u001b[34m\u001b[1mwandb\u001b[0m: \tgru_layer_size_1: 96\n",
      "\u001b[34m\u001b[1mwandb\u001b[0m: \tkernelsize: 3\n",
      "\u001b[34m\u001b[1mwandb\u001b[0m: \tlearning_rate: 0.04\n",
      "\u001b[34m\u001b[1mwandb\u001b[0m: \tlookback: 744\n",
      "\u001b[34m\u001b[1mwandb\u001b[0m: \tmomentum: 0.9\n",
      "\u001b[34m\u001b[1mwandb\u001b[0m: \tnum_features: 9\n",
      "\u001b[34m\u001b[1mwandb\u001b[0m: \toptimizer: sgd\n",
      "\u001b[34m\u001b[1mwandb\u001b[0m: \tsplitmethod: offset\n",
      "\u001b[34m\u001b[1mwandb\u001b[0m: \tsplitrate: 0.8\n",
      "\u001b[34m\u001b[1mwandb\u001b[0m: \u001b[33mWARNING\u001b[0m Ignored wandb.init() arg project when running a sweep\n"
     ]
    },
    {
     "data": {
      "text/html": [
       "\n",
       "                Tracking run with wandb version 0.10.30<br/>\n",
       "                Syncing run <strong style=\"color:#cdcd00\">icy-sweep-5</strong> to <a href=\"https://wandb.ai\" target=\"_blank\">Weights & Biases</a> <a href=\"https://docs.wandb.com/integrations/jupyter.html\" target=\"_blank\">(Documentation)</a>.<br/>\n",
       "                Project page: <a href=\"https://wandb.ai/nbvanting/thesis\" target=\"_blank\">https://wandb.ai/nbvanting/thesis</a><br/>\n",
       "                Sweep page: <a href=\"https://wandb.ai/nbvanting/thesis/sweeps/0xw7ge82\" target=\"_blank\">https://wandb.ai/nbvanting/thesis/sweeps/0xw7ge82</a><br/>\n",
       "Run page: <a href=\"https://wandb.ai/nbvanting/thesis/runs/qbcuo68s\" target=\"_blank\">https://wandb.ai/nbvanting/thesis/runs/qbcuo68s</a><br/>\n",
       "                Run data is saved locally in <code>/content/wandb/run-20210510_122745-qbcuo68s</code><br/><br/>\n",
       "            "
      ],
      "text/plain": [
       "<IPython.core.display.HTML object>"
      ]
     },
     "metadata": {
      "tags": []
     },
     "output_type": "display_data"
    },
    {
     "name": "stdout",
     "output_type": "stream",
     "text": [
      "Epoch 1/30\n",
      "229/229 [==============================] - 26s 103ms/step - loss: 0.5383 - mae: 0.5533 - val_loss: 0.3116 - val_mae: 0.4044\n",
      "Epoch 2/30\n",
      "229/229 [==============================] - 23s 100ms/step - loss: 0.2788 - mae: 0.4014 - val_loss: 0.2333 - val_mae: 0.3820\n",
      "Epoch 3/30\n",
      "229/229 [==============================] - 23s 102ms/step - loss: 0.1860 - mae: 0.3335 - val_loss: 0.1696 - val_mae: 0.3188\n",
      "Epoch 4/30\n",
      "229/229 [==============================] - 23s 102ms/step - loss: 0.1356 - mae: 0.2841 - val_loss: 0.1171 - val_mae: 0.2579\n",
      "Epoch 5/30\n",
      "229/229 [==============================] - 23s 101ms/step - loss: 0.1097 - mae: 0.2544 - val_loss: 0.1031 - val_mae: 0.2365\n",
      "Epoch 6/30\n",
      "229/229 [==============================] - 23s 102ms/step - loss: 0.0978 - mae: 0.2416 - val_loss: 0.0990 - val_mae: 0.2370\n",
      "Epoch 7/30\n",
      "229/229 [==============================] - 23s 102ms/step - loss: 0.0925 - mae: 0.2354 - val_loss: 0.1070 - val_mae: 0.2532\n",
      "Epoch 8/30\n",
      "229/229 [==============================] - 23s 101ms/step - loss: 0.0908 - mae: 0.2300 - val_loss: 0.0990 - val_mae: 0.2363\n",
      "Epoch 9/30\n",
      "229/229 [==============================] - 23s 100ms/step - loss: 0.0845 - mae: 0.2230 - val_loss: 0.1045 - val_mae: 0.2429\n",
      "Epoch 10/30\n",
      "229/229 [==============================] - 23s 102ms/step - loss: 0.0893 - mae: 0.2299 - val_loss: 0.0929 - val_mae: 0.2263\n",
      "Epoch 11/30\n",
      "229/229 [==============================] - 24s 102ms/step - loss: 0.0782 - mae: 0.2148 - val_loss: 0.1149 - val_mae: 0.2560\n",
      "Epoch 12/30\n",
      "229/229 [==============================] - 23s 102ms/step - loss: 0.0817 - mae: 0.2197 - val_loss: 0.0835 - val_mae: 0.2116\n",
      "Epoch 13/30\n",
      "229/229 [==============================] - 23s 99ms/step - loss: 0.0795 - mae: 0.2166 - val_loss: 0.0920 - val_mae: 0.2243\n",
      "Epoch 14/30\n",
      "229/229 [==============================] - 23s 102ms/step - loss: 0.0814 - mae: 0.2190 - val_loss: 0.0943 - val_mae: 0.2272\n",
      "Epoch 15/30\n",
      "229/229 [==============================] - 23s 102ms/step - loss: 0.0761 - mae: 0.2106 - val_loss: 0.0920 - val_mae: 0.2264\n",
      "Epoch 16/30\n",
      "229/229 [==============================] - 24s 102ms/step - loss: 0.0730 - mae: 0.2068 - val_loss: 0.0889 - val_mae: 0.2147\n",
      "Epoch 17/30\n",
      "229/229 [==============================] - 23s 101ms/step - loss: 0.0774 - mae: 0.2137 - val_loss: 0.1039 - val_mae: 0.2411\n",
      "Epoch 18/30\n",
      "229/229 [==============================] - 23s 99ms/step - loss: 0.0702 - mae: 0.2034 - val_loss: 0.0908 - val_mae: 0.2202\n",
      "Epoch 19/30\n",
      "229/229 [==============================] - 23s 99ms/step - loss: 0.0682 - mae: 0.2005 - val_loss: 0.0932 - val_mae: 0.2259\n",
      "Epoch 20/30\n",
      "229/229 [==============================] - 23s 100ms/step - loss: 0.0659 - mae: 0.1957 - val_loss: 0.0884 - val_mae: 0.2192\n",
      "Epoch 21/30\n",
      "229/229 [==============================] - 23s 99ms/step - loss: 0.0653 - mae: 0.1954 - val_loss: 0.0934 - val_mae: 0.2200\n",
      "Epoch 22/30\n",
      "229/229 [==============================] - 23s 98ms/step - loss: 0.0654 - mae: 0.1955 - val_loss: 0.0929 - val_mae: 0.2264\n",
      "Epoch 23/30\n",
      "229/229 [==============================] - 21s 93ms/step - loss: 0.0623 - mae: 0.1897 - val_loss: 0.0865 - val_mae: 0.2132\n",
      "Epoch 24/30\n",
      "229/229 [==============================] - 22s 95ms/step - loss: 0.0598 - mae: 0.1865 - val_loss: 0.0859 - val_mae: 0.2121\n",
      "Epoch 25/30\n",
      "229/229 [==============================] - 22s 98ms/step - loss: 0.0589 - mae: 0.1845 - val_loss: 0.0912 - val_mae: 0.2271\n",
      "Epoch 26/30\n",
      "229/229 [==============================] - 22s 97ms/step - loss: 0.0596 - mae: 0.1861 - val_loss: 0.0914 - val_mae: 0.2266\n",
      "Epoch 27/30\n",
      "229/229 [==============================] - 23s 99ms/step - loss: 0.0594 - mae: 0.1854 - val_loss: 0.0876 - val_mae: 0.2136\n",
      "Epoch 28/30\n",
      "229/229 [==============================] - 21s 93ms/step - loss: 0.0591 - mae: 0.1842 - val_loss: 0.0844 - val_mae: 0.2095\n",
      "Epoch 29/30\n",
      "229/229 [==============================] - 22s 96ms/step - loss: 0.0566 - mae: 0.1813 - val_loss: 0.0872 - val_mae: 0.2154\n",
      "Epoch 30/30\n",
      "229/229 [==============================] - 22s 98ms/step - loss: 0.0570 - mae: 0.1816 - val_loss: 0.0865 - val_mae: 0.2142\n",
      "24/24 [==============================] - 1s 39ms/step - loss: 0.1243 - mae: 0.2534\n"
     ]
    },
    {
     "data": {
      "text/html": [
       "<br/>Waiting for W&B process to finish, PID 1750<br/>Program failed with code 1.  Press ctrl-c to abort syncing."
      ],
      "text/plain": [
       "<IPython.core.display.HTML object>"
      ]
     },
     "metadata": {
      "tags": []
     },
     "output_type": "display_data"
    },
    {
     "data": {
      "application/vnd.jupyter.widget-view+json": {
       "model_id": "d05a0c6d7c7a41b2a322e824dbc8c361",
       "version_major": 2,
       "version_minor": 0
      },
      "text/plain": [
       "VBox(children=(Label(value=' 0.39MB of 0.39MB uploaded (0.00MB deduped)\\r'), FloatProgress(value=1.0, max=1.0)…"
      ]
     },
     "metadata": {
      "tags": []
     },
     "output_type": "display_data"
    },
    {
     "data": {
      "text/html": [
       "Find user logs for this run at: <code>/content/wandb/run-20210510_122745-qbcuo68s/logs/debug.log</code>"
      ],
      "text/plain": [
       "<IPython.core.display.HTML object>"
      ]
     },
     "metadata": {
      "tags": []
     },
     "output_type": "display_data"
    },
    {
     "data": {
      "text/html": [
       "Find internal logs for this run at: <code>/content/wandb/run-20210510_122745-qbcuo68s/logs/debug-internal.log</code>"
      ],
      "text/plain": [
       "<IPython.core.display.HTML object>"
      ]
     },
     "metadata": {
      "tags": []
     },
     "output_type": "display_data"
    },
    {
     "data": {
      "text/html": [
       "<h3>Run summary:</h3><br/><style>\n",
       "    table.wandb td:nth-child(1) { padding: 0 10px; text-align: right }\n",
       "    </style><table class=\"wandb\">\n",
       "<tr><td>epoch</td><td>29</td></tr><tr><td>loss</td><td>0.05689</td></tr><tr><td>mae</td><td>0.1815</td></tr><tr><td>val_loss</td><td>0.08653</td></tr><tr><td>val_mae</td><td>0.21416</td></tr><tr><td>_runtime</td><td>697</td></tr><tr><td>_timestamp</td><td>1620650362</td></tr><tr><td>_step</td><td>31</td></tr><tr><td>best_val_loss</td><td>0.0835</td></tr><tr><td>best_epoch</td><td>11</td></tr><tr><td>test_loss</td><td>0.12434</td></tr><tr><td>test_mae</td><td>0.25338</td></tr></table>"
      ],
      "text/plain": [
       "<IPython.core.display.HTML object>"
      ]
     },
     "metadata": {
      "tags": []
     },
     "output_type": "display_data"
    },
    {
     "data": {
      "text/html": [
       "<h3>Run history:</h3><br/><style>\n",
       "    table.wandb td:nth-child(1) { padding: 0 10px; text-align: right }\n",
       "    </style><table class=\"wandb\">\n",
       "<tr><td>epoch</td><td>▁▁▁▂▂▂▂▃▃▃▃▄▄▄▄▅▅▅▅▆▆▆▆▇▇▇▇███</td></tr><tr><td>loss</td><td>█▅▃▂▂▂▂▂▂▂▂▁▁▁▁▁▁▁▁▁▁▁▁▁▁▁▁▁▁▁</td></tr><tr><td>mae</td><td>█▆▄▃▃▃▂▂▂▂▂▂▂▂▂▂▂▁▁▁▁▁▁▁▁▁▁▁▁▁</td></tr><tr><td>val_loss</td><td>█▆▄▂▂▁▂▁▂▁▂▁▁▁▁▁▂▁▁▁▁▁▁▁▁▁▁▁▁▁</td></tr><tr><td>val_mae</td><td>█▇▅▃▂▂▃▂▂▂▃▁▂▂▂▁▂▁▂▁▁▂▁▁▂▂▁▁▁▁</td></tr><tr><td>_runtime</td><td>▁▁▁▂▂▂▂▃▃▃▃▄▄▄▄▅▅▅▅▆▆▆▆▇▇▇▇█████</td></tr><tr><td>_timestamp</td><td>▁▁▁▂▂▂▂▃▃▃▃▄▄▄▄▅▅▅▅▆▆▆▆▇▇▇▇█████</td></tr><tr><td>_step</td><td>▁▁▁▂▂▂▂▃▃▃▃▃▄▄▄▄▅▅▅▅▆▆▆▆▆▇▇▇▇███</td></tr><tr><td>test_loss</td><td>▁</td></tr><tr><td>test_mae</td><td>▁</td></tr></table><br/>"
      ],
      "text/plain": [
       "<IPython.core.display.HTML object>"
      ]
     },
     "metadata": {
      "tags": []
     },
     "output_type": "display_data"
    },
    {
     "data": {
      "text/html": [
       "Synced 5 W&B file(s), 1 media file(s), 0 artifact file(s) and 1 other file(s)"
      ],
      "text/plain": [
       "<IPython.core.display.HTML object>"
      ]
     },
     "metadata": {
      "tags": []
     },
     "output_type": "display_data"
    },
    {
     "data": {
      "text/html": [
       "\n",
       "                    <br/>Synced <strong style=\"color:#cdcd00\">icy-sweep-5</strong>: <a href=\"https://wandb.ai/nbvanting/thesis/runs/qbcuo68s\" target=\"_blank\">https://wandb.ai/nbvanting/thesis/runs/qbcuo68s</a><br/>\n",
       "                "
      ],
      "text/plain": [
       "<IPython.core.display.HTML object>"
      ]
     },
     "metadata": {
      "tags": []
     },
     "output_type": "display_data"
    },
    {
     "name": "stderr",
     "output_type": "stream",
     "text": [
      "Run qbcuo68s errored: IndexError('list index out of range')\n",
      "\u001b[34m\u001b[1mwandb\u001b[0m: \u001b[32m\u001b[41mERROR\u001b[0m Run qbcuo68s errored: IndexError('list index out of range')\n",
      "\u001b[34m\u001b[1mwandb\u001b[0m: Agent Starting Run: 6aq2edwm with config:\n",
      "\u001b[34m\u001b[1mwandb\u001b[0m: \tactivation_cnn: relu\n",
      "\u001b[34m\u001b[1mwandb\u001b[0m: \tactivation_gru: tanh\n",
      "\u001b[34m\u001b[1mwandb\u001b[0m: \tbatch_size: 64\n",
      "\u001b[34m\u001b[1mwandb\u001b[0m: \tcnn_layer_size_1: 56\n",
      "\u001b[34m\u001b[1mwandb\u001b[0m: \tdataset: strib\n",
      "\u001b[34m\u001b[1mwandb\u001b[0m: \tdropout: 0.2\n",
      "\u001b[34m\u001b[1mwandb\u001b[0m: \tepochs: 30\n",
      "\u001b[34m\u001b[1mwandb\u001b[0m: \tgru_layer_size_1: 96\n",
      "\u001b[34m\u001b[1mwandb\u001b[0m: \tkernelsize: 7\n",
      "\u001b[34m\u001b[1mwandb\u001b[0m: \tlearning_rate: 0.04\n",
      "\u001b[34m\u001b[1mwandb\u001b[0m: \tlookback: 744\n",
      "\u001b[34m\u001b[1mwandb\u001b[0m: \tmomentum: 0.9\n",
      "\u001b[34m\u001b[1mwandb\u001b[0m: \tnum_features: 9\n",
      "\u001b[34m\u001b[1mwandb\u001b[0m: \toptimizer: sgd\n",
      "\u001b[34m\u001b[1mwandb\u001b[0m: \tsplitmethod: offset\n",
      "\u001b[34m\u001b[1mwandb\u001b[0m: \tsplitrate: 0.8\n",
      "\u001b[34m\u001b[1mwandb\u001b[0m: \u001b[33mWARNING\u001b[0m Ignored wandb.init() arg project when running a sweep\n"
     ]
    },
    {
     "data": {
      "text/html": [
       "\n",
       "                Tracking run with wandb version 0.10.30<br/>\n",
       "                Syncing run <strong style=\"color:#cdcd00\">zesty-sweep-6</strong> to <a href=\"https://wandb.ai\" target=\"_blank\">Weights & Biases</a> <a href=\"https://docs.wandb.com/integrations/jupyter.html\" target=\"_blank\">(Documentation)</a>.<br/>\n",
       "                Project page: <a href=\"https://wandb.ai/nbvanting/thesis\" target=\"_blank\">https://wandb.ai/nbvanting/thesis</a><br/>\n",
       "                Sweep page: <a href=\"https://wandb.ai/nbvanting/thesis/sweeps/0xw7ge82\" target=\"_blank\">https://wandb.ai/nbvanting/thesis/sweeps/0xw7ge82</a><br/>\n",
       "Run page: <a href=\"https://wandb.ai/nbvanting/thesis/runs/6aq2edwm\" target=\"_blank\">https://wandb.ai/nbvanting/thesis/runs/6aq2edwm</a><br/>\n",
       "                Run data is saved locally in <code>/content/wandb/run-20210510_123927-6aq2edwm</code><br/><br/>\n",
       "            "
      ],
      "text/plain": [
       "<IPython.core.display.HTML object>"
      ]
     },
     "metadata": {
      "tags": []
     },
     "output_type": "display_data"
    },
    {
     "name": "stdout",
     "output_type": "stream",
     "text": [
      "Epoch 1/30\n",
      "229/229 [==============================] - 25s 100ms/step - loss: 0.4797 - mae: 0.5133 - val_loss: 0.2097 - val_mae: 0.3536\n",
      "Epoch 2/30\n",
      "229/229 [==============================] - 23s 99ms/step - loss: 0.1818 - mae: 0.3235 - val_loss: 0.1535 - val_mae: 0.2915\n",
      "Epoch 3/30\n",
      "229/229 [==============================] - 22s 97ms/step - loss: 0.1369 - mae: 0.2801 - val_loss: 0.1459 - val_mae: 0.2804\n",
      "Epoch 4/30\n",
      "229/229 [==============================] - 23s 98ms/step - loss: 0.1168 - mae: 0.2632 - val_loss: 0.1185 - val_mae: 0.2491\n",
      "Epoch 5/30\n",
      "229/229 [==============================] - 21s 93ms/step - loss: 0.1041 - mae: 0.2477 - val_loss: 0.1260 - val_mae: 0.2640\n",
      "Epoch 6/30\n",
      "229/229 [==============================] - 22s 98ms/step - loss: 0.0927 - mae: 0.2328 - val_loss: 0.1252 - val_mae: 0.2680\n",
      "Epoch 7/30\n",
      "229/229 [==============================] - 22s 96ms/step - loss: 0.0915 - mae: 0.2316 - val_loss: 0.1206 - val_mae: 0.2559\n",
      "Epoch 8/30\n",
      "229/229 [==============================] - 21s 93ms/step - loss: 0.0834 - mae: 0.2216 - val_loss: 0.1224 - val_mae: 0.2641\n",
      "Epoch 9/30\n",
      "229/229 [==============================] - 22s 96ms/step - loss: 0.0869 - mae: 0.2270 - val_loss: 0.1085 - val_mae: 0.2444\n",
      "Epoch 10/30\n",
      "229/229 [==============================] - 22s 98ms/step - loss: 0.0810 - mae: 0.2189 - val_loss: 0.1085 - val_mae: 0.2338\n",
      "Epoch 11/30\n",
      "229/229 [==============================] - 21s 93ms/step - loss: 0.0837 - mae: 0.2214 - val_loss: 0.1046 - val_mae: 0.2329\n",
      "Epoch 12/30\n",
      "229/229 [==============================] - 21s 93ms/step - loss: 0.0782 - mae: 0.2147 - val_loss: 0.1138 - val_mae: 0.2474\n",
      "Epoch 13/30\n",
      "229/229 [==============================] - 22s 98ms/step - loss: 0.0771 - mae: 0.2125 - val_loss: 0.1095 - val_mae: 0.2449\n",
      "Epoch 14/30\n",
      "229/229 [==============================] - 22s 98ms/step - loss: 0.0763 - mae: 0.2123 - val_loss: 0.1231 - val_mae: 0.2537\n",
      "Epoch 15/30\n",
      "229/229 [==============================] - 22s 97ms/step - loss: 0.0759 - mae: 0.2102 - val_loss: 0.1082 - val_mae: 0.2389\n",
      "Epoch 16/30\n",
      "229/229 [==============================] - 22s 96ms/step - loss: 0.0758 - mae: 0.2110 - val_loss: 0.1223 - val_mae: 0.2498\n",
      "Epoch 17/30\n",
      "229/229 [==============================] - 23s 99ms/step - loss: 0.0763 - mae: 0.2082 - val_loss: 0.0944 - val_mae: 0.2228\n",
      "Epoch 18/30\n",
      "229/229 [==============================] - 23s 100ms/step - loss: 0.0639 - mae: 0.1938 - val_loss: 0.0974 - val_mae: 0.2186\n",
      "Epoch 19/30\n",
      "229/229 [==============================] - 23s 98ms/step - loss: 0.0677 - mae: 0.1989 - val_loss: 0.0944 - val_mae: 0.2259\n",
      "Epoch 20/30\n",
      "229/229 [==============================] - 23s 100ms/step - loss: 0.0638 - mae: 0.1937 - val_loss: 0.0948 - val_mae: 0.2222\n",
      "Epoch 21/30\n",
      "229/229 [==============================] - 22s 96ms/step - loss: 0.0624 - mae: 0.1900 - val_loss: 0.0933 - val_mae: 0.2198\n",
      "Epoch 22/30\n",
      "229/229 [==============================] - 22s 95ms/step - loss: 0.0626 - mae: 0.1900 - val_loss: 0.0915 - val_mae: 0.2171\n",
      "Epoch 23/30\n",
      "229/229 [==============================] - 23s 99ms/step - loss: 0.0615 - mae: 0.1890 - val_loss: 0.0959 - val_mae: 0.2209\n",
      "Epoch 24/30\n",
      "229/229 [==============================] - 22s 97ms/step - loss: 0.0612 - mae: 0.1896 - val_loss: 0.1004 - val_mae: 0.2271\n",
      "Epoch 25/30\n",
      "229/229 [==============================] - 22s 97ms/step - loss: 0.0614 - mae: 0.1888 - val_loss: 0.0899 - val_mae: 0.2147\n",
      "Epoch 26/30\n",
      "229/229 [==============================] - 23s 100ms/step - loss: 0.0598 - mae: 0.1868 - val_loss: 0.0923 - val_mae: 0.2188\n",
      "Epoch 27/30\n",
      "229/229 [==============================] - 22s 96ms/step - loss: 0.0601 - mae: 0.1866 - val_loss: 0.0928 - val_mae: 0.2205\n",
      "Epoch 28/30\n",
      "229/229 [==============================] - 22s 97ms/step - loss: 0.0607 - mae: 0.1886 - val_loss: 0.1020 - val_mae: 0.2316\n",
      "Epoch 29/30\n",
      "229/229 [==============================] - 22s 97ms/step - loss: 0.0608 - mae: 0.1880 - val_loss: 0.0934 - val_mae: 0.2230\n",
      "Epoch 30/30\n",
      "229/229 [==============================] - 23s 98ms/step - loss: 0.0600 - mae: 0.1875 - val_loss: 0.0908 - val_mae: 0.2154\n",
      "24/24 [==============================] - 1s 40ms/step - loss: 0.1118 - mae: 0.2412\n"
     ]
    },
    {
     "data": {
      "text/html": [
       "<br/>Waiting for W&B process to finish, PID 2115<br/>Program failed with code 1.  Press ctrl-c to abort syncing."
      ],
      "text/plain": [
       "<IPython.core.display.HTML object>"
      ]
     },
     "metadata": {
      "tags": []
     },
     "output_type": "display_data"
    },
    {
     "data": {
      "application/vnd.jupyter.widget-view+json": {
       "model_id": "990dc11c33664cbe96b2fb9f9ae467d9",
       "version_major": 2,
       "version_minor": 0
      },
      "text/plain": [
       "VBox(children=(Label(value=' 0.40MB of 0.40MB uploaded (0.00MB deduped)\\r'), FloatProgress(value=1.0, max=1.0)…"
      ]
     },
     "metadata": {
      "tags": []
     },
     "output_type": "display_data"
    },
    {
     "data": {
      "text/html": [
       "Find user logs for this run at: <code>/content/wandb/run-20210510_123927-6aq2edwm/logs/debug.log</code>"
      ],
      "text/plain": [
       "<IPython.core.display.HTML object>"
      ]
     },
     "metadata": {
      "tags": []
     },
     "output_type": "display_data"
    },
    {
     "data": {
      "text/html": [
       "Find internal logs for this run at: <code>/content/wandb/run-20210510_123927-6aq2edwm/logs/debug-internal.log</code>"
      ],
      "text/plain": [
       "<IPython.core.display.HTML object>"
      ]
     },
     "metadata": {
      "tags": []
     },
     "output_type": "display_data"
    },
    {
     "data": {
      "text/html": [
       "<h3>Run summary:</h3><br/><style>\n",
       "    table.wandb td:nth-child(1) { padding: 0 10px; text-align: right }\n",
       "    </style><table class=\"wandb\">\n",
       "<tr><td>epoch</td><td>29</td></tr><tr><td>loss</td><td>0.0595</td></tr><tr><td>mae</td><td>0.18639</td></tr><tr><td>val_loss</td><td>0.0908</td></tr><tr><td>val_mae</td><td>0.21541</td></tr><tr><td>_runtime</td><td>677</td></tr><tr><td>_timestamp</td><td>1620651044</td></tr><tr><td>_step</td><td>31</td></tr><tr><td>best_val_loss</td><td>0.08994</td></tr><tr><td>best_epoch</td><td>24</td></tr><tr><td>test_loss</td><td>0.1118</td></tr><tr><td>test_mae</td><td>0.24122</td></tr></table>"
      ],
      "text/plain": [
       "<IPython.core.display.HTML object>"
      ]
     },
     "metadata": {
      "tags": []
     },
     "output_type": "display_data"
    },
    {
     "data": {
      "text/html": [
       "<h3>Run history:</h3><br/><style>\n",
       "    table.wandb td:nth-child(1) { padding: 0 10px; text-align: right }\n",
       "    </style><table class=\"wandb\">\n",
       "<tr><td>epoch</td><td>▁▁▁▂▂▂▂▃▃▃▃▄▄▄▄▅▅▅▅▆▆▆▆▇▇▇▇███</td></tr><tr><td>loss</td><td>█▄▃▂▂▂▂▂▂▂▂▁▁▁▁▁▁▁▁▁▁▁▁▁▁▁▁▁▁▁</td></tr><tr><td>mae</td><td>█▅▄▃▃▂▂▂▂▂▂▂▂▂▂▂▁▁▁▁▁▁▁▁▁▁▁▁▁▁</td></tr><tr><td>val_loss</td><td>█▅▄▃▃▃▃▃▂▂▂▂▂▃▂▃▁▁▁▁▁▁▁▂▁▁▁▂▁▁</td></tr><tr><td>val_mae</td><td>█▅▄▃▃▄▃▃▂▂▂▃▃▃▂▃▁▁▂▁▁▁▁▂▁▁▁▂▁▁</td></tr><tr><td>_runtime</td><td>▁▁▁▂▂▂▂▃▃▃▃▄▄▄▄▅▅▅▅▆▆▆▆▇▇▇▇█████</td></tr><tr><td>_timestamp</td><td>▁▁▁▂▂▂▂▃▃▃▃▄▄▄▄▅▅▅▅▆▆▆▆▇▇▇▇█████</td></tr><tr><td>_step</td><td>▁▁▁▂▂▂▂▃▃▃▃▃▄▄▄▄▅▅▅▅▆▆▆▆▆▇▇▇▇███</td></tr><tr><td>test_loss</td><td>▁</td></tr><tr><td>test_mae</td><td>▁</td></tr></table><br/>"
      ],
      "text/plain": [
       "<IPython.core.display.HTML object>"
      ]
     },
     "metadata": {
      "tags": []
     },
     "output_type": "display_data"
    },
    {
     "data": {
      "text/html": [
       "Synced 5 W&B file(s), 1 media file(s), 0 artifact file(s) and 1 other file(s)"
      ],
      "text/plain": [
       "<IPython.core.display.HTML object>"
      ]
     },
     "metadata": {
      "tags": []
     },
     "output_type": "display_data"
    },
    {
     "data": {
      "text/html": [
       "\n",
       "                    <br/>Synced <strong style=\"color:#cdcd00\">zesty-sweep-6</strong>: <a href=\"https://wandb.ai/nbvanting/thesis/runs/6aq2edwm\" target=\"_blank\">https://wandb.ai/nbvanting/thesis/runs/6aq2edwm</a><br/>\n",
       "                "
      ],
      "text/plain": [
       "<IPython.core.display.HTML object>"
      ]
     },
     "metadata": {
      "tags": []
     },
     "output_type": "display_data"
    },
    {
     "name": "stderr",
     "output_type": "stream",
     "text": [
      "Run 6aq2edwm errored: IndexError('list index out of range')\n",
      "\u001b[34m\u001b[1mwandb\u001b[0m: \u001b[32m\u001b[41mERROR\u001b[0m Run 6aq2edwm errored: IndexError('list index out of range')\n",
      "Detected 5 failed runs in a row at start, killing sweep.\n",
      "\u001b[34m\u001b[1mwandb\u001b[0m: \u001b[32m\u001b[41mERROR\u001b[0m Detected 5 failed runs in a row at start, killing sweep.\n",
      "\u001b[34m\u001b[1mwandb\u001b[0m: To change this value set WANDB_AGENT_MAX_INITIAL_FAILURES=val\n"
     ]
    }
   ],
   "source": [
    "wandb.agent(sweep_id, function=run_tuner)"
   ]
  }
 ],
 "metadata": {
  "accelerator": "GPU",
  "colab": {
   "name": "Thesis - Grid Search Sweep",
   "provenance": []
  },
  "kernelspec": {
   "display_name": "Python 3",
   "language": "python",
   "name": "python3"
  },
  "language_info": {
   "codemirror_mode": {
    "name": "ipython",
    "version": 3
   },
   "file_extension": ".py",
   "mimetype": "text/x-python",
   "name": "python",
   "nbconvert_exporter": "python",
   "pygments_lexer": "ipython3",
   "version": "3.8.3"
  },
  "widgets": {
   "application/vnd.jupyter.widget-state+json": {
    "021a9c752a554f7fb7c2b76669351ecd": {
     "model_module": "@jupyter-widgets/base",
     "model_name": "LayoutModel",
     "state": {
      "_model_module": "@jupyter-widgets/base",
      "_model_module_version": "1.2.0",
      "_model_name": "LayoutModel",
      "_view_count": null,
      "_view_module": "@jupyter-widgets/base",
      "_view_module_version": "1.2.0",
      "_view_name": "LayoutView",
      "align_content": null,
      "align_items": null,
      "align_self": null,
      "border": null,
      "bottom": null,
      "display": null,
      "flex": null,
      "flex_flow": null,
      "grid_area": null,
      "grid_auto_columns": null,
      "grid_auto_flow": null,
      "grid_auto_rows": null,
      "grid_column": null,
      "grid_gap": null,
      "grid_row": null,
      "grid_template_areas": null,
      "grid_template_columns": null,
      "grid_template_rows": null,
      "height": null,
      "justify_content": null,
      "justify_items": null,
      "left": null,
      "margin": null,
      "max_height": null,
      "max_width": null,
      "min_height": null,
      "min_width": null,
      "object_fit": null,
      "object_position": null,
      "order": null,
      "overflow": null,
      "overflow_x": null,
      "overflow_y": null,
      "padding": null,
      "right": null,
      "top": null,
      "visibility": null,
      "width": null
     }
    },
    "02c312df6bf84646b6a9830dcefb2328": {
     "model_module": "@jupyter-widgets/controls",
     "model_name": "DescriptionStyleModel",
     "state": {
      "_model_module": "@jupyter-widgets/controls",
      "_model_module_version": "1.5.0",
      "_model_name": "DescriptionStyleModel",
      "_view_count": null,
      "_view_module": "@jupyter-widgets/base",
      "_view_module_version": "1.2.0",
      "_view_name": "StyleView",
      "description_width": ""
     }
    },
    "104ef426c33e4b77b1046be78ca54bd2": {
     "model_module": "@jupyter-widgets/controls",
     "model_name": "LabelModel",
     "state": {
      "_dom_classes": [],
      "_model_module": "@jupyter-widgets/controls",
      "_model_module_version": "1.5.0",
      "_model_name": "LabelModel",
      "_view_count": null,
      "_view_module": "@jupyter-widgets/controls",
      "_view_module_version": "1.5.0",
      "_view_name": "LabelView",
      "description": "",
      "description_tooltip": null,
      "layout": "IPY_MODEL_25b7c213411c479fb75c7b5bf7dce79c",
      "placeholder": "​",
      "style": "IPY_MODEL_9e6d62cd3dcb4e81aec3cf4b0fdc820f",
      "value": " 0.41MB of 0.41MB uploaded (0.00MB deduped)\r"
     }
    },
    "149847d0fe35429682dee1f6539860bc": {
     "model_module": "@jupyter-widgets/controls",
     "model_name": "FloatProgressModel",
     "state": {
      "_dom_classes": [],
      "_model_module": "@jupyter-widgets/controls",
      "_model_module_version": "1.5.0",
      "_model_name": "FloatProgressModel",
      "_view_count": null,
      "_view_module": "@jupyter-widgets/controls",
      "_view_module_version": "1.5.0",
      "_view_name": "ProgressView",
      "bar_style": "",
      "description": "",
      "description_tooltip": null,
      "layout": "IPY_MODEL_bf5c39b5d9004b9db72d4f38dc04e181",
      "max": 1,
      "min": 0,
      "orientation": "horizontal",
      "style": "IPY_MODEL_9f9f8290b91240d88aa64cabf08d98c4",
      "value": 1
     }
    },
    "18f5bba252294f51bf10ee74f6bde486": {
     "model_module": "@jupyter-widgets/controls",
     "model_name": "VBoxModel",
     "state": {
      "_dom_classes": [],
      "_model_module": "@jupyter-widgets/controls",
      "_model_module_version": "1.5.0",
      "_model_name": "VBoxModel",
      "_view_count": null,
      "_view_module": "@jupyter-widgets/controls",
      "_view_module_version": "1.5.0",
      "_view_name": "VBoxView",
      "box_style": "",
      "children": [
       "IPY_MODEL_bc7f916b66b848ed95a830c7635eac4e",
       "IPY_MODEL_595e132f656f4056a96ed6627dccd8e8"
      ],
      "layout": "IPY_MODEL_87dde3783c63477c9036585311c3c893"
     }
    },
    "25b7c213411c479fb75c7b5bf7dce79c": {
     "model_module": "@jupyter-widgets/base",
     "model_name": "LayoutModel",
     "state": {
      "_model_module": "@jupyter-widgets/base",
      "_model_module_version": "1.2.0",
      "_model_name": "LayoutModel",
      "_view_count": null,
      "_view_module": "@jupyter-widgets/base",
      "_view_module_version": "1.2.0",
      "_view_name": "LayoutView",
      "align_content": null,
      "align_items": null,
      "align_self": null,
      "border": null,
      "bottom": null,
      "display": null,
      "flex": null,
      "flex_flow": null,
      "grid_area": null,
      "grid_auto_columns": null,
      "grid_auto_flow": null,
      "grid_auto_rows": null,
      "grid_column": null,
      "grid_gap": null,
      "grid_row": null,
      "grid_template_areas": null,
      "grid_template_columns": null,
      "grid_template_rows": null,
      "height": null,
      "justify_content": null,
      "justify_items": null,
      "left": null,
      "margin": null,
      "max_height": null,
      "max_width": null,
      "min_height": null,
      "min_width": null,
      "object_fit": null,
      "object_position": null,
      "order": null,
      "overflow": null,
      "overflow_x": null,
      "overflow_y": null,
      "padding": null,
      "right": null,
      "top": null,
      "visibility": null,
      "width": null
     }
    },
    "2ad2728191ec43bfa5ee67537cdb7832": {
     "model_module": "@jupyter-widgets/controls",
     "model_name": "FloatProgressModel",
     "state": {
      "_dom_classes": [],
      "_model_module": "@jupyter-widgets/controls",
      "_model_module_version": "1.5.0",
      "_model_name": "FloatProgressModel",
      "_view_count": null,
      "_view_module": "@jupyter-widgets/controls",
      "_view_module_version": "1.5.0",
      "_view_name": "ProgressView",
      "bar_style": "",
      "description": "",
      "description_tooltip": null,
      "layout": "IPY_MODEL_2b6ee86acffb45129da147073446883a",
      "max": 1,
      "min": 0,
      "orientation": "horizontal",
      "style": "IPY_MODEL_ee8bfdf9dbf7407e98543efa997598be",
      "value": 1
     }
    },
    "2b6ee86acffb45129da147073446883a": {
     "model_module": "@jupyter-widgets/base",
     "model_name": "LayoutModel",
     "state": {
      "_model_module": "@jupyter-widgets/base",
      "_model_module_version": "1.2.0",
      "_model_name": "LayoutModel",
      "_view_count": null,
      "_view_module": "@jupyter-widgets/base",
      "_view_module_version": "1.2.0",
      "_view_name": "LayoutView",
      "align_content": null,
      "align_items": null,
      "align_self": null,
      "border": null,
      "bottom": null,
      "display": null,
      "flex": null,
      "flex_flow": null,
      "grid_area": null,
      "grid_auto_columns": null,
      "grid_auto_flow": null,
      "grid_auto_rows": null,
      "grid_column": null,
      "grid_gap": null,
      "grid_row": null,
      "grid_template_areas": null,
      "grid_template_columns": null,
      "grid_template_rows": null,
      "height": null,
      "justify_content": null,
      "justify_items": null,
      "left": null,
      "margin": null,
      "max_height": null,
      "max_width": null,
      "min_height": null,
      "min_width": null,
      "object_fit": null,
      "object_position": null,
      "order": null,
      "overflow": null,
      "overflow_x": null,
      "overflow_y": null,
      "padding": null,
      "right": null,
      "top": null,
      "visibility": null,
      "width": null
     }
    },
    "376e71389c0942e9aa29faaed0e97ff3": {
     "model_module": "@jupyter-widgets/controls",
     "model_name": "ProgressStyleModel",
     "state": {
      "_model_module": "@jupyter-widgets/controls",
      "_model_module_version": "1.5.0",
      "_model_name": "ProgressStyleModel",
      "_view_count": null,
      "_view_module": "@jupyter-widgets/base",
      "_view_module_version": "1.2.0",
      "_view_name": "StyleView",
      "bar_color": null,
      "description_width": ""
     }
    },
    "4e89c73c8e304f82a288a8d049d21f23": {
     "model_module": "@jupyter-widgets/base",
     "model_name": "LayoutModel",
     "state": {
      "_model_module": "@jupyter-widgets/base",
      "_model_module_version": "1.2.0",
      "_model_name": "LayoutModel",
      "_view_count": null,
      "_view_module": "@jupyter-widgets/base",
      "_view_module_version": "1.2.0",
      "_view_name": "LayoutView",
      "align_content": null,
      "align_items": null,
      "align_self": null,
      "border": null,
      "bottom": null,
      "display": null,
      "flex": null,
      "flex_flow": null,
      "grid_area": null,
      "grid_auto_columns": null,
      "grid_auto_flow": null,
      "grid_auto_rows": null,
      "grid_column": null,
      "grid_gap": null,
      "grid_row": null,
      "grid_template_areas": null,
      "grid_template_columns": null,
      "grid_template_rows": null,
      "height": null,
      "justify_content": null,
      "justify_items": null,
      "left": null,
      "margin": null,
      "max_height": null,
      "max_width": null,
      "min_height": null,
      "min_width": null,
      "object_fit": null,
      "object_position": null,
      "order": null,
      "overflow": null,
      "overflow_x": null,
      "overflow_y": null,
      "padding": null,
      "right": null,
      "top": null,
      "visibility": null,
      "width": null
     }
    },
    "4f505a5a27504184aeafe53c156eac4f": {
     "model_module": "@jupyter-widgets/base",
     "model_name": "LayoutModel",
     "state": {
      "_model_module": "@jupyter-widgets/base",
      "_model_module_version": "1.2.0",
      "_model_name": "LayoutModel",
      "_view_count": null,
      "_view_module": "@jupyter-widgets/base",
      "_view_module_version": "1.2.0",
      "_view_name": "LayoutView",
      "align_content": null,
      "align_items": null,
      "align_self": null,
      "border": null,
      "bottom": null,
      "display": null,
      "flex": null,
      "flex_flow": null,
      "grid_area": null,
      "grid_auto_columns": null,
      "grid_auto_flow": null,
      "grid_auto_rows": null,
      "grid_column": null,
      "grid_gap": null,
      "grid_row": null,
      "grid_template_areas": null,
      "grid_template_columns": null,
      "grid_template_rows": null,
      "height": null,
      "justify_content": null,
      "justify_items": null,
      "left": null,
      "margin": null,
      "max_height": null,
      "max_width": null,
      "min_height": null,
      "min_width": null,
      "object_fit": null,
      "object_position": null,
      "order": null,
      "overflow": null,
      "overflow_x": null,
      "overflow_y": null,
      "padding": null,
      "right": null,
      "top": null,
      "visibility": null,
      "width": null
     }
    },
    "51b8160690854f1baafe1a3c0fed2f43": {
     "model_module": "@jupyter-widgets/base",
     "model_name": "LayoutModel",
     "state": {
      "_model_module": "@jupyter-widgets/base",
      "_model_module_version": "1.2.0",
      "_model_name": "LayoutModel",
      "_view_count": null,
      "_view_module": "@jupyter-widgets/base",
      "_view_module_version": "1.2.0",
      "_view_name": "LayoutView",
      "align_content": null,
      "align_items": null,
      "align_self": null,
      "border": null,
      "bottom": null,
      "display": null,
      "flex": null,
      "flex_flow": null,
      "grid_area": null,
      "grid_auto_columns": null,
      "grid_auto_flow": null,
      "grid_auto_rows": null,
      "grid_column": null,
      "grid_gap": null,
      "grid_row": null,
      "grid_template_areas": null,
      "grid_template_columns": null,
      "grid_template_rows": null,
      "height": null,
      "justify_content": null,
      "justify_items": null,
      "left": null,
      "margin": null,
      "max_height": null,
      "max_width": null,
      "min_height": null,
      "min_width": null,
      "object_fit": null,
      "object_position": null,
      "order": null,
      "overflow": null,
      "overflow_x": null,
      "overflow_y": null,
      "padding": null,
      "right": null,
      "top": null,
      "visibility": null,
      "width": null
     }
    },
    "595e132f656f4056a96ed6627dccd8e8": {
     "model_module": "@jupyter-widgets/controls",
     "model_name": "FloatProgressModel",
     "state": {
      "_dom_classes": [],
      "_model_module": "@jupyter-widgets/controls",
      "_model_module_version": "1.5.0",
      "_model_name": "FloatProgressModel",
      "_view_count": null,
      "_view_module": "@jupyter-widgets/controls",
      "_view_module_version": "1.5.0",
      "_view_name": "ProgressView",
      "bar_style": "",
      "description": "",
      "description_tooltip": null,
      "layout": "IPY_MODEL_95f50cccbad447eebd47b52336844c0f",
      "max": 1,
      "min": 0,
      "orientation": "horizontal",
      "style": "IPY_MODEL_bb4fad7a8fc84bb590ed97e02616debb",
      "value": 1
     }
    },
    "5b62c3f73fb84bc285e840849da00f9b": {
     "model_module": "@jupyter-widgets/controls",
     "model_name": "LabelModel",
     "state": {
      "_dom_classes": [],
      "_model_module": "@jupyter-widgets/controls",
      "_model_module_version": "1.5.0",
      "_model_name": "LabelModel",
      "_view_count": null,
      "_view_module": "@jupyter-widgets/controls",
      "_view_module_version": "1.5.0",
      "_view_name": "LabelView",
      "description": "",
      "description_tooltip": null,
      "layout": "IPY_MODEL_f1d790b934a843038edd611d7412e732",
      "placeholder": "​",
      "style": "IPY_MODEL_75e260f6850f4339973bc04dd3303191",
      "value": " 1.15MB of 1.15MB uploaded (0.00MB deduped)\r"
     }
    },
    "6d05d0d5e1624ae6b0881645a671c375": {
     "model_module": "@jupyter-widgets/base",
     "model_name": "LayoutModel",
     "state": {
      "_model_module": "@jupyter-widgets/base",
      "_model_module_version": "1.2.0",
      "_model_name": "LayoutModel",
      "_view_count": null,
      "_view_module": "@jupyter-widgets/base",
      "_view_module_version": "1.2.0",
      "_view_name": "LayoutView",
      "align_content": null,
      "align_items": null,
      "align_self": null,
      "border": null,
      "bottom": null,
      "display": null,
      "flex": null,
      "flex_flow": null,
      "grid_area": null,
      "grid_auto_columns": null,
      "grid_auto_flow": null,
      "grid_auto_rows": null,
      "grid_column": null,
      "grid_gap": null,
      "grid_row": null,
      "grid_template_areas": null,
      "grid_template_columns": null,
      "grid_template_rows": null,
      "height": null,
      "justify_content": null,
      "justify_items": null,
      "left": null,
      "margin": null,
      "max_height": null,
      "max_width": null,
      "min_height": null,
      "min_width": null,
      "object_fit": null,
      "object_position": null,
      "order": null,
      "overflow": null,
      "overflow_x": null,
      "overflow_y": null,
      "padding": null,
      "right": null,
      "top": null,
      "visibility": null,
      "width": null
     }
    },
    "75e260f6850f4339973bc04dd3303191": {
     "model_module": "@jupyter-widgets/controls",
     "model_name": "DescriptionStyleModel",
     "state": {
      "_model_module": "@jupyter-widgets/controls",
      "_model_module_version": "1.5.0",
      "_model_name": "DescriptionStyleModel",
      "_view_count": null,
      "_view_module": "@jupyter-widgets/base",
      "_view_module_version": "1.2.0",
      "_view_name": "StyleView",
      "description_width": ""
     }
    },
    "7e20afbcaa0e4459bb0ae83ca1e2e819": {
     "model_module": "@jupyter-widgets/controls",
     "model_name": "FloatProgressModel",
     "state": {
      "_dom_classes": [],
      "_model_module": "@jupyter-widgets/controls",
      "_model_module_version": "1.5.0",
      "_model_name": "FloatProgressModel",
      "_view_count": null,
      "_view_module": "@jupyter-widgets/controls",
      "_view_module_version": "1.5.0",
      "_view_name": "ProgressView",
      "bar_style": "",
      "description": "",
      "description_tooltip": null,
      "layout": "IPY_MODEL_4e89c73c8e304f82a288a8d049d21f23",
      "max": 1,
      "min": 0,
      "orientation": "horizontal",
      "style": "IPY_MODEL_a60a50bbc4b648878e193671f038ed52",
      "value": 1
     }
    },
    "87dde3783c63477c9036585311c3c893": {
     "model_module": "@jupyter-widgets/base",
     "model_name": "LayoutModel",
     "state": {
      "_model_module": "@jupyter-widgets/base",
      "_model_module_version": "1.2.0",
      "_model_name": "LayoutModel",
      "_view_count": null,
      "_view_module": "@jupyter-widgets/base",
      "_view_module_version": "1.2.0",
      "_view_name": "LayoutView",
      "align_content": null,
      "align_items": null,
      "align_self": null,
      "border": null,
      "bottom": null,
      "display": null,
      "flex": null,
      "flex_flow": null,
      "grid_area": null,
      "grid_auto_columns": null,
      "grid_auto_flow": null,
      "grid_auto_rows": null,
      "grid_column": null,
      "grid_gap": null,
      "grid_row": null,
      "grid_template_areas": null,
      "grid_template_columns": null,
      "grid_template_rows": null,
      "height": null,
      "justify_content": null,
      "justify_items": null,
      "left": null,
      "margin": null,
      "max_height": null,
      "max_width": null,
      "min_height": null,
      "min_width": null,
      "object_fit": null,
      "object_position": null,
      "order": null,
      "overflow": null,
      "overflow_x": null,
      "overflow_y": null,
      "padding": null,
      "right": null,
      "top": null,
      "visibility": null,
      "width": null
     }
    },
    "8e68ee59fa68496ba60284ff07fc19e6": {
     "model_module": "@jupyter-widgets/controls",
     "model_name": "DescriptionStyleModel",
     "state": {
      "_model_module": "@jupyter-widgets/controls",
      "_model_module_version": "1.5.0",
      "_model_name": "DescriptionStyleModel",
      "_view_count": null,
      "_view_module": "@jupyter-widgets/base",
      "_view_module_version": "1.2.0",
      "_view_name": "StyleView",
      "description_width": ""
     }
    },
    "924b43a644ed43f687c55540d31224dc": {
     "model_module": "@jupyter-widgets/controls",
     "model_name": "LabelModel",
     "state": {
      "_dom_classes": [],
      "_model_module": "@jupyter-widgets/controls",
      "_model_module_version": "1.5.0",
      "_model_name": "LabelModel",
      "_view_count": null,
      "_view_module": "@jupyter-widgets/controls",
      "_view_module_version": "1.5.0",
      "_view_name": "LabelView",
      "description": "",
      "description_tooltip": null,
      "layout": "IPY_MODEL_021a9c752a554f7fb7c2b76669351ecd",
      "placeholder": "​",
      "style": "IPY_MODEL_8e68ee59fa68496ba60284ff07fc19e6",
      "value": " 0.39MB of 0.39MB uploaded (0.00MB deduped)\r"
     }
    },
    "93798bf7fb3f4b59b480e6ef7849c66a": {
     "model_module": "@jupyter-widgets/base",
     "model_name": "LayoutModel",
     "state": {
      "_model_module": "@jupyter-widgets/base",
      "_model_module_version": "1.2.0",
      "_model_name": "LayoutModel",
      "_view_count": null,
      "_view_module": "@jupyter-widgets/base",
      "_view_module_version": "1.2.0",
      "_view_name": "LayoutView",
      "align_content": null,
      "align_items": null,
      "align_self": null,
      "border": null,
      "bottom": null,
      "display": null,
      "flex": null,
      "flex_flow": null,
      "grid_area": null,
      "grid_auto_columns": null,
      "grid_auto_flow": null,
      "grid_auto_rows": null,
      "grid_column": null,
      "grid_gap": null,
      "grid_row": null,
      "grid_template_areas": null,
      "grid_template_columns": null,
      "grid_template_rows": null,
      "height": null,
      "justify_content": null,
      "justify_items": null,
      "left": null,
      "margin": null,
      "max_height": null,
      "max_width": null,
      "min_height": null,
      "min_width": null,
      "object_fit": null,
      "object_position": null,
      "order": null,
      "overflow": null,
      "overflow_x": null,
      "overflow_y": null,
      "padding": null,
      "right": null,
      "top": null,
      "visibility": null,
      "width": null
     }
    },
    "95f50cccbad447eebd47b52336844c0f": {
     "model_module": "@jupyter-widgets/base",
     "model_name": "LayoutModel",
     "state": {
      "_model_module": "@jupyter-widgets/base",
      "_model_module_version": "1.2.0",
      "_model_name": "LayoutModel",
      "_view_count": null,
      "_view_module": "@jupyter-widgets/base",
      "_view_module_version": "1.2.0",
      "_view_name": "LayoutView",
      "align_content": null,
      "align_items": null,
      "align_self": null,
      "border": null,
      "bottom": null,
      "display": null,
      "flex": null,
      "flex_flow": null,
      "grid_area": null,
      "grid_auto_columns": null,
      "grid_auto_flow": null,
      "grid_auto_rows": null,
      "grid_column": null,
      "grid_gap": null,
      "grid_row": null,
      "grid_template_areas": null,
      "grid_template_columns": null,
      "grid_template_rows": null,
      "height": null,
      "justify_content": null,
      "justify_items": null,
      "left": null,
      "margin": null,
      "max_height": null,
      "max_width": null,
      "min_height": null,
      "min_width": null,
      "object_fit": null,
      "object_position": null,
      "order": null,
      "overflow": null,
      "overflow_x": null,
      "overflow_y": null,
      "padding": null,
      "right": null,
      "top": null,
      "visibility": null,
      "width": null
     }
    },
    "981aff5ff7a3433daf050ff83d271cdc": {
     "model_module": "@jupyter-widgets/controls",
     "model_name": "DescriptionStyleModel",
     "state": {
      "_model_module": "@jupyter-widgets/controls",
      "_model_module_version": "1.5.0",
      "_model_name": "DescriptionStyleModel",
      "_view_count": null,
      "_view_module": "@jupyter-widgets/base",
      "_view_module_version": "1.2.0",
      "_view_name": "StyleView",
      "description_width": ""
     }
    },
    "990dc11c33664cbe96b2fb9f9ae467d9": {
     "model_module": "@jupyter-widgets/controls",
     "model_name": "VBoxModel",
     "state": {
      "_dom_classes": [],
      "_model_module": "@jupyter-widgets/controls",
      "_model_module_version": "1.5.0",
      "_model_name": "VBoxModel",
      "_view_count": null,
      "_view_module": "@jupyter-widgets/controls",
      "_view_module_version": "1.5.0",
      "_view_name": "VBoxView",
      "box_style": "",
      "children": [
       "IPY_MODEL_104ef426c33e4b77b1046be78ca54bd2",
       "IPY_MODEL_a29a2cfd9c5247bda17f5ea7e0285a2f"
      ],
      "layout": "IPY_MODEL_e1e577b46d1444279e817a6d5c9e790a"
     }
    },
    "9e6d62cd3dcb4e81aec3cf4b0fdc820f": {
     "model_module": "@jupyter-widgets/controls",
     "model_name": "DescriptionStyleModel",
     "state": {
      "_model_module": "@jupyter-widgets/controls",
      "_model_module_version": "1.5.0",
      "_model_name": "DescriptionStyleModel",
      "_view_count": null,
      "_view_module": "@jupyter-widgets/base",
      "_view_module_version": "1.2.0",
      "_view_name": "StyleView",
      "description_width": ""
     }
    },
    "9f9f8290b91240d88aa64cabf08d98c4": {
     "model_module": "@jupyter-widgets/controls",
     "model_name": "ProgressStyleModel",
     "state": {
      "_model_module": "@jupyter-widgets/controls",
      "_model_module_version": "1.5.0",
      "_model_name": "ProgressStyleModel",
      "_view_count": null,
      "_view_module": "@jupyter-widgets/base",
      "_view_module_version": "1.2.0",
      "_view_name": "StyleView",
      "bar_color": null,
      "description_width": ""
     }
    },
    "a29a2cfd9c5247bda17f5ea7e0285a2f": {
     "model_module": "@jupyter-widgets/controls",
     "model_name": "FloatProgressModel",
     "state": {
      "_dom_classes": [],
      "_model_module": "@jupyter-widgets/controls",
      "_model_module_version": "1.5.0",
      "_model_name": "FloatProgressModel",
      "_view_count": null,
      "_view_module": "@jupyter-widgets/controls",
      "_view_module_version": "1.5.0",
      "_view_name": "ProgressView",
      "bar_style": "",
      "description": "",
      "description_tooltip": null,
      "layout": "IPY_MODEL_6d05d0d5e1624ae6b0881645a671c375",
      "max": 1,
      "min": 0,
      "orientation": "horizontal",
      "style": "IPY_MODEL_e6f5d6e6f9af46d48eca41751a9f21f5",
      "value": 1
     }
    },
    "a60a50bbc4b648878e193671f038ed52": {
     "model_module": "@jupyter-widgets/controls",
     "model_name": "ProgressStyleModel",
     "state": {
      "_model_module": "@jupyter-widgets/controls",
      "_model_module_version": "1.5.0",
      "_model_name": "ProgressStyleModel",
      "_view_count": null,
      "_view_module": "@jupyter-widgets/base",
      "_view_module_version": "1.2.0",
      "_view_name": "StyleView",
      "bar_color": null,
      "description_width": ""
     }
    },
    "af5b88a1948d48feba25a15d781a4161": {
     "model_module": "@jupyter-widgets/controls",
     "model_name": "VBoxModel",
     "state": {
      "_dom_classes": [],
      "_model_module": "@jupyter-widgets/controls",
      "_model_module_version": "1.5.0",
      "_model_name": "VBoxModel",
      "_view_count": null,
      "_view_module": "@jupyter-widgets/controls",
      "_view_module_version": "1.5.0",
      "_view_name": "VBoxView",
      "box_style": "",
      "children": [
       "IPY_MODEL_b67a42217fcf415eade9dbdd433cf028",
       "IPY_MODEL_2ad2728191ec43bfa5ee67537cdb7832"
      ],
      "layout": "IPY_MODEL_4f505a5a27504184aeafe53c156eac4f"
     }
    },
    "b67a42217fcf415eade9dbdd433cf028": {
     "model_module": "@jupyter-widgets/controls",
     "model_name": "LabelModel",
     "state": {
      "_dom_classes": [],
      "_model_module": "@jupyter-widgets/controls",
      "_model_module_version": "1.5.0",
      "_model_name": "LabelModel",
      "_view_count": null,
      "_view_module": "@jupyter-widgets/controls",
      "_view_module_version": "1.5.0",
      "_view_name": "LabelView",
      "description": "",
      "description_tooltip": null,
      "layout": "IPY_MODEL_baf244f6af174961b11cfdba84254b82",
      "placeholder": "​",
      "style": "IPY_MODEL_c61c6eaeea27485eaefbf3df53e3e5fb",
      "value": " 0.41MB of 0.41MB uploaded (0.00MB deduped)\r"
     }
    },
    "baf244f6af174961b11cfdba84254b82": {
     "model_module": "@jupyter-widgets/base",
     "model_name": "LayoutModel",
     "state": {
      "_model_module": "@jupyter-widgets/base",
      "_model_module_version": "1.2.0",
      "_model_name": "LayoutModel",
      "_view_count": null,
      "_view_module": "@jupyter-widgets/base",
      "_view_module_version": "1.2.0",
      "_view_name": "LayoutView",
      "align_content": null,
      "align_items": null,
      "align_self": null,
      "border": null,
      "bottom": null,
      "display": null,
      "flex": null,
      "flex_flow": null,
      "grid_area": null,
      "grid_auto_columns": null,
      "grid_auto_flow": null,
      "grid_auto_rows": null,
      "grid_column": null,
      "grid_gap": null,
      "grid_row": null,
      "grid_template_areas": null,
      "grid_template_columns": null,
      "grid_template_rows": null,
      "height": null,
      "justify_content": null,
      "justify_items": null,
      "left": null,
      "margin": null,
      "max_height": null,
      "max_width": null,
      "min_height": null,
      "min_width": null,
      "object_fit": null,
      "object_position": null,
      "order": null,
      "overflow": null,
      "overflow_x": null,
      "overflow_y": null,
      "padding": null,
      "right": null,
      "top": null,
      "visibility": null,
      "width": null
     }
    },
    "bb4fad7a8fc84bb590ed97e02616debb": {
     "model_module": "@jupyter-widgets/controls",
     "model_name": "ProgressStyleModel",
     "state": {
      "_model_module": "@jupyter-widgets/controls",
      "_model_module_version": "1.5.0",
      "_model_name": "ProgressStyleModel",
      "_view_count": null,
      "_view_module": "@jupyter-widgets/base",
      "_view_module_version": "1.2.0",
      "_view_name": "StyleView",
      "bar_color": null,
      "description_width": ""
     }
    },
    "bc7f916b66b848ed95a830c7635eac4e": {
     "model_module": "@jupyter-widgets/controls",
     "model_name": "LabelModel",
     "state": {
      "_dom_classes": [],
      "_model_module": "@jupyter-widgets/controls",
      "_model_module_version": "1.5.0",
      "_model_name": "LabelModel",
      "_view_count": null,
      "_view_module": "@jupyter-widgets/controls",
      "_view_module_version": "1.5.0",
      "_view_name": "LabelView",
      "description": "",
      "description_tooltip": null,
      "layout": "IPY_MODEL_51b8160690854f1baafe1a3c0fed2f43",
      "placeholder": "​",
      "style": "IPY_MODEL_02c312df6bf84646b6a9830dcefb2328",
      "value": " 1.17MB of 1.17MB uploaded (0.00MB deduped)\r"
     }
    },
    "be51efa6437f4682918bd70d857231b0": {
     "model_module": "@jupyter-widgets/controls",
     "model_name": "VBoxModel",
     "state": {
      "_dom_classes": [],
      "_model_module": "@jupyter-widgets/controls",
      "_model_module_version": "1.5.0",
      "_model_name": "VBoxModel",
      "_view_count": null,
      "_view_module": "@jupyter-widgets/controls",
      "_view_module_version": "1.5.0",
      "_view_name": "VBoxView",
      "box_style": "",
      "children": [
       "IPY_MODEL_924b43a644ed43f687c55540d31224dc",
       "IPY_MODEL_dc5086f644434e74b14cbdbb780191c5"
      ],
      "layout": "IPY_MODEL_d96f94aea94b4c54a1c2b9c3008b6f1b"
     }
    },
    "bf5c39b5d9004b9db72d4f38dc04e181": {
     "model_module": "@jupyter-widgets/base",
     "model_name": "LayoutModel",
     "state": {
      "_model_module": "@jupyter-widgets/base",
      "_model_module_version": "1.2.0",
      "_model_name": "LayoutModel",
      "_view_count": null,
      "_view_module": "@jupyter-widgets/base",
      "_view_module_version": "1.2.0",
      "_view_name": "LayoutView",
      "align_content": null,
      "align_items": null,
      "align_self": null,
      "border": null,
      "bottom": null,
      "display": null,
      "flex": null,
      "flex_flow": null,
      "grid_area": null,
      "grid_auto_columns": null,
      "grid_auto_flow": null,
      "grid_auto_rows": null,
      "grid_column": null,
      "grid_gap": null,
      "grid_row": null,
      "grid_template_areas": null,
      "grid_template_columns": null,
      "grid_template_rows": null,
      "height": null,
      "justify_content": null,
      "justify_items": null,
      "left": null,
      "margin": null,
      "max_height": null,
      "max_width": null,
      "min_height": null,
      "min_width": null,
      "object_fit": null,
      "object_position": null,
      "order": null,
      "overflow": null,
      "overflow_x": null,
      "overflow_y": null,
      "padding": null,
      "right": null,
      "top": null,
      "visibility": null,
      "width": null
     }
    },
    "c016e7be781d48b0bc637c1b532be9e5": {
     "model_module": "@jupyter-widgets/base",
     "model_name": "LayoutModel",
     "state": {
      "_model_module": "@jupyter-widgets/base",
      "_model_module_version": "1.2.0",
      "_model_name": "LayoutModel",
      "_view_count": null,
      "_view_module": "@jupyter-widgets/base",
      "_view_module_version": "1.2.0",
      "_view_name": "LayoutView",
      "align_content": null,
      "align_items": null,
      "align_self": null,
      "border": null,
      "bottom": null,
      "display": null,
      "flex": null,
      "flex_flow": null,
      "grid_area": null,
      "grid_auto_columns": null,
      "grid_auto_flow": null,
      "grid_auto_rows": null,
      "grid_column": null,
      "grid_gap": null,
      "grid_row": null,
      "grid_template_areas": null,
      "grid_template_columns": null,
      "grid_template_rows": null,
      "height": null,
      "justify_content": null,
      "justify_items": null,
      "left": null,
      "margin": null,
      "max_height": null,
      "max_width": null,
      "min_height": null,
      "min_width": null,
      "object_fit": null,
      "object_position": null,
      "order": null,
      "overflow": null,
      "overflow_x": null,
      "overflow_y": null,
      "padding": null,
      "right": null,
      "top": null,
      "visibility": null,
      "width": null
     }
    },
    "c61c6eaeea27485eaefbf3df53e3e5fb": {
     "model_module": "@jupyter-widgets/controls",
     "model_name": "DescriptionStyleModel",
     "state": {
      "_model_module": "@jupyter-widgets/controls",
      "_model_module_version": "1.5.0",
      "_model_name": "DescriptionStyleModel",
      "_view_count": null,
      "_view_module": "@jupyter-widgets/base",
      "_view_module_version": "1.2.0",
      "_view_name": "StyleView",
      "description_width": ""
     }
    },
    "d05a0c6d7c7a41b2a322e824dbc8c361": {
     "model_module": "@jupyter-widgets/controls",
     "model_name": "VBoxModel",
     "state": {
      "_dom_classes": [],
      "_model_module": "@jupyter-widgets/controls",
      "_model_module_version": "1.5.0",
      "_model_name": "VBoxModel",
      "_view_count": null,
      "_view_module": "@jupyter-widgets/controls",
      "_view_module_version": "1.5.0",
      "_view_name": "VBoxView",
      "box_style": "",
      "children": [
       "IPY_MODEL_e391082a3d50495fb3d5b4c8c02e1742",
       "IPY_MODEL_149847d0fe35429682dee1f6539860bc"
      ],
      "layout": "IPY_MODEL_c016e7be781d48b0bc637c1b532be9e5"
     }
    },
    "d96f94aea94b4c54a1c2b9c3008b6f1b": {
     "model_module": "@jupyter-widgets/base",
     "model_name": "LayoutModel",
     "state": {
      "_model_module": "@jupyter-widgets/base",
      "_model_module_version": "1.2.0",
      "_model_name": "LayoutModel",
      "_view_count": null,
      "_view_module": "@jupyter-widgets/base",
      "_view_module_version": "1.2.0",
      "_view_name": "LayoutView",
      "align_content": null,
      "align_items": null,
      "align_self": null,
      "border": null,
      "bottom": null,
      "display": null,
      "flex": null,
      "flex_flow": null,
      "grid_area": null,
      "grid_auto_columns": null,
      "grid_auto_flow": null,
      "grid_auto_rows": null,
      "grid_column": null,
      "grid_gap": null,
      "grid_row": null,
      "grid_template_areas": null,
      "grid_template_columns": null,
      "grid_template_rows": null,
      "height": null,
      "justify_content": null,
      "justify_items": null,
      "left": null,
      "margin": null,
      "max_height": null,
      "max_width": null,
      "min_height": null,
      "min_width": null,
      "object_fit": null,
      "object_position": null,
      "order": null,
      "overflow": null,
      "overflow_x": null,
      "overflow_y": null,
      "padding": null,
      "right": null,
      "top": null,
      "visibility": null,
      "width": null
     }
    },
    "dc5086f644434e74b14cbdbb780191c5": {
     "model_module": "@jupyter-widgets/controls",
     "model_name": "FloatProgressModel",
     "state": {
      "_dom_classes": [],
      "_model_module": "@jupyter-widgets/controls",
      "_model_module_version": "1.5.0",
      "_model_name": "FloatProgressModel",
      "_view_count": null,
      "_view_module": "@jupyter-widgets/controls",
      "_view_module_version": "1.5.0",
      "_view_name": "ProgressView",
      "bar_style": "",
      "description": "",
      "description_tooltip": null,
      "layout": "IPY_MODEL_93798bf7fb3f4b59b480e6ef7849c66a",
      "max": 1,
      "min": 0,
      "orientation": "horizontal",
      "style": "IPY_MODEL_376e71389c0942e9aa29faaed0e97ff3",
      "value": 1
     }
    },
    "e1e577b46d1444279e817a6d5c9e790a": {
     "model_module": "@jupyter-widgets/base",
     "model_name": "LayoutModel",
     "state": {
      "_model_module": "@jupyter-widgets/base",
      "_model_module_version": "1.2.0",
      "_model_name": "LayoutModel",
      "_view_count": null,
      "_view_module": "@jupyter-widgets/base",
      "_view_module_version": "1.2.0",
      "_view_name": "LayoutView",
      "align_content": null,
      "align_items": null,
      "align_self": null,
      "border": null,
      "bottom": null,
      "display": null,
      "flex": null,
      "flex_flow": null,
      "grid_area": null,
      "grid_auto_columns": null,
      "grid_auto_flow": null,
      "grid_auto_rows": null,
      "grid_column": null,
      "grid_gap": null,
      "grid_row": null,
      "grid_template_areas": null,
      "grid_template_columns": null,
      "grid_template_rows": null,
      "height": null,
      "justify_content": null,
      "justify_items": null,
      "left": null,
      "margin": null,
      "max_height": null,
      "max_width": null,
      "min_height": null,
      "min_width": null,
      "object_fit": null,
      "object_position": null,
      "order": null,
      "overflow": null,
      "overflow_x": null,
      "overflow_y": null,
      "padding": null,
      "right": null,
      "top": null,
      "visibility": null,
      "width": null
     }
    },
    "e391082a3d50495fb3d5b4c8c02e1742": {
     "model_module": "@jupyter-widgets/controls",
     "model_name": "LabelModel",
     "state": {
      "_dom_classes": [],
      "_model_module": "@jupyter-widgets/controls",
      "_model_module_version": "1.5.0",
      "_model_name": "LabelModel",
      "_view_count": null,
      "_view_module": "@jupyter-widgets/controls",
      "_view_module_version": "1.5.0",
      "_view_name": "LabelView",
      "description": "",
      "description_tooltip": null,
      "layout": "IPY_MODEL_fb03d010e7b74a00b5ec998d0036ed55",
      "placeholder": "​",
      "style": "IPY_MODEL_981aff5ff7a3433daf050ff83d271cdc",
      "value": " 0.39MB of 0.39MB uploaded (0.00MB deduped)\r"
     }
    },
    "e6f5d6e6f9af46d48eca41751a9f21f5": {
     "model_module": "@jupyter-widgets/controls",
     "model_name": "ProgressStyleModel",
     "state": {
      "_model_module": "@jupyter-widgets/controls",
      "_model_module_version": "1.5.0",
      "_model_name": "ProgressStyleModel",
      "_view_count": null,
      "_view_module": "@jupyter-widgets/base",
      "_view_module_version": "1.2.0",
      "_view_name": "StyleView",
      "bar_color": null,
      "description_width": ""
     }
    },
    "ee8bfdf9dbf7407e98543efa997598be": {
     "model_module": "@jupyter-widgets/controls",
     "model_name": "ProgressStyleModel",
     "state": {
      "_model_module": "@jupyter-widgets/controls",
      "_model_module_version": "1.5.0",
      "_model_name": "ProgressStyleModel",
      "_view_count": null,
      "_view_module": "@jupyter-widgets/base",
      "_view_module_version": "1.2.0",
      "_view_name": "StyleView",
      "bar_color": null,
      "description_width": ""
     }
    },
    "f10639aabdfe405ab2f7afd2cd9747fe": {
     "model_module": "@jupyter-widgets/controls",
     "model_name": "VBoxModel",
     "state": {
      "_dom_classes": [],
      "_model_module": "@jupyter-widgets/controls",
      "_model_module_version": "1.5.0",
      "_model_name": "VBoxModel",
      "_view_count": null,
      "_view_module": "@jupyter-widgets/controls",
      "_view_module_version": "1.5.0",
      "_view_name": "VBoxView",
      "box_style": "",
      "children": [
       "IPY_MODEL_5b62c3f73fb84bc285e840849da00f9b",
       "IPY_MODEL_7e20afbcaa0e4459bb0ae83ca1e2e819"
      ],
      "layout": "IPY_MODEL_f4a072a4b2964f2ca63451a8fee57f00"
     }
    },
    "f1d790b934a843038edd611d7412e732": {
     "model_module": "@jupyter-widgets/base",
     "model_name": "LayoutModel",
     "state": {
      "_model_module": "@jupyter-widgets/base",
      "_model_module_version": "1.2.0",
      "_model_name": "LayoutModel",
      "_view_count": null,
      "_view_module": "@jupyter-widgets/base",
      "_view_module_version": "1.2.0",
      "_view_name": "LayoutView",
      "align_content": null,
      "align_items": null,
      "align_self": null,
      "border": null,
      "bottom": null,
      "display": null,
      "flex": null,
      "flex_flow": null,
      "grid_area": null,
      "grid_auto_columns": null,
      "grid_auto_flow": null,
      "grid_auto_rows": null,
      "grid_column": null,
      "grid_gap": null,
      "grid_row": null,
      "grid_template_areas": null,
      "grid_template_columns": null,
      "grid_template_rows": null,
      "height": null,
      "justify_content": null,
      "justify_items": null,
      "left": null,
      "margin": null,
      "max_height": null,
      "max_width": null,
      "min_height": null,
      "min_width": null,
      "object_fit": null,
      "object_position": null,
      "order": null,
      "overflow": null,
      "overflow_x": null,
      "overflow_y": null,
      "padding": null,
      "right": null,
      "top": null,
      "visibility": null,
      "width": null
     }
    },
    "f4a072a4b2964f2ca63451a8fee57f00": {
     "model_module": "@jupyter-widgets/base",
     "model_name": "LayoutModel",
     "state": {
      "_model_module": "@jupyter-widgets/base",
      "_model_module_version": "1.2.0",
      "_model_name": "LayoutModel",
      "_view_count": null,
      "_view_module": "@jupyter-widgets/base",
      "_view_module_version": "1.2.0",
      "_view_name": "LayoutView",
      "align_content": null,
      "align_items": null,
      "align_self": null,
      "border": null,
      "bottom": null,
      "display": null,
      "flex": null,
      "flex_flow": null,
      "grid_area": null,
      "grid_auto_columns": null,
      "grid_auto_flow": null,
      "grid_auto_rows": null,
      "grid_column": null,
      "grid_gap": null,
      "grid_row": null,
      "grid_template_areas": null,
      "grid_template_columns": null,
      "grid_template_rows": null,
      "height": null,
      "justify_content": null,
      "justify_items": null,
      "left": null,
      "margin": null,
      "max_height": null,
      "max_width": null,
      "min_height": null,
      "min_width": null,
      "object_fit": null,
      "object_position": null,
      "order": null,
      "overflow": null,
      "overflow_x": null,
      "overflow_y": null,
      "padding": null,
      "right": null,
      "top": null,
      "visibility": null,
      "width": null
     }
    },
    "fb03d010e7b74a00b5ec998d0036ed55": {
     "model_module": "@jupyter-widgets/base",
     "model_name": "LayoutModel",
     "state": {
      "_model_module": "@jupyter-widgets/base",
      "_model_module_version": "1.2.0",
      "_model_name": "LayoutModel",
      "_view_count": null,
      "_view_module": "@jupyter-widgets/base",
      "_view_module_version": "1.2.0",
      "_view_name": "LayoutView",
      "align_content": null,
      "align_items": null,
      "align_self": null,
      "border": null,
      "bottom": null,
      "display": null,
      "flex": null,
      "flex_flow": null,
      "grid_area": null,
      "grid_auto_columns": null,
      "grid_auto_flow": null,
      "grid_auto_rows": null,
      "grid_column": null,
      "grid_gap": null,
      "grid_row": null,
      "grid_template_areas": null,
      "grid_template_columns": null,
      "grid_template_rows": null,
      "height": null,
      "justify_content": null,
      "justify_items": null,
      "left": null,
      "margin": null,
      "max_height": null,
      "max_width": null,
      "min_height": null,
      "min_width": null,
      "object_fit": null,
      "object_position": null,
      "order": null,
      "overflow": null,
      "overflow_x": null,
      "overflow_y": null,
      "padding": null,
      "right": null,
      "top": null,
      "visibility": null,
      "width": null
     }
    }
   }
  }
 },
 "nbformat": 4,
 "nbformat_minor": 1
}
