{
 "cells": [
  {
   "cell_type": "code",
   "execution_count": null,
   "metadata": {
    "id": "us9XjkueKndn"
   },
   "outputs": [],
   "source": [
    "!pip install wandb"
   ]
  },
  {
   "cell_type": "code",
   "execution_count": 2,
   "metadata": {
    "executionInfo": {
     "elapsed": 3421,
     "status": "ok",
     "timestamp": 1620377847235,
     "user": {
      "displayName": "Nicolai Vanting",
      "photoUrl": "https://lh3.googleusercontent.com/a-/AOh14GiWnEEuOWbZS-OaQ39dImSUs4aeCCg6eT_9I5cKsA=s64",
      "userId": "06389002382871165024"
     },
     "user_tz": -120
    },
    "id": "fAuD_5jvIVI7"
   },
   "outputs": [],
   "source": [
    "import pandas as pd\n",
    "import numpy as np\n",
    "import matplotlib.pyplot as plt\n",
    "import math\n",
    "import random\n",
    "import os\n",
    "\n",
    "from tensorflow.keras.preprocessing import timeseries_dataset_from_array\n",
    "from sklearn.preprocessing import MinMaxScaler, StandardScaler\n",
    "import datetime as dt\n",
    "\n",
    "import tensorflow as tf\n",
    "from tensorflow.keras.models import Sequential\n",
    "from tensorflow.keras import Input\n",
    "from tensorflow.keras.layers import LSTM, GRU, Conv1D, MaxPooling1D, Flatten, Dense, Dropout, TimeDistributed, \\\n",
    "    BatchNormalization\n",
    "from tensorflow.keras.optimizers import RMSprop, Adam, SGD\n",
    "from tensorflow.keras.callbacks import EarlyStopping, ModelCheckpoint, ReduceLROnPlateau\n",
    "\n",
    "import wandb\n",
    "from wandb.keras import WandbCallback\n"
   ]
  },
  {
   "cell_type": "code",
   "execution_count": 3,
   "metadata": {
    "executionInfo": {
     "elapsed": 1755,
     "status": "ok",
     "timestamp": 1620377847236,
     "user": {
      "displayName": "Nicolai Vanting",
      "photoUrl": "https://lh3.googleusercontent.com/a-/AOh14GiWnEEuOWbZS-OaQ39dImSUs4aeCCg6eT_9I5cKsA=s64",
      "userId": "06389002382871165024"
     },
     "user_tz": -120
    },
    "id": "w67Dohx0Ju35"
   },
   "outputs": [],
   "source": [
    "random.seed(hash(\"setting random seeds\") % 2**32 - 1)\n",
    "np.random.seed(hash(\"improves reproducibility\") % 2**32 - 1)\n",
    "tf.random.set_seed(hash(\"by removing stochasticity\") % 2**32 - 1)"
   ]
  },
  {
   "cell_type": "code",
   "execution_count": 5,
   "metadata": {
    "colab": {
     "base_uri": "https://localhost:8080/"
    },
    "executionInfo": {
     "elapsed": 619,
     "status": "ok",
     "timestamp": 1620377861214,
     "user": {
      "displayName": "Nicolai Vanting",
      "photoUrl": "https://lh3.googleusercontent.com/a-/AOh14GiWnEEuOWbZS-OaQ39dImSUs4aeCCg6eT_9I5cKsA=s64",
      "userId": "06389002382871165024"
     },
     "user_tz": -120
    },
    "id": "Y2E5L2F1Jy_m",
    "outputId": "2c9ca79d-54cc-43cd-fe49-ee5300f70f12"
   },
   "outputs": [
    {
     "name": "stderr",
     "output_type": "stream",
     "text": [
      "\u001b[34m\u001b[1mwandb\u001b[0m: Currently logged in as: \u001b[33mnbvanting\u001b[0m (use `wandb login --relogin` to force relogin)\n"
     ]
    },
    {
     "data": {
      "text/plain": [
       "True"
      ]
     },
     "execution_count": 5,
     "metadata": {
      "tags": []
     },
     "output_type": "execute_result"
    }
   ],
   "source": [
    "wandb.login()"
   ]
  },
  {
   "cell_type": "code",
   "execution_count": 6,
   "metadata": {
    "executionInfo": {
     "elapsed": 1011,
     "status": "ok",
     "timestamp": 1620377866259,
     "user": {
      "displayName": "Nicolai Vanting",
      "photoUrl": "https://lh3.googleusercontent.com/a-/AOh14GiWnEEuOWbZS-OaQ39dImSUs4aeCCg6eT_9I5cKsA=s64",
      "userId": "06389002382871165024"
     },
     "user_tz": -120
    },
    "id": "c7jdG4CsK3tE"
   },
   "outputs": [],
   "source": [
    "def create_datasets(dataframe, split, steps, lookback, horizon, batch_size, scaler='standard'):\n",
    "    # Split method\n",
    "    train_split = int(split * dataframe.shape[0])\n",
    "    val_split = int((split+0.1) * dataframe.shape[0])\n",
    "\n",
    "    train = dataframe.iloc[:train_split]\n",
    "    val = dataframe.iloc[train_split:val_split]\n",
    "    test = dataframe.iloc[val_split:]\n",
    "\n",
    "    # Scaler\n",
    "    if scaler == 'standard':\n",
    "        X_scaler = StandardScaler()\n",
    "        y_scaler = StandardScaler()\n",
    "    elif scaler == 'minmax':\n",
    "        X_scaler = MinMaxScaler()\n",
    "        y_scaler = MinMaxScaler()\n",
    "    else:\n",
    "        print(\"Please specify one of 'standard' or 'minmax' to scaler parameter.\")\n",
    "    \n",
    "    # Training\n",
    "    start = lookback + horizon\n",
    "    end = start + train_split\n",
    "\n",
    "    X_train = train.values\n",
    "    y_train = dataframe.iloc[start:end][['Value']]\n",
    "\n",
    "    X_train = X_scaler.fit_transform(X_train)\n",
    "    y_train = y_scaler.fit_transform(y_train)\n",
    "\n",
    "    # Validation\n",
    "    x_end = len(val) - lookback - horizon\n",
    "    y_val_start = train_split + lookback + horizon\n",
    "\n",
    "    X_val = val.iloc[:x_end]\n",
    "    y_val = dataframe.iloc[y_val_start:y_val_start+x_end][['Value']]\n",
    "\n",
    "    X_val = X_scaler.transform(X_val)\n",
    "    y_val = y_scaler.transform(y_val)\n",
    "\n",
    "    # Test\n",
    "    x_end = len(test) - lookback - horizon\n",
    "    y_test_start = val_split + lookback + horizon\n",
    "\n",
    "    X_test = test.iloc[:x_end]\n",
    "    y_test = dataframe.iloc[y_test_start:y_test_start+x_end][['Value']]\n",
    "\n",
    "    X_test = X_scaler.transform(X_test)\n",
    "    y_test = y_scaler.transform(y_test)\n",
    "\n",
    "    # Batch Sequence Generators\n",
    "    sequence_length = int(lookback/steps)\n",
    "\n",
    "    dataset_train = timeseries_dataset_from_array(\n",
    "        X_train, y_train,\n",
    "        sequence_length=sequence_length,\n",
    "        sampling_rate=steps,\n",
    "        batch_size=batch_size,\n",
    "        shuffle=True\n",
    "    )\n",
    "\n",
    "    dataset_val = timeseries_dataset_from_array(\n",
    "        X_val, y_val,\n",
    "        sequence_length=sequence_length,\n",
    "        sampling_rate=steps,\n",
    "        batch_size=batch_size,\n",
    "        shuffle=True\n",
    "    )    \n",
    "\n",
    "    dataset_test = timeseries_dataset_from_array(\n",
    "        X_test, y_test,\n",
    "        sequence_length=sequence_length,\n",
    "        sampling_rate=steps,\n",
    "        batch_size=batch_size,\n",
    "        shuffle=True\n",
    "    )    \n",
    "\n",
    "    return dataset_train, dataset_val, dataset_test\n",
    "\n",
    "def ts_offset_split(dataframe, steps, lookback, horizon, batch_size, scaler='standard'):\n",
    "    start = 0\n",
    "    end = 168\n",
    "    offset = 24\n",
    "    training = []\n",
    "    validation = []\n",
    "\n",
    "    for i in range(int((365+366)/8)):\n",
    "\n",
    "        train = dataframe.iloc[start:end]\n",
    "        val = dataframe.iloc[end:end+offset]\n",
    "        training.append(train)\n",
    "        validation.append(val)\n",
    "\n",
    "        start += 192\n",
    "        end += 192\n",
    "    \n",
    "    # Decide Splits for sets\n",
    "    train = pd.concat(training)\n",
    "\n",
    "    val = pd.concat(validation)\n",
    "    train = train.append(dataframe[(dataframe.index.date > val.index.max()) & (dataframe.index.date < dt.date(2021,1,1))])\n",
    "\n",
    "    test = dataframe[dataframe.index.date >= dt.date(2021,1,1)]\n",
    "    \n",
    "    tmpdf = pd.concat([train,val,test])\n",
    "\n",
    "    # Scaler\n",
    "    if scaler == 'standard':\n",
    "        X_scaler = StandardScaler()\n",
    "        y_scaler = StandardScaler()\n",
    "    elif scaler == 'minmax':\n",
    "        X_scaler = MinMaxScaler()\n",
    "        y_scaler = MinMaxScaler()\n",
    "    else:\n",
    "        print(\"Please specify one of 'standard' or 'minmax' to scaler parameter.\")\n",
    "    \n",
    "    # Training\n",
    "    start = lookback + horizon\n",
    "    end = start + train.shape[0]\n",
    "\n",
    "    X_train = train.values\n",
    "    y_train = tmpdf.iloc[start:end][['Value']]\n",
    "\n",
    "    X_train = X_scaler.fit_transform(X_train)\n",
    "    y_train = y_scaler.fit_transform(y_train)\n",
    "\n",
    "    # Validation\n",
    "    x_end = len(val) - lookback - horizon\n",
    "    y_val_start = train.shape[0] + lookback + horizon\n",
    "\n",
    "    X_val = val.iloc[:x_end]\n",
    "    y_val = tmpdf.iloc[y_val_start:y_val_start+x_end][['Value']]\n",
    "\n",
    "    X_val = X_scaler.transform(X_val)\n",
    "    y_val = y_scaler.transform(y_val)\n",
    "\n",
    "    # Test\n",
    "    x_end = len(test) - lookback - horizon\n",
    "    y_test_start = (train.shape[0] + val.shape[0]) + lookback + horizon\n",
    "\n",
    "    X_test = test.iloc[:x_end]\n",
    "    y_test = tmpdf.iloc[y_test_start:y_test_start+x_end][['Value']]\n",
    "\n",
    "    X_test = X_scaler.transform(X_test)\n",
    "    y_test = y_scaler.transform(y_test)\n",
    "\n",
    "    # Batch Sequence Generators\n",
    "    sequence_length = int(lookback/steps)\n",
    "\n",
    "    dataset_train = timeseries_dataset_from_array(\n",
    "        X_train, y_train,\n",
    "        sequence_length=sequence_length,\n",
    "        sampling_rate=steps,\n",
    "        batch_size=batch_size,\n",
    "        shuffle=True\n",
    "    )\n",
    "\n",
    "    dataset_val = timeseries_dataset_from_array(\n",
    "        X_val, y_val,\n",
    "        sequence_length=sequence_length,\n",
    "        sampling_rate=steps,\n",
    "        batch_size=batch_size,\n",
    "        shuffle=True\n",
    "    )    \n",
    "\n",
    "    dataset_test = timeseries_dataset_from_array(\n",
    "        X_test, y_test,\n",
    "        sequence_length=sequence_length,\n",
    "        sampling_rate=steps,\n",
    "        batch_size=batch_size,\n",
    "        shuffle=False\n",
    "    )    \n",
    "\n",
    "    return dataset_train, dataset_val, dataset_test"
   ]
  },
  {
   "cell_type": "code",
   "execution_count": 14,
   "metadata": {
    "executionInfo": {
     "elapsed": 645,
     "status": "ok",
     "timestamp": 1620378107558,
     "user": {
      "displayName": "Nicolai Vanting",
      "photoUrl": "https://lh3.googleusercontent.com/a-/AOh14GiWnEEuOWbZS-OaQ39dImSUs4aeCCg6eT_9I5cKsA=s64",
      "userId": "06389002382871165024"
     },
     "user_tz": -120
    },
    "id": "l3-yt8p3J3AJ"
   },
   "outputs": [],
   "source": [
    "def load_data(config, splitmethod):\n",
    "    # Load csv & parse dates to datetime index\n",
    "    data = pd.read_csv(f'/content/drive/MyDrive/Thesis/{config.dataset}_features.csv', index_col='Datetime', parse_dates=['Datetime'])\n",
    "    # Select Features\n",
    "    data = data[['Value', 'sunshine_mins', 'airtemp_c', 'daylength_hrs', 'wkdy_sin', 'wkdy_cos', 'wknd', 'mnth_sin', 'mnth_cos']]\n",
    "    \n",
    "    if splitmethod == 'offset':\n",
    "        train, val, test = ts_offset_split(data, \n",
    "                                  steps=steps, lookback=config.lookback, \n",
    "                                  horizon=horizon, batch_size=config.batch_size, \n",
    "                                  scaler='standard')\n",
    "    \n",
    "    elif splitmethod == 'standard':\n",
    "        train, val, test = create_datasets(data, split=config.splitrate, \n",
    "                                  steps=steps, lookback=config.lookback, \n",
    "                                  horizon=horizon, batch_size=config.batch_size, \n",
    "                                  scaler='standard')\n",
    "    \n",
    "    return train, val, test\n",
    "    \n",
    "    \n",
    "def build_model(config):\n",
    "        \n",
    "    model = Sequential()\n",
    "\n",
    "    model.add(Input(shape=(config.lookback, config.num_features)))\n",
    "\n",
    "    # CNN Block\n",
    "    model.add(Conv1D(filters=config.cnn_layer_size_1, kernel_size=config.kernelsize, activation=config.activation_cnn))\n",
    "    model.add(MaxPooling1D(pool_size=2))    \n",
    "    if config.cnn_lay_2:\n",
    "        model.add(Conv1D(filters=config.cnn_layer_size_2, kernel_size=config.kernelsize, activation=config.activation_cnn))\n",
    "        model.add(MaxPooling1D(pool_size=2))\n",
    "    if config.cnn_lay_3:\n",
    "        model.add(Conv1D(filters=config.cnn_layer_size_3, kernel_size=config.kernelsize, activation=config.activation_cnn))\n",
    "        model.add(MaxPooling1D(pool_size=2))\n",
    "    \n",
    "    # RNN Block\n",
    "    if config.gru_lay_1:\n",
    "        model.add(GRU(config.gru_layer_size_1, return_sequences=True, activation=config.activation_gru))\n",
    "        model.add(Dropout(config.dropout))\n",
    "    if config.gru_lay_2:\n",
    "        model.add(GRU(config.gru_layer_size_2, return_sequences=True, activation=config.activation_gru))\n",
    "        model.add(Dropout(config.dropout))\n",
    "    \n",
    "    model.add(GRU(config.gru_layer_size_3, return_sequences=False, activation=config.activation_gru))\n",
    "    model.add(Dropout(config.dropout))\n",
    "\n",
    "    model.add(Dense(1))\n",
    "    \n",
    "    opt = config.optimizer\n",
    "    if opt == 'sgd':\n",
    "        optimizer = SGD(learning_rate=config.learning_rate, momentum=config.momentum)\n",
    "        \n",
    "    model.compile(optimizer=optimizer, loss='mse', metrics=['mae'])\n",
    "    \n",
    "    return model\n",
    "\n",
    "def log_defaults():\n",
    "    # Default values from the first sweep\n",
    "    # The following values resulted in the strongest model\n",
    "    wandb_config = {\n",
    "        'num_features' : 9,\n",
    "        'epochs' : 100,\n",
    "        'batch_size' : 240,\n",
    "        'num_cnn_layers' : 2, # Number of additional layers\n",
    "        'num_gru_layers' : 2, # Number of additional layers\n",
    "        'optimizer' : 'sgd',\n",
    "        'dropout' : 0.024,\n",
    "        'lookback' : 744,\n",
    "        'activation_cnn' : 'relu',\n",
    "        'activation_gru' : 'tanh',\n",
    "        'kernelsize': 3,\n",
    "        'cnn_lay_2' : True,\n",
    "        'cnn_lay_3' : True,\n",
    "        'cnn_layer_size_1' : 64,\n",
    "        'cnn_layer_size_2' : 176,\n",
    "        'cnn_layer_size_3' : 248,\n",
    "        'gru_lay_1': True,\n",
    "        'gru_lay_2': True,\n",
    "        'gru_layer_size_1' : 56,\n",
    "        'gru_layer_size_2' : 128,\n",
    "        'gru_layer_size_3' : 144,\n",
    "        'learning_rate' : 0.03515,\n",
    "        'momentum' : 0.9,\n",
    "        'dataset' : 'kolding',\n",
    "        'splitrate': 0.8,\n",
    "        'splitmethod': 'offset',\n",
    "        \n",
    "    }\n",
    "    return wandb_config\n",
    "\n",
    "def run_tuner():\n",
    "    \n",
    "    wandb.init(config=log_defaults(), group='cnnrnn-sweep-5', project='thesis')\n",
    "    \n",
    "    model = build_model(config=wandb.config)\n",
    "    \n",
    "    train, val, test = load_data(config=wandb.config, splitmethod=wandb.config.splitmethod)\n",
    "    \n",
    "    callbacks = [WandbCallback()]\n",
    "    \n",
    "    model.fit(\n",
    "        train,\n",
    "        epochs=wandb.config.epochs,\n",
    "        validation_data=val,\n",
    "        callbacks=callbacks\n",
    "    )\n",
    "\n",
    "    eval = model.evaluate(test)\n",
    "\n",
    "    wandb.log({'test_loss': eval[0]})\n",
    "    wandb.log({'test_mae': eval[1]})\n",
    "    wandb.log({'test_mape': eval[2]})\n"
   ]
  },
  {
   "cell_type": "code",
   "execution_count": 10,
   "metadata": {
    "executionInfo": {
     "elapsed": 593,
     "status": "ok",
     "timestamp": 1620378001953,
     "user": {
      "displayName": "Nicolai Vanting",
      "photoUrl": "https://lh3.googleusercontent.com/a-/AOh14GiWnEEuOWbZS-OaQ39dImSUs4aeCCg6eT_9I5cKsA=s64",
      "userId": "06389002382871165024"
     },
     "user_tz": -120
    },
    "id": "91SdR1KqJ4_L"
   },
   "outputs": [],
   "source": [
    "# Sweep Config\n",
    "sweep_config = {\n",
    "    'method': 'random',\n",
    "    'metric': {\n",
    "        'name': 'val_loss',\n",
    "        'goal': 'minimize'\n",
    "    },\n",
    "    'early_terminate': {\n",
    "        'type': 'hyperband',\n",
    "        'min_iter': 5\n",
    "    },\n",
    "    'parameters': {\n",
    "        'num_features' : {\n",
    "            'value' : 9\n",
    "        },\n",
    "        'batch_size': {\n",
    "            'distribution': 'q_log_uniform',\n",
    "            'q': 1,\n",
    "            'min': math.log(32),\n",
    "            'max': math.log(256)\n",
    "        },\n",
    "        'lookback': {\n",
    "            'value': 24*31\n",
    "        },\n",
    "        'optimizer': {\n",
    "            'value': 'sgd'\n",
    "        },\n",
    "        'dropout': {\n",
    "            'distribution': 'uniform',\n",
    "            'min': 0.01,\n",
    "            'max': 0.5\n",
    "        },\n",
    "        'epochs': {\n",
    "            'value': 25\n",
    "        },\n",
    "        'activation_gru': {\n",
    "            'value': 'tanh'\n",
    "        },\n",
    "        'activation_cnn': {\n",
    "            'value': 'relu'\n",
    "        },\n",
    "        'kernelsize': {\n",
    "            'values': [3, 5, 7]\n",
    "        },\n",
    "        'cnn_lay_2': {\n",
    "            'values': [True, False]\n",
    "        },\n",
    "        'cnn_lay_3': {\n",
    "            'values': [True, False]\n",
    "        },\n",
    "        'cnn_layer_size_1': {\n",
    "            'distribution': 'q_log_uniform',\n",
    "            'q': 1,\n",
    "            'min': math.log(32),\n",
    "            'max': math.log(256)\n",
    "        },\n",
    "        'cnn_layer_size_2': {\n",
    "            'distribution': 'q_log_uniform',\n",
    "            'q': 1,\n",
    "            'min': math.log(32),\n",
    "            'max': math.log(256)\n",
    "        },\n",
    "        'cnn_layer_size_3': {\n",
    "            'distribution': 'q_log_uniform',\n",
    "            'q': 1,\n",
    "            'min': math.log(32),\n",
    "            'max': math.log(256)\n",
    "        },\n",
    "        'gru_lay_1': {\n",
    "            'values': [True, False]\n",
    "        },\n",
    "        'gru_lay_2': {\n",
    "            'values': [True, False]\n",
    "        },\n",
    "        'gru_layer_size_1': {\n",
    "            'distribution': 'q_log_uniform',\n",
    "            'q': 1,\n",
    "            'min': math.log(32),\n",
    "            'max': math.log(256)\n",
    "        },\n",
    "        'gru_layer_size_2': {\n",
    "            'distribution': 'q_log_uniform',\n",
    "            'q': 1,\n",
    "            'min': math.log(32),\n",
    "            'max': math.log(256)\n",
    "        },\n",
    "        'gru_layer_size_3': {\n",
    "            'distribution': 'q_log_uniform',\n",
    "            'q': 1,\n",
    "            'min': math.log(32),\n",
    "            'max': math.log(256)\n",
    "        },\n",
    "        'learning_rate': {\n",
    "            'distribution': 'uniform',\n",
    "            'min': 0.001,\n",
    "            'max': 0.04\n",
    "        },\n",
    "        'momentum': {\n",
    "            'distribution': 'uniform',\n",
    "            'min': 0.5,\n",
    "            'max': 1\n",
    "        },\n",
    "        'num_cnn_layers': {\n",
    "            'value': 2\n",
    "        },\n",
    "        'num_gru_layers': {\n",
    "            'value': 2\n",
    "        },\n",
    "        'dataset': {\n",
    "            'values': ['kolding', 'strib']\n",
    "        },\n",
    "        'splitrate': {\n",
    "            'value': 0.8\n",
    "        },\n",
    "        'splitmethod': {\n",
    "            'values': ['offset', 'standard']\n",
    "        }\n",
    "    }\n",
    "}"
   ]
  },
  {
   "cell_type": "code",
   "execution_count": 11,
   "metadata": {
    "executionInfo": {
     "elapsed": 727,
     "status": "ok",
     "timestamp": 1620378011480,
     "user": {
      "displayName": "Nicolai Vanting",
      "photoUrl": "https://lh3.googleusercontent.com/a-/AOh14GiWnEEuOWbZS-OaQ39dImSUs4aeCCg6eT_9I5cKsA=s64",
      "userId": "06389002382871165024"
     },
     "user_tz": -120
    },
    "id": "a603MQpnJ68H"
   },
   "outputs": [],
   "source": [
    "# Additional Parameters\n",
    "steps = 1 # timesteps: 1 hour\n",
    "horizon = 1 # the target hour in the future we want to predict 1 hour ahead\n",
    "\n"
   ]
  },
  {
   "cell_type": "code",
   "execution_count": 12,
   "metadata": {
    "colab": {
     "base_uri": "https://localhost:8080/"
    },
    "executionInfo": {
     "elapsed": 631,
     "status": "ok",
     "timestamp": 1620378018163,
     "user": {
      "displayName": "Nicolai Vanting",
      "photoUrl": "https://lh3.googleusercontent.com/a-/AOh14GiWnEEuOWbZS-OaQ39dImSUs4aeCCg6eT_9I5cKsA=s64",
      "userId": "06389002382871165024"
     },
     "user_tz": -120
    },
    "id": "ZDXpFB3EKBW_",
    "outputId": "180b0911-0396-4a56-ec8f-45387a2e2a55"
   },
   "outputs": [
    {
     "name": "stdout",
     "output_type": "stream",
     "text": [
      "Create sweep with ID: xjdtj3eo\n",
      "Sweep URL: https://wandb.ai/nbvanting/thesis/sweeps/xjdtj3eo\n"
     ]
    }
   ],
   "source": [
    "sweep_id = wandb.sweep(sweep_config, project='thesis')"
   ]
  },
  {
   "cell_type": "code",
   "execution_count": 15,
   "metadata": {
    "colab": {
     "base_uri": "https://localhost:8080/",
     "height": 1000,
     "referenced_widgets": [
      "b8609d1a5b03409f8b8fa82d631588b5",
      "055d0e565bd5421db4a73da1d47afbf8",
      "131ceaa801d04db79950ff97207da3dc",
      "1724d135d8764f9d93ae70afd58e0884",
      "3c4faa613ca94e54bb439e34ea007564",
      "a2acf69d3e5841ee89ded138c59b5011",
      "4497eef1ad8846c8882a94ffc1ecd41b",
      "33f74fb3836f402785f8222f27a379de",
      "a046ad0b89694cc3b1de0e67f3870208",
      "f05c38dd86ac439084ecb17db16e37c1",
      "76833d3e3b6246c086e7b700a18ca859",
      "5dda61a56d8d43d782e3305e7dfb1d1c",
      "8964e06b21764a70985a532e61df4a72",
      "2d95dd99c6f742a7a263d1b521beaa00",
      "e55926bf4b31458f9f47c17383d13a5d",
      "8c96429c5fed43de89de536dd5abb705",
      "2613d5a50f044f29b6daee33db01d0c0",
      "9e0690492c3c46a79890f63a6b076e99",
      "03681345320944cc8179c4920f6d62a7",
      "c5d170a3b02e4dd1a64b000c7226564b",
      "6edce6f4298f4252ace09e879969dddf",
      "60017f7c91fe4daeab94cd23140565d5",
      "d0328cc92aa04579b45b4011571fc11e",
      "a5319b685b54456ca499c64445465d59",
      "39c5957113d24b2c80d83f7ca4cd79f7",
      "ebcd8a2dd1924fd28e4a33e022fa2d0d",
      "689119657e5f4251956eba9449fbfbd4",
      "a931ae4b03404f97b644515932a17dca",
      "4f28944aa5be449da19d3b0498c633ae",
      "d0adf0ccaca84e179b64da36a189f4d1",
      "ae442ea74e9648d18e1e33490e2ae9d4",
      "006ab2005a30406d8b7e7f101a22e016",
      "dc62d0e79c6e4e9da5fc3a3d40e58362",
      "b84d7613c94048759c7edf966f78ef34",
      "964445c7585740499ba1b5bb2da2a570",
      "2b8c14ee2de5486f9452d1a7ad8d040b",
      "03d23c7bc0f541c39e478e80c97dad72",
      "b485d86af50d4038942b5de9c5cde041",
      "b397f473f47e4361870b3ab474400fbd",
      "4d8c9b98b0de4433801dd85a3c3741c1",
      "64772c893f504027a2100a1ffbb331f1",
      "29b2796a4dae402294c1c6717a221579",
      "3ec82169da1f48d3b15ed29ca774a415",
      "bbebd14be61b453a981095eba658b7b0",
      "d7d1a72efdd744ae9ad055b175a4001a",
      "bedd16c4d2a74e0f92952464127f837a",
      "eced63a569094128abd81b5b25b03b85",
      "4a2ddf40bada46d5be0e76a1b5967323",
      "84c8e441a5484857a6ec9b5c66e6a95e",
      "15bcb1138ce84eb3b5bc4bb42a6e0d0d",
      "4bd0643c290b40eba204302c697a313d",
      "885eba4deff346089dc160487e59ffde",
      "37fda328e33a435bb0b13e9425b69ea6",
      "7701675f317a4c49b6f4b3337e47cd68",
      "5fb493d7c5774fdd9380238f94b38ebe",
      "9863d2a1c9dd443bba7cf089cc1f86ee",
      "16df411f935a4239b0f266fd65c7f680",
      "7b22747b327944f0846f43658d2c22e0",
      "2a672ad8ad0d44328a01ce07a4cecf76",
      "184c2422e24d4f64a444062830a279a6",
      "8b6f74da450c4dd18fe37b4e59f4b80f",
      "ed32cdc963aa48da92c4cea5b50ce663",
      "130cf36e247749d6a4b0a4a47e00798c",
      "7a14ffc85f0846259a219cd107d43be6",
      "2e903eb7384042e6b69b1919183c6ee5",
      "810ae8b208354db1b10ba44e9fd8ef7b",
      "aa3ae0286b9740af984a13685095b5e0",
      "f9dc945c503b48809703d913ff155660",
      "a67929dfaf9a40a398f5a1a826e046d0",
      "978ba85061fb43418e968fd694a942e2",
      "6573d9d1b01b4503837159f980c4afa1",
      "3df68021046644448b69e91f3c2b2a55",
      "92d2cfac42794e72aeca7fbff4f89fce",
      "0f95e19abb444c288d90ce6e9e94307d",
      "37e4952123db4bbabe4b8df020ba7ae8",
      "aec41dc3f76f4b5cb2a0cf58a7d0c46d",
      "3ca32eae130f44dcbf7e4a658a1f70d8",
      "18fda9594e5b4876b14426da2483d4e0",
      "b07d99c8949c4404a63138d14f2a98fc",
      "035dbc0d1b3547fcbab95238c3bf5bed",
      "6ce1ac480a3841b7bca9f6f54cce6690",
      "c2f29096be3d4690846178636de721b5",
      "fe3d6a8b30484b5780f03161dcc2ea15",
      "fbf00302ee8c44dc966a87a0b6572117",
      "562b3fb4b002428cbdb57e0287b1b199",
      "561c51cdcb7541e88f183680828f4001",
      "42be9f73079a45d2b32e10777746a890",
      "603df89816a7487f867482d4769cc3fb",
      "110bb900b0fc48fb9bfcc9c5c814bb10",
      "192aa2d0dd1e4addbe5bf1cdea75f30e",
      "57e5000240ed4b9abd0cfc492f60395a",
      "a603be1dd74d41cba7a00485c26107cc",
      "d1ed86cc6dc34d1dab67927f816e7cb8",
      "219724b6871a44d58e64c614ae1836fd",
      "12fcc164d84b4fcdbcb16a45b7261a43",
      "a36fe6e57efe45c8b1f7b2ebf2a3003d",
      "fd0fc2b7bff040b5ac80fee34ef5ef88",
      "8efb79aa0b984f8299759ea68c4bd429",
      "f4f5eb9c1e6243758cee3f84ad0ea82c",
      "f51ca23dc4924723b11a3cd2a7546ed1",
      "cb4275038c764fa1bd6cd34ee6c53c8a",
      "f292e97718a04aa291507a48eac19f4b",
      "09f8d1ab771046f9a5336f926544a9f1",
      "fbd69b84e3064d4fb51010ec4da07a1c",
      "36245ce09c6d41a48a9a5593ac3cb25c",
      "372e23cc77b24f238056eeccb532e9b1",
      "5dd2e5a0bcd14f8581cd583fe7656b4d",
      "a089a90eacf24879bfe1893d53f4a433",
      "9711d0f9c4f741c8baeb901585bf55a3",
      "2aa74851e18e4803ac56c35db47b19db",
      "2abe433d6b91458eb9bbc6674fa49b16",
      "ed727062227245c2ab4de4f1c2dae954",
      "01e9ab47b2f440b197cb196405dae3c7",
      "93d4bb405840493aa5b880c16fd64c38",
      "32b2cc76421e402bae744f8fe0e8bdcb",
      "4f09b611e1fb4096b4e406d039f6c5f6",
      "dc0e7d8d104b443a8ba3e51a81d7a088",
      "3cde705145d849a2afff46f2ebb095a1",
      "df661ffe12d04a6eb21785587d842dd7",
      "9ef0f333065e4a17a7aa6e8ec446cf71",
      "db4dbfbf15dd433b9ab3662a8d7a6b41",
      "dcae7bd02d54405ab46a027d2d55e626",
      "ab05add826fa46e3a45791083383babd",
      "a52e0485f2444b97a697e73d429b9965",
      "42156e5fa9d94b01b05b9393988115c7",
      "a55d3a6dba1840aa9d8f52d1d932633e",
      "48ab68228fa34a5282d79513af784350",
      "771073f7aebb4bb9b6f1ff89cb94ffcc",
      "b70f6002040c4644ae44ee6ad38d5720",
      "50cce0d9bc174f678cbda6195d2b13d1",
      "89f9b40907ad4b2591e5be69bf05f57f",
      "80d83c86193c491d814e7bb0c8d78fd3",
      "4f1d8fa644aa4cd188d271a9eb0451db",
      "63790e6bddc7471793cba96475d0ca88",
      "2e2286f1a00a4533a82dc3a8da46ada7",
      "6777c31df07748b49ca6a5c772a6d85b",
      "0f07de4486124c62b709de89749442a4",
      "fd31af82346744a1ba77123c9955728b",
      "2e40677b3b094c3aaefbd8c86dd6c8cd",
      "56856a4cae144cff9baab2641a4f94c6",
      "a981d87379dd428791b5b86a0eef980a",
      "e090395478024966aa771e9599f6ac4f",
      "00a329e73e7d47c4aadadd929161e485",
      "a0dfe2a7cae1404fb76548019a3df991",
      "1248bad45abe40d1b251600aedb59c13",
      "d7481241f1b2423e8647ae11bdeda6eb",
      "bc7e12732a1d4a49a9fb3eb08c623554",
      "4bace665f7e94fdcb3045492baf1ca94",
      "bcbb5d8d61b3422c80dac0af518917d6",
      "26f6f355c6fd443daa3c88f6bc66e291",
      "908f659dbee54c6fae03a4fa66afb39f",
      "469e12d5151c4d91b8b76f0d177573e8",
      "f5cbeb2e147d4581a1ac1b1855c2d415",
      "facdfa2b48524e3daad1359110973cc5",
      "2c8e895bd49c4dcd9831027ab29b7b71",
      "f4d1fd0ac3c64708924358faae3cc55a",
      "6563ad985f72451cbfe9af7fdb96aa26",
      "9d7e3907d9da426e9504fbfa7440cf14",
      "9a1dbeda7c0042038d6bc43db1bcc2b7",
      "dcf59fedcade4f50a6fadb35841a488d",
      "9a2482bc12bd414f97ade0f9587da405",
      "5eaf5c051e8d456ca8e8c0eb0ddb37cc",
      "b44d3f4e2b9646d6807fc4b7bd1a764e",
      "13604f4131b24547b9a4107c1bf86b7b",
      "9a504f7c429a49498a5fd9e993ea227a",
      "7e88d02d813841dcbda4796e31531d01",
      "60e281e1dc244a2da21001d9282ce503",
      "5504090a87bb44a8a2ff43dbad25193f",
      "6043ff641e0d49299c754fad6cc37941",
      "61e666cf2ab14ac3a89be38bb2ed0d6d",
      "8a105f834687458ea1c356b5fec5acb5",
      "046de15aeeb8451cb6d6647bf17293d0",
      "95db3c5e45284edfb7358f0924ddc97c",
      "b4578dc5557e4a9e89314773401afddf",
      "1de7f6c25f2344c1b5cdb723796b90b9",
      "ea0b24840b77482f8ff21bc54dee092f",
      "2e9818a2e2a94382abe869feead83552",
      "1e76e0b4aaf5418c8bcc0822d6190d33",
      "82d76c30cfaa4a24af3993fd584b425f",
      "2acfeac22b464dd8b39168af64321390",
      "2f5cf4a36a904e01895946ec7e6ea04c",
      "38792e2c4cac4414ac45226341ee31c3",
      "0b6ef4fb154b4934866e6b28eb522b13",
      "584a3f239c4042d38a06768d367f74cf",
      "dfe2520b01824d69996bdc83713f2f2e",
      "7a6ab6409ebc4ebb91c9a13bc2be3fb2",
      "1ee359116c3648b19067bd3d998b521e",
      "11f334f357e84ab7ae6b460511e6d259",
      "b3f4a07aa8d942b89489d9fa475faf06",
      "1b0a595d067647c1a90cdcdce2f8b8ce",
      "dfd017d91d474d76b0a1cec718d379c2",
      "7c92452272254272b95a8f073e8cfbea",
      "d146fe3f5dd94ddcbb2a9d0a032b12c7",
      "3928e2b481be4b829e8a69f2c72c195a",
      "bca9db9da5304f3dacd3f1fa3ef3b976",
      "180eec7f68f744799076ec8803325dd8",
      "868843db1ab5436d8c73a57e71833fd3",
      "f7a0dfad1bdf439ca5fccea08c9d3e30",
      "b60569d8ba0443d1ba67b89879c5127c",
      "2c2c2b3ff5574dcba3da25f71d676f24",
      "ac594936cc144a4a91b2b0b7dd73a5b4",
      "7560c4d3a1b24d8a975dc869cfe3ac84",
      "95725a0cdb5d4152909f996fb9fadd17",
      "de53318375394e8aab2073a029b3ebd2",
      "e97bd32d41cd4565b1023d9fe636bb50",
      "f17aad71024b4a40bd20435e3561dbed",
      "b7961746ea834b0abb397ea0a0111565",
      "359c2220557c4bddb77c1bc3882f88f6",
      "80ea65066c1b437b9294272bfbedc810",
      "eff188b0452742bf9d4aa474eaea747a",
      "1b2a76d61e6d45eda6f1a920444f1093",
      "cf2035af3d294f119911c997f5e31d5d",
      "d793062a2fff4a17a632d3b5e7c5b2eb",
      "871cbf79045e479396bec19da5e7e9ca",
      "2958177115c84b979222ab5d9b1d2799",
      "2b787c6428e04aa08a2dc58b8c18860d",
      "37b957f3ca6b47d4bcc6f0e8cd11ea0f",
      "6fed141daa894ab4b3e778f429346250",
      "834f23c9429b4ce6a40dcf755f609da3",
      "8c1d9f8f434c4addbd457fec736cc46d",
      "8ecffba86feb44649373041aa9454af5",
      "1ae43c90ada44f88ae6096628964dd4c",
      "de4cf2652132449fae11c9657321d062",
      "02f07bc4585243b1b8cc487c2869e60b",
      "47e45196ff5b457196ff696404037306",
      "2f59c0bb00e84daba842382c62295d4e",
      "9659e5bb1c13424eb9b5e27b9c299492",
      "5bee195ef68248638704b5417ae464ea",
      "d7529dde31e94343bdd5da1e2d26d6bf",
      "b1496f06455042aebcc7ee556fc0c167",
      "c68bbfcd53474dba8f10869da6bb879d",
      "f6e803886e0441c59566af24f3eabee0",
      "fba99852ce0b40c59393151704df1a80",
      "2679a954921d471aa7dc4213d74ec43e",
      "de03e00644e24d6f8c93c00f5181b7d8",
      "6db8797fb5ae4d9e8df87d807de634d9",
      "22539cdcdb4f4180985b5515cf1edd53",
      "25b47681c58b4c6cbffd24d4dc3db163",
      "c1dbb75c7fb0404d931833bc289912d2",
      "f81c758556d143ee841b48f42e93d1ac",
      "5e77f8e02d3c479b9b04c4d2346df4e4",
      "21dfbd3f1cad40a8a8662b8d651b53ad",
      "a044c0b2ecd04f7b9b9b865d45753e55",
      "770e7fda729d4433bc92ff86a1730344",
      "07790538ff3c4f09b37d8eeaf850c85e",
      "1d7ba4bc61b54e309f218f3a34265e2e",
      "9eb4e33eb60b479abe513d9026e8a1fa",
      "38843b96b5aa46a9a2ab157c59aa6bb0",
      "c893ddebc1cb4402b32f4446ca0fe50e",
      "4ca75866e8ec4eecbf1e79ff63d647d5",
      "e2d606eb05b3463fa562c05ba7981ff5",
      "a6c3ea15918045b99f832a30fd067208",
      "feec9aeb37e741a2b4635256f6766c00",
      "73edc99f94b7419c8ca1f77ef2a1dcb6",
      "95af94e938c14e40b15e3ef914ee1da1",
      "dd625c3892614c93ac44caab626986b5",
      "f949b6ac9a984ec89144ad78e1c66585",
      "efff41a9ef1842c39a96dd441aad648d",
      "0111c8345add4144a2fcee27d8a94469",
      "03a56b9587e645d0b39e3e672f0f7807",
      "aa43ec039c434750a3993059e2ec2471",
      "6e54be3024274f0fb2bcbf416faa9514",
      "2a6b53f0bba246fa94e615660f1be028",
      "1e3744dd12d646e8a241efe4e2d94770",
      "db757e82cf9746afa442a7d4db83e44b",
      "2c6e4755ff0b4221bbc5b1be08ca1ffa",
      "63ba65daf64648c6acce7287259a5d1c",
      "55eab153127f4f178f771c938fa3afbc",
      "77efce085efa49ed99238707dbdd08a3",
      "5ea7b2c6407745968413240a7392d17d",
      "3699eb201cde47ae93daffc8d17e0085",
      "005ef95818cf4ff4b6f9ed57d3a5979e",
      "0f3248e62e664751b98e1aeb783b2ef3",
      "eee35d3d2a5b47269f6e6fa4a94cd679",
      "d9f091d3492342238c313f41bf76c17f",
      "0211aa281e3c40e18f4e124e2c5e8fc9",
      "4a8b20981a594a118b285c8f504ebe96",
      "e19d18dd88814a569a3b1520e5033bf7",
      "75859b0a222c4eea8b555e888837b8ed",
      "c0d82eef034343f8a7d2cbc98ee1fa2e",
      "c0e4f955385e409ebac84af867661cd9",
      "877bae00ef154542b1a18319261793f9",
      "259bd6152c8a40549c2dffe4042c8de0",
      "a852b3f5e64a4c0aba10dd1d64f3df37",
      "8525c8ed2245480284b3775dfc9dd62e",
      "f00b4b73f1c14047982975d94d72f70c",
      "819f7e791dd64cfb82a178cd73cb27f6",
      "d50eb0eee49c4b76bef559a0f88ede11",
      "6fae664c11d140de90b22d2aecfddc82",
      "a3287dfe8b6445e9a87809cf7285dd03",
      "8fbfe81a4c1c4f49b4eda68b9ebae85c",
      "5ba7375ad67541258dd306989e804c33",
      "8eb12224136142f39c5e852e14664226",
      "9d244f711c174fe38dee0200c629704c",
      "824ce7336529443eafdeb8a1d2e7db6d",
      "cbb997c831904d2f9e9ca92aa1166e07",
      "7efaf5851ac84e74aa4dbf7f1fa0ad9b",
      "75362e1b563c41f3a60bc356d95675aa",
      "f7cdcd93651f40839e67bf435ea55519",
      "13efde36998b4b6e8fbfb53d19425f60",
      "1fdb043c594a43a3aee30e6034e9e428",
      "750b996b83194584a8ac4ee032a89085",
      "ce71ab875fa24c59bae1a23f90582bf4",
      "31331d6acf574d62871fcc8420ca7ca0",
      "d547eafa23ae45aab3bb9db8aff5688f",
      "9c6113d96df04c60aaa33739e26da22e",
      "8760d86a9c2d464e9df4f9bc3eeddd5e",
      "f5b27b54e7e642abbadf29f955c9f295",
      "2c5f4f2c752d4f149aef5e1b94631734",
      "b5fec1e43b4e44cca64a07b5985c40e9",
      "4eea2693789545789ddc12cd8fb3c78e",
      "fc085b78470e43c8af5111a37f4cf1bf",
      "5f0b7481de5f4b47970591f66f84d1f4",
      "40f2fc553d0646c8a59c2c7dd1d34ebb",
      "a45a733f0de8407bb678128252361fb1",
      "3914e44292e341b78918759879c8ba66",
      "6f48c275ee634a808043a2442c6f2290",
      "a09dacd21266478abb11cb86759118cb",
      "53c639bdfc1f4ce6bcce50f4b0d59317",
      "85a0dcc29d4f4bf4bc8116fc785a19e2",
      "9fcce93b513a469aa9fd178ff0ccb9ea",
      "fecdd1fb9dcc4b4d91f0bf50b3b46a9e",
      "728f33bd58804098b8d7d38eca98b88f",
      "dd613a8bab194f179500c66bd9811772",
      "6bff0d62a5904949829ff4f9e4391aad",
      "d21d160401f44f64993ac0cd24c1a0fd",
      "b16ef0afd181451db4177b52784ba08e",
      "9b7fc68f1a374fab86bf6d73ce4c5870",
      "737f8ba47ba74e929a2916599b2bfda8",
      "7551e787ddd34654ac1e6f15e97b3c2d",
      "937d81de5c344af89458435605245f1b",
      "e5ab338993834c46bc86e7f4f7c0d15f",
      "395a1f98fdfd4f85a1c0a344c332e541",
      "5f42bed4dc8749b1a95bd7780287c843",
      "48128eae96fc4efe9bc8e4cbcc70e342",
      "8967f9b9f02a4b1abb20586bb5214a97",
      "1c488db5c13b46ec9f303c448215d448",
      "ad93976e90744f2cbc68f564c279c6bf",
      "ec3d1d41e51f4acb8dceca26003b30ab",
      "698aa40916964cb9bbdabd9048d6b95b",
      "85f5de8074b64721ad0b17e9238e8f7f",
      "b19ce9285b35408496c026407b2f9e44",
      "43c42982fc7641ceb558b67a2eb4eb37",
      "dee605fb8c7d4bd3872e7c738e3b4d78",
      "1f33e4ee56bd41a1b2165b7e0a5ba8e0",
      "89cf62f3418d439b9cc747e3c5857325",
      "a156df3da20a4a619c1cc818574b1802",
      "1e3a0cf761fc4f83a1b4dc14e222bc2d",
      "f9484a42909e4fe888591282260350ab",
      "8787467981e44f3f9f7b577c3917e474",
      "6521de42d6f548aeb0b479ec90422305",
      "5e674c808c3440fa93bdc5667a2484af",
      "b90473aaf7834c9f990b32b3df69fcd3",
      "5e763f28d49f4e3ba8eeaf84afa98f20",
      "95a9a7a604d34ad1afd6e3a53735454f",
      "c6c7ea4447da438eb6a87649178a69f9",
      "82dd9d8c06904b1eb9b72ac343bea776",
      "6ab167a88b49414786122832b139087a",
      "bc83d444d5b642e98c718265405a0c2d",
      "046723a9aaec42cb9349fb463cff4b96",
      "e173daa09677433c9b603bfdce18693d",
      "6ed05501af484dd49ccae0b3b1bf1c6b",
      "804bb31affba4d6c8a8641542b6e4fa0",
      "39a94a8634fc4c00b925e22b8ff20d0d",
      "896bae50c8494aeb98101527becb4e9b",
      "1dda27d7ac4a4f67a93f9ba6352691f7",
      "2573f602663f4c2fb4483368bf77d6ef",
      "8660f2cf41a84d678d606af4b5f38b7d",
      "a8a2d97d79e34961afbdfd339f0571d2",
      "6cb831e165334649b6a75767e76c703f",
      "12de5a8be3ea474b805929af54a125c4",
      "168dc230462848e4a18352482ab085e0",
      "085678228011499cb3231114b36e6997",
      "b04f2589cb564afe89b18aae10028d85",
      "d81ed9e4b2334940a755ab22c5efb217",
      "390b7906874f4841afe4de744cd6225c",
      "870af10c946d4e498569890a03fc5c00",
      "9abe2fd2842c4188b770f8b9514e14d2",
      "7bb83bcf308b48fc986a21de61755d76",
      "0e5fc74e88c24d669290207693b697d0",
      "d9bf883e13f44dd7ac3d0e1f3f5bd959",
      "994bc95459a24c179f53a83c584a1f21",
      "abcaa626952b48349889e91cea61c5e0",
      "445e275d8451465b9fe25b745236d66d"
     ]
    },
    "executionInfo": {
     "elapsed": 10469417,
     "status": "ok",
     "timestamp": 1620388585715,
     "user": {
      "displayName": "Nicolai Vanting",
      "photoUrl": "https://lh3.googleusercontent.com/a-/AOh14GiWnEEuOWbZS-OaQ39dImSUs4aeCCg6eT_9I5cKsA=s64",
      "userId": "06389002382871165024"
     },
     "user_tz": -120
    },
    "id": "0hv1sstfKB-9",
    "outputId": "a3c36cfd-27a2-4fcc-a7c3-62425b86af37"
   },
   "outputs": [
    {
     "name": "stderr",
     "output_type": "stream",
     "text": [
      "\u001b[34m\u001b[1mwandb\u001b[0m: Agent Starting Run: y60zb78r with config:\n",
      "\u001b[34m\u001b[1mwandb\u001b[0m: \tactivation_cnn: relu\n",
      "\u001b[34m\u001b[1mwandb\u001b[0m: \tactivation_gru: tanh\n",
      "\u001b[34m\u001b[1mwandb\u001b[0m: \tbatch_size: 225\n",
      "\u001b[34m\u001b[1mwandb\u001b[0m: \tcnn_lay_2: True\n",
      "\u001b[34m\u001b[1mwandb\u001b[0m: \tcnn_lay_3: True\n",
      "\u001b[34m\u001b[1mwandb\u001b[0m: \tcnn_layer_size_1: 98\n",
      "\u001b[34m\u001b[1mwandb\u001b[0m: \tcnn_layer_size_2: 68\n",
      "\u001b[34m\u001b[1mwandb\u001b[0m: \tcnn_layer_size_3: 130\n",
      "\u001b[34m\u001b[1mwandb\u001b[0m: \tdataset: kolding\n",
      "\u001b[34m\u001b[1mwandb\u001b[0m: \tdropout: 0.22815591667389837\n",
      "\u001b[34m\u001b[1mwandb\u001b[0m: \tepochs: 25\n",
      "\u001b[34m\u001b[1mwandb\u001b[0m: \tgru_lay_1: True\n",
      "\u001b[34m\u001b[1mwandb\u001b[0m: \tgru_lay_2: True\n",
      "\u001b[34m\u001b[1mwandb\u001b[0m: \tgru_layer_size_1: 228\n",
      "\u001b[34m\u001b[1mwandb\u001b[0m: \tgru_layer_size_2: 128\n",
      "\u001b[34m\u001b[1mwandb\u001b[0m: \tgru_layer_size_3: 106\n",
      "\u001b[34m\u001b[1mwandb\u001b[0m: \tkernelsize: 5\n",
      "\u001b[34m\u001b[1mwandb\u001b[0m: \tlearning_rate: 0.0229111795481337\n",
      "\u001b[34m\u001b[1mwandb\u001b[0m: \tlookback: 744\n",
      "\u001b[34m\u001b[1mwandb\u001b[0m: \tmomentum: 0.5120062271948083\n",
      "\u001b[34m\u001b[1mwandb\u001b[0m: \tnum_cnn_layers: 2\n",
      "\u001b[34m\u001b[1mwandb\u001b[0m: \tnum_features: 9\n",
      "\u001b[34m\u001b[1mwandb\u001b[0m: \tnum_gru_layers: 2\n",
      "\u001b[34m\u001b[1mwandb\u001b[0m: \toptimizer: sgd\n",
      "\u001b[34m\u001b[1mwandb\u001b[0m: \tsplitmethod: standard\n",
      "\u001b[34m\u001b[1mwandb\u001b[0m: \tsplitrate: 0.8\n",
      "\u001b[34m\u001b[1mwandb\u001b[0m: \u001b[33mWARNING\u001b[0m Ignored wandb.init() arg project when running a sweep\n"
     ]
    },
    {
     "data": {
      "text/html": [
       "\n",
       "                Tracking run with wandb version 0.10.29<br/>\n",
       "                Syncing run <strong style=\"color:#cdcd00\">morning-sweep-5</strong> to <a href=\"https://wandb.ai\" target=\"_blank\">Weights & Biases</a> <a href=\"https://docs.wandb.com/integrations/jupyter.html\" target=\"_blank\">(Documentation)</a>.<br/>\n",
       "                Project page: <a href=\"https://wandb.ai/nbvanting/thesis\" target=\"_blank\">https://wandb.ai/nbvanting/thesis</a><br/>\n",
       "                Sweep page: <a href=\"https://wandb.ai/nbvanting/thesis/sweeps/xjdtj3eo\" target=\"_blank\">https://wandb.ai/nbvanting/thesis/sweeps/xjdtj3eo</a><br/>\n",
       "Run page: <a href=\"https://wandb.ai/nbvanting/thesis/runs/y60zb78r\" target=\"_blank\">https://wandb.ai/nbvanting/thesis/runs/y60zb78r</a><br/>\n",
       "                Run data is saved locally in <code>/content/wandb/run-20210507_090157-y60zb78r</code><br/><br/>\n",
       "            "
      ],
      "text/plain": [
       "<IPython.core.display.HTML object>"
      ]
     },
     "metadata": {
      "tags": []
     },
     "output_type": "display_data"
    },
    {
     "name": "stdout",
     "output_type": "stream",
     "text": [
      "Epoch 1/25\n",
      "70/70 [==============================] - 46s 132ms/step - loss: 0.7608 - mae: 0.6833 - val_loss: 1.5652 - val_mae: 1.0037\n",
      "Epoch 2/25\n",
      "70/70 [==============================] - 8s 110ms/step - loss: 0.7002 - mae: 0.6608 - val_loss: 1.4619 - val_mae: 0.9789\n",
      "Epoch 3/25\n",
      "70/70 [==============================] - 8s 109ms/step - loss: 0.6799 - mae: 0.6514 - val_loss: 1.3441 - val_mae: 0.9466\n",
      "Epoch 4/25\n",
      "70/70 [==============================] - 8s 109ms/step - loss: 0.6453 - mae: 0.6373 - val_loss: 1.1634 - val_mae: 0.8834\n",
      "Epoch 5/25\n",
      "70/70 [==============================] - 8s 112ms/step - loss: 0.5658 - mae: 0.6036 - val_loss: 1.3174 - val_mae: 0.9039\n",
      "Epoch 6/25\n",
      "70/70 [==============================] - 8s 110ms/step - loss: 0.4015 - mae: 0.4952 - val_loss: 0.3929 - val_mae: 0.4998\n",
      "Epoch 7/25\n",
      "70/70 [==============================] - 8s 111ms/step - loss: 0.2817 - mae: 0.4103 - val_loss: 0.3924 - val_mae: 0.4600\n",
      "Epoch 8/25\n",
      "70/70 [==============================] - 8s 112ms/step - loss: 0.1871 - mae: 0.3348 - val_loss: 0.3503 - val_mae: 0.4374\n",
      "Epoch 9/25\n",
      "70/70 [==============================] - 8s 111ms/step - loss: 0.1639 - mae: 0.3120 - val_loss: 0.2734 - val_mae: 0.4021\n",
      "Epoch 10/25\n",
      "70/70 [==============================] - 8s 112ms/step - loss: 0.1472 - mae: 0.2962 - val_loss: 0.3078 - val_mae: 0.4062\n",
      "Epoch 11/25\n",
      "70/70 [==============================] - 8s 111ms/step - loss: 0.1393 - mae: 0.2880 - val_loss: 0.2804 - val_mae: 0.3892\n",
      "Epoch 12/25\n",
      "70/70 [==============================] - 8s 110ms/step - loss: 0.1351 - mae: 0.2842 - val_loss: 0.2684 - val_mae: 0.4061\n",
      "Epoch 13/25\n",
      "70/70 [==============================] - 8s 110ms/step - loss: 0.1282 - mae: 0.2764 - val_loss: 0.3104 - val_mae: 0.4041\n",
      "Epoch 14/25\n",
      "70/70 [==============================] - 8s 111ms/step - loss: 0.1214 - mae: 0.2683 - val_loss: 0.2594 - val_mae: 0.3798\n",
      "Epoch 15/25\n",
      "70/70 [==============================] - 8s 109ms/step - loss: 0.1180 - mae: 0.2648 - val_loss: 0.2638 - val_mae: 0.3803\n",
      "Epoch 16/25\n",
      "70/70 [==============================] - 8s 110ms/step - loss: 0.1157 - mae: 0.2625 - val_loss: 0.2647 - val_mae: 0.3895\n",
      "Epoch 17/25\n",
      "70/70 [==============================] - 8s 110ms/step - loss: 0.1105 - mae: 0.2581 - val_loss: 0.2668 - val_mae: 0.3792\n",
      "Epoch 18/25\n",
      "70/70 [==============================] - 8s 111ms/step - loss: 0.1102 - mae: 0.2558 - val_loss: 0.2496 - val_mae: 0.3686\n",
      "Epoch 19/25\n",
      "70/70 [==============================] - 8s 109ms/step - loss: 0.1090 - mae: 0.2549 - val_loss: 0.3311 - val_mae: 0.4193\n",
      "Epoch 20/25\n",
      "70/70 [==============================] - 8s 111ms/step - loss: 0.1079 - mae: 0.2513 - val_loss: 0.2552 - val_mae: 0.3710\n",
      "Epoch 21/25\n",
      "70/70 [==============================] - 8s 110ms/step - loss: 0.1043 - mae: 0.2480 - val_loss: 0.2574 - val_mae: 0.3860\n",
      "Epoch 22/25\n",
      "70/70 [==============================] - 8s 111ms/step - loss: 0.1030 - mae: 0.2472 - val_loss: 0.2636 - val_mae: 0.3682\n",
      "Epoch 23/25\n",
      "70/70 [==============================] - 8s 110ms/step - loss: 0.1011 - mae: 0.2454 - val_loss: 0.2743 - val_mae: 0.3756\n",
      "Epoch 24/25\n",
      "70/70 [==============================] - 8s 112ms/step - loss: 0.0972 - mae: 0.2395 - val_loss: 0.2527 - val_mae: 0.3705\n",
      "Epoch 25/25\n",
      "70/70 [==============================] - 8s 112ms/step - loss: 0.0972 - mae: 0.2398 - val_loss: 0.2871 - val_mae: 0.3796\n",
      "3/3 [==============================] - 0s 29ms/step - loss: 0.1545 - mae: 0.2988\n"
     ]
    },
    {
     "data": {
      "text/html": [
       "<br/>Waiting for W&B process to finish, PID 424<br/>Program failed with code 1.  Press ctrl-c to abort syncing."
      ],
      "text/plain": [
       "<IPython.core.display.HTML object>"
      ]
     },
     "metadata": {
      "tags": []
     },
     "output_type": "display_data"
    },
    {
     "data": {
      "application/vnd.jupyter.widget-view+json": {
       "model_id": "b8609d1a5b03409f8b8fa82d631588b5",
       "version_major": 2,
       "version_minor": 0
      },
      "text/plain": [
       "VBox(children=(Label(value=' 4.20MB of 4.20MB uploaded (0.00MB deduped)\\r'), FloatProgress(value=1.0, max=1.0)…"
      ]
     },
     "metadata": {
      "tags": []
     },
     "output_type": "display_data"
    },
    {
     "data": {
      "text/html": [
       "Find user logs for this run at: <code>/content/wandb/run-20210507_090157-y60zb78r/logs/debug.log</code>"
      ],
      "text/plain": [
       "<IPython.core.display.HTML object>"
      ]
     },
     "metadata": {
      "tags": []
     },
     "output_type": "display_data"
    },
    {
     "data": {
      "text/html": [
       "Find internal logs for this run at: <code>/content/wandb/run-20210507_090157-y60zb78r/logs/debug-internal.log</code>"
      ],
      "text/plain": [
       "<IPython.core.display.HTML object>"
      ]
     },
     "metadata": {
      "tags": []
     },
     "output_type": "display_data"
    },
    {
     "data": {
      "text/html": [
       "<h3>Run summary:</h3><br/><style>\n",
       "    table.wandb td:nth-child(1) { padding: 0 10px; text-align: right }\n",
       "    </style><table class=\"wandb\">\n",
       "<tr><td>epoch</td><td>24</td></tr><tr><td>loss</td><td>0.0972</td></tr><tr><td>mae</td><td>0.2393</td></tr><tr><td>val_loss</td><td>0.28715</td></tr><tr><td>val_mae</td><td>0.37963</td></tr><tr><td>_runtime</td><td>244</td></tr><tr><td>_timestamp</td><td>1620378361</td></tr><tr><td>_step</td><td>26</td></tr><tr><td>best_val_loss</td><td>0.24964</td></tr><tr><td>best_epoch</td><td>17</td></tr><tr><td>test_loss</td><td>0.15452</td></tr><tr><td>test_mae</td><td>0.2988</td></tr></table>"
      ],
      "text/plain": [
       "<IPython.core.display.HTML object>"
      ]
     },
     "metadata": {
      "tags": []
     },
     "output_type": "display_data"
    },
    {
     "data": {
      "text/html": [
       "<h3>Run history:</h3><br/><style>\n",
       "    table.wandb td:nth-child(1) { padding: 0 10px; text-align: right }\n",
       "    </style><table class=\"wandb\">\n",
       "<tr><td>epoch</td><td>▁▁▂▂▂▂▃▃▃▄▄▄▅▅▅▅▆▆▆▇▇▇▇██</td></tr><tr><td>loss</td><td>██▇▇▆▄▃▂▂▂▁▁▁▁▁▁▁▁▁▁▁▁▁▁▁</td></tr><tr><td>mae</td><td>███▇▇▅▄▃▂▂▂▂▂▂▁▁▁▁▁▁▁▁▁▁▁</td></tr><tr><td>val_loss</td><td>█▇▇▆▇▂▂▂▁▁▁▁▁▁▁▁▁▁▁▁▁▁▁▁▁</td></tr><tr><td>val_mae</td><td>██▇▇▇▂▂▂▁▁▁▁▁▁▁▁▁▁▂▁▁▁▁▁▁</td></tr><tr><td>_runtime</td><td>▁▁▂▂▂▂▃▃▃▄▄▄▅▅▅▅▆▆▆▇▇▇▇████</td></tr><tr><td>_timestamp</td><td>▁▁▂▂▂▂▃▃▃▄▄▄▅▅▅▅▆▆▆▇▇▇▇████</td></tr><tr><td>_step</td><td>▁▁▂▂▂▂▃▃▃▃▄▄▄▅▅▅▅▆▆▆▆▇▇▇▇██</td></tr><tr><td>test_loss</td><td>▁</td></tr><tr><td>test_mae</td><td>▁</td></tr></table><br/>"
      ],
      "text/plain": [
       "<IPython.core.display.HTML object>"
      ]
     },
     "metadata": {
      "tags": []
     },
     "output_type": "display_data"
    },
    {
     "data": {
      "text/html": [
       "Synced 5 W&B file(s), 1 media file(s), 0 artifact file(s) and 1 other file(s)"
      ],
      "text/plain": [
       "<IPython.core.display.HTML object>"
      ]
     },
     "metadata": {
      "tags": []
     },
     "output_type": "display_data"
    },
    {
     "data": {
      "text/html": [
       "\n",
       "                    <br/>Synced <strong style=\"color:#cdcd00\">morning-sweep-5</strong>: <a href=\"https://wandb.ai/nbvanting/thesis/runs/y60zb78r\" target=\"_blank\">https://wandb.ai/nbvanting/thesis/runs/y60zb78r</a><br/>\n",
       "                "
      ],
      "text/plain": [
       "<IPython.core.display.HTML object>"
      ]
     },
     "metadata": {
      "tags": []
     },
     "output_type": "display_data"
    },
    {
     "name": "stderr",
     "output_type": "stream",
     "text": [
      "Run y60zb78r errored: IndexError('list index out of range')\n",
      "\u001b[34m\u001b[1mwandb\u001b[0m: \u001b[32m\u001b[41mERROR\u001b[0m Run y60zb78r errored: IndexError('list index out of range')\n",
      "\u001b[34m\u001b[1mwandb\u001b[0m: Agent Starting Run: fab2b46v with config:\n",
      "\u001b[34m\u001b[1mwandb\u001b[0m: \tactivation_cnn: relu\n",
      "\u001b[34m\u001b[1mwandb\u001b[0m: \tactivation_gru: tanh\n",
      "\u001b[34m\u001b[1mwandb\u001b[0m: \tbatch_size: 45\n",
      "\u001b[34m\u001b[1mwandb\u001b[0m: \tcnn_lay_2: True\n",
      "\u001b[34m\u001b[1mwandb\u001b[0m: \tcnn_lay_3: True\n",
      "\u001b[34m\u001b[1mwandb\u001b[0m: \tcnn_layer_size_1: 56\n",
      "\u001b[34m\u001b[1mwandb\u001b[0m: \tcnn_layer_size_2: 47\n",
      "\u001b[34m\u001b[1mwandb\u001b[0m: \tcnn_layer_size_3: 76\n",
      "\u001b[34m\u001b[1mwandb\u001b[0m: \tdataset: kolding\n",
      "\u001b[34m\u001b[1mwandb\u001b[0m: \tdropout: 0.49639390516274945\n",
      "\u001b[34m\u001b[1mwandb\u001b[0m: \tepochs: 25\n",
      "\u001b[34m\u001b[1mwandb\u001b[0m: \tgru_lay_1: False\n",
      "\u001b[34m\u001b[1mwandb\u001b[0m: \tgru_lay_2: True\n",
      "\u001b[34m\u001b[1mwandb\u001b[0m: \tgru_layer_size_1: 189\n",
      "\u001b[34m\u001b[1mwandb\u001b[0m: \tgru_layer_size_2: 134\n",
      "\u001b[34m\u001b[1mwandb\u001b[0m: \tgru_layer_size_3: 35\n",
      "\u001b[34m\u001b[1mwandb\u001b[0m: \tkernelsize: 5\n",
      "\u001b[34m\u001b[1mwandb\u001b[0m: \tlearning_rate: 0.015546077663184037\n",
      "\u001b[34m\u001b[1mwandb\u001b[0m: \tlookback: 744\n",
      "\u001b[34m\u001b[1mwandb\u001b[0m: \tmomentum: 0.8929410313661245\n",
      "\u001b[34m\u001b[1mwandb\u001b[0m: \tnum_cnn_layers: 2\n",
      "\u001b[34m\u001b[1mwandb\u001b[0m: \tnum_features: 9\n",
      "\u001b[34m\u001b[1mwandb\u001b[0m: \tnum_gru_layers: 2\n",
      "\u001b[34m\u001b[1mwandb\u001b[0m: \toptimizer: sgd\n",
      "\u001b[34m\u001b[1mwandb\u001b[0m: \tsplitmethod: standard\n",
      "\u001b[34m\u001b[1mwandb\u001b[0m: \tsplitrate: 0.8\n",
      "\u001b[34m\u001b[1mwandb\u001b[0m: \u001b[33mWARNING\u001b[0m Ignored wandb.init() arg project when running a sweep\n"
     ]
    },
    {
     "data": {
      "text/html": [
       "\n",
       "                Tracking run with wandb version 0.10.29<br/>\n",
       "                Syncing run <strong style=\"color:#cdcd00\">curious-sweep-6</strong> to <a href=\"https://wandb.ai\" target=\"_blank\">Weights & Biases</a> <a href=\"https://docs.wandb.com/integrations/jupyter.html\" target=\"_blank\">(Documentation)</a>.<br/>\n",
       "                Project page: <a href=\"https://wandb.ai/nbvanting/thesis\" target=\"_blank\">https://wandb.ai/nbvanting/thesis</a><br/>\n",
       "                Sweep page: <a href=\"https://wandb.ai/nbvanting/thesis/sweeps/xjdtj3eo\" target=\"_blank\">https://wandb.ai/nbvanting/thesis/sweeps/xjdtj3eo</a><br/>\n",
       "Run page: <a href=\"https://wandb.ai/nbvanting/thesis/runs/fab2b46v\" target=\"_blank\">https://wandb.ai/nbvanting/thesis/runs/fab2b46v</a><br/>\n",
       "                Run data is saved locally in <code>/content/wandb/run-20210507_090606-fab2b46v</code><br/><br/>\n",
       "            "
      ],
      "text/plain": [
       "<IPython.core.display.HTML object>"
      ]
     },
     "metadata": {
      "tags": []
     },
     "output_type": "display_data"
    },
    {
     "name": "stdout",
     "output_type": "stream",
     "text": [
      "Epoch 1/25\n",
      "349/349 [==============================] - 15s 33ms/step - loss: 0.6464 - mae: 0.6246 - val_loss: 0.4029 - val_mae: 0.4703\n",
      "Epoch 2/25\n",
      "349/349 [==============================] - 10s 29ms/step - loss: 0.1880 - mae: 0.3355 - val_loss: 0.3535 - val_mae: 0.4394\n",
      "Epoch 3/25\n",
      "349/349 [==============================] - 10s 29ms/step - loss: 0.1491 - mae: 0.2963 - val_loss: 0.2498 - val_mae: 0.3831\n",
      "Epoch 4/25\n",
      "349/349 [==============================] - 10s 30ms/step - loss: 0.1426 - mae: 0.2898 - val_loss: 0.3269 - val_mae: 0.4177\n",
      "Epoch 5/25\n",
      "349/349 [==============================] - 10s 29ms/step - loss: 0.1343 - mae: 0.2822 - val_loss: 0.3894 - val_mae: 0.4494\n",
      "Epoch 6/25\n",
      "349/349 [==============================] - 10s 29ms/step - loss: 0.1295 - mae: 0.2760 - val_loss: 0.3777 - val_mae: 0.4558\n",
      "Epoch 7/25\n",
      "349/349 [==============================] - 10s 30ms/step - loss: 0.1270 - mae: 0.2727 - val_loss: 0.2748 - val_mae: 0.3853\n",
      "Epoch 8/25\n",
      "349/349 [==============================] - 10s 29ms/step - loss: 0.1207 - mae: 0.2659 - val_loss: 0.2779 - val_mae: 0.3875\n",
      "Epoch 9/25\n",
      "349/349 [==============================] - 10s 30ms/step - loss: 0.1226 - mae: 0.2691 - val_loss: 0.3763 - val_mae: 0.4534\n",
      "Epoch 10/25\n",
      "349/349 [==============================] - 10s 30ms/step - loss: 0.1166 - mae: 0.2619 - val_loss: 0.2560 - val_mae: 0.3727\n",
      "Epoch 11/25\n",
      "349/349 [==============================] - 10s 30ms/step - loss: 0.1155 - mae: 0.2612 - val_loss: 0.3266 - val_mae: 0.4128\n",
      "Epoch 12/25\n",
      "349/349 [==============================] - 11s 30ms/step - loss: 0.1124 - mae: 0.2558 - val_loss: 0.2998 - val_mae: 0.3943\n",
      "Epoch 13/25\n",
      "349/349 [==============================] - 11s 30ms/step - loss: 0.1100 - mae: 0.2530 - val_loss: 0.3440 - val_mae: 0.4350\n",
      "Epoch 14/25\n",
      "349/349 [==============================] - 11s 30ms/step - loss: 0.1084 - mae: 0.2514 - val_loss: 0.2649 - val_mae: 0.3753\n",
      "Epoch 15/25\n",
      "349/349 [==============================] - 10s 30ms/step - loss: 0.1046 - mae: 0.2474 - val_loss: 0.2798 - val_mae: 0.3864\n",
      "Epoch 16/25\n",
      "349/349 [==============================] - 11s 30ms/step - loss: 0.1027 - mae: 0.2440 - val_loss: 0.2708 - val_mae: 0.3781\n",
      "Epoch 17/25\n",
      "349/349 [==============================] - 11s 30ms/step - loss: 0.1027 - mae: 0.2437 - val_loss: 0.3684 - val_mae: 0.4344\n",
      "Epoch 18/25\n",
      "349/349 [==============================] - 10s 30ms/step - loss: 0.0987 - mae: 0.2416 - val_loss: 0.3233 - val_mae: 0.4184\n",
      "Epoch 19/25\n",
      "349/349 [==============================] - 11s 30ms/step - loss: 0.0992 - mae: 0.2403 - val_loss: 0.3189 - val_mae: 0.4011\n",
      "Epoch 20/25\n",
      "349/349 [==============================] - 10s 29ms/step - loss: 0.0982 - mae: 0.2383 - val_loss: 0.3264 - val_mae: 0.4093\n",
      "Epoch 21/25\n",
      "349/349 [==============================] - 11s 30ms/step - loss: 0.0947 - mae: 0.2348 - val_loss: 0.3750 - val_mae: 0.4426\n",
      "Epoch 22/25\n",
      "349/349 [==============================] - 11s 30ms/step - loss: 0.0937 - mae: 0.2327 - val_loss: 0.2801 - val_mae: 0.3849\n",
      "Epoch 23/25\n",
      "349/349 [==============================] - 10s 30ms/step - loss: 0.0950 - mae: 0.2348 - val_loss: 0.3629 - val_mae: 0.4238\n",
      "Epoch 24/25\n",
      "349/349 [==============================] - 10s 30ms/step - loss: 0.0947 - mae: 0.2344 - val_loss: 0.3177 - val_mae: 0.4044\n",
      "Epoch 25/25\n",
      "349/349 [==============================] - 10s 30ms/step - loss: 0.0906 - mae: 0.2309 - val_loss: 0.2886 - val_mae: 0.3834\n",
      "13/13 [==============================] - 0s 16ms/step - loss: 0.1569 - mae: 0.3030\n"
     ]
    },
    {
     "data": {
      "text/html": [
       "<br/>Waiting for W&B process to finish, PID 756<br/>Program failed with code 1.  Press ctrl-c to abort syncing."
      ],
      "text/plain": [
       "<IPython.core.display.HTML object>"
      ]
     },
     "metadata": {
      "tags": []
     },
     "output_type": "display_data"
    },
    {
     "data": {
      "application/vnd.jupyter.widget-view+json": {
       "model_id": "a046ad0b89694cc3b1de0e67f3870208",
       "version_major": 2,
       "version_minor": 0
      },
      "text/plain": [
       "VBox(children=(Label(value=' 1.11MB of 1.11MB uploaded (0.00MB deduped)\\r'), FloatProgress(value=1.0, max=1.0)…"
      ]
     },
     "metadata": {
      "tags": []
     },
     "output_type": "display_data"
    },
    {
     "data": {
      "text/html": [
       "Find user logs for this run at: <code>/content/wandb/run-20210507_090606-fab2b46v/logs/debug.log</code>"
      ],
      "text/plain": [
       "<IPython.core.display.HTML object>"
      ]
     },
     "metadata": {
      "tags": []
     },
     "output_type": "display_data"
    },
    {
     "data": {
      "text/html": [
       "Find internal logs for this run at: <code>/content/wandb/run-20210507_090606-fab2b46v/logs/debug-internal.log</code>"
      ],
      "text/plain": [
       "<IPython.core.display.HTML object>"
      ]
     },
     "metadata": {
      "tags": []
     },
     "output_type": "display_data"
    },
    {
     "data": {
      "text/html": [
       "<h3>Run summary:</h3><br/><style>\n",
       "    table.wandb td:nth-child(1) { padding: 0 10px; text-align: right }\n",
       "    </style><table class=\"wandb\">\n",
       "<tr><td>epoch</td><td>24</td></tr><tr><td>loss</td><td>0.09149</td></tr><tr><td>mae</td><td>0.23081</td></tr><tr><td>val_loss</td><td>0.28862</td></tr><tr><td>val_mae</td><td>0.3834</td></tr><tr><td>_runtime</td><td>270</td></tr><tr><td>_timestamp</td><td>1620378636</td></tr><tr><td>_step</td><td>26</td></tr><tr><td>best_val_loss</td><td>0.2498</td></tr><tr><td>best_epoch</td><td>2</td></tr><tr><td>test_loss</td><td>0.15687</td></tr><tr><td>test_mae</td><td>0.30298</td></tr></table>"
      ],
      "text/plain": [
       "<IPython.core.display.HTML object>"
      ]
     },
     "metadata": {
      "tags": []
     },
     "output_type": "display_data"
    },
    {
     "data": {
      "text/html": [
       "<h3>Run history:</h3><br/><style>\n",
       "    table.wandb td:nth-child(1) { padding: 0 10px; text-align: right }\n",
       "    </style><table class=\"wandb\">\n",
       "<tr><td>epoch</td><td>▁▁▂▂▂▂▃▃▃▄▄▄▅▅▅▅▆▆▆▇▇▇▇██</td></tr><tr><td>loss</td><td>█▃▂▂▂▂▂▂▂▁▁▁▁▁▁▁▁▁▁▁▁▁▁▁▁</td></tr><tr><td>mae</td><td>█▃▃▂▂▂▂▂▂▂▂▂▂▁▁▁▁▁▁▁▁▁▁▁▁</td></tr><tr><td>val_loss</td><td>█▆▁▅▇▇▂▂▇▁▅▃▅▂▂▂▆▄▄▅▇▂▆▄▃</td></tr><tr><td>val_mae</td><td>█▆▂▄▇▇▂▂▇▁▄▃▅▁▂▁▅▄▃▄▆▂▅▃▂</td></tr><tr><td>_runtime</td><td>▁▁▂▂▂▂▃▃▃▄▄▄▄▅▅▅▆▆▆▇▇▇▇████</td></tr><tr><td>_timestamp</td><td>▁▁▂▂▂▂▃▃▃▄▄▄▄▅▅▅▆▆▆▇▇▇▇████</td></tr><tr><td>_step</td><td>▁▁▂▂▂▂▃▃▃▃▄▄▄▅▅▅▅▆▆▆▆▇▇▇▇██</td></tr><tr><td>test_loss</td><td>▁</td></tr><tr><td>test_mae</td><td>▁</td></tr></table><br/>"
      ],
      "text/plain": [
       "<IPython.core.display.HTML object>"
      ]
     },
     "metadata": {
      "tags": []
     },
     "output_type": "display_data"
    },
    {
     "data": {
      "text/html": [
       "Synced 5 W&B file(s), 1 media file(s), 0 artifact file(s) and 1 other file(s)"
      ],
      "text/plain": [
       "<IPython.core.display.HTML object>"
      ]
     },
     "metadata": {
      "tags": []
     },
     "output_type": "display_data"
    },
    {
     "data": {
      "text/html": [
       "\n",
       "                    <br/>Synced <strong style=\"color:#cdcd00\">curious-sweep-6</strong>: <a href=\"https://wandb.ai/nbvanting/thesis/runs/fab2b46v\" target=\"_blank\">https://wandb.ai/nbvanting/thesis/runs/fab2b46v</a><br/>\n",
       "                "
      ],
      "text/plain": [
       "<IPython.core.display.HTML object>"
      ]
     },
     "metadata": {
      "tags": []
     },
     "output_type": "display_data"
    },
    {
     "name": "stderr",
     "output_type": "stream",
     "text": [
      "Run fab2b46v errored: IndexError('list index out of range')\n",
      "\u001b[34m\u001b[1mwandb\u001b[0m: \u001b[32m\u001b[41mERROR\u001b[0m Run fab2b46v errored: IndexError('list index out of range')\n",
      "\u001b[34m\u001b[1mwandb\u001b[0m: Agent Starting Run: 83fe46jn with config:\n",
      "\u001b[34m\u001b[1mwandb\u001b[0m: \tactivation_cnn: relu\n",
      "\u001b[34m\u001b[1mwandb\u001b[0m: \tactivation_gru: tanh\n",
      "\u001b[34m\u001b[1mwandb\u001b[0m: \tbatch_size: 36\n",
      "\u001b[34m\u001b[1mwandb\u001b[0m: \tcnn_lay_2: True\n",
      "\u001b[34m\u001b[1mwandb\u001b[0m: \tcnn_lay_3: True\n",
      "\u001b[34m\u001b[1mwandb\u001b[0m: \tcnn_layer_size_1: 79\n",
      "\u001b[34m\u001b[1mwandb\u001b[0m: \tcnn_layer_size_2: 162\n",
      "\u001b[34m\u001b[1mwandb\u001b[0m: \tcnn_layer_size_3: 44\n",
      "\u001b[34m\u001b[1mwandb\u001b[0m: \tdataset: kolding\n",
      "\u001b[34m\u001b[1mwandb\u001b[0m: \tdropout: 0.3491555442349615\n",
      "\u001b[34m\u001b[1mwandb\u001b[0m: \tepochs: 25\n",
      "\u001b[34m\u001b[1mwandb\u001b[0m: \tgru_lay_1: True\n",
      "\u001b[34m\u001b[1mwandb\u001b[0m: \tgru_lay_2: False\n",
      "\u001b[34m\u001b[1mwandb\u001b[0m: \tgru_layer_size_1: 131\n",
      "\u001b[34m\u001b[1mwandb\u001b[0m: \tgru_layer_size_2: 86\n",
      "\u001b[34m\u001b[1mwandb\u001b[0m: \tgru_layer_size_3: 118\n",
      "\u001b[34m\u001b[1mwandb\u001b[0m: \tkernelsize: 7\n",
      "\u001b[34m\u001b[1mwandb\u001b[0m: \tlearning_rate: 0.027172451291831073\n",
      "\u001b[34m\u001b[1mwandb\u001b[0m: \tlookback: 744\n",
      "\u001b[34m\u001b[1mwandb\u001b[0m: \tmomentum: 0.7511088455438096\n",
      "\u001b[34m\u001b[1mwandb\u001b[0m: \tnum_cnn_layers: 2\n",
      "\u001b[34m\u001b[1mwandb\u001b[0m: \tnum_features: 9\n",
      "\u001b[34m\u001b[1mwandb\u001b[0m: \tnum_gru_layers: 2\n",
      "\u001b[34m\u001b[1mwandb\u001b[0m: \toptimizer: sgd\n",
      "\u001b[34m\u001b[1mwandb\u001b[0m: \tsplitmethod: offset\n",
      "\u001b[34m\u001b[1mwandb\u001b[0m: \tsplitrate: 0.8\n",
      "\u001b[34m\u001b[1mwandb\u001b[0m: \u001b[33mWARNING\u001b[0m Ignored wandb.init() arg project when running a sweep\n"
     ]
    },
    {
     "data": {
      "text/html": [
       "\n",
       "                Tracking run with wandb version 0.10.29<br/>\n",
       "                Syncing run <strong style=\"color:#cdcd00\">royal-sweep-7</strong> to <a href=\"https://wandb.ai\" target=\"_blank\">Weights & Biases</a> <a href=\"https://docs.wandb.com/integrations/jupyter.html\" target=\"_blank\">(Documentation)</a>.<br/>\n",
       "                Project page: <a href=\"https://wandb.ai/nbvanting/thesis\" target=\"_blank\">https://wandb.ai/nbvanting/thesis</a><br/>\n",
       "                Sweep page: <a href=\"https://wandb.ai/nbvanting/thesis/sweeps/xjdtj3eo\" target=\"_blank\">https://wandb.ai/nbvanting/thesis/sweeps/xjdtj3eo</a><br/>\n",
       "Run page: <a href=\"https://wandb.ai/nbvanting/thesis/runs/83fe46jn\" target=\"_blank\">https://wandb.ai/nbvanting/thesis/runs/83fe46jn</a><br/>\n",
       "                Run data is saved locally in <code>/content/wandb/run-20210507_091040-83fe46jn</code><br/><br/>\n",
       "            "
      ],
      "text/plain": [
       "<IPython.core.display.HTML object>"
      ]
     },
     "metadata": {
      "tags": []
     },
     "output_type": "display_data"
    },
    {
     "name": "stdout",
     "output_type": "stream",
     "text": [
      "Epoch 1/25\n",
      "407/407 [==============================] - 16s 30ms/step - loss: 0.6590 - mae: 0.6265 - val_loss: 1.1376 - val_mae: 0.8947\n",
      "Epoch 2/25\n",
      "407/407 [==============================] - 11s 27ms/step - loss: 0.1786 - mae: 0.3226 - val_loss: 0.1611 - val_mae: 0.3197\n",
      "Epoch 3/25\n",
      "407/407 [==============================] - 11s 27ms/step - loss: 0.1346 - mae: 0.2779 - val_loss: 0.1585 - val_mae: 0.3132\n",
      "Epoch 4/25\n",
      "407/407 [==============================] - 11s 27ms/step - loss: 0.1238 - mae: 0.2687 - val_loss: 0.1536 - val_mae: 0.3092\n",
      "Epoch 5/25\n",
      "407/407 [==============================] - 11s 27ms/step - loss: 0.1124 - mae: 0.2566 - val_loss: 0.2278 - val_mae: 0.3759\n",
      "Epoch 6/25\n",
      "407/407 [==============================] - 11s 27ms/step - loss: 0.1208 - mae: 0.2617 - val_loss: 0.1762 - val_mae: 0.3278\n",
      "Epoch 7/25\n",
      "407/407 [==============================] - 11s 27ms/step - loss: 0.1056 - mae: 0.2473 - val_loss: 0.1883 - val_mae: 0.3363\n",
      "Epoch 8/25\n",
      "407/407 [==============================] - 11s 27ms/step - loss: 0.0948 - mae: 0.2365 - val_loss: 0.2078 - val_mae: 0.3557\n",
      "Epoch 9/25\n",
      "407/407 [==============================] - 11s 27ms/step - loss: 0.0931 - mae: 0.2322 - val_loss: 0.2002 - val_mae: 0.3424\n",
      "Epoch 10/25\n",
      "407/407 [==============================] - 11s 27ms/step - loss: 0.0981 - mae: 0.2345 - val_loss: 1.1901 - val_mae: 0.8014\n",
      "Epoch 11/25\n",
      "407/407 [==============================] - 11s 27ms/step - loss: 0.1730 - mae: 0.2963 - val_loss: 0.2046 - val_mae: 0.3479\n",
      "Epoch 12/25\n",
      "407/407 [==============================] - 11s 27ms/step - loss: 0.1042 - mae: 0.2437 - val_loss: 0.1616 - val_mae: 0.3134\n",
      "Epoch 13/25\n",
      "407/407 [==============================] - 11s 27ms/step - loss: 0.0835 - mae: 0.2195 - val_loss: 0.1550 - val_mae: 0.3076\n",
      "Epoch 14/25\n",
      "407/407 [==============================] - 11s 27ms/step - loss: 0.0793 - mae: 0.2175 - val_loss: 0.1535 - val_mae: 0.3061\n",
      "Epoch 15/25\n",
      "407/407 [==============================] - 11s 27ms/step - loss: 0.0766 - mae: 0.2106 - val_loss: 0.1803 - val_mae: 0.3294\n",
      "Epoch 16/25\n",
      "407/407 [==============================] - 11s 27ms/step - loss: 0.0763 - mae: 0.2101 - val_loss: 0.1910 - val_mae: 0.3448\n",
      "Epoch 17/25\n",
      "407/407 [==============================] - 11s 27ms/step - loss: 0.0719 - mae: 0.2037 - val_loss: 0.3220 - val_mae: 0.4260\n",
      "Epoch 18/25\n",
      "407/407 [==============================] - 11s 26ms/step - loss: 0.0982 - mae: 0.2270 - val_loss: 0.1548 - val_mae: 0.3022\n",
      "Epoch 19/25\n",
      "407/407 [==============================] - 11s 27ms/step - loss: 0.0653 - mae: 0.1945 - val_loss: 0.2251 - val_mae: 0.3717\n",
      "Epoch 20/25\n",
      "407/407 [==============================] - 11s 27ms/step - loss: 0.0782 - mae: 0.2068 - val_loss: 0.1735 - val_mae: 0.3238\n",
      "Epoch 21/25\n",
      "407/407 [==============================] - 11s 27ms/step - loss: 0.0744 - mae: 0.2051 - val_loss: 0.1993 - val_mae: 0.3529\n",
      "Epoch 22/25\n",
      "407/407 [==============================] - 11s 27ms/step - loss: 0.0647 - mae: 0.1938 - val_loss: 0.1610 - val_mae: 0.3152\n",
      "Epoch 23/25\n",
      "407/407 [==============================] - 11s 27ms/step - loss: 0.0585 - mae: 0.1831 - val_loss: 0.1532 - val_mae: 0.3024\n",
      "Epoch 24/25\n",
      "407/407 [==============================] - 11s 27ms/step - loss: 0.0560 - mae: 0.1801 - val_loss: 0.1636 - val_mae: 0.3151\n",
      "Epoch 25/25\n",
      "407/407 [==============================] - 11s 27ms/step - loss: 0.0590 - mae: 0.1843 - val_loss: 0.1854 - val_mae: 0.3335\n",
      "42/42 [==============================] - 1s 15ms/step - loss: 0.2885 - mae: 0.4071\n"
     ]
    },
    {
     "data": {
      "text/html": [
       "<br/>Waiting for W&B process to finish, PID 1061<br/>Program failed with code 1.  Press ctrl-c to abort syncing."
      ],
      "text/plain": [
       "<IPython.core.display.HTML object>"
      ]
     },
     "metadata": {
      "tags": []
     },
     "output_type": "display_data"
    },
    {
     "data": {
      "application/vnd.jupyter.widget-view+json": {
       "model_id": "2613d5a50f044f29b6daee33db01d0c0",
       "version_major": 2,
       "version_minor": 0
      },
      "text/plain": [
       "VBox(children=(Label(value=' 2.38MB of 2.38MB uploaded (0.00MB deduped)\\r'), FloatProgress(value=1.0, max=1.0)…"
      ]
     },
     "metadata": {
      "tags": []
     },
     "output_type": "display_data"
    },
    {
     "data": {
      "text/html": [
       "Find user logs for this run at: <code>/content/wandb/run-20210507_091040-83fe46jn/logs/debug.log</code>"
      ],
      "text/plain": [
       "<IPython.core.display.HTML object>"
      ]
     },
     "metadata": {
      "tags": []
     },
     "output_type": "display_data"
    },
    {
     "data": {
      "text/html": [
       "Find internal logs for this run at: <code>/content/wandb/run-20210507_091040-83fe46jn/logs/debug-internal.log</code>"
      ],
      "text/plain": [
       "<IPython.core.display.HTML object>"
      ]
     },
     "metadata": {
      "tags": []
     },
     "output_type": "display_data"
    },
    {
     "data": {
      "text/html": [
       "<h3>Run summary:</h3><br/><style>\n",
       "    table.wandb td:nth-child(1) { padding: 0 10px; text-align: right }\n",
       "    </style><table class=\"wandb\">\n",
       "<tr><td>epoch</td><td>24</td></tr><tr><td>loss</td><td>0.05219</td></tr><tr><td>mae</td><td>0.17427</td></tr><tr><td>val_loss</td><td>0.18541</td></tr><tr><td>val_mae</td><td>0.33349</td></tr><tr><td>_runtime</td><td>288</td></tr><tr><td>_timestamp</td><td>1620378928</td></tr><tr><td>_step</td><td>26</td></tr><tr><td>best_val_loss</td><td>0.1532</td></tr><tr><td>best_epoch</td><td>22</td></tr><tr><td>test_loss</td><td>0.28854</td></tr><tr><td>test_mae</td><td>0.40706</td></tr></table>"
      ],
      "text/plain": [
       "<IPython.core.display.HTML object>"
      ]
     },
     "metadata": {
      "tags": []
     },
     "output_type": "display_data"
    },
    {
     "data": {
      "text/html": [
       "<h3>Run history:</h3><br/><style>\n",
       "    table.wandb td:nth-child(1) { padding: 0 10px; text-align: right }\n",
       "    </style><table class=\"wandb\">\n",
       "<tr><td>epoch</td><td>▁▁▂▂▂▂▃▃▃▄▄▄▅▅▅▅▆▆▆▇▇▇▇██</td></tr><tr><td>loss</td><td>█▃▂▂▂▂▂▂▂▂▂▂▁▁▁▁▁▁▁▁▁▁▁▁▁</td></tr><tr><td>mae</td><td>█▄▃▃▃▃▂▂▂▂▃▂▂▂▂▂▁▂▁▁▁▁▁▁▁</td></tr><tr><td>val_loss</td><td>█▁▁▁▂▁▁▁▁█▁▁▁▁▁▁▂▁▁▁▁▁▁▁▁</td></tr><tr><td>val_mae</td><td>█▁▁▁▂▁▁▂▁▇▂▁▁▁▁▂▂▁▂▁▂▁▁▁▁</td></tr><tr><td>_runtime</td><td>▁▁▂▂▂▂▃▃▃▄▄▄▅▅▅▅▆▆▆▇▇▇▇████</td></tr><tr><td>_timestamp</td><td>▁▁▂▂▂▂▃▃▃▄▄▄▅▅▅▅▆▆▆▇▇▇▇████</td></tr><tr><td>_step</td><td>▁▁▂▂▂▂▃▃▃▃▄▄▄▅▅▅▅▆▆▆▆▇▇▇▇██</td></tr><tr><td>test_loss</td><td>▁</td></tr><tr><td>test_mae</td><td>▁</td></tr></table><br/>"
      ],
      "text/plain": [
       "<IPython.core.display.HTML object>"
      ]
     },
     "metadata": {
      "tags": []
     },
     "output_type": "display_data"
    },
    {
     "data": {
      "text/html": [
       "Synced 5 W&B file(s), 1 media file(s), 0 artifact file(s) and 1 other file(s)"
      ],
      "text/plain": [
       "<IPython.core.display.HTML object>"
      ]
     },
     "metadata": {
      "tags": []
     },
     "output_type": "display_data"
    },
    {
     "data": {
      "text/html": [
       "\n",
       "                    <br/>Synced <strong style=\"color:#cdcd00\">royal-sweep-7</strong>: <a href=\"https://wandb.ai/nbvanting/thesis/runs/83fe46jn\" target=\"_blank\">https://wandb.ai/nbvanting/thesis/runs/83fe46jn</a><br/>\n",
       "                "
      ],
      "text/plain": [
       "<IPython.core.display.HTML object>"
      ]
     },
     "metadata": {
      "tags": []
     },
     "output_type": "display_data"
    },
    {
     "name": "stderr",
     "output_type": "stream",
     "text": [
      "Run 83fe46jn errored: IndexError('list index out of range')\n",
      "\u001b[34m\u001b[1mwandb\u001b[0m: \u001b[32m\u001b[41mERROR\u001b[0m Run 83fe46jn errored: IndexError('list index out of range')\n",
      "\u001b[34m\u001b[1mwandb\u001b[0m: Agent Starting Run: dv261a0y with config:\n",
      "\u001b[34m\u001b[1mwandb\u001b[0m: \tactivation_cnn: relu\n",
      "\u001b[34m\u001b[1mwandb\u001b[0m: \tactivation_gru: tanh\n",
      "\u001b[34m\u001b[1mwandb\u001b[0m: \tbatch_size: 163\n",
      "\u001b[34m\u001b[1mwandb\u001b[0m: \tcnn_lay_2: False\n",
      "\u001b[34m\u001b[1mwandb\u001b[0m: \tcnn_lay_3: True\n",
      "\u001b[34m\u001b[1mwandb\u001b[0m: \tcnn_layer_size_1: 88\n",
      "\u001b[34m\u001b[1mwandb\u001b[0m: \tcnn_layer_size_2: 172\n",
      "\u001b[34m\u001b[1mwandb\u001b[0m: \tcnn_layer_size_3: 38\n",
      "\u001b[34m\u001b[1mwandb\u001b[0m: \tdataset: kolding\n",
      "\u001b[34m\u001b[1mwandb\u001b[0m: \tdropout: 0.24452172965450178\n",
      "\u001b[34m\u001b[1mwandb\u001b[0m: \tepochs: 25\n",
      "\u001b[34m\u001b[1mwandb\u001b[0m: \tgru_lay_1: False\n",
      "\u001b[34m\u001b[1mwandb\u001b[0m: \tgru_lay_2: False\n",
      "\u001b[34m\u001b[1mwandb\u001b[0m: \tgru_layer_size_1: 52\n",
      "\u001b[34m\u001b[1mwandb\u001b[0m: \tgru_layer_size_2: 41\n",
      "\u001b[34m\u001b[1mwandb\u001b[0m: \tgru_layer_size_3: 62\n",
      "\u001b[34m\u001b[1mwandb\u001b[0m: \tkernelsize: 3\n",
      "\u001b[34m\u001b[1mwandb\u001b[0m: \tlearning_rate: 0.03217750787536712\n",
      "\u001b[34m\u001b[1mwandb\u001b[0m: \tlookback: 744\n",
      "\u001b[34m\u001b[1mwandb\u001b[0m: \tmomentum: 0.5444970658988006\n",
      "\u001b[34m\u001b[1mwandb\u001b[0m: \tnum_cnn_layers: 2\n",
      "\u001b[34m\u001b[1mwandb\u001b[0m: \tnum_features: 9\n",
      "\u001b[34m\u001b[1mwandb\u001b[0m: \tnum_gru_layers: 2\n",
      "\u001b[34m\u001b[1mwandb\u001b[0m: \toptimizer: sgd\n",
      "\u001b[34m\u001b[1mwandb\u001b[0m: \tsplitmethod: offset\n",
      "\u001b[34m\u001b[1mwandb\u001b[0m: \tsplitrate: 0.8\n",
      "\u001b[34m\u001b[1mwandb\u001b[0m: \u001b[33mWARNING\u001b[0m Ignored wandb.init() arg project when running a sweep\n"
     ]
    },
    {
     "data": {
      "text/html": [
       "\n",
       "                Tracking run with wandb version 0.10.29<br/>\n",
       "                Syncing run <strong style=\"color:#cdcd00\">decent-sweep-8</strong> to <a href=\"https://wandb.ai\" target=\"_blank\">Weights & Biases</a> <a href=\"https://docs.wandb.com/integrations/jupyter.html\" target=\"_blank\">(Documentation)</a>.<br/>\n",
       "                Project page: <a href=\"https://wandb.ai/nbvanting/thesis\" target=\"_blank\">https://wandb.ai/nbvanting/thesis</a><br/>\n",
       "                Sweep page: <a href=\"https://wandb.ai/nbvanting/thesis/sweeps/xjdtj3eo\" target=\"_blank\">https://wandb.ai/nbvanting/thesis/sweeps/xjdtj3eo</a><br/>\n",
       "Run page: <a href=\"https://wandb.ai/nbvanting/thesis/runs/dv261a0y\" target=\"_blank\">https://wandb.ai/nbvanting/thesis/runs/dv261a0y</a><br/>\n",
       "                Run data is saved locally in <code>/content/wandb/run-20210507_091533-dv261a0y</code><br/><br/>\n",
       "            "
      ],
      "text/plain": [
       "<IPython.core.display.HTML object>"
      ]
     },
     "metadata": {
      "tags": []
     },
     "output_type": "display_data"
    },
    {
     "name": "stdout",
     "output_type": "stream",
     "text": [
      "Epoch 1/25\n",
      "90/90 [==============================] - 8s 70ms/step - loss: 0.6502 - mae: 0.6258 - val_loss: 0.5222 - val_mae: 0.5756\n",
      "Epoch 2/25\n",
      "90/90 [==============================] - 6s 61ms/step - loss: 0.4602 - mae: 0.5173 - val_loss: 0.3998 - val_mae: 0.5086\n",
      "Epoch 3/25\n",
      "90/90 [==============================] - 6s 62ms/step - loss: 0.3709 - mae: 0.4616 - val_loss: 0.4010 - val_mae: 0.5209\n",
      "Epoch 4/25\n",
      "90/90 [==============================] - 6s 63ms/step - loss: 0.2941 - mae: 0.4123 - val_loss: 0.2600 - val_mae: 0.4131\n",
      "Epoch 5/25\n",
      "90/90 [==============================] - 6s 61ms/step - loss: 0.2433 - mae: 0.3777 - val_loss: 0.2164 - val_mae: 0.3730\n",
      "Epoch 6/25\n",
      "90/90 [==============================] - 6s 63ms/step - loss: 0.2005 - mae: 0.3429 - val_loss: 0.2093 - val_mae: 0.3614\n",
      "Epoch 7/25\n",
      "90/90 [==============================] - 6s 62ms/step - loss: 0.1796 - mae: 0.3236 - val_loss: 0.2283 - val_mae: 0.3795\n",
      "Epoch 8/25\n",
      "90/90 [==============================] - 6s 60ms/step - loss: 0.1685 - mae: 0.3150 - val_loss: 0.2012 - val_mae: 0.3557\n",
      "Epoch 9/25\n",
      "90/90 [==============================] - 6s 62ms/step - loss: 0.1601 - mae: 0.3064 - val_loss: 0.1726 - val_mae: 0.3315\n",
      "Epoch 10/25\n",
      "90/90 [==============================] - 6s 61ms/step - loss: 0.1506 - mae: 0.2974 - val_loss: 0.1767 - val_mae: 0.3373\n",
      "Epoch 11/25\n",
      "90/90 [==============================] - 6s 63ms/step - loss: 0.1438 - mae: 0.2890 - val_loss: 0.1607 - val_mae: 0.3199\n",
      "Epoch 12/25\n",
      "90/90 [==============================] - 6s 64ms/step - loss: 0.1355 - mae: 0.2817 - val_loss: 0.1659 - val_mae: 0.3257\n",
      "Epoch 13/25\n",
      "90/90 [==============================] - 6s 62ms/step - loss: 0.1344 - mae: 0.2810 - val_loss: 0.1554 - val_mae: 0.3144\n",
      "Epoch 14/25\n",
      "90/90 [==============================] - 6s 61ms/step - loss: 0.1326 - mae: 0.2791 - val_loss: 0.1469 - val_mae: 0.3075\n",
      "Epoch 15/25\n",
      "90/90 [==============================] - 6s 61ms/step - loss: 0.1244 - mae: 0.2718 - val_loss: 0.1521 - val_mae: 0.3124\n",
      "Epoch 16/25\n",
      "90/90 [==============================] - 6s 63ms/step - loss: 0.1262 - mae: 0.2720 - val_loss: 0.1523 - val_mae: 0.3127\n",
      "Epoch 17/25\n",
      "90/90 [==============================] - 6s 62ms/step - loss: 0.1216 - mae: 0.2670 - val_loss: 0.1582 - val_mae: 0.3199\n",
      "Epoch 18/25\n",
      "90/90 [==============================] - 6s 63ms/step - loss: 0.1204 - mae: 0.2642 - val_loss: 0.1453 - val_mae: 0.3053\n",
      "Epoch 19/25\n",
      "90/90 [==============================] - 6s 62ms/step - loss: 0.1171 - mae: 0.2617 - val_loss: 0.1465 - val_mae: 0.3093\n",
      "Epoch 20/25\n",
      "90/90 [==============================] - 6s 64ms/step - loss: 0.1163 - mae: 0.2609 - val_loss: 0.1530 - val_mae: 0.3150\n",
      "Epoch 21/25\n",
      "90/90 [==============================] - 6s 62ms/step - loss: 0.1120 - mae: 0.2568 - val_loss: 0.1521 - val_mae: 0.3094\n",
      "Epoch 22/25\n",
      "90/90 [==============================] - 6s 62ms/step - loss: 0.1098 - mae: 0.2538 - val_loss: 0.1464 - val_mae: 0.3099\n",
      "Epoch 23/25\n",
      "90/90 [==============================] - 6s 63ms/step - loss: 0.1096 - mae: 0.2534 - val_loss: 0.1424 - val_mae: 0.3038\n",
      "Epoch 24/25\n",
      "90/90 [==============================] - 6s 64ms/step - loss: 0.1081 - mae: 0.2517 - val_loss: 0.1441 - val_mae: 0.3003\n",
      "Epoch 25/25\n",
      "90/90 [==============================] - 6s 62ms/step - loss: 0.1097 - mae: 0.2530 - val_loss: 0.1428 - val_mae: 0.3033\n",
      "10/10 [==============================] - 0s 22ms/step - loss: 0.2656 - mae: 0.3970\n"
     ]
    },
    {
     "data": {
      "text/html": [
       "<br/>Waiting for W&B process to finish, PID 1402<br/>Program failed with code 1.  Press ctrl-c to abort syncing."
      ],
      "text/plain": [
       "<IPython.core.display.HTML object>"
      ]
     },
     "metadata": {
      "tags": []
     },
     "output_type": "display_data"
    },
    {
     "data": {
      "application/vnd.jupyter.widget-view+json": {
       "model_id": "39c5957113d24b2c80d83f7ca4cd79f7",
       "version_major": 2,
       "version_minor": 0
      },
      "text/plain": [
       "VBox(children=(Label(value=' 0.28MB of 0.28MB uploaded (0.00MB deduped)\\r'), FloatProgress(value=1.0, max=1.0)…"
      ]
     },
     "metadata": {
      "tags": []
     },
     "output_type": "display_data"
    },
    {
     "data": {
      "text/html": [
       "Find user logs for this run at: <code>/content/wandb/run-20210507_091533-dv261a0y/logs/debug.log</code>"
      ],
      "text/plain": [
       "<IPython.core.display.HTML object>"
      ]
     },
     "metadata": {
      "tags": []
     },
     "output_type": "display_data"
    },
    {
     "data": {
      "text/html": [
       "Find internal logs for this run at: <code>/content/wandb/run-20210507_091533-dv261a0y/logs/debug-internal.log</code>"
      ],
      "text/plain": [
       "<IPython.core.display.HTML object>"
      ]
     },
     "metadata": {
      "tags": []
     },
     "output_type": "display_data"
    },
    {
     "data": {
      "text/html": [
       "<h3>Run summary:</h3><br/><style>\n",
       "    table.wandb td:nth-child(1) { padding: 0 10px; text-align: right }\n",
       "    </style><table class=\"wandb\">\n",
       "<tr><td>epoch</td><td>24</td></tr><tr><td>loss</td><td>0.10717</td></tr><tr><td>mae</td><td>0.25125</td></tr><tr><td>val_loss</td><td>0.14279</td></tr><tr><td>val_mae</td><td>0.30329</td></tr><tr><td>_runtime</td><td>152</td></tr><tr><td>_timestamp</td><td>1620379085</td></tr><tr><td>_step</td><td>26</td></tr><tr><td>best_val_loss</td><td>0.14244</td></tr><tr><td>best_epoch</td><td>22</td></tr><tr><td>test_loss</td><td>0.26555</td></tr><tr><td>test_mae</td><td>0.39704</td></tr></table>"
      ],
      "text/plain": [
       "<IPython.core.display.HTML object>"
      ]
     },
     "metadata": {
      "tags": []
     },
     "output_type": "display_data"
    },
    {
     "data": {
      "text/html": [
       "<h3>Run history:</h3><br/><style>\n",
       "    table.wandb td:nth-child(1) { padding: 0 10px; text-align: right }\n",
       "    </style><table class=\"wandb\">\n",
       "<tr><td>epoch</td><td>▁▁▂▂▂▂▃▃▃▄▄▄▅▅▅▅▆▆▆▇▇▇▇██</td></tr><tr><td>loss</td><td>█▆▅▄▃▂▂▂▂▂▂▁▁▁▁▁▁▁▁▁▁▁▁▁▁</td></tr><tr><td>mae</td><td>█▆▅▄▃▃▂▂▂▂▂▂▂▂▁▁▁▁▁▁▁▁▁▁▁</td></tr><tr><td>val_loss</td><td>█▆▆▃▂▂▃▂▂▂▁▁▁▁▁▁▁▁▁▁▁▁▁▁▁</td></tr><tr><td>val_mae</td><td>█▆▇▄▃▃▃▂▂▂▁▂▁▁▁▁▁▁▁▁▁▁▁▁▁</td></tr><tr><td>_runtime</td><td>▁▁▂▂▂▂▃▃▃▄▄▄▄▅▅▅▆▆▆▇▇▇▇████</td></tr><tr><td>_timestamp</td><td>▁▁▂▂▂▂▃▃▃▄▄▄▄▅▅▅▆▆▆▇▇▇▇████</td></tr><tr><td>_step</td><td>▁▁▂▂▂▂▃▃▃▃▄▄▄▅▅▅▅▆▆▆▆▇▇▇▇██</td></tr><tr><td>test_loss</td><td>▁</td></tr><tr><td>test_mae</td><td>▁</td></tr></table><br/>"
      ],
      "text/plain": [
       "<IPython.core.display.HTML object>"
      ]
     },
     "metadata": {
      "tags": []
     },
     "output_type": "display_data"
    },
    {
     "data": {
      "text/html": [
       "Synced 5 W&B file(s), 1 media file(s), 0 artifact file(s) and 1 other file(s)"
      ],
      "text/plain": [
       "<IPython.core.display.HTML object>"
      ]
     },
     "metadata": {
      "tags": []
     },
     "output_type": "display_data"
    },
    {
     "data": {
      "text/html": [
       "\n",
       "                    <br/>Synced <strong style=\"color:#cdcd00\">decent-sweep-8</strong>: <a href=\"https://wandb.ai/nbvanting/thesis/runs/dv261a0y\" target=\"_blank\">https://wandb.ai/nbvanting/thesis/runs/dv261a0y</a><br/>\n",
       "                "
      ],
      "text/plain": [
       "<IPython.core.display.HTML object>"
      ]
     },
     "metadata": {
      "tags": []
     },
     "output_type": "display_data"
    },
    {
     "name": "stderr",
     "output_type": "stream",
     "text": [
      "Run dv261a0y errored: IndexError('list index out of range')\n",
      "\u001b[34m\u001b[1mwandb\u001b[0m: \u001b[32m\u001b[41mERROR\u001b[0m Run dv261a0y errored: IndexError('list index out of range')\n",
      "\u001b[34m\u001b[1mwandb\u001b[0m: Agent Starting Run: min3xzdr with config:\n",
      "\u001b[34m\u001b[1mwandb\u001b[0m: \tactivation_cnn: relu\n",
      "\u001b[34m\u001b[1mwandb\u001b[0m: \tactivation_gru: tanh\n",
      "\u001b[34m\u001b[1mwandb\u001b[0m: \tbatch_size: 133\n",
      "\u001b[34m\u001b[1mwandb\u001b[0m: \tcnn_lay_2: True\n",
      "\u001b[34m\u001b[1mwandb\u001b[0m: \tcnn_lay_3: False\n",
      "\u001b[34m\u001b[1mwandb\u001b[0m: \tcnn_layer_size_1: 86\n",
      "\u001b[34m\u001b[1mwandb\u001b[0m: \tcnn_layer_size_2: 54\n",
      "\u001b[34m\u001b[1mwandb\u001b[0m: \tcnn_layer_size_3: 107\n",
      "\u001b[34m\u001b[1mwandb\u001b[0m: \tdataset: strib\n",
      "\u001b[34m\u001b[1mwandb\u001b[0m: \tdropout: 0.4785314804604351\n",
      "\u001b[34m\u001b[1mwandb\u001b[0m: \tepochs: 25\n",
      "\u001b[34m\u001b[1mwandb\u001b[0m: \tgru_lay_1: False\n",
      "\u001b[34m\u001b[1mwandb\u001b[0m: \tgru_lay_2: False\n",
      "\u001b[34m\u001b[1mwandb\u001b[0m: \tgru_layer_size_1: 199\n",
      "\u001b[34m\u001b[1mwandb\u001b[0m: \tgru_layer_size_2: 47\n",
      "\u001b[34m\u001b[1mwandb\u001b[0m: \tgru_layer_size_3: 89\n",
      "\u001b[34m\u001b[1mwandb\u001b[0m: \tkernelsize: 7\n",
      "\u001b[34m\u001b[1mwandb\u001b[0m: \tlearning_rate: 0.00918334451864548\n",
      "\u001b[34m\u001b[1mwandb\u001b[0m: \tlookback: 744\n",
      "\u001b[34m\u001b[1mwandb\u001b[0m: \tmomentum: 0.9070777033286088\n",
      "\u001b[34m\u001b[1mwandb\u001b[0m: \tnum_cnn_layers: 2\n",
      "\u001b[34m\u001b[1mwandb\u001b[0m: \tnum_features: 9\n",
      "\u001b[34m\u001b[1mwandb\u001b[0m: \tnum_gru_layers: 2\n",
      "\u001b[34m\u001b[1mwandb\u001b[0m: \toptimizer: sgd\n",
      "\u001b[34m\u001b[1mwandb\u001b[0m: \tsplitmethod: standard\n",
      "\u001b[34m\u001b[1mwandb\u001b[0m: \tsplitrate: 0.8\n",
      "\u001b[34m\u001b[1mwandb\u001b[0m: \u001b[33mWARNING\u001b[0m Ignored wandb.init() arg project when running a sweep\n"
     ]
    },
    {
     "data": {
      "text/html": [
       "\n",
       "                Tracking run with wandb version 0.10.29<br/>\n",
       "                Syncing run <strong style=\"color:#cdcd00\">frosty-sweep-9</strong> to <a href=\"https://wandb.ai\" target=\"_blank\">Weights & Biases</a> <a href=\"https://docs.wandb.com/integrations/jupyter.html\" target=\"_blank\">(Documentation)</a>.<br/>\n",
       "                Project page: <a href=\"https://wandb.ai/nbvanting/thesis\" target=\"_blank\">https://wandb.ai/nbvanting/thesis</a><br/>\n",
       "                Sweep page: <a href=\"https://wandb.ai/nbvanting/thesis/sweeps/xjdtj3eo\" target=\"_blank\">https://wandb.ai/nbvanting/thesis/sweeps/xjdtj3eo</a><br/>\n",
       "Run page: <a href=\"https://wandb.ai/nbvanting/thesis/runs/min3xzdr\" target=\"_blank\">https://wandb.ai/nbvanting/thesis/runs/min3xzdr</a><br/>\n",
       "                Run data is saved locally in <code>/content/wandb/run-20210507_091809-min3xzdr</code><br/><br/>\n",
       "            "
      ],
      "text/plain": [
       "<IPython.core.display.HTML object>"
      ]
     },
     "metadata": {
      "tags": []
     },
     "output_type": "display_data"
    },
    {
     "name": "stdout",
     "output_type": "stream",
     "text": [
      "Epoch 1/25\n",
      "118/118 [==============================] - 9s 62ms/step - loss: 0.5070 - mae: 0.5579 - val_loss: 0.4179 - val_mae: 0.4790\n",
      "Epoch 2/25\n",
      "118/118 [==============================] - 7s 57ms/step - loss: 0.1418 - mae: 0.2866 - val_loss: 0.4136 - val_mae: 0.4693\n",
      "Epoch 3/25\n",
      "118/118 [==============================] - 7s 58ms/step - loss: 0.1157 - mae: 0.2612 - val_loss: 0.3346 - val_mae: 0.4229\n",
      "Epoch 4/25\n",
      "118/118 [==============================] - 7s 56ms/step - loss: 0.1054 - mae: 0.2504 - val_loss: 0.3742 - val_mae: 0.4572\n",
      "Epoch 5/25\n",
      "118/118 [==============================] - 7s 58ms/step - loss: 0.1012 - mae: 0.2447 - val_loss: 0.3908 - val_mae: 0.4665\n",
      "Epoch 6/25\n",
      "118/118 [==============================] - 7s 56ms/step - loss: 0.0917 - mae: 0.2331 - val_loss: 0.4005 - val_mae: 0.4847\n",
      "Epoch 7/25\n",
      "118/118 [==============================] - 7s 58ms/step - loss: 0.0893 - mae: 0.2303 - val_loss: 0.3102 - val_mae: 0.4099\n",
      "Epoch 8/25\n",
      "118/118 [==============================] - 7s 57ms/step - loss: 0.0880 - mae: 0.2278 - val_loss: 0.3202 - val_mae: 0.4173\n",
      "Epoch 9/25\n",
      "118/118 [==============================] - 7s 59ms/step - loss: 0.0848 - mae: 0.2227 - val_loss: 0.3381 - val_mae: 0.4290\n",
      "Epoch 10/25\n",
      "118/118 [==============================] - 7s 58ms/step - loss: 0.0850 - mae: 0.2232 - val_loss: 0.3940 - val_mae: 0.4845\n",
      "Epoch 11/25\n",
      "118/118 [==============================] - 7s 57ms/step - loss: 0.0846 - mae: 0.2250 - val_loss: 0.2656 - val_mae: 0.3808\n",
      "Epoch 12/25\n",
      "118/118 [==============================] - 7s 57ms/step - loss: 0.0799 - mae: 0.2154 - val_loss: 0.3584 - val_mae: 0.4533\n",
      "Epoch 13/25\n",
      "118/118 [==============================] - 7s 58ms/step - loss: 0.0802 - mae: 0.2165 - val_loss: 0.3651 - val_mae: 0.4519\n",
      "Epoch 14/25\n",
      "118/118 [==============================] - 7s 60ms/step - loss: 0.0779 - mae: 0.2124 - val_loss: 0.3511 - val_mae: 0.4492\n",
      "Epoch 15/25\n",
      "118/118 [==============================] - 7s 59ms/step - loss: 0.0759 - mae: 0.2101 - val_loss: 0.4123 - val_mae: 0.4835\n",
      "Epoch 16/25\n",
      "118/118 [==============================] - 7s 57ms/step - loss: 0.0741 - mae: 0.2083 - val_loss: 0.3416 - val_mae: 0.4370\n",
      "Epoch 17/25\n",
      "118/118 [==============================] - 7s 58ms/step - loss: 0.0750 - mae: 0.2070 - val_loss: 0.3290 - val_mae: 0.4365\n",
      "Epoch 18/25\n",
      "118/118 [==============================] - 7s 59ms/step - loss: 0.0738 - mae: 0.2067 - val_loss: 0.2767 - val_mae: 0.3923\n",
      "Epoch 19/25\n",
      "118/118 [==============================] - 7s 58ms/step - loss: 0.0729 - mae: 0.2066 - val_loss: 0.3263 - val_mae: 0.4300\n",
      "Epoch 20/25\n",
      "118/118 [==============================] - 7s 57ms/step - loss: 0.0719 - mae: 0.2048 - val_loss: 0.3097 - val_mae: 0.4158\n",
      "Epoch 21/25\n",
      "118/118 [==============================] - 7s 57ms/step - loss: 0.0723 - mae: 0.2037 - val_loss: 0.3177 - val_mae: 0.4215\n",
      "Epoch 22/25\n",
      "118/118 [==============================] - 7s 54ms/step - loss: 0.0736 - mae: 0.2073 - val_loss: 0.3457 - val_mae: 0.4357\n",
      "Epoch 23/25\n",
      "118/118 [==============================] - 7s 58ms/step - loss: 0.0704 - mae: 0.2029 - val_loss: 0.2852 - val_mae: 0.3958\n",
      "Epoch 24/25\n",
      "118/118 [==============================] - 7s 56ms/step - loss: 0.0690 - mae: 0.2009 - val_loss: 0.2405 - val_mae: 0.3670\n",
      "Epoch 25/25\n",
      "118/118 [==============================] - 7s 58ms/step - loss: 0.0729 - mae: 0.2060 - val_loss: 0.2880 - val_mae: 0.3980\n",
      "5/5 [==============================] - 0s 15ms/step - loss: 0.1031 - mae: 0.2500\n"
     ]
    },
    {
     "data": {
      "text/html": [
       "<br/>Waiting for W&B process to finish, PID 1731<br/>Program failed with code 1.  Press ctrl-c to abort syncing."
      ],
      "text/plain": [
       "<IPython.core.display.HTML object>"
      ]
     },
     "metadata": {
      "tags": []
     },
     "output_type": "display_data"
    },
    {
     "data": {
      "application/vnd.jupyter.widget-view+json": {
       "model_id": "dc62d0e79c6e4e9da5fc3a3d40e58362",
       "version_major": 2,
       "version_minor": 0
      },
      "text/plain": [
       "VBox(children=(Label(value=' 0.63MB of 0.63MB uploaded (0.00MB deduped)\\r'), FloatProgress(value=1.0, max=1.0)…"
      ]
     },
     "metadata": {
      "tags": []
     },
     "output_type": "display_data"
    },
    {
     "data": {
      "text/html": [
       "Find user logs for this run at: <code>/content/wandb/run-20210507_091809-min3xzdr/logs/debug.log</code>"
      ],
      "text/plain": [
       "<IPython.core.display.HTML object>"
      ]
     },
     "metadata": {
      "tags": []
     },
     "output_type": "display_data"
    },
    {
     "data": {
      "text/html": [
       "Find internal logs for this run at: <code>/content/wandb/run-20210507_091809-min3xzdr/logs/debug-internal.log</code>"
      ],
      "text/plain": [
       "<IPython.core.display.HTML object>"
      ]
     },
     "metadata": {
      "tags": []
     },
     "output_type": "display_data"
    },
    {
     "data": {
      "text/html": [
       "<h3>Run summary:</h3><br/><style>\n",
       "    table.wandb td:nth-child(1) { padding: 0 10px; text-align: right }\n",
       "    </style><table class=\"wandb\">\n",
       "<tr><td>epoch</td><td>24</td></tr><tr><td>loss</td><td>0.07288</td></tr><tr><td>mae</td><td>0.20616</td></tr><tr><td>val_loss</td><td>0.28802</td></tr><tr><td>val_mae</td><td>0.398</td></tr><tr><td>_runtime</td><td>182</td></tr><tr><td>_timestamp</td><td>1620379271</td></tr><tr><td>_step</td><td>26</td></tr><tr><td>best_val_loss</td><td>0.24046</td></tr><tr><td>best_epoch</td><td>23</td></tr><tr><td>test_loss</td><td>0.1031</td></tr><tr><td>test_mae</td><td>0.25002</td></tr></table>"
      ],
      "text/plain": [
       "<IPython.core.display.HTML object>"
      ]
     },
     "metadata": {
      "tags": []
     },
     "output_type": "display_data"
    },
    {
     "data": {
      "text/html": [
       "<h3>Run history:</h3><br/><style>\n",
       "    table.wandb td:nth-child(1) { padding: 0 10px; text-align: right }\n",
       "    </style><table class=\"wandb\">\n",
       "<tr><td>epoch</td><td>▁▁▂▂▂▂▃▃▃▄▄▄▅▅▅▅▆▆▆▇▇▇▇██</td></tr><tr><td>loss</td><td>█▃▂▂▂▂▂▁▁▁▁▁▁▁▁▁▁▁▁▁▁▁▁▁▁</td></tr><tr><td>mae</td><td>█▃▃▂▂▂▂▂▂▂▂▁▁▁▁▁▁▁▁▁▁▁▁▁▁</td></tr><tr><td>val_loss</td><td>██▅▆▇▇▄▄▅▇▂▆▆▅█▅▄▂▄▄▄▅▃▁▃</td></tr><tr><td>val_mae</td><td>█▇▄▆▇█▄▄▅█▂▆▆▆█▅▅▃▅▄▄▅▃▁▃</td></tr><tr><td>_runtime</td><td>▁▁▂▂▂▂▃▃▃▄▄▄▅▅▅▅▆▆▆▇▇▇▇████</td></tr><tr><td>_timestamp</td><td>▁▁▂▂▂▂▃▃▃▄▄▄▅▅▅▅▆▆▆▇▇▇▇████</td></tr><tr><td>_step</td><td>▁▁▂▂▂▂▃▃▃▃▄▄▄▅▅▅▅▆▆▆▆▇▇▇▇██</td></tr><tr><td>test_loss</td><td>▁</td></tr><tr><td>test_mae</td><td>▁</td></tr></table><br/>"
      ],
      "text/plain": [
       "<IPython.core.display.HTML object>"
      ]
     },
     "metadata": {
      "tags": []
     },
     "output_type": "display_data"
    },
    {
     "data": {
      "text/html": [
       "Synced 5 W&B file(s), 1 media file(s), 0 artifact file(s) and 1 other file(s)"
      ],
      "text/plain": [
       "<IPython.core.display.HTML object>"
      ]
     },
     "metadata": {
      "tags": []
     },
     "output_type": "display_data"
    },
    {
     "data": {
      "text/html": [
       "\n",
       "                    <br/>Synced <strong style=\"color:#cdcd00\">frosty-sweep-9</strong>: <a href=\"https://wandb.ai/nbvanting/thesis/runs/min3xzdr\" target=\"_blank\">https://wandb.ai/nbvanting/thesis/runs/min3xzdr</a><br/>\n",
       "                "
      ],
      "text/plain": [
       "<IPython.core.display.HTML object>"
      ]
     },
     "metadata": {
      "tags": []
     },
     "output_type": "display_data"
    },
    {
     "name": "stderr",
     "output_type": "stream",
     "text": [
      "Run min3xzdr errored: IndexError('list index out of range')\n",
      "\u001b[34m\u001b[1mwandb\u001b[0m: \u001b[32m\u001b[41mERROR\u001b[0m Run min3xzdr errored: IndexError('list index out of range')\n",
      "\u001b[34m\u001b[1mwandb\u001b[0m: Agent Starting Run: twcp55rw with config:\n",
      "\u001b[34m\u001b[1mwandb\u001b[0m: \tactivation_cnn: relu\n",
      "\u001b[34m\u001b[1mwandb\u001b[0m: \tactivation_gru: tanh\n",
      "\u001b[34m\u001b[1mwandb\u001b[0m: \tbatch_size: 45\n",
      "\u001b[34m\u001b[1mwandb\u001b[0m: \tcnn_lay_2: False\n",
      "\u001b[34m\u001b[1mwandb\u001b[0m: \tcnn_lay_3: True\n",
      "\u001b[34m\u001b[1mwandb\u001b[0m: \tcnn_layer_size_1: 48\n",
      "\u001b[34m\u001b[1mwandb\u001b[0m: \tcnn_layer_size_2: 33\n",
      "\u001b[34m\u001b[1mwandb\u001b[0m: \tcnn_layer_size_3: 73\n",
      "\u001b[34m\u001b[1mwandb\u001b[0m: \tdataset: kolding\n",
      "\u001b[34m\u001b[1mwandb\u001b[0m: \tdropout: 0.019598767090586215\n",
      "\u001b[34m\u001b[1mwandb\u001b[0m: \tepochs: 25\n",
      "\u001b[34m\u001b[1mwandb\u001b[0m: \tgru_lay_1: True\n",
      "\u001b[34m\u001b[1mwandb\u001b[0m: \tgru_lay_2: True\n",
      "\u001b[34m\u001b[1mwandb\u001b[0m: \tgru_layer_size_1: 237\n",
      "\u001b[34m\u001b[1mwandb\u001b[0m: \tgru_layer_size_2: 130\n",
      "\u001b[34m\u001b[1mwandb\u001b[0m: \tgru_layer_size_3: 196\n",
      "\u001b[34m\u001b[1mwandb\u001b[0m: \tkernelsize: 7\n",
      "\u001b[34m\u001b[1mwandb\u001b[0m: \tlearning_rate: 0.011076036021312439\n",
      "\u001b[34m\u001b[1mwandb\u001b[0m: \tlookback: 744\n",
      "\u001b[34m\u001b[1mwandb\u001b[0m: \tmomentum: 0.7848947074160916\n",
      "\u001b[34m\u001b[1mwandb\u001b[0m: \tnum_cnn_layers: 2\n",
      "\u001b[34m\u001b[1mwandb\u001b[0m: \tnum_features: 9\n",
      "\u001b[34m\u001b[1mwandb\u001b[0m: \tnum_gru_layers: 2\n",
      "\u001b[34m\u001b[1mwandb\u001b[0m: \toptimizer: sgd\n",
      "\u001b[34m\u001b[1mwandb\u001b[0m: \tsplitmethod: standard\n",
      "\u001b[34m\u001b[1mwandb\u001b[0m: \tsplitrate: 0.8\n",
      "\u001b[34m\u001b[1mwandb\u001b[0m: \u001b[33mWARNING\u001b[0m Ignored wandb.init() arg project when running a sweep\n"
     ]
    },
    {
     "data": {
      "text/html": [
       "\n",
       "                Tracking run with wandb version 0.10.29<br/>\n",
       "                Syncing run <strong style=\"color:#cdcd00\">good-sweep-10</strong> to <a href=\"https://wandb.ai\" target=\"_blank\">Weights & Biases</a> <a href=\"https://docs.wandb.com/integrations/jupyter.html\" target=\"_blank\">(Documentation)</a>.<br/>\n",
       "                Project page: <a href=\"https://wandb.ai/nbvanting/thesis\" target=\"_blank\">https://wandb.ai/nbvanting/thesis</a><br/>\n",
       "                Sweep page: <a href=\"https://wandb.ai/nbvanting/thesis/sweeps/xjdtj3eo\" target=\"_blank\">https://wandb.ai/nbvanting/thesis/sweeps/xjdtj3eo</a><br/>\n",
       "Run page: <a href=\"https://wandb.ai/nbvanting/thesis/runs/twcp55rw\" target=\"_blank\">https://wandb.ai/nbvanting/thesis/runs/twcp55rw</a><br/>\n",
       "                Run data is saved locally in <code>/content/wandb/run-20210507_092115-twcp55rw</code><br/><br/>\n",
       "            "
      ],
      "text/plain": [
       "<IPython.core.display.HTML object>"
      ]
     },
     "metadata": {
      "tags": []
     },
     "output_type": "display_data"
    },
    {
     "name": "stdout",
     "output_type": "stream",
     "text": [
      "Epoch 1/25\n",
      "349/349 [==============================] - 24s 55ms/step - loss: 0.6440 - mae: 0.6298 - val_loss: 0.5537 - val_mae: 0.6225\n",
      "Epoch 2/25\n",
      "349/349 [==============================] - 18s 53ms/step - loss: 0.2355 - mae: 0.3702 - val_loss: 0.4448 - val_mae: 0.4898\n",
      "Epoch 3/25\n",
      "349/349 [==============================] - 18s 52ms/step - loss: 0.1337 - mae: 0.2789 - val_loss: 0.3590 - val_mae: 0.4415\n",
      "Epoch 4/25\n",
      "349/349 [==============================] - 19s 53ms/step - loss: 0.1136 - mae: 0.2580 - val_loss: 0.3543 - val_mae: 0.4382\n",
      "Epoch 5/25\n",
      "349/349 [==============================] - 19s 54ms/step - loss: 0.1034 - mae: 0.2464 - val_loss: 0.2748 - val_mae: 0.3911\n",
      "Epoch 6/25\n",
      "349/349 [==============================] - 18s 52ms/step - loss: 0.0970 - mae: 0.2390 - val_loss: 0.2897 - val_mae: 0.4062\n",
      "Epoch 7/25\n",
      "349/349 [==============================] - 19s 53ms/step - loss: 0.0933 - mae: 0.2341 - val_loss: 0.3483 - val_mae: 0.4369\n",
      "Epoch 8/25\n",
      "349/349 [==============================] - 19s 54ms/step - loss: 0.0886 - mae: 0.2291 - val_loss: 0.3085 - val_mae: 0.4100\n",
      "Epoch 9/25\n",
      "349/349 [==============================] - 19s 54ms/step - loss: 0.0863 - mae: 0.2261 - val_loss: 0.2990 - val_mae: 0.4021\n",
      "Epoch 10/25\n",
      "349/349 [==============================] - 19s 54ms/step - loss: 0.0842 - mae: 0.2228 - val_loss: 0.2960 - val_mae: 0.3953\n",
      "Epoch 11/25\n",
      "349/349 [==============================] - 19s 54ms/step - loss: 0.0809 - mae: 0.2186 - val_loss: 0.3022 - val_mae: 0.4054\n",
      "Epoch 12/25\n",
      "349/349 [==============================] - 19s 54ms/step - loss: 0.0801 - mae: 0.2167 - val_loss: 0.2972 - val_mae: 0.4064\n",
      "Epoch 13/25\n",
      "349/349 [==============================] - 19s 55ms/step - loss: 0.0772 - mae: 0.2151 - val_loss: 0.3701 - val_mae: 0.4402\n",
      "Epoch 14/25\n",
      "349/349 [==============================] - 19s 54ms/step - loss: 0.0753 - mae: 0.2104 - val_loss: 0.3290 - val_mae: 0.4261\n",
      "Epoch 15/25\n",
      "349/349 [==============================] - 19s 55ms/step - loss: 0.0740 - mae: 0.2085 - val_loss: 0.2898 - val_mae: 0.3962\n",
      "Epoch 16/25\n",
      "349/349 [==============================] - 19s 55ms/step - loss: 0.0712 - mae: 0.2058 - val_loss: 0.2759 - val_mae: 0.3850\n",
      "Epoch 17/25\n",
      "349/349 [==============================] - 19s 54ms/step - loss: 0.0705 - mae: 0.2043 - val_loss: 0.2378 - val_mae: 0.3549\n",
      "Epoch 18/25\n",
      "349/349 [==============================] - 19s 55ms/step - loss: 0.0712 - mae: 0.2050 - val_loss: 0.2853 - val_mae: 0.3897\n",
      "Epoch 19/25\n",
      " 53/349 [===>..........................] - ETA: 15s - loss: 0.0674 - mae: 0.2006"
     ]
    },
    {
     "data": {
      "text/html": [
       "<br/>Waiting for W&B process to finish, PID 2070<br/>Program failed with code 1.  Press ctrl-c to abort syncing."
      ],
      "text/plain": [
       "<IPython.core.display.HTML object>"
      ]
     },
     "metadata": {
      "tags": []
     },
     "output_type": "display_data"
    },
    {
     "data": {
      "application/vnd.jupyter.widget-view+json": {
       "model_id": "64772c893f504027a2100a1ffbb331f1",
       "version_major": 2,
       "version_minor": 0
      },
      "text/plain": [
       "VBox(children=(Label(value=' 4.54MB of 4.54MB uploaded (0.00MB deduped)\\r'), FloatProgress(value=1.0, max=1.0)…"
      ]
     },
     "metadata": {
      "tags": []
     },
     "output_type": "display_data"
    },
    {
     "data": {
      "text/html": [
       "Find user logs for this run at: <code>/content/wandb/run-20210507_092115-twcp55rw/logs/debug.log</code>"
      ],
      "text/plain": [
       "<IPython.core.display.HTML object>"
      ]
     },
     "metadata": {
      "tags": []
     },
     "output_type": "display_data"
    },
    {
     "data": {
      "text/html": [
       "Find internal logs for this run at: <code>/content/wandb/run-20210507_092115-twcp55rw/logs/debug-internal.log</code>"
      ],
      "text/plain": [
       "<IPython.core.display.HTML object>"
      ]
     },
     "metadata": {
      "tags": []
     },
     "output_type": "display_data"
    },
    {
     "data": {
      "text/html": [
       "<h3>Run summary:</h3><br/><style>\n",
       "    table.wandb td:nth-child(1) { padding: 0 10px; text-align: right }\n",
       "    </style><table class=\"wandb\">\n",
       "<tr><td>epoch</td><td>17</td></tr><tr><td>loss</td><td>0.07142</td></tr><tr><td>mae</td><td>0.2054</td></tr><tr><td>val_loss</td><td>0.28528</td></tr><tr><td>val_mae</td><td>0.38967</td></tr><tr><td>_runtime</td><td>348</td></tr><tr><td>_timestamp</td><td>1620379623</td></tr><tr><td>_step</td><td>17</td></tr><tr><td>best_val_loss</td><td>0.23785</td></tr><tr><td>best_epoch</td><td>16</td></tr></table>"
      ],
      "text/plain": [
       "<IPython.core.display.HTML object>"
      ]
     },
     "metadata": {
      "tags": []
     },
     "output_type": "display_data"
    },
    {
     "data": {
      "text/html": [
       "<h3>Run history:</h3><br/><style>\n",
       "    table.wandb td:nth-child(1) { padding: 0 10px; text-align: right }\n",
       "    </style><table class=\"wandb\">\n",
       "<tr><td>epoch</td><td>▁▁▂▂▃▃▃▄▄▅▅▆▆▆▇▇██</td></tr><tr><td>loss</td><td>█▃▂▂▁▁▁▁▁▁▁▁▁▁▁▁▁▁</td></tr><tr><td>mae</td><td>█▃▂▂▂▂▂▁▁▁▁▁▁▁▁▁▁▁</td></tr><tr><td>val_loss</td><td>█▆▄▄▂▂▃▃▂▂▂▂▄▃▂▂▁▂</td></tr><tr><td>val_mae</td><td>█▅▃▃▂▂▃▂▂▂▂▂▃▃▂▂▁▂</td></tr><tr><td>_runtime</td><td>▁▁▂▂▃▃▃▄▄▅▅▅▆▆▇▇██</td></tr><tr><td>_timestamp</td><td>▁▁▂▂▃▃▃▄▄▅▅▅▆▆▇▇██</td></tr><tr><td>_step</td><td>▁▁▂▂▃▃▃▄▄▅▅▆▆▆▇▇██</td></tr></table><br/>"
      ],
      "text/plain": [
       "<IPython.core.display.HTML object>"
      ]
     },
     "metadata": {
      "tags": []
     },
     "output_type": "display_data"
    },
    {
     "data": {
      "text/html": [
       "Synced 5 W&B file(s), 1 media file(s), 0 artifact file(s) and 1 other file(s)"
      ],
      "text/plain": [
       "<IPython.core.display.HTML object>"
      ]
     },
     "metadata": {
      "tags": []
     },
     "output_type": "display_data"
    },
    {
     "data": {
      "text/html": [
       "\n",
       "                    <br/>Synced <strong style=\"color:#cdcd00\">good-sweep-10</strong>: <a href=\"https://wandb.ai/nbvanting/thesis/runs/twcp55rw\" target=\"_blank\">https://wandb.ai/nbvanting/thesis/runs/twcp55rw</a><br/>\n",
       "                "
      ],
      "text/plain": [
       "<IPython.core.display.HTML object>"
      ]
     },
     "metadata": {
      "tags": []
     },
     "output_type": "display_data"
    },
    {
     "name": "stderr",
     "output_type": "stream",
     "text": [
      "\u001b[34m\u001b[1mwandb\u001b[0m: Agent Starting Run: 89eyu6r6 with config:\n",
      "\u001b[34m\u001b[1mwandb\u001b[0m: \tactivation_cnn: relu\n",
      "\u001b[34m\u001b[1mwandb\u001b[0m: \tactivation_gru: tanh\n",
      "\u001b[34m\u001b[1mwandb\u001b[0m: \tbatch_size: 68\n",
      "\u001b[34m\u001b[1mwandb\u001b[0m: \tcnn_lay_2: False\n",
      "\u001b[34m\u001b[1mwandb\u001b[0m: \tcnn_lay_3: False\n",
      "\u001b[34m\u001b[1mwandb\u001b[0m: \tcnn_layer_size_1: 68\n",
      "\u001b[34m\u001b[1mwandb\u001b[0m: \tcnn_layer_size_2: 33\n",
      "\u001b[34m\u001b[1mwandb\u001b[0m: \tcnn_layer_size_3: 39\n",
      "\u001b[34m\u001b[1mwandb\u001b[0m: \tdataset: kolding\n",
      "\u001b[34m\u001b[1mwandb\u001b[0m: \tdropout: 0.2637389972790967\n",
      "\u001b[34m\u001b[1mwandb\u001b[0m: \tepochs: 25\n",
      "\u001b[34m\u001b[1mwandb\u001b[0m: \tgru_lay_1: True\n",
      "\u001b[34m\u001b[1mwandb\u001b[0m: \tgru_lay_2: True\n",
      "\u001b[34m\u001b[1mwandb\u001b[0m: \tgru_layer_size_1: 97\n",
      "\u001b[34m\u001b[1mwandb\u001b[0m: \tgru_layer_size_2: 74\n",
      "\u001b[34m\u001b[1mwandb\u001b[0m: \tgru_layer_size_3: 34\n",
      "\u001b[34m\u001b[1mwandb\u001b[0m: \tkernelsize: 5\n",
      "\u001b[34m\u001b[1mwandb\u001b[0m: \tlearning_rate: 0.016779106772952655\n",
      "\u001b[34m\u001b[1mwandb\u001b[0m: \tlookback: 744\n",
      "\u001b[34m\u001b[1mwandb\u001b[0m: \tmomentum: 0.6419852406935981\n",
      "\u001b[34m\u001b[1mwandb\u001b[0m: \tnum_cnn_layers: 2\n",
      "\u001b[34m\u001b[1mwandb\u001b[0m: \tnum_features: 9\n",
      "\u001b[34m\u001b[1mwandb\u001b[0m: \tnum_gru_layers: 2\n",
      "\u001b[34m\u001b[1mwandb\u001b[0m: \toptimizer: sgd\n",
      "\u001b[34m\u001b[1mwandb\u001b[0m: \tsplitmethod: offset\n",
      "\u001b[34m\u001b[1mwandb\u001b[0m: \tsplitrate: 0.8\n",
      "\u001b[34m\u001b[1mwandb\u001b[0m: \u001b[33mWARNING\u001b[0m Ignored wandb.init() arg project when running a sweep\n"
     ]
    },
    {
     "data": {
      "text/html": [
       "\n",
       "                Tracking run with wandb version 0.10.29<br/>\n",
       "                Syncing run <strong style=\"color:#cdcd00\">blooming-sweep-11</strong> to <a href=\"https://wandb.ai\" target=\"_blank\">Weights & Biases</a> <a href=\"https://docs.wandb.com/integrations/jupyter.html\" target=\"_blank\">(Documentation)</a>.<br/>\n",
       "                Project page: <a href=\"https://wandb.ai/nbvanting/thesis\" target=\"_blank\">https://wandb.ai/nbvanting/thesis</a><br/>\n",
       "                Sweep page: <a href=\"https://wandb.ai/nbvanting/thesis/sweeps/xjdtj3eo\" target=\"_blank\">https://wandb.ai/nbvanting/thesis/sweeps/xjdtj3eo</a><br/>\n",
       "Run page: <a href=\"https://wandb.ai/nbvanting/thesis/runs/89eyu6r6\" target=\"_blank\">https://wandb.ai/nbvanting/thesis/runs/89eyu6r6</a><br/>\n",
       "                Run data is saved locally in <code>/content/wandb/run-20210507_092712-89eyu6r6</code><br/><br/>\n",
       "            "
      ],
      "text/plain": [
       "<IPython.core.display.HTML object>"
      ]
     },
     "metadata": {
      "tags": []
     },
     "output_type": "display_data"
    },
    {
     "name": "stdout",
     "output_type": "stream",
     "text": [
      "Epoch 1/25\n",
      "215/215 [==============================] - 20s 73ms/step - loss: 0.6632 - mae: 0.6346 - val_loss: 0.5984 - val_mae: 0.6012\n",
      "Epoch 2/25\n",
      "215/215 [==============================] - 15s 68ms/step - loss: 0.4926 - mae: 0.5452 - val_loss: 0.5316 - val_mae: 0.5722\n",
      "Epoch 3/25\n",
      "215/215 [==============================] - 15s 68ms/step - loss: 0.4286 - mae: 0.5068 - val_loss: 0.4284 - val_mae: 0.5054\n",
      "Epoch 4/25\n",
      "215/215 [==============================] - 15s 69ms/step - loss: 0.3198 - mae: 0.4346 - val_loss: 0.2992 - val_mae: 0.4319\n",
      "Epoch 5/25\n",
      "215/215 [==============================] - 15s 69ms/step - loss: 0.2552 - mae: 0.3877 - val_loss: 0.2716 - val_mae: 0.4099\n",
      "Epoch 6/25\n",
      "215/215 [==============================] - 15s 69ms/step - loss: 0.2237 - mae: 0.3635 - val_loss: 0.2330 - val_mae: 0.3865\n",
      "Epoch 7/25\n",
      "215/215 [==============================] - 15s 69ms/step - loss: 0.2077 - mae: 0.3499 - val_loss: 0.2277 - val_mae: 0.3720\n",
      "Epoch 8/25\n",
      "215/215 [==============================] - 15s 68ms/step - loss: 0.1966 - mae: 0.3387 - val_loss: 0.2006 - val_mae: 0.3527\n",
      "Epoch 9/25\n",
      "215/215 [==============================] - 15s 69ms/step - loss: 0.1841 - mae: 0.3277 - val_loss: 0.1898 - val_mae: 0.3462\n",
      "Epoch 10/25\n",
      "215/215 [==============================] - 15s 69ms/step - loss: 0.1789 - mae: 0.3227 - val_loss: 0.1832 - val_mae: 0.3371\n",
      "Epoch 11/25\n",
      "215/215 [==============================] - 15s 69ms/step - loss: 0.1691 - mae: 0.3156 - val_loss: 0.1723 - val_mae: 0.3259\n",
      "Epoch 12/25\n",
      "215/215 [==============================] - 15s 68ms/step - loss: 0.1627 - mae: 0.3085 - val_loss: 0.1775 - val_mae: 0.3260\n",
      "Epoch 13/25\n",
      "215/215 [==============================] - 15s 68ms/step - loss: 0.1582 - mae: 0.3050 - val_loss: 0.1630 - val_mae: 0.3207\n",
      "Epoch 14/25\n",
      "215/215 [==============================] - 15s 68ms/step - loss: 0.1496 - mae: 0.2977 - val_loss: 0.1597 - val_mae: 0.3122\n",
      "Epoch 15/25\n",
      "215/215 [==============================] - 15s 69ms/step - loss: 0.1498 - mae: 0.2972 - val_loss: 0.1478 - val_mae: 0.2995\n",
      "Epoch 16/25\n",
      "215/215 [==============================] - 15s 69ms/step - loss: 0.1428 - mae: 0.2909 - val_loss: 0.1432 - val_mae: 0.2973\n",
      "Epoch 17/25\n",
      "215/215 [==============================] - 15s 68ms/step - loss: 0.1390 - mae: 0.2878 - val_loss: 0.1465 - val_mae: 0.2985\n",
      "Epoch 18/25\n",
      "215/215 [==============================] - 15s 69ms/step - loss: 0.1375 - mae: 0.2846 - val_loss: 0.1380 - val_mae: 0.2901\n",
      "Epoch 19/25\n",
      "215/215 [==============================] - 15s 70ms/step - loss: 0.1361 - mae: 0.2843 - val_loss: 0.1375 - val_mae: 0.2913\n",
      "Epoch 20/25\n",
      "215/215 [==============================] - 15s 69ms/step - loss: 0.1347 - mae: 0.2816 - val_loss: 0.1365 - val_mae: 0.2895\n",
      "Epoch 21/25\n",
      "215/215 [==============================] - 15s 69ms/step - loss: 0.1315 - mae: 0.2786 - val_loss: 0.1307 - val_mae: 0.2854\n",
      "Epoch 22/25\n",
      "215/215 [==============================] - 15s 70ms/step - loss: 0.1309 - mae: 0.2782 - val_loss: 0.1304 - val_mae: 0.2837\n",
      "Epoch 23/25\n",
      "215/215 [==============================] - 15s 69ms/step - loss: 0.1275 - mae: 0.2748 - val_loss: 0.1272 - val_mae: 0.2804\n",
      "Epoch 24/25\n",
      "215/215 [==============================] - 15s 69ms/step - loss: 0.1253 - mae: 0.2726 - val_loss: 0.1332 - val_mae: 0.2841\n",
      "Epoch 25/25\n",
      "215/215 [==============================] - 15s 68ms/step - loss: 0.1243 - mae: 0.2725 - val_loss: 0.1290 - val_mae: 0.2809\n",
      "22/22 [==============================] - 1s 36ms/step - loss: 0.1882 - mae: 0.3346\n"
     ]
    },
    {
     "data": {
      "text/html": [
       "<br/>Waiting for W&B process to finish, PID 2373<br/>Program failed with code 1.  Press ctrl-c to abort syncing."
      ],
      "text/plain": [
       "<IPython.core.display.HTML object>"
      ]
     },
     "metadata": {
      "tags": []
     },
     "output_type": "display_data"
    },
    {
     "data": {
      "application/vnd.jupyter.widget-view+json": {
       "model_id": "84c8e441a5484857a6ec9b5c66e6a95e",
       "version_major": 2,
       "version_minor": 0
      },
      "text/plain": [
       "VBox(children=(Label(value=' 0.84MB of 0.84MB uploaded (0.00MB deduped)\\r'), FloatProgress(value=1.0, max=1.0)…"
      ]
     },
     "metadata": {
      "tags": []
     },
     "output_type": "display_data"
    },
    {
     "data": {
      "text/html": [
       "Find user logs for this run at: <code>/content/wandb/run-20210507_092712-89eyu6r6/logs/debug.log</code>"
      ],
      "text/plain": [
       "<IPython.core.display.HTML object>"
      ]
     },
     "metadata": {
      "tags": []
     },
     "output_type": "display_data"
    },
    {
     "data": {
      "text/html": [
       "Find internal logs for this run at: <code>/content/wandb/run-20210507_092712-89eyu6r6/logs/debug-internal.log</code>"
      ],
      "text/plain": [
       "<IPython.core.display.HTML object>"
      ]
     },
     "metadata": {
      "tags": []
     },
     "output_type": "display_data"
    },
    {
     "data": {
      "text/html": [
       "<h3>Run summary:</h3><br/><style>\n",
       "    table.wandb td:nth-child(1) { padding: 0 10px; text-align: right }\n",
       "    </style><table class=\"wandb\">\n",
       "<tr><td>epoch</td><td>24</td></tr><tr><td>loss</td><td>0.12386</td></tr><tr><td>mae</td><td>0.27244</td></tr><tr><td>val_loss</td><td>0.12905</td></tr><tr><td>val_mae</td><td>0.28086</td></tr><tr><td>_runtime</td><td>384</td></tr><tr><td>_timestamp</td><td>1620380016</td></tr><tr><td>_step</td><td>26</td></tr><tr><td>best_val_loss</td><td>0.12724</td></tr><tr><td>best_epoch</td><td>22</td></tr><tr><td>test_loss</td><td>0.18821</td></tr><tr><td>test_mae</td><td>0.33462</td></tr></table>"
      ],
      "text/plain": [
       "<IPython.core.display.HTML object>"
      ]
     },
     "metadata": {
      "tags": []
     },
     "output_type": "display_data"
    },
    {
     "data": {
      "text/html": [
       "<h3>Run history:</h3><br/><style>\n",
       "    table.wandb td:nth-child(1) { padding: 0 10px; text-align: right }\n",
       "    </style><table class=\"wandb\">\n",
       "<tr><td>epoch</td><td>▁▁▂▂▂▂▃▃▃▄▄▄▅▅▅▅▆▆▆▇▇▇▇██</td></tr><tr><td>loss</td><td>█▆▅▄▃▂▂▂▂▂▂▂▁▁▁▁▁▁▁▁▁▁▁▁▁</td></tr><tr><td>mae</td><td>█▇▆▄▃▃▃▂▂▂▂▂▂▂▁▁▁▁▁▁▁▁▁▁▁</td></tr><tr><td>val_loss</td><td>█▇▅▄▃▃▂▂▂▂▂▂▂▁▁▁▁▁▁▁▁▁▁▁▁</td></tr><tr><td>val_mae</td><td>█▇▆▄▄▃▃▃▂▂▂▂▂▂▁▁▁▁▁▁▁▁▁▁▁</td></tr><tr><td>_runtime</td><td>▁▁▂▂▂▂▃▃▃▄▄▄▄▅▅▅▆▆▆▇▇▇▇████</td></tr><tr><td>_timestamp</td><td>▁▁▂▂▂▂▃▃▃▄▄▄▄▅▅▅▆▆▆▇▇▇▇████</td></tr><tr><td>_step</td><td>▁▁▂▂▂▂▃▃▃▃▄▄▄▅▅▅▅▆▆▆▆▇▇▇▇██</td></tr><tr><td>test_loss</td><td>▁</td></tr><tr><td>test_mae</td><td>▁</td></tr></table><br/>"
      ],
      "text/plain": [
       "<IPython.core.display.HTML object>"
      ]
     },
     "metadata": {
      "tags": []
     },
     "output_type": "display_data"
    },
    {
     "data": {
      "text/html": [
       "Synced 5 W&B file(s), 1 media file(s), 0 artifact file(s) and 1 other file(s)"
      ],
      "text/plain": [
       "<IPython.core.display.HTML object>"
      ]
     },
     "metadata": {
      "tags": []
     },
     "output_type": "display_data"
    },
    {
     "data": {
      "text/html": [
       "\n",
       "                    <br/>Synced <strong style=\"color:#cdcd00\">blooming-sweep-11</strong>: <a href=\"https://wandb.ai/nbvanting/thesis/runs/89eyu6r6\" target=\"_blank\">https://wandb.ai/nbvanting/thesis/runs/89eyu6r6</a><br/>\n",
       "                "
      ],
      "text/plain": [
       "<IPython.core.display.HTML object>"
      ]
     },
     "metadata": {
      "tags": []
     },
     "output_type": "display_data"
    },
    {
     "name": "stderr",
     "output_type": "stream",
     "text": [
      "Run 89eyu6r6 errored: IndexError('list index out of range')\n",
      "\u001b[34m\u001b[1mwandb\u001b[0m: \u001b[32m\u001b[41mERROR\u001b[0m Run 89eyu6r6 errored: IndexError('list index out of range')\n",
      "\u001b[34m\u001b[1mwandb\u001b[0m: Agent Starting Run: pl9f5zdh with config:\n",
      "\u001b[34m\u001b[1mwandb\u001b[0m: \tactivation_cnn: relu\n",
      "\u001b[34m\u001b[1mwandb\u001b[0m: \tactivation_gru: tanh\n",
      "\u001b[34m\u001b[1mwandb\u001b[0m: \tbatch_size: 100\n",
      "\u001b[34m\u001b[1mwandb\u001b[0m: \tcnn_lay_2: False\n",
      "\u001b[34m\u001b[1mwandb\u001b[0m: \tcnn_lay_3: True\n",
      "\u001b[34m\u001b[1mwandb\u001b[0m: \tcnn_layer_size_1: 139\n",
      "\u001b[34m\u001b[1mwandb\u001b[0m: \tcnn_layer_size_2: 159\n",
      "\u001b[34m\u001b[1mwandb\u001b[0m: \tcnn_layer_size_3: 49\n",
      "\u001b[34m\u001b[1mwandb\u001b[0m: \tdataset: strib\n",
      "\u001b[34m\u001b[1mwandb\u001b[0m: \tdropout: 0.35877770795462816\n",
      "\u001b[34m\u001b[1mwandb\u001b[0m: \tepochs: 25\n",
      "\u001b[34m\u001b[1mwandb\u001b[0m: \tgru_lay_1: True\n",
      "\u001b[34m\u001b[1mwandb\u001b[0m: \tgru_lay_2: True\n",
      "\u001b[34m\u001b[1mwandb\u001b[0m: \tgru_layer_size_1: 115\n",
      "\u001b[34m\u001b[1mwandb\u001b[0m: \tgru_layer_size_2: 152\n",
      "\u001b[34m\u001b[1mwandb\u001b[0m: \tgru_layer_size_3: 211\n",
      "\u001b[34m\u001b[1mwandb\u001b[0m: \tkernelsize: 3\n",
      "\u001b[34m\u001b[1mwandb\u001b[0m: \tlearning_rate: 0.03134564468818898\n",
      "\u001b[34m\u001b[1mwandb\u001b[0m: \tlookback: 744\n",
      "\u001b[34m\u001b[1mwandb\u001b[0m: \tmomentum: 0.610041469579619\n",
      "\u001b[34m\u001b[1mwandb\u001b[0m: \tnum_cnn_layers: 2\n",
      "\u001b[34m\u001b[1mwandb\u001b[0m: \tnum_features: 9\n",
      "\u001b[34m\u001b[1mwandb\u001b[0m: \tnum_gru_layers: 2\n",
      "\u001b[34m\u001b[1mwandb\u001b[0m: \toptimizer: sgd\n",
      "\u001b[34m\u001b[1mwandb\u001b[0m: \tsplitmethod: offset\n",
      "\u001b[34m\u001b[1mwandb\u001b[0m: \tsplitrate: 0.8\n",
      "\u001b[34m\u001b[1mwandb\u001b[0m: \u001b[33mWARNING\u001b[0m Ignored wandb.init() arg project when running a sweep\n"
     ]
    },
    {
     "data": {
      "text/html": [
       "\n",
       "                Tracking run with wandb version 0.10.29<br/>\n",
       "                Syncing run <strong style=\"color:#cdcd00\">stoic-sweep-12</strong> to <a href=\"https://wandb.ai\" target=\"_blank\">Weights & Biases</a> <a href=\"https://docs.wandb.com/integrations/jupyter.html\" target=\"_blank\">(Documentation)</a>.<br/>\n",
       "                Project page: <a href=\"https://wandb.ai/nbvanting/thesis\" target=\"_blank\">https://wandb.ai/nbvanting/thesis</a><br/>\n",
       "                Sweep page: <a href=\"https://wandb.ai/nbvanting/thesis/sweeps/xjdtj3eo\" target=\"_blank\">https://wandb.ai/nbvanting/thesis/sweeps/xjdtj3eo</a><br/>\n",
       "Run page: <a href=\"https://wandb.ai/nbvanting/thesis/runs/pl9f5zdh\" target=\"_blank\">https://wandb.ai/nbvanting/thesis/runs/pl9f5zdh</a><br/>\n",
       "                Run data is saved locally in <code>/content/wandb/run-20210507_093340-pl9f5zdh</code><br/><br/>\n",
       "            "
      ],
      "text/plain": [
       "<IPython.core.display.HTML object>"
      ]
     },
     "metadata": {
      "tags": []
     },
     "output_type": "display_data"
    },
    {
     "name": "stdout",
     "output_type": "stream",
     "text": [
      "Epoch 1/25\n",
      "147/147 [==============================] - 18s 89ms/step - loss: 0.7698 - mae: 0.6938 - val_loss: 0.4605 - val_mae: 0.5548\n",
      "Epoch 2/25\n",
      "147/147 [==============================] - 12s 82ms/step - loss: 0.4042 - mae: 0.5041 - val_loss: 0.4316 - val_mae: 0.5353\n",
      "Epoch 3/25\n",
      "147/147 [==============================] - 12s 82ms/step - loss: 0.3704 - mae: 0.4795 - val_loss: 0.4313 - val_mae: 0.5347\n",
      "Epoch 4/25\n",
      "147/147 [==============================] - 12s 80ms/step - loss: 0.3369 - mae: 0.4543 - val_loss: 0.4024 - val_mae: 0.4887\n",
      "Epoch 5/25\n",
      "147/147 [==============================] - 12s 79ms/step - loss: 0.3091 - mae: 0.4342 - val_loss: 0.3737 - val_mae: 0.4722\n",
      "Epoch 6/25\n",
      "147/147 [==============================] - 12s 81ms/step - loss: 0.2859 - mae: 0.4171 - val_loss: 0.3163 - val_mae: 0.4435\n",
      "Epoch 7/25\n",
      "147/147 [==============================] - 12s 81ms/step - loss: 0.2594 - mae: 0.3986 - val_loss: 0.2857 - val_mae: 0.4183\n",
      "Epoch 8/25\n",
      "147/147 [==============================] - 12s 81ms/step - loss: 0.2346 - mae: 0.3749 - val_loss: 0.2714 - val_mae: 0.4120\n",
      "Epoch 9/25\n",
      "147/147 [==============================] - 12s 81ms/step - loss: 0.2078 - mae: 0.3545 - val_loss: 0.2559 - val_mae: 0.3856\n",
      "Epoch 10/25\n",
      "147/147 [==============================] - 12s 81ms/step - loss: 0.1870 - mae: 0.3319 - val_loss: 0.2180 - val_mae: 0.3533\n",
      "Epoch 11/25\n",
      "147/147 [==============================] - 12s 83ms/step - loss: 0.1665 - mae: 0.3166 - val_loss: 0.1911 - val_mae: 0.3389\n",
      "Epoch 12/25\n",
      "147/147 [==============================] - 12s 82ms/step - loss: 0.1530 - mae: 0.3017 - val_loss: 0.1823 - val_mae: 0.3233\n",
      "Epoch 13/25\n",
      "147/147 [==============================] - 12s 82ms/step - loss: 0.1418 - mae: 0.2906 - val_loss: 0.1790 - val_mae: 0.3309\n",
      "Epoch 14/25\n",
      "147/147 [==============================] - 12s 81ms/step - loss: 0.1313 - mae: 0.2797 - val_loss: 0.1620 - val_mae: 0.3094\n",
      "Epoch 15/25\n",
      "147/147 [==============================] - 12s 82ms/step - loss: 0.1236 - mae: 0.2696 - val_loss: 0.1528 - val_mae: 0.2975\n",
      "Epoch 16/25\n",
      "147/147 [==============================] - 12s 82ms/step - loss: 0.1191 - mae: 0.2657 - val_loss: 0.1441 - val_mae: 0.2907\n",
      "Epoch 17/25\n",
      "147/147 [==============================] - 12s 83ms/step - loss: 0.1139 - mae: 0.2579 - val_loss: 0.1509 - val_mae: 0.2908\n",
      "Epoch 18/25\n",
      "147/147 [==============================] - 12s 82ms/step - loss: 0.1134 - mae: 0.2579 - val_loss: 0.1452 - val_mae: 0.2912\n",
      "Epoch 19/25\n",
      "147/147 [==============================] - 12s 82ms/step - loss: 0.1079 - mae: 0.2512 - val_loss: 0.1374 - val_mae: 0.2824\n",
      "Epoch 20/25\n",
      "147/147 [==============================] - 12s 82ms/step - loss: 0.1044 - mae: 0.2469 - val_loss: 0.1590 - val_mae: 0.3079\n",
      "Epoch 21/25\n",
      "147/147 [==============================] - 12s 82ms/step - loss: 0.1073 - mae: 0.2490 - val_loss: 0.1318 - val_mae: 0.2766\n",
      "Epoch 22/25\n",
      "147/147 [==============================] - 12s 82ms/step - loss: 0.1031 - mae: 0.2447 - val_loss: 0.1307 - val_mae: 0.2767\n",
      "Epoch 23/25\n",
      "147/147 [==============================] - 12s 82ms/step - loss: 0.0978 - mae: 0.2394 - val_loss: 0.1337 - val_mae: 0.2791\n",
      "Epoch 24/25\n",
      "147/147 [==============================] - 12s 82ms/step - loss: 0.0998 - mae: 0.2419 - val_loss: 0.1264 - val_mae: 0.2759\n",
      "Epoch 25/25\n",
      "147/147 [==============================] - 12s 82ms/step - loss: 0.0954 - mae: 0.2365 - val_loss: 0.1294 - val_mae: 0.2783\n",
      "15/15 [==============================] - 1s 39ms/step - loss: 0.2612 - mae: 0.3887\n"
     ]
    },
    {
     "data": {
      "text/html": [
       "<br/>Waiting for W&B process to finish, PID 2740<br/>Program failed with code 1.  Press ctrl-c to abort syncing."
      ],
      "text/plain": [
       "<IPython.core.display.HTML object>"
      ]
     },
     "metadata": {
      "tags": []
     },
     "output_type": "display_data"
    },
    {
     "data": {
      "application/vnd.jupyter.widget-view+json": {
       "model_id": "16df411f935a4239b0f266fd65c7f680",
       "version_major": 2,
       "version_minor": 0
      },
      "text/plain": [
       "VBox(children=(Label(value=' 3.39MB of 3.39MB uploaded (0.00MB deduped)\\r'), FloatProgress(value=1.0, max=1.0)…"
      ]
     },
     "metadata": {
      "tags": []
     },
     "output_type": "display_data"
    },
    {
     "data": {
      "text/html": [
       "Find user logs for this run at: <code>/content/wandb/run-20210507_093340-pl9f5zdh/logs/debug.log</code>"
      ],
      "text/plain": [
       "<IPython.core.display.HTML object>"
      ]
     },
     "metadata": {
      "tags": []
     },
     "output_type": "display_data"
    },
    {
     "data": {
      "text/html": [
       "Find internal logs for this run at: <code>/content/wandb/run-20210507_093340-pl9f5zdh/logs/debug-internal.log</code>"
      ],
      "text/plain": [
       "<IPython.core.display.HTML object>"
      ]
     },
     "metadata": {
      "tags": []
     },
     "output_type": "display_data"
    },
    {
     "data": {
      "text/html": [
       "<h3>Run summary:</h3><br/><style>\n",
       "    table.wandb td:nth-child(1) { padding: 0 10px; text-align: right }\n",
       "    </style><table class=\"wandb\">\n",
       "<tr><td>epoch</td><td>24</td></tr><tr><td>loss</td><td>0.09526</td></tr><tr><td>mae</td><td>0.235</td></tr><tr><td>val_loss</td><td>0.12944</td></tr><tr><td>val_mae</td><td>0.27828</td></tr><tr><td>_runtime</td><td>316</td></tr><tr><td>_timestamp</td><td>1620380336</td></tr><tr><td>_step</td><td>26</td></tr><tr><td>best_val_loss</td><td>0.12643</td></tr><tr><td>best_epoch</td><td>23</td></tr><tr><td>test_loss</td><td>0.26123</td></tr><tr><td>test_mae</td><td>0.38872</td></tr></table>"
      ],
      "text/plain": [
       "<IPython.core.display.HTML object>"
      ]
     },
     "metadata": {
      "tags": []
     },
     "output_type": "display_data"
    },
    {
     "data": {
      "text/html": [
       "<h3>Run history:</h3><br/><style>\n",
       "    table.wandb td:nth-child(1) { padding: 0 10px; text-align: right }\n",
       "    </style><table class=\"wandb\">\n",
       "<tr><td>epoch</td><td>▁▁▂▂▂▂▃▃▃▄▄▄▅▅▅▅▆▆▆▇▇▇▇██</td></tr><tr><td>loss</td><td>█▅▄▄▄▃▃▃▂▂▂▂▂▁▁▁▁▁▁▁▁▁▁▁▁</td></tr><tr><td>mae</td><td>█▆▅▅▄▄▄▃▃▃▂▂▂▂▂▁▁▁▁▁▁▁▁▁▁</td></tr><tr><td>val_loss</td><td>█▇▇▇▆▅▄▄▄▃▂▂▂▂▂▁▂▁▁▂▁▁▁▁▁</td></tr><tr><td>val_mae</td><td>██▇▆▆▅▅▄▄▃▃▂▂▂▂▁▁▁▁▂▁▁▁▁▁</td></tr><tr><td>_runtime</td><td>▁▁▂▂▂▂▃▃▃▄▄▄▄▅▅▅▆▆▆▇▇▇▇████</td></tr><tr><td>_timestamp</td><td>▁▁▂▂▂▂▃▃▃▄▄▄▄▅▅▅▆▆▆▇▇▇▇████</td></tr><tr><td>_step</td><td>▁▁▂▂▂▂▃▃▃▃▄▄▄▅▅▅▅▆▆▆▆▇▇▇▇██</td></tr><tr><td>test_loss</td><td>▁</td></tr><tr><td>test_mae</td><td>▁</td></tr></table><br/>"
      ],
      "text/plain": [
       "<IPython.core.display.HTML object>"
      ]
     },
     "metadata": {
      "tags": []
     },
     "output_type": "display_data"
    },
    {
     "data": {
      "text/html": [
       "Synced 5 W&B file(s), 1 media file(s), 0 artifact file(s) and 1 other file(s)"
      ],
      "text/plain": [
       "<IPython.core.display.HTML object>"
      ]
     },
     "metadata": {
      "tags": []
     },
     "output_type": "display_data"
    },
    {
     "data": {
      "text/html": [
       "\n",
       "                    <br/>Synced <strong style=\"color:#cdcd00\">stoic-sweep-12</strong>: <a href=\"https://wandb.ai/nbvanting/thesis/runs/pl9f5zdh\" target=\"_blank\">https://wandb.ai/nbvanting/thesis/runs/pl9f5zdh</a><br/>\n",
       "                "
      ],
      "text/plain": [
       "<IPython.core.display.HTML object>"
      ]
     },
     "metadata": {
      "tags": []
     },
     "output_type": "display_data"
    },
    {
     "name": "stderr",
     "output_type": "stream",
     "text": [
      "Run pl9f5zdh errored: IndexError('list index out of range')\n",
      "\u001b[34m\u001b[1mwandb\u001b[0m: \u001b[32m\u001b[41mERROR\u001b[0m Run pl9f5zdh errored: IndexError('list index out of range')\n",
      "\u001b[34m\u001b[1mwandb\u001b[0m: Agent Starting Run: c8citr7w with config:\n",
      "\u001b[34m\u001b[1mwandb\u001b[0m: \tactivation_cnn: relu\n",
      "\u001b[34m\u001b[1mwandb\u001b[0m: \tactivation_gru: tanh\n",
      "\u001b[34m\u001b[1mwandb\u001b[0m: \tbatch_size: 110\n",
      "\u001b[34m\u001b[1mwandb\u001b[0m: \tcnn_lay_2: True\n",
      "\u001b[34m\u001b[1mwandb\u001b[0m: \tcnn_lay_3: True\n",
      "\u001b[34m\u001b[1mwandb\u001b[0m: \tcnn_layer_size_1: 101\n",
      "\u001b[34m\u001b[1mwandb\u001b[0m: \tcnn_layer_size_2: 94\n",
      "\u001b[34m\u001b[1mwandb\u001b[0m: \tcnn_layer_size_3: 57\n",
      "\u001b[34m\u001b[1mwandb\u001b[0m: \tdataset: kolding\n",
      "\u001b[34m\u001b[1mwandb\u001b[0m: \tdropout: 0.38573122990709363\n",
      "\u001b[34m\u001b[1mwandb\u001b[0m: \tepochs: 25\n",
      "\u001b[34m\u001b[1mwandb\u001b[0m: \tgru_lay_1: False\n",
      "\u001b[34m\u001b[1mwandb\u001b[0m: \tgru_lay_2: True\n",
      "\u001b[34m\u001b[1mwandb\u001b[0m: \tgru_layer_size_1: 179\n",
      "\u001b[34m\u001b[1mwandb\u001b[0m: \tgru_layer_size_2: 35\n",
      "\u001b[34m\u001b[1mwandb\u001b[0m: \tgru_layer_size_3: 57\n",
      "\u001b[34m\u001b[1mwandb\u001b[0m: \tkernelsize: 5\n",
      "\u001b[34m\u001b[1mwandb\u001b[0m: \tlearning_rate: 0.02260758786170793\n",
      "\u001b[34m\u001b[1mwandb\u001b[0m: \tlookback: 744\n",
      "\u001b[34m\u001b[1mwandb\u001b[0m: \tmomentum: 0.5886679724395514\n",
      "\u001b[34m\u001b[1mwandb\u001b[0m: \tnum_cnn_layers: 2\n",
      "\u001b[34m\u001b[1mwandb\u001b[0m: \tnum_features: 9\n",
      "\u001b[34m\u001b[1mwandb\u001b[0m: \tnum_gru_layers: 2\n",
      "\u001b[34m\u001b[1mwandb\u001b[0m: \toptimizer: sgd\n",
      "\u001b[34m\u001b[1mwandb\u001b[0m: \tsplitmethod: offset\n",
      "\u001b[34m\u001b[1mwandb\u001b[0m: \tsplitrate: 0.8\n",
      "\u001b[34m\u001b[1mwandb\u001b[0m: \u001b[33mWARNING\u001b[0m Ignored wandb.init() arg project when running a sweep\n"
     ]
    },
    {
     "data": {
      "text/html": [
       "\n",
       "                Tracking run with wandb version 0.10.29<br/>\n",
       "                Syncing run <strong style=\"color:#cdcd00\">solar-sweep-13</strong> to <a href=\"https://wandb.ai\" target=\"_blank\">Weights & Biases</a> <a href=\"https://docs.wandb.com/integrations/jupyter.html\" target=\"_blank\">(Documentation)</a>.<br/>\n",
       "                Project page: <a href=\"https://wandb.ai/nbvanting/thesis\" target=\"_blank\">https://wandb.ai/nbvanting/thesis</a><br/>\n",
       "                Sweep page: <a href=\"https://wandb.ai/nbvanting/thesis/sweeps/xjdtj3eo\" target=\"_blank\">https://wandb.ai/nbvanting/thesis/sweeps/xjdtj3eo</a><br/>\n",
       "Run page: <a href=\"https://wandb.ai/nbvanting/thesis/runs/c8citr7w\" target=\"_blank\">https://wandb.ai/nbvanting/thesis/runs/c8citr7w</a><br/>\n",
       "                Run data is saved locally in <code>/content/wandb/run-20210507_093900-c8citr7w</code><br/><br/>\n",
       "            "
      ],
      "text/plain": [
       "<IPython.core.display.HTML object>"
      ]
     },
     "metadata": {
      "tags": []
     },
     "output_type": "display_data"
    },
    {
     "name": "stdout",
     "output_type": "stream",
     "text": [
      "Epoch 1/25\n",
      "133/133 [==============================] - 11s 59ms/step - loss: 0.7628 - mae: 0.6923 - val_loss: 0.5066 - val_mae: 0.5781\n",
      "Epoch 2/25\n",
      "133/133 [==============================] - 7s 49ms/step - loss: 0.3897 - mae: 0.4884 - val_loss: 0.2194 - val_mae: 0.3747\n",
      "Epoch 3/25\n",
      "133/133 [==============================] - 7s 50ms/step - loss: 0.2172 - mae: 0.3615 - val_loss: 0.1845 - val_mae: 0.3400\n",
      "Epoch 4/25\n",
      "133/133 [==============================] - 7s 48ms/step - loss: 0.1853 - mae: 0.3314 - val_loss: 0.1681 - val_mae: 0.3216\n",
      "Epoch 5/25\n",
      "133/133 [==============================] - 7s 50ms/step - loss: 0.1651 - mae: 0.3150 - val_loss: 0.1634 - val_mae: 0.3184\n",
      "Epoch 6/25\n",
      "133/133 [==============================] - 7s 50ms/step - loss: 0.1517 - mae: 0.3009 - val_loss: 0.1604 - val_mae: 0.3164\n",
      "Epoch 7/25\n",
      "133/133 [==============================] - 7s 50ms/step - loss: 0.1461 - mae: 0.2935 - val_loss: 0.1609 - val_mae: 0.3179\n",
      "Epoch 8/25\n",
      "133/133 [==============================] - 7s 51ms/step - loss: 0.1364 - mae: 0.2836 - val_loss: 0.1557 - val_mae: 0.3106\n",
      "Epoch 9/25\n",
      "133/133 [==============================] - 7s 50ms/step - loss: 0.1357 - mae: 0.2842 - val_loss: 0.1526 - val_mae: 0.3069\n",
      "Epoch 10/25\n",
      "133/133 [==============================] - 7s 51ms/step - loss: 0.1270 - mae: 0.2725 - val_loss: 0.1535 - val_mae: 0.3085\n",
      "Epoch 11/25\n",
      "133/133 [==============================] - 7s 49ms/step - loss: 0.1326 - mae: 0.2775 - val_loss: 0.1542 - val_mae: 0.3091\n",
      "Epoch 12/25\n",
      "133/133 [==============================] - 7s 50ms/step - loss: 0.1251 - mae: 0.2692 - val_loss: 0.1554 - val_mae: 0.3109\n",
      "Epoch 13/25\n",
      "133/133 [==============================] - 7s 50ms/step - loss: 0.1173 - mae: 0.2623 - val_loss: 0.1560 - val_mae: 0.3115\n",
      "Epoch 14/25\n",
      "133/133 [==============================] - 7s 50ms/step - loss: 0.1176 - mae: 0.2610 - val_loss: 0.1635 - val_mae: 0.3157\n",
      "Epoch 15/25\n",
      "133/133 [==============================] - 7s 50ms/step - loss: 0.1163 - mae: 0.2589 - val_loss: 0.1463 - val_mae: 0.2974\n",
      "Epoch 16/25\n",
      "133/133 [==============================] - 7s 51ms/step - loss: 0.1137 - mae: 0.2573 - val_loss: 0.1532 - val_mae: 0.3092\n",
      "Epoch 17/25\n",
      "133/133 [==============================] - 7s 51ms/step - loss: 0.1118 - mae: 0.2553 - val_loss: 0.1519 - val_mae: 0.3071\n",
      "Epoch 18/25\n",
      "133/133 [==============================] - 7s 50ms/step - loss: 0.1069 - mae: 0.2494 - val_loss: 0.1439 - val_mae: 0.2967\n",
      "Epoch 19/25\n",
      "133/133 [==============================] - 7s 50ms/step - loss: 0.1071 - mae: 0.2513 - val_loss: 0.1590 - val_mae: 0.3140\n",
      "Epoch 20/25\n",
      "133/133 [==============================] - 7s 49ms/step - loss: 0.1084 - mae: 0.2506 - val_loss: 0.1492 - val_mae: 0.3023\n",
      "Epoch 21/25\n",
      "133/133 [==============================] - 7s 50ms/step - loss: 0.1007 - mae: 0.2426 - val_loss: 0.1505 - val_mae: 0.3045\n",
      "Epoch 22/25\n",
      "133/133 [==============================] - 7s 49ms/step - loss: 0.1001 - mae: 0.2421 - val_loss: 0.1591 - val_mae: 0.3137\n",
      "Epoch 23/25\n",
      "133/133 [==============================] - 7s 49ms/step - loss: 0.1012 - mae: 0.2428 - val_loss: 0.1512 - val_mae: 0.3062\n",
      "Epoch 24/25\n",
      "133/133 [==============================] - 7s 50ms/step - loss: 0.0981 - mae: 0.2394 - val_loss: 0.1578 - val_mae: 0.3137\n",
      "Epoch 25/25\n",
      "133/133 [==============================] - 7s 50ms/step - loss: 0.0960 - mae: 0.2369 - val_loss: 0.1480 - val_mae: 0.3005\n",
      "14/14 [==============================] - 1s 26ms/step - loss: 0.1784 - mae: 0.3281\n"
     ]
    },
    {
     "data": {
      "text/html": [
       "<br/>Waiting for W&B process to finish, PID 3047<br/>Program failed with code 1.  Press ctrl-c to abort syncing."
      ],
      "text/plain": [
       "<IPython.core.display.HTML object>"
      ]
     },
     "metadata": {
      "tags": []
     },
     "output_type": "display_data"
    },
    {
     "data": {
      "application/vnd.jupyter.widget-view+json": {
       "model_id": "2e903eb7384042e6b69b1919183c6ee5",
       "version_major": 2,
       "version_minor": 0
      },
      "text/plain": [
       "VBox(children=(Label(value=' 0.87MB of 0.87MB uploaded (0.00MB deduped)\\r'), FloatProgress(value=1.0, max=1.0)…"
      ]
     },
     "metadata": {
      "tags": []
     },
     "output_type": "display_data"
    },
    {
     "data": {
      "text/html": [
       "Find user logs for this run at: <code>/content/wandb/run-20210507_093900-c8citr7w/logs/debug.log</code>"
      ],
      "text/plain": [
       "<IPython.core.display.HTML object>"
      ]
     },
     "metadata": {
      "tags": []
     },
     "output_type": "display_data"
    },
    {
     "data": {
      "text/html": [
       "Find internal logs for this run at: <code>/content/wandb/run-20210507_093900-c8citr7w/logs/debug-internal.log</code>"
      ],
      "text/plain": [
       "<IPython.core.display.HTML object>"
      ]
     },
     "metadata": {
      "tags": []
     },
     "output_type": "display_data"
    },
    {
     "data": {
      "text/html": [
       "<h3>Run summary:</h3><br/><style>\n",
       "    table.wandb td:nth-child(1) { padding: 0 10px; text-align: right }\n",
       "    </style><table class=\"wandb\">\n",
       "<tr><td>epoch</td><td>24</td></tr><tr><td>loss</td><td>0.09462</td></tr><tr><td>mae</td><td>0.23534</td></tr><tr><td>val_loss</td><td>0.14797</td></tr><tr><td>val_mae</td><td>0.30051</td></tr><tr><td>_runtime</td><td>180</td></tr><tr><td>_timestamp</td><td>1620380520</td></tr><tr><td>_step</td><td>26</td></tr><tr><td>best_val_loss</td><td>0.14393</td></tr><tr><td>best_epoch</td><td>17</td></tr><tr><td>test_loss</td><td>0.17841</td></tr><tr><td>test_mae</td><td>0.32805</td></tr></table>"
      ],
      "text/plain": [
       "<IPython.core.display.HTML object>"
      ]
     },
     "metadata": {
      "tags": []
     },
     "output_type": "display_data"
    },
    {
     "data": {
      "text/html": [
       "<h3>Run history:</h3><br/><style>\n",
       "    table.wandb td:nth-child(1) { padding: 0 10px; text-align: right }\n",
       "    </style><table class=\"wandb\">\n",
       "<tr><td>epoch</td><td>▁▁▂▂▂▂▃▃▃▄▄▄▅▅▅▅▆▆▆▇▇▇▇██</td></tr><tr><td>loss</td><td>█▄▂▂▂▂▂▁▁▁▁▁▁▁▁▁▁▁▁▁▁▁▁▁▁</td></tr><tr><td>mae</td><td>█▄▃▂▂▂▂▂▂▂▂▁▁▁▁▁▁▁▁▁▁▁▁▁▁</td></tr><tr><td>val_loss</td><td>█▂▂▁▁▁▁▁▁▁▁▁▁▁▁▁▁▁▁▁▁▁▁▁▁</td></tr><tr><td>val_mae</td><td>█▃▂▂▂▁▂▁▁▁▁▁▁▁▁▁▁▁▁▁▁▁▁▁▁</td></tr><tr><td>_runtime</td><td>▁▁▂▂▂▂▃▃▃▄▄▄▄▅▅▅▆▆▆▇▇▇▇████</td></tr><tr><td>_timestamp</td><td>▁▁▂▂▂▂▃▃▃▄▄▄▄▅▅▅▆▆▆▇▇▇▇████</td></tr><tr><td>_step</td><td>▁▁▂▂▂▂▃▃▃▃▄▄▄▅▅▅▅▆▆▆▆▇▇▇▇██</td></tr><tr><td>test_loss</td><td>▁</td></tr><tr><td>test_mae</td><td>▁</td></tr></table><br/>"
      ],
      "text/plain": [
       "<IPython.core.display.HTML object>"
      ]
     },
     "metadata": {
      "tags": []
     },
     "output_type": "display_data"
    },
    {
     "data": {
      "text/html": [
       "Synced 5 W&B file(s), 1 media file(s), 0 artifact file(s) and 1 other file(s)"
      ],
      "text/plain": [
       "<IPython.core.display.HTML object>"
      ]
     },
     "metadata": {
      "tags": []
     },
     "output_type": "display_data"
    },
    {
     "data": {
      "text/html": [
       "\n",
       "                    <br/>Synced <strong style=\"color:#cdcd00\">solar-sweep-13</strong>: <a href=\"https://wandb.ai/nbvanting/thesis/runs/c8citr7w\" target=\"_blank\">https://wandb.ai/nbvanting/thesis/runs/c8citr7w</a><br/>\n",
       "                "
      ],
      "text/plain": [
       "<IPython.core.display.HTML object>"
      ]
     },
     "metadata": {
      "tags": []
     },
     "output_type": "display_data"
    },
    {
     "name": "stderr",
     "output_type": "stream",
     "text": [
      "Run c8citr7w errored: IndexError('list index out of range')\n",
      "\u001b[34m\u001b[1mwandb\u001b[0m: \u001b[32m\u001b[41mERROR\u001b[0m Run c8citr7w errored: IndexError('list index out of range')\n",
      "\u001b[34m\u001b[1mwandb\u001b[0m: Agent Starting Run: jfgf42cn with config:\n",
      "\u001b[34m\u001b[1mwandb\u001b[0m: \tactivation_cnn: relu\n",
      "\u001b[34m\u001b[1mwandb\u001b[0m: \tactivation_gru: tanh\n",
      "\u001b[34m\u001b[1mwandb\u001b[0m: \tbatch_size: 121\n",
      "\u001b[34m\u001b[1mwandb\u001b[0m: \tcnn_lay_2: True\n",
      "\u001b[34m\u001b[1mwandb\u001b[0m: \tcnn_lay_3: True\n",
      "\u001b[34m\u001b[1mwandb\u001b[0m: \tcnn_layer_size_1: 75\n",
      "\u001b[34m\u001b[1mwandb\u001b[0m: \tcnn_layer_size_2: 81\n",
      "\u001b[34m\u001b[1mwandb\u001b[0m: \tcnn_layer_size_3: 78\n",
      "\u001b[34m\u001b[1mwandb\u001b[0m: \tdataset: strib\n",
      "\u001b[34m\u001b[1mwandb\u001b[0m: \tdropout: 0.18334951707472275\n",
      "\u001b[34m\u001b[1mwandb\u001b[0m: \tepochs: 25\n",
      "\u001b[34m\u001b[1mwandb\u001b[0m: \tgru_lay_1: True\n",
      "\u001b[34m\u001b[1mwandb\u001b[0m: \tgru_lay_2: False\n",
      "\u001b[34m\u001b[1mwandb\u001b[0m: \tgru_layer_size_1: 49\n",
      "\u001b[34m\u001b[1mwandb\u001b[0m: \tgru_layer_size_2: 182\n",
      "\u001b[34m\u001b[1mwandb\u001b[0m: \tgru_layer_size_3: 87\n",
      "\u001b[34m\u001b[1mwandb\u001b[0m: \tkernelsize: 5\n",
      "\u001b[34m\u001b[1mwandb\u001b[0m: \tlearning_rate: 0.03394055970608183\n",
      "\u001b[34m\u001b[1mwandb\u001b[0m: \tlookback: 744\n",
      "\u001b[34m\u001b[1mwandb\u001b[0m: \tmomentum: 0.916631110642916\n",
      "\u001b[34m\u001b[1mwandb\u001b[0m: \tnum_cnn_layers: 2\n",
      "\u001b[34m\u001b[1mwandb\u001b[0m: \tnum_features: 9\n",
      "\u001b[34m\u001b[1mwandb\u001b[0m: \tnum_gru_layers: 2\n",
      "\u001b[34m\u001b[1mwandb\u001b[0m: \toptimizer: sgd\n",
      "\u001b[34m\u001b[1mwandb\u001b[0m: \tsplitmethod: offset\n",
      "\u001b[34m\u001b[1mwandb\u001b[0m: \tsplitrate: 0.8\n",
      "\u001b[34m\u001b[1mwandb\u001b[0m: \u001b[33mWARNING\u001b[0m Ignored wandb.init() arg project when running a sweep\n"
     ]
    },
    {
     "data": {
      "text/html": [
       "\n",
       "                Tracking run with wandb version 0.10.29<br/>\n",
       "                Syncing run <strong style=\"color:#cdcd00\">dulcet-sweep-14</strong> to <a href=\"https://wandb.ai\" target=\"_blank\">Weights & Biases</a> <a href=\"https://docs.wandb.com/integrations/jupyter.html\" target=\"_blank\">(Documentation)</a>.<br/>\n",
       "                Project page: <a href=\"https://wandb.ai/nbvanting/thesis\" target=\"_blank\">https://wandb.ai/nbvanting/thesis</a><br/>\n",
       "                Sweep page: <a href=\"https://wandb.ai/nbvanting/thesis/sweeps/xjdtj3eo\" target=\"_blank\">https://wandb.ai/nbvanting/thesis/sweeps/xjdtj3eo</a><br/>\n",
       "Run page: <a href=\"https://wandb.ai/nbvanting/thesis/runs/jfgf42cn\" target=\"_blank\">https://wandb.ai/nbvanting/thesis/runs/jfgf42cn</a><br/>\n",
       "                Run data is saved locally in <code>/content/wandb/run-20210507_094204-jfgf42cn</code><br/><br/>\n",
       "            "
      ],
      "text/plain": [
       "<IPython.core.display.HTML object>"
      ]
     },
     "metadata": {
      "tags": []
     },
     "output_type": "display_data"
    },
    {
     "name": "stdout",
     "output_type": "stream",
     "text": [
      "Epoch 1/25\n",
      "121/121 [==============================] - 12s 65ms/step - loss: 0.6880 - mae: 0.6443 - val_loss: 0.1832 - val_mae: 0.3252\n",
      "Epoch 2/25\n",
      "121/121 [==============================] - 7s 58ms/step - loss: 0.1620 - mae: 0.3101 - val_loss: 0.1419 - val_mae: 0.2822\n",
      "Epoch 3/25\n",
      "121/121 [==============================] - 7s 58ms/step - loss: 0.1108 - mae: 0.2549 - val_loss: 0.1356 - val_mae: 0.2734\n",
      "Epoch 4/25\n",
      "121/121 [==============================] - 7s 57ms/step - loss: 0.1048 - mae: 0.2485 - val_loss: 0.1395 - val_mae: 0.2725\n",
      "Epoch 5/25\n",
      "121/121 [==============================] - 7s 57ms/step - loss: 0.0963 - mae: 0.2343 - val_loss: 0.1395 - val_mae: 0.2806\n",
      "Epoch 6/25\n",
      "121/121 [==============================] - 7s 58ms/step - loss: 0.0857 - mae: 0.2236 - val_loss: 0.1356 - val_mae: 0.2747\n",
      "Epoch 7/25\n",
      "121/121 [==============================] - 7s 57ms/step - loss: 0.0870 - mae: 0.2228 - val_loss: 0.1327 - val_mae: 0.2728\n",
      "Epoch 8/25\n",
      "121/121 [==============================] - 7s 59ms/step - loss: 0.0848 - mae: 0.2204 - val_loss: 0.1365 - val_mae: 0.2723\n",
      "Epoch 9/25\n",
      "121/121 [==============================] - 7s 58ms/step - loss: 0.0823 - mae: 0.2174 - val_loss: 0.1303 - val_mae: 0.2674\n",
      "Epoch 10/25\n",
      "121/121 [==============================] - 7s 58ms/step - loss: 0.0778 - mae: 0.2104 - val_loss: 0.1415 - val_mae: 0.2821\n",
      "Epoch 11/25\n",
      "121/121 [==============================] - 7s 58ms/step - loss: 0.0801 - mae: 0.2139 - val_loss: 0.1250 - val_mae: 0.2644\n",
      "Epoch 12/25\n",
      "121/121 [==============================] - 7s 57ms/step - loss: 0.0763 - mae: 0.2094 - val_loss: 0.1353 - val_mae: 0.2740\n",
      "Epoch 13/25\n",
      "121/121 [==============================] - 7s 57ms/step - loss: 0.0728 - mae: 0.2042 - val_loss: 0.1284 - val_mae: 0.2644\n",
      "Epoch 14/25\n",
      "121/121 [==============================] - 7s 58ms/step - loss: 0.0718 - mae: 0.2032 - val_loss: 0.1361 - val_mae: 0.2716\n",
      "Epoch 15/25\n",
      "121/121 [==============================] - 7s 56ms/step - loss: 0.0737 - mae: 0.2069 - val_loss: 0.1407 - val_mae: 0.2833\n",
      "Epoch 16/25\n",
      "121/121 [==============================] - 7s 57ms/step - loss: 0.0691 - mae: 0.2001 - val_loss: 0.1320 - val_mae: 0.2707\n",
      "Epoch 17/25\n",
      "121/121 [==============================] - 7s 58ms/step - loss: 0.0681 - mae: 0.1978 - val_loss: 0.1312 - val_mae: 0.2702\n",
      "Epoch 18/25\n",
      "121/121 [==============================] - 7s 57ms/step - loss: 0.0677 - mae: 0.1976 - val_loss: 0.1360 - val_mae: 0.2696\n",
      "Epoch 19/25\n",
      "121/121 [==============================] - 7s 57ms/step - loss: 0.0645 - mae: 0.1940 - val_loss: 0.1367 - val_mae: 0.2700\n",
      "Epoch 20/25\n",
      "121/121 [==============================] - 7s 57ms/step - loss: 0.0650 - mae: 0.1937 - val_loss: 0.1363 - val_mae: 0.2680\n",
      "Epoch 21/25\n",
      "121/121 [==============================] - 7s 56ms/step - loss: 0.0624 - mae: 0.1890 - val_loss: 0.1361 - val_mae: 0.2773\n",
      "Epoch 22/25\n",
      "121/121 [==============================] - 7s 58ms/step - loss: 0.0604 - mae: 0.1867 - val_loss: 0.1339 - val_mae: 0.2728\n",
      "Epoch 23/25\n",
      "121/121 [==============================] - 7s 58ms/step - loss: 0.0611 - mae: 0.1882 - val_loss: 0.1387 - val_mae: 0.2798\n",
      "Epoch 24/25\n",
      "121/121 [==============================] - 7s 59ms/step - loss: 0.0592 - mae: 0.1853 - val_loss: 0.1391 - val_mae: 0.2752\n",
      "Epoch 25/25\n",
      "121/121 [==============================] - 7s 59ms/step - loss: 0.0556 - mae: 0.1797 - val_loss: 0.1624 - val_mae: 0.3028\n",
      "13/13 [==============================] - 1s 25ms/step - loss: 0.2966 - mae: 0.4298\n"
     ]
    },
    {
     "data": {
      "text/html": [
       "<br/>Waiting for W&B process to finish, PID 3350<br/>Program failed with code 1.  Press ctrl-c to abort syncing."
      ],
      "text/plain": [
       "<IPython.core.display.HTML object>"
      ]
     },
     "metadata": {
      "tags": []
     },
     "output_type": "display_data"
    },
    {
     "data": {
      "application/vnd.jupyter.widget-view+json": {
       "model_id": "92d2cfac42794e72aeca7fbff4f89fce",
       "version_major": 2,
       "version_minor": 0
      },
      "text/plain": [
       "VBox(children=(Label(value=' 0.99MB of 0.99MB uploaded (0.00MB deduped)\\r'), FloatProgress(value=1.0, max=1.0)…"
      ]
     },
     "metadata": {
      "tags": []
     },
     "output_type": "display_data"
    },
    {
     "data": {
      "text/html": [
       "Find user logs for this run at: <code>/content/wandb/run-20210507_094204-jfgf42cn/logs/debug.log</code>"
      ],
      "text/plain": [
       "<IPython.core.display.HTML object>"
      ]
     },
     "metadata": {
      "tags": []
     },
     "output_type": "display_data"
    },
    {
     "data": {
      "text/html": [
       "Find internal logs for this run at: <code>/content/wandb/run-20210507_094204-jfgf42cn/logs/debug-internal.log</code>"
      ],
      "text/plain": [
       "<IPython.core.display.HTML object>"
      ]
     },
     "metadata": {
      "tags": []
     },
     "output_type": "display_data"
    },
    {
     "data": {
      "text/html": [
       "<h3>Run summary:</h3><br/><style>\n",
       "    table.wandb td:nth-child(1) { padding: 0 10px; text-align: right }\n",
       "    </style><table class=\"wandb\">\n",
       "<tr><td>epoch</td><td>24</td></tr><tr><td>loss</td><td>0.05706</td></tr><tr><td>mae</td><td>0.18228</td></tr><tr><td>val_loss</td><td>0.16236</td></tr><tr><td>val_mae</td><td>0.30283</td></tr><tr><td>_runtime</td><td>188</td></tr><tr><td>_timestamp</td><td>1620380712</td></tr><tr><td>_step</td><td>26</td></tr><tr><td>best_val_loss</td><td>0.12495</td></tr><tr><td>best_epoch</td><td>10</td></tr><tr><td>test_loss</td><td>0.29659</td></tr><tr><td>test_mae</td><td>0.42978</td></tr></table>"
      ],
      "text/plain": [
       "<IPython.core.display.HTML object>"
      ]
     },
     "metadata": {
      "tags": []
     },
     "output_type": "display_data"
    },
    {
     "data": {
      "text/html": [
       "<h3>Run history:</h3><br/><style>\n",
       "    table.wandb td:nth-child(1) { padding: 0 10px; text-align: right }\n",
       "    </style><table class=\"wandb\">\n",
       "<tr><td>epoch</td><td>▁▁▂▂▂▂▃▃▃▄▄▄▅▅▅▅▆▆▆▇▇▇▇██</td></tr><tr><td>loss</td><td>█▃▂▂▂▂▂▁▁▁▁▁▁▁▁▁▁▁▁▁▁▁▁▁▁</td></tr><tr><td>mae</td><td>█▃▂▂▂▂▂▂▂▂▂▂▂▁▁▁▁▁▁▁▁▁▁▁▁</td></tr><tr><td>val_loss</td><td>█▃▂▃▃▂▂▂▂▃▁▂▁▂▃▂▂▂▂▂▂▂▃▃▅</td></tr><tr><td>val_mae</td><td>█▃▂▂▃▂▂▂▁▃▁▂▁▂▃▂▂▂▂▁▂▂▃▂▅</td></tr><tr><td>_runtime</td><td>▁▁▂▂▂▂▃▃▃▄▄▄▅▅▅▅▆▆▆▆▇▇▇████</td></tr><tr><td>_timestamp</td><td>▁▁▂▂▂▂▃▃▃▄▄▄▅▅▅▅▆▆▆▆▇▇▇████</td></tr><tr><td>_step</td><td>▁▁▂▂▂▂▃▃▃▃▄▄▄▅▅▅▅▆▆▆▆▇▇▇▇██</td></tr><tr><td>test_loss</td><td>▁</td></tr><tr><td>test_mae</td><td>▁</td></tr></table><br/>"
      ],
      "text/plain": [
       "<IPython.core.display.HTML object>"
      ]
     },
     "metadata": {
      "tags": []
     },
     "output_type": "display_data"
    },
    {
     "data": {
      "text/html": [
       "Synced 5 W&B file(s), 1 media file(s), 0 artifact file(s) and 1 other file(s)"
      ],
      "text/plain": [
       "<IPython.core.display.HTML object>"
      ]
     },
     "metadata": {
      "tags": []
     },
     "output_type": "display_data"
    },
    {
     "data": {
      "text/html": [
       "\n",
       "                    <br/>Synced <strong style=\"color:#cdcd00\">dulcet-sweep-14</strong>: <a href=\"https://wandb.ai/nbvanting/thesis/runs/jfgf42cn\" target=\"_blank\">https://wandb.ai/nbvanting/thesis/runs/jfgf42cn</a><br/>\n",
       "                "
      ],
      "text/plain": [
       "<IPython.core.display.HTML object>"
      ]
     },
     "metadata": {
      "tags": []
     },
     "output_type": "display_data"
    },
    {
     "name": "stderr",
     "output_type": "stream",
     "text": [
      "Run jfgf42cn errored: IndexError('list index out of range')\n",
      "\u001b[34m\u001b[1mwandb\u001b[0m: \u001b[32m\u001b[41mERROR\u001b[0m Run jfgf42cn errored: IndexError('list index out of range')\n",
      "\u001b[34m\u001b[1mwandb\u001b[0m: Agent Starting Run: 3wkhqu6f with config:\n",
      "\u001b[34m\u001b[1mwandb\u001b[0m: \tactivation_cnn: relu\n",
      "\u001b[34m\u001b[1mwandb\u001b[0m: \tactivation_gru: tanh\n",
      "\u001b[34m\u001b[1mwandb\u001b[0m: \tbatch_size: 238\n",
      "\u001b[34m\u001b[1mwandb\u001b[0m: \tcnn_lay_2: False\n",
      "\u001b[34m\u001b[1mwandb\u001b[0m: \tcnn_lay_3: True\n",
      "\u001b[34m\u001b[1mwandb\u001b[0m: \tcnn_layer_size_1: 118\n",
      "\u001b[34m\u001b[1mwandb\u001b[0m: \tcnn_layer_size_2: 242\n",
      "\u001b[34m\u001b[1mwandb\u001b[0m: \tcnn_layer_size_3: 191\n",
      "\u001b[34m\u001b[1mwandb\u001b[0m: \tdataset: strib\n",
      "\u001b[34m\u001b[1mwandb\u001b[0m: \tdropout: 0.13708536721157075\n",
      "\u001b[34m\u001b[1mwandb\u001b[0m: \tepochs: 25\n",
      "\u001b[34m\u001b[1mwandb\u001b[0m: \tgru_lay_1: True\n",
      "\u001b[34m\u001b[1mwandb\u001b[0m: \tgru_lay_2: True\n",
      "\u001b[34m\u001b[1mwandb\u001b[0m: \tgru_layer_size_1: 33\n",
      "\u001b[34m\u001b[1mwandb\u001b[0m: \tgru_layer_size_2: 136\n",
      "\u001b[34m\u001b[1mwandb\u001b[0m: \tgru_layer_size_3: 63\n",
      "\u001b[34m\u001b[1mwandb\u001b[0m: \tkernelsize: 7\n",
      "\u001b[34m\u001b[1mwandb\u001b[0m: \tlearning_rate: 0.03551244125334541\n",
      "\u001b[34m\u001b[1mwandb\u001b[0m: \tlookback: 744\n",
      "\u001b[34m\u001b[1mwandb\u001b[0m: \tmomentum: 0.5639089772796471\n",
      "\u001b[34m\u001b[1mwandb\u001b[0m: \tnum_cnn_layers: 2\n",
      "\u001b[34m\u001b[1mwandb\u001b[0m: \tnum_features: 9\n",
      "\u001b[34m\u001b[1mwandb\u001b[0m: \tnum_gru_layers: 2\n",
      "\u001b[34m\u001b[1mwandb\u001b[0m: \toptimizer: sgd\n",
      "\u001b[34m\u001b[1mwandb\u001b[0m: \tsplitmethod: offset\n",
      "\u001b[34m\u001b[1mwandb\u001b[0m: \tsplitrate: 0.8\n",
      "\u001b[34m\u001b[1mwandb\u001b[0m: \u001b[33mWARNING\u001b[0m Ignored wandb.init() arg project when running a sweep\n"
     ]
    },
    {
     "data": {
      "text/html": [
       "\n",
       "                Tracking run with wandb version 0.10.29<br/>\n",
       "                Syncing run <strong style=\"color:#cdcd00\">ethereal-sweep-15</strong> to <a href=\"https://wandb.ai\" target=\"_blank\">Weights & Biases</a> <a href=\"https://docs.wandb.com/integrations/jupyter.html\" target=\"_blank\">(Documentation)</a>.<br/>\n",
       "                Project page: <a href=\"https://wandb.ai/nbvanting/thesis\" target=\"_blank\">https://wandb.ai/nbvanting/thesis</a><br/>\n",
       "                Sweep page: <a href=\"https://wandb.ai/nbvanting/thesis/sweeps/xjdtj3eo\" target=\"_blank\">https://wandb.ai/nbvanting/thesis/sweeps/xjdtj3eo</a><br/>\n",
       "Run page: <a href=\"https://wandb.ai/nbvanting/thesis/runs/3wkhqu6f\" target=\"_blank\">https://wandb.ai/nbvanting/thesis/runs/3wkhqu6f</a><br/>\n",
       "                Run data is saved locally in <code>/content/wandb/run-20210507_094516-3wkhqu6f</code><br/><br/>\n",
       "            "
      ],
      "text/plain": [
       "<IPython.core.display.HTML object>"
      ]
     },
     "metadata": {
      "tags": []
     },
     "output_type": "display_data"
    },
    {
     "name": "stdout",
     "output_type": "stream",
     "text": [
      "Epoch 1/25\n",
      "62/62 [==============================] - 14s 146ms/step - loss: 0.7382 - mae: 0.6753 - val_loss: 0.4316 - val_mae: 0.5454\n",
      "Epoch 2/25\n",
      "62/62 [==============================] - 8s 128ms/step - loss: 0.3673 - mae: 0.4863 - val_loss: 0.3689 - val_mae: 0.4840\n",
      "Epoch 3/25\n",
      "62/62 [==============================] - 8s 127ms/step - loss: 0.3019 - mae: 0.4334 - val_loss: 0.2995 - val_mae: 0.4240\n",
      "Epoch 4/25\n",
      "62/62 [==============================] - 8s 128ms/step - loss: 0.2398 - mae: 0.3785 - val_loss: 0.2543 - val_mae: 0.3901\n",
      "Epoch 5/25\n",
      "62/62 [==============================] - 8s 127ms/step - loss: 0.1807 - mae: 0.3261 - val_loss: 0.1980 - val_mae: 0.3394\n",
      "Epoch 6/25\n",
      "62/62 [==============================] - 8s 128ms/step - loss: 0.1509 - mae: 0.2974 - val_loss: 0.1741 - val_mae: 0.3225\n",
      "Epoch 7/25\n",
      "62/62 [==============================] - 8s 128ms/step - loss: 0.1330 - mae: 0.2771 - val_loss: 0.1627 - val_mae: 0.3098\n",
      "Epoch 8/25\n",
      "62/62 [==============================] - 8s 128ms/step - loss: 0.1215 - mae: 0.2650 - val_loss: 0.1536 - val_mae: 0.3017\n",
      "Epoch 9/25\n",
      "62/62 [==============================] - 8s 129ms/step - loss: 0.1152 - mae: 0.2594 - val_loss: 0.1569 - val_mae: 0.3043\n",
      "Epoch 10/25\n",
      "62/62 [==============================] - 8s 128ms/step - loss: 0.1089 - mae: 0.2522 - val_loss: 0.1509 - val_mae: 0.2996\n",
      "Epoch 11/25\n",
      "62/62 [==============================] - 8s 131ms/step - loss: 0.1052 - mae: 0.2478 - val_loss: 0.1457 - val_mae: 0.2945\n",
      "Epoch 12/25\n",
      "62/62 [==============================] - 8s 129ms/step - loss: 0.1011 - mae: 0.2429 - val_loss: 0.1386 - val_mae: 0.2859\n",
      "Epoch 13/25\n",
      "62/62 [==============================] - 8s 127ms/step - loss: 0.0947 - mae: 0.2353 - val_loss: 0.1402 - val_mae: 0.2863\n",
      "Epoch 14/25\n",
      "62/62 [==============================] - 8s 129ms/step - loss: 0.0925 - mae: 0.2320 - val_loss: 0.1393 - val_mae: 0.2864\n",
      "Epoch 15/25\n",
      "62/62 [==============================] - 8s 130ms/step - loss: 0.0893 - mae: 0.2279 - val_loss: 0.1325 - val_mae: 0.2782\n",
      "Epoch 16/25\n",
      "62/62 [==============================] - 8s 129ms/step - loss: 0.0886 - mae: 0.2270 - val_loss: 0.1385 - val_mae: 0.2853\n",
      "Epoch 17/25\n",
      "62/62 [==============================] - 8s 129ms/step - loss: 0.0897 - mae: 0.2266 - val_loss: 0.1421 - val_mae: 0.2912\n",
      "Epoch 18/25\n",
      "62/62 [==============================] - 8s 129ms/step - loss: 0.0866 - mae: 0.2252 - val_loss: 0.1274 - val_mae: 0.2704\n",
      "Epoch 19/25\n",
      "62/62 [==============================] - 8s 129ms/step - loss: 0.0854 - mae: 0.2226 - val_loss: 0.1322 - val_mae: 0.2786\n",
      "Epoch 20/25\n",
      "62/62 [==============================] - 8s 131ms/step - loss: 0.0820 - mae: 0.2180 - val_loss: 0.1297 - val_mae: 0.2719\n",
      "Epoch 21/25\n",
      "62/62 [==============================] - 8s 129ms/step - loss: 0.0820 - mae: 0.2183 - val_loss: 0.1296 - val_mae: 0.2739\n",
      "Epoch 22/25\n",
      "62/62 [==============================] - 8s 131ms/step - loss: 0.0820 - mae: 0.2177 - val_loss: 0.1507 - val_mae: 0.2992\n",
      "Epoch 23/25\n",
      "62/62 [==============================] - 8s 129ms/step - loss: 0.0784 - mae: 0.2147 - val_loss: 0.1327 - val_mae: 0.2702\n",
      "Epoch 24/25\n",
      "62/62 [==============================] - 8s 130ms/step - loss: 0.0807 - mae: 0.2161 - val_loss: 0.1322 - val_mae: 0.2776\n",
      "Epoch 25/25\n",
      "62/62 [==============================] - 8s 128ms/step - loss: 0.0768 - mae: 0.2105 - val_loss: 0.1251 - val_mae: 0.2695\n",
      "7/7 [==============================] - 1s 44ms/step - loss: 0.1255 - mae: 0.2729\n"
     ]
    },
    {
     "data": {
      "text/html": [
       "<br/>Waiting for W&B process to finish, PID 3661<br/>Program failed with code 1.  Press ctrl-c to abort syncing."
      ],
      "text/plain": [
       "<IPython.core.display.HTML object>"
      ]
     },
     "metadata": {
      "tags": []
     },
     "output_type": "display_data"
    },
    {
     "data": {
      "application/vnd.jupyter.widget-view+json": {
       "model_id": "6ce1ac480a3841b7bca9f6f54cce6690",
       "version_major": 2,
       "version_minor": 0
      },
      "text/plain": [
       "VBox(children=(Label(value=' 2.33MB of 2.33MB uploaded (0.00MB deduped)\\r'), FloatProgress(value=1.0, max=1.0)…"
      ]
     },
     "metadata": {
      "tags": []
     },
     "output_type": "display_data"
    },
    {
     "data": {
      "text/html": [
       "Find user logs for this run at: <code>/content/wandb/run-20210507_094516-3wkhqu6f/logs/debug.log</code>"
      ],
      "text/plain": [
       "<IPython.core.display.HTML object>"
      ]
     },
     "metadata": {
      "tags": []
     },
     "output_type": "display_data"
    },
    {
     "data": {
      "text/html": [
       "Find internal logs for this run at: <code>/content/wandb/run-20210507_094516-3wkhqu6f/logs/debug-internal.log</code>"
      ],
      "text/plain": [
       "<IPython.core.display.HTML object>"
      ]
     },
     "metadata": {
      "tags": []
     },
     "output_type": "display_data"
    },
    {
     "data": {
      "text/html": [
       "<h3>Run summary:</h3><br/><style>\n",
       "    table.wandb td:nth-child(1) { padding: 0 10px; text-align: right }\n",
       "    </style><table class=\"wandb\">\n",
       "<tr><td>epoch</td><td>24</td></tr><tr><td>loss</td><td>0.07735</td></tr><tr><td>mae</td><td>0.21195</td></tr><tr><td>val_loss</td><td>0.12509</td></tr><tr><td>val_mae</td><td>0.26949</td></tr><tr><td>_runtime</td><td>219</td></tr><tr><td>_timestamp</td><td>1620380935</td></tr><tr><td>_step</td><td>26</td></tr><tr><td>best_val_loss</td><td>0.12509</td></tr><tr><td>best_epoch</td><td>24</td></tr><tr><td>test_loss</td><td>0.12551</td></tr><tr><td>test_mae</td><td>0.27293</td></tr></table>"
      ],
      "text/plain": [
       "<IPython.core.display.HTML object>"
      ]
     },
     "metadata": {
      "tags": []
     },
     "output_type": "display_data"
    },
    {
     "data": {
      "text/html": [
       "<h3>Run history:</h3><br/><style>\n",
       "    table.wandb td:nth-child(1) { padding: 0 10px; text-align: right }\n",
       "    </style><table class=\"wandb\">\n",
       "<tr><td>epoch</td><td>▁▁▂▂▂▂▃▃▃▄▄▄▅▅▅▅▆▆▆▇▇▇▇██</td></tr><tr><td>loss</td><td>█▄▄▃▂▂▂▂▁▁▁▁▁▁▁▁▁▁▁▁▁▁▁▁▁</td></tr><tr><td>mae</td><td>█▅▅▄▃▂▂▂▂▂▂▂▁▁▁▁▁▁▁▁▁▁▁▁▁</td></tr><tr><td>val_loss</td><td>█▇▅▄▃▂▂▂▂▂▁▁▁▁▁▁▁▁▁▁▁▂▁▁▁</td></tr><tr><td>val_mae</td><td>█▆▅▄▃▂▂▂▂▂▂▁▁▁▁▁▂▁▁▁▁▂▁▁▁</td></tr><tr><td>_runtime</td><td>▁▁▂▂▂▂▃▃▃▄▄▄▄▅▅▅▆▆▆▇▇▇▇████</td></tr><tr><td>_timestamp</td><td>▁▁▂▂▂▂▃▃▃▄▄▄▄▅▅▅▆▆▆▇▇▇▇████</td></tr><tr><td>_step</td><td>▁▁▂▂▂▂▃▃▃▃▄▄▄▅▅▅▅▆▆▆▆▇▇▇▇██</td></tr><tr><td>test_loss</td><td>▁</td></tr><tr><td>test_mae</td><td>▁</td></tr></table><br/>"
      ],
      "text/plain": [
       "<IPython.core.display.HTML object>"
      ]
     },
     "metadata": {
      "tags": []
     },
     "output_type": "display_data"
    },
    {
     "data": {
      "text/html": [
       "Synced 5 W&B file(s), 1 media file(s), 0 artifact file(s) and 1 other file(s)"
      ],
      "text/plain": [
       "<IPython.core.display.HTML object>"
      ]
     },
     "metadata": {
      "tags": []
     },
     "output_type": "display_data"
    },
    {
     "data": {
      "text/html": [
       "\n",
       "                    <br/>Synced <strong style=\"color:#cdcd00\">ethereal-sweep-15</strong>: <a href=\"https://wandb.ai/nbvanting/thesis/runs/3wkhqu6f\" target=\"_blank\">https://wandb.ai/nbvanting/thesis/runs/3wkhqu6f</a><br/>\n",
       "                "
      ],
      "text/plain": [
       "<IPython.core.display.HTML object>"
      ]
     },
     "metadata": {
      "tags": []
     },
     "output_type": "display_data"
    },
    {
     "name": "stderr",
     "output_type": "stream",
     "text": [
      "Run 3wkhqu6f errored: IndexError('list index out of range')\n",
      "\u001b[34m\u001b[1mwandb\u001b[0m: \u001b[32m\u001b[41mERROR\u001b[0m Run 3wkhqu6f errored: IndexError('list index out of range')\n",
      "\u001b[34m\u001b[1mwandb\u001b[0m: Agent Starting Run: vlsa2p3n with config:\n",
      "\u001b[34m\u001b[1mwandb\u001b[0m: \tactivation_cnn: relu\n",
      "\u001b[34m\u001b[1mwandb\u001b[0m: \tactivation_gru: tanh\n",
      "\u001b[34m\u001b[1mwandb\u001b[0m: \tbatch_size: 157\n",
      "\u001b[34m\u001b[1mwandb\u001b[0m: \tcnn_lay_2: True\n",
      "\u001b[34m\u001b[1mwandb\u001b[0m: \tcnn_lay_3: False\n",
      "\u001b[34m\u001b[1mwandb\u001b[0m: \tcnn_layer_size_1: 162\n",
      "\u001b[34m\u001b[1mwandb\u001b[0m: \tcnn_layer_size_2: 67\n",
      "\u001b[34m\u001b[1mwandb\u001b[0m: \tcnn_layer_size_3: 56\n",
      "\u001b[34m\u001b[1mwandb\u001b[0m: \tdataset: strib\n",
      "\u001b[34m\u001b[1mwandb\u001b[0m: \tdropout: 0.38300115116627576\n",
      "\u001b[34m\u001b[1mwandb\u001b[0m: \tepochs: 25\n",
      "\u001b[34m\u001b[1mwandb\u001b[0m: \tgru_lay_1: True\n",
      "\u001b[34m\u001b[1mwandb\u001b[0m: \tgru_lay_2: True\n",
      "\u001b[34m\u001b[1mwandb\u001b[0m: \tgru_layer_size_1: 65\n",
      "\u001b[34m\u001b[1mwandb\u001b[0m: \tgru_layer_size_2: 58\n",
      "\u001b[34m\u001b[1mwandb\u001b[0m: \tgru_layer_size_3: 111\n",
      "\u001b[34m\u001b[1mwandb\u001b[0m: \tkernelsize: 5\n",
      "\u001b[34m\u001b[1mwandb\u001b[0m: \tlearning_rate: 0.009539821738083182\n",
      "\u001b[34m\u001b[1mwandb\u001b[0m: \tlookback: 744\n",
      "\u001b[34m\u001b[1mwandb\u001b[0m: \tmomentum: 0.839535095853863\n",
      "\u001b[34m\u001b[1mwandb\u001b[0m: \tnum_cnn_layers: 2\n",
      "\u001b[34m\u001b[1mwandb\u001b[0m: \tnum_features: 9\n",
      "\u001b[34m\u001b[1mwandb\u001b[0m: \tnum_gru_layers: 2\n",
      "\u001b[34m\u001b[1mwandb\u001b[0m: \toptimizer: sgd\n",
      "\u001b[34m\u001b[1mwandb\u001b[0m: \tsplitmethod: offset\n",
      "\u001b[34m\u001b[1mwandb\u001b[0m: \tsplitrate: 0.8\n",
      "\u001b[34m\u001b[1mwandb\u001b[0m: \u001b[33mWARNING\u001b[0m Ignored wandb.init() arg project when running a sweep\n"
     ]
    },
    {
     "data": {
      "text/html": [
       "\n",
       "                Tracking run with wandb version 0.10.29<br/>\n",
       "                Syncing run <strong style=\"color:#cdcd00\">fragrant-sweep-16</strong> to <a href=\"https://wandb.ai\" target=\"_blank\">Weights & Biases</a> <a href=\"https://docs.wandb.com/integrations/jupyter.html\" target=\"_blank\">(Documentation)</a>.<br/>\n",
       "                Project page: <a href=\"https://wandb.ai/nbvanting/thesis\" target=\"_blank\">https://wandb.ai/nbvanting/thesis</a><br/>\n",
       "                Sweep page: <a href=\"https://wandb.ai/nbvanting/thesis/sweeps/xjdtj3eo\" target=\"_blank\">https://wandb.ai/nbvanting/thesis/sweeps/xjdtj3eo</a><br/>\n",
       "Run page: <a href=\"https://wandb.ai/nbvanting/thesis/runs/vlsa2p3n\" target=\"_blank\">https://wandb.ai/nbvanting/thesis/runs/vlsa2p3n</a><br/>\n",
       "                Run data is saved locally in <code>/content/wandb/run-20210507_094859-vlsa2p3n</code><br/><br/>\n",
       "            "
      ],
      "text/plain": [
       "<IPython.core.display.HTML object>"
      ]
     },
     "metadata": {
      "tags": []
     },
     "output_type": "display_data"
    },
    {
     "name": "stdout",
     "output_type": "stream",
     "text": [
      "Epoch 1/25\n",
      "94/94 [==============================] - 15s 109ms/step - loss: 0.8157 - mae: 0.7136 - val_loss: 0.7743 - val_mae: 0.7015\n",
      "Epoch 2/25\n",
      "94/94 [==============================] - 9s 93ms/step - loss: 0.6044 - mae: 0.6121 - val_loss: 0.5132 - val_mae: 0.5357\n",
      "Epoch 3/25\n",
      "94/94 [==============================] - 9s 93ms/step - loss: 0.4317 - mae: 0.5175 - val_loss: 0.4171 - val_mae: 0.5144\n",
      "Epoch 4/25\n",
      "94/94 [==============================] - 9s 92ms/step - loss: 0.3769 - mae: 0.4854 - val_loss: 0.4084 - val_mae: 0.5195\n",
      "Epoch 5/25\n",
      "94/94 [==============================] - 9s 92ms/step - loss: 0.3610 - mae: 0.4743 - val_loss: 0.3669 - val_mae: 0.4885\n",
      "Epoch 6/25\n",
      "94/94 [==============================] - 9s 93ms/step - loss: 0.3318 - mae: 0.4555 - val_loss: 0.3332 - val_mae: 0.4554\n",
      "Epoch 7/25\n",
      "94/94 [==============================] - 9s 92ms/step - loss: 0.2975 - mae: 0.4294 - val_loss: 0.2840 - val_mae: 0.4163\n",
      "Epoch 8/25\n",
      "94/94 [==============================] - 9s 92ms/step - loss: 0.2540 - mae: 0.3944 - val_loss: 0.2530 - val_mae: 0.3918\n",
      "Epoch 9/25\n",
      "94/94 [==============================] - 9s 93ms/step - loss: 0.2236 - mae: 0.3682 - val_loss: 0.2349 - val_mae: 0.3738\n",
      "Epoch 10/25\n",
      "94/94 [==============================] - 9s 92ms/step - loss: 0.1952 - mae: 0.3411 - val_loss: 0.1859 - val_mae: 0.3350\n",
      "Epoch 11/25\n",
      "94/94 [==============================] - 9s 92ms/step - loss: 0.1740 - mae: 0.3219 - val_loss: 0.1771 - val_mae: 0.3270\n",
      "Epoch 12/25\n",
      "94/94 [==============================] - 9s 93ms/step - loss: 0.1619 - mae: 0.3099 - val_loss: 0.1742 - val_mae: 0.3263\n",
      "Epoch 13/25\n",
      "94/94 [==============================] - 9s 91ms/step - loss: 0.1535 - mae: 0.3031 - val_loss: 0.1659 - val_mae: 0.3178\n",
      "Epoch 14/25\n",
      "94/94 [==============================] - 9s 92ms/step - loss: 0.1487 - mae: 0.2958 - val_loss: 0.1631 - val_mae: 0.3122\n",
      "Epoch 15/25\n",
      "94/94 [==============================] - 9s 92ms/step - loss: 0.1389 - mae: 0.2870 - val_loss: 0.1512 - val_mae: 0.2938\n",
      "Epoch 16/25\n",
      "94/94 [==============================] - 9s 93ms/step - loss: 0.1363 - mae: 0.2833 - val_loss: 0.1450 - val_mae: 0.2919\n",
      "Epoch 17/25\n",
      "94/94 [==============================] - 9s 93ms/step - loss: 0.1296 - mae: 0.2773 - val_loss: 0.1353 - val_mae: 0.2855\n",
      "Epoch 18/25\n",
      "94/94 [==============================] - 9s 92ms/step - loss: 0.1267 - mae: 0.2740 - val_loss: 0.1375 - val_mae: 0.2892\n",
      "Epoch 19/25\n",
      "94/94 [==============================] - 9s 92ms/step - loss: 0.1207 - mae: 0.2676 - val_loss: 0.1374 - val_mae: 0.2886\n",
      "Epoch 20/25\n",
      "94/94 [==============================] - 9s 93ms/step - loss: 0.1229 - mae: 0.2683 - val_loss: 0.1476 - val_mae: 0.2977\n",
      "Epoch 21/25\n",
      "94/94 [==============================] - 9s 92ms/step - loss: 0.1195 - mae: 0.2661 - val_loss: 0.1283 - val_mae: 0.2754\n",
      "Epoch 22/25\n",
      "94/94 [==============================] - 9s 92ms/step - loss: 0.1172 - mae: 0.2627 - val_loss: 0.1457 - val_mae: 0.2917\n",
      "Epoch 23/25\n",
      "94/94 [==============================] - 9s 93ms/step - loss: 0.1149 - mae: 0.2608 - val_loss: 0.1300 - val_mae: 0.2757\n",
      "Epoch 24/25\n",
      "94/94 [==============================] - 9s 93ms/step - loss: 0.1088 - mae: 0.2521 - val_loss: 0.1376 - val_mae: 0.2861\n",
      "Epoch 25/25\n",
      "94/94 [==============================] - 9s 93ms/step - loss: 0.1137 - mae: 0.2562 - val_loss: 0.1185 - val_mae: 0.2615\n",
      "10/10 [==============================] - 1s 38ms/step - loss: 0.2571 - mae: 0.3804\n"
     ]
    },
    {
     "data": {
      "text/html": [
       "<br/>Waiting for W&B process to finish, PID 3984<br/>Program failed with code 1.  Press ctrl-c to abort syncing."
      ],
      "text/plain": [
       "<IPython.core.display.HTML object>"
      ]
     },
     "metadata": {
      "tags": []
     },
     "output_type": "display_data"
    },
    {
     "data": {
      "application/vnd.jupyter.widget-view+json": {
       "model_id": "110bb900b0fc48fb9bfcc9c5c814bb10",
       "version_major": 2,
       "version_minor": 0
      },
      "text/plain": [
       "VBox(children=(Label(value=' 1.34MB of 1.34MB uploaded (0.00MB deduped)\\r'), FloatProgress(value=1.0, max=1.0)…"
      ]
     },
     "metadata": {
      "tags": []
     },
     "output_type": "display_data"
    },
    {
     "data": {
      "text/html": [
       "Find user logs for this run at: <code>/content/wandb/run-20210507_094859-vlsa2p3n/logs/debug.log</code>"
      ],
      "text/plain": [
       "<IPython.core.display.HTML object>"
      ]
     },
     "metadata": {
      "tags": []
     },
     "output_type": "display_data"
    },
    {
     "data": {
      "text/html": [
       "Find internal logs for this run at: <code>/content/wandb/run-20210507_094859-vlsa2p3n/logs/debug-internal.log</code>"
      ],
      "text/plain": [
       "<IPython.core.display.HTML object>"
      ]
     },
     "metadata": {
      "tags": []
     },
     "output_type": "display_data"
    },
    {
     "data": {
      "text/html": [
       "<h3>Run summary:</h3><br/><style>\n",
       "    table.wandb td:nth-child(1) { padding: 0 10px; text-align: right }\n",
       "    </style><table class=\"wandb\">\n",
       "<tr><td>epoch</td><td>24</td></tr><tr><td>loss</td><td>0.10962</td></tr><tr><td>mae</td><td>0.25211</td></tr><tr><td>val_loss</td><td>0.11845</td></tr><tr><td>val_mae</td><td>0.26148</td></tr><tr><td>_runtime</td><td>235</td></tr><tr><td>_timestamp</td><td>1620381174</td></tr><tr><td>_step</td><td>26</td></tr><tr><td>best_val_loss</td><td>0.11845</td></tr><tr><td>best_epoch</td><td>24</td></tr><tr><td>test_loss</td><td>0.2571</td></tr><tr><td>test_mae</td><td>0.38041</td></tr></table>"
      ],
      "text/plain": [
       "<IPython.core.display.HTML object>"
      ]
     },
     "metadata": {
      "tags": []
     },
     "output_type": "display_data"
    },
    {
     "data": {
      "text/html": [
       "<h3>Run history:</h3><br/><style>\n",
       "    table.wandb td:nth-child(1) { padding: 0 10px; text-align: right }\n",
       "    </style><table class=\"wandb\">\n",
       "<tr><td>epoch</td><td>▁▁▂▂▂▂▃▃▃▄▄▄▅▅▅▅▆▆▆▇▇▇▇██</td></tr><tr><td>loss</td><td>█▅▄▄▄▃▃▂▂▂▂▂▁▁▁▁▁▁▁▁▁▁▁▁▁</td></tr><tr><td>mae</td><td>█▆▅▅▄▄▄▃▃▂▂▂▂▂▁▁▁▁▁▁▁▁▁▁▁</td></tr><tr><td>val_loss</td><td>█▅▄▄▄▃▃▂▂▂▂▂▂▁▁▁▁▁▁▁▁▁▁▁▁</td></tr><tr><td>val_mae</td><td>█▅▅▅▅▄▃▃▃▂▂▂▂▂▂▁▁▁▁▂▁▁▁▁▁</td></tr><tr><td>_runtime</td><td>▁▁▂▂▂▂▃▃▃▄▄▄▅▅▅▅▆▆▆▇▇▇▇████</td></tr><tr><td>_timestamp</td><td>▁▁▂▂▂▂▃▃▃▄▄▄▅▅▅▅▆▆▆▇▇▇▇████</td></tr><tr><td>_step</td><td>▁▁▂▂▂▂▃▃▃▃▄▄▄▅▅▅▅▆▆▆▆▇▇▇▇██</td></tr><tr><td>test_loss</td><td>▁</td></tr><tr><td>test_mae</td><td>▁</td></tr></table><br/>"
      ],
      "text/plain": [
       "<IPython.core.display.HTML object>"
      ]
     },
     "metadata": {
      "tags": []
     },
     "output_type": "display_data"
    },
    {
     "data": {
      "text/html": [
       "Synced 5 W&B file(s), 1 media file(s), 0 artifact file(s) and 1 other file(s)"
      ],
      "text/plain": [
       "<IPython.core.display.HTML object>"
      ]
     },
     "metadata": {
      "tags": []
     },
     "output_type": "display_data"
    },
    {
     "data": {
      "text/html": [
       "\n",
       "                    <br/>Synced <strong style=\"color:#cdcd00\">fragrant-sweep-16</strong>: <a href=\"https://wandb.ai/nbvanting/thesis/runs/vlsa2p3n\" target=\"_blank\">https://wandb.ai/nbvanting/thesis/runs/vlsa2p3n</a><br/>\n",
       "                "
      ],
      "text/plain": [
       "<IPython.core.display.HTML object>"
      ]
     },
     "metadata": {
      "tags": []
     },
     "output_type": "display_data"
    },
    {
     "name": "stderr",
     "output_type": "stream",
     "text": [
      "Run vlsa2p3n errored: IndexError('list index out of range')\n",
      "\u001b[34m\u001b[1mwandb\u001b[0m: \u001b[32m\u001b[41mERROR\u001b[0m Run vlsa2p3n errored: IndexError('list index out of range')\n",
      "\u001b[34m\u001b[1mwandb\u001b[0m: Agent Starting Run: v6xc7mjw with config:\n",
      "\u001b[34m\u001b[1mwandb\u001b[0m: \tactivation_cnn: relu\n",
      "\u001b[34m\u001b[1mwandb\u001b[0m: \tactivation_gru: tanh\n",
      "\u001b[34m\u001b[1mwandb\u001b[0m: \tbatch_size: 47\n",
      "\u001b[34m\u001b[1mwandb\u001b[0m: \tcnn_lay_2: False\n",
      "\u001b[34m\u001b[1mwandb\u001b[0m: \tcnn_lay_3: False\n",
      "\u001b[34m\u001b[1mwandb\u001b[0m: \tcnn_layer_size_1: 143\n",
      "\u001b[34m\u001b[1mwandb\u001b[0m: \tcnn_layer_size_2: 226\n",
      "\u001b[34m\u001b[1mwandb\u001b[0m: \tcnn_layer_size_3: 111\n",
      "\u001b[34m\u001b[1mwandb\u001b[0m: \tdataset: kolding\n",
      "\u001b[34m\u001b[1mwandb\u001b[0m: \tdropout: 0.40563444646740715\n",
      "\u001b[34m\u001b[1mwandb\u001b[0m: \tepochs: 25\n",
      "\u001b[34m\u001b[1mwandb\u001b[0m: \tgru_lay_1: True\n",
      "\u001b[34m\u001b[1mwandb\u001b[0m: \tgru_lay_2: True\n",
      "\u001b[34m\u001b[1mwandb\u001b[0m: \tgru_layer_size_1: 60\n",
      "\u001b[34m\u001b[1mwandb\u001b[0m: \tgru_layer_size_2: 68\n",
      "\u001b[34m\u001b[1mwandb\u001b[0m: \tgru_layer_size_3: 121\n",
      "\u001b[34m\u001b[1mwandb\u001b[0m: \tkernelsize: 7\n",
      "\u001b[34m\u001b[1mwandb\u001b[0m: \tlearning_rate: 0.016288017774521414\n",
      "\u001b[34m\u001b[1mwandb\u001b[0m: \tlookback: 744\n",
      "\u001b[34m\u001b[1mwandb\u001b[0m: \tmomentum: 0.7588388185498439\n",
      "\u001b[34m\u001b[1mwandb\u001b[0m: \tnum_cnn_layers: 2\n",
      "\u001b[34m\u001b[1mwandb\u001b[0m: \tnum_features: 9\n",
      "\u001b[34m\u001b[1mwandb\u001b[0m: \tnum_gru_layers: 2\n",
      "\u001b[34m\u001b[1mwandb\u001b[0m: \toptimizer: sgd\n",
      "\u001b[34m\u001b[1mwandb\u001b[0m: \tsplitmethod: offset\n",
      "\u001b[34m\u001b[1mwandb\u001b[0m: \tsplitrate: 0.8\n",
      "\u001b[34m\u001b[1mwandb\u001b[0m: \u001b[33mWARNING\u001b[0m Ignored wandb.init() arg project when running a sweep\n"
     ]
    },
    {
     "data": {
      "text/html": [
       "\n",
       "                Tracking run with wandb version 0.10.29<br/>\n",
       "                Syncing run <strong style=\"color:#cdcd00\">young-sweep-17</strong> to <a href=\"https://wandb.ai\" target=\"_blank\">Weights & Biases</a> <a href=\"https://docs.wandb.com/integrations/jupyter.html\" target=\"_blank\">(Documentation)</a>.<br/>\n",
       "                Project page: <a href=\"https://wandb.ai/nbvanting/thesis\" target=\"_blank\">https://wandb.ai/nbvanting/thesis</a><br/>\n",
       "                Sweep page: <a href=\"https://wandb.ai/nbvanting/thesis/sweeps/xjdtj3eo\" target=\"_blank\">https://wandb.ai/nbvanting/thesis/sweeps/xjdtj3eo</a><br/>\n",
       "Run page: <a href=\"https://wandb.ai/nbvanting/thesis/runs/v6xc7mjw\" target=\"_blank\">https://wandb.ai/nbvanting/thesis/runs/v6xc7mjw</a><br/>\n",
       "                Run data is saved locally in <code>/content/wandb/run-20210507_095258-v6xc7mjw</code><br/><br/>\n",
       "            "
      ],
      "text/plain": [
       "<IPython.core.display.HTML object>"
      ]
     },
     "metadata": {
      "tags": []
     },
     "output_type": "display_data"
    },
    {
     "name": "stdout",
     "output_type": "stream",
     "text": [
      "Epoch 1/25\n",
      "311/311 [==============================] - 26s 69ms/step - loss: 0.6408 - mae: 0.6227 - val_loss: 0.5336 - val_mae: 0.5655\n",
      "Epoch 2/25\n",
      "311/311 [==============================] - 20s 65ms/step - loss: 0.4170 - mae: 0.4956 - val_loss: 0.2871 - val_mae: 0.4196\n",
      "Epoch 3/25\n",
      "311/311 [==============================] - 20s 65ms/step - loss: 0.2661 - mae: 0.3937 - val_loss: 0.2470 - val_mae: 0.3962\n",
      "Epoch 4/25\n",
      "311/311 [==============================] - 20s 65ms/step - loss: 0.2207 - mae: 0.3573 - val_loss: 0.1962 - val_mae: 0.3489\n",
      "Epoch 5/25\n",
      "311/311 [==============================] - 20s 65ms/step - loss: 0.1990 - mae: 0.3382 - val_loss: 0.2079 - val_mae: 0.3460\n",
      "Epoch 6/25\n",
      "311/311 [==============================] - 20s 65ms/step - loss: 0.1798 - mae: 0.3248 - val_loss: 0.1643 - val_mae: 0.3178\n",
      "Epoch 7/25\n",
      "311/311 [==============================] - 20s 65ms/step - loss: 0.1683 - mae: 0.3127 - val_loss: 0.1488 - val_mae: 0.3031\n",
      "Epoch 8/25\n",
      "311/311 [==============================] - 20s 65ms/step - loss: 0.1607 - mae: 0.3083 - val_loss: 0.1379 - val_mae: 0.2917\n",
      "Epoch 9/25\n",
      "311/311 [==============================] - 21s 66ms/step - loss: 0.1547 - mae: 0.3010 - val_loss: 0.1520 - val_mae: 0.3024\n",
      "Epoch 10/25\n",
      "311/311 [==============================] - 20s 65ms/step - loss: 0.1474 - mae: 0.2940 - val_loss: 0.1381 - val_mae: 0.2886\n",
      "Epoch 11/25\n",
      "311/311 [==============================] - 20s 65ms/step - loss: 0.1414 - mae: 0.2890 - val_loss: 0.1382 - val_mae: 0.2912\n",
      "Epoch 12/25\n",
      "311/311 [==============================] - 20s 65ms/step - loss: 0.1407 - mae: 0.2888 - val_loss: 0.1531 - val_mae: 0.3037\n",
      "Epoch 13/25\n",
      "311/311 [==============================] - 20s 64ms/step - loss: 0.1381 - mae: 0.2833 - val_loss: 0.1609 - val_mae: 0.3100\n",
      "Epoch 14/25\n",
      "311/311 [==============================] - 20s 65ms/step - loss: 0.1334 - mae: 0.2814 - val_loss: 0.1292 - val_mae: 0.2802\n",
      "Epoch 15/25\n",
      "311/311 [==============================] - 20s 65ms/step - loss: 0.1293 - mae: 0.2765 - val_loss: 0.1338 - val_mae: 0.2848\n",
      "Epoch 16/25\n",
      "311/311 [==============================] - 20s 65ms/step - loss: 0.1292 - mae: 0.2743 - val_loss: 0.1443 - val_mae: 0.2946\n",
      "Epoch 17/25\n",
      "311/311 [==============================] - 20s 65ms/step - loss: 0.1285 - mae: 0.2740 - val_loss: 0.1285 - val_mae: 0.2798\n",
      "Epoch 18/25\n",
      "311/311 [==============================] - 20s 65ms/step - loss: 0.1256 - mae: 0.2726 - val_loss: 0.1384 - val_mae: 0.2895\n",
      "Epoch 19/25\n",
      "311/311 [==============================] - 20s 65ms/step - loss: 0.1214 - mae: 0.2668 - val_loss: 0.1327 - val_mae: 0.2812\n",
      "Epoch 20/25\n",
      "311/311 [==============================] - 20s 65ms/step - loss: 0.1188 - mae: 0.2645 - val_loss: 0.1264 - val_mae: 0.2768\n",
      "Epoch 21/25\n",
      "311/311 [==============================] - 20s 65ms/step - loss: 0.1202 - mae: 0.2661 - val_loss: 0.1298 - val_mae: 0.2803\n",
      "Epoch 22/25\n",
      "311/311 [==============================] - 20s 65ms/step - loss: 0.1215 - mae: 0.2679 - val_loss: 0.1274 - val_mae: 0.2790\n",
      "Epoch 23/25\n",
      "311/311 [==============================] - 20s 65ms/step - loss: 0.1153 - mae: 0.2606 - val_loss: 0.1300 - val_mae: 0.2837\n",
      "Epoch 24/25\n",
      "311/311 [==============================] - 20s 65ms/step - loss: 0.1199 - mae: 0.2657 - val_loss: 0.1181 - val_mae: 0.2692\n",
      "Epoch 25/25\n",
      "311/311 [==============================] - 20s 65ms/step - loss: 0.1118 - mae: 0.2557 - val_loss: 0.1187 - val_mae: 0.2684\n",
      "32/32 [==============================] - 1s 32ms/step - loss: 0.1785 - mae: 0.3240\n"
     ]
    },
    {
     "data": {
      "text/html": [
       "<br/>Waiting for W&B process to finish, PID 4291<br/>Program failed with code 1.  Press ctrl-c to abort syncing."
      ],
      "text/plain": [
       "<IPython.core.display.HTML object>"
      ]
     },
     "metadata": {
      "tags": []
     },
     "output_type": "display_data"
    },
    {
     "data": {
      "application/vnd.jupyter.widget-view+json": {
       "model_id": "fd0fc2b7bff040b5ac80fee34ef5ef88",
       "version_major": 2,
       "version_minor": 0
      },
      "text/plain": [
       "VBox(children=(Label(value=' 1.15MB of 1.15MB uploaded (0.00MB deduped)\\r'), FloatProgress(value=1.0, max=1.0)…"
      ]
     },
     "metadata": {
      "tags": []
     },
     "output_type": "display_data"
    },
    {
     "data": {
      "text/html": [
       "Find user logs for this run at: <code>/content/wandb/run-20210507_095258-v6xc7mjw/logs/debug.log</code>"
      ],
      "text/plain": [
       "<IPython.core.display.HTML object>"
      ]
     },
     "metadata": {
      "tags": []
     },
     "output_type": "display_data"
    },
    {
     "data": {
      "text/html": [
       "Find internal logs for this run at: <code>/content/wandb/run-20210507_095258-v6xc7mjw/logs/debug-internal.log</code>"
      ],
      "text/plain": [
       "<IPython.core.display.HTML object>"
      ]
     },
     "metadata": {
      "tags": []
     },
     "output_type": "display_data"
    },
    {
     "data": {
      "text/html": [
       "<h3>Run summary:</h3><br/><style>\n",
       "    table.wandb td:nth-child(1) { padding: 0 10px; text-align: right }\n",
       "    </style><table class=\"wandb\">\n",
       "<tr><td>epoch</td><td>24</td></tr><tr><td>loss</td><td>0.10931</td></tr><tr><td>mae</td><td>0.25551</td></tr><tr><td>val_loss</td><td>0.11873</td></tr><tr><td>val_mae</td><td>0.26842</td></tr><tr><td>_runtime</td><td>518</td></tr><tr><td>_timestamp</td><td>1620381697</td></tr><tr><td>_step</td><td>26</td></tr><tr><td>best_val_loss</td><td>0.11813</td></tr><tr><td>best_epoch</td><td>23</td></tr><tr><td>test_loss</td><td>0.17848</td></tr><tr><td>test_mae</td><td>0.32404</td></tr></table>"
      ],
      "text/plain": [
       "<IPython.core.display.HTML object>"
      ]
     },
     "metadata": {
      "tags": []
     },
     "output_type": "display_data"
    },
    {
     "data": {
      "text/html": [
       "<h3>Run history:</h3><br/><style>\n",
       "    table.wandb td:nth-child(1) { padding: 0 10px; text-align: right }\n",
       "    </style><table class=\"wandb\">\n",
       "<tr><td>epoch</td><td>▁▁▂▂▂▂▃▃▃▄▄▄▅▅▅▅▆▆▆▇▇▇▇██</td></tr><tr><td>loss</td><td>█▅▃▃▂▂▂▂▂▂▁▁▁▁▁▁▁▁▁▁▁▁▁▁▁</td></tr><tr><td>mae</td><td>█▅▄▃▃▂▂▂▂▂▂▂▂▁▁▁▁▁▁▁▁▁▁▁▁</td></tr><tr><td>val_loss</td><td>█▄▃▂▃▂▂▁▂▁▁▂▂▁▁▁▁▁▁▁▁▁▁▁▁</td></tr><tr><td>val_mae</td><td>█▅▄▃▃▂▂▂▂▁▂▂▂▁▁▂▁▁▁▁▁▁▁▁▁</td></tr><tr><td>_runtime</td><td>▁▁▂▂▂▂▃▃▃▄▄▄▄▅▅▅▆▆▆▇▇▇▇████</td></tr><tr><td>_timestamp</td><td>▁▁▂▂▂▂▃▃▃▄▄▄▄▅▅▅▆▆▆▇▇▇▇████</td></tr><tr><td>_step</td><td>▁▁▂▂▂▂▃▃▃▃▄▄▄▅▅▅▅▆▆▆▆▇▇▇▇██</td></tr><tr><td>test_loss</td><td>▁</td></tr><tr><td>test_mae</td><td>▁</td></tr></table><br/>"
      ],
      "text/plain": [
       "<IPython.core.display.HTML object>"
      ]
     },
     "metadata": {
      "tags": []
     },
     "output_type": "display_data"
    },
    {
     "data": {
      "text/html": [
       "Synced 5 W&B file(s), 1 media file(s), 0 artifact file(s) and 1 other file(s)"
      ],
      "text/plain": [
       "<IPython.core.display.HTML object>"
      ]
     },
     "metadata": {
      "tags": []
     },
     "output_type": "display_data"
    },
    {
     "data": {
      "text/html": [
       "\n",
       "                    <br/>Synced <strong style=\"color:#cdcd00\">young-sweep-17</strong>: <a href=\"https://wandb.ai/nbvanting/thesis/runs/v6xc7mjw\" target=\"_blank\">https://wandb.ai/nbvanting/thesis/runs/v6xc7mjw</a><br/>\n",
       "                "
      ],
      "text/plain": [
       "<IPython.core.display.HTML object>"
      ]
     },
     "metadata": {
      "tags": []
     },
     "output_type": "display_data"
    },
    {
     "name": "stderr",
     "output_type": "stream",
     "text": [
      "Run v6xc7mjw errored: IndexError('list index out of range')\n",
      "\u001b[34m\u001b[1mwandb\u001b[0m: \u001b[32m\u001b[41mERROR\u001b[0m Run v6xc7mjw errored: IndexError('list index out of range')\n",
      "\u001b[34m\u001b[1mwandb\u001b[0m: Agent Starting Run: h2ouoont with config:\n",
      "\u001b[34m\u001b[1mwandb\u001b[0m: \tactivation_cnn: relu\n",
      "\u001b[34m\u001b[1mwandb\u001b[0m: \tactivation_gru: tanh\n",
      "\u001b[34m\u001b[1mwandb\u001b[0m: \tbatch_size: 111\n",
      "\u001b[34m\u001b[1mwandb\u001b[0m: \tcnn_lay_2: True\n",
      "\u001b[34m\u001b[1mwandb\u001b[0m: \tcnn_lay_3: True\n",
      "\u001b[34m\u001b[1mwandb\u001b[0m: \tcnn_layer_size_1: 239\n",
      "\u001b[34m\u001b[1mwandb\u001b[0m: \tcnn_layer_size_2: 87\n",
      "\u001b[34m\u001b[1mwandb\u001b[0m: \tcnn_layer_size_3: 194\n",
      "\u001b[34m\u001b[1mwandb\u001b[0m: \tdataset: strib\n",
      "\u001b[34m\u001b[1mwandb\u001b[0m: \tdropout: 0.17205342189146838\n",
      "\u001b[34m\u001b[1mwandb\u001b[0m: \tepochs: 25\n",
      "\u001b[34m\u001b[1mwandb\u001b[0m: \tgru_lay_1: True\n",
      "\u001b[34m\u001b[1mwandb\u001b[0m: \tgru_lay_2: False\n",
      "\u001b[34m\u001b[1mwandb\u001b[0m: \tgru_layer_size_1: 231\n",
      "\u001b[34m\u001b[1mwandb\u001b[0m: \tgru_layer_size_2: 41\n",
      "\u001b[34m\u001b[1mwandb\u001b[0m: \tgru_layer_size_3: 55\n",
      "\u001b[34m\u001b[1mwandb\u001b[0m: \tkernelsize: 5\n",
      "\u001b[34m\u001b[1mwandb\u001b[0m: \tlearning_rate: 0.0017723208261834127\n",
      "\u001b[34m\u001b[1mwandb\u001b[0m: \tlookback: 744\n",
      "\u001b[34m\u001b[1mwandb\u001b[0m: \tmomentum: 0.5387575062108068\n",
      "\u001b[34m\u001b[1mwandb\u001b[0m: \tnum_cnn_layers: 2\n",
      "\u001b[34m\u001b[1mwandb\u001b[0m: \tnum_features: 9\n",
      "\u001b[34m\u001b[1mwandb\u001b[0m: \tnum_gru_layers: 2\n",
      "\u001b[34m\u001b[1mwandb\u001b[0m: \toptimizer: sgd\n",
      "\u001b[34m\u001b[1mwandb\u001b[0m: \tsplitmethod: offset\n",
      "\u001b[34m\u001b[1mwandb\u001b[0m: \tsplitrate: 0.8\n",
      "\u001b[34m\u001b[1mwandb\u001b[0m: \u001b[33mWARNING\u001b[0m Ignored wandb.init() arg project when running a sweep\n"
     ]
    },
    {
     "data": {
      "text/html": [
       "\n",
       "                Tracking run with wandb version 0.10.29<br/>\n",
       "                Syncing run <strong style=\"color:#cdcd00\">charmed-sweep-18</strong> to <a href=\"https://wandb.ai\" target=\"_blank\">Weights & Biases</a> <a href=\"https://docs.wandb.com/integrations/jupyter.html\" target=\"_blank\">(Documentation)</a>.<br/>\n",
       "                Project page: <a href=\"https://wandb.ai/nbvanting/thesis\" target=\"_blank\">https://wandb.ai/nbvanting/thesis</a><br/>\n",
       "                Sweep page: <a href=\"https://wandb.ai/nbvanting/thesis/sweeps/xjdtj3eo\" target=\"_blank\">https://wandb.ai/nbvanting/thesis/sweeps/xjdtj3eo</a><br/>\n",
       "Run page: <a href=\"https://wandb.ai/nbvanting/thesis/runs/h2ouoont\" target=\"_blank\">https://wandb.ai/nbvanting/thesis/runs/h2ouoont</a><br/>\n",
       "                Run data is saved locally in <code>/content/wandb/run-20210507_100142-h2ouoont</code><br/><br/>\n",
       "            "
      ],
      "text/plain": [
       "<IPython.core.display.HTML object>"
      ]
     },
     "metadata": {
      "tags": []
     },
     "output_type": "display_data"
    },
    {
     "name": "stdout",
     "output_type": "stream",
     "text": [
      "Epoch 1/25\n",
      "132/132 [==============================] - 14s 80ms/step - loss: 0.8180 - mae: 0.7201 - val_loss: 0.8342 - val_mae: 0.7256\n",
      "Epoch 2/25\n",
      "132/132 [==============================] - 10s 74ms/step - loss: 0.7244 - mae: 0.6762 - val_loss: 0.8180 - val_mae: 0.7163\n",
      "Epoch 3/25\n",
      "132/132 [==============================] - 10s 74ms/step - loss: 0.7021 - mae: 0.6653 - val_loss: 0.7908 - val_mae: 0.7098\n",
      "Epoch 4/25\n",
      "132/132 [==============================] - 10s 73ms/step - loss: 0.6687 - mae: 0.6490 - val_loss: 0.7351 - val_mae: 0.6792\n",
      "Epoch 5/25\n",
      "132/132 [==============================] - 10s 75ms/step - loss: 0.6149 - mae: 0.6236 - val_loss: 0.6287 - val_mae: 0.6340\n",
      "Epoch 6/25\n",
      "132/132 [==============================] - 10s 74ms/step - loss: 0.5110 - mae: 0.5747 - val_loss: 0.4606 - val_mae: 0.5466\n",
      "Epoch 7/25\n",
      "132/132 [==============================] - 10s 73ms/step - loss: 0.3829 - mae: 0.5036 - val_loss: 0.3439 - val_mae: 0.4793\n",
      "Epoch 8/25\n",
      "132/132 [==============================] - 10s 73ms/step - loss: 0.3066 - mae: 0.4492 - val_loss: 0.3066 - val_mae: 0.4451\n",
      "Epoch 9/25\n",
      "132/132 [==============================] - 10s 72ms/step - loss: 0.2702 - mae: 0.4158 - val_loss: 0.2841 - val_mae: 0.4245\n",
      "Epoch 10/25\n",
      "132/132 [==============================] - 10s 74ms/step - loss: 0.2488 - mae: 0.3964 - val_loss: 0.2638 - val_mae: 0.3957\n",
      "Epoch 11/25\n",
      "132/132 [==============================] - 10s 74ms/step - loss: 0.2337 - mae: 0.3803 - val_loss: 0.2600 - val_mae: 0.3837\n",
      "Epoch 12/25\n",
      "132/132 [==============================] - 10s 75ms/step - loss: 0.2160 - mae: 0.3641 - val_loss: 0.2379 - val_mae: 0.3684\n",
      "Epoch 13/25\n",
      "132/132 [==============================] - 10s 74ms/step - loss: 0.2022 - mae: 0.3508 - val_loss: 0.2276 - val_mae: 0.3689\n",
      "Epoch 14/25\n",
      "132/132 [==============================] - 10s 75ms/step - loss: 0.1919 - mae: 0.3401 - val_loss: 0.2155 - val_mae: 0.3530\n",
      "Epoch 15/25\n",
      "132/132 [==============================] - 10s 74ms/step - loss: 0.1848 - mae: 0.3326 - val_loss: 0.2101 - val_mae: 0.3529\n",
      "Epoch 16/25\n",
      "132/132 [==============================] - 10s 74ms/step - loss: 0.1687 - mae: 0.3185 - val_loss: 0.2075 - val_mae: 0.3338\n",
      "Epoch 17/25\n",
      "132/132 [==============================] - 10s 73ms/step - loss: 0.1628 - mae: 0.3129 - val_loss: 0.1858 - val_mae: 0.3174\n",
      "Epoch 18/25\n",
      "132/132 [==============================] - 10s 73ms/step - loss: 0.1506 - mae: 0.2971 - val_loss: 0.1829 - val_mae: 0.3199\n",
      "Epoch 19/25\n",
      "132/132 [==============================] - 10s 75ms/step - loss: 0.1437 - mae: 0.2907 - val_loss: 0.1732 - val_mae: 0.3063\n",
      "Epoch 20/25\n",
      "132/132 [==============================] - 10s 74ms/step - loss: 0.1382 - mae: 0.2848 - val_loss: 0.1734 - val_mae: 0.3097\n",
      "Epoch 21/25\n",
      "132/132 [==============================] - 10s 74ms/step - loss: 0.1323 - mae: 0.2794 - val_loss: 0.1657 - val_mae: 0.2994\n",
      "Epoch 22/25\n",
      "132/132 [==============================] - 10s 74ms/step - loss: 0.1309 - mae: 0.2770 - val_loss: 0.1612 - val_mae: 0.2949\n",
      "Epoch 23/25\n",
      "132/132 [==============================] - 10s 76ms/step - loss: 0.1262 - mae: 0.2724 - val_loss: 0.1706 - val_mae: 0.3083\n",
      "Epoch 24/25\n",
      "132/132 [==============================] - 10s 74ms/step - loss: 0.1212 - mae: 0.2671 - val_loss: 0.1576 - val_mae: 0.2920\n",
      "Epoch 25/25\n",
      "132/132 [==============================] - 10s 74ms/step - loss: 0.1208 - mae: 0.2672 - val_loss: 0.1621 - val_mae: 0.2982\n",
      "14/14 [==============================] - 1s 35ms/step - loss: 0.1372 - mae: 0.2826\n"
     ]
    },
    {
     "data": {
      "text/html": [
       "<br/>Waiting for W&B process to finish, PID 4632<br/>Program failed with code 1.  Press ctrl-c to abort syncing."
      ],
      "text/plain": [
       "<IPython.core.display.HTML object>"
      ]
     },
     "metadata": {
      "tags": []
     },
     "output_type": "display_data"
    },
    {
     "data": {
      "application/vnd.jupyter.widget-view+json": {
       "model_id": "36245ce09c6d41a48a9a5593ac3cb25c",
       "version_major": 2,
       "version_minor": 0
      },
      "text/plain": [
       "VBox(children=(Label(value=' 4.21MB of 4.21MB uploaded (0.00MB deduped)\\r'), FloatProgress(value=1.0, max=1.0)…"
      ]
     },
     "metadata": {
      "tags": []
     },
     "output_type": "display_data"
    },
    {
     "data": {
      "text/html": [
       "Find user logs for this run at: <code>/content/wandb/run-20210507_100142-h2ouoont/logs/debug.log</code>"
      ],
      "text/plain": [
       "<IPython.core.display.HTML object>"
      ]
     },
     "metadata": {
      "tags": []
     },
     "output_type": "display_data"
    },
    {
     "data": {
      "text/html": [
       "Find internal logs for this run at: <code>/content/wandb/run-20210507_100142-h2ouoont/logs/debug-internal.log</code>"
      ],
      "text/plain": [
       "<IPython.core.display.HTML object>"
      ]
     },
     "metadata": {
      "tags": []
     },
     "output_type": "display_data"
    },
    {
     "data": {
      "text/html": [
       "<h3>Run summary:</h3><br/><style>\n",
       "    table.wandb td:nth-child(1) { padding: 0 10px; text-align: right }\n",
       "    </style><table class=\"wandb\">\n",
       "<tr><td>epoch</td><td>24</td></tr><tr><td>loss</td><td>0.12161</td></tr><tr><td>mae</td><td>0.26751</td></tr><tr><td>val_loss</td><td>0.16209</td></tr><tr><td>val_mae</td><td>0.29822</td></tr><tr><td>_runtime</td><td>258</td></tr><tr><td>_timestamp</td><td>1620381960</td></tr><tr><td>_step</td><td>26</td></tr><tr><td>best_val_loss</td><td>0.15762</td></tr><tr><td>best_epoch</td><td>23</td></tr><tr><td>test_loss</td><td>0.13719</td></tr><tr><td>test_mae</td><td>0.28262</td></tr></table>"
      ],
      "text/plain": [
       "<IPython.core.display.HTML object>"
      ]
     },
     "metadata": {
      "tags": []
     },
     "output_type": "display_data"
    },
    {
     "data": {
      "text/html": [
       "<h3>Run history:</h3><br/><style>\n",
       "    table.wandb td:nth-child(1) { padding: 0 10px; text-align: right }\n",
       "    </style><table class=\"wandb\">\n",
       "<tr><td>epoch</td><td>▁▁▂▂▂▂▃▃▃▄▄▄▅▅▅▅▆▆▆▇▇▇▇██</td></tr><tr><td>loss</td><td>██▇▇▆▅▃▃▃▂▂▂▂▂▂▂▁▁▁▁▁▁▁▁▁</td></tr><tr><td>mae</td><td>██▇▇▇▆▅▄▃▃▃▃▂▂▂▂▂▂▁▁▁▁▁▁▁</td></tr><tr><td>val_loss</td><td>███▇▆▄▃▃▂▂▂▂▂▂▂▂▁▁▁▁▁▁▁▁▁</td></tr><tr><td>val_mae</td><td>███▇▇▅▄▃▃▃▂▂▂▂▂▂▁▁▁▁▁▁▁▁▁</td></tr><tr><td>_runtime</td><td>▁▁▂▂▂▂▃▃▃▄▄▄▅▅▅▅▆▆▆▇▇▇▇████</td></tr><tr><td>_timestamp</td><td>▁▁▂▂▂▂▃▃▃▄▄▄▅▅▅▅▆▆▆▇▇▇▇████</td></tr><tr><td>_step</td><td>▁▁▂▂▂▂▃▃▃▃▄▄▄▅▅▅▅▆▆▆▆▇▇▇▇██</td></tr><tr><td>test_loss</td><td>▁</td></tr><tr><td>test_mae</td><td>▁</td></tr></table><br/>"
      ],
      "text/plain": [
       "<IPython.core.display.HTML object>"
      ]
     },
     "metadata": {
      "tags": []
     },
     "output_type": "display_data"
    },
    {
     "data": {
      "text/html": [
       "Synced 5 W&B file(s), 1 media file(s), 0 artifact file(s) and 1 other file(s)"
      ],
      "text/plain": [
       "<IPython.core.display.HTML object>"
      ]
     },
     "metadata": {
      "tags": []
     },
     "output_type": "display_data"
    },
    {
     "data": {
      "text/html": [
       "\n",
       "                    <br/>Synced <strong style=\"color:#cdcd00\">charmed-sweep-18</strong>: <a href=\"https://wandb.ai/nbvanting/thesis/runs/h2ouoont\" target=\"_blank\">https://wandb.ai/nbvanting/thesis/runs/h2ouoont</a><br/>\n",
       "                "
      ],
      "text/plain": [
       "<IPython.core.display.HTML object>"
      ]
     },
     "metadata": {
      "tags": []
     },
     "output_type": "display_data"
    },
    {
     "name": "stderr",
     "output_type": "stream",
     "text": [
      "Run h2ouoont errored: IndexError('list index out of range')\n",
      "\u001b[34m\u001b[1mwandb\u001b[0m: \u001b[32m\u001b[41mERROR\u001b[0m Run h2ouoont errored: IndexError('list index out of range')\n",
      "\u001b[34m\u001b[1mwandb\u001b[0m: Agent Starting Run: ritoa2vi with config:\n",
      "\u001b[34m\u001b[1mwandb\u001b[0m: \tactivation_cnn: relu\n",
      "\u001b[34m\u001b[1mwandb\u001b[0m: \tactivation_gru: tanh\n",
      "\u001b[34m\u001b[1mwandb\u001b[0m: \tbatch_size: 58\n",
      "\u001b[34m\u001b[1mwandb\u001b[0m: \tcnn_lay_2: False\n",
      "\u001b[34m\u001b[1mwandb\u001b[0m: \tcnn_lay_3: True\n",
      "\u001b[34m\u001b[1mwandb\u001b[0m: \tcnn_layer_size_1: 48\n",
      "\u001b[34m\u001b[1mwandb\u001b[0m: \tcnn_layer_size_2: 157\n",
      "\u001b[34m\u001b[1mwandb\u001b[0m: \tcnn_layer_size_3: 228\n",
      "\u001b[34m\u001b[1mwandb\u001b[0m: \tdataset: strib\n",
      "\u001b[34m\u001b[1mwandb\u001b[0m: \tdropout: 0.4709829990664955\n",
      "\u001b[34m\u001b[1mwandb\u001b[0m: \tepochs: 25\n",
      "\u001b[34m\u001b[1mwandb\u001b[0m: \tgru_lay_1: False\n",
      "\u001b[34m\u001b[1mwandb\u001b[0m: \tgru_lay_2: True\n",
      "\u001b[34m\u001b[1mwandb\u001b[0m: \tgru_layer_size_1: 85\n",
      "\u001b[34m\u001b[1mwandb\u001b[0m: \tgru_layer_size_2: 72\n",
      "\u001b[34m\u001b[1mwandb\u001b[0m: \tgru_layer_size_3: 80\n",
      "\u001b[34m\u001b[1mwandb\u001b[0m: \tkernelsize: 5\n",
      "\u001b[34m\u001b[1mwandb\u001b[0m: \tlearning_rate: 0.024075851716431573\n",
      "\u001b[34m\u001b[1mwandb\u001b[0m: \tlookback: 744\n",
      "\u001b[34m\u001b[1mwandb\u001b[0m: \tmomentum: 0.5376491257512553\n",
      "\u001b[34m\u001b[1mwandb\u001b[0m: \tnum_cnn_layers: 2\n",
      "\u001b[34m\u001b[1mwandb\u001b[0m: \tnum_features: 9\n",
      "\u001b[34m\u001b[1mwandb\u001b[0m: \tnum_gru_layers: 2\n",
      "\u001b[34m\u001b[1mwandb\u001b[0m: \toptimizer: sgd\n",
      "\u001b[34m\u001b[1mwandb\u001b[0m: \tsplitmethod: offset\n",
      "\u001b[34m\u001b[1mwandb\u001b[0m: \tsplitrate: 0.8\n",
      "\u001b[34m\u001b[1mwandb\u001b[0m: \u001b[33mWARNING\u001b[0m Ignored wandb.init() arg project when running a sweep\n"
     ]
    },
    {
     "data": {
      "text/html": [
       "\n",
       "                Tracking run with wandb version 0.10.29<br/>\n",
       "                Syncing run <strong style=\"color:#cdcd00\">silver-sweep-19</strong> to <a href=\"https://wandb.ai\" target=\"_blank\">Weights & Biases</a> <a href=\"https://docs.wandb.com/integrations/jupyter.html\" target=\"_blank\">(Documentation)</a>.<br/>\n",
       "                Project page: <a href=\"https://wandb.ai/nbvanting/thesis\" target=\"_blank\">https://wandb.ai/nbvanting/thesis</a><br/>\n",
       "                Sweep page: <a href=\"https://wandb.ai/nbvanting/thesis/sweeps/xjdtj3eo\" target=\"_blank\">https://wandb.ai/nbvanting/thesis/sweeps/xjdtj3eo</a><br/>\n",
       "Run page: <a href=\"https://wandb.ai/nbvanting/thesis/runs/ritoa2vi\" target=\"_blank\">https://wandb.ai/nbvanting/thesis/runs/ritoa2vi</a><br/>\n",
       "                Run data is saved locally in <code>/content/wandb/run-20210507_100606-ritoa2vi</code><br/><br/>\n",
       "            "
      ],
      "text/plain": [
       "<IPython.core.display.HTML object>"
      ]
     },
     "metadata": {
      "tags": []
     },
     "output_type": "display_data"
    },
    {
     "name": "stdout",
     "output_type": "stream",
     "text": [
      "Epoch 1/25\n",
      "253/253 [==============================] - 14s 42ms/step - loss: 0.6434 - mae: 0.6286 - val_loss: 1.5360 - val_mae: 1.0686\n",
      "Epoch 2/25\n",
      "253/253 [==============================] - 10s 39ms/step - loss: 0.3888 - mae: 0.4744 - val_loss: 0.2229 - val_mae: 0.3604\n",
      "Epoch 3/25\n",
      "253/253 [==============================] - 10s 39ms/step - loss: 0.2053 - mae: 0.3464 - val_loss: 0.3842 - val_mae: 0.5257\n",
      "Epoch 4/25\n",
      "253/253 [==============================] - 10s 39ms/step - loss: 0.1813 - mae: 0.3242 - val_loss: 0.2173 - val_mae: 0.3705\n",
      "Epoch 5/25\n",
      "253/253 [==============================] - 10s 40ms/step - loss: 0.1536 - mae: 0.3005 - val_loss: 0.1425 - val_mae: 0.2876\n",
      "Epoch 6/25\n",
      "253/253 [==============================] - 10s 39ms/step - loss: 0.1343 - mae: 0.2830 - val_loss: 0.2992 - val_mae: 0.4234\n",
      "Epoch 7/25\n",
      "253/253 [==============================] - 10s 39ms/step - loss: 0.1701 - mae: 0.3123 - val_loss: 0.1592 - val_mae: 0.3123\n",
      "Epoch 8/25\n",
      "253/253 [==============================] - 10s 39ms/step - loss: 0.1313 - mae: 0.2765 - val_loss: 0.1530 - val_mae: 0.3086\n",
      "Epoch 9/25\n",
      "253/253 [==============================] - 10s 39ms/step - loss: 0.1213 - mae: 0.2662 - val_loss: 0.2086 - val_mae: 0.3749\n",
      "Epoch 10/25\n",
      "253/253 [==============================] - 10s 39ms/step - loss: 0.1236 - mae: 0.2682 - val_loss: 0.4570 - val_mae: 0.5364\n",
      "Epoch 11/25\n",
      "253/253 [==============================] - 10s 39ms/step - loss: 0.1458 - mae: 0.2877 - val_loss: 0.2202 - val_mae: 0.3676\n",
      "Epoch 12/25\n",
      "253/253 [==============================] - 10s 39ms/step - loss: 0.1229 - mae: 0.2674 - val_loss: 0.1240 - val_mae: 0.2709\n",
      "Epoch 13/25\n",
      "253/253 [==============================] - 10s 39ms/step - loss: 0.1075 - mae: 0.2495 - val_loss: 0.1436 - val_mae: 0.2805\n",
      "Epoch 14/25\n",
      "253/253 [==============================] - 10s 39ms/step - loss: 0.1078 - mae: 0.2492 - val_loss: 0.1702 - val_mae: 0.3024\n",
      "Epoch 15/25\n",
      "253/253 [==============================] - 10s 39ms/step - loss: 0.1113 - mae: 0.2543 - val_loss: 0.1243 - val_mae: 0.2672\n",
      "Epoch 16/25\n",
      "253/253 [==============================] - 10s 39ms/step - loss: 0.1053 - mae: 0.2478 - val_loss: 0.1733 - val_mae: 0.3064\n",
      "Epoch 17/25\n",
      "253/253 [==============================] - 10s 40ms/step - loss: 0.1102 - mae: 0.2526 - val_loss: 0.3904 - val_mae: 0.4878\n",
      "Epoch 18/25\n",
      "253/253 [==============================] - 10s 39ms/step - loss: 0.1287 - mae: 0.2689 - val_loss: 0.1314 - val_mae: 0.2768\n",
      "Epoch 19/25\n",
      "253/253 [==============================] - 10s 39ms/step - loss: 0.0995 - mae: 0.2415 - val_loss: 0.1988 - val_mae: 0.3493\n",
      "Epoch 20/25\n",
      "253/253 [==============================] - 10s 40ms/step - loss: 0.0996 - mae: 0.2414 - val_loss: 0.1294 - val_mae: 0.2736\n",
      "Epoch 21/25\n",
      "253/253 [==============================] - 11s 41ms/step - loss: 0.0960 - mae: 0.2360 - val_loss: 0.1165 - val_mae: 0.2521\n",
      "Epoch 22/25\n",
      "253/253 [==============================] - 10s 39ms/step - loss: 0.0926 - mae: 0.2322 - val_loss: 0.1423 - val_mae: 0.2901\n",
      "Epoch 23/25\n",
      "253/253 [==============================] - 10s 39ms/step - loss: 0.0998 - mae: 0.2407 - val_loss: 0.3991 - val_mae: 0.5038\n",
      "Epoch 24/25\n",
      "253/253 [==============================] - 10s 40ms/step - loss: 0.1095 - mae: 0.2501 - val_loss: 0.1119 - val_mae: 0.2513\n",
      "Epoch 25/25\n",
      "253/253 [==============================] - 10s 39ms/step - loss: 0.0901 - mae: 0.2282 - val_loss: 0.1159 - val_mae: 0.2586\n",
      "26/26 [==============================] - 1s 21ms/step - loss: 0.2332 - mae: 0.3595\n"
     ]
    },
    {
     "data": {
      "text/html": [
       "<br/>Waiting for W&B process to finish, PID 4953<br/>Program failed with code 1.  Press ctrl-c to abort syncing."
      ],
      "text/plain": [
       "<IPython.core.display.HTML object>"
      ]
     },
     "metadata": {
      "tags": []
     },
     "output_type": "display_data"
    },
    {
     "data": {
      "application/vnd.jupyter.widget-view+json": {
       "model_id": "01e9ab47b2f440b197cb196405dae3c7",
       "version_major": 2,
       "version_minor": 0
      },
      "text/plain": [
       "VBox(children=(Label(value=' 1.28MB of 1.28MB uploaded (0.00MB deduped)\\r'), FloatProgress(value=1.0, max=1.0)…"
      ]
     },
     "metadata": {
      "tags": []
     },
     "output_type": "display_data"
    },
    {
     "data": {
      "text/html": [
       "Find user logs for this run at: <code>/content/wandb/run-20210507_100606-ritoa2vi/logs/debug.log</code>"
      ],
      "text/plain": [
       "<IPython.core.display.HTML object>"
      ]
     },
     "metadata": {
      "tags": []
     },
     "output_type": "display_data"
    },
    {
     "data": {
      "text/html": [
       "Find internal logs for this run at: <code>/content/wandb/run-20210507_100606-ritoa2vi/logs/debug-internal.log</code>"
      ],
      "text/plain": [
       "<IPython.core.display.HTML object>"
      ]
     },
     "metadata": {
      "tags": []
     },
     "output_type": "display_data"
    },
    {
     "data": {
      "text/html": [
       "<h3>Run summary:</h3><br/><style>\n",
       "    table.wandb td:nth-child(1) { padding: 0 10px; text-align: right }\n",
       "    </style><table class=\"wandb\">\n",
       "<tr><td>epoch</td><td>24</td></tr><tr><td>loss</td><td>0.08986</td></tr><tr><td>mae</td><td>0.22781</td></tr><tr><td>val_loss</td><td>0.11592</td></tr><tr><td>val_mae</td><td>0.25859</td></tr><tr><td>_runtime</td><td>260</td></tr><tr><td>_timestamp</td><td>1620382226</td></tr><tr><td>_step</td><td>26</td></tr><tr><td>best_val_loss</td><td>0.11189</td></tr><tr><td>best_epoch</td><td>23</td></tr><tr><td>test_loss</td><td>0.23321</td></tr><tr><td>test_mae</td><td>0.35948</td></tr></table>"
      ],
      "text/plain": [
       "<IPython.core.display.HTML object>"
      ]
     },
     "metadata": {
      "tags": []
     },
     "output_type": "display_data"
    },
    {
     "data": {
      "text/html": [
       "<h3>Run history:</h3><br/><style>\n",
       "    table.wandb td:nth-child(1) { padding: 0 10px; text-align: right }\n",
       "    </style><table class=\"wandb\">\n",
       "<tr><td>epoch</td><td>▁▁▂▂▂▂▃▃▃▄▄▄▅▅▅▅▆▆▆▇▇▇▇██</td></tr><tr><td>loss</td><td>█▅▃▂▂▂▂▂▁▁▂▁▁▁▁▁▁▁▁▁▁▁▁▁▁</td></tr><tr><td>mae</td><td>█▅▃▃▂▂▂▂▂▂▂▂▁▁▁▁▁▁▁▁▁▁▁▁▁</td></tr><tr><td>val_loss</td><td>█▂▂▂▁▂▁▁▁▃▂▁▁▁▁▁▂▁▁▁▁▁▂▁▁</td></tr><tr><td>val_mae</td><td>█▂▃▂▁▂▂▁▂▃▂▁▁▁▁▁▃▁▂▁▁▁▃▁▁</td></tr><tr><td>_runtime</td><td>▁▁▂▂▂▂▃▃▃▄▄▄▄▅▅▅▆▆▆▇▇▇▇████</td></tr><tr><td>_timestamp</td><td>▁▁▂▂▂▂▃▃▃▄▄▄▄▅▅▅▆▆▆▇▇▇▇████</td></tr><tr><td>_step</td><td>▁▁▂▂▂▂▃▃▃▃▄▄▄▅▅▅▅▆▆▆▆▇▇▇▇██</td></tr><tr><td>test_loss</td><td>▁</td></tr><tr><td>test_mae</td><td>▁</td></tr></table><br/>"
      ],
      "text/plain": [
       "<IPython.core.display.HTML object>"
      ]
     },
     "metadata": {
      "tags": []
     },
     "output_type": "display_data"
    },
    {
     "data": {
      "text/html": [
       "Synced 5 W&B file(s), 1 media file(s), 0 artifact file(s) and 1 other file(s)"
      ],
      "text/plain": [
       "<IPython.core.display.HTML object>"
      ]
     },
     "metadata": {
      "tags": []
     },
     "output_type": "display_data"
    },
    {
     "data": {
      "text/html": [
       "\n",
       "                    <br/>Synced <strong style=\"color:#cdcd00\">silver-sweep-19</strong>: <a href=\"https://wandb.ai/nbvanting/thesis/runs/ritoa2vi\" target=\"_blank\">https://wandb.ai/nbvanting/thesis/runs/ritoa2vi</a><br/>\n",
       "                "
      ],
      "text/plain": [
       "<IPython.core.display.HTML object>"
      ]
     },
     "metadata": {
      "tags": []
     },
     "output_type": "display_data"
    },
    {
     "name": "stderr",
     "output_type": "stream",
     "text": [
      "Run ritoa2vi errored: IndexError('list index out of range')\n",
      "\u001b[34m\u001b[1mwandb\u001b[0m: \u001b[32m\u001b[41mERROR\u001b[0m Run ritoa2vi errored: IndexError('list index out of range')\n",
      "\u001b[34m\u001b[1mwandb\u001b[0m: Agent Starting Run: w4h2806f with config:\n",
      "\u001b[34m\u001b[1mwandb\u001b[0m: \tactivation_cnn: relu\n",
      "\u001b[34m\u001b[1mwandb\u001b[0m: \tactivation_gru: tanh\n",
      "\u001b[34m\u001b[1mwandb\u001b[0m: \tbatch_size: 75\n",
      "\u001b[34m\u001b[1mwandb\u001b[0m: \tcnn_lay_2: True\n",
      "\u001b[34m\u001b[1mwandb\u001b[0m: \tcnn_lay_3: True\n",
      "\u001b[34m\u001b[1mwandb\u001b[0m: \tcnn_layer_size_1: 87\n",
      "\u001b[34m\u001b[1mwandb\u001b[0m: \tcnn_layer_size_2: 33\n",
      "\u001b[34m\u001b[1mwandb\u001b[0m: \tcnn_layer_size_3: 187\n",
      "\u001b[34m\u001b[1mwandb\u001b[0m: \tdataset: strib\n",
      "\u001b[34m\u001b[1mwandb\u001b[0m: \tdropout: 0.2532731041299906\n",
      "\u001b[34m\u001b[1mwandb\u001b[0m: \tepochs: 25\n",
      "\u001b[34m\u001b[1mwandb\u001b[0m: \tgru_lay_1: False\n",
      "\u001b[34m\u001b[1mwandb\u001b[0m: \tgru_lay_2: True\n",
      "\u001b[34m\u001b[1mwandb\u001b[0m: \tgru_layer_size_1: 90\n",
      "\u001b[34m\u001b[1mwandb\u001b[0m: \tgru_layer_size_2: 159\n",
      "\u001b[34m\u001b[1mwandb\u001b[0m: \tgru_layer_size_3: 133\n",
      "\u001b[34m\u001b[1mwandb\u001b[0m: \tkernelsize: 3\n",
      "\u001b[34m\u001b[1mwandb\u001b[0m: \tlearning_rate: 0.025181970794986113\n",
      "\u001b[34m\u001b[1mwandb\u001b[0m: \tlookback: 744\n",
      "\u001b[34m\u001b[1mwandb\u001b[0m: \tmomentum: 0.8180758443786968\n",
      "\u001b[34m\u001b[1mwandb\u001b[0m: \tnum_cnn_layers: 2\n",
      "\u001b[34m\u001b[1mwandb\u001b[0m: \tnum_features: 9\n",
      "\u001b[34m\u001b[1mwandb\u001b[0m: \tnum_gru_layers: 2\n",
      "\u001b[34m\u001b[1mwandb\u001b[0m: \toptimizer: sgd\n",
      "\u001b[34m\u001b[1mwandb\u001b[0m: \tsplitmethod: standard\n",
      "\u001b[34m\u001b[1mwandb\u001b[0m: \tsplitrate: 0.8\n",
      "\u001b[34m\u001b[1mwandb\u001b[0m: \u001b[33mWARNING\u001b[0m Ignored wandb.init() arg project when running a sweep\n"
     ]
    },
    {
     "data": {
      "text/html": [
       "\n",
       "                Tracking run with wandb version 0.10.29<br/>\n",
       "                Syncing run <strong style=\"color:#cdcd00\">solar-sweep-20</strong> to <a href=\"https://wandb.ai\" target=\"_blank\">Weights & Biases</a> <a href=\"https://docs.wandb.com/integrations/jupyter.html\" target=\"_blank\">(Documentation)</a>.<br/>\n",
       "                Project page: <a href=\"https://wandb.ai/nbvanting/thesis\" target=\"_blank\">https://wandb.ai/nbvanting/thesis</a><br/>\n",
       "                Sweep page: <a href=\"https://wandb.ai/nbvanting/thesis/sweeps/xjdtj3eo\" target=\"_blank\">https://wandb.ai/nbvanting/thesis/sweeps/xjdtj3eo</a><br/>\n",
       "Run page: <a href=\"https://wandb.ai/nbvanting/thesis/runs/w4h2806f\" target=\"_blank\">https://wandb.ai/nbvanting/thesis/runs/w4h2806f</a><br/>\n",
       "                Run data is saved locally in <code>/content/wandb/run-20210507_101031-w4h2806f</code><br/><br/>\n",
       "            "
      ],
      "text/plain": [
       "<IPython.core.display.HTML object>"
      ]
     },
     "metadata": {
      "tags": []
     },
     "output_type": "display_data"
    },
    {
     "name": "stdout",
     "output_type": "stream",
     "text": [
      "Epoch 1/25\n",
      "209/209 [==============================] - 14s 48ms/step - loss: 0.7080 - mae: 0.6645 - val_loss: 0.4660 - val_mae: 0.5426\n",
      "Epoch 2/25\n",
      "209/209 [==============================] - 9s 43ms/step - loss: 0.2102 - mae: 0.3585 - val_loss: 0.5415 - val_mae: 0.5692\n",
      "Epoch 3/25\n",
      "209/209 [==============================] - 9s 43ms/step - loss: 0.1392 - mae: 0.2863 - val_loss: 0.4606 - val_mae: 0.5149\n",
      "Epoch 4/25\n",
      "209/209 [==============================] - 9s 43ms/step - loss: 0.1163 - mae: 0.2612 - val_loss: 0.3853 - val_mae: 0.4701\n",
      "Epoch 5/25\n",
      "209/209 [==============================] - 9s 43ms/step - loss: 0.1037 - mae: 0.2444 - val_loss: 0.3082 - val_mae: 0.4201\n",
      "Epoch 6/25\n",
      "209/209 [==============================] - 9s 43ms/step - loss: 0.0956 - mae: 0.2349 - val_loss: 0.2881 - val_mae: 0.4073\n",
      "Epoch 7/25\n",
      "209/209 [==============================] - 9s 44ms/step - loss: 0.0903 - mae: 0.2287 - val_loss: 0.3219 - val_mae: 0.4306\n",
      "Epoch 8/25\n",
      "209/209 [==============================] - 9s 43ms/step - loss: 0.0893 - mae: 0.2257 - val_loss: 0.3511 - val_mae: 0.4503\n",
      "Epoch 9/25\n",
      "209/209 [==============================] - 9s 43ms/step - loss: 0.0877 - mae: 0.2240 - val_loss: 0.2918 - val_mae: 0.4073\n",
      "Epoch 10/25\n",
      "209/209 [==============================] - 9s 44ms/step - loss: 0.0830 - mae: 0.2177 - val_loss: 0.3029 - val_mae: 0.4197\n",
      "Epoch 11/25\n",
      "  6/209 [..............................] - ETA: 8s - loss: 0.0832 - mae: 0.2244"
     ]
    },
    {
     "data": {
      "text/html": [
       "<br/>Waiting for W&B process to finish, PID 5258<br/>Program failed with code 1.  Press ctrl-c to abort syncing."
      ],
      "text/plain": [
       "<IPython.core.display.HTML object>"
      ]
     },
     "metadata": {
      "tags": []
     },
     "output_type": "display_data"
    },
    {
     "data": {
      "application/vnd.jupyter.widget-view+json": {
       "model_id": "db4dbfbf15dd433b9ab3662a8d7a6b41",
       "version_major": 2,
       "version_minor": 0
      },
      "text/plain": [
       "VBox(children=(Label(value=' 2.45MB of 2.45MB uploaded (0.00MB deduped)\\r'), FloatProgress(value=1.0, max=1.0)…"
      ]
     },
     "metadata": {
      "tags": []
     },
     "output_type": "display_data"
    },
    {
     "data": {
      "text/html": [
       "Find user logs for this run at: <code>/content/wandb/run-20210507_101031-w4h2806f/logs/debug.log</code>"
      ],
      "text/plain": [
       "<IPython.core.display.HTML object>"
      ]
     },
     "metadata": {
      "tags": []
     },
     "output_type": "display_data"
    },
    {
     "data": {
      "text/html": [
       "Find internal logs for this run at: <code>/content/wandb/run-20210507_101031-w4h2806f/logs/debug-internal.log</code>"
      ],
      "text/plain": [
       "<IPython.core.display.HTML object>"
      ]
     },
     "metadata": {
      "tags": []
     },
     "output_type": "display_data"
    },
    {
     "data": {
      "text/html": [
       "<h3>Run summary:</h3><br/><style>\n",
       "    table.wandb td:nth-child(1) { padding: 0 10px; text-align: right }\n",
       "    </style><table class=\"wandb\">\n",
       "<tr><td>epoch</td><td>9</td></tr><tr><td>loss</td><td>0.08219</td></tr><tr><td>mae</td><td>0.21673</td></tr><tr><td>val_loss</td><td>0.30288</td></tr><tr><td>val_mae</td><td>0.4197</td></tr><tr><td>_runtime</td><td>99</td></tr><tr><td>_timestamp</td><td>1620382330</td></tr><tr><td>_step</td><td>9</td></tr><tr><td>best_val_loss</td><td>0.28813</td></tr><tr><td>best_epoch</td><td>5</td></tr></table>"
      ],
      "text/plain": [
       "<IPython.core.display.HTML object>"
      ]
     },
     "metadata": {
      "tags": []
     },
     "output_type": "display_data"
    },
    {
     "data": {
      "text/html": [
       "<h3>Run history:</h3><br/><style>\n",
       "    table.wandb td:nth-child(1) { padding: 0 10px; text-align: right }\n",
       "    </style><table class=\"wandb\">\n",
       "<tr><td>epoch</td><td>▁▂▃▃▄▅▆▆▇█</td></tr><tr><td>loss</td><td>█▃▂▁▁▁▁▁▁▁</td></tr><tr><td>mae</td><td>█▃▂▂▁▁▁▁▁▁</td></tr><tr><td>val_loss</td><td>▆█▆▄▂▁▂▃▁▁</td></tr><tr><td>val_mae</td><td>▇█▆▄▂▁▂▃▁▂</td></tr><tr><td>_runtime</td><td>▁▂▃▃▄▅▆▆▇█</td></tr><tr><td>_timestamp</td><td>▁▂▃▃▄▅▆▆▇█</td></tr><tr><td>_step</td><td>▁▂▃▃▄▅▆▆▇█</td></tr></table><br/>"
      ],
      "text/plain": [
       "<IPython.core.display.HTML object>"
      ]
     },
     "metadata": {
      "tags": []
     },
     "output_type": "display_data"
    },
    {
     "data": {
      "text/html": [
       "Synced 5 W&B file(s), 1 media file(s), 0 artifact file(s) and 1 other file(s)"
      ],
      "text/plain": [
       "<IPython.core.display.HTML object>"
      ]
     },
     "metadata": {
      "tags": []
     },
     "output_type": "display_data"
    },
    {
     "data": {
      "text/html": [
       "\n",
       "                    <br/>Synced <strong style=\"color:#cdcd00\">solar-sweep-20</strong>: <a href=\"https://wandb.ai/nbvanting/thesis/runs/w4h2806f\" target=\"_blank\">https://wandb.ai/nbvanting/thesis/runs/w4h2806f</a><br/>\n",
       "                "
      ],
      "text/plain": [
       "<IPython.core.display.HTML object>"
      ]
     },
     "metadata": {
      "tags": []
     },
     "output_type": "display_data"
    },
    {
     "name": "stderr",
     "output_type": "stream",
     "text": [
      "\u001b[34m\u001b[1mwandb\u001b[0m: Agent Starting Run: 5bm7e7ky with config:\n",
      "\u001b[34m\u001b[1mwandb\u001b[0m: \tactivation_cnn: relu\n",
      "\u001b[34m\u001b[1mwandb\u001b[0m: \tactivation_gru: tanh\n",
      "\u001b[34m\u001b[1mwandb\u001b[0m: \tbatch_size: 159\n",
      "\u001b[34m\u001b[1mwandb\u001b[0m: \tcnn_lay_2: False\n",
      "\u001b[34m\u001b[1mwandb\u001b[0m: \tcnn_lay_3: False\n",
      "\u001b[34m\u001b[1mwandb\u001b[0m: \tcnn_layer_size_1: 86\n",
      "\u001b[34m\u001b[1mwandb\u001b[0m: \tcnn_layer_size_2: 139\n",
      "\u001b[34m\u001b[1mwandb\u001b[0m: \tcnn_layer_size_3: 210\n",
      "\u001b[34m\u001b[1mwandb\u001b[0m: \tdataset: kolding\n",
      "\u001b[34m\u001b[1mwandb\u001b[0m: \tdropout: 0.13879169960284626\n",
      "\u001b[34m\u001b[1mwandb\u001b[0m: \tepochs: 25\n",
      "\u001b[34m\u001b[1mwandb\u001b[0m: \tgru_lay_1: True\n",
      "\u001b[34m\u001b[1mwandb\u001b[0m: \tgru_lay_2: True\n",
      "\u001b[34m\u001b[1mwandb\u001b[0m: \tgru_layer_size_1: 107\n",
      "\u001b[34m\u001b[1mwandb\u001b[0m: \tgru_layer_size_2: 126\n",
      "\u001b[34m\u001b[1mwandb\u001b[0m: \tgru_layer_size_3: 111\n",
      "\u001b[34m\u001b[1mwandb\u001b[0m: \tkernelsize: 3\n",
      "\u001b[34m\u001b[1mwandb\u001b[0m: \tlearning_rate: 0.031744199559577746\n",
      "\u001b[34m\u001b[1mwandb\u001b[0m: \tlookback: 744\n",
      "\u001b[34m\u001b[1mwandb\u001b[0m: \tmomentum: 0.9140162688611864\n",
      "\u001b[34m\u001b[1mwandb\u001b[0m: \tnum_cnn_layers: 2\n",
      "\u001b[34m\u001b[1mwandb\u001b[0m: \tnum_features: 9\n",
      "\u001b[34m\u001b[1mwandb\u001b[0m: \tnum_gru_layers: 2\n",
      "\u001b[34m\u001b[1mwandb\u001b[0m: \toptimizer: sgd\n",
      "\u001b[34m\u001b[1mwandb\u001b[0m: \tsplitmethod: offset\n",
      "\u001b[34m\u001b[1mwandb\u001b[0m: \tsplitrate: 0.8\n",
      "\u001b[34m\u001b[1mwandb\u001b[0m: \u001b[33mWARNING\u001b[0m Ignored wandb.init() arg project when running a sweep\n"
     ]
    },
    {
     "data": {
      "text/html": [
       "\n",
       "                Tracking run with wandb version 0.10.29<br/>\n",
       "                Syncing run <strong style=\"color:#cdcd00\">copper-sweep-21</strong> to <a href=\"https://wandb.ai\" target=\"_blank\">Weights & Biases</a> <a href=\"https://docs.wandb.com/integrations/jupyter.html\" target=\"_blank\">(Documentation)</a>.<br/>\n",
       "                Project page: <a href=\"https://wandb.ai/nbvanting/thesis\" target=\"_blank\">https://wandb.ai/nbvanting/thesis</a><br/>\n",
       "                Sweep page: <a href=\"https://wandb.ai/nbvanting/thesis/sweeps/xjdtj3eo\" target=\"_blank\">https://wandb.ai/nbvanting/thesis/sweeps/xjdtj3eo</a><br/>\n",
       "Run page: <a href=\"https://wandb.ai/nbvanting/thesis/runs/5bm7e7ky\" target=\"_blank\">https://wandb.ai/nbvanting/thesis/runs/5bm7e7ky</a><br/>\n",
       "                Run data is saved locally in <code>/content/wandb/run-20210507_101218-5bm7e7ky</code><br/><br/>\n",
       "            "
      ],
      "text/plain": [
       "<IPython.core.display.HTML object>"
      ]
     },
     "metadata": {
      "tags": []
     },
     "output_type": "display_data"
    },
    {
     "name": "stdout",
     "output_type": "stream",
     "text": [
      "Epoch 1/25\n",
      "92/92 [==============================] - 17s 135ms/step - loss: 0.6883 - mae: 0.6453 - val_loss: 0.5765 - val_mae: 0.5984\n",
      "Epoch 2/25\n",
      "92/92 [==============================] - 12s 124ms/step - loss: 0.4295 - mae: 0.5076 - val_loss: 0.3347 - val_mae: 0.4579\n",
      "Epoch 3/25\n",
      "92/92 [==============================] - 12s 124ms/step - loss: 0.2601 - mae: 0.3926 - val_loss: 0.2070 - val_mae: 0.3610\n",
      "Epoch 4/25\n",
      "92/92 [==============================] - 12s 124ms/step - loss: 0.1852 - mae: 0.3300 - val_loss: 0.1941 - val_mae: 0.3408\n",
      "Epoch 5/25\n",
      "92/92 [==============================] - 12s 124ms/step - loss: 0.1611 - mae: 0.3079 - val_loss: 0.1584 - val_mae: 0.3117\n",
      "Epoch 6/25\n",
      "92/92 [==============================] - 12s 124ms/step - loss: 0.1419 - mae: 0.2917 - val_loss: 0.1817 - val_mae: 0.3326\n",
      "Epoch 7/25\n",
      "92/92 [==============================] - 12s 125ms/step - loss: 0.1445 - mae: 0.2954 - val_loss: 0.1400 - val_mae: 0.2940\n",
      "Epoch 8/25\n",
      "92/92 [==============================] - 12s 126ms/step - loss: 0.1264 - mae: 0.2764 - val_loss: 0.1317 - val_mae: 0.2862\n",
      "Epoch 9/25\n",
      "92/92 [==============================] - 12s 126ms/step - loss: 0.1251 - mae: 0.2755 - val_loss: 0.1373 - val_mae: 0.2883\n",
      "Epoch 10/25\n",
      "92/92 [==============================] - 12s 125ms/step - loss: 0.1192 - mae: 0.2683 - val_loss: 0.1276 - val_mae: 0.2835\n",
      "Epoch 11/25\n",
      "92/92 [==============================] - 12s 126ms/step - loss: 0.1168 - mae: 0.2652 - val_loss: 0.1373 - val_mae: 0.2892\n",
      "Epoch 12/25\n",
      "92/92 [==============================] - 12s 125ms/step - loss: 0.1124 - mae: 0.2601 - val_loss: 0.1384 - val_mae: 0.2896\n",
      "Epoch 13/25\n",
      "92/92 [==============================] - 12s 125ms/step - loss: 0.1075 - mae: 0.2553 - val_loss: 0.1145 - val_mae: 0.2687\n",
      "Epoch 14/25\n",
      "92/92 [==============================] - 12s 125ms/step - loss: 0.1059 - mae: 0.2542 - val_loss: 0.1122 - val_mae: 0.2633\n",
      "Epoch 15/25\n",
      "92/92 [==============================] - 12s 126ms/step - loss: 0.1037 - mae: 0.2512 - val_loss: 0.1101 - val_mae: 0.2601\n",
      "Epoch 16/25\n",
      "92/92 [==============================] - 12s 126ms/step - loss: 0.1014 - mae: 0.2461 - val_loss: 0.1247 - val_mae: 0.2749\n",
      "Epoch 17/25\n",
      "92/92 [==============================] - 12s 125ms/step - loss: 0.1013 - mae: 0.2482 - val_loss: 0.1035 - val_mae: 0.2569\n",
      "Epoch 18/25\n",
      "92/92 [==============================] - 12s 125ms/step - loss: 0.0966 - mae: 0.2410 - val_loss: 0.1039 - val_mae: 0.2544\n",
      "Epoch 19/25\n",
      "92/92 [==============================] - 12s 126ms/step - loss: 0.0926 - mae: 0.2366 - val_loss: 0.1066 - val_mae: 0.2552\n",
      "Epoch 20/25\n",
      "92/92 [==============================] - 12s 126ms/step - loss: 0.0905 - mae: 0.2334 - val_loss: 0.1006 - val_mae: 0.2483\n",
      "Epoch 21/25\n",
      "92/92 [==============================] - 12s 125ms/step - loss: 0.0919 - mae: 0.2337 - val_loss: 0.1224 - val_mae: 0.2691\n",
      "Epoch 22/25\n",
      "92/92 [==============================] - 12s 126ms/step - loss: 0.0912 - mae: 0.2345 - val_loss: 0.1084 - val_mae: 0.2586\n",
      "Epoch 23/25\n",
      "92/92 [==============================] - 12s 125ms/step - loss: 0.0890 - mae: 0.2315 - val_loss: 0.1118 - val_mae: 0.2597\n",
      "Epoch 24/25\n",
      "92/92 [==============================] - 12s 126ms/step - loss: 0.0902 - mae: 0.2319 - val_loss: 0.1128 - val_mae: 0.2571\n",
      "Epoch 25/25\n",
      "92/92 [==============================] - 12s 125ms/step - loss: 0.0883 - mae: 0.2288 - val_loss: 0.1013 - val_mae: 0.2496\n",
      "10/10 [==============================] - 1s 46ms/step - loss: 0.1579 - mae: 0.3053\n"
     ]
    },
    {
     "data": {
      "text/html": [
       "<br/>Waiting for W&B process to finish, PID 5403<br/>Program failed with code 1.  Press ctrl-c to abort syncing."
      ],
      "text/plain": [
       "<IPython.core.display.HTML object>"
      ]
     },
     "metadata": {
      "tags": []
     },
     "output_type": "display_data"
    },
    {
     "data": {
      "application/vnd.jupyter.widget-view+json": {
       "model_id": "b70f6002040c4644ae44ee6ad38d5720",
       "version_major": 2,
       "version_minor": 0
      },
      "text/plain": [
       "VBox(children=(Label(value=' 1.84MB of 1.84MB uploaded (0.00MB deduped)\\r'), FloatProgress(value=1.0, max=1.0)…"
      ]
     },
     "metadata": {
      "tags": []
     },
     "output_type": "display_data"
    },
    {
     "data": {
      "text/html": [
       "Find user logs for this run at: <code>/content/wandb/run-20210507_101218-5bm7e7ky/logs/debug.log</code>"
      ],
      "text/plain": [
       "<IPython.core.display.HTML object>"
      ]
     },
     "metadata": {
      "tags": []
     },
     "output_type": "display_data"
    },
    {
     "data": {
      "text/html": [
       "Find internal logs for this run at: <code>/content/wandb/run-20210507_101218-5bm7e7ky/logs/debug-internal.log</code>"
      ],
      "text/plain": [
       "<IPython.core.display.HTML object>"
      ]
     },
     "metadata": {
      "tags": []
     },
     "output_type": "display_data"
    },
    {
     "data": {
      "text/html": [
       "<h3>Run summary:</h3><br/><style>\n",
       "    table.wandb td:nth-child(1) { padding: 0 10px; text-align: right }\n",
       "    </style><table class=\"wandb\">\n",
       "<tr><td>epoch</td><td>24</td></tr><tr><td>loss</td><td>0.08554</td></tr><tr><td>mae</td><td>0.22539</td></tr><tr><td>val_loss</td><td>0.10128</td></tr><tr><td>val_mae</td><td>0.24955</td></tr><tr><td>_runtime</td><td>304</td></tr><tr><td>_timestamp</td><td>1620382642</td></tr><tr><td>_step</td><td>26</td></tr><tr><td>best_val_loss</td><td>0.10058</td></tr><tr><td>best_epoch</td><td>19</td></tr><tr><td>test_loss</td><td>0.15787</td></tr><tr><td>test_mae</td><td>0.30531</td></tr></table>"
      ],
      "text/plain": [
       "<IPython.core.display.HTML object>"
      ]
     },
     "metadata": {
      "tags": []
     },
     "output_type": "display_data"
    },
    {
     "data": {
      "text/html": [
       "<h3>Run history:</h3><br/><style>\n",
       "    table.wandb td:nth-child(1) { padding: 0 10px; text-align: right }\n",
       "    </style><table class=\"wandb\">\n",
       "<tr><td>epoch</td><td>▁▁▂▂▂▂▃▃▃▄▄▄▅▅▅▅▆▆▆▇▇▇▇██</td></tr><tr><td>loss</td><td>█▅▃▂▂▂▂▂▂▁▁▁▁▁▁▁▁▁▁▁▁▁▁▁▁</td></tr><tr><td>mae</td><td>█▆▄▃▂▂▂▂▂▂▂▂▂▁▁▁▁▁▁▁▁▁▁▁▁</td></tr><tr><td>val_loss</td><td>█▄▃▂▂▂▂▁▂▁▂▂▁▁▁▁▁▁▁▁▁▁▁▁▁</td></tr><tr><td>val_mae</td><td>█▅▃▃▂▃▂▂▂▂▂▂▁▁▁▂▁▁▁▁▁▁▁▁▁</td></tr><tr><td>_runtime</td><td>▁▁▂▂▂▂▃▃▃▄▄▄▄▅▅▅▆▆▆▇▇▇▇████</td></tr><tr><td>_timestamp</td><td>▁▁▂▂▂▂▃▃▃▄▄▄▄▅▅▅▆▆▆▇▇▇▇████</td></tr><tr><td>_step</td><td>▁▁▂▂▂▂▃▃▃▃▄▄▄▅▅▅▅▆▆▆▆▇▇▇▇██</td></tr><tr><td>test_loss</td><td>▁</td></tr><tr><td>test_mae</td><td>▁</td></tr></table><br/>"
      ],
      "text/plain": [
       "<IPython.core.display.HTML object>"
      ]
     },
     "metadata": {
      "tags": []
     },
     "output_type": "display_data"
    },
    {
     "data": {
      "text/html": [
       "Synced 5 W&B file(s), 1 media file(s), 0 artifact file(s) and 1 other file(s)"
      ],
      "text/plain": [
       "<IPython.core.display.HTML object>"
      ]
     },
     "metadata": {
      "tags": []
     },
     "output_type": "display_data"
    },
    {
     "data": {
      "text/html": [
       "\n",
       "                    <br/>Synced <strong style=\"color:#cdcd00\">copper-sweep-21</strong>: <a href=\"https://wandb.ai/nbvanting/thesis/runs/5bm7e7ky\" target=\"_blank\">https://wandb.ai/nbvanting/thesis/runs/5bm7e7ky</a><br/>\n",
       "                "
      ],
      "text/plain": [
       "<IPython.core.display.HTML object>"
      ]
     },
     "metadata": {
      "tags": []
     },
     "output_type": "display_data"
    },
    {
     "name": "stderr",
     "output_type": "stream",
     "text": [
      "Run 5bm7e7ky errored: IndexError('list index out of range')\n",
      "\u001b[34m\u001b[1mwandb\u001b[0m: \u001b[32m\u001b[41mERROR\u001b[0m Run 5bm7e7ky errored: IndexError('list index out of range')\n",
      "\u001b[34m\u001b[1mwandb\u001b[0m: Agent Starting Run: g2enb8jg with config:\n",
      "\u001b[34m\u001b[1mwandb\u001b[0m: \tactivation_cnn: relu\n",
      "\u001b[34m\u001b[1mwandb\u001b[0m: \tactivation_gru: tanh\n",
      "\u001b[34m\u001b[1mwandb\u001b[0m: \tbatch_size: 222\n",
      "\u001b[34m\u001b[1mwandb\u001b[0m: \tcnn_lay_2: False\n",
      "\u001b[34m\u001b[1mwandb\u001b[0m: \tcnn_lay_3: False\n",
      "\u001b[34m\u001b[1mwandb\u001b[0m: \tcnn_layer_size_1: 179\n",
      "\u001b[34m\u001b[1mwandb\u001b[0m: \tcnn_layer_size_2: 37\n",
      "\u001b[34m\u001b[1mwandb\u001b[0m: \tcnn_layer_size_3: 155\n",
      "\u001b[34m\u001b[1mwandb\u001b[0m: \tdataset: strib\n",
      "\u001b[34m\u001b[1mwandb\u001b[0m: \tdropout: 0.10244082047490778\n",
      "\u001b[34m\u001b[1mwandb\u001b[0m: \tepochs: 25\n",
      "\u001b[34m\u001b[1mwandb\u001b[0m: \tgru_lay_1: False\n",
      "\u001b[34m\u001b[1mwandb\u001b[0m: \tgru_lay_2: False\n",
      "\u001b[34m\u001b[1mwandb\u001b[0m: \tgru_layer_size_1: 240\n",
      "\u001b[34m\u001b[1mwandb\u001b[0m: \tgru_layer_size_2: 90\n",
      "\u001b[34m\u001b[1mwandb\u001b[0m: \tgru_layer_size_3: 95\n",
      "\u001b[34m\u001b[1mwandb\u001b[0m: \tkernelsize: 7\n",
      "\u001b[34m\u001b[1mwandb\u001b[0m: \tlearning_rate: 0.024882218959156235\n",
      "\u001b[34m\u001b[1mwandb\u001b[0m: \tlookback: 744\n",
      "\u001b[34m\u001b[1mwandb\u001b[0m: \tmomentum: 0.9022711245948294\n",
      "\u001b[34m\u001b[1mwandb\u001b[0m: \tnum_cnn_layers: 2\n",
      "\u001b[34m\u001b[1mwandb\u001b[0m: \tnum_features: 9\n",
      "\u001b[34m\u001b[1mwandb\u001b[0m: \tnum_gru_layers: 2\n",
      "\u001b[34m\u001b[1mwandb\u001b[0m: \toptimizer: sgd\n",
      "\u001b[34m\u001b[1mwandb\u001b[0m: \tsplitmethod: offset\n",
      "\u001b[34m\u001b[1mwandb\u001b[0m: \tsplitrate: 0.8\n",
      "\u001b[34m\u001b[1mwandb\u001b[0m: \u001b[33mWARNING\u001b[0m Ignored wandb.init() arg project when running a sweep\n"
     ]
    },
    {
     "data": {
      "text/html": [
       "\n",
       "                Tracking run with wandb version 0.10.29<br/>\n",
       "                Syncing run <strong style=\"color:#cdcd00\">eternal-sweep-22</strong> to <a href=\"https://wandb.ai\" target=\"_blank\">Weights & Biases</a> <a href=\"https://docs.wandb.com/integrations/jupyter.html\" target=\"_blank\">(Documentation)</a>.<br/>\n",
       "                Project page: <a href=\"https://wandb.ai/nbvanting/thesis\" target=\"_blank\">https://wandb.ai/nbvanting/thesis</a><br/>\n",
       "                Sweep page: <a href=\"https://wandb.ai/nbvanting/thesis/sweeps/xjdtj3eo\" target=\"_blank\">https://wandb.ai/nbvanting/thesis/sweeps/xjdtj3eo</a><br/>\n",
       "Run page: <a href=\"https://wandb.ai/nbvanting/thesis/runs/g2enb8jg\" target=\"_blank\">https://wandb.ai/nbvanting/thesis/runs/g2enb8jg</a><br/>\n",
       "                Run data is saved locally in <code>/content/wandb/run-20210507_101728-g2enb8jg</code><br/><br/>\n",
       "            "
      ],
      "text/plain": [
       "<IPython.core.display.HTML object>"
      ]
     },
     "metadata": {
      "tags": []
     },
     "output_type": "display_data"
    },
    {
     "name": "stdout",
     "output_type": "stream",
     "text": [
      "Epoch 1/25\n",
      "66/66 [==============================] - 9s 104ms/step - loss: 0.5610 - mae: 0.5738 - val_loss: 0.3300 - val_mae: 0.4324\n",
      "Epoch 2/25\n",
      "66/66 [==============================] - 7s 96ms/step - loss: 0.2309 - mae: 0.3632 - val_loss: 0.2467 - val_mae: 0.4028\n",
      "Epoch 3/25\n",
      "66/66 [==============================] - 7s 96ms/step - loss: 0.1888 - mae: 0.3308 - val_loss: 0.1970 - val_mae: 0.3302\n",
      "Epoch 4/25\n",
      "66/66 [==============================] - 7s 96ms/step - loss: 0.1716 - mae: 0.3147 - val_loss: 0.1863 - val_mae: 0.3376\n",
      "Epoch 5/25\n",
      "66/66 [==============================] - 7s 97ms/step - loss: 0.1590 - mae: 0.3019 - val_loss: 0.1826 - val_mae: 0.3332\n",
      "Epoch 6/25\n",
      "66/66 [==============================] - 7s 96ms/step - loss: 0.1512 - mae: 0.2961 - val_loss: 0.1619 - val_mae: 0.3108\n",
      "Epoch 7/25\n",
      "66/66 [==============================] - 7s 97ms/step - loss: 0.1390 - mae: 0.2837 - val_loss: 0.1503 - val_mae: 0.2923\n",
      "Epoch 8/25\n",
      "66/66 [==============================] - 7s 97ms/step - loss: 0.1326 - mae: 0.2756 - val_loss: 0.1474 - val_mae: 0.2891\n",
      "Epoch 9/25\n",
      "66/66 [==============================] - 7s 96ms/step - loss: 0.1243 - mae: 0.2677 - val_loss: 0.1473 - val_mae: 0.2929\n",
      "Epoch 10/25\n",
      "66/66 [==============================] - 7s 98ms/step - loss: 0.1193 - mae: 0.2618 - val_loss: 0.1570 - val_mae: 0.3060\n",
      "Epoch 11/25\n",
      "66/66 [==============================] - 7s 97ms/step - loss: 0.1205 - mae: 0.2638 - val_loss: 0.1349 - val_mae: 0.2736\n",
      "Epoch 12/25\n",
      "66/66 [==============================] - 7s 96ms/step - loss: 0.1096 - mae: 0.2501 - val_loss: 0.1296 - val_mae: 0.2702\n",
      "Epoch 13/25\n",
      "66/66 [==============================] - 7s 97ms/step - loss: 0.1054 - mae: 0.2475 - val_loss: 0.1303 - val_mae: 0.2708\n",
      "Epoch 14/25\n",
      "66/66 [==============================] - 7s 96ms/step - loss: 0.0971 - mae: 0.2364 - val_loss: 0.1250 - val_mae: 0.2661\n",
      "Epoch 15/25\n",
      "66/66 [==============================] - 7s 96ms/step - loss: 0.0952 - mae: 0.2342 - val_loss: 0.1211 - val_mae: 0.2661\n",
      "Epoch 16/25\n",
      "66/66 [==============================] - 7s 98ms/step - loss: 0.0893 - mae: 0.2268 - val_loss: 0.1144 - val_mae: 0.2495\n",
      "Epoch 17/25\n",
      "66/66 [==============================] - 7s 98ms/step - loss: 0.0846 - mae: 0.2214 - val_loss: 0.1095 - val_mae: 0.2458\n",
      "Epoch 18/25\n",
      "66/66 [==============================] - 7s 96ms/step - loss: 0.0830 - mae: 0.2180 - val_loss: 0.1158 - val_mae: 0.2570\n",
      "Epoch 19/25\n",
      "66/66 [==============================] - 7s 96ms/step - loss: 0.0799 - mae: 0.2152 - val_loss: 0.1097 - val_mae: 0.2475\n",
      "Epoch 20/25\n",
      "66/66 [==============================] - 7s 97ms/step - loss: 0.0773 - mae: 0.2108 - val_loss: 0.1064 - val_mae: 0.2404\n",
      "Epoch 21/25\n",
      "66/66 [==============================] - 7s 96ms/step - loss: 0.0756 - mae: 0.2070 - val_loss: 0.1011 - val_mae: 0.2307\n",
      "Epoch 22/25\n",
      "66/66 [==============================] - 7s 95ms/step - loss: 0.0732 - mae: 0.2058 - val_loss: 0.1039 - val_mae: 0.2391\n",
      "Epoch 23/25\n",
      "66/66 [==============================] - 7s 97ms/step - loss: 0.0735 - mae: 0.2050 - val_loss: 0.0990 - val_mae: 0.2271\n",
      "Epoch 24/25\n",
      "66/66 [==============================] - 7s 95ms/step - loss: 0.0724 - mae: 0.2046 - val_loss: 0.1026 - val_mae: 0.2325\n",
      "Epoch 25/25\n",
      "66/66 [==============================] - 7s 97ms/step - loss: 0.0717 - mae: 0.2023 - val_loss: 0.1059 - val_mae: 0.2385\n",
      "7/7 [==============================] - 0s 33ms/step - loss: 0.1300 - mae: 0.2612\n"
     ]
    },
    {
     "data": {
      "text/html": [
       "<br/>Waiting for W&B process to finish, PID 5726<br/>Program failed with code 1.  Press ctrl-c to abort syncing."
      ],
      "text/plain": [
       "<IPython.core.display.HTML object>"
      ]
     },
     "metadata": {
      "tags": []
     },
     "output_type": "display_data"
    },
    {
     "data": {
      "application/vnd.jupyter.widget-view+json": {
       "model_id": "0f07de4486124c62b709de89749442a4",
       "version_major": 2,
       "version_minor": 0
      },
      "text/plain": [
       "VBox(children=(Label(value=' 0.72MB of 0.72MB uploaded (0.00MB deduped)\\r'), FloatProgress(value=1.0, max=1.0)…"
      ]
     },
     "metadata": {
      "tags": []
     },
     "output_type": "display_data"
    },
    {
     "data": {
      "text/html": [
       "Find user logs for this run at: <code>/content/wandb/run-20210507_101728-g2enb8jg/logs/debug.log</code>"
      ],
      "text/plain": [
       "<IPython.core.display.HTML object>"
      ]
     },
     "metadata": {
      "tags": []
     },
     "output_type": "display_data"
    },
    {
     "data": {
      "text/html": [
       "Find internal logs for this run at: <code>/content/wandb/run-20210507_101728-g2enb8jg/logs/debug-internal.log</code>"
      ],
      "text/plain": [
       "<IPython.core.display.HTML object>"
      ]
     },
     "metadata": {
      "tags": []
     },
     "output_type": "display_data"
    },
    {
     "data": {
      "text/html": [
       "<h3>Run summary:</h3><br/><style>\n",
       "    table.wandb td:nth-child(1) { padding: 0 10px; text-align: right }\n",
       "    </style><table class=\"wandb\">\n",
       "<tr><td>epoch</td><td>24</td></tr><tr><td>loss</td><td>0.06952</td></tr><tr><td>mae</td><td>0.19916</td></tr><tr><td>val_loss</td><td>0.1059</td></tr><tr><td>val_mae</td><td>0.23845</td></tr><tr><td>_runtime</td><td>173</td></tr><tr><td>_timestamp</td><td>1620382821</td></tr><tr><td>_step</td><td>26</td></tr><tr><td>best_val_loss</td><td>0.09904</td></tr><tr><td>best_epoch</td><td>22</td></tr><tr><td>test_loss</td><td>0.13004</td></tr><tr><td>test_mae</td><td>0.26122</td></tr></table>"
      ],
      "text/plain": [
       "<IPython.core.display.HTML object>"
      ]
     },
     "metadata": {
      "tags": []
     },
     "output_type": "display_data"
    },
    {
     "data": {
      "text/html": [
       "<h3>Run history:</h3><br/><style>\n",
       "    table.wandb td:nth-child(1) { padding: 0 10px; text-align: right }\n",
       "    </style><table class=\"wandb\">\n",
       "<tr><td>epoch</td><td>▁▁▂▂▂▂▃▃▃▄▄▄▅▅▅▅▆▆▆▇▇▇▇██</td></tr><tr><td>loss</td><td>█▄▃▃▃▃▂▂▂▂▂▂▂▂▁▁▁▁▁▁▁▁▁▁▁</td></tr><tr><td>mae</td><td>█▅▄▄▃▃▃▃▃▃▂▂▂▂▂▂▂▁▁▁▁▁▁▁▁</td></tr><tr><td>val_loss</td><td>█▅▄▄▄▃▃▂▂▃▂▂▂▂▂▁▁▂▁▁▁▁▁▁▁</td></tr><tr><td>val_mae</td><td>█▇▅▅▅▄▃▃▃▄▃▂▂▂▂▂▂▂▂▁▁▁▁▁▁</td></tr><tr><td>_runtime</td><td>▁▁▂▂▂▂▃▃▃▄▄▄▄▅▅▅▆▆▆▇▇▇▇████</td></tr><tr><td>_timestamp</td><td>▁▁▂▂▂▂▃▃▃▄▄▄▄▅▅▅▆▆▆▇▇▇▇████</td></tr><tr><td>_step</td><td>▁▁▂▂▂▂▃▃▃▃▄▄▄▅▅▅▅▆▆▆▆▇▇▇▇██</td></tr><tr><td>test_loss</td><td>▁</td></tr><tr><td>test_mae</td><td>▁</td></tr></table><br/>"
      ],
      "text/plain": [
       "<IPython.core.display.HTML object>"
      ]
     },
     "metadata": {
      "tags": []
     },
     "output_type": "display_data"
    },
    {
     "data": {
      "text/html": [
       "Synced 5 W&B file(s), 1 media file(s), 0 artifact file(s) and 1 other file(s)"
      ],
      "text/plain": [
       "<IPython.core.display.HTML object>"
      ]
     },
     "metadata": {
      "tags": []
     },
     "output_type": "display_data"
    },
    {
     "data": {
      "text/html": [
       "\n",
       "                    <br/>Synced <strong style=\"color:#cdcd00\">eternal-sweep-22</strong>: <a href=\"https://wandb.ai/nbvanting/thesis/runs/g2enb8jg\" target=\"_blank\">https://wandb.ai/nbvanting/thesis/runs/g2enb8jg</a><br/>\n",
       "                "
      ],
      "text/plain": [
       "<IPython.core.display.HTML object>"
      ]
     },
     "metadata": {
      "tags": []
     },
     "output_type": "display_data"
    },
    {
     "name": "stderr",
     "output_type": "stream",
     "text": [
      "Run g2enb8jg errored: IndexError('list index out of range')\n",
      "\u001b[34m\u001b[1mwandb\u001b[0m: \u001b[32m\u001b[41mERROR\u001b[0m Run g2enb8jg errored: IndexError('list index out of range')\n",
      "\u001b[34m\u001b[1mwandb\u001b[0m: Agent Starting Run: uedgzik7 with config:\n",
      "\u001b[34m\u001b[1mwandb\u001b[0m: \tactivation_cnn: relu\n",
      "\u001b[34m\u001b[1mwandb\u001b[0m: \tactivation_gru: tanh\n",
      "\u001b[34m\u001b[1mwandb\u001b[0m: \tbatch_size: 81\n",
      "\u001b[34m\u001b[1mwandb\u001b[0m: \tcnn_lay_2: True\n",
      "\u001b[34m\u001b[1mwandb\u001b[0m: \tcnn_lay_3: True\n",
      "\u001b[34m\u001b[1mwandb\u001b[0m: \tcnn_layer_size_1: 36\n",
      "\u001b[34m\u001b[1mwandb\u001b[0m: \tcnn_layer_size_2: 125\n",
      "\u001b[34m\u001b[1mwandb\u001b[0m: \tcnn_layer_size_3: 85\n",
      "\u001b[34m\u001b[1mwandb\u001b[0m: \tdataset: kolding\n",
      "\u001b[34m\u001b[1mwandb\u001b[0m: \tdropout: 0.031562943672041266\n",
      "\u001b[34m\u001b[1mwandb\u001b[0m: \tepochs: 25\n",
      "\u001b[34m\u001b[1mwandb\u001b[0m: \tgru_lay_1: False\n",
      "\u001b[34m\u001b[1mwandb\u001b[0m: \tgru_lay_2: True\n",
      "\u001b[34m\u001b[1mwandb\u001b[0m: \tgru_layer_size_1: 151\n",
      "\u001b[34m\u001b[1mwandb\u001b[0m: \tgru_layer_size_2: 119\n",
      "\u001b[34m\u001b[1mwandb\u001b[0m: \tgru_layer_size_3: 56\n",
      "\u001b[34m\u001b[1mwandb\u001b[0m: \tkernelsize: 5\n",
      "\u001b[34m\u001b[1mwandb\u001b[0m: \tlearning_rate: 0.004967432467405291\n",
      "\u001b[34m\u001b[1mwandb\u001b[0m: \tlookback: 744\n",
      "\u001b[34m\u001b[1mwandb\u001b[0m: \tmomentum: 0.9368364226805022\n",
      "\u001b[34m\u001b[1mwandb\u001b[0m: \tnum_cnn_layers: 2\n",
      "\u001b[34m\u001b[1mwandb\u001b[0m: \tnum_features: 9\n",
      "\u001b[34m\u001b[1mwandb\u001b[0m: \tnum_gru_layers: 2\n",
      "\u001b[34m\u001b[1mwandb\u001b[0m: \toptimizer: sgd\n",
      "\u001b[34m\u001b[1mwandb\u001b[0m: \tsplitmethod: standard\n",
      "\u001b[34m\u001b[1mwandb\u001b[0m: \tsplitrate: 0.8\n",
      "\u001b[34m\u001b[1mwandb\u001b[0m: \u001b[33mWARNING\u001b[0m Ignored wandb.init() arg project when running a sweep\n"
     ]
    },
    {
     "data": {
      "text/html": [
       "\n",
       "                Tracking run with wandb version 0.10.29<br/>\n",
       "                Syncing run <strong style=\"color:#cdcd00\">floral-sweep-23</strong> to <a href=\"https://wandb.ai\" target=\"_blank\">Weights & Biases</a> <a href=\"https://docs.wandb.com/integrations/jupyter.html\" target=\"_blank\">(Documentation)</a>.<br/>\n",
       "                Project page: <a href=\"https://wandb.ai/nbvanting/thesis\" target=\"_blank\">https://wandb.ai/nbvanting/thesis</a><br/>\n",
       "                Sweep page: <a href=\"https://wandb.ai/nbvanting/thesis/sweeps/xjdtj3eo\" target=\"_blank\">https://wandb.ai/nbvanting/thesis/sweeps/xjdtj3eo</a><br/>\n",
       "Run page: <a href=\"https://wandb.ai/nbvanting/thesis/runs/uedgzik7\" target=\"_blank\">https://wandb.ai/nbvanting/thesis/runs/uedgzik7</a><br/>\n",
       "                Run data is saved locally in <code>/content/wandb/run-20210507_102027-uedgzik7</code><br/><br/>\n",
       "            "
      ],
      "text/plain": [
       "<IPython.core.display.HTML object>"
      ]
     },
     "metadata": {
      "tags": []
     },
     "output_type": "display_data"
    },
    {
     "name": "stdout",
     "output_type": "stream",
     "text": [
      "Epoch 1/25\n",
      "194/194 [==============================] - 13s 47ms/step - loss: 0.7348 - mae: 0.6724 - val_loss: 0.3856 - val_mae: 0.4766\n",
      "Epoch 2/25\n",
      "194/194 [==============================] - 8s 42ms/step - loss: 0.2254 - mae: 0.3639 - val_loss: 0.3205 - val_mae: 0.4162\n",
      "Epoch 3/25\n",
      "194/194 [==============================] - 8s 43ms/step - loss: 0.1311 - mae: 0.2776 - val_loss: 0.2482 - val_mae: 0.3860\n",
      "Epoch 4/25\n",
      "194/194 [==============================] - 8s 40ms/step - loss: 0.1129 - mae: 0.2578 - val_loss: 0.2414 - val_mae: 0.3564\n",
      "Epoch 5/25\n",
      "194/194 [==============================] - 8s 41ms/step - loss: 0.1014 - mae: 0.2424 - val_loss: 0.2382 - val_mae: 0.3712\n",
      "Epoch 6/25\n",
      "194/194 [==============================] - 8s 41ms/step - loss: 0.0956 - mae: 0.2363 - val_loss: 0.2377 - val_mae: 0.3741\n",
      "Epoch 7/25\n",
      "194/194 [==============================] - 8s 42ms/step - loss: 0.0877 - mae: 0.2277 - val_loss: 0.2246 - val_mae: 0.3583\n",
      "Epoch 8/25\n",
      "194/194 [==============================] - 8s 41ms/step - loss: 0.0867 - mae: 0.2250 - val_loss: 0.2655 - val_mae: 0.3642\n",
      "Epoch 9/25\n",
      "194/194 [==============================] - 8s 41ms/step - loss: 0.0820 - mae: 0.2186 - val_loss: 0.2472 - val_mae: 0.3764\n",
      "Epoch 10/25\n",
      "194/194 [==============================] - 8s 42ms/step - loss: 0.0793 - mae: 0.2150 - val_loss: 0.2416 - val_mae: 0.3693\n",
      "Epoch 11/25\n",
      "194/194 [==============================] - 8s 43ms/step - loss: 0.0764 - mae: 0.2126 - val_loss: 0.2391 - val_mae: 0.3618\n",
      "Epoch 12/25\n",
      "194/194 [==============================] - 8s 43ms/step - loss: 0.0733 - mae: 0.2080 - val_loss: 0.2546 - val_mae: 0.3730\n",
      "Epoch 13/25\n",
      "194/194 [==============================] - 8s 42ms/step - loss: 0.0740 - mae: 0.2077 - val_loss: 0.2649 - val_mae: 0.3711\n",
      "Epoch 14/25\n",
      "194/194 [==============================] - 8s 42ms/step - loss: 0.0697 - mae: 0.2024 - val_loss: 0.2616 - val_mae: 0.3808\n",
      "Epoch 15/25\n",
      "194/194 [==============================] - 8s 41ms/step - loss: 0.0674 - mae: 0.1984 - val_loss: 0.3069 - val_mae: 0.3955\n",
      "Epoch 16/25\n",
      "194/194 [==============================] - 8s 42ms/step - loss: 0.0685 - mae: 0.2003 - val_loss: 0.2705 - val_mae: 0.3885\n",
      "Epoch 17/25\n",
      "194/194 [==============================] - 8s 43ms/step - loss: 0.0636 - mae: 0.1934 - val_loss: 0.3069 - val_mae: 0.3970\n",
      "Epoch 18/25\n",
      "194/194 [==============================] - 8s 42ms/step - loss: 0.0649 - mae: 0.1945 - val_loss: 0.2506 - val_mae: 0.3699\n",
      "Epoch 19/25\n",
      "194/194 [==============================] - 8s 43ms/step - loss: 0.0624 - mae: 0.1919 - val_loss: 0.2776 - val_mae: 0.3796\n",
      "Epoch 20/25\n",
      "194/194 [==============================] - 8s 43ms/step - loss: 0.0598 - mae: 0.1882 - val_loss: 0.2833 - val_mae: 0.3887\n",
      "Epoch 21/25\n",
      "194/194 [==============================] - 8s 42ms/step - loss: 0.0571 - mae: 0.1830 - val_loss: 0.2814 - val_mae: 0.4009\n",
      "Epoch 22/25\n",
      "194/194 [==============================] - 8s 42ms/step - loss: 0.0567 - mae: 0.1829 - val_loss: 0.2855 - val_mae: 0.3931\n",
      "Epoch 23/25\n",
      "194/194 [==============================] - 8s 42ms/step - loss: 0.0574 - mae: 0.1833 - val_loss: 0.2988 - val_mae: 0.3985\n",
      "Epoch 24/25\n",
      "194/194 [==============================] - 8s 42ms/step - loss: 0.0544 - mae: 0.1797 - val_loss: 0.2779 - val_mae: 0.3968\n",
      "Epoch 25/25\n",
      "194/194 [==============================] - 8s 42ms/step - loss: 0.0541 - mae: 0.1789 - val_loss: 0.2882 - val_mae: 0.3962\n",
      "7/7 [==============================] - 0s 14ms/step - loss: 0.1552 - mae: 0.3083\n"
     ]
    },
    {
     "data": {
      "text/html": [
       "<br/>Waiting for W&B process to finish, PID 6033<br/>Program failed with code 1.  Press ctrl-c to abort syncing."
      ],
      "text/plain": [
       "<IPython.core.display.HTML object>"
      ]
     },
     "metadata": {
      "tags": []
     },
     "output_type": "display_data"
    },
    {
     "data": {
      "application/vnd.jupyter.widget-view+json": {
       "model_id": "1248bad45abe40d1b251600aedb59c13",
       "version_major": 2,
       "version_minor": 0
      },
      "text/plain": [
       "VBox(children=(Label(value=' 1.44MB of 1.44MB uploaded (0.00MB deduped)\\r'), FloatProgress(value=1.0, max=1.0)…"
      ]
     },
     "metadata": {
      "tags": []
     },
     "output_type": "display_data"
    },
    {
     "data": {
      "text/html": [
       "Find user logs for this run at: <code>/content/wandb/run-20210507_102027-uedgzik7/logs/debug.log</code>"
      ],
      "text/plain": [
       "<IPython.core.display.HTML object>"
      ]
     },
     "metadata": {
      "tags": []
     },
     "output_type": "display_data"
    },
    {
     "data": {
      "text/html": [
       "Find internal logs for this run at: <code>/content/wandb/run-20210507_102027-uedgzik7/logs/debug-internal.log</code>"
      ],
      "text/plain": [
       "<IPython.core.display.HTML object>"
      ]
     },
     "metadata": {
      "tags": []
     },
     "output_type": "display_data"
    },
    {
     "data": {
      "text/html": [
       "<h3>Run summary:</h3><br/><style>\n",
       "    table.wandb td:nth-child(1) { padding: 0 10px; text-align: right }\n",
       "    </style><table class=\"wandb\">\n",
       "<tr><td>epoch</td><td>24</td></tr><tr><td>loss</td><td>0.05359</td></tr><tr><td>mae</td><td>0.17804</td></tr><tr><td>val_loss</td><td>0.2882</td></tr><tr><td>val_mae</td><td>0.39619</td></tr><tr><td>_runtime</td><td>215</td></tr><tr><td>_timestamp</td><td>1620383042</td></tr><tr><td>_step</td><td>26</td></tr><tr><td>best_val_loss</td><td>0.22462</td></tr><tr><td>best_epoch</td><td>6</td></tr><tr><td>test_loss</td><td>0.15517</td></tr><tr><td>test_mae</td><td>0.30833</td></tr></table>"
      ],
      "text/plain": [
       "<IPython.core.display.HTML object>"
      ]
     },
     "metadata": {
      "tags": []
     },
     "output_type": "display_data"
    },
    {
     "data": {
      "text/html": [
       "<h3>Run history:</h3><br/><style>\n",
       "    table.wandb td:nth-child(1) { padding: 0 10px; text-align: right }\n",
       "    </style><table class=\"wandb\">\n",
       "<tr><td>epoch</td><td>▁▁▂▂▂▂▃▃▃▄▄▄▅▅▅▅▆▆▆▇▇▇▇██</td></tr><tr><td>loss</td><td>█▃▂▂▂▂▁▁▁▁▁▁▁▁▁▁▁▁▁▁▁▁▁▁▁</td></tr><tr><td>mae</td><td>█▃▂▂▂▂▂▂▂▂▂▁▁▁▁▁▁▁▁▁▁▁▁▁▁</td></tr><tr><td>val_loss</td><td>█▅▂▂▂▂▁▃▂▂▂▂▃▃▅▃▅▂▃▄▃▄▄▃▄</td></tr><tr><td>val_mae</td><td>█▄▃▁▂▂▁▁▂▂▁▂▂▂▃▃▃▂▂▃▄▃▃▃▃</td></tr><tr><td>_runtime</td><td>▁▁▂▂▂▂▃▃▃▄▄▄▄▅▅▅▆▆▆▇▇▇▇████</td></tr><tr><td>_timestamp</td><td>▁▁▂▂▂▂▃▃▃▄▄▄▄▅▅▅▆▆▆▇▇▇▇████</td></tr><tr><td>_step</td><td>▁▁▂▂▂▂▃▃▃▃▄▄▄▅▅▅▅▆▆▆▆▇▇▇▇██</td></tr><tr><td>test_loss</td><td>▁</td></tr><tr><td>test_mae</td><td>▁</td></tr></table><br/>"
      ],
      "text/plain": [
       "<IPython.core.display.HTML object>"
      ]
     },
     "metadata": {
      "tags": []
     },
     "output_type": "display_data"
    },
    {
     "data": {
      "text/html": [
       "Synced 5 W&B file(s), 1 media file(s), 0 artifact file(s) and 1 other file(s)"
      ],
      "text/plain": [
       "<IPython.core.display.HTML object>"
      ]
     },
     "metadata": {
      "tags": []
     },
     "output_type": "display_data"
    },
    {
     "data": {
      "text/html": [
       "\n",
       "                    <br/>Synced <strong style=\"color:#cdcd00\">floral-sweep-23</strong>: <a href=\"https://wandb.ai/nbvanting/thesis/runs/uedgzik7\" target=\"_blank\">https://wandb.ai/nbvanting/thesis/runs/uedgzik7</a><br/>\n",
       "                "
      ],
      "text/plain": [
       "<IPython.core.display.HTML object>"
      ]
     },
     "metadata": {
      "tags": []
     },
     "output_type": "display_data"
    },
    {
     "name": "stderr",
     "output_type": "stream",
     "text": [
      "Run uedgzik7 errored: IndexError('list index out of range')\n",
      "\u001b[34m\u001b[1mwandb\u001b[0m: \u001b[32m\u001b[41mERROR\u001b[0m Run uedgzik7 errored: IndexError('list index out of range')\n",
      "\u001b[34m\u001b[1mwandb\u001b[0m: Agent Starting Run: 4rzyjigo with config:\n",
      "\u001b[34m\u001b[1mwandb\u001b[0m: \tactivation_cnn: relu\n",
      "\u001b[34m\u001b[1mwandb\u001b[0m: \tactivation_gru: tanh\n",
      "\u001b[34m\u001b[1mwandb\u001b[0m: \tbatch_size: 43\n",
      "\u001b[34m\u001b[1mwandb\u001b[0m: \tcnn_lay_2: False\n",
      "\u001b[34m\u001b[1mwandb\u001b[0m: \tcnn_lay_3: False\n",
      "\u001b[34m\u001b[1mwandb\u001b[0m: \tcnn_layer_size_1: 59\n",
      "\u001b[34m\u001b[1mwandb\u001b[0m: \tcnn_layer_size_2: 42\n",
      "\u001b[34m\u001b[1mwandb\u001b[0m: \tcnn_layer_size_3: 165\n",
      "\u001b[34m\u001b[1mwandb\u001b[0m: \tdataset: strib\n",
      "\u001b[34m\u001b[1mwandb\u001b[0m: \tdropout: 0.2904133425349736\n",
      "\u001b[34m\u001b[1mwandb\u001b[0m: \tepochs: 25\n",
      "\u001b[34m\u001b[1mwandb\u001b[0m: \tgru_lay_1: True\n",
      "\u001b[34m\u001b[1mwandb\u001b[0m: \tgru_lay_2: False\n",
      "\u001b[34m\u001b[1mwandb\u001b[0m: \tgru_layer_size_1: 43\n",
      "\u001b[34m\u001b[1mwandb\u001b[0m: \tgru_layer_size_2: 99\n",
      "\u001b[34m\u001b[1mwandb\u001b[0m: \tgru_layer_size_3: 56\n",
      "\u001b[34m\u001b[1mwandb\u001b[0m: \tkernelsize: 3\n",
      "\u001b[34m\u001b[1mwandb\u001b[0m: \tlearning_rate: 0.0017045347935054655\n",
      "\u001b[34m\u001b[1mwandb\u001b[0m: \tlookback: 744\n",
      "\u001b[34m\u001b[1mwandb\u001b[0m: \tmomentum: 0.7911633985585256\n",
      "\u001b[34m\u001b[1mwandb\u001b[0m: \tnum_cnn_layers: 2\n",
      "\u001b[34m\u001b[1mwandb\u001b[0m: \tnum_features: 9\n",
      "\u001b[34m\u001b[1mwandb\u001b[0m: \tnum_gru_layers: 2\n",
      "\u001b[34m\u001b[1mwandb\u001b[0m: \toptimizer: sgd\n",
      "\u001b[34m\u001b[1mwandb\u001b[0m: \tsplitmethod: standard\n",
      "\u001b[34m\u001b[1mwandb\u001b[0m: \tsplitrate: 0.8\n",
      "\u001b[34m\u001b[1mwandb\u001b[0m: \u001b[33mWARNING\u001b[0m Ignored wandb.init() arg project when running a sweep\n"
     ]
    },
    {
     "data": {
      "text/html": [
       "\n",
       "                Tracking run with wandb version 0.10.29<br/>\n",
       "                Syncing run <strong style=\"color:#cdcd00\">decent-sweep-24</strong> to <a href=\"https://wandb.ai\" target=\"_blank\">Weights & Biases</a> <a href=\"https://docs.wandb.com/integrations/jupyter.html\" target=\"_blank\">(Documentation)</a>.<br/>\n",
       "                Project page: <a href=\"https://wandb.ai/nbvanting/thesis\" target=\"_blank\">https://wandb.ai/nbvanting/thesis</a><br/>\n",
       "                Sweep page: <a href=\"https://wandb.ai/nbvanting/thesis/sweeps/xjdtj3eo\" target=\"_blank\">https://wandb.ai/nbvanting/thesis/sweeps/xjdtj3eo</a><br/>\n",
       "Run page: <a href=\"https://wandb.ai/nbvanting/thesis/runs/4rzyjigo\" target=\"_blank\">https://wandb.ai/nbvanting/thesis/runs/4rzyjigo</a><br/>\n",
       "                Run data is saved locally in <code>/content/wandb/run-20210507_102407-4rzyjigo</code><br/><br/>\n",
       "            "
      ],
      "text/plain": [
       "<IPython.core.display.HTML object>"
      ]
     },
     "metadata": {
      "tags": []
     },
     "output_type": "display_data"
    },
    {
     "name": "stdout",
     "output_type": "stream",
     "text": [
      "Epoch 1/25\n",
      "365/365 [==============================] - 20s 43ms/step - loss: 0.7529 - mae: 0.6860 - val_loss: 1.9016 - val_mae: 1.0564\n",
      "Epoch 2/25\n",
      "365/365 [==============================] - 15s 41ms/step - loss: 0.5000 - mae: 0.5581 - val_loss: 1.8400 - val_mae: 1.0632\n",
      "Epoch 3/25\n",
      "365/365 [==============================] - 15s 41ms/step - loss: 0.4347 - mae: 0.5172 - val_loss: 1.4216 - val_mae: 0.8989\n",
      "Epoch 4/25\n",
      "365/365 [==============================] - 15s 41ms/step - loss: 0.3917 - mae: 0.4881 - val_loss: 1.1559 - val_mae: 0.7753\n",
      "Epoch 5/25\n",
      "365/365 [==============================] - 15s 41ms/step - loss: 0.3657 - mae: 0.4696 - val_loss: 1.1256 - val_mae: 0.7609\n",
      "Epoch 6/25\n",
      "365/365 [==============================] - 15s 41ms/step - loss: 0.3418 - mae: 0.4528 - val_loss: 0.9755 - val_mae: 0.6932\n",
      "Epoch 7/25\n",
      "365/365 [==============================] - 15s 40ms/step - loss: 0.3263 - mae: 0.4391 - val_loss: 1.0488 - val_mae: 0.7280\n",
      "Epoch 8/25\n",
      "292/365 [=======================>......] - ETA: 2s - loss: 0.3198 - mae: 0.4313"
     ]
    },
    {
     "data": {
      "text/html": [
       "<br/>Waiting for W&B process to finish, PID 6332<br/>Program failed with code 1.  Press ctrl-c to abort syncing."
      ],
      "text/plain": [
       "<IPython.core.display.HTML object>"
      ]
     },
     "metadata": {
      "tags": []
     },
     "output_type": "display_data"
    },
    {
     "data": {
      "application/vnd.jupyter.widget-view+json": {
       "model_id": "f5cbeb2e147d4581a1ac1b1855c2d415",
       "version_major": 2,
       "version_minor": 0
      },
      "text/plain": [
       "VBox(children=(Label(value=' 0.29MB of 0.29MB uploaded (0.00MB deduped)\\r'), FloatProgress(value=1.0, max=1.0)…"
      ]
     },
     "metadata": {
      "tags": []
     },
     "output_type": "display_data"
    },
    {
     "data": {
      "text/html": [
       "Find user logs for this run at: <code>/content/wandb/run-20210507_102407-4rzyjigo/logs/debug.log</code>"
      ],
      "text/plain": [
       "<IPython.core.display.HTML object>"
      ]
     },
     "metadata": {
      "tags": []
     },
     "output_type": "display_data"
    },
    {
     "data": {
      "text/html": [
       "Find internal logs for this run at: <code>/content/wandb/run-20210507_102407-4rzyjigo/logs/debug-internal.log</code>"
      ],
      "text/plain": [
       "<IPython.core.display.HTML object>"
      ]
     },
     "metadata": {
      "tags": []
     },
     "output_type": "display_data"
    },
    {
     "data": {
      "text/html": [
       "<h3>Run summary:</h3><br/><style>\n",
       "    table.wandb td:nth-child(1) { padding: 0 10px; text-align: right }\n",
       "    </style><table class=\"wandb\">\n",
       "<tr><td>epoch</td><td>6</td></tr><tr><td>loss</td><td>0.31782</td></tr><tr><td>mae</td><td>0.43421</td></tr><tr><td>val_loss</td><td>1.04884</td></tr><tr><td>val_mae</td><td>0.72802</td></tr><tr><td>_runtime</td><td>113</td></tr><tr><td>_timestamp</td><td>1620383161</td></tr><tr><td>_step</td><td>6</td></tr><tr><td>best_val_loss</td><td>0.97548</td></tr><tr><td>best_epoch</td><td>5</td></tr></table>"
      ],
      "text/plain": [
       "<IPython.core.display.HTML object>"
      ]
     },
     "metadata": {
      "tags": []
     },
     "output_type": "display_data"
    },
    {
     "data": {
      "text/html": [
       "<h3>Run history:</h3><br/><style>\n",
       "    table.wandb td:nth-child(1) { padding: 0 10px; text-align: right }\n",
       "    </style><table class=\"wandb\">\n",
       "<tr><td>epoch</td><td>▁▂▃▅▆▇█</td></tr><tr><td>loss</td><td>█▄▃▂▂▁▁</td></tr><tr><td>mae</td><td>█▅▃▃▂▁▁</td></tr><tr><td>val_loss</td><td>██▄▂▂▁▂</td></tr><tr><td>val_mae</td><td>██▅▃▂▁▂</td></tr><tr><td>_runtime</td><td>▁▂▃▅▆▇█</td></tr><tr><td>_timestamp</td><td>▁▂▃▅▆▇█</td></tr><tr><td>_step</td><td>▁▂▃▅▆▇█</td></tr></table><br/>"
      ],
      "text/plain": [
       "<IPython.core.display.HTML object>"
      ]
     },
     "metadata": {
      "tags": []
     },
     "output_type": "display_data"
    },
    {
     "data": {
      "text/html": [
       "Synced 5 W&B file(s), 1 media file(s), 0 artifact file(s) and 1 other file(s)"
      ],
      "text/plain": [
       "<IPython.core.display.HTML object>"
      ]
     },
     "metadata": {
      "tags": []
     },
     "output_type": "display_data"
    },
    {
     "data": {
      "text/html": [
       "\n",
       "                    <br/>Synced <strong style=\"color:#cdcd00\">decent-sweep-24</strong>: <a href=\"https://wandb.ai/nbvanting/thesis/runs/4rzyjigo\" target=\"_blank\">https://wandb.ai/nbvanting/thesis/runs/4rzyjigo</a><br/>\n",
       "                "
      ],
      "text/plain": [
       "<IPython.core.display.HTML object>"
      ]
     },
     "metadata": {
      "tags": []
     },
     "output_type": "display_data"
    },
    {
     "name": "stderr",
     "output_type": "stream",
     "text": [
      "\u001b[34m\u001b[1mwandb\u001b[0m: Agent Starting Run: 4igkvhu0 with config:\n",
      "\u001b[34m\u001b[1mwandb\u001b[0m: \tactivation_cnn: relu\n",
      "\u001b[34m\u001b[1mwandb\u001b[0m: \tactivation_gru: tanh\n",
      "\u001b[34m\u001b[1mwandb\u001b[0m: \tbatch_size: 150\n",
      "\u001b[34m\u001b[1mwandb\u001b[0m: \tcnn_lay_2: True\n",
      "\u001b[34m\u001b[1mwandb\u001b[0m: \tcnn_lay_3: True\n",
      "\u001b[34m\u001b[1mwandb\u001b[0m: \tcnn_layer_size_1: 51\n",
      "\u001b[34m\u001b[1mwandb\u001b[0m: \tcnn_layer_size_2: 64\n",
      "\u001b[34m\u001b[1mwandb\u001b[0m: \tcnn_layer_size_3: 37\n",
      "\u001b[34m\u001b[1mwandb\u001b[0m: \tdataset: strib\n",
      "\u001b[34m\u001b[1mwandb\u001b[0m: \tdropout: 0.10130546985846256\n",
      "\u001b[34m\u001b[1mwandb\u001b[0m: \tepochs: 25\n",
      "\u001b[34m\u001b[1mwandb\u001b[0m: \tgru_lay_1: True\n",
      "\u001b[34m\u001b[1mwandb\u001b[0m: \tgru_lay_2: True\n",
      "\u001b[34m\u001b[1mwandb\u001b[0m: \tgru_layer_size_1: 66\n",
      "\u001b[34m\u001b[1mwandb\u001b[0m: \tgru_layer_size_2: 105\n",
      "\u001b[34m\u001b[1mwandb\u001b[0m: \tgru_layer_size_3: 65\n",
      "\u001b[34m\u001b[1mwandb\u001b[0m: \tkernelsize: 5\n",
      "\u001b[34m\u001b[1mwandb\u001b[0m: \tlearning_rate: 0.012883978092820526\n",
      "\u001b[34m\u001b[1mwandb\u001b[0m: \tlookback: 744\n",
      "\u001b[34m\u001b[1mwandb\u001b[0m: \tmomentum: 0.8037967871611323\n",
      "\u001b[34m\u001b[1mwandb\u001b[0m: \tnum_cnn_layers: 2\n",
      "\u001b[34m\u001b[1mwandb\u001b[0m: \tnum_features: 9\n",
      "\u001b[34m\u001b[1mwandb\u001b[0m: \tnum_gru_layers: 2\n",
      "\u001b[34m\u001b[1mwandb\u001b[0m: \toptimizer: sgd\n",
      "\u001b[34m\u001b[1mwandb\u001b[0m: \tsplitmethod: offset\n",
      "\u001b[34m\u001b[1mwandb\u001b[0m: \tsplitrate: 0.8\n",
      "\u001b[34m\u001b[1mwandb\u001b[0m: \u001b[33mWARNING\u001b[0m Ignored wandb.init() arg project when running a sweep\n"
     ]
    },
    {
     "data": {
      "text/html": [
       "\n",
       "                Tracking run with wandb version 0.10.29<br/>\n",
       "                Syncing run <strong style=\"color:#cdcd00\">fast-sweep-25</strong> to <a href=\"https://wandb.ai\" target=\"_blank\">Weights & Biases</a> <a href=\"https://docs.wandb.com/integrations/jupyter.html\" target=\"_blank\">(Documentation)</a>.<br/>\n",
       "                Project page: <a href=\"https://wandb.ai/nbvanting/thesis\" target=\"_blank\">https://wandb.ai/nbvanting/thesis</a><br/>\n",
       "                Sweep page: <a href=\"https://wandb.ai/nbvanting/thesis/sweeps/xjdtj3eo\" target=\"_blank\">https://wandb.ai/nbvanting/thesis/sweeps/xjdtj3eo</a><br/>\n",
       "Run page: <a href=\"https://wandb.ai/nbvanting/thesis/runs/4igkvhu0\" target=\"_blank\">https://wandb.ai/nbvanting/thesis/runs/4igkvhu0</a><br/>\n",
       "                Run data is saved locally in <code>/content/wandb/run-20210507_102621-4igkvhu0</code><br/><br/>\n",
       "            "
      ],
      "text/plain": [
       "<IPython.core.display.HTML object>"
      ]
     },
     "metadata": {
      "tags": []
     },
     "output_type": "display_data"
    },
    {
     "name": "stdout",
     "output_type": "stream",
     "text": [
      "Epoch 1/25\n",
      "98/98 [==============================] - 14s 89ms/step - loss: 0.8117 - mae: 0.7147 - val_loss: 0.8336 - val_mae: 0.7288\n",
      "Epoch 2/25\n",
      "98/98 [==============================] - 7s 70ms/step - loss: 0.7391 - mae: 0.6818 - val_loss: 0.6348 - val_mae: 0.6445\n",
      "Epoch 3/25\n",
      "98/98 [==============================] - 7s 69ms/step - loss: 0.4495 - mae: 0.5328 - val_loss: 0.2492 - val_mae: 0.3813\n",
      "Epoch 4/25\n",
      "98/98 [==============================] - 7s 69ms/step - loss: 0.2265 - mae: 0.3683 - val_loss: 0.2584 - val_mae: 0.3857\n",
      "Epoch 5/25\n",
      "98/98 [==============================] - 7s 71ms/step - loss: 0.1800 - mae: 0.3289 - val_loss: 0.1713 - val_mae: 0.3133\n",
      "Epoch 6/25\n",
      "98/98 [==============================] - 7s 70ms/step - loss: 0.1572 - mae: 0.3056 - val_loss: 0.1626 - val_mae: 0.3041\n",
      "Epoch 7/25\n",
      "98/98 [==============================] - 7s 69ms/step - loss: 0.1332 - mae: 0.2795 - val_loss: 0.1509 - val_mae: 0.2900\n",
      "Epoch 8/25\n",
      "98/98 [==============================] - 7s 70ms/step - loss: 0.1210 - mae: 0.2668 - val_loss: 0.1498 - val_mae: 0.2914\n",
      "Epoch 9/25\n",
      "98/98 [==============================] - 7s 69ms/step - loss: 0.1159 - mae: 0.2590 - val_loss: 0.1471 - val_mae: 0.2815\n",
      "Epoch 10/25\n",
      "98/98 [==============================] - 7s 70ms/step - loss: 0.1067 - mae: 0.2486 - val_loss: 0.1389 - val_mae: 0.2741\n",
      "Epoch 11/25\n",
      "98/98 [==============================] - 7s 69ms/step - loss: 0.1052 - mae: 0.2475 - val_loss: 0.1436 - val_mae: 0.2805\n",
      "Epoch 12/25\n",
      "98/98 [==============================] - 7s 69ms/step - loss: 0.1012 - mae: 0.2411 - val_loss: 0.1404 - val_mae: 0.2762\n",
      "Epoch 13/25\n",
      "98/98 [==============================] - 7s 68ms/step - loss: 0.0964 - mae: 0.2346 - val_loss: 0.1370 - val_mae: 0.2736\n",
      "Epoch 14/25\n",
      "98/98 [==============================] - 7s 69ms/step - loss: 0.0939 - mae: 0.2333 - val_loss: 0.1480 - val_mae: 0.2871\n",
      "Epoch 15/25\n",
      "98/98 [==============================] - 7s 68ms/step - loss: 0.0916 - mae: 0.2308 - val_loss: 0.1443 - val_mae: 0.2832\n",
      "Epoch 16/25\n",
      "98/98 [==============================] - 7s 69ms/step - loss: 0.0879 - mae: 0.2252 - val_loss: 0.1390 - val_mae: 0.2758\n",
      "Epoch 17/25\n",
      "98/98 [==============================] - 7s 69ms/step - loss: 0.0868 - mae: 0.2231 - val_loss: 0.1422 - val_mae: 0.2810\n",
      "Epoch 18/25\n",
      "98/98 [==============================] - 7s 69ms/step - loss: 0.0864 - mae: 0.2238 - val_loss: 0.1374 - val_mae: 0.2705\n",
      "Epoch 19/25\n",
      "98/98 [==============================] - 7s 69ms/step - loss: 0.0846 - mae: 0.2217 - val_loss: 0.1471 - val_mae: 0.2800\n",
      "Epoch 20/25\n",
      "98/98 [==============================] - 7s 72ms/step - loss: 0.0844 - mae: 0.2206 - val_loss: 0.1401 - val_mae: 0.2800\n",
      "Epoch 21/25\n",
      "98/98 [==============================] - 7s 69ms/step - loss: 0.0793 - mae: 0.2139 - val_loss: 0.1405 - val_mae: 0.2756\n",
      "Epoch 22/25\n",
      "98/98 [==============================] - 7s 69ms/step - loss: 0.0820 - mae: 0.2168 - val_loss: 0.1443 - val_mae: 0.2844\n",
      "Epoch 23/25\n",
      "98/98 [==============================] - 7s 70ms/step - loss: 0.0793 - mae: 0.2154 - val_loss: 0.1356 - val_mae: 0.2718\n",
      "Epoch 24/25\n",
      "98/98 [==============================] - 7s 68ms/step - loss: 0.0775 - mae: 0.2114 - val_loss: 0.1420 - val_mae: 0.2801\n",
      "Epoch 25/25\n",
      "98/98 [==============================] - 7s 70ms/step - loss: 0.0767 - mae: 0.2091 - val_loss: 0.1438 - val_mae: 0.2811\n",
      "10/10 [==============================] - 1s 29ms/step - loss: 0.1230 - mae: 0.2681\n"
     ]
    },
    {
     "data": {
      "text/html": [
       "<br/>Waiting for W&B process to finish, PID 6447<br/>Program failed with code 1.  Press ctrl-c to abort syncing."
      ],
      "text/plain": [
       "<IPython.core.display.HTML object>"
      ]
     },
     "metadata": {
      "tags": []
     },
     "output_type": "display_data"
    },
    {
     "data": {
      "application/vnd.jupyter.widget-view+json": {
       "model_id": "9a2482bc12bd414f97ade0f9587da405",
       "version_major": 2,
       "version_minor": 0
      },
      "text/plain": [
       "VBox(children=(Label(value=' 1.14MB of 1.14MB uploaded (0.00MB deduped)\\r'), FloatProgress(value=1.0, max=1.0)…"
      ]
     },
     "metadata": {
      "tags": []
     },
     "output_type": "display_data"
    },
    {
     "data": {
      "text/html": [
       "Find user logs for this run at: <code>/content/wandb/run-20210507_102621-4igkvhu0/logs/debug.log</code>"
      ],
      "text/plain": [
       "<IPython.core.display.HTML object>"
      ]
     },
     "metadata": {
      "tags": []
     },
     "output_type": "display_data"
    },
    {
     "data": {
      "text/html": [
       "Find internal logs for this run at: <code>/content/wandb/run-20210507_102621-4igkvhu0/logs/debug-internal.log</code>"
      ],
      "text/plain": [
       "<IPython.core.display.HTML object>"
      ]
     },
     "metadata": {
      "tags": []
     },
     "output_type": "display_data"
    },
    {
     "data": {
      "text/html": [
       "<h3>Run summary:</h3><br/><style>\n",
       "    table.wandb td:nth-child(1) { padding: 0 10px; text-align: right }\n",
       "    </style><table class=\"wandb\">\n",
       "<tr><td>epoch</td><td>24</td></tr><tr><td>loss</td><td>0.07677</td></tr><tr><td>mae</td><td>0.20942</td></tr><tr><td>val_loss</td><td>0.14383</td></tr><tr><td>val_mae</td><td>0.28107</td></tr><tr><td>_runtime</td><td>186</td></tr><tr><td>_timestamp</td><td>1620383367</td></tr><tr><td>_step</td><td>26</td></tr><tr><td>best_val_loss</td><td>0.13561</td></tr><tr><td>best_epoch</td><td>22</td></tr><tr><td>test_loss</td><td>0.123</td></tr><tr><td>test_mae</td><td>0.26813</td></tr></table>"
      ],
      "text/plain": [
       "<IPython.core.display.HTML object>"
      ]
     },
     "metadata": {
      "tags": []
     },
     "output_type": "display_data"
    },
    {
     "data": {
      "text/html": [
       "<h3>Run history:</h3><br/><style>\n",
       "    table.wandb td:nth-child(1) { padding: 0 10px; text-align: right }\n",
       "    </style><table class=\"wandb\">\n",
       "<tr><td>epoch</td><td>▁▁▂▂▂▂▃▃▃▄▄▄▅▅▅▅▆▆▆▇▇▇▇██</td></tr><tr><td>loss</td><td>█▇▄▂▂▂▂▁▁▁▁▁▁▁▁▁▁▁▁▁▁▁▁▁▁</td></tr><tr><td>mae</td><td>██▅▃▃▂▂▂▂▂▂▁▁▁▁▁▁▁▁▁▁▁▁▁▁</td></tr><tr><td>val_loss</td><td>█▆▂▂▁▁▁▁▁▁▁▁▁▁▁▁▁▁▁▁▁▁▁▁▁</td></tr><tr><td>val_mae</td><td>█▇▃▃▂▂▁▁▁▁▁▁▁▁▁▁▁▁▁▁▁▁▁▁▁</td></tr><tr><td>_runtime</td><td>▁▁▂▂▂▂▃▃▃▄▄▄▅▅▅▅▆▆▆▇▇▇▇████</td></tr><tr><td>_timestamp</td><td>▁▁▂▂▂▂▃▃▃▄▄▄▅▅▅▅▆▆▆▇▇▇▇████</td></tr><tr><td>_step</td><td>▁▁▂▂▂▂▃▃▃▃▄▄▄▅▅▅▅▆▆▆▆▇▇▇▇██</td></tr><tr><td>test_loss</td><td>▁</td></tr><tr><td>test_mae</td><td>▁</td></tr></table><br/>"
      ],
      "text/plain": [
       "<IPython.core.display.HTML object>"
      ]
     },
     "metadata": {
      "tags": []
     },
     "output_type": "display_data"
    },
    {
     "data": {
      "text/html": [
       "Synced 5 W&B file(s), 1 media file(s), 0 artifact file(s) and 1 other file(s)"
      ],
      "text/plain": [
       "<IPython.core.display.HTML object>"
      ]
     },
     "metadata": {
      "tags": []
     },
     "output_type": "display_data"
    },
    {
     "data": {
      "text/html": [
       "\n",
       "                    <br/>Synced <strong style=\"color:#cdcd00\">fast-sweep-25</strong>: <a href=\"https://wandb.ai/nbvanting/thesis/runs/4igkvhu0\" target=\"_blank\">https://wandb.ai/nbvanting/thesis/runs/4igkvhu0</a><br/>\n",
       "                "
      ],
      "text/plain": [
       "<IPython.core.display.HTML object>"
      ]
     },
     "metadata": {
      "tags": []
     },
     "output_type": "display_data"
    },
    {
     "name": "stderr",
     "output_type": "stream",
     "text": [
      "Run 4igkvhu0 errored: IndexError('list index out of range')\n",
      "\u001b[34m\u001b[1mwandb\u001b[0m: \u001b[32m\u001b[41mERROR\u001b[0m Run 4igkvhu0 errored: IndexError('list index out of range')\n",
      "\u001b[34m\u001b[1mwandb\u001b[0m: Agent Starting Run: n57nvth7 with config:\n",
      "\u001b[34m\u001b[1mwandb\u001b[0m: \tactivation_cnn: relu\n",
      "\u001b[34m\u001b[1mwandb\u001b[0m: \tactivation_gru: tanh\n",
      "\u001b[34m\u001b[1mwandb\u001b[0m: \tbatch_size: 52\n",
      "\u001b[34m\u001b[1mwandb\u001b[0m: \tcnn_lay_2: False\n",
      "\u001b[34m\u001b[1mwandb\u001b[0m: \tcnn_lay_3: False\n",
      "\u001b[34m\u001b[1mwandb\u001b[0m: \tcnn_layer_size_1: 41\n",
      "\u001b[34m\u001b[1mwandb\u001b[0m: \tcnn_layer_size_2: 222\n",
      "\u001b[34m\u001b[1mwandb\u001b[0m: \tcnn_layer_size_3: 94\n",
      "\u001b[34m\u001b[1mwandb\u001b[0m: \tdataset: strib\n",
      "\u001b[34m\u001b[1mwandb\u001b[0m: \tdropout: 0.29752001982669957\n",
      "\u001b[34m\u001b[1mwandb\u001b[0m: \tepochs: 25\n",
      "\u001b[34m\u001b[1mwandb\u001b[0m: \tgru_lay_1: True\n",
      "\u001b[34m\u001b[1mwandb\u001b[0m: \tgru_lay_2: False\n",
      "\u001b[34m\u001b[1mwandb\u001b[0m: \tgru_layer_size_1: 62\n",
      "\u001b[34m\u001b[1mwandb\u001b[0m: \tgru_layer_size_2: 149\n",
      "\u001b[34m\u001b[1mwandb\u001b[0m: \tgru_layer_size_3: 161\n",
      "\u001b[34m\u001b[1mwandb\u001b[0m: \tkernelsize: 7\n",
      "\u001b[34m\u001b[1mwandb\u001b[0m: \tlearning_rate: 0.012815054692766066\n",
      "\u001b[34m\u001b[1mwandb\u001b[0m: \tlookback: 744\n",
      "\u001b[34m\u001b[1mwandb\u001b[0m: \tmomentum: 0.7371565088829226\n",
      "\u001b[34m\u001b[1mwandb\u001b[0m: \tnum_cnn_layers: 2\n",
      "\u001b[34m\u001b[1mwandb\u001b[0m: \tnum_features: 9\n",
      "\u001b[34m\u001b[1mwandb\u001b[0m: \tnum_gru_layers: 2\n",
      "\u001b[34m\u001b[1mwandb\u001b[0m: \toptimizer: sgd\n",
      "\u001b[34m\u001b[1mwandb\u001b[0m: \tsplitmethod: standard\n",
      "\u001b[34m\u001b[1mwandb\u001b[0m: \tsplitrate: 0.8\n",
      "\u001b[34m\u001b[1mwandb\u001b[0m: \u001b[33mWARNING\u001b[0m Ignored wandb.init() arg project when running a sweep\n"
     ]
    },
    {
     "data": {
      "text/html": [
       "\n",
       "                Tracking run with wandb version 0.10.29<br/>\n",
       "                Syncing run <strong style=\"color:#cdcd00\">devout-sweep-26</strong> to <a href=\"https://wandb.ai\" target=\"_blank\">Weights & Biases</a> <a href=\"https://docs.wandb.com/integrations/jupyter.html\" target=\"_blank\">(Documentation)</a>.<br/>\n",
       "                Project page: <a href=\"https://wandb.ai/nbvanting/thesis\" target=\"_blank\">https://wandb.ai/nbvanting/thesis</a><br/>\n",
       "                Sweep page: <a href=\"https://wandb.ai/nbvanting/thesis/sweeps/xjdtj3eo\" target=\"_blank\">https://wandb.ai/nbvanting/thesis/sweeps/xjdtj3eo</a><br/>\n",
       "Run page: <a href=\"https://wandb.ai/nbvanting/thesis/runs/n57nvth7\" target=\"_blank\">https://wandb.ai/nbvanting/thesis/runs/n57nvth7</a><br/>\n",
       "                Run data is saved locally in <code>/content/wandb/run-20210507_102932-n57nvth7</code><br/><br/>\n",
       "            "
      ],
      "text/plain": [
       "<IPython.core.display.HTML object>"
      ]
     },
     "metadata": {
      "tags": []
     },
     "output_type": "display_data"
    },
    {
     "name": "stdout",
     "output_type": "stream",
     "text": [
      "Epoch 1/25\n",
      "302/302 [==============================] - 21s 60ms/step - loss: 0.5671 - mae: 0.5782 - val_loss: 0.9768 - val_mae: 0.7070\n",
      "Epoch 2/25\n",
      "302/302 [==============================] - 17s 57ms/step - loss: 0.2904 - mae: 0.4097 - val_loss: 0.6496 - val_mae: 0.5898\n",
      "Epoch 3/25\n",
      "302/302 [==============================] - 17s 57ms/step - loss: 0.2161 - mae: 0.3541 - val_loss: 0.4903 - val_mae: 0.5114\n",
      "Epoch 4/25\n",
      "302/302 [==============================] - 17s 57ms/step - loss: 0.1772 - mae: 0.3196 - val_loss: 0.3799 - val_mae: 0.4680\n",
      "Epoch 5/25\n",
      "302/302 [==============================] - 17s 57ms/step - loss: 0.1618 - mae: 0.3066 - val_loss: 0.3965 - val_mae: 0.4647\n",
      "Epoch 6/25\n",
      "302/302 [==============================] - 17s 57ms/step - loss: 0.1524 - mae: 0.2971 - val_loss: 0.3418 - val_mae: 0.4339\n",
      "Epoch 7/25\n",
      "302/302 [==============================] - 17s 57ms/step - loss: 0.1406 - mae: 0.2867 - val_loss: 0.3748 - val_mae: 0.4540\n",
      "Epoch 8/25\n",
      "302/302 [==============================] - 17s 57ms/step - loss: 0.1373 - mae: 0.2814 - val_loss: 0.3496 - val_mae: 0.4393\n",
      "Epoch 9/25\n",
      "154/302 [==============>...............] - ETA: 8s - loss: 0.1321 - mae: 0.2761"
     ]
    },
    {
     "data": {
      "text/html": [
       "<br/>Waiting for W&B process to finish, PID 6746<br/>Program failed with code 1.  Press ctrl-c to abort syncing."
      ],
      "text/plain": [
       "<IPython.core.display.HTML object>"
      ]
     },
     "metadata": {
      "tags": []
     },
     "output_type": "display_data"
    },
    {
     "data": {
      "application/vnd.jupyter.widget-view+json": {
       "model_id": "6043ff641e0d49299c754fad6cc37941",
       "version_major": 2,
       "version_minor": 0
      },
      "text/plain": [
       "VBox(children=(Label(value=' 1.05MB of 1.05MB uploaded (0.00MB deduped)\\r'), FloatProgress(value=1.0, max=1.0)…"
      ]
     },
     "metadata": {
      "tags": []
     },
     "output_type": "display_data"
    },
    {
     "data": {
      "text/html": [
       "Find user logs for this run at: <code>/content/wandb/run-20210507_102932-n57nvth7/logs/debug.log</code>"
      ],
      "text/plain": [
       "<IPython.core.display.HTML object>"
      ]
     },
     "metadata": {
      "tags": []
     },
     "output_type": "display_data"
    },
    {
     "data": {
      "text/html": [
       "Find internal logs for this run at: <code>/content/wandb/run-20210507_102932-n57nvth7/logs/debug-internal.log</code>"
      ],
      "text/plain": [
       "<IPython.core.display.HTML object>"
      ]
     },
     "metadata": {
      "tags": []
     },
     "output_type": "display_data"
    },
    {
     "data": {
      "text/html": [
       "<h3>Run summary:</h3><br/><style>\n",
       "    table.wandb td:nth-child(1) { padding: 0 10px; text-align: right }\n",
       "    </style><table class=\"wandb\">\n",
       "<tr><td>epoch</td><td>7</td></tr><tr><td>loss</td><td>0.13631</td></tr><tr><td>mae</td><td>0.27983</td></tr><tr><td>val_loss</td><td>0.34965</td></tr><tr><td>val_mae</td><td>0.43934</td></tr><tr><td>_runtime</td><td>146</td></tr><tr><td>_timestamp</td><td>1620383518</td></tr><tr><td>_step</td><td>7</td></tr><tr><td>best_val_loss</td><td>0.34184</td></tr><tr><td>best_epoch</td><td>5</td></tr></table>"
      ],
      "text/plain": [
       "<IPython.core.display.HTML object>"
      ]
     },
     "metadata": {
      "tags": []
     },
     "output_type": "display_data"
    },
    {
     "data": {
      "text/html": [
       "<h3>Run history:</h3><br/><style>\n",
       "    table.wandb td:nth-child(1) { padding: 0 10px; text-align: right }\n",
       "    </style><table class=\"wandb\">\n",
       "<tr><td>epoch</td><td>▁▂▃▄▅▆▇█</td></tr><tr><td>loss</td><td>█▄▂▂▂▁▁▁</td></tr><tr><td>mae</td><td>█▄▃▂▂▁▁▁</td></tr><tr><td>val_loss</td><td>█▄▃▁▂▁▁▁</td></tr><tr><td>val_mae</td><td>█▅▃▂▂▁▂▁</td></tr><tr><td>_runtime</td><td>▁▂▃▄▅▆▇█</td></tr><tr><td>_timestamp</td><td>▁▂▃▄▅▆▇█</td></tr><tr><td>_step</td><td>▁▂▃▄▅▆▇█</td></tr></table><br/>"
      ],
      "text/plain": [
       "<IPython.core.display.HTML object>"
      ]
     },
     "metadata": {
      "tags": []
     },
     "output_type": "display_data"
    },
    {
     "data": {
      "text/html": [
       "Synced 5 W&B file(s), 1 media file(s), 0 artifact file(s) and 1 other file(s)"
      ],
      "text/plain": [
       "<IPython.core.display.HTML object>"
      ]
     },
     "metadata": {
      "tags": []
     },
     "output_type": "display_data"
    },
    {
     "data": {
      "text/html": [
       "\n",
       "                    <br/>Synced <strong style=\"color:#cdcd00\">devout-sweep-26</strong>: <a href=\"https://wandb.ai/nbvanting/thesis/runs/n57nvth7\" target=\"_blank\">https://wandb.ai/nbvanting/thesis/runs/n57nvth7</a><br/>\n",
       "                "
      ],
      "text/plain": [
       "<IPython.core.display.HTML object>"
      ]
     },
     "metadata": {
      "tags": []
     },
     "output_type": "display_data"
    },
    {
     "name": "stderr",
     "output_type": "stream",
     "text": [
      "\u001b[34m\u001b[1mwandb\u001b[0m: Agent Starting Run: 4z8aerm5 with config:\n",
      "\u001b[34m\u001b[1mwandb\u001b[0m: \tactivation_cnn: relu\n",
      "\u001b[34m\u001b[1mwandb\u001b[0m: \tactivation_gru: tanh\n",
      "\u001b[34m\u001b[1mwandb\u001b[0m: \tbatch_size: 43\n",
      "\u001b[34m\u001b[1mwandb\u001b[0m: \tcnn_lay_2: True\n",
      "\u001b[34m\u001b[1mwandb\u001b[0m: \tcnn_lay_3: True\n",
      "\u001b[34m\u001b[1mwandb\u001b[0m: \tcnn_layer_size_1: 89\n",
      "\u001b[34m\u001b[1mwandb\u001b[0m: \tcnn_layer_size_2: 78\n",
      "\u001b[34m\u001b[1mwandb\u001b[0m: \tcnn_layer_size_3: 39\n",
      "\u001b[34m\u001b[1mwandb\u001b[0m: \tdataset: strib\n",
      "\u001b[34m\u001b[1mwandb\u001b[0m: \tdropout: 0.11729295789871694\n",
      "\u001b[34m\u001b[1mwandb\u001b[0m: \tepochs: 25\n",
      "\u001b[34m\u001b[1mwandb\u001b[0m: \tgru_lay_1: False\n",
      "\u001b[34m\u001b[1mwandb\u001b[0m: \tgru_lay_2: True\n",
      "\u001b[34m\u001b[1mwandb\u001b[0m: \tgru_layer_size_1: 45\n",
      "\u001b[34m\u001b[1mwandb\u001b[0m: \tgru_layer_size_2: 252\n",
      "\u001b[34m\u001b[1mwandb\u001b[0m: \tgru_layer_size_3: 165\n",
      "\u001b[34m\u001b[1mwandb\u001b[0m: \tkernelsize: 5\n",
      "\u001b[34m\u001b[1mwandb\u001b[0m: \tlearning_rate: 0.021337503211792386\n",
      "\u001b[34m\u001b[1mwandb\u001b[0m: \tlookback: 744\n",
      "\u001b[34m\u001b[1mwandb\u001b[0m: \tmomentum: 0.9843624172055019\n",
      "\u001b[34m\u001b[1mwandb\u001b[0m: \tnum_cnn_layers: 2\n",
      "\u001b[34m\u001b[1mwandb\u001b[0m: \tnum_features: 9\n",
      "\u001b[34m\u001b[1mwandb\u001b[0m: \tnum_gru_layers: 2\n",
      "\u001b[34m\u001b[1mwandb\u001b[0m: \toptimizer: sgd\n",
      "\u001b[34m\u001b[1mwandb\u001b[0m: \tsplitmethod: offset\n",
      "\u001b[34m\u001b[1mwandb\u001b[0m: \tsplitrate: 0.8\n",
      "\u001b[34m\u001b[1mwandb\u001b[0m: \u001b[33mWARNING\u001b[0m Ignored wandb.init() arg project when running a sweep\n"
     ]
    },
    {
     "data": {
      "text/html": [
       "\n",
       "                Tracking run with wandb version 0.10.29<br/>\n",
       "                Syncing run <strong style=\"color:#cdcd00\">colorful-sweep-27</strong> to <a href=\"https://wandb.ai\" target=\"_blank\">Weights & Biases</a> <a href=\"https://docs.wandb.com/integrations/jupyter.html\" target=\"_blank\">(Documentation)</a>.<br/>\n",
       "                Project page: <a href=\"https://wandb.ai/nbvanting/thesis\" target=\"_blank\">https://wandb.ai/nbvanting/thesis</a><br/>\n",
       "                Sweep page: <a href=\"https://wandb.ai/nbvanting/thesis/sweeps/xjdtj3eo\" target=\"_blank\">https://wandb.ai/nbvanting/thesis/sweeps/xjdtj3eo</a><br/>\n",
       "Run page: <a href=\"https://wandb.ai/nbvanting/thesis/runs/4z8aerm5\" target=\"_blank\">https://wandb.ai/nbvanting/thesis/runs/4z8aerm5</a><br/>\n",
       "                Run data is saved locally in <code>/content/wandb/run-20210507_103214-4z8aerm5</code><br/><br/>\n",
       "            "
      ],
      "text/plain": [
       "<IPython.core.display.HTML object>"
      ]
     },
     "metadata": {
      "tags": []
     },
     "output_type": "display_data"
    },
    {
     "name": "stdout",
     "output_type": "stream",
     "text": [
      "Epoch 1/25\n",
      "340/340 [==============================] - 17s 38ms/step - loss: 0.6942 - mae: 0.6480 - val_loss: 0.3306 - val_mae: 0.4301\n",
      "Epoch 2/25\n",
      "340/340 [==============================] - 11s 33ms/step - loss: 773026815287633128055635968.0000 - mae: 418014571753.9061 - val_loss: 58827718229288773235495086850048.0000 - val_mae: 7666850557067264.0000\n",
      "Epoch 3/25\n",
      "340/340 [==============================] - 12s 34ms/step - loss: nan - mae: nan - val_loss: nan - val_mae: nan\n",
      "Epoch 4/25\n",
      "340/340 [==============================] - 11s 33ms/step - loss: nan - mae: nan - val_loss: nan - val_mae: nan\n",
      "Epoch 5/25\n",
      "340/340 [==============================] - 12s 34ms/step - loss: nan - mae: nan - val_loss: nan - val_mae: nan\n",
      "Epoch 6/25\n",
      "340/340 [==============================] - 12s 34ms/step - loss: nan - mae: nan - val_loss: nan - val_mae: nan\n",
      "Epoch 7/25\n",
      "340/340 [==============================] - 12s 34ms/step - loss: nan - mae: nan - val_loss: nan - val_mae: nan\n",
      "Epoch 8/25\n",
      "340/340 [==============================] - 11s 33ms/step - loss: nan - mae: nan - val_loss: nan - val_mae: nan\n",
      "Epoch 9/25\n",
      "340/340 [==============================] - 11s 33ms/step - loss: nan - mae: nan - val_loss: nan - val_mae: nan\n",
      "Epoch 10/25\n",
      "340/340 [==============================] - 11s 33ms/step - loss: nan - mae: nan - val_loss: nan - val_mae: nan\n",
      "Epoch 11/25\n",
      "340/340 [==============================] - 12s 34ms/step - loss: nan - mae: nan - val_loss: nan - val_mae: nan\n",
      "Epoch 12/25\n",
      "340/340 [==============================] - 11s 33ms/step - loss: nan - mae: nan - val_loss: nan - val_mae: nan\n",
      "Epoch 13/25\n",
      "340/340 [==============================] - 11s 33ms/step - loss: nan - mae: nan - val_loss: nan - val_mae: nan\n",
      "Epoch 14/25\n",
      "340/340 [==============================] - 12s 34ms/step - loss: nan - mae: nan - val_loss: nan - val_mae: nan\n",
      "Epoch 15/25\n",
      "340/340 [==============================] - 11s 32ms/step - loss: nan - mae: nan - val_loss: nan - val_mae: nan\n",
      "Epoch 16/25\n",
      "340/340 [==============================] - 11s 33ms/step - loss: nan - mae: nan - val_loss: nan - val_mae: nan\n",
      "Epoch 17/25\n",
      "340/340 [==============================] - 11s 33ms/step - loss: nan - mae: nan - val_loss: nan - val_mae: nan\n",
      "Epoch 18/25\n",
      "340/340 [==============================] - 11s 33ms/step - loss: nan - mae: nan - val_loss: nan - val_mae: nan\n",
      "Epoch 19/25\n",
      "340/340 [==============================] - 11s 33ms/step - loss: nan - mae: nan - val_loss: nan - val_mae: nan\n",
      "Epoch 20/25\n",
      "340/340 [==============================] - 11s 34ms/step - loss: nan - mae: nan - val_loss: nan - val_mae: nan\n",
      "Epoch 21/25\n",
      "340/340 [==============================] - 11s 33ms/step - loss: nan - mae: nan - val_loss: nan - val_mae: nan\n",
      "Epoch 22/25\n",
      "340/340 [==============================] - 12s 34ms/step - loss: nan - mae: nan - val_loss: nan - val_mae: nan\n",
      "Epoch 23/25\n",
      "340/340 [==============================] - 11s 33ms/step - loss: nan - mae: nan - val_loss: nan - val_mae: nan\n",
      "Epoch 24/25\n",
      "340/340 [==============================] - 11s 33ms/step - loss: nan - mae: nan - val_loss: nan - val_mae: nan\n",
      "Epoch 25/25\n",
      "340/340 [==============================] - 11s 33ms/step - loss: nan - mae: nan - val_loss: nan - val_mae: nan\n",
      "35/35 [==============================] - 1s 23ms/step - loss: nan - mae: nan\n"
     ]
    },
    {
     "data": {
      "text/html": [
       "<br/>Waiting for W&B process to finish, PID 6875<br/>Program failed with code 1.  Press ctrl-c to abort syncing."
      ],
      "text/plain": [
       "<IPython.core.display.HTML object>"
      ]
     },
     "metadata": {
      "tags": []
     },
     "output_type": "display_data"
    },
    {
     "data": {
      "application/vnd.jupyter.widget-view+json": {
       "model_id": "2e9818a2e2a94382abe869feead83552",
       "version_major": 2,
       "version_minor": 0
      },
      "text/plain": [
       "VBox(children=(Label(value=' 3.75MB of 3.75MB uploaded (0.00MB deduped)\\r'), FloatProgress(value=1.0, max=1.0)…"
      ]
     },
     "metadata": {
      "tags": []
     },
     "output_type": "display_data"
    },
    {
     "data": {
      "text/html": [
       "Find user logs for this run at: <code>/content/wandb/run-20210507_103214-4z8aerm5/logs/debug.log</code>"
      ],
      "text/plain": [
       "<IPython.core.display.HTML object>"
      ]
     },
     "metadata": {
      "tags": []
     },
     "output_type": "display_data"
    },
    {
     "data": {
      "text/html": [
       "Find internal logs for this run at: <code>/content/wandb/run-20210507_103214-4z8aerm5/logs/debug-internal.log</code>"
      ],
      "text/plain": [
       "<IPython.core.display.HTML object>"
      ]
     },
     "metadata": {
      "tags": []
     },
     "output_type": "display_data"
    },
    {
     "data": {
      "text/html": [
       "<h3>Run summary:</h3><br/><style>\n",
       "    table.wandb td:nth-child(1) { padding: 0 10px; text-align: right }\n",
       "    </style><table class=\"wandb\">\n",
       "<tr><td>epoch</td><td>24</td></tr><tr><td>loss</td><td>nan</td></tr><tr><td>mae</td><td>nan</td></tr><tr><td>val_loss</td><td>nan</td></tr><tr><td>val_mae</td><td>nan</td></tr><tr><td>_runtime</td><td>296</td></tr><tr><td>_timestamp</td><td>1620383830</td></tr><tr><td>_step</td><td>26</td></tr><tr><td>best_val_loss</td><td>0.33059</td></tr><tr><td>best_epoch</td><td>0</td></tr><tr><td>test_loss</td><td>nan</td></tr><tr><td>test_mae</td><td>nan</td></tr></table>"
      ],
      "text/plain": [
       "<IPython.core.display.HTML object>"
      ]
     },
     "metadata": {
      "tags": []
     },
     "output_type": "display_data"
    },
    {
     "data": {
      "text/html": [
       "<h3>Run history:</h3><br/><style>\n",
       "    table.wandb td:nth-child(1) { padding: 0 10px; text-align: right }\n",
       "    </style><table class=\"wandb\">\n",
       "<tr><td>epoch</td><td>▁▁▂▂▂▂▃▃▃▄▄▄▅▅▅▅▆▆▆▇▇▇▇██</td></tr><tr><td>loss</td><td>▁█                       </td></tr><tr><td>mae</td><td>▁█                       </td></tr><tr><td>val_loss</td><td>▁█                       </td></tr><tr><td>val_mae</td><td>▁█                       </td></tr><tr><td>_runtime</td><td>▁▁▂▂▂▂▃▃▃▄▄▄▄▅▅▅▆▆▆▇▇▇▇████</td></tr><tr><td>_timestamp</td><td>▁▁▂▂▂▂▃▃▃▄▄▄▄▅▅▅▆▆▆▇▇▇▇████</td></tr><tr><td>_step</td><td>▁▁▂▂▂▂▃▃▃▃▄▄▄▅▅▅▅▆▆▆▆▇▇▇▇██</td></tr><tr><td>test_loss</td><td></td></tr><tr><td>test_mae</td><td></td></tr></table><br/>"
      ],
      "text/plain": [
       "<IPython.core.display.HTML object>"
      ]
     },
     "metadata": {
      "tags": []
     },
     "output_type": "display_data"
    },
    {
     "data": {
      "text/html": [
       "Synced 5 W&B file(s), 1 media file(s), 0 artifact file(s) and 1 other file(s)"
      ],
      "text/plain": [
       "<IPython.core.display.HTML object>"
      ]
     },
     "metadata": {
      "tags": []
     },
     "output_type": "display_data"
    },
    {
     "data": {
      "text/html": [
       "\n",
       "                    <br/>Synced <strong style=\"color:#cdcd00\">colorful-sweep-27</strong>: <a href=\"https://wandb.ai/nbvanting/thesis/runs/4z8aerm5\" target=\"_blank\">https://wandb.ai/nbvanting/thesis/runs/4z8aerm5</a><br/>\n",
       "                "
      ],
      "text/plain": [
       "<IPython.core.display.HTML object>"
      ]
     },
     "metadata": {
      "tags": []
     },
     "output_type": "display_data"
    },
    {
     "name": "stderr",
     "output_type": "stream",
     "text": [
      "Run 4z8aerm5 errored: IndexError('list index out of range')\n",
      "\u001b[34m\u001b[1mwandb\u001b[0m: \u001b[32m\u001b[41mERROR\u001b[0m Run 4z8aerm5 errored: IndexError('list index out of range')\n",
      "\u001b[34m\u001b[1mwandb\u001b[0m: Agent Starting Run: qk3m6qcg with config:\n",
      "\u001b[34m\u001b[1mwandb\u001b[0m: \tactivation_cnn: relu\n",
      "\u001b[34m\u001b[1mwandb\u001b[0m: \tactivation_gru: tanh\n",
      "\u001b[34m\u001b[1mwandb\u001b[0m: \tbatch_size: 248\n",
      "\u001b[34m\u001b[1mwandb\u001b[0m: \tcnn_lay_2: False\n",
      "\u001b[34m\u001b[1mwandb\u001b[0m: \tcnn_lay_3: False\n",
      "\u001b[34m\u001b[1mwandb\u001b[0m: \tcnn_layer_size_1: 46\n",
      "\u001b[34m\u001b[1mwandb\u001b[0m: \tcnn_layer_size_2: 55\n",
      "\u001b[34m\u001b[1mwandb\u001b[0m: \tcnn_layer_size_3: 187\n",
      "\u001b[34m\u001b[1mwandb\u001b[0m: \tdataset: strib\n",
      "\u001b[34m\u001b[1mwandb\u001b[0m: \tdropout: 0.3311489038129689\n",
      "\u001b[34m\u001b[1mwandb\u001b[0m: \tepochs: 25\n",
      "\u001b[34m\u001b[1mwandb\u001b[0m: \tgru_lay_1: True\n",
      "\u001b[34m\u001b[1mwandb\u001b[0m: \tgru_lay_2: False\n",
      "\u001b[34m\u001b[1mwandb\u001b[0m: \tgru_layer_size_1: 108\n",
      "\u001b[34m\u001b[1mwandb\u001b[0m: \tgru_layer_size_2: 55\n",
      "\u001b[34m\u001b[1mwandb\u001b[0m: \tgru_layer_size_3: 134\n",
      "\u001b[34m\u001b[1mwandb\u001b[0m: \tkernelsize: 7\n",
      "\u001b[34m\u001b[1mwandb\u001b[0m: \tlearning_rate: 0.02731101960967775\n",
      "\u001b[34m\u001b[1mwandb\u001b[0m: \tlookback: 744\n",
      "\u001b[34m\u001b[1mwandb\u001b[0m: \tmomentum: 0.5891190589970756\n",
      "\u001b[34m\u001b[1mwandb\u001b[0m: \tnum_cnn_layers: 2\n",
      "\u001b[34m\u001b[1mwandb\u001b[0m: \tnum_features: 9\n",
      "\u001b[34m\u001b[1mwandb\u001b[0m: \tnum_gru_layers: 2\n",
      "\u001b[34m\u001b[1mwandb\u001b[0m: \toptimizer: sgd\n",
      "\u001b[34m\u001b[1mwandb\u001b[0m: \tsplitmethod: standard\n",
      "\u001b[34m\u001b[1mwandb\u001b[0m: \tsplitrate: 0.8\n",
      "\u001b[34m\u001b[1mwandb\u001b[0m: \u001b[33mWARNING\u001b[0m Ignored wandb.init() arg project when running a sweep\n"
     ]
    },
    {
     "data": {
      "text/html": [
       "\n",
       "                Tracking run with wandb version 0.10.29<br/>\n",
       "                Syncing run <strong style=\"color:#cdcd00\">iconic-sweep-28</strong> to <a href=\"https://wandb.ai\" target=\"_blank\">Weights & Biases</a> <a href=\"https://docs.wandb.com/integrations/jupyter.html\" target=\"_blank\">(Documentation)</a>.<br/>\n",
       "                Project page: <a href=\"https://wandb.ai/nbvanting/thesis\" target=\"_blank\">https://wandb.ai/nbvanting/thesis</a><br/>\n",
       "                Sweep page: <a href=\"https://wandb.ai/nbvanting/thesis/sweeps/xjdtj3eo\" target=\"_blank\">https://wandb.ai/nbvanting/thesis/sweeps/xjdtj3eo</a><br/>\n",
       "Run page: <a href=\"https://wandb.ai/nbvanting/thesis/runs/qk3m6qcg\" target=\"_blank\">https://wandb.ai/nbvanting/thesis/runs/qk3m6qcg</a><br/>\n",
       "                Run data is saved locally in <code>/content/wandb/run-20210507_103715-qk3m6qcg</code><br/><br/>\n",
       "            "
      ],
      "text/plain": [
       "<IPython.core.display.HTML object>"
      ]
     },
     "metadata": {
      "tags": []
     },
     "output_type": "display_data"
    },
    {
     "name": "stdout",
     "output_type": "stream",
     "text": [
      "Epoch 1/25\n",
      "64/64 [==============================] - 12s 134ms/step - loss: 0.6670 - mae: 0.6334 - val_loss: 2.2746 - val_mae: 1.2359\n",
      "Epoch 2/25\n",
      "64/64 [==============================] - 8s 123ms/step - loss: 0.4247 - mae: 0.5039 - val_loss: 1.6836 - val_mae: 0.9919\n",
      "Epoch 3/25\n",
      "64/64 [==============================] - 8s 123ms/step - loss: 0.3464 - mae: 0.4499 - val_loss: 0.8745 - val_mae: 0.6521\n",
      "Epoch 4/25\n",
      "64/64 [==============================] - 8s 124ms/step - loss: 0.2929 - mae: 0.4127 - val_loss: 0.8933 - val_mae: 0.6695\n",
      "Epoch 5/25\n",
      "64/64 [==============================] - 8s 124ms/step - loss: 0.2536 - mae: 0.3842 - val_loss: 1.0530 - val_mae: 0.7403\n",
      "Epoch 6/25\n",
      "64/64 [==============================] - 8s 122ms/step - loss: 0.2320 - mae: 0.3678 - val_loss: 0.7846 - val_mae: 0.6294\n",
      "Epoch 7/25\n",
      "64/64 [==============================] - 8s 123ms/step - loss: 0.2177 - mae: 0.3552 - val_loss: 0.7581 - val_mae: 0.6292\n",
      "Epoch 8/25\n",
      "64/64 [==============================] - 8s 123ms/step - loss: 0.2007 - mae: 0.3419 - val_loss: 0.6745 - val_mae: 0.5902\n",
      "Epoch 9/25\n",
      "64/64 [==============================] - 8s 124ms/step - loss: 0.1918 - mae: 0.3364 - val_loss: 0.7373 - val_mae: 0.6342\n",
      "Epoch 10/25\n",
      "64/64 [==============================] - 8s 122ms/step - loss: 0.1823 - mae: 0.3257 - val_loss: 0.8465 - val_mae: 0.7064\n",
      "Epoch 11/25\n",
      "64/64 [==============================] - 8s 122ms/step - loss: 0.1757 - mae: 0.3203 - val_loss: 0.4626 - val_mae: 0.4930\n",
      "Epoch 12/25\n",
      "64/64 [==============================] - 9s 142ms/step - loss: 0.1716 - mae: 0.3187 - val_loss: 0.5080 - val_mae: 0.5295\n",
      "Epoch 13/25\n",
      "64/64 [==============================] - 8s 123ms/step - loss: 0.1675 - mae: 0.3136 - val_loss: 0.5375 - val_mae: 0.5433\n",
      "Epoch 14/25\n",
      "64/64 [==============================] - 8s 122ms/step - loss: 0.1614 - mae: 0.3062 - val_loss: 0.4658 - val_mae: 0.4913\n",
      "Epoch 15/25\n",
      "64/64 [==============================] - 8s 124ms/step - loss: 0.1550 - mae: 0.2999 - val_loss: 0.3525 - val_mae: 0.4311\n",
      "Epoch 16/25\n",
      "64/64 [==============================] - 8s 123ms/step - loss: 0.1553 - mae: 0.3000 - val_loss: 0.3966 - val_mae: 0.4618\n",
      "Epoch 17/25\n",
      "64/64 [==============================] - 8s 124ms/step - loss: 0.1484 - mae: 0.2954 - val_loss: 0.3674 - val_mae: 0.4482\n",
      "Epoch 18/25\n",
      "64/64 [==============================] - 8s 124ms/step - loss: 0.1448 - mae: 0.2906 - val_loss: 0.3269 - val_mae: 0.4146\n",
      "Epoch 19/25\n",
      "64/64 [==============================] - 8s 124ms/step - loss: 0.1450 - mae: 0.2903 - val_loss: 0.3226 - val_mae: 0.4148\n",
      "Epoch 20/25\n",
      "64/64 [==============================] - 8s 123ms/step - loss: 0.1406 - mae: 0.2869 - val_loss: 0.3258 - val_mae: 0.4130\n",
      "Epoch 21/25\n",
      "64/64 [==============================] - 8s 123ms/step - loss: 0.1411 - mae: 0.2868 - val_loss: 0.4458 - val_mae: 0.4998\n",
      "Epoch 22/25\n",
      "64/64 [==============================] - 8s 125ms/step - loss: 0.1398 - mae: 0.2840 - val_loss: 0.3341 - val_mae: 0.4177\n",
      "Epoch 23/25\n",
      "64/64 [==============================] - 8s 125ms/step - loss: 0.1351 - mae: 0.2802 - val_loss: 0.3103 - val_mae: 0.3996\n",
      "Epoch 24/25\n",
      "64/64 [==============================] - 8s 126ms/step - loss: 0.1334 - mae: 0.2783 - val_loss: 0.3461 - val_mae: 0.4333\n",
      "Epoch 25/25\n",
      "64/64 [==============================] - 8s 124ms/step - loss: 0.1346 - mae: 0.2785 - val_loss: 0.3275 - val_mae: 0.4154\n",
      "3/3 [==============================] - 0s 33ms/step - loss: 0.1651 - mae: 0.2934\n"
     ]
    },
    {
     "data": {
      "text/html": [
       "<br/>Waiting for W&B process to finish, PID 7183<br/>Program failed with code 1.  Press ctrl-c to abort syncing."
      ],
      "text/plain": [
       "<IPython.core.display.HTML object>"
      ]
     },
     "metadata": {
      "tags": []
     },
     "output_type": "display_data"
    },
    {
     "data": {
      "application/vnd.jupyter.widget-view+json": {
       "model_id": "dfe2520b01824d69996bdc83713f2f2e",
       "version_major": 2,
       "version_minor": 0
      },
      "text/plain": [
       "VBox(children=(Label(value=' 1.20MB of 1.20MB uploaded (0.00MB deduped)\\r'), FloatProgress(value=1.0, max=1.0)…"
      ]
     },
     "metadata": {
      "tags": []
     },
     "output_type": "display_data"
    },
    {
     "data": {
      "text/html": [
       "Find user logs for this run at: <code>/content/wandb/run-20210507_103715-qk3m6qcg/logs/debug.log</code>"
      ],
      "text/plain": [
       "<IPython.core.display.HTML object>"
      ]
     },
     "metadata": {
      "tags": []
     },
     "output_type": "display_data"
    },
    {
     "data": {
      "text/html": [
       "Find internal logs for this run at: <code>/content/wandb/run-20210507_103715-qk3m6qcg/logs/debug-internal.log</code>"
      ],
      "text/plain": [
       "<IPython.core.display.HTML object>"
      ]
     },
     "metadata": {
      "tags": []
     },
     "output_type": "display_data"
    },
    {
     "data": {
      "text/html": [
       "<h3>Run summary:</h3><br/><style>\n",
       "    table.wandb td:nth-child(1) { padding: 0 10px; text-align: right }\n",
       "    </style><table class=\"wandb\">\n",
       "<tr><td>epoch</td><td>24</td></tr><tr><td>loss</td><td>0.13124</td></tr><tr><td>mae</td><td>0.27512</td></tr><tr><td>val_loss</td><td>0.32748</td></tr><tr><td>val_mae</td><td>0.41538</td></tr><tr><td>_runtime</td><td>214</td></tr><tr><td>_timestamp</td><td>1620384049</td></tr><tr><td>_step</td><td>26</td></tr><tr><td>best_val_loss</td><td>0.31033</td></tr><tr><td>best_epoch</td><td>22</td></tr><tr><td>test_loss</td><td>0.16513</td></tr><tr><td>test_mae</td><td>0.29342</td></tr></table>"
      ],
      "text/plain": [
       "<IPython.core.display.HTML object>"
      ]
     },
     "metadata": {
      "tags": []
     },
     "output_type": "display_data"
    },
    {
     "data": {
      "text/html": [
       "<h3>Run history:</h3><br/><style>\n",
       "    table.wandb td:nth-child(1) { padding: 0 10px; text-align: right }\n",
       "    </style><table class=\"wandb\">\n",
       "<tr><td>epoch</td><td>▁▁▂▂▂▂▃▃▃▄▄▄▅▅▅▅▆▆▆▇▇▇▇██</td></tr><tr><td>loss</td><td>█▆▄▃▃▃▂▂▂▂▂▂▂▁▁▁▁▁▁▁▁▁▁▁▁</td></tr><tr><td>mae</td><td>█▆▅▄▃▃▃▂▂▂▂▂▂▂▂▂▁▁▁▁▁▁▁▁▁</td></tr><tr><td>val_loss</td><td>█▆▃▃▄▃▃▂▃▃▂▂▂▂▁▁▁▁▁▁▁▁▁▁▁</td></tr><tr><td>val_mae</td><td>█▆▃▃▄▃▃▃▃▄▂▂▂▂▁▂▁▁▁▁▂▁▁▁▁</td></tr><tr><td>_runtime</td><td>▁▁▂▂▂▂▃▃▃▄▄▄▅▅▅▅▆▆▆▇▇▇▇████</td></tr><tr><td>_timestamp</td><td>▁▁▂▂▂▂▃▃▃▄▄▄▅▅▅▅▆▆▆▇▇▇▇████</td></tr><tr><td>_step</td><td>▁▁▂▂▂▂▃▃▃▃▄▄▄▅▅▅▅▆▆▆▆▇▇▇▇██</td></tr><tr><td>test_loss</td><td>▁</td></tr><tr><td>test_mae</td><td>▁</td></tr></table><br/>"
      ],
      "text/plain": [
       "<IPython.core.display.HTML object>"
      ]
     },
     "metadata": {
      "tags": []
     },
     "output_type": "display_data"
    },
    {
     "data": {
      "text/html": [
       "Synced 5 W&B file(s), 1 media file(s), 0 artifact file(s) and 1 other file(s)"
      ],
      "text/plain": [
       "<IPython.core.display.HTML object>"
      ]
     },
     "metadata": {
      "tags": []
     },
     "output_type": "display_data"
    },
    {
     "data": {
      "text/html": [
       "\n",
       "                    <br/>Synced <strong style=\"color:#cdcd00\">iconic-sweep-28</strong>: <a href=\"https://wandb.ai/nbvanting/thesis/runs/qk3m6qcg\" target=\"_blank\">https://wandb.ai/nbvanting/thesis/runs/qk3m6qcg</a><br/>\n",
       "                "
      ],
      "text/plain": [
       "<IPython.core.display.HTML object>"
      ]
     },
     "metadata": {
      "tags": []
     },
     "output_type": "display_data"
    },
    {
     "name": "stderr",
     "output_type": "stream",
     "text": [
      "Run qk3m6qcg errored: IndexError('list index out of range')\n",
      "\u001b[34m\u001b[1mwandb\u001b[0m: \u001b[32m\u001b[41mERROR\u001b[0m Run qk3m6qcg errored: IndexError('list index out of range')\n",
      "\u001b[34m\u001b[1mwandb\u001b[0m: Agent Starting Run: f9u1mqt7 with config:\n",
      "\u001b[34m\u001b[1mwandb\u001b[0m: \tactivation_cnn: relu\n",
      "\u001b[34m\u001b[1mwandb\u001b[0m: \tactivation_gru: tanh\n",
      "\u001b[34m\u001b[1mwandb\u001b[0m: \tbatch_size: 34\n",
      "\u001b[34m\u001b[1mwandb\u001b[0m: \tcnn_lay_2: True\n",
      "\u001b[34m\u001b[1mwandb\u001b[0m: \tcnn_lay_3: False\n",
      "\u001b[34m\u001b[1mwandb\u001b[0m: \tcnn_layer_size_1: 49\n",
      "\u001b[34m\u001b[1mwandb\u001b[0m: \tcnn_layer_size_2: 37\n",
      "\u001b[34m\u001b[1mwandb\u001b[0m: \tcnn_layer_size_3: 172\n",
      "\u001b[34m\u001b[1mwandb\u001b[0m: \tdataset: kolding\n",
      "\u001b[34m\u001b[1mwandb\u001b[0m: \tdropout: 0.06726354390714095\n",
      "\u001b[34m\u001b[1mwandb\u001b[0m: \tepochs: 25\n",
      "\u001b[34m\u001b[1mwandb\u001b[0m: \tgru_lay_1: False\n",
      "\u001b[34m\u001b[1mwandb\u001b[0m: \tgru_lay_2: False\n",
      "\u001b[34m\u001b[1mwandb\u001b[0m: \tgru_layer_size_1: 127\n",
      "\u001b[34m\u001b[1mwandb\u001b[0m: \tgru_layer_size_2: 92\n",
      "\u001b[34m\u001b[1mwandb\u001b[0m: \tgru_layer_size_3: 53\n",
      "\u001b[34m\u001b[1mwandb\u001b[0m: \tkernelsize: 5\n",
      "\u001b[34m\u001b[1mwandb\u001b[0m: \tlearning_rate: 0.0021394982126903828\n",
      "\u001b[34m\u001b[1mwandb\u001b[0m: \tlookback: 744\n",
      "\u001b[34m\u001b[1mwandb\u001b[0m: \tmomentum: 0.5477788503795882\n",
      "\u001b[34m\u001b[1mwandb\u001b[0m: \tnum_cnn_layers: 2\n",
      "\u001b[34m\u001b[1mwandb\u001b[0m: \tnum_features: 9\n",
      "\u001b[34m\u001b[1mwandb\u001b[0m: \tnum_gru_layers: 2\n",
      "\u001b[34m\u001b[1mwandb\u001b[0m: \toptimizer: sgd\n",
      "\u001b[34m\u001b[1mwandb\u001b[0m: \tsplitmethod: standard\n",
      "\u001b[34m\u001b[1mwandb\u001b[0m: \tsplitrate: 0.8\n",
      "\u001b[34m\u001b[1mwandb\u001b[0m: \u001b[33mWARNING\u001b[0m Ignored wandb.init() arg project when running a sweep\n"
     ]
    },
    {
     "data": {
      "text/html": [
       "\n",
       "                Tracking run with wandb version 0.10.29<br/>\n",
       "                Syncing run <strong style=\"color:#cdcd00\">zany-sweep-29</strong> to <a href=\"https://wandb.ai\" target=\"_blank\">Weights & Biases</a> <a href=\"https://docs.wandb.com/integrations/jupyter.html\" target=\"_blank\">(Documentation)</a>.<br/>\n",
       "                Project page: <a href=\"https://wandb.ai/nbvanting/thesis\" target=\"_blank\">https://wandb.ai/nbvanting/thesis</a><br/>\n",
       "                Sweep page: <a href=\"https://wandb.ai/nbvanting/thesis/sweeps/xjdtj3eo\" target=\"_blank\">https://wandb.ai/nbvanting/thesis/sweeps/xjdtj3eo</a><br/>\n",
       "Run page: <a href=\"https://wandb.ai/nbvanting/thesis/runs/f9u1mqt7\" target=\"_blank\">https://wandb.ai/nbvanting/thesis/runs/f9u1mqt7</a><br/>\n",
       "                Run data is saved locally in <code>/content/wandb/run-20210507_104055-f9u1mqt7</code><br/><br/>\n",
       "            "
      ],
      "text/plain": [
       "<IPython.core.display.HTML object>"
      ]
     },
     "metadata": {
      "tags": []
     },
     "output_type": "display_data"
    },
    {
     "name": "stdout",
     "output_type": "stream",
     "text": [
      "Epoch 1/25\n",
      "461/461 [==============================] - 14s 26ms/step - loss: 0.6779 - mae: 0.6453 - val_loss: 1.0721 - val_mae: 0.7780\n",
      "Epoch 2/25\n",
      "461/461 [==============================] - 11s 24ms/step - loss: 0.4482 - mae: 0.5177 - val_loss: 1.0298 - val_mae: 0.7304\n",
      "Epoch 3/25\n",
      "461/461 [==============================] - 11s 24ms/step - loss: 0.3369 - mae: 0.4464 - val_loss: 1.0718 - val_mae: 0.7530\n",
      "Epoch 4/25\n",
      "461/461 [==============================] - 11s 23ms/step - loss: 0.2719 - mae: 0.3974 - val_loss: 0.7785 - val_mae: 0.6515\n",
      "Epoch 5/25\n",
      "461/461 [==============================] - 11s 23ms/step - loss: 0.2260 - mae: 0.3616 - val_loss: 0.6835 - val_mae: 0.6111\n",
      "Epoch 6/25\n",
      "461/461 [==============================] - 10s 22ms/step - loss: 0.1949 - mae: 0.3365 - val_loss: 0.5491 - val_mae: 0.5495\n",
      "Epoch 7/25\n",
      "397/461 [========================>.....] - ETA: 1s - loss: 0.1715 - mae: 0.3139"
     ]
    },
    {
     "data": {
      "text/html": [
       "<br/>Waiting for W&B process to finish, PID 7480<br/>Program failed with code 1.  Press ctrl-c to abort syncing."
      ],
      "text/plain": [
       "<IPython.core.display.HTML object>"
      ]
     },
     "metadata": {
      "tags": []
     },
     "output_type": "display_data"
    },
    {
     "data": {
      "application/vnd.jupyter.widget-view+json": {
       "model_id": "d146fe3f5dd94ddcbb2a9d0a032b12c7",
       "version_major": 2,
       "version_minor": 0
      },
      "text/plain": [
       "VBox(children=(Label(value=' 0.24MB of 0.24MB uploaded (0.00MB deduped)\\r'), FloatProgress(value=1.0, max=1.0)…"
      ]
     },
     "metadata": {
      "tags": []
     },
     "output_type": "display_data"
    },
    {
     "data": {
      "text/html": [
       "Find user logs for this run at: <code>/content/wandb/run-20210507_104055-f9u1mqt7/logs/debug.log</code>"
      ],
      "text/plain": [
       "<IPython.core.display.HTML object>"
      ]
     },
     "metadata": {
      "tags": []
     },
     "output_type": "display_data"
    },
    {
     "data": {
      "text/html": [
       "Find internal logs for this run at: <code>/content/wandb/run-20210507_104055-f9u1mqt7/logs/debug-internal.log</code>"
      ],
      "text/plain": [
       "<IPython.core.display.HTML object>"
      ]
     },
     "metadata": {
      "tags": []
     },
     "output_type": "display_data"
    },
    {
     "data": {
      "text/html": [
       "<h3>Run summary:</h3><br/><style>\n",
       "    table.wandb td:nth-child(1) { padding: 0 10px; text-align: right }\n",
       "    </style><table class=\"wandb\">\n",
       "<tr><td>epoch</td><td>5</td></tr><tr><td>loss</td><td>0.19105</td></tr><tr><td>mae</td><td>0.33091</td></tr><tr><td>val_loss</td><td>0.54909</td></tr><tr><td>val_mae</td><td>0.5495</td></tr><tr><td>_runtime</td><td>71</td></tr><tr><td>_timestamp</td><td>1620384126</td></tr><tr><td>_step</td><td>5</td></tr><tr><td>best_val_loss</td><td>0.54909</td></tr><tr><td>best_epoch</td><td>5</td></tr></table>"
      ],
      "text/plain": [
       "<IPython.core.display.HTML object>"
      ]
     },
     "metadata": {
      "tags": []
     },
     "output_type": "display_data"
    },
    {
     "data": {
      "text/html": [
       "<h3>Run history:</h3><br/><style>\n",
       "    table.wandb td:nth-child(1) { padding: 0 10px; text-align: right }\n",
       "    </style><table class=\"wandb\">\n",
       "<tr><td>epoch</td><td>▁▂▄▅▇█</td></tr><tr><td>loss</td><td>█▅▃▂▁▁</td></tr><tr><td>mae</td><td>█▅▄▂▂▁</td></tr><tr><td>val_loss</td><td>█▇█▄▃▁</td></tr><tr><td>val_mae</td><td>█▇▇▄▃▁</td></tr><tr><td>_runtime</td><td>▁▂▄▅▇█</td></tr><tr><td>_timestamp</td><td>▁▂▄▅▇█</td></tr><tr><td>_step</td><td>▁▂▄▅▇█</td></tr></table><br/>"
      ],
      "text/plain": [
       "<IPython.core.display.HTML object>"
      ]
     },
     "metadata": {
      "tags": []
     },
     "output_type": "display_data"
    },
    {
     "data": {
      "text/html": [
       "Synced 5 W&B file(s), 1 media file(s), 0 artifact file(s) and 1 other file(s)"
      ],
      "text/plain": [
       "<IPython.core.display.HTML object>"
      ]
     },
     "metadata": {
      "tags": []
     },
     "output_type": "display_data"
    },
    {
     "data": {
      "text/html": [
       "\n",
       "                    <br/>Synced <strong style=\"color:#cdcd00\">zany-sweep-29</strong>: <a href=\"https://wandb.ai/nbvanting/thesis/runs/f9u1mqt7\" target=\"_blank\">https://wandb.ai/nbvanting/thesis/runs/f9u1mqt7</a><br/>\n",
       "                "
      ],
      "text/plain": [
       "<IPython.core.display.HTML object>"
      ]
     },
     "metadata": {
      "tags": []
     },
     "output_type": "display_data"
    },
    {
     "name": "stderr",
     "output_type": "stream",
     "text": [
      "\u001b[34m\u001b[1mwandb\u001b[0m: Agent Starting Run: hhkj2bfc with config:\n",
      "\u001b[34m\u001b[1mwandb\u001b[0m: \tactivation_cnn: relu\n",
      "\u001b[34m\u001b[1mwandb\u001b[0m: \tactivation_gru: tanh\n",
      "\u001b[34m\u001b[1mwandb\u001b[0m: \tbatch_size: 226\n",
      "\u001b[34m\u001b[1mwandb\u001b[0m: \tcnn_lay_2: False\n",
      "\u001b[34m\u001b[1mwandb\u001b[0m: \tcnn_lay_3: False\n",
      "\u001b[34m\u001b[1mwandb\u001b[0m: \tcnn_layer_size_1: 58\n",
      "\u001b[34m\u001b[1mwandb\u001b[0m: \tcnn_layer_size_2: 38\n",
      "\u001b[34m\u001b[1mwandb\u001b[0m: \tcnn_layer_size_3: 60\n",
      "\u001b[34m\u001b[1mwandb\u001b[0m: \tdataset: strib\n",
      "\u001b[34m\u001b[1mwandb\u001b[0m: \tdropout: 0.18006748150354013\n",
      "\u001b[34m\u001b[1mwandb\u001b[0m: \tepochs: 25\n",
      "\u001b[34m\u001b[1mwandb\u001b[0m: \tgru_lay_1: False\n",
      "\u001b[34m\u001b[1mwandb\u001b[0m: \tgru_lay_2: False\n",
      "\u001b[34m\u001b[1mwandb\u001b[0m: \tgru_layer_size_1: 77\n",
      "\u001b[34m\u001b[1mwandb\u001b[0m: \tgru_layer_size_2: 40\n",
      "\u001b[34m\u001b[1mwandb\u001b[0m: \tgru_layer_size_3: 189\n",
      "\u001b[34m\u001b[1mwandb\u001b[0m: \tkernelsize: 3\n",
      "\u001b[34m\u001b[1mwandb\u001b[0m: \tlearning_rate: 0.03955721066589622\n",
      "\u001b[34m\u001b[1mwandb\u001b[0m: \tlookback: 744\n",
      "\u001b[34m\u001b[1mwandb\u001b[0m: \tmomentum: 0.84459472882169\n",
      "\u001b[34m\u001b[1mwandb\u001b[0m: \tnum_cnn_layers: 2\n",
      "\u001b[34m\u001b[1mwandb\u001b[0m: \tnum_features: 9\n",
      "\u001b[34m\u001b[1mwandb\u001b[0m: \tnum_gru_layers: 2\n",
      "\u001b[34m\u001b[1mwandb\u001b[0m: \toptimizer: sgd\n",
      "\u001b[34m\u001b[1mwandb\u001b[0m: \tsplitmethod: offset\n",
      "\u001b[34m\u001b[1mwandb\u001b[0m: \tsplitrate: 0.8\n",
      "\u001b[34m\u001b[1mwandb\u001b[0m: \u001b[33mWARNING\u001b[0m Ignored wandb.init() arg project when running a sweep\n"
     ]
    },
    {
     "data": {
      "text/html": [
       "\n",
       "                Tracking run with wandb version 0.10.29<br/>\n",
       "                Syncing run <strong style=\"color:#cdcd00\">true-sweep-30</strong> to <a href=\"https://wandb.ai\" target=\"_blank\">Weights & Biases</a> <a href=\"https://docs.wandb.com/integrations/jupyter.html\" target=\"_blank\">(Documentation)</a>.<br/>\n",
       "                Project page: <a href=\"https://wandb.ai/nbvanting/thesis\" target=\"_blank\">https://wandb.ai/nbvanting/thesis</a><br/>\n",
       "                Sweep page: <a href=\"https://wandb.ai/nbvanting/thesis/sweeps/xjdtj3eo\" target=\"_blank\">https://wandb.ai/nbvanting/thesis/sweeps/xjdtj3eo</a><br/>\n",
       "Run page: <a href=\"https://wandb.ai/nbvanting/thesis/runs/hhkj2bfc\" target=\"_blank\">https://wandb.ai/nbvanting/thesis/runs/hhkj2bfc</a><br/>\n",
       "                Run data is saved locally in <code>/content/wandb/run-20210507_104223-hhkj2bfc</code><br/><br/>\n",
       "            "
      ],
      "text/plain": [
       "<IPython.core.display.HTML object>"
      ]
     },
     "metadata": {
      "tags": []
     },
     "output_type": "display_data"
    },
    {
     "name": "stdout",
     "output_type": "stream",
     "text": [
      "Epoch 1/25\n",
      "65/65 [==============================] - 9s 111ms/step - loss: 0.5945 - mae: 0.5908 - val_loss: 0.3809 - val_mae: 0.4873\n",
      "Epoch 2/25\n",
      "65/65 [==============================] - 7s 104ms/step - loss: 0.3160 - mae: 0.4234 - val_loss: 0.3186 - val_mae: 0.4481\n",
      "Epoch 3/25\n",
      "65/65 [==============================] - 7s 105ms/step - loss: 0.2660 - mae: 0.3862 - val_loss: 0.2877 - val_mae: 0.4103\n",
      "Epoch 4/25\n",
      "65/65 [==============================] - 7s 103ms/step - loss: 0.2467 - mae: 0.3758 - val_loss: 0.2778 - val_mae: 0.4132\n",
      "Epoch 5/25\n",
      "65/65 [==============================] - 7s 103ms/step - loss: 0.2322 - mae: 0.3672 - val_loss: 0.2567 - val_mae: 0.3861\n",
      "Epoch 6/25\n",
      "65/65 [==============================] - 7s 105ms/step - loss: 0.2202 - mae: 0.3574 - val_loss: 0.2534 - val_mae: 0.3930\n",
      "Epoch 7/25\n",
      "65/65 [==============================] - 7s 102ms/step - loss: 0.2069 - mae: 0.3477 - val_loss: 0.2610 - val_mae: 0.4101\n",
      "Epoch 8/25\n",
      "65/65 [==============================] - 7s 102ms/step - loss: 0.1988 - mae: 0.3426 - val_loss: 0.2298 - val_mae: 0.3755\n",
      "Epoch 9/25\n",
      "65/65 [==============================] - 7s 104ms/step - loss: 0.1800 - mae: 0.3259 - val_loss: 0.2206 - val_mae: 0.3616\n",
      "Epoch 10/25\n",
      "65/65 [==============================] - 7s 103ms/step - loss: 0.1721 - mae: 0.3181 - val_loss: 0.1896 - val_mae: 0.3304\n",
      "Epoch 11/25\n",
      "65/65 [==============================] - 7s 104ms/step - loss: 0.1526 - mae: 0.3020 - val_loss: 0.1831 - val_mae: 0.3272\n",
      "Epoch 12/25\n",
      "65/65 [==============================] - 7s 102ms/step - loss: 0.1408 - mae: 0.2879 - val_loss: 0.1640 - val_mae: 0.3048\n",
      "Epoch 13/25\n",
      "65/65 [==============================] - 7s 104ms/step - loss: 0.1326 - mae: 0.2777 - val_loss: 0.1636 - val_mae: 0.2986\n",
      "Epoch 14/25\n",
      "65/65 [==============================] - 7s 103ms/step - loss: 0.1225 - mae: 0.2668 - val_loss: 0.1572 - val_mae: 0.2958\n",
      "Epoch 15/25\n",
      "65/65 [==============================] - 7s 103ms/step - loss: 0.1142 - mae: 0.2583 - val_loss: 0.1452 - val_mae: 0.2842\n",
      "Epoch 16/25\n",
      "65/65 [==============================] - 7s 103ms/step - loss: 0.1086 - mae: 0.2524 - val_loss: 0.1351 - val_mae: 0.2764\n",
      "Epoch 17/25\n",
      "65/65 [==============================] - 7s 103ms/step - loss: 0.1061 - mae: 0.2471 - val_loss: 0.1383 - val_mae: 0.2748\n",
      "Epoch 18/25\n",
      "65/65 [==============================] - 7s 102ms/step - loss: 0.1003 - mae: 0.2416 - val_loss: 0.1188 - val_mae: 0.2508\n",
      "Epoch 19/25\n",
      "65/65 [==============================] - 7s 104ms/step - loss: 0.0956 - mae: 0.2357 - val_loss: 0.1178 - val_mae: 0.2533\n",
      "Epoch 20/25\n",
      "65/65 [==============================] - 7s 103ms/step - loss: 0.0916 - mae: 0.2299 - val_loss: 0.1124 - val_mae: 0.2444\n",
      "Epoch 21/25\n",
      "65/65 [==============================] - 7s 104ms/step - loss: 0.0886 - mae: 0.2259 - val_loss: 0.1150 - val_mae: 0.2444\n",
      "Epoch 22/25\n",
      "65/65 [==============================] - 7s 103ms/step - loss: 0.0865 - mae: 0.2255 - val_loss: 0.1113 - val_mae: 0.2387\n",
      "Epoch 23/25\n",
      "65/65 [==============================] - 7s 103ms/step - loss: 0.0866 - mae: 0.2250 - val_loss: 0.1101 - val_mae: 0.2464\n",
      "Epoch 24/25\n",
      "65/65 [==============================] - 7s 103ms/step - loss: 0.0825 - mae: 0.2204 - val_loss: 0.1026 - val_mae: 0.2363\n",
      "Epoch 25/25\n",
      "65/65 [==============================] - 7s 103ms/step - loss: 0.0789 - mae: 0.2147 - val_loss: 0.1047 - val_mae: 0.2367\n",
      "7/7 [==============================] - 0s 33ms/step - loss: 0.1208 - mae: 0.2627\n"
     ]
    },
    {
     "data": {
      "text/html": [
       "<br/>Waiting for W&B process to finish, PID 7585<br/>Program failed with code 1.  Press ctrl-c to abort syncing."
      ],
      "text/plain": [
       "<IPython.core.display.HTML object>"
      ]
     },
     "metadata": {
      "tags": []
     },
     "output_type": "display_data"
    },
    {
     "data": {
      "application/vnd.jupyter.widget-view+json": {
       "model_id": "ac594936cc144a4a91b2b0b7dd73a5b4",
       "version_major": 2,
       "version_minor": 0
      },
      "text/plain": [
       "VBox(children=(Label(value=' 1.13MB of 1.13MB uploaded (0.00MB deduped)\\r'), FloatProgress(value=1.0, max=1.0)…"
      ]
     },
     "metadata": {
      "tags": []
     },
     "output_type": "display_data"
    },
    {
     "data": {
      "text/html": [
       "Find user logs for this run at: <code>/content/wandb/run-20210507_104223-hhkj2bfc/logs/debug.log</code>"
      ],
      "text/plain": [
       "<IPython.core.display.HTML object>"
      ]
     },
     "metadata": {
      "tags": []
     },
     "output_type": "display_data"
    },
    {
     "data": {
      "text/html": [
       "Find internal logs for this run at: <code>/content/wandb/run-20210507_104223-hhkj2bfc/logs/debug-internal.log</code>"
      ],
      "text/plain": [
       "<IPython.core.display.HTML object>"
      ]
     },
     "metadata": {
      "tags": []
     },
     "output_type": "display_data"
    },
    {
     "data": {
      "text/html": [
       "<h3>Run summary:</h3><br/><style>\n",
       "    table.wandb td:nth-child(1) { padding: 0 10px; text-align: right }\n",
       "    </style><table class=\"wandb\">\n",
       "<tr><td>epoch</td><td>24</td></tr><tr><td>loss</td><td>0.07774</td></tr><tr><td>mae</td><td>0.21306</td></tr><tr><td>val_loss</td><td>0.10466</td></tr><tr><td>val_mae</td><td>0.23675</td></tr><tr><td>_runtime</td><td>182</td></tr><tr><td>_timestamp</td><td>1620384325</td></tr><tr><td>_step</td><td>26</td></tr><tr><td>best_val_loss</td><td>0.10262</td></tr><tr><td>best_epoch</td><td>23</td></tr><tr><td>test_loss</td><td>0.12078</td></tr><tr><td>test_mae</td><td>0.26272</td></tr></table>"
      ],
      "text/plain": [
       "<IPython.core.display.HTML object>"
      ]
     },
     "metadata": {
      "tags": []
     },
     "output_type": "display_data"
    },
    {
     "data": {
      "text/html": [
       "<h3>Run history:</h3><br/><style>\n",
       "    table.wandb td:nth-child(1) { padding: 0 10px; text-align: right }\n",
       "    </style><table class=\"wandb\">\n",
       "<tr><td>epoch</td><td>▁▁▂▂▂▂▃▃▃▄▄▄▅▅▅▅▆▆▆▇▇▇▇██</td></tr><tr><td>loss</td><td>█▅▄▄▄▄▃▃▃▃▂▂▂▂▂▂▁▁▁▁▁▁▁▁▁</td></tr><tr><td>mae</td><td>█▆▅▅▅▄▄▄▄▃▃▃▂▂▂▂▂▂▂▁▁▁▁▁▁</td></tr><tr><td>val_loss</td><td>█▆▆▅▅▅▅▄▄▃▃▃▃▂▂▂▂▁▁▁▁▁▁▁▁</td></tr><tr><td>val_mae</td><td>█▇▆▆▅▅▆▅▄▄▄▃▃▃▂▂▂▁▁▁▁▁▁▁▁</td></tr><tr><td>_runtime</td><td>▁▁▂▂▂▂▃▃▃▄▄▄▅▅▅▅▆▆▆▇▇▇▇████</td></tr><tr><td>_timestamp</td><td>▁▁▂▂▂▂▃▃▃▄▄▄▅▅▅▅▆▆▆▇▇▇▇████</td></tr><tr><td>_step</td><td>▁▁▂▂▂▂▃▃▃▃▄▄▄▅▅▅▅▆▆▆▆▇▇▇▇██</td></tr><tr><td>test_loss</td><td>▁</td></tr><tr><td>test_mae</td><td>▁</td></tr></table><br/>"
      ],
      "text/plain": [
       "<IPython.core.display.HTML object>"
      ]
     },
     "metadata": {
      "tags": []
     },
     "output_type": "display_data"
    },
    {
     "data": {
      "text/html": [
       "Synced 5 W&B file(s), 1 media file(s), 0 artifact file(s) and 1 other file(s)"
      ],
      "text/plain": [
       "<IPython.core.display.HTML object>"
      ]
     },
     "metadata": {
      "tags": []
     },
     "output_type": "display_data"
    },
    {
     "data": {
      "text/html": [
       "\n",
       "                    <br/>Synced <strong style=\"color:#cdcd00\">true-sweep-30</strong>: <a href=\"https://wandb.ai/nbvanting/thesis/runs/hhkj2bfc\" target=\"_blank\">https://wandb.ai/nbvanting/thesis/runs/hhkj2bfc</a><br/>\n",
       "                "
      ],
      "text/plain": [
       "<IPython.core.display.HTML object>"
      ]
     },
     "metadata": {
      "tags": []
     },
     "output_type": "display_data"
    },
    {
     "name": "stderr",
     "output_type": "stream",
     "text": [
      "Run hhkj2bfc errored: IndexError('list index out of range')\n",
      "\u001b[34m\u001b[1mwandb\u001b[0m: \u001b[32m\u001b[41mERROR\u001b[0m Run hhkj2bfc errored: IndexError('list index out of range')\n",
      "\u001b[34m\u001b[1mwandb\u001b[0m: Agent Starting Run: dg5zdhiw with config:\n",
      "\u001b[34m\u001b[1mwandb\u001b[0m: \tactivation_cnn: relu\n",
      "\u001b[34m\u001b[1mwandb\u001b[0m: \tactivation_gru: tanh\n",
      "\u001b[34m\u001b[1mwandb\u001b[0m: \tbatch_size: 145\n",
      "\u001b[34m\u001b[1mwandb\u001b[0m: \tcnn_lay_2: False\n",
      "\u001b[34m\u001b[1mwandb\u001b[0m: \tcnn_lay_3: False\n",
      "\u001b[34m\u001b[1mwandb\u001b[0m: \tcnn_layer_size_1: 45\n",
      "\u001b[34m\u001b[1mwandb\u001b[0m: \tcnn_layer_size_2: 84\n",
      "\u001b[34m\u001b[1mwandb\u001b[0m: \tcnn_layer_size_3: 67\n",
      "\u001b[34m\u001b[1mwandb\u001b[0m: \tdataset: kolding\n",
      "\u001b[34m\u001b[1mwandb\u001b[0m: \tdropout: 0.41211017546679657\n",
      "\u001b[34m\u001b[1mwandb\u001b[0m: \tepochs: 25\n",
      "\u001b[34m\u001b[1mwandb\u001b[0m: \tgru_lay_1: False\n",
      "\u001b[34m\u001b[1mwandb\u001b[0m: \tgru_lay_2: False\n",
      "\u001b[34m\u001b[1mwandb\u001b[0m: \tgru_layer_size_1: 49\n",
      "\u001b[34m\u001b[1mwandb\u001b[0m: \tgru_layer_size_2: 145\n",
      "\u001b[34m\u001b[1mwandb\u001b[0m: \tgru_layer_size_3: 192\n",
      "\u001b[34m\u001b[1mwandb\u001b[0m: \tkernelsize: 5\n",
      "\u001b[34m\u001b[1mwandb\u001b[0m: \tlearning_rate: 0.020113815436724986\n",
      "\u001b[34m\u001b[1mwandb\u001b[0m: \tlookback: 744\n",
      "\u001b[34m\u001b[1mwandb\u001b[0m: \tmomentum: 0.9814889189903266\n",
      "\u001b[34m\u001b[1mwandb\u001b[0m: \tnum_cnn_layers: 2\n",
      "\u001b[34m\u001b[1mwandb\u001b[0m: \tnum_features: 9\n",
      "\u001b[34m\u001b[1mwandb\u001b[0m: \tnum_gru_layers: 2\n",
      "\u001b[34m\u001b[1mwandb\u001b[0m: \toptimizer: sgd\n",
      "\u001b[34m\u001b[1mwandb\u001b[0m: \tsplitmethod: standard\n",
      "\u001b[34m\u001b[1mwandb\u001b[0m: \tsplitrate: 0.8\n",
      "\u001b[34m\u001b[1mwandb\u001b[0m: \u001b[33mWARNING\u001b[0m Ignored wandb.init() arg project when running a sweep\n"
     ]
    },
    {
     "data": {
      "text/html": [
       "\n",
       "                Tracking run with wandb version 0.10.29<br/>\n",
       "                Syncing run <strong style=\"color:#cdcd00\">royal-sweep-31</strong> to <a href=\"https://wandb.ai\" target=\"_blank\">Weights & Biases</a> <a href=\"https://docs.wandb.com/integrations/jupyter.html\" target=\"_blank\">(Documentation)</a>.<br/>\n",
       "                Project page: <a href=\"https://wandb.ai/nbvanting/thesis\" target=\"_blank\">https://wandb.ai/nbvanting/thesis</a><br/>\n",
       "                Sweep page: <a href=\"https://wandb.ai/nbvanting/thesis/sweeps/xjdtj3eo\" target=\"_blank\">https://wandb.ai/nbvanting/thesis/sweeps/xjdtj3eo</a><br/>\n",
       "Run page: <a href=\"https://wandb.ai/nbvanting/thesis/runs/dg5zdhiw\" target=\"_blank\">https://wandb.ai/nbvanting/thesis/runs/dg5zdhiw</a><br/>\n",
       "                Run data is saved locally in <code>/content/wandb/run-20210507_104531-dg5zdhiw</code><br/><br/>\n",
       "            "
      ],
      "text/plain": [
       "<IPython.core.display.HTML object>"
      ]
     },
     "metadata": {
      "tags": []
     },
     "output_type": "display_data"
    },
    {
     "name": "stdout",
     "output_type": "stream",
     "text": [
      "Epoch 1/25\n",
      "109/109 [==============================] - 10s 76ms/step - loss: 0.7020 - mae: 0.6416 - val_loss: 0.8133 - val_mae: 0.7377\n",
      "Epoch 2/25\n",
      "109/109 [==============================] - 8s 73ms/step - loss: 0.3843 - mae: 0.4666 - val_loss: 0.4894 - val_mae: 0.5485\n",
      "Epoch 3/25\n",
      "109/109 [==============================] - 8s 72ms/step - loss: 0.2925 - mae: 0.4182 - val_loss: 0.3639 - val_mae: 0.4707\n",
      "Epoch 4/25\n",
      "109/109 [==============================] - 8s 73ms/step - loss: 0.2244 - mae: 0.3664 - val_loss: 0.2599 - val_mae: 0.3889\n",
      "Epoch 5/25\n",
      "109/109 [==============================] - 8s 74ms/step - loss: 0.1914 - mae: 0.3371 - val_loss: 0.3910 - val_mae: 0.5061\n",
      "Epoch 6/25\n",
      "109/109 [==============================] - 8s 74ms/step - loss: 0.1567 - mae: 0.3050 - val_loss: 0.2613 - val_mae: 0.3965\n",
      "Epoch 7/25\n",
      "109/109 [==============================] - 8s 72ms/step - loss: 0.1525 - mae: 0.3034 - val_loss: 0.2267 - val_mae: 0.3660\n",
      "Epoch 8/25\n",
      "109/109 [==============================] - 8s 72ms/step - loss: 0.1285 - mae: 0.2740 - val_loss: 0.3341 - val_mae: 0.4839\n",
      "Epoch 9/25\n",
      "109/109 [==============================] - 8s 72ms/step - loss: 0.1311 - mae: 0.2785 - val_loss: 0.2048 - val_mae: 0.3346\n",
      "Epoch 10/25\n",
      "109/109 [==============================] - 8s 72ms/step - loss: 0.1142 - mae: 0.2628 - val_loss: 0.2825 - val_mae: 0.4186\n",
      "Epoch 11/25\n",
      "109/109 [==============================] - 8s 74ms/step - loss: 0.1263 - mae: 0.2751 - val_loss: 0.2728 - val_mae: 0.4143\n",
      "Epoch 12/25\n",
      "109/109 [==============================] - 8s 73ms/step - loss: 0.1186 - mae: 0.2651 - val_loss: 0.2770 - val_mae: 0.4060\n",
      "Epoch 13/25\n",
      "109/109 [==============================] - 8s 74ms/step - loss: 0.1062 - mae: 0.2513 - val_loss: 0.2619 - val_mae: 0.3880\n",
      "Epoch 14/25\n",
      "109/109 [==============================] - 8s 72ms/step - loss: 0.1064 - mae: 0.2500 - val_loss: 0.2390 - val_mae: 0.3808\n",
      "Epoch 15/25\n",
      "109/109 [==============================] - 8s 72ms/step - loss: 0.1032 - mae: 0.2483 - val_loss: 0.2321 - val_mae: 0.3719\n",
      "Epoch 16/25\n",
      "109/109 [==============================] - 8s 72ms/step - loss: 0.1074 - mae: 0.2508 - val_loss: 0.2419 - val_mae: 0.3591\n",
      "Epoch 17/25\n",
      "109/109 [==============================] - 8s 72ms/step - loss: 0.0978 - mae: 0.2415 - val_loss: 0.2493 - val_mae: 0.3980\n",
      "Epoch 18/25\n",
      "109/109 [==============================] - 8s 71ms/step - loss: 0.0971 - mae: 0.2404 - val_loss: 0.2164 - val_mae: 0.3547\n",
      "Epoch 19/25\n",
      " 80/109 [=====================>........] - ETA: 2s - loss: 0.0944 - mae: 0.2377"
     ]
    },
    {
     "data": {
      "text/html": [
       "<br/>Waiting for W&B process to finish, PID 7898<br/>Program failed with code 1.  Press ctrl-c to abort syncing."
      ],
      "text/plain": [
       "<IPython.core.display.HTML object>"
      ]
     },
     "metadata": {
      "tags": []
     },
     "output_type": "display_data"
    },
    {
     "data": {
      "application/vnd.jupyter.widget-view+json": {
       "model_id": "80ea65066c1b437b9294272bfbedc810",
       "version_major": 2,
       "version_minor": 0
      },
      "text/plain": [
       "VBox(children=(Label(value=' 1.10MB of 1.10MB uploaded (0.00MB deduped)\\r'), FloatProgress(value=1.0, max=1.0)…"
      ]
     },
     "metadata": {
      "tags": []
     },
     "output_type": "display_data"
    },
    {
     "data": {
      "text/html": [
       "Find user logs for this run at: <code>/content/wandb/run-20210507_104531-dg5zdhiw/logs/debug.log</code>"
      ],
      "text/plain": [
       "<IPython.core.display.HTML object>"
      ]
     },
     "metadata": {
      "tags": []
     },
     "output_type": "display_data"
    },
    {
     "data": {
      "text/html": [
       "Find internal logs for this run at: <code>/content/wandb/run-20210507_104531-dg5zdhiw/logs/debug-internal.log</code>"
      ],
      "text/plain": [
       "<IPython.core.display.HTML object>"
      ]
     },
     "metadata": {
      "tags": []
     },
     "output_type": "display_data"
    },
    {
     "data": {
      "text/html": [
       "<h3>Run summary:</h3><br/><style>\n",
       "    table.wandb td:nth-child(1) { padding: 0 10px; text-align: right }\n",
       "    </style><table class=\"wandb\">\n",
       "<tr><td>epoch</td><td>17</td></tr><tr><td>loss</td><td>0.09487</td></tr><tr><td>mae</td><td>0.23822</td></tr><tr><td>val_loss</td><td>0.21641</td></tr><tr><td>val_mae</td><td>0.35468</td></tr><tr><td>_runtime</td><td>151</td></tr><tr><td>_timestamp</td><td>1620384482</td></tr><tr><td>_step</td><td>17</td></tr><tr><td>best_val_loss</td><td>0.20478</td></tr><tr><td>best_epoch</td><td>8</td></tr></table>"
      ],
      "text/plain": [
       "<IPython.core.display.HTML object>"
      ]
     },
     "metadata": {
      "tags": []
     },
     "output_type": "display_data"
    },
    {
     "data": {
      "text/html": [
       "<h3>Run history:</h3><br/><style>\n",
       "    table.wandb td:nth-child(1) { padding: 0 10px; text-align: right }\n",
       "    </style><table class=\"wandb\">\n",
       "<tr><td>epoch</td><td>▁▁▂▂▃▃▃▄▄▅▅▆▆▆▇▇██</td></tr><tr><td>loss</td><td>█▅▄▃▂▂▂▁▁▁▁▁▁▁▁▁▁▁</td></tr><tr><td>mae</td><td>█▅▄▄▃▂▂▂▂▁▂▂▁▁▁▁▁▁</td></tr><tr><td>val_loss</td><td>█▄▃▂▃▂▁▂▁▂▂▂▂▁▁▁▂▁</td></tr><tr><td>val_mae</td><td>█▅▃▂▄▂▂▄▁▂▂▂▂▂▂▁▂▁</td></tr><tr><td>_runtime</td><td>▁▁▂▂▃▃▃▄▄▅▅▆▆▆▇▇██</td></tr><tr><td>_timestamp</td><td>▁▁▂▂▃▃▃▄▄▅▅▆▆▆▇▇██</td></tr><tr><td>_step</td><td>▁▁▂▂▃▃▃▄▄▅▅▆▆▆▇▇██</td></tr></table><br/>"
      ],
      "text/plain": [
       "<IPython.core.display.HTML object>"
      ]
     },
     "metadata": {
      "tags": []
     },
     "output_type": "display_data"
    },
    {
     "data": {
      "text/html": [
       "Synced 5 W&B file(s), 1 media file(s), 0 artifact file(s) and 1 other file(s)"
      ],
      "text/plain": [
       "<IPython.core.display.HTML object>"
      ]
     },
     "metadata": {
      "tags": []
     },
     "output_type": "display_data"
    },
    {
     "data": {
      "text/html": [
       "\n",
       "                    <br/>Synced <strong style=\"color:#cdcd00\">royal-sweep-31</strong>: <a href=\"https://wandb.ai/nbvanting/thesis/runs/dg5zdhiw\" target=\"_blank\">https://wandb.ai/nbvanting/thesis/runs/dg5zdhiw</a><br/>\n",
       "                "
      ],
      "text/plain": [
       "<IPython.core.display.HTML object>"
      ]
     },
     "metadata": {
      "tags": []
     },
     "output_type": "display_data"
    },
    {
     "name": "stderr",
     "output_type": "stream",
     "text": [
      "\u001b[34m\u001b[1mwandb\u001b[0m: Agent Starting Run: pf4abkzn with config:\n",
      "\u001b[34m\u001b[1mwandb\u001b[0m: \tactivation_cnn: relu\n",
      "\u001b[34m\u001b[1mwandb\u001b[0m: \tactivation_gru: tanh\n",
      "\u001b[34m\u001b[1mwandb\u001b[0m: \tbatch_size: 48\n",
      "\u001b[34m\u001b[1mwandb\u001b[0m: \tcnn_lay_2: True\n",
      "\u001b[34m\u001b[1mwandb\u001b[0m: \tcnn_lay_3: False\n",
      "\u001b[34m\u001b[1mwandb\u001b[0m: \tcnn_layer_size_1: 187\n",
      "\u001b[34m\u001b[1mwandb\u001b[0m: \tcnn_layer_size_2: 65\n",
      "\u001b[34m\u001b[1mwandb\u001b[0m: \tcnn_layer_size_3: 160\n",
      "\u001b[34m\u001b[1mwandb\u001b[0m: \tdataset: strib\n",
      "\u001b[34m\u001b[1mwandb\u001b[0m: \tdropout: 0.4996897355717766\n",
      "\u001b[34m\u001b[1mwandb\u001b[0m: \tepochs: 25\n",
      "\u001b[34m\u001b[1mwandb\u001b[0m: \tgru_lay_1: True\n",
      "\u001b[34m\u001b[1mwandb\u001b[0m: \tgru_lay_2: False\n",
      "\u001b[34m\u001b[1mwandb\u001b[0m: \tgru_layer_size_1: 37\n",
      "\u001b[34m\u001b[1mwandb\u001b[0m: \tgru_layer_size_2: 43\n",
      "\u001b[34m\u001b[1mwandb\u001b[0m: \tgru_layer_size_3: 146\n",
      "\u001b[34m\u001b[1mwandb\u001b[0m: \tkernelsize: 5\n",
      "\u001b[34m\u001b[1mwandb\u001b[0m: \tlearning_rate: 0.03740678134983534\n",
      "\u001b[34m\u001b[1mwandb\u001b[0m: \tlookback: 744\n",
      "\u001b[34m\u001b[1mwandb\u001b[0m: \tmomentum: 0.771386200268146\n",
      "\u001b[34m\u001b[1mwandb\u001b[0m: \tnum_cnn_layers: 2\n",
      "\u001b[34m\u001b[1mwandb\u001b[0m: \tnum_features: 9\n",
      "\u001b[34m\u001b[1mwandb\u001b[0m: \tnum_gru_layers: 2\n",
      "\u001b[34m\u001b[1mwandb\u001b[0m: \toptimizer: sgd\n",
      "\u001b[34m\u001b[1mwandb\u001b[0m: \tsplitmethod: standard\n",
      "\u001b[34m\u001b[1mwandb\u001b[0m: \tsplitrate: 0.8\n",
      "\u001b[34m\u001b[1mwandb\u001b[0m: \u001b[33mWARNING\u001b[0m Ignored wandb.init() arg project when running a sweep\n"
     ]
    },
    {
     "data": {
      "text/html": [
       "\n",
       "                Tracking run with wandb version 0.10.29<br/>\n",
       "                Syncing run <strong style=\"color:#cdcd00\">zesty-sweep-32</strong> to <a href=\"https://wandb.ai\" target=\"_blank\">Weights & Biases</a> <a href=\"https://docs.wandb.com/integrations/jupyter.html\" target=\"_blank\">(Documentation)</a>.<br/>\n",
       "                Project page: <a href=\"https://wandb.ai/nbvanting/thesis\" target=\"_blank\">https://wandb.ai/nbvanting/thesis</a><br/>\n",
       "                Sweep page: <a href=\"https://wandb.ai/nbvanting/thesis/sweeps/xjdtj3eo\" target=\"_blank\">https://wandb.ai/nbvanting/thesis/sweeps/xjdtj3eo</a><br/>\n",
       "Run page: <a href=\"https://wandb.ai/nbvanting/thesis/runs/pf4abkzn\" target=\"_blank\">https://wandb.ai/nbvanting/thesis/runs/pf4abkzn</a><br/>\n",
       "                Run data is saved locally in <code>/content/wandb/run-20210507_104816-pf4abkzn</code><br/><br/>\n",
       "            "
      ],
      "text/plain": [
       "<IPython.core.display.HTML object>"
      ]
     },
     "metadata": {
      "tags": []
     },
     "output_type": "display_data"
    },
    {
     "name": "stdout",
     "output_type": "stream",
     "text": [
      "Epoch 1/25\n",
      "327/327 [==============================] - 17s 42ms/step - loss: 0.5352 - mae: 0.5663 - val_loss: 0.6546 - val_mae: 0.6073\n",
      "Epoch 2/25\n",
      "327/327 [==============================] - 13s 39ms/step - loss: 0.2026 - mae: 0.3441 - val_loss: 0.3782 - val_mae: 0.4577\n",
      "Epoch 3/25\n",
      "327/327 [==============================] - 13s 40ms/step - loss: 0.1513 - mae: 0.2972 - val_loss: 0.3720 - val_mae: 0.4608\n",
      "Epoch 4/25\n",
      "327/327 [==============================] - 13s 41ms/step - loss: 0.1335 - mae: 0.2793 - val_loss: 0.2990 - val_mae: 0.4144\n",
      "Epoch 5/25\n",
      "327/327 [==============================] - 22s 67ms/step - loss: 0.1247 - mae: 0.2698 - val_loss: 0.2820 - val_mae: 0.4013\n",
      "Epoch 6/25\n",
      "327/327 [==============================] - 14s 42ms/step - loss: 0.1174 - mae: 0.2618 - val_loss: 0.2746 - val_mae: 0.3970\n",
      "Epoch 7/25\n",
      "327/327 [==============================] - 13s 40ms/step - loss: 0.1123 - mae: 0.2563 - val_loss: 0.3079 - val_mae: 0.4129\n",
      "Epoch 8/25\n",
      "142/327 [============>.................] - ETA: 7s - loss: 0.1116 - mae: 0.2553"
     ]
    },
    {
     "data": {
      "text/html": [
       "<br/>Waiting for W&B process to finish, PID 8127<br/>Program failed with code 1.  Press ctrl-c to abort syncing."
      ],
      "text/plain": [
       "<IPython.core.display.HTML object>"
      ]
     },
     "metadata": {
      "tags": []
     },
     "output_type": "display_data"
    },
    {
     "data": {
      "application/vnd.jupyter.widget-view+json": {
       "model_id": "37b957f3ca6b47d4bcc6f0e8cd11ea0f",
       "version_major": 2,
       "version_minor": 0
      },
      "text/plain": [
       "VBox(children=(Label(value=' 1.30MB of 1.30MB uploaded (0.00MB deduped)\\r'), FloatProgress(value=1.0, max=1.0)…"
      ]
     },
     "metadata": {
      "tags": []
     },
     "output_type": "display_data"
    },
    {
     "data": {
      "text/html": [
       "Find user logs for this run at: <code>/content/wandb/run-20210507_104816-pf4abkzn/logs/debug.log</code>"
      ],
      "text/plain": [
       "<IPython.core.display.HTML object>"
      ]
     },
     "metadata": {
      "tags": []
     },
     "output_type": "display_data"
    },
    {
     "data": {
      "text/html": [
       "Find internal logs for this run at: <code>/content/wandb/run-20210507_104816-pf4abkzn/logs/debug-internal.log</code>"
      ],
      "text/plain": [
       "<IPython.core.display.HTML object>"
      ]
     },
     "metadata": {
      "tags": []
     },
     "output_type": "display_data"
    },
    {
     "data": {
      "text/html": [
       "<h3>Run summary:</h3><br/><style>\n",
       "    table.wandb td:nth-child(1) { padding: 0 10px; text-align: right }\n",
       "    </style><table class=\"wandb\">\n",
       "<tr><td>epoch</td><td>6</td></tr><tr><td>loss</td><td>0.11115</td></tr><tr><td>mae</td><td>0.25412</td></tr><tr><td>val_loss</td><td>0.3079</td></tr><tr><td>val_mae</td><td>0.41286</td></tr><tr><td>_runtime</td><td>109</td></tr><tr><td>_timestamp</td><td>1620384605</td></tr><tr><td>_step</td><td>6</td></tr><tr><td>best_val_loss</td><td>0.27462</td></tr><tr><td>best_epoch</td><td>5</td></tr></table>"
      ],
      "text/plain": [
       "<IPython.core.display.HTML object>"
      ]
     },
     "metadata": {
      "tags": []
     },
     "output_type": "display_data"
    },
    {
     "data": {
      "text/html": [
       "<h3>Run history:</h3><br/><style>\n",
       "    table.wandb td:nth-child(1) { padding: 0 10px; text-align: right }\n",
       "    </style><table class=\"wandb\">\n",
       "<tr><td>epoch</td><td>▁▂▃▅▆▇█</td></tr><tr><td>loss</td><td>█▃▂▁▁▁▁</td></tr><tr><td>mae</td><td>█▃▂▂▁▁▁</td></tr><tr><td>val_loss</td><td>█▃▃▁▁▁▂</td></tr><tr><td>val_mae</td><td>█▃▃▂▁▁▂</td></tr><tr><td>_runtime</td><td>▁▂▃▄▆▇█</td></tr><tr><td>_timestamp</td><td>▁▂▃▄▆▇█</td></tr><tr><td>_step</td><td>▁▂▃▅▆▇█</td></tr></table><br/>"
      ],
      "text/plain": [
       "<IPython.core.display.HTML object>"
      ]
     },
     "metadata": {
      "tags": []
     },
     "output_type": "display_data"
    },
    {
     "data": {
      "text/html": [
       "Synced 5 W&B file(s), 1 media file(s), 0 artifact file(s) and 1 other file(s)"
      ],
      "text/plain": [
       "<IPython.core.display.HTML object>"
      ]
     },
     "metadata": {
      "tags": []
     },
     "output_type": "display_data"
    },
    {
     "data": {
      "text/html": [
       "\n",
       "                    <br/>Synced <strong style=\"color:#cdcd00\">zesty-sweep-32</strong>: <a href=\"https://wandb.ai/nbvanting/thesis/runs/pf4abkzn\" target=\"_blank\">https://wandb.ai/nbvanting/thesis/runs/pf4abkzn</a><br/>\n",
       "                "
      ],
      "text/plain": [
       "<IPython.core.display.HTML object>"
      ]
     },
     "metadata": {
      "tags": []
     },
     "output_type": "display_data"
    },
    {
     "name": "stderr",
     "output_type": "stream",
     "text": [
      "\u001b[34m\u001b[1mwandb\u001b[0m: Agent Starting Run: 4n5e79h4 with config:\n",
      "\u001b[34m\u001b[1mwandb\u001b[0m: \tactivation_cnn: relu\n",
      "\u001b[34m\u001b[1mwandb\u001b[0m: \tactivation_gru: tanh\n",
      "\u001b[34m\u001b[1mwandb\u001b[0m: \tbatch_size: 220\n",
      "\u001b[34m\u001b[1mwandb\u001b[0m: \tcnn_lay_2: True\n",
      "\u001b[34m\u001b[1mwandb\u001b[0m: \tcnn_lay_3: False\n",
      "\u001b[34m\u001b[1mwandb\u001b[0m: \tcnn_layer_size_1: 32\n",
      "\u001b[34m\u001b[1mwandb\u001b[0m: \tcnn_layer_size_2: 55\n",
      "\u001b[34m\u001b[1mwandb\u001b[0m: \tcnn_layer_size_3: 83\n",
      "\u001b[34m\u001b[1mwandb\u001b[0m: \tdataset: strib\n",
      "\u001b[34m\u001b[1mwandb\u001b[0m: \tdropout: 0.2805490847636885\n",
      "\u001b[34m\u001b[1mwandb\u001b[0m: \tepochs: 25\n",
      "\u001b[34m\u001b[1mwandb\u001b[0m: \tgru_lay_1: True\n",
      "\u001b[34m\u001b[1mwandb\u001b[0m: \tgru_lay_2: False\n",
      "\u001b[34m\u001b[1mwandb\u001b[0m: \tgru_layer_size_1: 47\n",
      "\u001b[34m\u001b[1mwandb\u001b[0m: \tgru_layer_size_2: 42\n",
      "\u001b[34m\u001b[1mwandb\u001b[0m: \tgru_layer_size_3: 87\n",
      "\u001b[34m\u001b[1mwandb\u001b[0m: \tkernelsize: 7\n",
      "\u001b[34m\u001b[1mwandb\u001b[0m: \tlearning_rate: 0.01650925251921745\n",
      "\u001b[34m\u001b[1mwandb\u001b[0m: \tlookback: 744\n",
      "\u001b[34m\u001b[1mwandb\u001b[0m: \tmomentum: 0.5323638171154363\n",
      "\u001b[34m\u001b[1mwandb\u001b[0m: \tnum_cnn_layers: 2\n",
      "\u001b[34m\u001b[1mwandb\u001b[0m: \tnum_features: 9\n",
      "\u001b[34m\u001b[1mwandb\u001b[0m: \tnum_gru_layers: 2\n",
      "\u001b[34m\u001b[1mwandb\u001b[0m: \toptimizer: sgd\n",
      "\u001b[34m\u001b[1mwandb\u001b[0m: \tsplitmethod: offset\n",
      "\u001b[34m\u001b[1mwandb\u001b[0m: \tsplitrate: 0.8\n",
      "\u001b[34m\u001b[1mwandb\u001b[0m: \u001b[33mWARNING\u001b[0m Ignored wandb.init() arg project when running a sweep\n"
     ]
    },
    {
     "data": {
      "text/html": [
       "\n",
       "                Tracking run with wandb version 0.10.29<br/>\n",
       "                Syncing run <strong style=\"color:#cdcd00\">cerulean-sweep-33</strong> to <a href=\"https://wandb.ai\" target=\"_blank\">Weights & Biases</a> <a href=\"https://docs.wandb.com/integrations/jupyter.html\" target=\"_blank\">(Documentation)</a>.<br/>\n",
       "                Project page: <a href=\"https://wandb.ai/nbvanting/thesis\" target=\"_blank\">https://wandb.ai/nbvanting/thesis</a><br/>\n",
       "                Sweep page: <a href=\"https://wandb.ai/nbvanting/thesis/sweeps/xjdtj3eo\" target=\"_blank\">https://wandb.ai/nbvanting/thesis/sweeps/xjdtj3eo</a><br/>\n",
       "Run page: <a href=\"https://wandb.ai/nbvanting/thesis/runs/4n5e79h4\" target=\"_blank\">https://wandb.ai/nbvanting/thesis/runs/4n5e79h4</a><br/>\n",
       "                Run data is saved locally in <code>/content/wandb/run-20210507_105018-4n5e79h4</code><br/><br/>\n",
       "            "
      ],
      "text/plain": [
       "<IPython.core.display.HTML object>"
      ]
     },
     "metadata": {
      "tags": []
     },
     "output_type": "display_data"
    },
    {
     "name": "stdout",
     "output_type": "stream",
     "text": [
      "Epoch 1/25\n",
      "67/67 [==============================] - 10s 97ms/step - loss: 0.7437 - mae: 0.6825 - val_loss: 0.4616 - val_mae: 0.5501\n",
      "Epoch 2/25\n",
      "67/67 [==============================] - 6s 82ms/step - loss: 0.4070 - mae: 0.5153 - val_loss: 0.3959 - val_mae: 0.5122\n",
      "Epoch 3/25\n",
      "67/67 [==============================] - 6s 79ms/step - loss: 0.3401 - mae: 0.4687 - val_loss: 0.3212 - val_mae: 0.4452\n",
      "Epoch 4/25\n",
      "67/67 [==============================] - 6s 78ms/step - loss: 0.2891 - mae: 0.4265 - val_loss: 0.2646 - val_mae: 0.4059\n",
      "Epoch 5/25\n",
      "67/67 [==============================] - 6s 82ms/step - loss: 0.2406 - mae: 0.3822 - val_loss: 0.2290 - val_mae: 0.3662\n",
      "Epoch 6/25\n",
      "67/67 [==============================] - 6s 82ms/step - loss: 0.2080 - mae: 0.3518 - val_loss: 0.2190 - val_mae: 0.3631\n",
      "Epoch 7/25\n",
      "67/67 [==============================] - 6s 82ms/step - loss: 0.1874 - mae: 0.3327 - val_loss: 0.2028 - val_mae: 0.3443\n",
      "Epoch 8/25\n",
      "67/67 [==============================] - 6s 80ms/step - loss: 0.1694 - mae: 0.3159 - val_loss: 0.1963 - val_mae: 0.3369\n",
      "Epoch 9/25\n",
      "67/67 [==============================] - 6s 82ms/step - loss: 0.1646 - mae: 0.3092 - val_loss: 0.1848 - val_mae: 0.3331\n",
      "Epoch 10/25\n",
      "67/67 [==============================] - 6s 80ms/step - loss: 0.1531 - mae: 0.2998 - val_loss: 0.1790 - val_mae: 0.3276\n",
      "Epoch 11/25\n",
      "67/67 [==============================] - 6s 83ms/step - loss: 0.1480 - mae: 0.2918 - val_loss: 0.1618 - val_mae: 0.3071\n",
      "Epoch 12/25\n",
      "67/67 [==============================] - 6s 81ms/step - loss: 0.1380 - mae: 0.2836 - val_loss: 0.1595 - val_mae: 0.3046\n",
      "Epoch 13/25\n",
      "67/67 [==============================] - 6s 83ms/step - loss: 0.1309 - mae: 0.2776 - val_loss: 0.1587 - val_mae: 0.3045\n",
      "Epoch 14/25\n",
      "67/67 [==============================] - 6s 81ms/step - loss: 0.1322 - mae: 0.2773 - val_loss: 0.1530 - val_mae: 0.2970\n",
      "Epoch 15/25\n",
      "67/67 [==============================] - 6s 82ms/step - loss: 0.1249 - mae: 0.2683 - val_loss: 0.1551 - val_mae: 0.3027\n",
      "Epoch 16/25\n",
      "67/67 [==============================] - 6s 79ms/step - loss: 0.1202 - mae: 0.2668 - val_loss: 0.1492 - val_mae: 0.2923\n",
      "Epoch 17/25\n",
      "67/67 [==============================] - 5s 78ms/step - loss: 0.1199 - mae: 0.2644 - val_loss: 0.1485 - val_mae: 0.2897\n",
      "Epoch 18/25\n",
      "67/67 [==============================] - 6s 80ms/step - loss: 0.1177 - mae: 0.2618 - val_loss: 0.1453 - val_mae: 0.2890\n",
      "Epoch 19/25\n",
      "67/67 [==============================] - 6s 81ms/step - loss: 0.1145 - mae: 0.2567 - val_loss: 0.1447 - val_mae: 0.2884\n",
      "Epoch 20/25\n",
      "67/67 [==============================] - 6s 79ms/step - loss: 0.1162 - mae: 0.2605 - val_loss: 0.1439 - val_mae: 0.2880\n",
      "Epoch 21/25\n",
      "67/67 [==============================] - 6s 83ms/step - loss: 0.1132 - mae: 0.2549 - val_loss: 0.1476 - val_mae: 0.2919\n",
      "Epoch 22/25\n",
      "67/67 [==============================] - 6s 79ms/step - loss: 0.1124 - mae: 0.2548 - val_loss: 0.1516 - val_mae: 0.3001\n",
      "Epoch 23/25\n",
      "67/67 [==============================] - 6s 80ms/step - loss: 0.1094 - mae: 0.2505 - val_loss: 0.1479 - val_mae: 0.2874\n",
      "Epoch 24/25\n",
      "67/67 [==============================] - 6s 80ms/step - loss: 0.1116 - mae: 0.2535 - val_loss: 0.1590 - val_mae: 0.3094\n",
      "Epoch 25/25\n",
      "67/67 [==============================] - 6s 79ms/step - loss: 0.1091 - mae: 0.2507 - val_loss: 0.1379 - val_mae: 0.2803\n",
      "7/7 [==============================] - 0s 25ms/step - loss: 0.1510 - mae: 0.2990\n"
     ]
    },
    {
     "data": {
      "text/html": [
       "<br/>Waiting for W&B process to finish, PID 8244<br/>Program failed with code 1.  Press ctrl-c to abort syncing."
      ],
      "text/plain": [
       "<IPython.core.display.HTML object>"
      ]
     },
     "metadata": {
      "tags": []
     },
     "output_type": "display_data"
    },
    {
     "data": {
      "application/vnd.jupyter.widget-view+json": {
       "model_id": "47e45196ff5b457196ff696404037306",
       "version_major": 2,
       "version_minor": 0
      },
      "text/plain": [
       "VBox(children=(Label(value=' 0.55MB of 0.55MB uploaded (0.00MB deduped)\\r'), FloatProgress(value=1.0, max=1.0)…"
      ]
     },
     "metadata": {
      "tags": []
     },
     "output_type": "display_data"
    },
    {
     "data": {
      "text/html": [
       "Find user logs for this run at: <code>/content/wandb/run-20210507_105018-4n5e79h4/logs/debug.log</code>"
      ],
      "text/plain": [
       "<IPython.core.display.HTML object>"
      ]
     },
     "metadata": {
      "tags": []
     },
     "output_type": "display_data"
    },
    {
     "data": {
      "text/html": [
       "Find internal logs for this run at: <code>/content/wandb/run-20210507_105018-4n5e79h4/logs/debug-internal.log</code>"
      ],
      "text/plain": [
       "<IPython.core.display.HTML object>"
      ]
     },
     "metadata": {
      "tags": []
     },
     "output_type": "display_data"
    },
    {
     "data": {
      "text/html": [
       "<h3>Run summary:</h3><br/><style>\n",
       "    table.wandb td:nth-child(1) { padding: 0 10px; text-align: right }\n",
       "    </style><table class=\"wandb\">\n",
       "<tr><td>epoch</td><td>24</td></tr><tr><td>loss</td><td>0.10714</td></tr><tr><td>mae</td><td>0.24915</td></tr><tr><td>val_loss</td><td>0.13791</td></tr><tr><td>val_mae</td><td>0.28032</td></tr><tr><td>_runtime</td><td>151</td></tr><tr><td>_timestamp</td><td>1620384769</td></tr><tr><td>_step</td><td>26</td></tr><tr><td>best_val_loss</td><td>0.13791</td></tr><tr><td>best_epoch</td><td>24</td></tr><tr><td>test_loss</td><td>0.15097</td></tr><tr><td>test_mae</td><td>0.299</td></tr></table>"
      ],
      "text/plain": [
       "<IPython.core.display.HTML object>"
      ]
     },
     "metadata": {
      "tags": []
     },
     "output_type": "display_data"
    },
    {
     "data": {
      "text/html": [
       "<h3>Run history:</h3><br/><style>\n",
       "    table.wandb td:nth-child(1) { padding: 0 10px; text-align: right }\n",
       "    </style><table class=\"wandb\">\n",
       "<tr><td>epoch</td><td>▁▁▂▂▂▂▃▃▃▄▄▄▅▅▅▅▆▆▆▇▇▇▇██</td></tr><tr><td>loss</td><td>█▅▄▃▃▂▂▂▂▂▁▁▁▁▁▁▁▁▁▁▁▁▁▁▁</td></tr><tr><td>mae</td><td>█▅▅▄▃▃▂▂▂▂▂▂▁▁▁▁▁▁▁▁▁▁▁▁▁</td></tr><tr><td>val_loss</td><td>█▇▅▄▃▃▂▂▂▂▂▁▁▁▁▁▁▁▁▁▁▁▁▁▁</td></tr><tr><td>val_mae</td><td>█▇▅▄▃▃▃▂▂▂▂▂▂▁▂▁▁▁▁▁▁▂▁▂▁</td></tr><tr><td>_runtime</td><td>▁▁▂▂▂▂▃▃▃▄▄▄▅▅▅▅▆▆▆▇▇▇▇████</td></tr><tr><td>_timestamp</td><td>▁▁▂▂▂▂▃▃▃▄▄▄▅▅▅▅▆▆▆▇▇▇▇████</td></tr><tr><td>_step</td><td>▁▁▂▂▂▂▃▃▃▃▄▄▄▅▅▅▅▆▆▆▆▇▇▇▇██</td></tr><tr><td>test_loss</td><td>▁</td></tr><tr><td>test_mae</td><td>▁</td></tr></table><br/>"
      ],
      "text/plain": [
       "<IPython.core.display.HTML object>"
      ]
     },
     "metadata": {
      "tags": []
     },
     "output_type": "display_data"
    },
    {
     "data": {
      "text/html": [
       "Synced 5 W&B file(s), 1 media file(s), 0 artifact file(s) and 1 other file(s)"
      ],
      "text/plain": [
       "<IPython.core.display.HTML object>"
      ]
     },
     "metadata": {
      "tags": []
     },
     "output_type": "display_data"
    },
    {
     "data": {
      "text/html": [
       "\n",
       "                    <br/>Synced <strong style=\"color:#cdcd00\">cerulean-sweep-33</strong>: <a href=\"https://wandb.ai/nbvanting/thesis/runs/4n5e79h4\" target=\"_blank\">https://wandb.ai/nbvanting/thesis/runs/4n5e79h4</a><br/>\n",
       "                "
      ],
      "text/plain": [
       "<IPython.core.display.HTML object>"
      ]
     },
     "metadata": {
      "tags": []
     },
     "output_type": "display_data"
    },
    {
     "name": "stderr",
     "output_type": "stream",
     "text": [
      "Run 4n5e79h4 errored: IndexError('list index out of range')\n",
      "\u001b[34m\u001b[1mwandb\u001b[0m: \u001b[32m\u001b[41mERROR\u001b[0m Run 4n5e79h4 errored: IndexError('list index out of range')\n",
      "\u001b[34m\u001b[1mwandb\u001b[0m: Agent Starting Run: vx93ec85 with config:\n",
      "\u001b[34m\u001b[1mwandb\u001b[0m: \tactivation_cnn: relu\n",
      "\u001b[34m\u001b[1mwandb\u001b[0m: \tactivation_gru: tanh\n",
      "\u001b[34m\u001b[1mwandb\u001b[0m: \tbatch_size: 117\n",
      "\u001b[34m\u001b[1mwandb\u001b[0m: \tcnn_lay_2: False\n",
      "\u001b[34m\u001b[1mwandb\u001b[0m: \tcnn_lay_3: True\n",
      "\u001b[34m\u001b[1mwandb\u001b[0m: \tcnn_layer_size_1: 132\n",
      "\u001b[34m\u001b[1mwandb\u001b[0m: \tcnn_layer_size_2: 145\n",
      "\u001b[34m\u001b[1mwandb\u001b[0m: \tcnn_layer_size_3: 110\n",
      "\u001b[34m\u001b[1mwandb\u001b[0m: \tdataset: strib\n",
      "\u001b[34m\u001b[1mwandb\u001b[0m: \tdropout: 0.06575560243531121\n",
      "\u001b[34m\u001b[1mwandb\u001b[0m: \tepochs: 25\n",
      "\u001b[34m\u001b[1mwandb\u001b[0m: \tgru_lay_1: True\n",
      "\u001b[34m\u001b[1mwandb\u001b[0m: \tgru_lay_2: False\n",
      "\u001b[34m\u001b[1mwandb\u001b[0m: \tgru_layer_size_1: 49\n",
      "\u001b[34m\u001b[1mwandb\u001b[0m: \tgru_layer_size_2: 195\n",
      "\u001b[34m\u001b[1mwandb\u001b[0m: \tgru_layer_size_3: 245\n",
      "\u001b[34m\u001b[1mwandb\u001b[0m: \tkernelsize: 5\n",
      "\u001b[34m\u001b[1mwandb\u001b[0m: \tlearning_rate: 0.03017850216303012\n",
      "\u001b[34m\u001b[1mwandb\u001b[0m: \tlookback: 744\n",
      "\u001b[34m\u001b[1mwandb\u001b[0m: \tmomentum: 0.7558264385252877\n",
      "\u001b[34m\u001b[1mwandb\u001b[0m: \tnum_cnn_layers: 2\n",
      "\u001b[34m\u001b[1mwandb\u001b[0m: \tnum_features: 9\n",
      "\u001b[34m\u001b[1mwandb\u001b[0m: \tnum_gru_layers: 2\n",
      "\u001b[34m\u001b[1mwandb\u001b[0m: \toptimizer: sgd\n",
      "\u001b[34m\u001b[1mwandb\u001b[0m: \tsplitmethod: standard\n",
      "\u001b[34m\u001b[1mwandb\u001b[0m: \tsplitrate: 0.8\n",
      "\u001b[34m\u001b[1mwandb\u001b[0m: \u001b[33mWARNING\u001b[0m Ignored wandb.init() arg project when running a sweep\n"
     ]
    },
    {
     "data": {
      "text/html": [
       "\n",
       "                Tracking run with wandb version 0.10.29<br/>\n",
       "                Syncing run <strong style=\"color:#cdcd00\">breezy-sweep-34</strong> to <a href=\"https://wandb.ai\" target=\"_blank\">Weights & Biases</a> <a href=\"https://docs.wandb.com/integrations/jupyter.html\" target=\"_blank\">(Documentation)</a>.<br/>\n",
       "                Project page: <a href=\"https://wandb.ai/nbvanting/thesis\" target=\"_blank\">https://wandb.ai/nbvanting/thesis</a><br/>\n",
       "                Sweep page: <a href=\"https://wandb.ai/nbvanting/thesis/sweeps/xjdtj3eo\" target=\"_blank\">https://wandb.ai/nbvanting/thesis/sweeps/xjdtj3eo</a><br/>\n",
       "Run page: <a href=\"https://wandb.ai/nbvanting/thesis/runs/vx93ec85\" target=\"_blank\">https://wandb.ai/nbvanting/thesis/runs/vx93ec85</a><br/>\n",
       "                Run data is saved locally in <code>/content/wandb/run-20210507_105255-vx93ec85</code><br/><br/>\n",
       "            "
      ],
      "text/plain": [
       "<IPython.core.display.HTML object>"
      ]
     },
     "metadata": {
      "tags": []
     },
     "output_type": "display_data"
    },
    {
     "name": "stdout",
     "output_type": "stream",
     "text": [
      "Epoch 1/25\n",
      "134/134 [==============================] - 14s 78ms/step - loss: 0.5755 - mae: 0.5954 - val_loss: 0.7626 - val_mae: 0.6607\n",
      "Epoch 2/25\n",
      "134/134 [==============================] - 10s 73ms/step - loss: 0.2098 - mae: 0.3490 - val_loss: 0.6242 - val_mae: 0.5850\n",
      "Epoch 3/25\n",
      "134/134 [==============================] - 10s 74ms/step - loss: 0.1222 - mae: 0.2638 - val_loss: 0.3885 - val_mae: 0.4667\n",
      "Epoch 4/25\n",
      "134/134 [==============================] - 10s 73ms/step - loss: 0.1044 - mae: 0.2434 - val_loss: 0.3823 - val_mae: 0.4816\n",
      "Epoch 5/25\n",
      "134/134 [==============================] - 10s 73ms/step - loss: 0.0975 - mae: 0.2361 - val_loss: 0.4051 - val_mae: 0.4848\n",
      "Epoch 6/25\n",
      "134/134 [==============================] - 10s 73ms/step - loss: 0.0903 - mae: 0.2262 - val_loss: 0.3475 - val_mae: 0.4410\n",
      "Epoch 7/25\n",
      "134/134 [==============================] - 10s 73ms/step - loss: 0.0828 - mae: 0.2166 - val_loss: 0.3021 - val_mae: 0.4110\n",
      "Epoch 8/25\n",
      "134/134 [==============================] - 10s 73ms/step - loss: 0.0801 - mae: 0.2136 - val_loss: 0.3464 - val_mae: 0.4430\n",
      "Epoch 9/25\n",
      "134/134 [==============================] - 10s 72ms/step - loss: 0.0780 - mae: 0.2102 - val_loss: 0.3056 - val_mae: 0.4098\n",
      "Epoch 10/25\n",
      "134/134 [==============================] - 10s 73ms/step - loss: 0.0746 - mae: 0.2066 - val_loss: 0.2876 - val_mae: 0.4006\n",
      "Epoch 11/25\n",
      "134/134 [==============================] - 10s 72ms/step - loss: 0.0723 - mae: 0.2034 - val_loss: 0.3172 - val_mae: 0.4213\n",
      "Epoch 12/25\n",
      "134/134 [==============================] - 10s 74ms/step - loss: 0.0709 - mae: 0.2012 - val_loss: 0.2895 - val_mae: 0.4030\n",
      "Epoch 13/25\n",
      "134/134 [==============================] - 10s 75ms/step - loss: 0.0677 - mae: 0.1958 - val_loss: 0.3016 - val_mae: 0.4086\n",
      "Epoch 14/25\n",
      "134/134 [==============================] - 10s 74ms/step - loss: 0.0696 - mae: 0.1993 - val_loss: 0.2791 - val_mae: 0.3993\n",
      "Epoch 15/25\n",
      "134/134 [==============================] - 10s 75ms/step - loss: 0.0656 - mae: 0.1948 - val_loss: 0.3335 - val_mae: 0.4305\n",
      "Epoch 16/25\n",
      "134/134 [==============================] - 10s 74ms/step - loss: 0.0652 - mae: 0.1932 - val_loss: 0.3048 - val_mae: 0.4100\n",
      "Epoch 17/25\n",
      "134/134 [==============================] - 10s 74ms/step - loss: 0.0651 - mae: 0.1937 - val_loss: 0.3097 - val_mae: 0.4164\n",
      "Epoch 18/25\n",
      "134/134 [==============================] - 10s 73ms/step - loss: 0.0626 - mae: 0.1888 - val_loss: 0.3257 - val_mae: 0.4243\n",
      "Epoch 19/25\n",
      " 42/134 [========>.....................] - ETA: 6s - loss: 0.0612 - mae: 0.1874"
     ]
    },
    {
     "data": {
      "text/html": [
       "<br/>Waiting for W&B process to finish, PID 8541<br/>Program failed with code 1.  Press ctrl-c to abort syncing."
      ],
      "text/plain": [
       "<IPython.core.display.HTML object>"
      ]
     },
     "metadata": {
      "tags": []
     },
     "output_type": "display_data"
    },
    {
     "data": {
      "application/vnd.jupyter.widget-view+json": {
       "model_id": "fba99852ce0b40c59393151704df1a80",
       "version_major": 2,
       "version_minor": 0
      },
      "text/plain": [
       "VBox(children=(Label(value=' 2.50MB of 2.50MB uploaded (0.00MB deduped)\\r'), FloatProgress(value=1.0, max=1.0)…"
      ]
     },
     "metadata": {
      "tags": []
     },
     "output_type": "display_data"
    },
    {
     "data": {
      "text/html": [
       "Find user logs for this run at: <code>/content/wandb/run-20210507_105255-vx93ec85/logs/debug.log</code>"
      ],
      "text/plain": [
       "<IPython.core.display.HTML object>"
      ]
     },
     "metadata": {
      "tags": []
     },
     "output_type": "display_data"
    },
    {
     "data": {
      "text/html": [
       "Find internal logs for this run at: <code>/content/wandb/run-20210507_105255-vx93ec85/logs/debug-internal.log</code>"
      ],
      "text/plain": [
       "<IPython.core.display.HTML object>"
      ]
     },
     "metadata": {
      "tags": []
     },
     "output_type": "display_data"
    },
    {
     "data": {
      "text/html": [
       "<h3>Run summary:</h3><br/><style>\n",
       "    table.wandb td:nth-child(1) { padding: 0 10px; text-align: right }\n",
       "    </style><table class=\"wandb\">\n",
       "<tr><td>epoch</td><td>17</td></tr><tr><td>loss</td><td>0.06271</td></tr><tr><td>mae</td><td>0.1893</td></tr><tr><td>val_loss</td><td>0.32571</td></tr><tr><td>val_mae</td><td>0.42433</td></tr><tr><td>_runtime</td><td>187</td></tr><tr><td>_timestamp</td><td>1620384962</td></tr><tr><td>_step</td><td>17</td></tr><tr><td>best_val_loss</td><td>0.27914</td></tr><tr><td>best_epoch</td><td>13</td></tr></table>"
      ],
      "text/plain": [
       "<IPython.core.display.HTML object>"
      ]
     },
     "metadata": {
      "tags": []
     },
     "output_type": "display_data"
    },
    {
     "data": {
      "text/html": [
       "<h3>Run history:</h3><br/><style>\n",
       "    table.wandb td:nth-child(1) { padding: 0 10px; text-align: right }\n",
       "    </style><table class=\"wandb\">\n",
       "<tr><td>epoch</td><td>▁▁▂▂▃▃▃▄▄▅▅▆▆▆▇▇██</td></tr><tr><td>loss</td><td>█▃▂▂▂▁▁▁▁▁▁▁▁▁▁▁▁▁</td></tr><tr><td>mae</td><td>█▄▃▂▂▂▂▂▁▁▁▁▁▁▁▁▁▁</td></tr><tr><td>val_loss</td><td>█▆▃▂▃▂▁▂▁▁▂▁▁▁▂▁▁▂</td></tr><tr><td>val_mae</td><td>█▆▃▃▃▂▁▂▁▁▂▁▁▁▂▁▁▂</td></tr><tr><td>_runtime</td><td>▁▁▂▂▃▃▃▄▄▅▅▅▆▆▇▇██</td></tr><tr><td>_timestamp</td><td>▁▁▂▂▃▃▃▄▄▅▅▅▆▆▇▇██</td></tr><tr><td>_step</td><td>▁▁▂▂▃▃▃▄▄▅▅▆▆▆▇▇██</td></tr></table><br/>"
      ],
      "text/plain": [
       "<IPython.core.display.HTML object>"
      ]
     },
     "metadata": {
      "tags": []
     },
     "output_type": "display_data"
    },
    {
     "data": {
      "text/html": [
       "Synced 5 W&B file(s), 1 media file(s), 0 artifact file(s) and 1 other file(s)"
      ],
      "text/plain": [
       "<IPython.core.display.HTML object>"
      ]
     },
     "metadata": {
      "tags": []
     },
     "output_type": "display_data"
    },
    {
     "data": {
      "text/html": [
       "\n",
       "                    <br/>Synced <strong style=\"color:#cdcd00\">breezy-sweep-34</strong>: <a href=\"https://wandb.ai/nbvanting/thesis/runs/vx93ec85\" target=\"_blank\">https://wandb.ai/nbvanting/thesis/runs/vx93ec85</a><br/>\n",
       "                "
      ],
      "text/plain": [
       "<IPython.core.display.HTML object>"
      ]
     },
     "metadata": {
      "tags": []
     },
     "output_type": "display_data"
    },
    {
     "name": "stderr",
     "output_type": "stream",
     "text": [
      "\u001b[34m\u001b[1mwandb\u001b[0m: Agent Starting Run: uwv6ntrg with config:\n",
      "\u001b[34m\u001b[1mwandb\u001b[0m: \tactivation_cnn: relu\n",
      "\u001b[34m\u001b[1mwandb\u001b[0m: \tactivation_gru: tanh\n",
      "\u001b[34m\u001b[1mwandb\u001b[0m: \tbatch_size: 156\n",
      "\u001b[34m\u001b[1mwandb\u001b[0m: \tcnn_lay_2: True\n",
      "\u001b[34m\u001b[1mwandb\u001b[0m: \tcnn_lay_3: False\n",
      "\u001b[34m\u001b[1mwandb\u001b[0m: \tcnn_layer_size_1: 189\n",
      "\u001b[34m\u001b[1mwandb\u001b[0m: \tcnn_layer_size_2: 149\n",
      "\u001b[34m\u001b[1mwandb\u001b[0m: \tcnn_layer_size_3: 106\n",
      "\u001b[34m\u001b[1mwandb\u001b[0m: \tdataset: strib\n",
      "\u001b[34m\u001b[1mwandb\u001b[0m: \tdropout: 0.14548184991209867\n",
      "\u001b[34m\u001b[1mwandb\u001b[0m: \tepochs: 25\n",
      "\u001b[34m\u001b[1mwandb\u001b[0m: \tgru_lay_1: False\n",
      "\u001b[34m\u001b[1mwandb\u001b[0m: \tgru_lay_2: True\n",
      "\u001b[34m\u001b[1mwandb\u001b[0m: \tgru_layer_size_1: 44\n",
      "\u001b[34m\u001b[1mwandb\u001b[0m: \tgru_layer_size_2: 233\n",
      "\u001b[34m\u001b[1mwandb\u001b[0m: \tgru_layer_size_3: 58\n",
      "\u001b[34m\u001b[1mwandb\u001b[0m: \tkernelsize: 3\n",
      "\u001b[34m\u001b[1mwandb\u001b[0m: \tlearning_rate: 0.0028965370901239233\n",
      "\u001b[34m\u001b[1mwandb\u001b[0m: \tlookback: 744\n",
      "\u001b[34m\u001b[1mwandb\u001b[0m: \tmomentum: 0.625683723824741\n",
      "\u001b[34m\u001b[1mwandb\u001b[0m: \tnum_cnn_layers: 2\n",
      "\u001b[34m\u001b[1mwandb\u001b[0m: \tnum_features: 9\n",
      "\u001b[34m\u001b[1mwandb\u001b[0m: \tnum_gru_layers: 2\n",
      "\u001b[34m\u001b[1mwandb\u001b[0m: \toptimizer: sgd\n",
      "\u001b[34m\u001b[1mwandb\u001b[0m: \tsplitmethod: offset\n",
      "\u001b[34m\u001b[1mwandb\u001b[0m: \tsplitrate: 0.8\n",
      "\u001b[34m\u001b[1mwandb\u001b[0m: \u001b[33mWARNING\u001b[0m Ignored wandb.init() arg project when running a sweep\n"
     ]
    },
    {
     "data": {
      "text/html": [
       "\n",
       "                Tracking run with wandb version 0.10.29<br/>\n",
       "                Syncing run <strong style=\"color:#cdcd00\">bumbling-sweep-35</strong> to <a href=\"https://wandb.ai\" target=\"_blank\">Weights & Biases</a> <a href=\"https://docs.wandb.com/integrations/jupyter.html\" target=\"_blank\">(Documentation)</a>.<br/>\n",
       "                Project page: <a href=\"https://wandb.ai/nbvanting/thesis\" target=\"_blank\">https://wandb.ai/nbvanting/thesis</a><br/>\n",
       "                Sweep page: <a href=\"https://wandb.ai/nbvanting/thesis/sweeps/xjdtj3eo\" target=\"_blank\">https://wandb.ai/nbvanting/thesis/sweeps/xjdtj3eo</a><br/>\n",
       "Run page: <a href=\"https://wandb.ai/nbvanting/thesis/runs/uwv6ntrg\" target=\"_blank\">https://wandb.ai/nbvanting/thesis/runs/uwv6ntrg</a><br/>\n",
       "                Run data is saved locally in <code>/content/wandb/run-20210507_105614-uwv6ntrg</code><br/><br/>\n",
       "            "
      ],
      "text/plain": [
       "<IPython.core.display.HTML object>"
      ]
     },
     "metadata": {
      "tags": []
     },
     "output_type": "display_data"
    },
    {
     "name": "stdout",
     "output_type": "stream",
     "text": [
      "Epoch 1/25\n",
      "94/94 [==============================] - 15s 123ms/step - loss: 0.7983 - mae: 0.6997 - val_loss: 0.7761 - val_mae: 0.7050\n",
      "Epoch 2/25\n",
      "94/94 [==============================] - 10s 100ms/step - loss: 0.6758 - mae: 0.6437 - val_loss: 0.6787 - val_mae: 0.6649\n",
      "Epoch 3/25\n",
      "94/94 [==============================] - 10s 102ms/step - loss: 0.6066 - mae: 0.6071 - val_loss: 0.5834 - val_mae: 0.6192\n",
      "Epoch 4/25\n",
      "94/94 [==============================] - 9s 99ms/step - loss: 0.5383 - mae: 0.5721 - val_loss: 0.5189 - val_mae: 0.5862\n",
      "Epoch 5/25\n",
      "94/94 [==============================] - 10s 99ms/step - loss: 0.4801 - mae: 0.5400 - val_loss: 0.4764 - val_mae: 0.5528\n",
      "Epoch 6/25\n",
      "94/94 [==============================] - 10s 100ms/step - loss: 0.4496 - mae: 0.5203 - val_loss: 0.4617 - val_mae: 0.5550\n",
      "Epoch 7/25\n",
      "94/94 [==============================] - 9s 98ms/step - loss: 0.4223 - mae: 0.5044 - val_loss: 0.4424 - val_mae: 0.5316\n",
      "Epoch 8/25\n",
      "94/94 [==============================] - 10s 99ms/step - loss: 0.3930 - mae: 0.4867 - val_loss: 0.4370 - val_mae: 0.5114\n",
      "Epoch 9/25\n",
      "94/94 [==============================] - 10s 100ms/step - loss: 0.3785 - mae: 0.4749 - val_loss: 0.4243 - val_mae: 0.5179\n",
      "Epoch 10/25\n",
      "94/94 [==============================] - 10s 100ms/step - loss: 0.3637 - mae: 0.4676 - val_loss: 0.4213 - val_mae: 0.5211\n",
      "Epoch 11/25\n",
      "79/94 [========================>.....] - ETA: 1s - loss: 0.3540 - mae: 0.4623"
     ]
    },
    {
     "data": {
      "text/html": [
       "<br/>Waiting for W&B process to finish, PID 8782<br/>Program failed with code 1.  Press ctrl-c to abort syncing."
      ],
      "text/plain": [
       "<IPython.core.display.HTML object>"
      ]
     },
     "metadata": {
      "tags": []
     },
     "output_type": "display_data"
    },
    {
     "data": {
      "application/vnd.jupyter.widget-view+json": {
       "model_id": "5e77f8e02d3c479b9b04c4d2346df4e4",
       "version_major": 2,
       "version_minor": 0
      },
      "text/plain": [
       "VBox(children=(Label(value=' 3.18MB of 3.18MB uploaded (0.00MB deduped)\\r'), FloatProgress(value=1.0, max=1.0)…"
      ]
     },
     "metadata": {
      "tags": []
     },
     "output_type": "display_data"
    },
    {
     "data": {
      "text/html": [
       "Find user logs for this run at: <code>/content/wandb/run-20210507_105614-uwv6ntrg/logs/debug.log</code>"
      ],
      "text/plain": [
       "<IPython.core.display.HTML object>"
      ]
     },
     "metadata": {
      "tags": []
     },
     "output_type": "display_data"
    },
    {
     "data": {
      "text/html": [
       "Find internal logs for this run at: <code>/content/wandb/run-20210507_105614-uwv6ntrg/logs/debug-internal.log</code>"
      ],
      "text/plain": [
       "<IPython.core.display.HTML object>"
      ]
     },
     "metadata": {
      "tags": []
     },
     "output_type": "display_data"
    },
    {
     "data": {
      "text/html": [
       "<h3>Run summary:</h3><br/><style>\n",
       "    table.wandb td:nth-child(1) { padding: 0 10px; text-align: right }\n",
       "    </style><table class=\"wandb\">\n",
       "<tr><td>epoch</td><td>9</td></tr><tr><td>loss</td><td>0.3665</td></tr><tr><td>mae</td><td>0.47143</td></tr><tr><td>val_loss</td><td>0.42127</td></tr><tr><td>val_mae</td><td>0.52106</td></tr><tr><td>_runtime</td><td>104</td></tr><tr><td>_timestamp</td><td>1620385078</td></tr><tr><td>_step</td><td>9</td></tr><tr><td>best_val_loss</td><td>0.42127</td></tr><tr><td>best_epoch</td><td>9</td></tr></table>"
      ],
      "text/plain": [
       "<IPython.core.display.HTML object>"
      ]
     },
     "metadata": {
      "tags": []
     },
     "output_type": "display_data"
    },
    {
     "data": {
      "text/html": [
       "<h3>Run history:</h3><br/><style>\n",
       "    table.wandb td:nth-child(1) { padding: 0 10px; text-align: right }\n",
       "    </style><table class=\"wandb\">\n",
       "<tr><td>epoch</td><td>▁▂▃▃▄▅▆▆▇█</td></tr><tr><td>loss</td><td>█▆▅▄▃▂▂▁▁▁</td></tr><tr><td>mae</td><td>█▇▅▄▃▂▂▂▁▁</td></tr><tr><td>val_loss</td><td>█▆▄▃▂▂▁▁▁▁</td></tr><tr><td>val_mae</td><td>█▇▅▄▂▃▂▁▁▁</td></tr><tr><td>_runtime</td><td>▁▂▃▃▄▅▆▆▇█</td></tr><tr><td>_timestamp</td><td>▁▂▃▃▄▅▆▆▇█</td></tr><tr><td>_step</td><td>▁▂▃▃▄▅▆▆▇█</td></tr></table><br/>"
      ],
      "text/plain": [
       "<IPython.core.display.HTML object>"
      ]
     },
     "metadata": {
      "tags": []
     },
     "output_type": "display_data"
    },
    {
     "data": {
      "text/html": [
       "Synced 5 W&B file(s), 1 media file(s), 0 artifact file(s) and 1 other file(s)"
      ],
      "text/plain": [
       "<IPython.core.display.HTML object>"
      ]
     },
     "metadata": {
      "tags": []
     },
     "output_type": "display_data"
    },
    {
     "data": {
      "text/html": [
       "\n",
       "                    <br/>Synced <strong style=\"color:#cdcd00\">bumbling-sweep-35</strong>: <a href=\"https://wandb.ai/nbvanting/thesis/runs/uwv6ntrg\" target=\"_blank\">https://wandb.ai/nbvanting/thesis/runs/uwv6ntrg</a><br/>\n",
       "                "
      ],
      "text/plain": [
       "<IPython.core.display.HTML object>"
      ]
     },
     "metadata": {
      "tags": []
     },
     "output_type": "display_data"
    },
    {
     "name": "stderr",
     "output_type": "stream",
     "text": [
      "\u001b[34m\u001b[1mwandb\u001b[0m: Agent Starting Run: ssxguke6 with config:\n",
      "\u001b[34m\u001b[1mwandb\u001b[0m: \tactivation_cnn: relu\n",
      "\u001b[34m\u001b[1mwandb\u001b[0m: \tactivation_gru: tanh\n",
      "\u001b[34m\u001b[1mwandb\u001b[0m: \tbatch_size: 116\n",
      "\u001b[34m\u001b[1mwandb\u001b[0m: \tcnn_lay_2: True\n",
      "\u001b[34m\u001b[1mwandb\u001b[0m: \tcnn_lay_3: False\n",
      "\u001b[34m\u001b[1mwandb\u001b[0m: \tcnn_layer_size_1: 202\n",
      "\u001b[34m\u001b[1mwandb\u001b[0m: \tcnn_layer_size_2: 37\n",
      "\u001b[34m\u001b[1mwandb\u001b[0m: \tcnn_layer_size_3: 71\n",
      "\u001b[34m\u001b[1mwandb\u001b[0m: \tdataset: strib\n",
      "\u001b[34m\u001b[1mwandb\u001b[0m: \tdropout: 0.20909188971798096\n",
      "\u001b[34m\u001b[1mwandb\u001b[0m: \tepochs: 25\n",
      "\u001b[34m\u001b[1mwandb\u001b[0m: \tgru_lay_1: True\n",
      "\u001b[34m\u001b[1mwandb\u001b[0m: \tgru_lay_2: False\n",
      "\u001b[34m\u001b[1mwandb\u001b[0m: \tgru_layer_size_1: 35\n",
      "\u001b[34m\u001b[1mwandb\u001b[0m: \tgru_layer_size_2: 202\n",
      "\u001b[34m\u001b[1mwandb\u001b[0m: \tgru_layer_size_3: 243\n",
      "\u001b[34m\u001b[1mwandb\u001b[0m: \tkernelsize: 3\n",
      "\u001b[34m\u001b[1mwandb\u001b[0m: \tlearning_rate: 0.030579133518435015\n",
      "\u001b[34m\u001b[1mwandb\u001b[0m: \tlookback: 744\n",
      "\u001b[34m\u001b[1mwandb\u001b[0m: \tmomentum: 0.5489456333410857\n",
      "\u001b[34m\u001b[1mwandb\u001b[0m: \tnum_cnn_layers: 2\n",
      "\u001b[34m\u001b[1mwandb\u001b[0m: \tnum_features: 9\n",
      "\u001b[34m\u001b[1mwandb\u001b[0m: \tnum_gru_layers: 2\n",
      "\u001b[34m\u001b[1mwandb\u001b[0m: \toptimizer: sgd\n",
      "\u001b[34m\u001b[1mwandb\u001b[0m: \tsplitmethod: offset\n",
      "\u001b[34m\u001b[1mwandb\u001b[0m: \tsplitrate: 0.8\n",
      "\u001b[34m\u001b[1mwandb\u001b[0m: \u001b[33mWARNING\u001b[0m Ignored wandb.init() arg project when running a sweep\n"
     ]
    },
    {
     "data": {
      "text/html": [
       "\n",
       "                Tracking run with wandb version 0.10.29<br/>\n",
       "                Syncing run <strong style=\"color:#cdcd00\">still-sweep-36</strong> to <a href=\"https://wandb.ai\" target=\"_blank\">Weights & Biases</a> <a href=\"https://docs.wandb.com/integrations/jupyter.html\" target=\"_blank\">(Documentation)</a>.<br/>\n",
       "                Project page: <a href=\"https://wandb.ai/nbvanting/thesis\" target=\"_blank\">https://wandb.ai/nbvanting/thesis</a><br/>\n",
       "                Sweep page: <a href=\"https://wandb.ai/nbvanting/thesis/sweeps/xjdtj3eo\" target=\"_blank\">https://wandb.ai/nbvanting/thesis/sweeps/xjdtj3eo</a><br/>\n",
       "Run page: <a href=\"https://wandb.ai/nbvanting/thesis/runs/ssxguke6\" target=\"_blank\">https://wandb.ai/nbvanting/thesis/runs/ssxguke6</a><br/>\n",
       "                Run data is saved locally in <code>/content/wandb/run-20210507_105814-ssxguke6</code><br/><br/>\n",
       "            "
      ],
      "text/plain": [
       "<IPython.core.display.HTML object>"
      ]
     },
     "metadata": {
      "tags": []
     },
     "output_type": "display_data"
    },
    {
     "name": "stdout",
     "output_type": "stream",
     "text": [
      "Epoch 1/25\n",
      "127/127 [==============================] - 14s 81ms/step - loss: 0.7370 - mae: 0.6794 - val_loss: 0.6516 - val_mae: 0.6087\n",
      "Epoch 2/25\n",
      "127/127 [==============================] - 10s 75ms/step - loss: 0.4282 - mae: 0.5107 - val_loss: 0.8516 - val_mae: 0.7865\n",
      "Epoch 3/25\n",
      "127/127 [==============================] - 10s 75ms/step - loss: 0.3558 - mae: 0.4625 - val_loss: 0.5223 - val_mae: 0.5562\n",
      "Epoch 4/25\n",
      "127/127 [==============================] - 9s 72ms/step - loss: 0.2934 - mae: 0.4199 - val_loss: 0.3724 - val_mae: 0.4739\n",
      "Epoch 5/25\n",
      "127/127 [==============================] - 9s 74ms/step - loss: 0.2485 - mae: 0.3848 - val_loss: 1.0883 - val_mae: 0.8163\n",
      "Epoch 6/25\n",
      "127/127 [==============================] - 10s 74ms/step - loss: 0.2483 - mae: 0.3762 - val_loss: 0.3191 - val_mae: 0.4294\n",
      "Epoch 7/25\n",
      "127/127 [==============================] - 9s 74ms/step - loss: 0.1855 - mae: 0.3308 - val_loss: 0.2975 - val_mae: 0.4265\n",
      "Epoch 8/25\n",
      "127/127 [==============================] - 9s 73ms/step - loss: 0.1657 - mae: 0.3123 - val_loss: 0.3175 - val_mae: 0.4322\n",
      "Epoch 9/25\n",
      "127/127 [==============================] - 9s 73ms/step - loss: 0.1800 - mae: 0.3210 - val_loss: 0.2148 - val_mae: 0.3614\n",
      "Epoch 10/25\n",
      "127/127 [==============================] - 10s 74ms/step - loss: 0.1449 - mae: 0.2920 - val_loss: 0.1615 - val_mae: 0.3106\n",
      "Epoch 11/25\n",
      "127/127 [==============================] - 10s 75ms/step - loss: 0.1249 - mae: 0.2708 - val_loss: 2.1361 - val_mae: 1.3262\n",
      "Epoch 12/25\n",
      "127/127 [==============================] - 9s 73ms/step - loss: 0.2946 - mae: 0.3932 - val_loss: 0.2066 - val_mae: 0.3674\n",
      "Epoch 13/25\n",
      "127/127 [==============================] - 10s 75ms/step - loss: 0.1279 - mae: 0.2736 - val_loss: 0.1564 - val_mae: 0.2978\n",
      "Epoch 14/25\n",
      "127/127 [==============================] - 10s 75ms/step - loss: 0.1245 - mae: 0.2688 - val_loss: 0.6709 - val_mae: 0.6697\n",
      "Epoch 15/25\n",
      "127/127 [==============================] - 10s 76ms/step - loss: 0.1575 - mae: 0.2958 - val_loss: 0.2909 - val_mae: 0.3975\n",
      "Epoch 16/25\n",
      "127/127 [==============================] - 10s 74ms/step - loss: 0.1297 - mae: 0.2719 - val_loss: 0.2661 - val_mae: 0.4038\n",
      "Epoch 17/25\n",
      "127/127 [==============================] - 10s 74ms/step - loss: 0.1510 - mae: 0.2916 - val_loss: 0.1535 - val_mae: 0.2897\n",
      "Epoch 18/25\n",
      " 50/127 [==========>...................] - ETA: 5s - loss: 0.1128 - mae: 0.2564"
     ]
    },
    {
     "data": {
      "text/html": [
       "<br/>Waiting for W&B process to finish, PID 8929<br/>Program failed with code 1.  Press ctrl-c to abort syncing."
      ],
      "text/plain": [
       "<IPython.core.display.HTML object>"
      ]
     },
     "metadata": {
      "tags": []
     },
     "output_type": "display_data"
    },
    {
     "data": {
      "application/vnd.jupyter.widget-view+json": {
       "model_id": "c893ddebc1cb4402b32f4446ca0fe50e",
       "version_major": 2,
       "version_minor": 0
      },
      "text/plain": [
       "VBox(children=(Label(value=' 1.89MB of 1.89MB uploaded (0.00MB deduped)\\r'), FloatProgress(value=1.0, max=1.0)…"
      ]
     },
     "metadata": {
      "tags": []
     },
     "output_type": "display_data"
    },
    {
     "data": {
      "text/html": [
       "Find user logs for this run at: <code>/content/wandb/run-20210507_105814-ssxguke6/logs/debug.log</code>"
      ],
      "text/plain": [
       "<IPython.core.display.HTML object>"
      ]
     },
     "metadata": {
      "tags": []
     },
     "output_type": "display_data"
    },
    {
     "data": {
      "text/html": [
       "Find internal logs for this run at: <code>/content/wandb/run-20210507_105814-ssxguke6/logs/debug-internal.log</code>"
      ],
      "text/plain": [
       "<IPython.core.display.HTML object>"
      ]
     },
     "metadata": {
      "tags": []
     },
     "output_type": "display_data"
    },
    {
     "data": {
      "text/html": [
       "<h3>Run summary:</h3><br/><style>\n",
       "    table.wandb td:nth-child(1) { padding: 0 10px; text-align: right }\n",
       "    </style><table class=\"wandb\">\n",
       "<tr><td>epoch</td><td>16</td></tr><tr><td>loss</td><td>0.12095</td></tr><tr><td>mae</td><td>0.26295</td></tr><tr><td>val_loss</td><td>0.15346</td></tr><tr><td>val_mae</td><td>0.28975</td></tr><tr><td>_runtime</td><td>170</td></tr><tr><td>_timestamp</td><td>1620385265</td></tr><tr><td>_step</td><td>16</td></tr><tr><td>best_val_loss</td><td>0.15346</td></tr><tr><td>best_epoch</td><td>16</td></tr></table>"
      ],
      "text/plain": [
       "<IPython.core.display.HTML object>"
      ]
     },
     "metadata": {
      "tags": []
     },
     "output_type": "display_data"
    },
    {
     "data": {
      "text/html": [
       "<h3>Run history:</h3><br/><style>\n",
       "    table.wandb td:nth-child(1) { padding: 0 10px; text-align: right }\n",
       "    </style><table class=\"wandb\">\n",
       "<tr><td>epoch</td><td>▁▁▂▂▃▃▄▄▅▅▅▆▆▇▇██</td></tr><tr><td>loss</td><td>█▅▄▃▃▂▂▂▂▁▁▂▁▁▁▁▁</td></tr><tr><td>mae</td><td>█▅▅▄▃▃▂▂▂▁▁▂▁▁▁▁▁</td></tr><tr><td>val_loss</td><td>▃▃▂▂▄▂▂▂▁▁█▁▁▃▁▁▁</td></tr><tr><td>val_mae</td><td>▃▄▃▂▅▂▂▂▁▁█▂▁▄▂▂▁</td></tr><tr><td>_runtime</td><td>▁▁▂▂▃▃▄▄▄▅▅▆▆▇▇██</td></tr><tr><td>_timestamp</td><td>▁▁▂▂▃▃▄▄▄▅▅▆▆▇▇██</td></tr><tr><td>_step</td><td>▁▁▂▂▃▃▄▄▅▅▅▆▆▇▇██</td></tr></table><br/>"
      ],
      "text/plain": [
       "<IPython.core.display.HTML object>"
      ]
     },
     "metadata": {
      "tags": []
     },
     "output_type": "display_data"
    },
    {
     "data": {
      "text/html": [
       "Synced 5 W&B file(s), 1 media file(s), 0 artifact file(s) and 1 other file(s)"
      ],
      "text/plain": [
       "<IPython.core.display.HTML object>"
      ]
     },
     "metadata": {
      "tags": []
     },
     "output_type": "display_data"
    },
    {
     "data": {
      "text/html": [
       "\n",
       "                    <br/>Synced <strong style=\"color:#cdcd00\">still-sweep-36</strong>: <a href=\"https://wandb.ai/nbvanting/thesis/runs/ssxguke6\" target=\"_blank\">https://wandb.ai/nbvanting/thesis/runs/ssxguke6</a><br/>\n",
       "                "
      ],
      "text/plain": [
       "<IPython.core.display.HTML object>"
      ]
     },
     "metadata": {
      "tags": []
     },
     "output_type": "display_data"
    },
    {
     "name": "stderr",
     "output_type": "stream",
     "text": [
      "\u001b[34m\u001b[1mwandb\u001b[0m: Agent Starting Run: k6ia5pol with config:\n",
      "\u001b[34m\u001b[1mwandb\u001b[0m: \tactivation_cnn: relu\n",
      "\u001b[34m\u001b[1mwandb\u001b[0m: \tactivation_gru: tanh\n",
      "\u001b[34m\u001b[1mwandb\u001b[0m: \tbatch_size: 117\n",
      "\u001b[34m\u001b[1mwandb\u001b[0m: \tcnn_lay_2: False\n",
      "\u001b[34m\u001b[1mwandb\u001b[0m: \tcnn_lay_3: False\n",
      "\u001b[34m\u001b[1mwandb\u001b[0m: \tcnn_layer_size_1: 97\n",
      "\u001b[34m\u001b[1mwandb\u001b[0m: \tcnn_layer_size_2: 85\n",
      "\u001b[34m\u001b[1mwandb\u001b[0m: \tcnn_layer_size_3: 169\n",
      "\u001b[34m\u001b[1mwandb\u001b[0m: \tdataset: kolding\n",
      "\u001b[34m\u001b[1mwandb\u001b[0m: \tdropout: 0.12819101223428256\n",
      "\u001b[34m\u001b[1mwandb\u001b[0m: \tepochs: 25\n",
      "\u001b[34m\u001b[1mwandb\u001b[0m: \tgru_lay_1: False\n",
      "\u001b[34m\u001b[1mwandb\u001b[0m: \tgru_lay_2: False\n",
      "\u001b[34m\u001b[1mwandb\u001b[0m: \tgru_layer_size_1: 45\n",
      "\u001b[34m\u001b[1mwandb\u001b[0m: \tgru_layer_size_2: 72\n",
      "\u001b[34m\u001b[1mwandb\u001b[0m: \tgru_layer_size_3: 34\n",
      "\u001b[34m\u001b[1mwandb\u001b[0m: \tkernelsize: 7\n",
      "\u001b[34m\u001b[1mwandb\u001b[0m: \tlearning_rate: 0.02113195020139987\n",
      "\u001b[34m\u001b[1mwandb\u001b[0m: \tlookback: 744\n",
      "\u001b[34m\u001b[1mwandb\u001b[0m: \tmomentum: 0.6115934227505215\n",
      "\u001b[34m\u001b[1mwandb\u001b[0m: \tnum_cnn_layers: 2\n",
      "\u001b[34m\u001b[1mwandb\u001b[0m: \tnum_features: 9\n",
      "\u001b[34m\u001b[1mwandb\u001b[0m: \tnum_gru_layers: 2\n",
      "\u001b[34m\u001b[1mwandb\u001b[0m: \toptimizer: sgd\n",
      "\u001b[34m\u001b[1mwandb\u001b[0m: \tsplitmethod: standard\n",
      "\u001b[34m\u001b[1mwandb\u001b[0m: \tsplitrate: 0.8\n",
      "\u001b[34m\u001b[1mwandb\u001b[0m: \u001b[33mWARNING\u001b[0m Ignored wandb.init() arg project when running a sweep\n"
     ]
    },
    {
     "data": {
      "text/html": [
       "\n",
       "                Tracking run with wandb version 0.10.29<br/>\n",
       "                Syncing run <strong style=\"color:#cdcd00\">desert-sweep-37</strong> to <a href=\"https://wandb.ai\" target=\"_blank\">Weights & Biases</a> <a href=\"https://docs.wandb.com/integrations/jupyter.html\" target=\"_blank\">(Documentation)</a>.<br/>\n",
       "                Project page: <a href=\"https://wandb.ai/nbvanting/thesis\" target=\"_blank\">https://wandb.ai/nbvanting/thesis</a><br/>\n",
       "                Sweep page: <a href=\"https://wandb.ai/nbvanting/thesis/sweeps/xjdtj3eo\" target=\"_blank\">https://wandb.ai/nbvanting/thesis/sweeps/xjdtj3eo</a><br/>\n",
       "Run page: <a href=\"https://wandb.ai/nbvanting/thesis/runs/k6ia5pol\" target=\"_blank\">https://wandb.ai/nbvanting/thesis/runs/k6ia5pol</a><br/>\n",
       "                Run data is saved locally in <code>/content/wandb/run-20210507_110118-k6ia5pol</code><br/><br/>\n",
       "            "
      ],
      "text/plain": [
       "<IPython.core.display.HTML object>"
      ]
     },
     "metadata": {
      "tags": []
     },
     "output_type": "display_data"
    },
    {
     "name": "stdout",
     "output_type": "stream",
     "text": [
      "Epoch 1/25\n",
      "134/134 [==============================] - 10s 63ms/step - loss: 0.5857 - mae: 0.5803 - val_loss: 0.7851 - val_mae: 0.6604\n",
      "Epoch 2/25\n",
      "134/134 [==============================] - 8s 58ms/step - loss: 0.3198 - mae: 0.4183 - val_loss: 0.5669 - val_mae: 0.5484\n",
      "Epoch 3/25\n",
      "134/134 [==============================] - 8s 59ms/step - loss: 0.2586 - mae: 0.3815 - val_loss: 0.5479 - val_mae: 0.5378\n",
      "Epoch 4/25\n",
      "134/134 [==============================] - 8s 58ms/step - loss: 0.2329 - mae: 0.3615 - val_loss: 0.4803 - val_mae: 0.5054\n",
      "Epoch 5/25\n",
      "134/134 [==============================] - 8s 58ms/step - loss: 0.2078 - mae: 0.3457 - val_loss: 0.4932 - val_mae: 0.5170\n",
      "Epoch 6/25\n",
      "134/134 [==============================] - 8s 56ms/step - loss: 0.1886 - mae: 0.3291 - val_loss: 0.4510 - val_mae: 0.4900\n",
      "Epoch 7/25\n",
      "134/134 [==============================] - 8s 57ms/step - loss: 0.1748 - mae: 0.3205 - val_loss: 0.4829 - val_mae: 0.5140\n",
      "Epoch 8/25\n",
      "134/134 [==============================] - 8s 55ms/step - loss: 0.1683 - mae: 0.3135 - val_loss: 0.3995 - val_mae: 0.4665\n",
      "Epoch 9/25\n",
      "134/134 [==============================] - 8s 56ms/step - loss: 0.1557 - mae: 0.3001 - val_loss: 0.3606 - val_mae: 0.4503\n",
      "Epoch 10/25\n",
      "134/134 [==============================] - 8s 56ms/step - loss: 0.1487 - mae: 0.2931 - val_loss: 0.4066 - val_mae: 0.4677\n",
      "Epoch 11/25\n",
      "134/134 [==============================] - 7s 54ms/step - loss: 0.1440 - mae: 0.2889 - val_loss: 0.4114 - val_mae: 0.4728\n",
      "Epoch 12/25\n",
      "134/134 [==============================] - 8s 56ms/step - loss: 0.1360 - mae: 0.2818 - val_loss: 0.3559 - val_mae: 0.4406\n",
      "Epoch 13/25\n",
      "134/134 [==============================] - 8s 55ms/step - loss: 0.1315 - mae: 0.2780 - val_loss: 0.3497 - val_mae: 0.4404\n",
      "Epoch 14/25\n",
      "117/134 [=========================>....] - ETA: 0s - loss: 0.1238 - mae: 0.2685"
     ]
    },
    {
     "data": {
      "text/html": [
       "<br/>Waiting for W&B process to finish, PID 9146<br/>Program failed with code 1.  Press ctrl-c to abort syncing."
      ],
      "text/plain": [
       "<IPython.core.display.HTML object>"
      ]
     },
     "metadata": {
      "tags": []
     },
     "output_type": "display_data"
    },
    {
     "data": {
      "application/vnd.jupyter.widget-view+json": {
       "model_id": "f949b6ac9a984ec89144ad78e1c66585",
       "version_major": 2,
       "version_minor": 0
      },
      "text/plain": [
       "VBox(children=(Label(value=' 0.19MB of 0.19MB uploaded (0.00MB deduped)\\r'), FloatProgress(value=1.0, max=1.0)…"
      ]
     },
     "metadata": {
      "tags": []
     },
     "output_type": "display_data"
    },
    {
     "data": {
      "text/html": [
       "Find user logs for this run at: <code>/content/wandb/run-20210507_110118-k6ia5pol/logs/debug.log</code>"
      ],
      "text/plain": [
       "<IPython.core.display.HTML object>"
      ]
     },
     "metadata": {
      "tags": []
     },
     "output_type": "display_data"
    },
    {
     "data": {
      "text/html": [
       "Find internal logs for this run at: <code>/content/wandb/run-20210507_110118-k6ia5pol/logs/debug-internal.log</code>"
      ],
      "text/plain": [
       "<IPython.core.display.HTML object>"
      ]
     },
     "metadata": {
      "tags": []
     },
     "output_type": "display_data"
    },
    {
     "data": {
      "text/html": [
       "<h3>Run summary:</h3><br/><style>\n",
       "    table.wandb td:nth-child(1) { padding: 0 10px; text-align: right }\n",
       "    </style><table class=\"wandb\">\n",
       "<tr><td>epoch</td><td>12</td></tr><tr><td>loss</td><td>0.13033</td></tr><tr><td>mae</td><td>0.27653</td></tr><tr><td>val_loss</td><td>0.34972</td></tr><tr><td>val_mae</td><td>0.44038</td></tr><tr><td>_runtime</td><td>106</td></tr><tr><td>_timestamp</td><td>1620385384</td></tr><tr><td>_step</td><td>12</td></tr><tr><td>best_val_loss</td><td>0.34972</td></tr><tr><td>best_epoch</td><td>12</td></tr></table>"
      ],
      "text/plain": [
       "<IPython.core.display.HTML object>"
      ]
     },
     "metadata": {
      "tags": []
     },
     "output_type": "display_data"
    },
    {
     "data": {
      "text/html": [
       "<h3>Run history:</h3><br/><style>\n",
       "    table.wandb td:nth-child(1) { padding: 0 10px; text-align: right }\n",
       "    </style><table class=\"wandb\">\n",
       "<tr><td>epoch</td><td>▁▂▂▃▃▄▅▅▆▆▇▇█</td></tr><tr><td>loss</td><td>█▅▃▃▂▂▂▂▁▁▁▁▁</td></tr><tr><td>mae</td><td>█▅▄▃▃▃▂▂▂▁▁▁▁</td></tr><tr><td>val_loss</td><td>█▄▄▃▃▃▃▂▁▂▂▁▁</td></tr><tr><td>val_mae</td><td>█▄▄▃▃▃▃▂▁▂▂▁▁</td></tr><tr><td>_runtime</td><td>▁▂▂▃▃▄▅▅▆▆▇▇█</td></tr><tr><td>_timestamp</td><td>▁▂▂▃▃▄▅▅▆▆▇▇█</td></tr><tr><td>_step</td><td>▁▂▂▃▃▄▅▅▆▆▇▇█</td></tr></table><br/>"
      ],
      "text/plain": [
       "<IPython.core.display.HTML object>"
      ]
     },
     "metadata": {
      "tags": []
     },
     "output_type": "display_data"
    },
    {
     "data": {
      "text/html": [
       "Synced 5 W&B file(s), 1 media file(s), 0 artifact file(s) and 1 other file(s)"
      ],
      "text/plain": [
       "<IPython.core.display.HTML object>"
      ]
     },
     "metadata": {
      "tags": []
     },
     "output_type": "display_data"
    },
    {
     "data": {
      "text/html": [
       "\n",
       "                    <br/>Synced <strong style=\"color:#cdcd00\">desert-sweep-37</strong>: <a href=\"https://wandb.ai/nbvanting/thesis/runs/k6ia5pol\" target=\"_blank\">https://wandb.ai/nbvanting/thesis/runs/k6ia5pol</a><br/>\n",
       "                "
      ],
      "text/plain": [
       "<IPython.core.display.HTML object>"
      ]
     },
     "metadata": {
      "tags": []
     },
     "output_type": "display_data"
    },
    {
     "name": "stderr",
     "output_type": "stream",
     "text": [
      "\u001b[34m\u001b[1mwandb\u001b[0m: Sweep Agent: Waiting for job.\n",
      "\u001b[34m\u001b[1mwandb\u001b[0m: Job received.\n",
      "\u001b[34m\u001b[1mwandb\u001b[0m: Agent Starting Run: w889co4i with config:\n",
      "\u001b[34m\u001b[1mwandb\u001b[0m: \tactivation_cnn: relu\n",
      "\u001b[34m\u001b[1mwandb\u001b[0m: \tactivation_gru: tanh\n",
      "\u001b[34m\u001b[1mwandb\u001b[0m: \tbatch_size: 204\n",
      "\u001b[34m\u001b[1mwandb\u001b[0m: \tcnn_lay_2: True\n",
      "\u001b[34m\u001b[1mwandb\u001b[0m: \tcnn_lay_3: False\n",
      "\u001b[34m\u001b[1mwandb\u001b[0m: \tcnn_layer_size_1: 40\n",
      "\u001b[34m\u001b[1mwandb\u001b[0m: \tcnn_layer_size_2: 60\n",
      "\u001b[34m\u001b[1mwandb\u001b[0m: \tcnn_layer_size_3: 255\n",
      "\u001b[34m\u001b[1mwandb\u001b[0m: \tdataset: kolding\n",
      "\u001b[34m\u001b[1mwandb\u001b[0m: \tdropout: 0.2059888747123194\n",
      "\u001b[34m\u001b[1mwandb\u001b[0m: \tepochs: 25\n",
      "\u001b[34m\u001b[1mwandb\u001b[0m: \tgru_lay_1: True\n",
      "\u001b[34m\u001b[1mwandb\u001b[0m: \tgru_lay_2: False\n",
      "\u001b[34m\u001b[1mwandb\u001b[0m: \tgru_layer_size_1: 116\n",
      "\u001b[34m\u001b[1mwandb\u001b[0m: \tgru_layer_size_2: 67\n",
      "\u001b[34m\u001b[1mwandb\u001b[0m: \tgru_layer_size_3: 46\n",
      "\u001b[34m\u001b[1mwandb\u001b[0m: \tkernelsize: 5\n",
      "\u001b[34m\u001b[1mwandb\u001b[0m: \tlearning_rate: 0.03480159365095791\n",
      "\u001b[34m\u001b[1mwandb\u001b[0m: \tlookback: 744\n",
      "\u001b[34m\u001b[1mwandb\u001b[0m: \tmomentum: 0.735592746736847\n",
      "\u001b[34m\u001b[1mwandb\u001b[0m: \tnum_cnn_layers: 2\n",
      "\u001b[34m\u001b[1mwandb\u001b[0m: \tnum_features: 9\n",
      "\u001b[34m\u001b[1mwandb\u001b[0m: \tnum_gru_layers: 2\n",
      "\u001b[34m\u001b[1mwandb\u001b[0m: \toptimizer: sgd\n",
      "\u001b[34m\u001b[1mwandb\u001b[0m: \tsplitmethod: offset\n",
      "\u001b[34m\u001b[1mwandb\u001b[0m: \tsplitrate: 0.8\n",
      "\u001b[34m\u001b[1mwandb\u001b[0m: \u001b[33mWARNING\u001b[0m Ignored wandb.init() arg project when running a sweep\n"
     ]
    },
    {
     "data": {
      "text/html": [
       "\n",
       "                Tracking run with wandb version 0.10.29<br/>\n",
       "                Syncing run <strong style=\"color:#cdcd00\">toasty-sweep-38</strong> to <a href=\"https://wandb.ai\" target=\"_blank\">Weights & Biases</a> <a href=\"https://docs.wandb.com/integrations/jupyter.html\" target=\"_blank\">(Documentation)</a>.<br/>\n",
       "                Project page: <a href=\"https://wandb.ai/nbvanting/thesis\" target=\"_blank\">https://wandb.ai/nbvanting/thesis</a><br/>\n",
       "                Sweep page: <a href=\"https://wandb.ai/nbvanting/thesis/sweeps/xjdtj3eo\" target=\"_blank\">https://wandb.ai/nbvanting/thesis/sweeps/xjdtj3eo</a><br/>\n",
       "Run page: <a href=\"https://wandb.ai/nbvanting/thesis/runs/w889co4i\" target=\"_blank\">https://wandb.ai/nbvanting/thesis/runs/w889co4i</a><br/>\n",
       "                Run data is saved locally in <code>/content/wandb/run-20210507_110332-w889co4i</code><br/><br/>\n",
       "            "
      ],
      "text/plain": [
       "<IPython.core.display.HTML object>"
      ]
     },
     "metadata": {
      "tags": []
     },
     "output_type": "display_data"
    },
    {
     "name": "stdout",
     "output_type": "stream",
     "text": [
      "Epoch 1/25\n",
      "72/72 [==============================] - 10s 95ms/step - loss: 0.7359 - mae: 0.6712 - val_loss: 0.5494 - val_mae: 0.5913\n",
      "Epoch 2/25\n",
      "72/72 [==============================] - 6s 82ms/step - loss: 0.4212 - mae: 0.5033 - val_loss: 0.2763 - val_mae: 0.4148\n",
      "Epoch 3/25\n",
      "72/72 [==============================] - 6s 78ms/step - loss: 0.2386 - mae: 0.3772 - val_loss: 0.2400 - val_mae: 0.3945\n",
      "Epoch 4/25\n",
      "72/72 [==============================] - 6s 81ms/step - loss: 0.1813 - mae: 0.3257 - val_loss: 0.1769 - val_mae: 0.3321\n",
      "Epoch 5/25\n",
      "72/72 [==============================] - 6s 80ms/step - loss: 0.1570 - mae: 0.3050 - val_loss: 0.1781 - val_mae: 0.3343\n",
      "Epoch 6/25\n",
      "72/72 [==============================] - 6s 77ms/step - loss: 0.1425 - mae: 0.2892 - val_loss: 0.1498 - val_mae: 0.3067\n",
      "Epoch 7/25\n",
      "72/72 [==============================] - 6s 77ms/step - loss: 0.1323 - mae: 0.2798 - val_loss: 0.1551 - val_mae: 0.3119\n",
      "Epoch 8/25\n",
      "72/72 [==============================] - 6s 78ms/step - loss: 0.1279 - mae: 0.2748 - val_loss: 0.1428 - val_mae: 0.2983\n",
      "Epoch 9/25\n",
      "72/72 [==============================] - 6s 81ms/step - loss: 0.1240 - mae: 0.2702 - val_loss: 0.1399 - val_mae: 0.2947\n",
      "Epoch 10/25\n",
      "72/72 [==============================] - 6s 80ms/step - loss: 0.1195 - mae: 0.2647 - val_loss: 0.1288 - val_mae: 0.2806\n",
      "Epoch 11/25\n",
      "72/72 [==============================] - 6s 79ms/step - loss: 0.1111 - mae: 0.2570 - val_loss: 0.1200 - val_mae: 0.2713\n",
      "Epoch 12/25\n",
      "72/72 [==============================] - 6s 82ms/step - loss: 0.1105 - mae: 0.2563 - val_loss: 0.1226 - val_mae: 0.2731\n",
      "Epoch 13/25\n",
      "72/72 [==============================] - 6s 81ms/step - loss: 0.1085 - mae: 0.2531 - val_loss: 0.1216 - val_mae: 0.2753\n",
      "Epoch 14/25\n",
      "72/72 [==============================] - 6s 79ms/step - loss: 0.1071 - mae: 0.2507 - val_loss: 0.1150 - val_mae: 0.2677\n",
      "Epoch 15/25\n",
      "72/72 [==============================] - 6s 80ms/step - loss: 0.1002 - mae: 0.2450 - val_loss: 0.1174 - val_mae: 0.2686\n",
      "Epoch 16/25\n",
      "72/72 [==============================] - 6s 77ms/step - loss: 0.1004 - mae: 0.2447 - val_loss: 0.1113 - val_mae: 0.2631\n",
      "Epoch 17/25\n",
      "72/72 [==============================] - 6s 80ms/step - loss: 0.1011 - mae: 0.2441 - val_loss: 0.1075 - val_mae: 0.2586\n",
      "Epoch 18/25\n",
      "72/72 [==============================] - 6s 80ms/step - loss: 0.0966 - mae: 0.2386 - val_loss: 0.1128 - val_mae: 0.2650\n",
      "Epoch 19/25\n",
      "72/72 [==============================] - 6s 81ms/step - loss: 0.0911 - mae: 0.2350 - val_loss: 0.1186 - val_mae: 0.2714\n",
      "Epoch 20/25\n",
      "72/72 [==============================] - 6s 78ms/step - loss: 0.0912 - mae: 0.2325 - val_loss: 0.1163 - val_mae: 0.2687\n",
      "Epoch 21/25\n",
      "72/72 [==============================] - 6s 80ms/step - loss: 0.0951 - mae: 0.2372 - val_loss: 0.1078 - val_mae: 0.2584\n",
      "Epoch 22/25\n",
      "72/72 [==============================] - 6s 82ms/step - loss: 0.0916 - mae: 0.2341 - val_loss: 0.1058 - val_mae: 0.2566\n",
      "Epoch 23/25\n",
      "72/72 [==============================] - 6s 81ms/step - loss: 0.0870 - mae: 0.2270 - val_loss: 0.1119 - val_mae: 0.2624\n",
      "Epoch 24/25\n",
      "72/72 [==============================] - 6s 83ms/step - loss: 0.0884 - mae: 0.2301 - val_loss: 0.1148 - val_mae: 0.2677\n",
      "Epoch 25/25\n",
      "72/72 [==============================] - 6s 78ms/step - loss: 0.0895 - mae: 0.2308 - val_loss: 0.1073 - val_mae: 0.2572\n",
      "8/8 [==============================] - 0s 24ms/step - loss: 0.2073 - mae: 0.3501\n"
     ]
    },
    {
     "data": {
      "text/html": [
       "<br/>Waiting for W&B process to finish, PID 9321<br/>Program failed with code 1.  Press ctrl-c to abort syncing."
      ],
      "text/plain": [
       "<IPython.core.display.HTML object>"
      ]
     },
     "metadata": {
      "tags": []
     },
     "output_type": "display_data"
    },
    {
     "data": {
      "application/vnd.jupyter.widget-view+json": {
       "model_id": "db757e82cf9746afa442a7d4db83e44b",
       "version_major": 2,
       "version_minor": 0
      },
      "text/plain": [
       "VBox(children=(Label(value=' 0.81MB of 0.81MB uploaded (0.00MB deduped)\\r'), FloatProgress(value=1.0, max=1.0)…"
      ]
     },
     "metadata": {
      "tags": []
     },
     "output_type": "display_data"
    },
    {
     "data": {
      "text/html": [
       "Find user logs for this run at: <code>/content/wandb/run-20210507_110332-w889co4i/logs/debug.log</code>"
      ],
      "text/plain": [
       "<IPython.core.display.HTML object>"
      ]
     },
     "metadata": {
      "tags": []
     },
     "output_type": "display_data"
    },
    {
     "data": {
      "text/html": [
       "Find internal logs for this run at: <code>/content/wandb/run-20210507_110332-w889co4i/logs/debug-internal.log</code>"
      ],
      "text/plain": [
       "<IPython.core.display.HTML object>"
      ]
     },
     "metadata": {
      "tags": []
     },
     "output_type": "display_data"
    },
    {
     "data": {
      "text/html": [
       "<h3>Run summary:</h3><br/><style>\n",
       "    table.wandb td:nth-child(1) { padding: 0 10px; text-align: right }\n",
       "    </style><table class=\"wandb\">\n",
       "<tr><td>epoch</td><td>24</td></tr><tr><td>loss</td><td>0.0872</td></tr><tr><td>mae</td><td>0.22685</td></tr><tr><td>val_loss</td><td>0.10731</td></tr><tr><td>val_mae</td><td>0.25716</td></tr><tr><td>_runtime</td><td>158</td></tr><tr><td>_timestamp</td><td>1620385570</td></tr><tr><td>_step</td><td>26</td></tr><tr><td>best_val_loss</td><td>0.10585</td></tr><tr><td>best_epoch</td><td>21</td></tr><tr><td>test_loss</td><td>0.20727</td></tr><tr><td>test_mae</td><td>0.35008</td></tr></table>"
      ],
      "text/plain": [
       "<IPython.core.display.HTML object>"
      ]
     },
     "metadata": {
      "tags": []
     },
     "output_type": "display_data"
    },
    {
     "data": {
      "text/html": [
       "<h3>Run history:</h3><br/><style>\n",
       "    table.wandb td:nth-child(1) { padding: 0 10px; text-align: right }\n",
       "    </style><table class=\"wandb\">\n",
       "<tr><td>epoch</td><td>▁▁▂▂▂▂▃▃▃▄▄▄▅▅▅▅▆▆▆▇▇▇▇██</td></tr><tr><td>loss</td><td>█▅▃▂▂▂▂▂▁▁▁▁▁▁▁▁▁▁▁▁▁▁▁▁▁</td></tr><tr><td>mae</td><td>█▅▃▃▂▂▂▂▂▂▂▁▁▁▁▁▁▁▁▁▁▁▁▁▁</td></tr><tr><td>val_loss</td><td>█▄▃▂▂▂▂▂▂▁▁▁▁▁▁▁▁▁▁▁▁▁▁▁▁</td></tr><tr><td>val_mae</td><td>█▄▄▃▃▂▂▂▂▂▁▁▁▁▁▁▁▁▁▁▁▁▁▁▁</td></tr><tr><td>_runtime</td><td>▁▁▂▂▂▂▃▃▃▄▄▄▄▅▅▅▆▆▆▇▇▇▇████</td></tr><tr><td>_timestamp</td><td>▁▁▂▂▂▂▃▃▃▄▄▄▄▅▅▅▆▆▆▇▇▇▇████</td></tr><tr><td>_step</td><td>▁▁▂▂▂▂▃▃▃▃▄▄▄▅▅▅▅▆▆▆▆▇▇▇▇██</td></tr><tr><td>test_loss</td><td>▁</td></tr><tr><td>test_mae</td><td>▁</td></tr></table><br/>"
      ],
      "text/plain": [
       "<IPython.core.display.HTML object>"
      ]
     },
     "metadata": {
      "tags": []
     },
     "output_type": "display_data"
    },
    {
     "data": {
      "text/html": [
       "Synced 5 W&B file(s), 1 media file(s), 0 artifact file(s) and 1 other file(s)"
      ],
      "text/plain": [
       "<IPython.core.display.HTML object>"
      ]
     },
     "metadata": {
      "tags": []
     },
     "output_type": "display_data"
    },
    {
     "data": {
      "text/html": [
       "\n",
       "                    <br/>Synced <strong style=\"color:#cdcd00\">toasty-sweep-38</strong>: <a href=\"https://wandb.ai/nbvanting/thesis/runs/w889co4i\" target=\"_blank\">https://wandb.ai/nbvanting/thesis/runs/w889co4i</a><br/>\n",
       "                "
      ],
      "text/plain": [
       "<IPython.core.display.HTML object>"
      ]
     },
     "metadata": {
      "tags": []
     },
     "output_type": "display_data"
    },
    {
     "name": "stderr",
     "output_type": "stream",
     "text": [
      "Run w889co4i errored: IndexError('list index out of range')\n",
      "\u001b[34m\u001b[1mwandb\u001b[0m: \u001b[32m\u001b[41mERROR\u001b[0m Run w889co4i errored: IndexError('list index out of range')\n",
      "\u001b[34m\u001b[1mwandb\u001b[0m: Agent Starting Run: wr7nbbkp with config:\n",
      "\u001b[34m\u001b[1mwandb\u001b[0m: \tactivation_cnn: relu\n",
      "\u001b[34m\u001b[1mwandb\u001b[0m: \tactivation_gru: tanh\n",
      "\u001b[34m\u001b[1mwandb\u001b[0m: \tbatch_size: 145\n",
      "\u001b[34m\u001b[1mwandb\u001b[0m: \tcnn_lay_2: False\n",
      "\u001b[34m\u001b[1mwandb\u001b[0m: \tcnn_lay_3: True\n",
      "\u001b[34m\u001b[1mwandb\u001b[0m: \tcnn_layer_size_1: 56\n",
      "\u001b[34m\u001b[1mwandb\u001b[0m: \tcnn_layer_size_2: 50\n",
      "\u001b[34m\u001b[1mwandb\u001b[0m: \tcnn_layer_size_3: 212\n",
      "\u001b[34m\u001b[1mwandb\u001b[0m: \tdataset: strib\n",
      "\u001b[34m\u001b[1mwandb\u001b[0m: \tdropout: 0.10258933046385088\n",
      "\u001b[34m\u001b[1mwandb\u001b[0m: \tepochs: 25\n",
      "\u001b[34m\u001b[1mwandb\u001b[0m: \tgru_lay_1: False\n",
      "\u001b[34m\u001b[1mwandb\u001b[0m: \tgru_lay_2: True\n",
      "\u001b[34m\u001b[1mwandb\u001b[0m: \tgru_layer_size_1: 131\n",
      "\u001b[34m\u001b[1mwandb\u001b[0m: \tgru_layer_size_2: 217\n",
      "\u001b[34m\u001b[1mwandb\u001b[0m: \tgru_layer_size_3: 55\n",
      "\u001b[34m\u001b[1mwandb\u001b[0m: \tkernelsize: 3\n",
      "\u001b[34m\u001b[1mwandb\u001b[0m: \tlearning_rate: 0.039105256097860704\n",
      "\u001b[34m\u001b[1mwandb\u001b[0m: \tlookback: 744\n",
      "\u001b[34m\u001b[1mwandb\u001b[0m: \tmomentum: 0.6880052730092838\n",
      "\u001b[34m\u001b[1mwandb\u001b[0m: \tnum_cnn_layers: 2\n",
      "\u001b[34m\u001b[1mwandb\u001b[0m: \tnum_features: 9\n",
      "\u001b[34m\u001b[1mwandb\u001b[0m: \tnum_gru_layers: 2\n",
      "\u001b[34m\u001b[1mwandb\u001b[0m: \toptimizer: sgd\n",
      "\u001b[34m\u001b[1mwandb\u001b[0m: \tsplitmethod: offset\n",
      "\u001b[34m\u001b[1mwandb\u001b[0m: \tsplitrate: 0.8\n",
      "\u001b[34m\u001b[1mwandb\u001b[0m: \u001b[33mWARNING\u001b[0m Ignored wandb.init() arg project when running a sweep\n"
     ]
    },
    {
     "data": {
      "text/html": [
       "\n",
       "                Tracking run with wandb version 0.10.29<br/>\n",
       "                Syncing run <strong style=\"color:#cdcd00\">fiery-sweep-39</strong> to <a href=\"https://wandb.ai\" target=\"_blank\">Weights & Biases</a> <a href=\"https://docs.wandb.com/integrations/jupyter.html\" target=\"_blank\">(Documentation)</a>.<br/>\n",
       "                Project page: <a href=\"https://wandb.ai/nbvanting/thesis\" target=\"_blank\">https://wandb.ai/nbvanting/thesis</a><br/>\n",
       "                Sweep page: <a href=\"https://wandb.ai/nbvanting/thesis/sweeps/xjdtj3eo\" target=\"_blank\">https://wandb.ai/nbvanting/thesis/sweeps/xjdtj3eo</a><br/>\n",
       "Run page: <a href=\"https://wandb.ai/nbvanting/thesis/runs/wr7nbbkp\" target=\"_blank\">https://wandb.ai/nbvanting/thesis/runs/wr7nbbkp</a><br/>\n",
       "                Run data is saved locally in <code>/content/wandb/run-20210507_110616-wr7nbbkp</code><br/><br/>\n",
       "            "
      ],
      "text/plain": [
       "<IPython.core.display.HTML object>"
      ]
     },
     "metadata": {
      "tags": []
     },
     "output_type": "display_data"
    },
    {
     "name": "stdout",
     "output_type": "stream",
     "text": [
      "Epoch 1/25\n",
      "101/101 [==============================] - 13s 91ms/step - loss: 0.6818 - mae: 0.6451 - val_loss: 0.4256 - val_mae: 0.5170\n",
      "Epoch 2/25\n",
      "101/101 [==============================] - 9s 86ms/step - loss: 0.3396 - mae: 0.4525 - val_loss: 0.3556 - val_mae: 0.4729\n",
      "Epoch 3/25\n",
      "101/101 [==============================] - 9s 83ms/step - loss: 0.2740 - mae: 0.4027 - val_loss: 0.2765 - val_mae: 0.4233\n",
      "Epoch 4/25\n",
      "101/101 [==============================] - 9s 84ms/step - loss: 0.2006 - mae: 0.3444 - val_loss: 0.2083 - val_mae: 0.3507\n",
      "Epoch 5/25\n",
      "101/101 [==============================] - 9s 84ms/step - loss: 0.1508 - mae: 0.2970 - val_loss: 0.1716 - val_mae: 0.3272\n",
      "Epoch 6/25\n",
      "101/101 [==============================] - 9s 84ms/step - loss: 0.1296 - mae: 0.2747 - val_loss: 0.1595 - val_mae: 0.3144\n",
      "Epoch 7/25\n",
      "101/101 [==============================] - 9s 83ms/step - loss: 0.1183 - mae: 0.2619 - val_loss: 0.1508 - val_mae: 0.2947\n",
      "Epoch 8/25\n",
      "101/101 [==============================] - 9s 83ms/step - loss: 0.1112 - mae: 0.2531 - val_loss: 0.1470 - val_mae: 0.2972\n",
      "Epoch 9/25\n",
      "101/101 [==============================] - 9s 84ms/step - loss: 0.1047 - mae: 0.2446 - val_loss: 0.1379 - val_mae: 0.2812\n",
      "Epoch 10/25\n",
      "101/101 [==============================] - 9s 84ms/step - loss: 0.1018 - mae: 0.2414 - val_loss: 0.1442 - val_mae: 0.2947\n",
      "Epoch 11/25\n",
      "101/101 [==============================] - 9s 85ms/step - loss: 0.0978 - mae: 0.2377 - val_loss: 0.1302 - val_mae: 0.2751\n",
      "Epoch 12/25\n",
      "101/101 [==============================] - 9s 84ms/step - loss: 0.0937 - mae: 0.2324 - val_loss: 0.1420 - val_mae: 0.2959\n",
      "Epoch 13/25\n",
      "101/101 [==============================] - 9s 85ms/step - loss: 0.0924 - mae: 0.2298 - val_loss: 0.1308 - val_mae: 0.2806\n",
      "Epoch 14/25\n",
      "101/101 [==============================] - 9s 83ms/step - loss: 0.0904 - mae: 0.2266 - val_loss: 0.1293 - val_mae: 0.2741\n",
      "Epoch 15/25\n",
      "101/101 [==============================] - 9s 85ms/step - loss: 0.0875 - mae: 0.2237 - val_loss: 0.1298 - val_mae: 0.2771\n",
      "Epoch 16/25\n",
      "101/101 [==============================] - 9s 84ms/step - loss: 0.0864 - mae: 0.2227 - val_loss: 0.1300 - val_mae: 0.2764\n",
      "Epoch 17/25\n",
      "101/101 [==============================] - 9s 84ms/step - loss: 0.0824 - mae: 0.2181 - val_loss: 0.1265 - val_mae: 0.2703\n",
      "Epoch 18/25\n",
      "101/101 [==============================] - 9s 86ms/step - loss: 0.0839 - mae: 0.2206 - val_loss: 0.1211 - val_mae: 0.2623\n",
      "Epoch 19/25\n",
      "101/101 [==============================] - 9s 83ms/step - loss: 0.0827 - mae: 0.2175 - val_loss: 0.1221 - val_mae: 0.2651\n",
      "Epoch 20/25\n",
      "101/101 [==============================] - 9s 84ms/step - loss: 0.0810 - mae: 0.2148 - val_loss: 0.1205 - val_mae: 0.2672\n",
      "Epoch 21/25\n",
      "101/101 [==============================] - 9s 83ms/step - loss: 0.0801 - mae: 0.2132 - val_loss: 0.1269 - val_mae: 0.2733\n",
      "Epoch 22/25\n",
      "101/101 [==============================] - 9s 83ms/step - loss: 0.0782 - mae: 0.2107 - val_loss: 0.1202 - val_mae: 0.2625\n",
      "Epoch 23/25\n",
      "101/101 [==============================] - 9s 83ms/step - loss: 0.0776 - mae: 0.2104 - val_loss: 0.1246 - val_mae: 0.2707\n",
      "Epoch 24/25\n",
      "101/101 [==============================] - 9s 83ms/step - loss: 0.0776 - mae: 0.2109 - val_loss: 0.1165 - val_mae: 0.2583\n",
      "Epoch 25/25\n",
      "101/101 [==============================] - 9s 84ms/step - loss: 0.0758 - mae: 0.2079 - val_loss: 0.1184 - val_mae: 0.2618\n",
      "11/11 [==============================] - 1s 32ms/step - loss: 0.2007 - mae: 0.3332\n"
     ]
    },
    {
     "data": {
      "text/html": [
       "<br/>Waiting for W&B process to finish, PID 9616<br/>Program failed with code 1.  Press ctrl-c to abort syncing."
      ],
      "text/plain": [
       "<IPython.core.display.HTML object>"
      ]
     },
     "metadata": {
      "tags": []
     },
     "output_type": "display_data"
    },
    {
     "data": {
      "application/vnd.jupyter.widget-view+json": {
       "model_id": "0f3248e62e664751b98e1aeb783b2ef3",
       "version_major": 2,
       "version_minor": 0
      },
      "text/plain": [
       "VBox(children=(Label(value=' 2.83MB of 2.83MB uploaded (0.00MB deduped)\\r'), FloatProgress(value=1.0, max=1.0)…"
      ]
     },
     "metadata": {
      "tags": []
     },
     "output_type": "display_data"
    },
    {
     "data": {
      "text/html": [
       "Find user logs for this run at: <code>/content/wandb/run-20210507_110616-wr7nbbkp/logs/debug.log</code>"
      ],
      "text/plain": [
       "<IPython.core.display.HTML object>"
      ]
     },
     "metadata": {
      "tags": []
     },
     "output_type": "display_data"
    },
    {
     "data": {
      "text/html": [
       "Find internal logs for this run at: <code>/content/wandb/run-20210507_110616-wr7nbbkp/logs/debug-internal.log</code>"
      ],
      "text/plain": [
       "<IPython.core.display.HTML object>"
      ]
     },
     "metadata": {
      "tags": []
     },
     "output_type": "display_data"
    },
    {
     "data": {
      "text/html": [
       "<h3>Run summary:</h3><br/><style>\n",
       "    table.wandb td:nth-child(1) { padding: 0 10px; text-align: right }\n",
       "    </style><table class=\"wandb\">\n",
       "<tr><td>epoch</td><td>24</td></tr><tr><td>loss</td><td>0.07677</td></tr><tr><td>mae</td><td>0.20888</td></tr><tr><td>val_loss</td><td>0.11841</td></tr><tr><td>val_mae</td><td>0.26175</td></tr><tr><td>_runtime</td><td>226</td></tr><tr><td>_timestamp</td><td>1620385802</td></tr><tr><td>_step</td><td>26</td></tr><tr><td>best_val_loss</td><td>0.11646</td></tr><tr><td>best_epoch</td><td>23</td></tr><tr><td>test_loss</td><td>0.20072</td></tr><tr><td>test_mae</td><td>0.33322</td></tr></table>"
      ],
      "text/plain": [
       "<IPython.core.display.HTML object>"
      ]
     },
     "metadata": {
      "tags": []
     },
     "output_type": "display_data"
    },
    {
     "data": {
      "text/html": [
       "<h3>Run history:</h3><br/><style>\n",
       "    table.wandb td:nth-child(1) { padding: 0 10px; text-align: right }\n",
       "    </style><table class=\"wandb\">\n",
       "<tr><td>epoch</td><td>▁▁▂▂▂▂▃▃▃▄▄▄▅▅▅▅▆▆▆▇▇▇▇██</td></tr><tr><td>loss</td><td>█▅▄▃▂▂▂▂▁▁▁▁▁▁▁▁▁▁▁▁▁▁▁▁▁</td></tr><tr><td>mae</td><td>█▆▅▃▃▂▂▂▂▂▂▁▁▁▁▁▁▁▁▁▁▁▁▁▁</td></tr><tr><td>val_loss</td><td>█▆▅▃▂▂▂▂▁▂▁▂▁▁▁▁▁▁▁▁▁▁▁▁▁</td></tr><tr><td>val_mae</td><td>█▇▅▃▃▃▂▂▂▂▁▂▂▁▂▁▁▁▁▁▁▁▁▁▁</td></tr><tr><td>_runtime</td><td>▁▁▂▂▂▂▃▃▃▄▄▄▅▅▅▅▆▆▆▇▇▇▇████</td></tr><tr><td>_timestamp</td><td>▁▁▂▂▂▂▃▃▃▄▄▄▅▅▅▅▆▆▆▇▇▇▇████</td></tr><tr><td>_step</td><td>▁▁▂▂▂▂▃▃▃▃▄▄▄▅▅▅▅▆▆▆▆▇▇▇▇██</td></tr><tr><td>test_loss</td><td>▁</td></tr><tr><td>test_mae</td><td>▁</td></tr></table><br/>"
      ],
      "text/plain": [
       "<IPython.core.display.HTML object>"
      ]
     },
     "metadata": {
      "tags": []
     },
     "output_type": "display_data"
    },
    {
     "data": {
      "text/html": [
       "Synced 5 W&B file(s), 1 media file(s), 0 artifact file(s) and 1 other file(s)"
      ],
      "text/plain": [
       "<IPython.core.display.HTML object>"
      ]
     },
     "metadata": {
      "tags": []
     },
     "output_type": "display_data"
    },
    {
     "data": {
      "text/html": [
       "\n",
       "                    <br/>Synced <strong style=\"color:#cdcd00\">fiery-sweep-39</strong>: <a href=\"https://wandb.ai/nbvanting/thesis/runs/wr7nbbkp\" target=\"_blank\">https://wandb.ai/nbvanting/thesis/runs/wr7nbbkp</a><br/>\n",
       "                "
      ],
      "text/plain": [
       "<IPython.core.display.HTML object>"
      ]
     },
     "metadata": {
      "tags": []
     },
     "output_type": "display_data"
    },
    {
     "name": "stderr",
     "output_type": "stream",
     "text": [
      "Run wr7nbbkp errored: IndexError('list index out of range')\n",
      "\u001b[34m\u001b[1mwandb\u001b[0m: \u001b[32m\u001b[41mERROR\u001b[0m Run wr7nbbkp errored: IndexError('list index out of range')\n",
      "\u001b[34m\u001b[1mwandb\u001b[0m: Agent Starting Run: oq5oz64m with config:\n",
      "\u001b[34m\u001b[1mwandb\u001b[0m: \tactivation_cnn: relu\n",
      "\u001b[34m\u001b[1mwandb\u001b[0m: \tactivation_gru: tanh\n",
      "\u001b[34m\u001b[1mwandb\u001b[0m: \tbatch_size: 94\n",
      "\u001b[34m\u001b[1mwandb\u001b[0m: \tcnn_lay_2: True\n",
      "\u001b[34m\u001b[1mwandb\u001b[0m: \tcnn_lay_3: True\n",
      "\u001b[34m\u001b[1mwandb\u001b[0m: \tcnn_layer_size_1: 55\n",
      "\u001b[34m\u001b[1mwandb\u001b[0m: \tcnn_layer_size_2: 106\n",
      "\u001b[34m\u001b[1mwandb\u001b[0m: \tcnn_layer_size_3: 70\n",
      "\u001b[34m\u001b[1mwandb\u001b[0m: \tdataset: strib\n",
      "\u001b[34m\u001b[1mwandb\u001b[0m: \tdropout: 0.23436747630172244\n",
      "\u001b[34m\u001b[1mwandb\u001b[0m: \tepochs: 25\n",
      "\u001b[34m\u001b[1mwandb\u001b[0m: \tgru_lay_1: False\n",
      "\u001b[34m\u001b[1mwandb\u001b[0m: \tgru_lay_2: False\n",
      "\u001b[34m\u001b[1mwandb\u001b[0m: \tgru_layer_size_1: 142\n",
      "\u001b[34m\u001b[1mwandb\u001b[0m: \tgru_layer_size_2: 48\n",
      "\u001b[34m\u001b[1mwandb\u001b[0m: \tgru_layer_size_3: 41\n",
      "\u001b[34m\u001b[1mwandb\u001b[0m: \tkernelsize: 5\n",
      "\u001b[34m\u001b[1mwandb\u001b[0m: \tlearning_rate: 0.006986306843265933\n",
      "\u001b[34m\u001b[1mwandb\u001b[0m: \tlookback: 744\n",
      "\u001b[34m\u001b[1mwandb\u001b[0m: \tmomentum: 0.8345059783655069\n",
      "\u001b[34m\u001b[1mwandb\u001b[0m: \tnum_cnn_layers: 2\n",
      "\u001b[34m\u001b[1mwandb\u001b[0m: \tnum_features: 9\n",
      "\u001b[34m\u001b[1mwandb\u001b[0m: \tnum_gru_layers: 2\n",
      "\u001b[34m\u001b[1mwandb\u001b[0m: \toptimizer: sgd\n",
      "\u001b[34m\u001b[1mwandb\u001b[0m: \tsplitmethod: standard\n",
      "\u001b[34m\u001b[1mwandb\u001b[0m: \tsplitrate: 0.8\n",
      "\u001b[34m\u001b[1mwandb\u001b[0m: \u001b[33mWARNING\u001b[0m Ignored wandb.init() arg project when running a sweep\n"
     ]
    },
    {
     "data": {
      "text/html": [
       "\n",
       "                Tracking run with wandb version 0.10.29<br/>\n",
       "                Syncing run <strong style=\"color:#cdcd00\">exalted-sweep-40</strong> to <a href=\"https://wandb.ai\" target=\"_blank\">Weights & Biases</a> <a href=\"https://docs.wandb.com/integrations/jupyter.html\" target=\"_blank\">(Documentation)</a>.<br/>\n",
       "                Project page: <a href=\"https://wandb.ai/nbvanting/thesis\" target=\"_blank\">https://wandb.ai/nbvanting/thesis</a><br/>\n",
       "                Sweep page: <a href=\"https://wandb.ai/nbvanting/thesis/sweeps/xjdtj3eo\" target=\"_blank\">https://wandb.ai/nbvanting/thesis/sweeps/xjdtj3eo</a><br/>\n",
       "Run page: <a href=\"https://wandb.ai/nbvanting/thesis/runs/oq5oz64m\" target=\"_blank\">https://wandb.ai/nbvanting/thesis/runs/oq5oz64m</a><br/>\n",
       "                Run data is saved locally in <code>/content/wandb/run-20210507_111008-oq5oz64m</code><br/><br/>\n",
       "            "
      ],
      "text/plain": [
       "<IPython.core.display.HTML object>"
      ]
     },
     "metadata": {
      "tags": []
     },
     "output_type": "display_data"
    },
    {
     "name": "stdout",
     "output_type": "stream",
     "text": [
      "Epoch 1/25\n",
      "167/167 [==============================] - 9s 44ms/step - loss: 0.5679 - mae: 0.5792 - val_loss: 0.3659 - val_mae: 0.4515\n",
      "Epoch 2/25\n",
      "167/167 [==============================] - 7s 39ms/step - loss: 0.1505 - mae: 0.2982 - val_loss: 0.3458 - val_mae: 0.4492\n",
      "Epoch 3/25\n",
      "167/167 [==============================] - 7s 38ms/step - loss: 0.1156 - mae: 0.2605 - val_loss: 0.4448 - val_mae: 0.5227\n",
      "Epoch 4/25\n",
      "167/167 [==============================] - 7s 40ms/step - loss: 0.1040 - mae: 0.2459 - val_loss: 0.3231 - val_mae: 0.4275\n",
      "Epoch 5/25\n",
      "167/167 [==============================] - 7s 40ms/step - loss: 0.0990 - mae: 0.2390 - val_loss: 0.3067 - val_mae: 0.4154\n",
      "Epoch 6/25\n",
      "167/167 [==============================] - 7s 40ms/step - loss: 0.0900 - mae: 0.2278 - val_loss: 0.3095 - val_mae: 0.4134\n",
      "Epoch 7/25\n",
      "167/167 [==============================] - 7s 39ms/step - loss: 0.0868 - mae: 0.2240 - val_loss: 0.3247 - val_mae: 0.4218\n",
      "Epoch 8/25\n",
      "167/167 [==============================] - 7s 41ms/step - loss: 0.0855 - mae: 0.2212 - val_loss: 0.4079 - val_mae: 0.4852\n",
      "Epoch 9/25\n",
      "167/167 [==============================] - 7s 40ms/step - loss: 0.0827 - mae: 0.2189 - val_loss: 0.3458 - val_mae: 0.4346\n",
      "Epoch 10/25\n",
      "167/167 [==============================] - 7s 39ms/step - loss: 0.0823 - mae: 0.2186 - val_loss: 0.3618 - val_mae: 0.4452\n",
      "Epoch 11/25\n",
      "167/167 [==============================] - 7s 40ms/step - loss: 0.0808 - mae: 0.2155 - val_loss: 0.3720 - val_mae: 0.4534\n",
      "Epoch 12/25\n",
      "167/167 [==============================] - 7s 40ms/step - loss: 0.0799 - mae: 0.2147 - val_loss: 0.3562 - val_mae: 0.4442\n",
      "Epoch 13/25\n",
      "167/167 [==============================] - 7s 39ms/step - loss: 0.0769 - mae: 0.2106 - val_loss: 0.3351 - val_mae: 0.4268\n",
      "Epoch 14/25\n",
      "167/167 [==============================] - 7s 40ms/step - loss: 0.0781 - mae: 0.2111 - val_loss: 0.3484 - val_mae: 0.4345\n",
      "Epoch 15/25\n",
      "167/167 [==============================] - 6s 38ms/step - loss: 0.0743 - mae: 0.2073 - val_loss: 0.3018 - val_mae: 0.4001\n",
      "Epoch 16/25\n",
      "167/167 [==============================] - 6s 38ms/step - loss: 0.0744 - mae: 0.2075 - val_loss: 0.3954 - val_mae: 0.4742\n",
      "Epoch 17/25\n",
      "167/167 [==============================] - 7s 38ms/step - loss: 0.0720 - mae: 0.2045 - val_loss: 0.3259 - val_mae: 0.4207\n",
      "Epoch 18/25\n",
      "167/167 [==============================] - 7s 39ms/step - loss: 0.0718 - mae: 0.2043 - val_loss: 0.3120 - val_mae: 0.4085\n",
      "Epoch 19/25\n",
      "167/167 [==============================] - 7s 40ms/step - loss: 0.0687 - mae: 0.1989 - val_loss: 0.3790 - val_mae: 0.4571\n",
      "Epoch 20/25\n",
      "167/167 [==============================] - 7s 41ms/step - loss: 0.0700 - mae: 0.2023 - val_loss: 0.3947 - val_mae: 0.4717\n",
      "Epoch 21/25\n",
      "167/167 [==============================] - 7s 41ms/step - loss: 0.0671 - mae: 0.1967 - val_loss: 0.3587 - val_mae: 0.4522\n",
      "Epoch 22/25\n",
      "167/167 [==============================] - 7s 41ms/step - loss: 0.0683 - mae: 0.1987 - val_loss: 0.3398 - val_mae: 0.4352\n",
      "Epoch 23/25\n",
      "167/167 [==============================] - 7s 43ms/step - loss: 0.0665 - mae: 0.1964 - val_loss: 0.4601 - val_mae: 0.5282\n",
      "Epoch 24/25\n",
      "167/167 [==============================] - 8s 44ms/step - loss: 0.0686 - mae: 0.1998 - val_loss: 0.3460 - val_mae: 0.4306\n",
      "Epoch 25/25\n",
      "167/167 [==============================] - 7s 41ms/step - loss: 0.0656 - mae: 0.1957 - val_loss: 0.3802 - val_mae: 0.4630\n",
      "6/6 [==============================] - 0s 18ms/step - loss: 0.1450 - mae: 0.2900\n"
     ]
    },
    {
     "data": {
      "text/html": [
       "<br/>Waiting for W&B process to finish, PID 9915<br/>Program failed with code 1.  Press ctrl-c to abort syncing."
      ],
      "text/plain": [
       "<IPython.core.display.HTML object>"
      ]
     },
     "metadata": {
      "tags": []
     },
     "output_type": "display_data"
    },
    {
     "data": {
      "application/vnd.jupyter.widget-view+json": {
       "model_id": "c0e4f955385e409ebac84af867661cd9",
       "version_major": 2,
       "version_minor": 0
      },
      "text/plain": [
       "VBox(children=(Label(value=' 0.69MB of 0.69MB uploaded (0.00MB deduped)\\r'), FloatProgress(value=1.0, max=1.0)…"
      ]
     },
     "metadata": {
      "tags": []
     },
     "output_type": "display_data"
    },
    {
     "data": {
      "text/html": [
       "Find user logs for this run at: <code>/content/wandb/run-20210507_111008-oq5oz64m/logs/debug.log</code>"
      ],
      "text/plain": [
       "<IPython.core.display.HTML object>"
      ]
     },
     "metadata": {
      "tags": []
     },
     "output_type": "display_data"
    },
    {
     "data": {
      "text/html": [
       "Find internal logs for this run at: <code>/content/wandb/run-20210507_111008-oq5oz64m/logs/debug-internal.log</code>"
      ],
      "text/plain": [
       "<IPython.core.display.HTML object>"
      ]
     },
     "metadata": {
      "tags": []
     },
     "output_type": "display_data"
    },
    {
     "data": {
      "text/html": [
       "<h3>Run summary:</h3><br/><style>\n",
       "    table.wandb td:nth-child(1) { padding: 0 10px; text-align: right }\n",
       "    </style><table class=\"wandb\">\n",
       "<tr><td>epoch</td><td>24</td></tr><tr><td>loss</td><td>0.06505</td></tr><tr><td>mae</td><td>0.19486</td></tr><tr><td>val_loss</td><td>0.38021</td></tr><tr><td>val_mae</td><td>0.46295</td></tr><tr><td>_runtime</td><td>176</td></tr><tr><td>_timestamp</td><td>1620385985</td></tr><tr><td>_step</td><td>26</td></tr><tr><td>best_val_loss</td><td>0.30179</td></tr><tr><td>best_epoch</td><td>14</td></tr><tr><td>test_loss</td><td>0.145</td></tr><tr><td>test_mae</td><td>0.28996</td></tr></table>"
      ],
      "text/plain": [
       "<IPython.core.display.HTML object>"
      ]
     },
     "metadata": {
      "tags": []
     },
     "output_type": "display_data"
    },
    {
     "data": {
      "text/html": [
       "<h3>Run history:</h3><br/><style>\n",
       "    table.wandb td:nth-child(1) { padding: 0 10px; text-align: right }\n",
       "    </style><table class=\"wandb\">\n",
       "<tr><td>epoch</td><td>▁▁▂▂▂▂▃▃▃▄▄▄▅▅▅▅▆▆▆▇▇▇▇██</td></tr><tr><td>loss</td><td>█▃▂▂▂▂▂▁▁▁▁▁▁▁▁▁▁▁▁▁▁▁▁▁▁</td></tr><tr><td>mae</td><td>█▃▃▂▂▂▂▂▂▂▂▂▁▁▁▁▁▁▁▁▁▁▁▁▁</td></tr><tr><td>val_loss</td><td>▄▃▇▂▁▁▂▆▃▄▄▃▂▃▁▅▂▁▄▅▄▃█▃▄</td></tr><tr><td>val_mae</td><td>▄▄█▂▂▂▂▆▃▃▄▃▂▃▁▅▂▁▄▅▄▃█▃▄</td></tr><tr><td>_runtime</td><td>▁▁▂▂▂▂▃▃▃▄▄▄▄▅▅▅▆▆▆▆▇▇▇████</td></tr><tr><td>_timestamp</td><td>▁▁▂▂▂▂▃▃▃▄▄▄▄▅▅▅▆▆▆▆▇▇▇████</td></tr><tr><td>_step</td><td>▁▁▂▂▂▂▃▃▃▃▄▄▄▅▅▅▅▆▆▆▆▇▇▇▇██</td></tr><tr><td>test_loss</td><td>▁</td></tr><tr><td>test_mae</td><td>▁</td></tr></table><br/>"
      ],
      "text/plain": [
       "<IPython.core.display.HTML object>"
      ]
     },
     "metadata": {
      "tags": []
     },
     "output_type": "display_data"
    },
    {
     "data": {
      "text/html": [
       "Synced 5 W&B file(s), 1 media file(s), 0 artifact file(s) and 1 other file(s)"
      ],
      "text/plain": [
       "<IPython.core.display.HTML object>"
      ]
     },
     "metadata": {
      "tags": []
     },
     "output_type": "display_data"
    },
    {
     "data": {
      "text/html": [
       "\n",
       "                    <br/>Synced <strong style=\"color:#cdcd00\">exalted-sweep-40</strong>: <a href=\"https://wandb.ai/nbvanting/thesis/runs/oq5oz64m\" target=\"_blank\">https://wandb.ai/nbvanting/thesis/runs/oq5oz64m</a><br/>\n",
       "                "
      ],
      "text/plain": [
       "<IPython.core.display.HTML object>"
      ]
     },
     "metadata": {
      "tags": []
     },
     "output_type": "display_data"
    },
    {
     "name": "stderr",
     "output_type": "stream",
     "text": [
      "Run oq5oz64m errored: IndexError('list index out of range')\n",
      "\u001b[34m\u001b[1mwandb\u001b[0m: \u001b[32m\u001b[41mERROR\u001b[0m Run oq5oz64m errored: IndexError('list index out of range')\n",
      "\u001b[34m\u001b[1mwandb\u001b[0m: Agent Starting Run: oma12lj8 with config:\n",
      "\u001b[34m\u001b[1mwandb\u001b[0m: \tactivation_cnn: relu\n",
      "\u001b[34m\u001b[1mwandb\u001b[0m: \tactivation_gru: tanh\n",
      "\u001b[34m\u001b[1mwandb\u001b[0m: \tbatch_size: 40\n",
      "\u001b[34m\u001b[1mwandb\u001b[0m: \tcnn_lay_2: True\n",
      "\u001b[34m\u001b[1mwandb\u001b[0m: \tcnn_lay_3: False\n",
      "\u001b[34m\u001b[1mwandb\u001b[0m: \tcnn_layer_size_1: 76\n",
      "\u001b[34m\u001b[1mwandb\u001b[0m: \tcnn_layer_size_2: 68\n",
      "\u001b[34m\u001b[1mwandb\u001b[0m: \tcnn_layer_size_3: 146\n",
      "\u001b[34m\u001b[1mwandb\u001b[0m: \tdataset: kolding\n",
      "\u001b[34m\u001b[1mwandb\u001b[0m: \tdropout: 0.14212740695264411\n",
      "\u001b[34m\u001b[1mwandb\u001b[0m: \tepochs: 25\n",
      "\u001b[34m\u001b[1mwandb\u001b[0m: \tgru_lay_1: True\n",
      "\u001b[34m\u001b[1mwandb\u001b[0m: \tgru_lay_2: False\n",
      "\u001b[34m\u001b[1mwandb\u001b[0m: \tgru_layer_size_1: 86\n",
      "\u001b[34m\u001b[1mwandb\u001b[0m: \tgru_layer_size_2: 79\n",
      "\u001b[34m\u001b[1mwandb\u001b[0m: \tgru_layer_size_3: 183\n",
      "\u001b[34m\u001b[1mwandb\u001b[0m: \tkernelsize: 5\n",
      "\u001b[34m\u001b[1mwandb\u001b[0m: \tlearning_rate: 0.027019984916787185\n",
      "\u001b[34m\u001b[1mwandb\u001b[0m: \tlookback: 744\n",
      "\u001b[34m\u001b[1mwandb\u001b[0m: \tmomentum: 0.719529118078492\n",
      "\u001b[34m\u001b[1mwandb\u001b[0m: \tnum_cnn_layers: 2\n",
      "\u001b[34m\u001b[1mwandb\u001b[0m: \tnum_features: 9\n",
      "\u001b[34m\u001b[1mwandb\u001b[0m: \tnum_gru_layers: 2\n",
      "\u001b[34m\u001b[1mwandb\u001b[0m: \toptimizer: sgd\n",
      "\u001b[34m\u001b[1mwandb\u001b[0m: \tsplitmethod: standard\n",
      "\u001b[34m\u001b[1mwandb\u001b[0m: \tsplitrate: 0.8\n",
      "\u001b[34m\u001b[1mwandb\u001b[0m: \u001b[33mWARNING\u001b[0m Ignored wandb.init() arg project when running a sweep\n"
     ]
    },
    {
     "data": {
      "text/html": [
       "\n",
       "                Tracking run with wandb version 0.10.29<br/>\n",
       "                Syncing run <strong style=\"color:#cdcd00\">colorful-sweep-41</strong> to <a href=\"https://wandb.ai\" target=\"_blank\">Weights & Biases</a> <a href=\"https://docs.wandb.com/integrations/jupyter.html\" target=\"_blank\">(Documentation)</a>.<br/>\n",
       "                Project page: <a href=\"https://wandb.ai/nbvanting/thesis\" target=\"_blank\">https://wandb.ai/nbvanting/thesis</a><br/>\n",
       "                Sweep page: <a href=\"https://wandb.ai/nbvanting/thesis/sweeps/xjdtj3eo\" target=\"_blank\">https://wandb.ai/nbvanting/thesis/sweeps/xjdtj3eo</a><br/>\n",
       "Run page: <a href=\"https://wandb.ai/nbvanting/thesis/runs/oma12lj8\" target=\"_blank\">https://wandb.ai/nbvanting/thesis/runs/oma12lj8</a><br/>\n",
       "                Run data is saved locally in <code>/content/wandb/run-20210507_111311-oma12lj8</code><br/><br/>\n",
       "            "
      ],
      "text/plain": [
       "<IPython.core.display.HTML object>"
      ]
     },
     "metadata": {
      "tags": []
     },
     "output_type": "display_data"
    },
    {
     "name": "stdout",
     "output_type": "stream",
     "text": [
      "Epoch 1/25\n",
      "392/392 [==============================] - 18s 38ms/step - loss: 0.5554 - mae: 0.5728 - val_loss: 0.5774 - val_mae: 0.5741\n",
      "Epoch 2/25\n",
      "392/392 [==============================] - 14s 36ms/step - loss: 0.1631 - mae: 0.3072 - val_loss: 0.3868 - val_mae: 0.4894\n",
      "Epoch 3/25\n",
      "392/392 [==============================] - 14s 37ms/step - loss: 0.1221 - mae: 0.2661 - val_loss: 0.3541 - val_mae: 0.4370\n",
      "Epoch 4/25\n",
      "392/392 [==============================] - 14s 36ms/step - loss: 0.1068 - mae: 0.2498 - val_loss: 0.3308 - val_mae: 0.4228\n",
      "Epoch 5/25\n",
      "392/392 [==============================] - 14s 36ms/step - loss: 0.0972 - mae: 0.2386 - val_loss: 0.3462 - val_mae: 0.4404\n",
      "Epoch 6/25\n",
      "392/392 [==============================] - 14s 36ms/step - loss: 0.0919 - mae: 0.2310 - val_loss: 0.3057 - val_mae: 0.4170\n",
      "Epoch 7/25\n",
      "392/392 [==============================] - 14s 36ms/step - loss: 0.0871 - mae: 0.2260 - val_loss: 0.3093 - val_mae: 0.4143\n",
      "Epoch 8/25\n",
      "392/392 [==============================] - 14s 36ms/step - loss: 0.0840 - mae: 0.2226 - val_loss: 0.2988 - val_mae: 0.4093\n",
      "Epoch 9/25\n",
      "392/392 [==============================] - 14s 36ms/step - loss: 0.0831 - mae: 0.2201 - val_loss: 0.3428 - val_mae: 0.4308\n",
      "Epoch 10/25\n",
      "392/392 [==============================] - 14s 36ms/step - loss: 0.0769 - mae: 0.2137 - val_loss: 0.2794 - val_mae: 0.3976\n",
      "Epoch 11/25\n",
      "392/392 [==============================] - 14s 36ms/step - loss: 0.0750 - mae: 0.2103 - val_loss: 0.2697 - val_mae: 0.3954\n",
      "Epoch 12/25\n",
      "392/392 [==============================] - 14s 36ms/step - loss: 0.0754 - mae: 0.2100 - val_loss: 0.2879 - val_mae: 0.4022\n",
      "Epoch 13/25\n",
      " 21/392 [>.............................] - ETA: 12s - loss: 0.0723 - mae: 0.2091"
     ]
    },
    {
     "data": {
      "text/html": [
       "<br/>Waiting for W&B process to finish, PID 10212<br/>Program failed with code 1.  Press ctrl-c to abort syncing."
      ],
      "text/plain": [
       "<IPython.core.display.HTML object>"
      ]
     },
     "metadata": {
      "tags": []
     },
     "output_type": "display_data"
    },
    {
     "data": {
      "application/vnd.jupyter.widget-view+json": {
       "model_id": "6fae664c11d140de90b22d2aecfddc82",
       "version_major": 2,
       "version_minor": 0
      },
      "text/plain": [
       "VBox(children=(Label(value=' 1.73MB of 1.73MB uploaded (0.00MB deduped)\\r'), FloatProgress(value=1.0, max=1.0)…"
      ]
     },
     "metadata": {
      "tags": []
     },
     "output_type": "display_data"
    },
    {
     "data": {
      "text/html": [
       "Find user logs for this run at: <code>/content/wandb/run-20210507_111311-oma12lj8/logs/debug.log</code>"
      ],
      "text/plain": [
       "<IPython.core.display.HTML object>"
      ]
     },
     "metadata": {
      "tags": []
     },
     "output_type": "display_data"
    },
    {
     "data": {
      "text/html": [
       "Find internal logs for this run at: <code>/content/wandb/run-20210507_111311-oma12lj8/logs/debug-internal.log</code>"
      ],
      "text/plain": [
       "<IPython.core.display.HTML object>"
      ]
     },
     "metadata": {
      "tags": []
     },
     "output_type": "display_data"
    },
    {
     "data": {
      "text/html": [
       "<h3>Run summary:</h3><br/><style>\n",
       "    table.wandb td:nth-child(1) { padding: 0 10px; text-align: right }\n",
       "    </style><table class=\"wandb\">\n",
       "<tr><td>epoch</td><td>11</td></tr><tr><td>loss</td><td>0.07421</td></tr><tr><td>mae</td><td>0.20844</td></tr><tr><td>val_loss</td><td>0.28788</td></tr><tr><td>val_mae</td><td>0.4022</td></tr><tr><td>_runtime</td><td>178</td></tr><tr><td>_timestamp</td><td>1620386169</td></tr><tr><td>_step</td><td>11</td></tr><tr><td>best_val_loss</td><td>0.26971</td></tr><tr><td>best_epoch</td><td>10</td></tr></table>"
      ],
      "text/plain": [
       "<IPython.core.display.HTML object>"
      ]
     },
     "metadata": {
      "tags": []
     },
     "output_type": "display_data"
    },
    {
     "data": {
      "text/html": [
       "<h3>Run history:</h3><br/><style>\n",
       "    table.wandb td:nth-child(1) { padding: 0 10px; text-align: right }\n",
       "    </style><table class=\"wandb\">\n",
       "<tr><td>epoch</td><td>▁▂▂▃▄▄▅▅▆▇▇█</td></tr><tr><td>loss</td><td>█▃▂▂▁▁▁▁▁▁▁▁</td></tr><tr><td>mae</td><td>█▃▂▂▂▂▁▁▁▁▁▁</td></tr><tr><td>val_loss</td><td>█▄▃▂▃▂▂▂▃▁▁▁</td></tr><tr><td>val_mae</td><td>█▅▃▂▃▂▂▂▂▁▁▁</td></tr><tr><td>_runtime</td><td>▁▂▂▃▄▄▅▅▆▇▇█</td></tr><tr><td>_timestamp</td><td>▁▂▂▃▄▄▅▅▆▇▇█</td></tr><tr><td>_step</td><td>▁▂▂▃▄▄▅▅▆▇▇█</td></tr></table><br/>"
      ],
      "text/plain": [
       "<IPython.core.display.HTML object>"
      ]
     },
     "metadata": {
      "tags": []
     },
     "output_type": "display_data"
    },
    {
     "data": {
      "text/html": [
       "Synced 5 W&B file(s), 1 media file(s), 0 artifact file(s) and 1 other file(s)"
      ],
      "text/plain": [
       "<IPython.core.display.HTML object>"
      ]
     },
     "metadata": {
      "tags": []
     },
     "output_type": "display_data"
    },
    {
     "data": {
      "text/html": [
       "\n",
       "                    <br/>Synced <strong style=\"color:#cdcd00\">colorful-sweep-41</strong>: <a href=\"https://wandb.ai/nbvanting/thesis/runs/oma12lj8\" target=\"_blank\">https://wandb.ai/nbvanting/thesis/runs/oma12lj8</a><br/>\n",
       "                "
      ],
      "text/plain": [
       "<IPython.core.display.HTML object>"
      ]
     },
     "metadata": {
      "tags": []
     },
     "output_type": "display_data"
    },
    {
     "name": "stderr",
     "output_type": "stream",
     "text": [
      "\u001b[34m\u001b[1mwandb\u001b[0m: Agent Starting Run: xmit2sd5 with config:\n",
      "\u001b[34m\u001b[1mwandb\u001b[0m: \tactivation_cnn: relu\n",
      "\u001b[34m\u001b[1mwandb\u001b[0m: \tactivation_gru: tanh\n",
      "\u001b[34m\u001b[1mwandb\u001b[0m: \tbatch_size: 241\n",
      "\u001b[34m\u001b[1mwandb\u001b[0m: \tcnn_lay_2: False\n",
      "\u001b[34m\u001b[1mwandb\u001b[0m: \tcnn_lay_3: True\n",
      "\u001b[34m\u001b[1mwandb\u001b[0m: \tcnn_layer_size_1: 232\n",
      "\u001b[34m\u001b[1mwandb\u001b[0m: \tcnn_layer_size_2: 81\n",
      "\u001b[34m\u001b[1mwandb\u001b[0m: \tcnn_layer_size_3: 37\n",
      "\u001b[34m\u001b[1mwandb\u001b[0m: \tdataset: kolding\n",
      "\u001b[34m\u001b[1mwandb\u001b[0m: \tdropout: 0.43938535783543237\n",
      "\u001b[34m\u001b[1mwandb\u001b[0m: \tepochs: 25\n",
      "\u001b[34m\u001b[1mwandb\u001b[0m: \tgru_lay_1: True\n",
      "\u001b[34m\u001b[1mwandb\u001b[0m: \tgru_lay_2: False\n",
      "\u001b[34m\u001b[1mwandb\u001b[0m: \tgru_layer_size_1: 231\n",
      "\u001b[34m\u001b[1mwandb\u001b[0m: \tgru_layer_size_2: 156\n",
      "\u001b[34m\u001b[1mwandb\u001b[0m: \tgru_layer_size_3: 35\n",
      "\u001b[34m\u001b[1mwandb\u001b[0m: \tkernelsize: 7\n",
      "\u001b[34m\u001b[1mwandb\u001b[0m: \tlearning_rate: 0.038282277818993175\n",
      "\u001b[34m\u001b[1mwandb\u001b[0m: \tlookback: 744\n",
      "\u001b[34m\u001b[1mwandb\u001b[0m: \tmomentum: 0.92554710535071\n",
      "\u001b[34m\u001b[1mwandb\u001b[0m: \tnum_cnn_layers: 2\n",
      "\u001b[34m\u001b[1mwandb\u001b[0m: \tnum_features: 9\n",
      "\u001b[34m\u001b[1mwandb\u001b[0m: \tnum_gru_layers: 2\n",
      "\u001b[34m\u001b[1mwandb\u001b[0m: \toptimizer: sgd\n",
      "\u001b[34m\u001b[1mwandb\u001b[0m: \tsplitmethod: offset\n",
      "\u001b[34m\u001b[1mwandb\u001b[0m: \tsplitrate: 0.8\n",
      "\u001b[34m\u001b[1mwandb\u001b[0m: \u001b[33mWARNING\u001b[0m Ignored wandb.init() arg project when running a sweep\n"
     ]
    },
    {
     "data": {
      "text/html": [
       "\n",
       "                Tracking run with wandb version 0.10.29<br/>\n",
       "                Syncing run <strong style=\"color:#cdcd00\">expert-sweep-42</strong> to <a href=\"https://wandb.ai\" target=\"_blank\">Weights & Biases</a> <a href=\"https://docs.wandb.com/integrations/jupyter.html\" target=\"_blank\">(Documentation)</a>.<br/>\n",
       "                Project page: <a href=\"https://wandb.ai/nbvanting/thesis\" target=\"_blank\">https://wandb.ai/nbvanting/thesis</a><br/>\n",
       "                Sweep page: <a href=\"https://wandb.ai/nbvanting/thesis/sweeps/xjdtj3eo\" target=\"_blank\">https://wandb.ai/nbvanting/thesis/sweeps/xjdtj3eo</a><br/>\n",
       "Run page: <a href=\"https://wandb.ai/nbvanting/thesis/runs/xmit2sd5\" target=\"_blank\">https://wandb.ai/nbvanting/thesis/runs/xmit2sd5</a><br/>\n",
       "                Run data is saved locally in <code>/content/wandb/run-20210507_111619-xmit2sd5</code><br/><br/>\n",
       "            "
      ],
      "text/plain": [
       "<IPython.core.display.HTML object>"
      ]
     },
     "metadata": {
      "tags": []
     },
     "output_type": "display_data"
    },
    {
     "name": "stdout",
     "output_type": "stream",
     "text": [
      "Epoch 1/25\n",
      "61/61 [==============================] - 14s 174ms/step - loss: 0.7431 - mae: 0.6668 - val_loss: 0.4538 - val_mae: 0.5360\n",
      "Epoch 2/25\n",
      "61/61 [==============================] - 8s 132ms/step - loss: 0.3079 - mae: 0.4278 - val_loss: 0.2227 - val_mae: 0.3784\n",
      "Epoch 3/25\n",
      "61/61 [==============================] - 8s 128ms/step - loss: 0.1808 - mae: 0.3273 - val_loss: 0.1705 - val_mae: 0.3289\n",
      "Epoch 4/25\n",
      "61/61 [==============================] - 8s 133ms/step - loss: 0.1540 - mae: 0.3040 - val_loss: 0.1694 - val_mae: 0.3257\n",
      "Epoch 5/25\n",
      "61/61 [==============================] - 8s 133ms/step - loss: 0.1400 - mae: 0.2867 - val_loss: 0.1744 - val_mae: 0.3302\n",
      "Epoch 6/25\n",
      "61/61 [==============================] - 8s 132ms/step - loss: 0.1361 - mae: 0.2831 - val_loss: 0.1882 - val_mae: 0.3377\n",
      "Epoch 7/25\n",
      "61/61 [==============================] - 8s 134ms/step - loss: 0.1372 - mae: 0.2821 - val_loss: 0.1491 - val_mae: 0.3063\n",
      "Epoch 8/25\n",
      "61/61 [==============================] - 9s 140ms/step - loss: 0.1250 - mae: 0.2705 - val_loss: 0.1427 - val_mae: 0.2969\n",
      "Epoch 9/25\n",
      "61/61 [==============================] - 9s 141ms/step - loss: 0.1175 - mae: 0.2635 - val_loss: 0.1554 - val_mae: 0.3043\n",
      "Epoch 10/25\n",
      "61/61 [==============================] - 9s 138ms/step - loss: 0.1233 - mae: 0.2671 - val_loss: 0.1386 - val_mae: 0.2908\n",
      "Epoch 11/25\n",
      "61/61 [==============================] - 9s 138ms/step - loss: 0.1178 - mae: 0.2631 - val_loss: 0.1449 - val_mae: 0.3000\n",
      "Epoch 12/25\n",
      "61/61 [==============================] - 8s 133ms/step - loss: 0.1167 - mae: 0.2586 - val_loss: 0.1374 - val_mae: 0.2915\n",
      "Epoch 13/25\n",
      "61/61 [==============================] - 8s 133ms/step - loss: 0.1132 - mae: 0.2557 - val_loss: 0.1351 - val_mae: 0.2904\n",
      "Epoch 14/25\n",
      "61/61 [==============================] - 9s 135ms/step - loss: 0.1109 - mae: 0.2544 - val_loss: 0.1361 - val_mae: 0.2880\n",
      "Epoch 15/25\n",
      "61/61 [==============================] - 8s 129ms/step - loss: 0.1069 - mae: 0.2490 - val_loss: 0.1268 - val_mae: 0.2793\n",
      "Epoch 16/25\n",
      "61/61 [==============================] - 8s 130ms/step - loss: 0.1051 - mae: 0.2456 - val_loss: 0.1270 - val_mae: 0.2812\n",
      "Epoch 17/25\n",
      "61/61 [==============================] - 8s 131ms/step - loss: 0.1018 - mae: 0.2426 - val_loss: 0.1257 - val_mae: 0.2802\n",
      "Epoch 18/25\n",
      "61/61 [==============================] - 8s 131ms/step - loss: 0.1050 - mae: 0.2449 - val_loss: 0.1339 - val_mae: 0.2878\n",
      "Epoch 19/25\n",
      "61/61 [==============================] - 8s 130ms/step - loss: 0.1031 - mae: 0.2438 - val_loss: 0.1287 - val_mae: 0.2831\n",
      "Epoch 20/25\n",
      "61/61 [==============================] - 8s 131ms/step - loss: 0.0998 - mae: 0.2408 - val_loss: 0.1327 - val_mae: 0.2842\n",
      "Epoch 21/25\n",
      "61/61 [==============================] - 8s 132ms/step - loss: 0.1027 - mae: 0.2430 - val_loss: 0.1260 - val_mae: 0.2784\n",
      "Epoch 22/25\n",
      "61/61 [==============================] - 8s 130ms/step - loss: 0.0963 - mae: 0.2346 - val_loss: 0.1189 - val_mae: 0.2735\n",
      "Epoch 23/25\n",
      "61/61 [==============================] - 8s 132ms/step - loss: 0.0935 - mae: 0.2338 - val_loss: 0.1302 - val_mae: 0.2820\n",
      "Epoch 24/25\n",
      "61/61 [==============================] - 8s 132ms/step - loss: 0.0946 - mae: 0.2320 - val_loss: 0.1308 - val_mae: 0.2873\n",
      "Epoch 25/25\n",
      "61/61 [==============================] - 8s 132ms/step - loss: 0.0925 - mae: 0.2328 - val_loss: 0.1276 - val_mae: 0.2840\n",
      "7/7 [==============================] - 1s 43ms/step - loss: 0.1941 - mae: 0.3408\n"
     ]
    },
    {
     "data": {
      "text/html": [
       "<br/>Waiting for W&B process to finish, PID 10379<br/>Program failed with code 1.  Press ctrl-c to abort syncing."
      ],
      "text/plain": [
       "<IPython.core.display.HTML object>"
      ]
     },
     "metadata": {
      "tags": []
     },
     "output_type": "display_data"
    },
    {
     "data": {
      "application/vnd.jupyter.widget-view+json": {
       "model_id": "7efaf5851ac84e74aa4dbf7f1fa0ad9b",
       "version_major": 2,
       "version_minor": 0
      },
      "text/plain": [
       "VBox(children=(Label(value=' 2.27MB of 2.27MB uploaded (0.00MB deduped)\\r'), FloatProgress(value=1.0, max=1.0)…"
      ]
     },
     "metadata": {
      "tags": []
     },
     "output_type": "display_data"
    },
    {
     "data": {
      "text/html": [
       "Find user logs for this run at: <code>/content/wandb/run-20210507_111619-xmit2sd5/logs/debug.log</code>"
      ],
      "text/plain": [
       "<IPython.core.display.HTML object>"
      ]
     },
     "metadata": {
      "tags": []
     },
     "output_type": "display_data"
    },
    {
     "data": {
      "text/html": [
       "Find internal logs for this run at: <code>/content/wandb/run-20210507_111619-xmit2sd5/logs/debug-internal.log</code>"
      ],
      "text/plain": [
       "<IPython.core.display.HTML object>"
      ]
     },
     "metadata": {
      "tags": []
     },
     "output_type": "display_data"
    },
    {
     "data": {
      "text/html": [
       "<h3>Run summary:</h3><br/><style>\n",
       "    table.wandb td:nth-child(1) { padding: 0 10px; text-align: right }\n",
       "    </style><table class=\"wandb\">\n",
       "<tr><td>epoch</td><td>24</td></tr><tr><td>loss</td><td>0.09279</td></tr><tr><td>mae</td><td>0.23275</td></tr><tr><td>val_loss</td><td>0.12759</td></tr><tr><td>val_mae</td><td>0.284</td></tr><tr><td>_runtime</td><td>221</td></tr><tr><td>_timestamp</td><td>1620386400</td></tr><tr><td>_step</td><td>26</td></tr><tr><td>best_val_loss</td><td>0.11892</td></tr><tr><td>best_epoch</td><td>21</td></tr><tr><td>test_loss</td><td>0.19408</td></tr><tr><td>test_mae</td><td>0.34084</td></tr></table>"
      ],
      "text/plain": [
       "<IPython.core.display.HTML object>"
      ]
     },
     "metadata": {
      "tags": []
     },
     "output_type": "display_data"
    },
    {
     "data": {
      "text/html": [
       "<h3>Run history:</h3><br/><style>\n",
       "    table.wandb td:nth-child(1) { padding: 0 10px; text-align: right }\n",
       "    </style><table class=\"wandb\">\n",
       "<tr><td>epoch</td><td>▁▁▂▂▂▂▃▃▃▄▄▄▅▅▅▅▆▆▆▇▇▇▇██</td></tr><tr><td>loss</td><td>█▃▂▂▂▂▂▁▁▁▁▁▁▁▁▁▁▁▁▁▁▁▁▁▁</td></tr><tr><td>mae</td><td>█▄▃▂▂▂▂▂▂▂▂▁▁▁▁▁▁▁▁▁▁▁▁▁▁</td></tr><tr><td>val_loss</td><td>█▃▂▂▂▂▂▁▂▁▂▁▁▁▁▁▁▁▁▁▁▁▁▁▁</td></tr><tr><td>val_mae</td><td>█▄▂▂▃▃▂▂▂▁▂▁▁▁▁▁▁▁▁▁▁▁▁▁▁</td></tr><tr><td>_runtime</td><td>▁▁▂▂▂▂▃▃▃▄▄▄▅▅▅▅▆▆▆▇▇▇▇████</td></tr><tr><td>_timestamp</td><td>▁▁▂▂▂▂▃▃▃▄▄▄▅▅▅▅▆▆▆▇▇▇▇████</td></tr><tr><td>_step</td><td>▁▁▂▂▂▂▃▃▃▃▄▄▄▅▅▅▅▆▆▆▆▇▇▇▇██</td></tr><tr><td>test_loss</td><td>▁</td></tr><tr><td>test_mae</td><td>▁</td></tr></table><br/>"
      ],
      "text/plain": [
       "<IPython.core.display.HTML object>"
      ]
     },
     "metadata": {
      "tags": []
     },
     "output_type": "display_data"
    },
    {
     "data": {
      "text/html": [
       "Synced 5 W&B file(s), 1 media file(s), 0 artifact file(s) and 1 other file(s)"
      ],
      "text/plain": [
       "<IPython.core.display.HTML object>"
      ]
     },
     "metadata": {
      "tags": []
     },
     "output_type": "display_data"
    },
    {
     "data": {
      "text/html": [
       "\n",
       "                    <br/>Synced <strong style=\"color:#cdcd00\">expert-sweep-42</strong>: <a href=\"https://wandb.ai/nbvanting/thesis/runs/xmit2sd5\" target=\"_blank\">https://wandb.ai/nbvanting/thesis/runs/xmit2sd5</a><br/>\n",
       "                "
      ],
      "text/plain": [
       "<IPython.core.display.HTML object>"
      ]
     },
     "metadata": {
      "tags": []
     },
     "output_type": "display_data"
    },
    {
     "name": "stderr",
     "output_type": "stream",
     "text": [
      "Run xmit2sd5 errored: IndexError('list index out of range')\n",
      "\u001b[34m\u001b[1mwandb\u001b[0m: \u001b[32m\u001b[41mERROR\u001b[0m Run xmit2sd5 errored: IndexError('list index out of range')\n",
      "\u001b[34m\u001b[1mwandb\u001b[0m: Sweep Agent: Waiting for job.\n",
      "\u001b[34m\u001b[1mwandb\u001b[0m: Job received.\n",
      "\u001b[34m\u001b[1mwandb\u001b[0m: Agent Starting Run: fcinnl3k with config:\n",
      "\u001b[34m\u001b[1mwandb\u001b[0m: \tactivation_cnn: relu\n",
      "\u001b[34m\u001b[1mwandb\u001b[0m: \tactivation_gru: tanh\n",
      "\u001b[34m\u001b[1mwandb\u001b[0m: \tbatch_size: 159\n",
      "\u001b[34m\u001b[1mwandb\u001b[0m: \tcnn_lay_2: True\n",
      "\u001b[34m\u001b[1mwandb\u001b[0m: \tcnn_lay_3: True\n",
      "\u001b[34m\u001b[1mwandb\u001b[0m: \tcnn_layer_size_1: 123\n",
      "\u001b[34m\u001b[1mwandb\u001b[0m: \tcnn_layer_size_2: 147\n",
      "\u001b[34m\u001b[1mwandb\u001b[0m: \tcnn_layer_size_3: 140\n",
      "\u001b[34m\u001b[1mwandb\u001b[0m: \tdataset: strib\n",
      "\u001b[34m\u001b[1mwandb\u001b[0m: \tdropout: 0.22113237461978258\n",
      "\u001b[34m\u001b[1mwandb\u001b[0m: \tepochs: 25\n",
      "\u001b[34m\u001b[1mwandb\u001b[0m: \tgru_lay_1: False\n",
      "\u001b[34m\u001b[1mwandb\u001b[0m: \tgru_lay_2: False\n",
      "\u001b[34m\u001b[1mwandb\u001b[0m: \tgru_layer_size_1: 37\n",
      "\u001b[34m\u001b[1mwandb\u001b[0m: \tgru_layer_size_2: 87\n",
      "\u001b[34m\u001b[1mwandb\u001b[0m: \tgru_layer_size_3: 85\n",
      "\u001b[34m\u001b[1mwandb\u001b[0m: \tkernelsize: 7\n",
      "\u001b[34m\u001b[1mwandb\u001b[0m: \tlearning_rate: 0.004777734145114802\n",
      "\u001b[34m\u001b[1mwandb\u001b[0m: \tlookback: 744\n",
      "\u001b[34m\u001b[1mwandb\u001b[0m: \tmomentum: 0.8575096705900256\n",
      "\u001b[34m\u001b[1mwandb\u001b[0m: \tnum_cnn_layers: 2\n",
      "\u001b[34m\u001b[1mwandb\u001b[0m: \tnum_features: 9\n",
      "\u001b[34m\u001b[1mwandb\u001b[0m: \tnum_gru_layers: 2\n",
      "\u001b[34m\u001b[1mwandb\u001b[0m: \toptimizer: sgd\n",
      "\u001b[34m\u001b[1mwandb\u001b[0m: \tsplitmethod: offset\n",
      "\u001b[34m\u001b[1mwandb\u001b[0m: \tsplitrate: 0.8\n",
      "\u001b[34m\u001b[1mwandb\u001b[0m: \u001b[33mWARNING\u001b[0m Ignored wandb.init() arg project when running a sweep\n"
     ]
    },
    {
     "data": {
      "text/html": [
       "\n",
       "                Tracking run with wandb version 0.10.29<br/>\n",
       "                Syncing run <strong style=\"color:#cdcd00\">ancient-sweep-43</strong> to <a href=\"https://wandb.ai\" target=\"_blank\">Weights & Biases</a> <a href=\"https://docs.wandb.com/integrations/jupyter.html\" target=\"_blank\">(Documentation)</a>.<br/>\n",
       "                Project page: <a href=\"https://wandb.ai/nbvanting/thesis\" target=\"_blank\">https://wandb.ai/nbvanting/thesis</a><br/>\n",
       "                Sweep page: <a href=\"https://wandb.ai/nbvanting/thesis/sweeps/xjdtj3eo\" target=\"_blank\">https://wandb.ai/nbvanting/thesis/sweeps/xjdtj3eo</a><br/>\n",
       "Run page: <a href=\"https://wandb.ai/nbvanting/thesis/runs/fcinnl3k\" target=\"_blank\">https://wandb.ai/nbvanting/thesis/runs/fcinnl3k</a><br/>\n",
       "                Run data is saved locally in <code>/content/wandb/run-20210507_112017-fcinnl3k</code><br/><br/>\n",
       "            "
      ],
      "text/plain": [
       "<IPython.core.display.HTML object>"
      ]
     },
     "metadata": {
      "tags": []
     },
     "output_type": "display_data"
    },
    {
     "name": "stdout",
     "output_type": "stream",
     "text": [
      "Epoch 1/25\n",
      "92/92 [==============================] - 10s 87ms/step - loss: 0.6475 - mae: 0.6297 - val_loss: 0.2488 - val_mae: 0.3824\n",
      "Epoch 2/25\n",
      "92/92 [==============================] - 8s 82ms/step - loss: 0.1922 - mae: 0.3394 - val_loss: 0.1786 - val_mae: 0.3128\n",
      "Epoch 3/25\n",
      "92/92 [==============================] - 7s 78ms/step - loss: 0.1363 - mae: 0.2829 - val_loss: 0.1723 - val_mae: 0.3188\n",
      "Epoch 4/25\n",
      "92/92 [==============================] - 7s 79ms/step - loss: 0.1166 - mae: 0.2603 - val_loss: 0.1614 - val_mae: 0.3069\n",
      "Epoch 5/25\n",
      "92/92 [==============================] - 7s 78ms/step - loss: 0.1063 - mae: 0.2476 - val_loss: 0.1431 - val_mae: 0.2789\n",
      "Epoch 6/25\n",
      "92/92 [==============================] - 7s 79ms/step - loss: 0.0996 - mae: 0.2401 - val_loss: 0.1381 - val_mae: 0.2723\n",
      "Epoch 7/25\n",
      "92/92 [==============================] - 7s 79ms/step - loss: 0.0907 - mae: 0.2279 - val_loss: 0.1327 - val_mae: 0.2675\n",
      "Epoch 8/25\n",
      "92/92 [==============================] - 8s 80ms/step - loss: 0.0905 - mae: 0.2277 - val_loss: 0.1323 - val_mae: 0.2667\n",
      "Epoch 9/25\n",
      "92/92 [==============================] - 8s 80ms/step - loss: 0.0879 - mae: 0.2243 - val_loss: 0.1347 - val_mae: 0.2704\n",
      "Epoch 10/25\n",
      "92/92 [==============================] - 7s 79ms/step - loss: 0.0836 - mae: 0.2172 - val_loss: 0.1333 - val_mae: 0.2696\n",
      "Epoch 11/25\n",
      "92/92 [==============================] - 8s 82ms/step - loss: 0.0818 - mae: 0.2174 - val_loss: 0.1315 - val_mae: 0.2694\n",
      "Epoch 12/25\n",
      "92/92 [==============================] - 8s 80ms/step - loss: 0.0834 - mae: 0.2185 - val_loss: 0.1284 - val_mae: 0.2657\n",
      "Epoch 13/25\n",
      "92/92 [==============================] - 8s 80ms/step - loss: 0.0794 - mae: 0.2129 - val_loss: 0.1334 - val_mae: 0.2696\n",
      "Epoch 14/25\n",
      "92/92 [==============================] - 8s 81ms/step - loss: 0.0773 - mae: 0.2110 - val_loss: 0.1349 - val_mae: 0.2741\n",
      "Epoch 15/25\n",
      "92/92 [==============================] - 8s 82ms/step - loss: 0.0785 - mae: 0.2122 - val_loss: 0.1341 - val_mae: 0.2707\n",
      "Epoch 16/25\n",
      "92/92 [==============================] - 8s 84ms/step - loss: 0.0752 - mae: 0.2068 - val_loss: 0.1364 - val_mae: 0.2761\n",
      "Epoch 17/25\n",
      "92/92 [==============================] - 8s 85ms/step - loss: 0.0744 - mae: 0.2062 - val_loss: 0.1525 - val_mae: 0.2889\n",
      "Epoch 18/25\n",
      "92/92 [==============================] - 8s 83ms/step - loss: 0.0779 - mae: 0.2120 - val_loss: 0.1275 - val_mae: 0.2650\n",
      "Epoch 19/25\n",
      "92/92 [==============================] - 8s 83ms/step - loss: 0.0726 - mae: 0.2043 - val_loss: 0.1314 - val_mae: 0.2712\n",
      "Epoch 20/25\n",
      "92/92 [==============================] - 8s 84ms/step - loss: 0.0708 - mae: 0.2010 - val_loss: 0.1440 - val_mae: 0.2904\n",
      "Epoch 21/25\n",
      "92/92 [==============================] - 8s 84ms/step - loss: 0.0720 - mae: 0.2033 - val_loss: 0.1346 - val_mae: 0.2757\n",
      "Epoch 22/25\n",
      "92/92 [==============================] - 8s 85ms/step - loss: 0.0698 - mae: 0.2002 - val_loss: 0.1369 - val_mae: 0.2788\n",
      "Epoch 23/25\n",
      "92/92 [==============================] - 8s 83ms/step - loss: 0.0680 - mae: 0.1981 - val_loss: 0.1441 - val_mae: 0.2857\n",
      "Epoch 24/25\n",
      "92/92 [==============================] - 8s 83ms/step - loss: 0.0678 - mae: 0.1979 - val_loss: 0.1245 - val_mae: 0.2634\n",
      "Epoch 25/25\n",
      "92/92 [==============================] - 8s 85ms/step - loss: 0.0652 - mae: 0.1939 - val_loss: 0.1286 - val_mae: 0.2716\n",
      "10/10 [==============================] - 1s 33ms/step - loss: 0.1207 - mae: 0.2670\n"
     ]
    },
    {
     "data": {
      "text/html": [
       "<br/>Waiting for W&B process to finish, PID 10678<br/>Program failed with code 1.  Press ctrl-c to abort syncing."
      ],
      "text/plain": [
       "<IPython.core.display.HTML object>"
      ]
     },
     "metadata": {
      "tags": []
     },
     "output_type": "display_data"
    },
    {
     "data": {
      "application/vnd.jupyter.widget-view+json": {
       "model_id": "d547eafa23ae45aab3bb9db8aff5688f",
       "version_major": 2,
       "version_minor": 0
      },
      "text/plain": [
       "VBox(children=(Label(value=' 2.62MB of 2.62MB uploaded (0.00MB deduped)\\r'), FloatProgress(value=1.0, max=1.0)…"
      ]
     },
     "metadata": {
      "tags": []
     },
     "output_type": "display_data"
    },
    {
     "data": {
      "text/html": [
       "Find user logs for this run at: <code>/content/wandb/run-20210507_112017-fcinnl3k/logs/debug.log</code>"
      ],
      "text/plain": [
       "<IPython.core.display.HTML object>"
      ]
     },
     "metadata": {
      "tags": []
     },
     "output_type": "display_data"
    },
    {
     "data": {
      "text/html": [
       "Find internal logs for this run at: <code>/content/wandb/run-20210507_112017-fcinnl3k/logs/debug-internal.log</code>"
      ],
      "text/plain": [
       "<IPython.core.display.HTML object>"
      ]
     },
     "metadata": {
      "tags": []
     },
     "output_type": "display_data"
    },
    {
     "data": {
      "text/html": [
       "<h3>Run summary:</h3><br/><style>\n",
       "    table.wandb td:nth-child(1) { padding: 0 10px; text-align: right }\n",
       "    </style><table class=\"wandb\">\n",
       "<tr><td>epoch</td><td>24</td></tr><tr><td>loss</td><td>0.06613</td></tr><tr><td>mae</td><td>0.19501</td></tr><tr><td>val_loss</td><td>0.12864</td></tr><tr><td>val_mae</td><td>0.27157</td></tr><tr><td>_runtime</td><td>200</td></tr><tr><td>_timestamp</td><td>1620386617</td></tr><tr><td>_step</td><td>26</td></tr><tr><td>best_val_loss</td><td>0.12452</td></tr><tr><td>best_epoch</td><td>23</td></tr><tr><td>test_loss</td><td>0.12067</td></tr><tr><td>test_mae</td><td>0.26696</td></tr></table>"
      ],
      "text/plain": [
       "<IPython.core.display.HTML object>"
      ]
     },
     "metadata": {
      "tags": []
     },
     "output_type": "display_data"
    },
    {
     "data": {
      "text/html": [
       "<h3>Run history:</h3><br/><style>\n",
       "    table.wandb td:nth-child(1) { padding: 0 10px; text-align: right }\n",
       "    </style><table class=\"wandb\">\n",
       "<tr><td>epoch</td><td>▁▁▂▂▂▂▃▃▃▄▄▄▅▅▅▅▆▆▆▇▇▇▇██</td></tr><tr><td>loss</td><td>█▃▂▂▂▂▁▁▁▁▁▁▁▁▁▁▁▁▁▁▁▁▁▁▁</td></tr><tr><td>mae</td><td>█▄▃▂▂▂▂▂▂▁▁▁▁▁▁▁▁▁▁▁▁▁▁▁▁</td></tr><tr><td>val_loss</td><td>█▄▄▃▂▂▁▁▂▁▁▁▁▂▂▂▃▁▁▂▂▂▂▁▁</td></tr><tr><td>val_mae</td><td>█▄▄▄▂▂▁▁▁▁▁▁▁▂▁▂▃▁▁▃▂▂▂▁▁</td></tr><tr><td>_runtime</td><td>▁▁▂▂▂▂▃▃▃▄▄▄▄▅▅▅▆▆▆▇▇▇▇████</td></tr><tr><td>_timestamp</td><td>▁▁▂▂▂▂▃▃▃▄▄▄▄▅▅▅▆▆▆▇▇▇▇████</td></tr><tr><td>_step</td><td>▁▁▂▂▂▂▃▃▃▃▄▄▄▅▅▅▅▆▆▆▆▇▇▇▇██</td></tr><tr><td>test_loss</td><td>▁</td></tr><tr><td>test_mae</td><td>▁</td></tr></table><br/>"
      ],
      "text/plain": [
       "<IPython.core.display.HTML object>"
      ]
     },
     "metadata": {
      "tags": []
     },
     "output_type": "display_data"
    },
    {
     "data": {
      "text/html": [
       "Synced 5 W&B file(s), 1 media file(s), 0 artifact file(s) and 1 other file(s)"
      ],
      "text/plain": [
       "<IPython.core.display.HTML object>"
      ]
     },
     "metadata": {
      "tags": []
     },
     "output_type": "display_data"
    },
    {
     "data": {
      "text/html": [
       "\n",
       "                    <br/>Synced <strong style=\"color:#cdcd00\">ancient-sweep-43</strong>: <a href=\"https://wandb.ai/nbvanting/thesis/runs/fcinnl3k\" target=\"_blank\">https://wandb.ai/nbvanting/thesis/runs/fcinnl3k</a><br/>\n",
       "                "
      ],
      "text/plain": [
       "<IPython.core.display.HTML object>"
      ]
     },
     "metadata": {
      "tags": []
     },
     "output_type": "display_data"
    },
    {
     "name": "stderr",
     "output_type": "stream",
     "text": [
      "Run fcinnl3k errored: IndexError('list index out of range')\n",
      "\u001b[34m\u001b[1mwandb\u001b[0m: \u001b[32m\u001b[41mERROR\u001b[0m Run fcinnl3k errored: IndexError('list index out of range')\n",
      "\u001b[34m\u001b[1mwandb\u001b[0m: Agent Starting Run: ki9p1029 with config:\n",
      "\u001b[34m\u001b[1mwandb\u001b[0m: \tactivation_cnn: relu\n",
      "\u001b[34m\u001b[1mwandb\u001b[0m: \tactivation_gru: tanh\n",
      "\u001b[34m\u001b[1mwandb\u001b[0m: \tbatch_size: 58\n",
      "\u001b[34m\u001b[1mwandb\u001b[0m: \tcnn_lay_2: False\n",
      "\u001b[34m\u001b[1mwandb\u001b[0m: \tcnn_lay_3: True\n",
      "\u001b[34m\u001b[1mwandb\u001b[0m: \tcnn_layer_size_1: 74\n",
      "\u001b[34m\u001b[1mwandb\u001b[0m: \tcnn_layer_size_2: 45\n",
      "\u001b[34m\u001b[1mwandb\u001b[0m: \tcnn_layer_size_3: 76\n",
      "\u001b[34m\u001b[1mwandb\u001b[0m: \tdataset: kolding\n",
      "\u001b[34m\u001b[1mwandb\u001b[0m: \tdropout: 0.1986498454585692\n",
      "\u001b[34m\u001b[1mwandb\u001b[0m: \tepochs: 25\n",
      "\u001b[34m\u001b[1mwandb\u001b[0m: \tgru_lay_1: False\n",
      "\u001b[34m\u001b[1mwandb\u001b[0m: \tgru_lay_2: False\n",
      "\u001b[34m\u001b[1mwandb\u001b[0m: \tgru_layer_size_1: 46\n",
      "\u001b[34m\u001b[1mwandb\u001b[0m: \tgru_layer_size_2: 54\n",
      "\u001b[34m\u001b[1mwandb\u001b[0m: \tgru_layer_size_3: 38\n",
      "\u001b[34m\u001b[1mwandb\u001b[0m: \tkernelsize: 3\n",
      "\u001b[34m\u001b[1mwandb\u001b[0m: \tlearning_rate: 0.009956978932893937\n",
      "\u001b[34m\u001b[1mwandb\u001b[0m: \tlookback: 744\n",
      "\u001b[34m\u001b[1mwandb\u001b[0m: \tmomentum: 0.8377536507325449\n",
      "\u001b[34m\u001b[1mwandb\u001b[0m: \tnum_cnn_layers: 2\n",
      "\u001b[34m\u001b[1mwandb\u001b[0m: \tnum_features: 9\n",
      "\u001b[34m\u001b[1mwandb\u001b[0m: \tnum_gru_layers: 2\n",
      "\u001b[34m\u001b[1mwandb\u001b[0m: \toptimizer: sgd\n",
      "\u001b[34m\u001b[1mwandb\u001b[0m: \tsplitmethod: standard\n",
      "\u001b[34m\u001b[1mwandb\u001b[0m: \tsplitrate: 0.8\n",
      "\u001b[34m\u001b[1mwandb\u001b[0m: \u001b[33mWARNING\u001b[0m Ignored wandb.init() arg project when running a sweep\n"
     ]
    },
    {
     "data": {
      "text/html": [
       "\n",
       "                Tracking run with wandb version 0.10.29<br/>\n",
       "                Syncing run <strong style=\"color:#cdcd00\">efficient-sweep-44</strong> to <a href=\"https://wandb.ai\" target=\"_blank\">Weights & Biases</a> <a href=\"https://docs.wandb.com/integrations/jupyter.html\" target=\"_blank\">(Documentation)</a>.<br/>\n",
       "                Project page: <a href=\"https://wandb.ai/nbvanting/thesis\" target=\"_blank\">https://wandb.ai/nbvanting/thesis</a><br/>\n",
       "                Sweep page: <a href=\"https://wandb.ai/nbvanting/thesis/sweeps/xjdtj3eo\" target=\"_blank\">https://wandb.ai/nbvanting/thesis/sweeps/xjdtj3eo</a><br/>\n",
       "Run page: <a href=\"https://wandb.ai/nbvanting/thesis/runs/ki9p1029\" target=\"_blank\">https://wandb.ai/nbvanting/thesis/runs/ki9p1029</a><br/>\n",
       "                Run data is saved locally in <code>/content/wandb/run-20210507_112344-ki9p1029</code><br/><br/>\n",
       "            "
      ],
      "text/plain": [
       "<IPython.core.display.HTML object>"
      ]
     },
     "metadata": {
      "tags": []
     },
     "output_type": "display_data"
    },
    {
     "name": "stdout",
     "output_type": "stream",
     "text": [
      "Epoch 1/25\n",
      "271/271 [==============================] - 12s 38ms/step - loss: 0.5826 - mae: 0.5858 - val_loss: 1.2575 - val_mae: 0.8170\n",
      "Epoch 2/25\n",
      "271/271 [==============================] - 9s 34ms/step - loss: 0.3241 - mae: 0.4359 - val_loss: 0.7156 - val_mae: 0.6589\n",
      "Epoch 3/25\n",
      "271/271 [==============================] - 10s 35ms/step - loss: 0.2095 - mae: 0.3527 - val_loss: 0.6068 - val_mae: 0.5667\n",
      "Epoch 4/25\n",
      "271/271 [==============================] - 10s 35ms/step - loss: 0.1627 - mae: 0.3102 - val_loss: 0.6326 - val_mae: 0.5869\n",
      "Epoch 5/25\n",
      "271/271 [==============================] - 10s 36ms/step - loss: 0.1411 - mae: 0.2892 - val_loss: 0.4585 - val_mae: 0.5177\n",
      "Epoch 6/25\n",
      "271/271 [==============================] - 10s 36ms/step - loss: 0.1315 - mae: 0.2789 - val_loss: 0.5415 - val_mae: 0.5385\n",
      "Epoch 7/25\n",
      "271/271 [==============================] - 10s 37ms/step - loss: 0.1212 - mae: 0.2698 - val_loss: 0.4621 - val_mae: 0.4954\n",
      "Epoch 8/25\n",
      "246/271 [==========================>...] - ETA: 0s - loss: 0.1153 - mae: 0.2614"
     ]
    },
    {
     "data": {
      "text/html": [
       "<br/>Waiting for W&B process to finish, PID 10977<br/>Program failed with code 1.  Press ctrl-c to abort syncing."
      ],
      "text/plain": [
       "<IPython.core.display.HTML object>"
      ]
     },
     "metadata": {
      "tags": []
     },
     "output_type": "display_data"
    },
    {
     "data": {
      "application/vnd.jupyter.widget-view+json": {
       "model_id": "5f0b7481de5f4b47970591f66f84d1f4",
       "version_major": 2,
       "version_minor": 0
      },
      "text/plain": [
       "VBox(children=(Label(value=' 0.29MB of 0.29MB uploaded (0.00MB deduped)\\r'), FloatProgress(value=1.0, max=1.0)…"
      ]
     },
     "metadata": {
      "tags": []
     },
     "output_type": "display_data"
    },
    {
     "data": {
      "text/html": [
       "Find user logs for this run at: <code>/content/wandb/run-20210507_112344-ki9p1029/logs/debug.log</code>"
      ],
      "text/plain": [
       "<IPython.core.display.HTML object>"
      ]
     },
     "metadata": {
      "tags": []
     },
     "output_type": "display_data"
    },
    {
     "data": {
      "text/html": [
       "Find internal logs for this run at: <code>/content/wandb/run-20210507_112344-ki9p1029/logs/debug-internal.log</code>"
      ],
      "text/plain": [
       "<IPython.core.display.HTML object>"
      ]
     },
     "metadata": {
      "tags": []
     },
     "output_type": "display_data"
    },
    {
     "data": {
      "text/html": [
       "<h3>Run summary:</h3><br/><style>\n",
       "    table.wandb td:nth-child(1) { padding: 0 10px; text-align: right }\n",
       "    </style><table class=\"wandb\">\n",
       "<tr><td>epoch</td><td>6</td></tr><tr><td>loss</td><td>0.12223</td></tr><tr><td>mae</td><td>0.27009</td></tr><tr><td>val_loss</td><td>0.46211</td></tr><tr><td>val_mae</td><td>0.49537</td></tr><tr><td>_runtime</td><td>74</td></tr><tr><td>_timestamp</td><td>1620386698</td></tr><tr><td>_step</td><td>6</td></tr><tr><td>best_val_loss</td><td>0.45849</td></tr><tr><td>best_epoch</td><td>4</td></tr></table>"
      ],
      "text/plain": [
       "<IPython.core.display.HTML object>"
      ]
     },
     "metadata": {
      "tags": []
     },
     "output_type": "display_data"
    },
    {
     "data": {
      "text/html": [
       "<h3>Run history:</h3><br/><style>\n",
       "    table.wandb td:nth-child(1) { padding: 0 10px; text-align: right }\n",
       "    </style><table class=\"wandb\">\n",
       "<tr><td>epoch</td><td>▁▂▃▅▆▇█</td></tr><tr><td>loss</td><td>█▄▂▂▁▁▁</td></tr><tr><td>mae</td><td>█▅▃▂▁▁▁</td></tr><tr><td>val_loss</td><td>█▃▂▃▁▂▁</td></tr><tr><td>val_mae</td><td>█▅▃▃▁▂▁</td></tr><tr><td>_runtime</td><td>▁▂▃▅▆▇█</td></tr><tr><td>_timestamp</td><td>▁▂▃▅▆▇█</td></tr><tr><td>_step</td><td>▁▂▃▅▆▇█</td></tr></table><br/>"
      ],
      "text/plain": [
       "<IPython.core.display.HTML object>"
      ]
     },
     "metadata": {
      "tags": []
     },
     "output_type": "display_data"
    },
    {
     "data": {
      "text/html": [
       "Synced 5 W&B file(s), 1 media file(s), 0 artifact file(s) and 1 other file(s)"
      ],
      "text/plain": [
       "<IPython.core.display.HTML object>"
      ]
     },
     "metadata": {
      "tags": []
     },
     "output_type": "display_data"
    },
    {
     "data": {
      "text/html": [
       "\n",
       "                    <br/>Synced <strong style=\"color:#cdcd00\">efficient-sweep-44</strong>: <a href=\"https://wandb.ai/nbvanting/thesis/runs/ki9p1029\" target=\"_blank\">https://wandb.ai/nbvanting/thesis/runs/ki9p1029</a><br/>\n",
       "                "
      ],
      "text/plain": [
       "<IPython.core.display.HTML object>"
      ]
     },
     "metadata": {
      "tags": []
     },
     "output_type": "display_data"
    },
    {
     "name": "stderr",
     "output_type": "stream",
     "text": [
      "\u001b[34m\u001b[1mwandb\u001b[0m: Agent Starting Run: s4nq6qkh with config:\n",
      "\u001b[34m\u001b[1mwandb\u001b[0m: \tactivation_cnn: relu\n",
      "\u001b[34m\u001b[1mwandb\u001b[0m: \tactivation_gru: tanh\n",
      "\u001b[34m\u001b[1mwandb\u001b[0m: \tbatch_size: 118\n",
      "\u001b[34m\u001b[1mwandb\u001b[0m: \tcnn_lay_2: False\n",
      "\u001b[34m\u001b[1mwandb\u001b[0m: \tcnn_lay_3: True\n",
      "\u001b[34m\u001b[1mwandb\u001b[0m: \tcnn_layer_size_1: 181\n",
      "\u001b[34m\u001b[1mwandb\u001b[0m: \tcnn_layer_size_2: 160\n",
      "\u001b[34m\u001b[1mwandb\u001b[0m: \tcnn_layer_size_3: 172\n",
      "\u001b[34m\u001b[1mwandb\u001b[0m: \tdataset: kolding\n",
      "\u001b[34m\u001b[1mwandb\u001b[0m: \tdropout: 0.37203852297196754\n",
      "\u001b[34m\u001b[1mwandb\u001b[0m: \tepochs: 25\n",
      "\u001b[34m\u001b[1mwandb\u001b[0m: \tgru_lay_1: True\n",
      "\u001b[34m\u001b[1mwandb\u001b[0m: \tgru_lay_2: True\n",
      "\u001b[34m\u001b[1mwandb\u001b[0m: \tgru_layer_size_1: 168\n",
      "\u001b[34m\u001b[1mwandb\u001b[0m: \tgru_layer_size_2: 50\n",
      "\u001b[34m\u001b[1mwandb\u001b[0m: \tgru_layer_size_3: 117\n",
      "\u001b[34m\u001b[1mwandb\u001b[0m: \tkernelsize: 3\n",
      "\u001b[34m\u001b[1mwandb\u001b[0m: \tlearning_rate: 0.022792625968320792\n",
      "\u001b[34m\u001b[1mwandb\u001b[0m: \tlookback: 744\n",
      "\u001b[34m\u001b[1mwandb\u001b[0m: \tmomentum: 0.8206593333661617\n",
      "\u001b[34m\u001b[1mwandb\u001b[0m: \tnum_cnn_layers: 2\n",
      "\u001b[34m\u001b[1mwandb\u001b[0m: \tnum_features: 9\n",
      "\u001b[34m\u001b[1mwandb\u001b[0m: \tnum_gru_layers: 2\n",
      "\u001b[34m\u001b[1mwandb\u001b[0m: \toptimizer: sgd\n",
      "\u001b[34m\u001b[1mwandb\u001b[0m: \tsplitmethod: standard\n",
      "\u001b[34m\u001b[1mwandb\u001b[0m: \tsplitrate: 0.8\n",
      "\u001b[34m\u001b[1mwandb\u001b[0m: \u001b[33mWARNING\u001b[0m Ignored wandb.init() arg project when running a sweep\n"
     ]
    },
    {
     "data": {
      "text/html": [
       "\n",
       "                Tracking run with wandb version 0.10.29<br/>\n",
       "                Syncing run <strong style=\"color:#cdcd00\">fresh-sweep-45</strong> to <a href=\"https://wandb.ai\" target=\"_blank\">Weights & Biases</a> <a href=\"https://docs.wandb.com/integrations/jupyter.html\" target=\"_blank\">(Documentation)</a>.<br/>\n",
       "                Project page: <a href=\"https://wandb.ai/nbvanting/thesis\" target=\"_blank\">https://wandb.ai/nbvanting/thesis</a><br/>\n",
       "                Sweep page: <a href=\"https://wandb.ai/nbvanting/thesis/sweeps/xjdtj3eo\" target=\"_blank\">https://wandb.ai/nbvanting/thesis/sweeps/xjdtj3eo</a><br/>\n",
       "Run page: <a href=\"https://wandb.ai/nbvanting/thesis/runs/s4nq6qkh\" target=\"_blank\">https://wandb.ai/nbvanting/thesis/runs/s4nq6qkh</a><br/>\n",
       "                Run data is saved locally in <code>/content/wandb/run-20210507_112517-s4nq6qkh</code><br/><br/>\n",
       "            "
      ],
      "text/plain": [
       "<IPython.core.display.HTML object>"
      ]
     },
     "metadata": {
      "tags": []
     },
     "output_type": "display_data"
    },
    {
     "name": "stdout",
     "output_type": "stream",
     "text": [
      "Epoch 1/25\n",
      "133/133 [==============================] - 20s 107ms/step - loss: 0.7352 - mae: 0.6746 - val_loss: 0.8744 - val_mae: 0.6908\n",
      "Epoch 2/25\n",
      "133/133 [==============================] - 13s 98ms/step - loss: 0.4785 - mae: 0.5401 - val_loss: 0.9217 - val_mae: 0.6988\n",
      "Epoch 3/25\n",
      "133/133 [==============================] - 13s 97ms/step - loss: 0.4396 - mae: 0.5145 - val_loss: 0.8600 - val_mae: 0.6736\n",
      "Epoch 4/25\n",
      "133/133 [==============================] - 13s 96ms/step - loss: 0.3971 - mae: 0.4867 - val_loss: 0.8224 - val_mae: 0.6860\n",
      "Epoch 5/25\n",
      "133/133 [==============================] - 13s 96ms/step - loss: 0.3491 - mae: 0.4595 - val_loss: 0.8151 - val_mae: 0.6829\n",
      "Epoch 6/25\n",
      "133/133 [==============================] - 13s 97ms/step - loss: 0.2864 - mae: 0.4120 - val_loss: 0.8973 - val_mae: 0.7294\n",
      "Epoch 7/25\n",
      "133/133 [==============================] - 13s 97ms/step - loss: 0.2288 - mae: 0.3707 - val_loss: 0.7811 - val_mae: 0.6729\n",
      "Epoch 8/25\n",
      "133/133 [==============================] - 13s 97ms/step - loss: 0.1974 - mae: 0.3451 - val_loss: 0.5953 - val_mae: 0.5851\n",
      "Epoch 9/25\n",
      "133/133 [==============================] - 13s 97ms/step - loss: 0.1788 - mae: 0.3253 - val_loss: 0.6504 - val_mae: 0.6073\n",
      "Epoch 10/25\n",
      "133/133 [==============================] - 13s 98ms/step - loss: 0.1600 - mae: 0.3072 - val_loss: 0.4135 - val_mae: 0.4851\n",
      "Epoch 11/25\n",
      "133/133 [==============================] - 13s 98ms/step - loss: 0.1532 - mae: 0.3023 - val_loss: 0.5136 - val_mae: 0.5315\n",
      "Epoch 12/25\n",
      "133/133 [==============================] - 13s 98ms/step - loss: 0.1400 - mae: 0.2891 - val_loss: 0.4350 - val_mae: 0.4919\n",
      "Epoch 13/25\n",
      "133/133 [==============================] - 13s 98ms/step - loss: 0.1366 - mae: 0.2844 - val_loss: 0.4543 - val_mae: 0.5073\n",
      "Epoch 14/25\n",
      "133/133 [==============================] - 13s 96ms/step - loss: 0.1344 - mae: 0.2820 - val_loss: 0.5026 - val_mae: 0.5237\n",
      "Epoch 15/25\n",
      "133/133 [==============================] - 13s 98ms/step - loss: 0.1275 - mae: 0.2748 - val_loss: 0.3773 - val_mae: 0.4605\n",
      "Epoch 16/25\n",
      "133/133 [==============================] - 13s 98ms/step - loss: 0.1270 - mae: 0.2746 - val_loss: 0.3807 - val_mae: 0.4618\n",
      "Epoch 17/25\n",
      "133/133 [==============================] - 13s 97ms/step - loss: 0.1188 - mae: 0.2673 - val_loss: 0.5163 - val_mae: 0.5336\n",
      "Epoch 18/25\n",
      "133/133 [==============================] - 13s 97ms/step - loss: 0.1186 - mae: 0.2646 - val_loss: 0.4188 - val_mae: 0.4861\n",
      "Epoch 19/25\n",
      "133/133 [==============================] - 13s 96ms/step - loss: 0.1130 - mae: 0.2578 - val_loss: 0.3882 - val_mae: 0.4638\n",
      "Epoch 20/25\n",
      "133/133 [==============================] - 13s 96ms/step - loss: 0.1089 - mae: 0.2537 - val_loss: 0.3998 - val_mae: 0.4695\n",
      "Epoch 21/25\n",
      "133/133 [==============================] - 13s 96ms/step - loss: 0.1111 - mae: 0.2566 - val_loss: 0.3631 - val_mae: 0.4510\n",
      "Epoch 22/25\n",
      "133/133 [==============================] - 13s 97ms/step - loss: 0.1059 - mae: 0.2515 - val_loss: 0.3869 - val_mae: 0.4593\n",
      "Epoch 23/25\n",
      "133/133 [==============================] - 13s 96ms/step - loss: 0.1073 - mae: 0.2533 - val_loss: 0.3728 - val_mae: 0.4620\n",
      "Epoch 24/25\n",
      "133/133 [==============================] - 13s 95ms/step - loss: 0.1036 - mae: 0.2486 - val_loss: 0.4054 - val_mae: 0.4737\n",
      "Epoch 25/25\n",
      "133/133 [==============================] - 13s 96ms/step - loss: 0.1012 - mae: 0.2455 - val_loss: 0.3606 - val_mae: 0.4445\n",
      "5/5 [==============================] - 0s 35ms/step - loss: 0.1303 - mae: 0.2862\n"
     ]
    },
    {
     "data": {
      "text/html": [
       "<br/>Waiting for W&B process to finish, PID 11090<br/>Program failed with code 1.  Press ctrl-c to abort syncing."
      ],
      "text/plain": [
       "<IPython.core.display.HTML object>"
      ]
     },
     "metadata": {
      "tags": []
     },
     "output_type": "display_data"
    },
    {
     "data": {
      "application/vnd.jupyter.widget-view+json": {
       "model_id": "9fcce93b513a469aa9fd178ff0ccb9ea",
       "version_major": 2,
       "version_minor": 0
      },
      "text/plain": [
       "VBox(children=(Label(value=' 2.84MB of 2.84MB uploaded (0.00MB deduped)\\r'), FloatProgress(value=1.0, max=1.0)…"
      ]
     },
     "metadata": {
      "tags": []
     },
     "output_type": "display_data"
    },
    {
     "data": {
      "text/html": [
       "Find user logs for this run at: <code>/content/wandb/run-20210507_112517-s4nq6qkh/logs/debug.log</code>"
      ],
      "text/plain": [
       "<IPython.core.display.HTML object>"
      ]
     },
     "metadata": {
      "tags": []
     },
     "output_type": "display_data"
    },
    {
     "data": {
      "text/html": [
       "Find internal logs for this run at: <code>/content/wandb/run-20210507_112517-s4nq6qkh/logs/debug-internal.log</code>"
      ],
      "text/plain": [
       "<IPython.core.display.HTML object>"
      ]
     },
     "metadata": {
      "tags": []
     },
     "output_type": "display_data"
    },
    {
     "data": {
      "text/html": [
       "<h3>Run summary:</h3><br/><style>\n",
       "    table.wandb td:nth-child(1) { padding: 0 10px; text-align: right }\n",
       "    </style><table class=\"wandb\">\n",
       "<tr><td>epoch</td><td>24</td></tr><tr><td>loss</td><td>0.10028</td></tr><tr><td>mae</td><td>0.24432</td></tr><tr><td>val_loss</td><td>0.36064</td></tr><tr><td>val_mae</td><td>0.44447</td></tr><tr><td>_runtime</td><td>338</td></tr><tr><td>_timestamp</td><td>1620387055</td></tr><tr><td>_step</td><td>26</td></tr><tr><td>best_val_loss</td><td>0.36064</td></tr><tr><td>best_epoch</td><td>24</td></tr><tr><td>test_loss</td><td>0.13034</td></tr><tr><td>test_mae</td><td>0.28616</td></tr></table>"
      ],
      "text/plain": [
       "<IPython.core.display.HTML object>"
      ]
     },
     "metadata": {
      "tags": []
     },
     "output_type": "display_data"
    },
    {
     "data": {
      "text/html": [
       "<h3>Run history:</h3><br/><style>\n",
       "    table.wandb td:nth-child(1) { padding: 0 10px; text-align: right }\n",
       "    </style><table class=\"wandb\">\n",
       "<tr><td>epoch</td><td>▁▁▂▂▂▂▃▃▃▄▄▄▅▅▅▅▆▆▆▇▇▇▇██</td></tr><tr><td>loss</td><td>█▆▅▅▄▃▂▂▂▂▂▁▁▁▁▁▁▁▁▁▁▁▁▁▁</td></tr><tr><td>mae</td><td>█▆▆▅▅▄▃▃▂▂▂▂▂▂▁▁▁▁▁▁▁▁▁▁▁</td></tr><tr><td>val_loss</td><td>▇█▇▇▇█▆▄▅▂▃▂▂▃▁▁▃▂▁▁▁▁▁▂▁</td></tr><tr><td>val_mae</td><td>▇▇▇▇▇█▇▄▅▂▃▂▃▃▁▁▃▂▁▂▁▁▁▂▁</td></tr><tr><td>_runtime</td><td>▁▁▂▂▂▂▃▃▃▄▄▄▅▅▅▅▆▆▆▇▇▇▇████</td></tr><tr><td>_timestamp</td><td>▁▁▂▂▂▂▃▃▃▄▄▄▅▅▅▅▆▆▆▇▇▇▇████</td></tr><tr><td>_step</td><td>▁▁▂▂▂▂▃▃▃▃▄▄▄▅▅▅▅▆▆▆▆▇▇▇▇██</td></tr><tr><td>test_loss</td><td>▁</td></tr><tr><td>test_mae</td><td>▁</td></tr></table><br/>"
      ],
      "text/plain": [
       "<IPython.core.display.HTML object>"
      ]
     },
     "metadata": {
      "tags": []
     },
     "output_type": "display_data"
    },
    {
     "data": {
      "text/html": [
       "Synced 5 W&B file(s), 1 media file(s), 0 artifact file(s) and 1 other file(s)"
      ],
      "text/plain": [
       "<IPython.core.display.HTML object>"
      ]
     },
     "metadata": {
      "tags": []
     },
     "output_type": "display_data"
    },
    {
     "data": {
      "text/html": [
       "\n",
       "                    <br/>Synced <strong style=\"color:#cdcd00\">fresh-sweep-45</strong>: <a href=\"https://wandb.ai/nbvanting/thesis/runs/s4nq6qkh\" target=\"_blank\">https://wandb.ai/nbvanting/thesis/runs/s4nq6qkh</a><br/>\n",
       "                "
      ],
      "text/plain": [
       "<IPython.core.display.HTML object>"
      ]
     },
     "metadata": {
      "tags": []
     },
     "output_type": "display_data"
    },
    {
     "name": "stderr",
     "output_type": "stream",
     "text": [
      "Run s4nq6qkh errored: IndexError('list index out of range')\n",
      "\u001b[34m\u001b[1mwandb\u001b[0m: \u001b[32m\u001b[41mERROR\u001b[0m Run s4nq6qkh errored: IndexError('list index out of range')\n",
      "\u001b[34m\u001b[1mwandb\u001b[0m: Agent Starting Run: ejbwqf8l with config:\n",
      "\u001b[34m\u001b[1mwandb\u001b[0m: \tactivation_cnn: relu\n",
      "\u001b[34m\u001b[1mwandb\u001b[0m: \tactivation_gru: tanh\n",
      "\u001b[34m\u001b[1mwandb\u001b[0m: \tbatch_size: 233\n",
      "\u001b[34m\u001b[1mwandb\u001b[0m: \tcnn_lay_2: True\n",
      "\u001b[34m\u001b[1mwandb\u001b[0m: \tcnn_lay_3: False\n",
      "\u001b[34m\u001b[1mwandb\u001b[0m: \tcnn_layer_size_1: 44\n",
      "\u001b[34m\u001b[1mwandb\u001b[0m: \tcnn_layer_size_2: 242\n",
      "\u001b[34m\u001b[1mwandb\u001b[0m: \tcnn_layer_size_3: 59\n",
      "\u001b[34m\u001b[1mwandb\u001b[0m: \tdataset: kolding\n",
      "\u001b[34m\u001b[1mwandb\u001b[0m: \tdropout: 0.4474201459943616\n",
      "\u001b[34m\u001b[1mwandb\u001b[0m: \tepochs: 25\n",
      "\u001b[34m\u001b[1mwandb\u001b[0m: \tgru_lay_1: False\n",
      "\u001b[34m\u001b[1mwandb\u001b[0m: \tgru_lay_2: True\n",
      "\u001b[34m\u001b[1mwandb\u001b[0m: \tgru_layer_size_1: 81\n",
      "\u001b[34m\u001b[1mwandb\u001b[0m: \tgru_layer_size_2: 48\n",
      "\u001b[34m\u001b[1mwandb\u001b[0m: \tgru_layer_size_3: 80\n",
      "\u001b[34m\u001b[1mwandb\u001b[0m: \tkernelsize: 7\n",
      "\u001b[34m\u001b[1mwandb\u001b[0m: \tlearning_rate: 0.0019913344292949347\n",
      "\u001b[34m\u001b[1mwandb\u001b[0m: \tlookback: 744\n",
      "\u001b[34m\u001b[1mwandb\u001b[0m: \tmomentum: 0.5569389409413734\n",
      "\u001b[34m\u001b[1mwandb\u001b[0m: \tnum_cnn_layers: 2\n",
      "\u001b[34m\u001b[1mwandb\u001b[0m: \tnum_features: 9\n",
      "\u001b[34m\u001b[1mwandb\u001b[0m: \tnum_gru_layers: 2\n",
      "\u001b[34m\u001b[1mwandb\u001b[0m: \toptimizer: sgd\n",
      "\u001b[34m\u001b[1mwandb\u001b[0m: \tsplitmethod: offset\n",
      "\u001b[34m\u001b[1mwandb\u001b[0m: \tsplitrate: 0.8\n",
      "\u001b[34m\u001b[1mwandb\u001b[0m: \u001b[33mWARNING\u001b[0m Ignored wandb.init() arg project when running a sweep\n"
     ]
    },
    {
     "data": {
      "text/html": [
       "\n",
       "                Tracking run with wandb version 0.10.29<br/>\n",
       "                Syncing run <strong style=\"color:#cdcd00\">worldly-sweep-46</strong> to <a href=\"https://wandb.ai\" target=\"_blank\">Weights & Biases</a> <a href=\"https://docs.wandb.com/integrations/jupyter.html\" target=\"_blank\">(Documentation)</a>.<br/>\n",
       "                Project page: <a href=\"https://wandb.ai/nbvanting/thesis\" target=\"_blank\">https://wandb.ai/nbvanting/thesis</a><br/>\n",
       "                Sweep page: <a href=\"https://wandb.ai/nbvanting/thesis/sweeps/xjdtj3eo\" target=\"_blank\">https://wandb.ai/nbvanting/thesis/sweeps/xjdtj3eo</a><br/>\n",
       "Run page: <a href=\"https://wandb.ai/nbvanting/thesis/runs/ejbwqf8l\" target=\"_blank\">https://wandb.ai/nbvanting/thesis/runs/ejbwqf8l</a><br/>\n",
       "                Run data is saved locally in <code>/content/wandb/run-20210507_113108-ejbwqf8l</code><br/><br/>\n",
       "            "
      ],
      "text/plain": [
       "<IPython.core.display.HTML object>"
      ]
     },
     "metadata": {
      "tags": []
     },
     "output_type": "display_data"
    },
    {
     "name": "stdout",
     "output_type": "stream",
     "text": [
      "Epoch 1/25\n",
      "63/63 [==============================] - 11s 120ms/step - loss: 0.8650 - mae: 0.7261 - val_loss: 0.8590 - val_mae: 0.7392\n",
      "Epoch 2/25\n",
      "63/63 [==============================] - 7s 107ms/step - loss: 0.7254 - mae: 0.6745 - val_loss: 0.8351 - val_mae: 0.7318\n",
      "Epoch 3/25\n",
      "63/63 [==============================] - 7s 109ms/step - loss: 0.6941 - mae: 0.6595 - val_loss: 0.8169 - val_mae: 0.7172\n",
      "Epoch 4/25\n",
      "63/63 [==============================] - 7s 110ms/step - loss: 0.6655 - mae: 0.6441 - val_loss: 0.7820 - val_mae: 0.7140\n",
      "Epoch 5/25\n",
      "63/63 [==============================] - 7s 107ms/step - loss: 0.6504 - mae: 0.6389 - val_loss: 0.7508 - val_mae: 0.6928\n",
      "Epoch 6/25\n",
      "63/63 [==============================] - 7s 108ms/step - loss: 0.5979 - mae: 0.6119 - val_loss: 0.7131 - val_mae: 0.6748\n",
      "Epoch 7/25\n",
      "63/63 [==============================] - 7s 107ms/step - loss: 0.5810 - mae: 0.6051 - val_loss: 0.6758 - val_mae: 0.6574\n",
      "Epoch 8/25\n",
      "54/63 [========================>.....] - ETA: 0s - loss: 0.5421 - mae: 0.5842"
     ]
    },
    {
     "data": {
      "text/html": [
       "<br/>Waiting for W&B process to finish, PID 11395<br/>Program failed with code 1.  Press ctrl-c to abort syncing."
      ],
      "text/plain": [
       "<IPython.core.display.HTML object>"
      ]
     },
     "metadata": {
      "tags": []
     },
     "output_type": "display_data"
    },
    {
     "data": {
      "application/vnd.jupyter.widget-view+json": {
       "model_id": "737f8ba47ba74e929a2916599b2bfda8",
       "version_major": 2,
       "version_minor": 0
      },
      "text/plain": [
       "VBox(children=(Label(value=' 1.21MB of 1.21MB uploaded (0.00MB deduped)\\r'), FloatProgress(value=1.0, max=1.0)…"
      ]
     },
     "metadata": {
      "tags": []
     },
     "output_type": "display_data"
    },
    {
     "data": {
      "text/html": [
       "Find user logs for this run at: <code>/content/wandb/run-20210507_113108-ejbwqf8l/logs/debug.log</code>"
      ],
      "text/plain": [
       "<IPython.core.display.HTML object>"
      ]
     },
     "metadata": {
      "tags": []
     },
     "output_type": "display_data"
    },
    {
     "data": {
      "text/html": [
       "Find internal logs for this run at: <code>/content/wandb/run-20210507_113108-ejbwqf8l/logs/debug-internal.log</code>"
      ],
      "text/plain": [
       "<IPython.core.display.HTML object>"
      ]
     },
     "metadata": {
      "tags": []
     },
     "output_type": "display_data"
    },
    {
     "data": {
      "text/html": [
       "<h3>Run summary:</h3><br/><style>\n",
       "    table.wandb td:nth-child(1) { padding: 0 10px; text-align: right }\n",
       "    </style><table class=\"wandb\">\n",
       "<tr><td>epoch</td><td>6</td></tr><tr><td>loss</td><td>0.56421</td></tr><tr><td>mae</td><td>0.59627</td></tr><tr><td>val_loss</td><td>0.67582</td></tr><tr><td>val_mae</td><td>0.65735</td></tr><tr><td>_runtime</td><td>59</td></tr><tr><td>_timestamp</td><td>1620387127</td></tr><tr><td>_step</td><td>6</td></tr><tr><td>best_val_loss</td><td>0.67582</td></tr><tr><td>best_epoch</td><td>6</td></tr></table>"
      ],
      "text/plain": [
       "<IPython.core.display.HTML object>"
      ]
     },
     "metadata": {
      "tags": []
     },
     "output_type": "display_data"
    },
    {
     "data": {
      "text/html": [
       "<h3>Run history:</h3><br/><style>\n",
       "    table.wandb td:nth-child(1) { padding: 0 10px; text-align: right }\n",
       "    </style><table class=\"wandb\">\n",
       "<tr><td>epoch</td><td>▁▂▃▅▆▇█</td></tr><tr><td>loss</td><td>█▆▅▄▃▂▁</td></tr><tr><td>mae</td><td>█▆▅▄▃▂▁</td></tr><tr><td>val_loss</td><td>█▇▆▅▄▂▁</td></tr><tr><td>val_mae</td><td>█▇▆▆▄▂▁</td></tr><tr><td>_runtime</td><td>▁▂▃▄▆▇█</td></tr><tr><td>_timestamp</td><td>▁▂▃▄▆▇█</td></tr><tr><td>_step</td><td>▁▂▃▅▆▇█</td></tr></table><br/>"
      ],
      "text/plain": [
       "<IPython.core.display.HTML object>"
      ]
     },
     "metadata": {
      "tags": []
     },
     "output_type": "display_data"
    },
    {
     "data": {
      "text/html": [
       "Synced 5 W&B file(s), 1 media file(s), 0 artifact file(s) and 1 other file(s)"
      ],
      "text/plain": [
       "<IPython.core.display.HTML object>"
      ]
     },
     "metadata": {
      "tags": []
     },
     "output_type": "display_data"
    },
    {
     "data": {
      "text/html": [
       "\n",
       "                    <br/>Synced <strong style=\"color:#cdcd00\">worldly-sweep-46</strong>: <a href=\"https://wandb.ai/nbvanting/thesis/runs/ejbwqf8l\" target=\"_blank\">https://wandb.ai/nbvanting/thesis/runs/ejbwqf8l</a><br/>\n",
       "                "
      ],
      "text/plain": [
       "<IPython.core.display.HTML object>"
      ]
     },
     "metadata": {
      "tags": []
     },
     "output_type": "display_data"
    },
    {
     "name": "stderr",
     "output_type": "stream",
     "text": [
      "\u001b[34m\u001b[1mwandb\u001b[0m: Agent Starting Run: 2izyn3gh with config:\n",
      "\u001b[34m\u001b[1mwandb\u001b[0m: \tactivation_cnn: relu\n",
      "\u001b[34m\u001b[1mwandb\u001b[0m: \tactivation_gru: tanh\n",
      "\u001b[34m\u001b[1mwandb\u001b[0m: \tbatch_size: 148\n",
      "\u001b[34m\u001b[1mwandb\u001b[0m: \tcnn_lay_2: True\n",
      "\u001b[34m\u001b[1mwandb\u001b[0m: \tcnn_lay_3: False\n",
      "\u001b[34m\u001b[1mwandb\u001b[0m: \tcnn_layer_size_1: 200\n",
      "\u001b[34m\u001b[1mwandb\u001b[0m: \tcnn_layer_size_2: 45\n",
      "\u001b[34m\u001b[1mwandb\u001b[0m: \tcnn_layer_size_3: 52\n",
      "\u001b[34m\u001b[1mwandb\u001b[0m: \tdataset: strib\n",
      "\u001b[34m\u001b[1mwandb\u001b[0m: \tdropout: 0.18305021173365463\n",
      "\u001b[34m\u001b[1mwandb\u001b[0m: \tepochs: 25\n",
      "\u001b[34m\u001b[1mwandb\u001b[0m: \tgru_lay_1: False\n",
      "\u001b[34m\u001b[1mwandb\u001b[0m: \tgru_lay_2: False\n",
      "\u001b[34m\u001b[1mwandb\u001b[0m: \tgru_layer_size_1: 36\n",
      "\u001b[34m\u001b[1mwandb\u001b[0m: \tgru_layer_size_2: 101\n",
      "\u001b[34m\u001b[1mwandb\u001b[0m: \tgru_layer_size_3: 47\n",
      "\u001b[34m\u001b[1mwandb\u001b[0m: \tkernelsize: 5\n",
      "\u001b[34m\u001b[1mwandb\u001b[0m: \tlearning_rate: 0.024940093507282587\n",
      "\u001b[34m\u001b[1mwandb\u001b[0m: \tlookback: 744\n",
      "\u001b[34m\u001b[1mwandb\u001b[0m: \tmomentum: 0.9797324303939444\n",
      "\u001b[34m\u001b[1mwandb\u001b[0m: \tnum_cnn_layers: 2\n",
      "\u001b[34m\u001b[1mwandb\u001b[0m: \tnum_features: 9\n",
      "\u001b[34m\u001b[1mwandb\u001b[0m: \tnum_gru_layers: 2\n",
      "\u001b[34m\u001b[1mwandb\u001b[0m: \toptimizer: sgd\n",
      "\u001b[34m\u001b[1mwandb\u001b[0m: \tsplitmethod: standard\n",
      "\u001b[34m\u001b[1mwandb\u001b[0m: \tsplitrate: 0.8\n",
      "\u001b[34m\u001b[1mwandb\u001b[0m: \u001b[33mWARNING\u001b[0m Ignored wandb.init() arg project when running a sweep\n"
     ]
    },
    {
     "data": {
      "text/html": [
       "\n",
       "                Tracking run with wandb version 0.10.29<br/>\n",
       "                Syncing run <strong style=\"color:#cdcd00\">celestial-sweep-47</strong> to <a href=\"https://wandb.ai\" target=\"_blank\">Weights & Biases</a> <a href=\"https://docs.wandb.com/integrations/jupyter.html\" target=\"_blank\">(Documentation)</a>.<br/>\n",
       "                Project page: <a href=\"https://wandb.ai/nbvanting/thesis\" target=\"_blank\">https://wandb.ai/nbvanting/thesis</a><br/>\n",
       "                Sweep page: <a href=\"https://wandb.ai/nbvanting/thesis/sweeps/xjdtj3eo\" target=\"_blank\">https://wandb.ai/nbvanting/thesis/sweeps/xjdtj3eo</a><br/>\n",
       "Run page: <a href=\"https://wandb.ai/nbvanting/thesis/runs/2izyn3gh\" target=\"_blank\">https://wandb.ai/nbvanting/thesis/runs/2izyn3gh</a><br/>\n",
       "                Run data is saved locally in <code>/content/wandb/run-20210507_113222-2izyn3gh</code><br/><br/>\n",
       "            "
      ],
      "text/plain": [
       "<IPython.core.display.HTML object>"
      ]
     },
     "metadata": {
      "tags": []
     },
     "output_type": "display_data"
    },
    {
     "name": "stdout",
     "output_type": "stream",
     "text": [
      "Epoch 1/25\n",
      "106/106 [==============================] - 11s 81ms/step - loss: 0.5599 - mae: 0.5798 - val_loss: 1.0048 - val_mae: 0.7162\n",
      "Epoch 2/25\n",
      "106/106 [==============================] - 8s 74ms/step - loss: 0.1794 - mae: 0.3213 - val_loss: 0.5102 - val_mae: 0.5441\n",
      "Epoch 3/25\n",
      "106/106 [==============================] - 8s 76ms/step - loss: 0.1202 - mae: 0.2647 - val_loss: 0.4689 - val_mae: 0.5352\n",
      "Epoch 4/25\n",
      "106/106 [==============================] - 8s 73ms/step - loss: 0.1292 - mae: 0.2753 - val_loss: 0.3918 - val_mae: 0.4817\n",
      "Epoch 5/25\n",
      "106/106 [==============================] - 8s 74ms/step - loss: 0.1193 - mae: 0.2641 - val_loss: 0.4295 - val_mae: 0.5105\n",
      "Epoch 6/25\n",
      "106/106 [==============================] - 8s 74ms/step - loss: 0.1051 - mae: 0.2523 - val_loss: 0.4116 - val_mae: 0.4986\n",
      "Epoch 7/25\n",
      "106/106 [==============================] - 8s 73ms/step - loss: 0.0922 - mae: 0.2363 - val_loss: 0.5775 - val_mae: 0.5762\n",
      "Epoch 8/25\n",
      "106/106 [==============================] - 8s 75ms/step - loss: 0.0849 - mae: 0.2234 - val_loss: 0.3979 - val_mae: 0.4775\n",
      "Epoch 9/25\n",
      "106/106 [==============================] - 8s 74ms/step - loss: 0.0807 - mae: 0.2178 - val_loss: 0.3101 - val_mae: 0.4188\n",
      "Epoch 10/25\n",
      "106/106 [==============================] - 8s 74ms/step - loss: 0.0799 - mae: 0.2171 - val_loss: 0.3800 - val_mae: 0.4693\n",
      "Epoch 11/25\n",
      "106/106 [==============================] - 8s 74ms/step - loss: 0.0759 - mae: 0.2119 - val_loss: 0.3569 - val_mae: 0.4483\n",
      "Epoch 12/25\n",
      "106/106 [==============================] - 8s 73ms/step - loss: 0.0770 - mae: 0.2136 - val_loss: 0.3908 - val_mae: 0.4585\n",
      "Epoch 13/25\n",
      "106/106 [==============================] - 8s 73ms/step - loss: 0.0720 - mae: 0.2076 - val_loss: 0.4210 - val_mae: 0.4720\n",
      "Epoch 14/25\n",
      "  1/106 [..............................] - ETA: 28s - loss: 0.0563 - mae: 0.1860"
     ]
    },
    {
     "data": {
      "text/html": [
       "<br/>Waiting for W&B process to finish, PID 11508<br/>Program failed with code 1.  Press ctrl-c to abort syncing."
      ],
      "text/plain": [
       "<IPython.core.display.HTML object>"
      ]
     },
     "metadata": {
      "tags": []
     },
     "output_type": "display_data"
    },
    {
     "data": {
      "application/vnd.jupyter.widget-view+json": {
       "model_id": "1c488db5c13b46ec9f303c448215d448",
       "version_major": 2,
       "version_minor": 0
      },
      "text/plain": [
       "VBox(children=(Label(value=' 0.56MB of 0.56MB uploaded (0.00MB deduped)\\r'), FloatProgress(value=1.0, max=1.0)…"
      ]
     },
     "metadata": {
      "tags": []
     },
     "output_type": "display_data"
    },
    {
     "data": {
      "text/html": [
       "Find user logs for this run at: <code>/content/wandb/run-20210507_113222-2izyn3gh/logs/debug.log</code>"
      ],
      "text/plain": [
       "<IPython.core.display.HTML object>"
      ]
     },
     "metadata": {
      "tags": []
     },
     "output_type": "display_data"
    },
    {
     "data": {
      "text/html": [
       "Find internal logs for this run at: <code>/content/wandb/run-20210507_113222-2izyn3gh/logs/debug-internal.log</code>"
      ],
      "text/plain": [
       "<IPython.core.display.HTML object>"
      ]
     },
     "metadata": {
      "tags": []
     },
     "output_type": "display_data"
    },
    {
     "data": {
      "text/html": [
       "<h3>Run summary:</h3><br/><style>\n",
       "    table.wandb td:nth-child(1) { padding: 0 10px; text-align: right }\n",
       "    </style><table class=\"wandb\">\n",
       "<tr><td>epoch</td><td>12</td></tr><tr><td>loss</td><td>0.07304</td></tr><tr><td>mae</td><td>0.20864</td></tr><tr><td>val_loss</td><td>0.42103</td></tr><tr><td>val_mae</td><td>0.47204</td></tr><tr><td>_runtime</td><td>112</td></tr><tr><td>_timestamp</td><td>1620387254</td></tr><tr><td>_step</td><td>12</td></tr><tr><td>best_val_loss</td><td>0.31013</td></tr><tr><td>best_epoch</td><td>8</td></tr></table>"
      ],
      "text/plain": [
       "<IPython.core.display.HTML object>"
      ]
     },
     "metadata": {
      "tags": []
     },
     "output_type": "display_data"
    },
    {
     "data": {
      "text/html": [
       "<h3>Run history:</h3><br/><style>\n",
       "    table.wandb td:nth-child(1) { padding: 0 10px; text-align: right }\n",
       "    </style><table class=\"wandb\">\n",
       "<tr><td>epoch</td><td>▁▂▂▃▃▄▅▅▆▆▇▇█</td></tr><tr><td>loss</td><td>█▃▂▂▂▂▁▁▁▁▁▁▁</td></tr><tr><td>mae</td><td>█▃▂▃▂▂▂▁▁▁▁▁▁</td></tr><tr><td>val_loss</td><td>█▃▃▂▂▂▄▂▁▂▁▂▂</td></tr><tr><td>val_mae</td><td>█▄▄▂▃▃▅▂▁▂▂▂▂</td></tr><tr><td>_runtime</td><td>▁▂▂▃▃▄▄▅▆▆▇▇█</td></tr><tr><td>_timestamp</td><td>▁▂▂▃▃▄▄▅▆▆▇▇█</td></tr><tr><td>_step</td><td>▁▂▂▃▃▄▅▅▆▆▇▇█</td></tr></table><br/>"
      ],
      "text/plain": [
       "<IPython.core.display.HTML object>"
      ]
     },
     "metadata": {
      "tags": []
     },
     "output_type": "display_data"
    },
    {
     "data": {
      "text/html": [
       "Synced 5 W&B file(s), 1 media file(s), 0 artifact file(s) and 1 other file(s)"
      ],
      "text/plain": [
       "<IPython.core.display.HTML object>"
      ]
     },
     "metadata": {
      "tags": []
     },
     "output_type": "display_data"
    },
    {
     "data": {
      "text/html": [
       "\n",
       "                    <br/>Synced <strong style=\"color:#cdcd00\">celestial-sweep-47</strong>: <a href=\"https://wandb.ai/nbvanting/thesis/runs/2izyn3gh\" target=\"_blank\">https://wandb.ai/nbvanting/thesis/runs/2izyn3gh</a><br/>\n",
       "                "
      ],
      "text/plain": [
       "<IPython.core.display.HTML object>"
      ]
     },
     "metadata": {
      "tags": []
     },
     "output_type": "display_data"
    },
    {
     "name": "stderr",
     "output_type": "stream",
     "text": [
      "\u001b[34m\u001b[1mwandb\u001b[0m: Agent Starting Run: fbyztbyd with config:\n",
      "\u001b[34m\u001b[1mwandb\u001b[0m: \tactivation_cnn: relu\n",
      "\u001b[34m\u001b[1mwandb\u001b[0m: \tactivation_gru: tanh\n",
      "\u001b[34m\u001b[1mwandb\u001b[0m: \tbatch_size: 69\n",
      "\u001b[34m\u001b[1mwandb\u001b[0m: \tcnn_lay_2: False\n",
      "\u001b[34m\u001b[1mwandb\u001b[0m: \tcnn_lay_3: False\n",
      "\u001b[34m\u001b[1mwandb\u001b[0m: \tcnn_layer_size_1: 153\n",
      "\u001b[34m\u001b[1mwandb\u001b[0m: \tcnn_layer_size_2: 56\n",
      "\u001b[34m\u001b[1mwandb\u001b[0m: \tcnn_layer_size_3: 92\n",
      "\u001b[34m\u001b[1mwandb\u001b[0m: \tdataset: strib\n",
      "\u001b[34m\u001b[1mwandb\u001b[0m: \tdropout: 0.05843539513854705\n",
      "\u001b[34m\u001b[1mwandb\u001b[0m: \tepochs: 25\n",
      "\u001b[34m\u001b[1mwandb\u001b[0m: \tgru_lay_1: True\n",
      "\u001b[34m\u001b[1mwandb\u001b[0m: \tgru_lay_2: True\n",
      "\u001b[34m\u001b[1mwandb\u001b[0m: \tgru_layer_size_1: 76\n",
      "\u001b[34m\u001b[1mwandb\u001b[0m: \tgru_layer_size_2: 101\n",
      "\u001b[34m\u001b[1mwandb\u001b[0m: \tgru_layer_size_3: 53\n",
      "\u001b[34m\u001b[1mwandb\u001b[0m: \tkernelsize: 5\n",
      "\u001b[34m\u001b[1mwandb\u001b[0m: \tlearning_rate: 0.018221956938837942\n",
      "\u001b[34m\u001b[1mwandb\u001b[0m: \tlookback: 744\n",
      "\u001b[34m\u001b[1mwandb\u001b[0m: \tmomentum: 0.8393072856680813\n",
      "\u001b[34m\u001b[1mwandb\u001b[0m: \tnum_cnn_layers: 2\n",
      "\u001b[34m\u001b[1mwandb\u001b[0m: \tnum_features: 9\n",
      "\u001b[34m\u001b[1mwandb\u001b[0m: \tnum_gru_layers: 2\n",
      "\u001b[34m\u001b[1mwandb\u001b[0m: \toptimizer: sgd\n",
      "\u001b[34m\u001b[1mwandb\u001b[0m: \tsplitmethod: offset\n",
      "\u001b[34m\u001b[1mwandb\u001b[0m: \tsplitrate: 0.8\n",
      "\u001b[34m\u001b[1mwandb\u001b[0m: \u001b[33mWARNING\u001b[0m Ignored wandb.init() arg project when running a sweep\n"
     ]
    },
    {
     "data": {
      "text/html": [
       "\n",
       "                Tracking run with wandb version 0.10.29<br/>\n",
       "                Syncing run <strong style=\"color:#cdcd00\">floral-sweep-48</strong> to <a href=\"https://wandb.ai\" target=\"_blank\">Weights & Biases</a> <a href=\"https://docs.wandb.com/integrations/jupyter.html\" target=\"_blank\">(Documentation)</a>.<br/>\n",
       "                Project page: <a href=\"https://wandb.ai/nbvanting/thesis\" target=\"_blank\">https://wandb.ai/nbvanting/thesis</a><br/>\n",
       "                Sweep page: <a href=\"https://wandb.ai/nbvanting/thesis/sweeps/xjdtj3eo\" target=\"_blank\">https://wandb.ai/nbvanting/thesis/sweeps/xjdtj3eo</a><br/>\n",
       "Run page: <a href=\"https://wandb.ai/nbvanting/thesis/runs/fbyztbyd\" target=\"_blank\">https://wandb.ai/nbvanting/thesis/runs/fbyztbyd</a><br/>\n",
       "                Run data is saved locally in <code>/content/wandb/run-20210507_113423-fbyztbyd</code><br/><br/>\n",
       "            "
      ],
      "text/plain": [
       "<IPython.core.display.HTML object>"
      ]
     },
     "metadata": {
      "tags": []
     },
     "output_type": "display_data"
    },
    {
     "name": "stdout",
     "output_type": "stream",
     "text": [
      "Epoch 1/25\n",
      "212/212 [==============================] - 24s 91ms/step - loss: 0.5673 - mae: 0.5810 - val_loss: 0.3360 - val_mae: 0.4549\n",
      "Epoch 2/25\n",
      "212/212 [==============================] - 19s 88ms/step - loss: 0.2572 - mae: 0.3907 - val_loss: 0.2191 - val_mae: 0.3665\n",
      "Epoch 3/25\n",
      "212/212 [==============================] - 19s 87ms/step - loss: 0.1748 - mae: 0.3189 - val_loss: 0.1716 - val_mae: 0.3218\n",
      "Epoch 4/25\n",
      "212/212 [==============================] - 19s 87ms/step - loss: 0.1458 - mae: 0.2918 - val_loss: 0.1639 - val_mae: 0.3245\n",
      "Epoch 5/25\n",
      "212/212 [==============================] - 19s 88ms/step - loss: 0.1226 - mae: 0.2671 - val_loss: 0.1302 - val_mae: 0.2782\n",
      "Epoch 6/25\n",
      "212/212 [==============================] - 19s 88ms/step - loss: 0.1111 - mae: 0.2544 - val_loss: 0.1240 - val_mae: 0.2748\n",
      "Epoch 7/25\n",
      "212/212 [==============================] - 18s 87ms/step - loss: 0.1011 - mae: 0.2442 - val_loss: 0.1119 - val_mae: 0.2541\n",
      "Epoch 8/25\n",
      "212/212 [==============================] - 19s 88ms/step - loss: 0.0964 - mae: 0.2377 - val_loss: 0.1093 - val_mae: 0.2511\n",
      "Epoch 9/25\n",
      "212/212 [==============================] - 19s 87ms/step - loss: 0.0908 - mae: 0.2314 - val_loss: 0.1031 - val_mae: 0.2423\n",
      "Epoch 10/25\n",
      "212/212 [==============================] - 19s 87ms/step - loss: 0.0880 - mae: 0.2267 - val_loss: 0.1044 - val_mae: 0.2470\n",
      "Epoch 11/25\n",
      "212/212 [==============================] - 19s 89ms/step - loss: 0.0839 - mae: 0.2209 - val_loss: 0.0981 - val_mae: 0.2432\n",
      "Epoch 12/25\n",
      "212/212 [==============================] - 18s 86ms/step - loss: 0.0815 - mae: 0.2180 - val_loss: 0.0956 - val_mae: 0.2317\n",
      "Epoch 13/25\n",
      "212/212 [==============================] - 18s 87ms/step - loss: 0.0795 - mae: 0.2133 - val_loss: 0.1012 - val_mae: 0.2418\n",
      "Epoch 14/25\n",
      "212/212 [==============================] - 19s 87ms/step - loss: 0.0774 - mae: 0.2138 - val_loss: 0.0932 - val_mae: 0.2308\n",
      "Epoch 15/25\n",
      "212/212 [==============================] - 19s 87ms/step - loss: 0.0765 - mae: 0.2112 - val_loss: 0.0957 - val_mae: 0.2387\n",
      "Epoch 16/25\n",
      "212/212 [==============================] - 19s 88ms/step - loss: 0.0738 - mae: 0.2082 - val_loss: 0.0906 - val_mae: 0.2261\n",
      "Epoch 17/25\n",
      "212/212 [==============================] - 19s 87ms/step - loss: 0.0723 - mae: 0.2049 - val_loss: 0.0948 - val_mae: 0.2322\n",
      "Epoch 18/25\n",
      "212/212 [==============================] - 19s 87ms/step - loss: 0.0705 - mae: 0.2032 - val_loss: 0.0972 - val_mae: 0.2412\n",
      "Epoch 19/25\n",
      "212/212 [==============================] - 18s 86ms/step - loss: 0.0711 - mae: 0.2019 - val_loss: 0.0933 - val_mae: 0.2316\n",
      "Epoch 20/25\n",
      "212/212 [==============================] - 19s 87ms/step - loss: 0.0694 - mae: 0.2003 - val_loss: 0.0890 - val_mae: 0.2244\n",
      "Epoch 21/25\n",
      "212/212 [==============================] - 18s 84ms/step - loss: 0.0701 - mae: 0.2006 - val_loss: 0.0903 - val_mae: 0.2250\n",
      "Epoch 22/25\n",
      "212/212 [==============================] - 18s 87ms/step - loss: 0.0668 - mae: 0.1973 - val_loss: 0.0963 - val_mae: 0.2377\n",
      "Epoch 23/25\n",
      "212/212 [==============================] - 19s 88ms/step - loss: 0.0668 - mae: 0.1962 - val_loss: 0.0911 - val_mae: 0.2283\n",
      "Epoch 24/25\n",
      "212/212 [==============================] - 19s 87ms/step - loss: 0.0669 - mae: 0.1966 - val_loss: 0.0874 - val_mae: 0.2212\n",
      "Epoch 25/25\n",
      "212/212 [==============================] - 19s 87ms/step - loss: 0.0651 - mae: 0.1924 - val_loss: 0.0963 - val_mae: 0.2325\n",
      "22/22 [==============================] - 1s 46ms/step - loss: 0.1243 - mae: 0.2696\n"
     ]
    },
    {
     "data": {
      "text/html": [
       "<br/>Waiting for W&B process to finish, PID 11683<br/>Program failed with code 1.  Press ctrl-c to abort syncing."
      ],
      "text/plain": [
       "<IPython.core.display.HTML object>"
      ]
     },
     "metadata": {
      "tags": []
     },
     "output_type": "display_data"
    },
    {
     "data": {
      "application/vnd.jupyter.widget-view+json": {
       "model_id": "1f33e4ee56bd41a1b2165b7e0a5ba8e0",
       "version_major": 2,
       "version_minor": 0
      },
      "text/plain": [
       "VBox(children=(Label(value=' 1.12MB of 1.12MB uploaded (0.00MB deduped)\\r'), FloatProgress(value=1.0, max=1.0)…"
      ]
     },
     "metadata": {
      "tags": []
     },
     "output_type": "display_data"
    },
    {
     "data": {
      "text/html": [
       "Find user logs for this run at: <code>/content/wandb/run-20210507_113423-fbyztbyd/logs/debug.log</code>"
      ],
      "text/plain": [
       "<IPython.core.display.HTML object>"
      ]
     },
     "metadata": {
      "tags": []
     },
     "output_type": "display_data"
    },
    {
     "data": {
      "text/html": [
       "Find internal logs for this run at: <code>/content/wandb/run-20210507_113423-fbyztbyd/logs/debug-internal.log</code>"
      ],
      "text/plain": [
       "<IPython.core.display.HTML object>"
      ]
     },
     "metadata": {
      "tags": []
     },
     "output_type": "display_data"
    },
    {
     "data": {
      "text/html": [
       "<h3>Run summary:</h3><br/><style>\n",
       "    table.wandb td:nth-child(1) { padding: 0 10px; text-align: right }\n",
       "    </style><table class=\"wandb\">\n",
       "<tr><td>epoch</td><td>24</td></tr><tr><td>loss</td><td>0.06435</td></tr><tr><td>mae</td><td>0.19211</td></tr><tr><td>val_loss</td><td>0.09625</td></tr><tr><td>val_mae</td><td>0.23253</td></tr><tr><td>_runtime</td><td>476</td></tr><tr><td>_timestamp</td><td>1620387739</td></tr><tr><td>_step</td><td>26</td></tr><tr><td>best_val_loss</td><td>0.08744</td></tr><tr><td>best_epoch</td><td>23</td></tr><tr><td>test_loss</td><td>0.1243</td></tr><tr><td>test_mae</td><td>0.26965</td></tr></table>"
      ],
      "text/plain": [
       "<IPython.core.display.HTML object>"
      ]
     },
     "metadata": {
      "tags": []
     },
     "output_type": "display_data"
    },
    {
     "data": {
      "text/html": [
       "<h3>Run history:</h3><br/><style>\n",
       "    table.wandb td:nth-child(1) { padding: 0 10px; text-align: right }\n",
       "    </style><table class=\"wandb\">\n",
       "<tr><td>epoch</td><td>▁▁▂▂▂▂▃▃▃▄▄▄▅▅▅▅▆▆▆▇▇▇▇██</td></tr><tr><td>loss</td><td>█▄▃▂▂▂▂▂▁▁▁▁▁▁▁▁▁▁▁▁▁▁▁▁▁</td></tr><tr><td>mae</td><td>█▅▄▃▃▂▂▂▂▂▂▂▁▁▁▁▁▁▁▁▁▁▁▁▁</td></tr><tr><td>val_loss</td><td>█▅▃▃▂▂▂▂▁▁▁▁▁▁▁▁▁▁▁▁▁▁▁▁▁</td></tr><tr><td>val_mae</td><td>█▅▄▄▃▃▂▂▂▂▂▁▂▁▂▁▁▂▁▁▁▁▁▁▁</td></tr><tr><td>_runtime</td><td>▁▁▂▂▂▂▃▃▃▄▄▄▅▅▅▅▆▆▆▇▇▇▇████</td></tr><tr><td>_timestamp</td><td>▁▁▂▂▂▂▃▃▃▄▄▄▅▅▅▅▆▆▆▇▇▇▇████</td></tr><tr><td>_step</td><td>▁▁▂▂▂▂▃▃▃▃▄▄▄▅▅▅▅▆▆▆▆▇▇▇▇██</td></tr><tr><td>test_loss</td><td>▁</td></tr><tr><td>test_mae</td><td>▁</td></tr></table><br/>"
      ],
      "text/plain": [
       "<IPython.core.display.HTML object>"
      ]
     },
     "metadata": {
      "tags": []
     },
     "output_type": "display_data"
    },
    {
     "data": {
      "text/html": [
       "Synced 5 W&B file(s), 1 media file(s), 0 artifact file(s) and 1 other file(s)"
      ],
      "text/plain": [
       "<IPython.core.display.HTML object>"
      ]
     },
     "metadata": {
      "tags": []
     },
     "output_type": "display_data"
    },
    {
     "data": {
      "text/html": [
       "\n",
       "                    <br/>Synced <strong style=\"color:#cdcd00\">floral-sweep-48</strong>: <a href=\"https://wandb.ai/nbvanting/thesis/runs/fbyztbyd\" target=\"_blank\">https://wandb.ai/nbvanting/thesis/runs/fbyztbyd</a><br/>\n",
       "                "
      ],
      "text/plain": [
       "<IPython.core.display.HTML object>"
      ]
     },
     "metadata": {
      "tags": []
     },
     "output_type": "display_data"
    },
    {
     "name": "stderr",
     "output_type": "stream",
     "text": [
      "Run fbyztbyd errored: IndexError('list index out of range')\n",
      "\u001b[34m\u001b[1mwandb\u001b[0m: \u001b[32m\u001b[41mERROR\u001b[0m Run fbyztbyd errored: IndexError('list index out of range')\n",
      "\u001b[34m\u001b[1mwandb\u001b[0m: Agent Starting Run: faax9z6t with config:\n",
      "\u001b[34m\u001b[1mwandb\u001b[0m: \tactivation_cnn: relu\n",
      "\u001b[34m\u001b[1mwandb\u001b[0m: \tactivation_gru: tanh\n",
      "\u001b[34m\u001b[1mwandb\u001b[0m: \tbatch_size: 144\n",
      "\u001b[34m\u001b[1mwandb\u001b[0m: \tcnn_lay_2: True\n",
      "\u001b[34m\u001b[1mwandb\u001b[0m: \tcnn_lay_3: True\n",
      "\u001b[34m\u001b[1mwandb\u001b[0m: \tcnn_layer_size_1: 34\n",
      "\u001b[34m\u001b[1mwandb\u001b[0m: \tcnn_layer_size_2: 114\n",
      "\u001b[34m\u001b[1mwandb\u001b[0m: \tcnn_layer_size_3: 140\n",
      "\u001b[34m\u001b[1mwandb\u001b[0m: \tdataset: strib\n",
      "\u001b[34m\u001b[1mwandb\u001b[0m: \tdropout: 0.37195123446940687\n",
      "\u001b[34m\u001b[1mwandb\u001b[0m: \tepochs: 25\n",
      "\u001b[34m\u001b[1mwandb\u001b[0m: \tgru_lay_1: True\n",
      "\u001b[34m\u001b[1mwandb\u001b[0m: \tgru_lay_2: False\n",
      "\u001b[34m\u001b[1mwandb\u001b[0m: \tgru_layer_size_1: 118\n",
      "\u001b[34m\u001b[1mwandb\u001b[0m: \tgru_layer_size_2: 115\n",
      "\u001b[34m\u001b[1mwandb\u001b[0m: \tgru_layer_size_3: 234\n",
      "\u001b[34m\u001b[1mwandb\u001b[0m: \tkernelsize: 5\n",
      "\u001b[34m\u001b[1mwandb\u001b[0m: \tlearning_rate: 0.015572584845222854\n",
      "\u001b[34m\u001b[1mwandb\u001b[0m: \tlookback: 744\n",
      "\u001b[34m\u001b[1mwandb\u001b[0m: \tmomentum: 0.8395117326658746\n",
      "\u001b[34m\u001b[1mwandb\u001b[0m: \tnum_cnn_layers: 2\n",
      "\u001b[34m\u001b[1mwandb\u001b[0m: \tnum_features: 9\n",
      "\u001b[34m\u001b[1mwandb\u001b[0m: \tnum_gru_layers: 2\n",
      "\u001b[34m\u001b[1mwandb\u001b[0m: \toptimizer: sgd\n",
      "\u001b[34m\u001b[1mwandb\u001b[0m: \tsplitmethod: standard\n",
      "\u001b[34m\u001b[1mwandb\u001b[0m: \tsplitrate: 0.8\n",
      "\u001b[34m\u001b[1mwandb\u001b[0m: \u001b[33mWARNING\u001b[0m Ignored wandb.init() arg project when running a sweep\n"
     ]
    },
    {
     "data": {
      "text/html": [
       "\n",
       "                Tracking run with wandb version 0.10.29<br/>\n",
       "                Syncing run <strong style=\"color:#cdcd00\">prime-sweep-49</strong> to <a href=\"https://wandb.ai\" target=\"_blank\">Weights & Biases</a> <a href=\"https://docs.wandb.com/integrations/jupyter.html\" target=\"_blank\">(Documentation)</a>.<br/>\n",
       "                Project page: <a href=\"https://wandb.ai/nbvanting/thesis\" target=\"_blank\">https://wandb.ai/nbvanting/thesis</a><br/>\n",
       "                Sweep page: <a href=\"https://wandb.ai/nbvanting/thesis/sweeps/xjdtj3eo\" target=\"_blank\">https://wandb.ai/nbvanting/thesis/sweeps/xjdtj3eo</a><br/>\n",
       "Run page: <a href=\"https://wandb.ai/nbvanting/thesis/runs/faax9z6t\" target=\"_blank\">https://wandb.ai/nbvanting/thesis/runs/faax9z6t</a><br/>\n",
       "                Run data is saved locally in <code>/content/wandb/run-20210507_114226-faax9z6t</code><br/><br/>\n",
       "            "
      ],
      "text/plain": [
       "<IPython.core.display.HTML object>"
      ]
     },
     "metadata": {
      "tags": []
     },
     "output_type": "display_data"
    },
    {
     "name": "stdout",
     "output_type": "stream",
     "text": [
      "Epoch 1/25\n",
      "109/109 [==============================] - 13s 85ms/step - loss: 0.7436 - mae: 0.6817 - val_loss: 0.4178 - val_mae: 0.4994\n",
      "Epoch 2/25\n",
      "109/109 [==============================] - 8s 76ms/step - loss: 0.2362 - mae: 0.3802 - val_loss: 0.3147 - val_mae: 0.4249\n",
      "Epoch 3/25\n",
      "109/109 [==============================] - 8s 75ms/step - loss: 0.1347 - mae: 0.2829 - val_loss: 0.3529 - val_mae: 0.4392\n",
      "Epoch 4/25\n",
      "109/109 [==============================] - 8s 76ms/step - loss: 0.1134 - mae: 0.2571 - val_loss: 0.3204 - val_mae: 0.4187\n",
      "Epoch 5/25\n",
      "109/109 [==============================] - 8s 75ms/step - loss: 0.1043 - mae: 0.2466 - val_loss: 0.3105 - val_mae: 0.4122\n",
      "Epoch 6/25\n",
      "109/109 [==============================] - 8s 76ms/step - loss: 0.0971 - mae: 0.2379 - val_loss: 0.3411 - val_mae: 0.4299\n",
      "Epoch 7/25\n",
      "109/109 [==============================] - 8s 76ms/step - loss: 0.0924 - mae: 0.2327 - val_loss: 0.2734 - val_mae: 0.3900\n",
      "Epoch 8/25\n",
      "109/109 [==============================] - 8s 76ms/step - loss: 0.0864 - mae: 0.2238 - val_loss: 0.3416 - val_mae: 0.4307\n",
      "Epoch 9/25\n",
      "109/109 [==============================] - 8s 76ms/step - loss: 0.0847 - mae: 0.2225 - val_loss: 0.2710 - val_mae: 0.3829\n",
      "Epoch 10/25\n",
      "109/109 [==============================] - 8s 76ms/step - loss: 0.0821 - mae: 0.2180 - val_loss: 0.2735 - val_mae: 0.3882\n",
      "Epoch 11/25\n",
      "109/109 [==============================] - 8s 75ms/step - loss: 0.0821 - mae: 0.2192 - val_loss: 0.2650 - val_mae: 0.3827\n",
      "Epoch 12/25\n",
      "109/109 [==============================] - 8s 75ms/step - loss: 0.0811 - mae: 0.2171 - val_loss: 0.2799 - val_mae: 0.3868\n",
      "Epoch 13/25\n",
      "109/109 [==============================] - 9s 77ms/step - loss: 0.0776 - mae: 0.2125 - val_loss: 0.3444 - val_mae: 0.4376\n",
      "Epoch 14/25\n",
      "109/109 [==============================] - 8s 76ms/step - loss: 0.0779 - mae: 0.2130 - val_loss: 0.3389 - val_mae: 0.4298\n",
      "Epoch 15/25\n",
      "109/109 [==============================] - 9s 77ms/step - loss: 0.0740 - mae: 0.2071 - val_loss: 0.3136 - val_mae: 0.4088\n",
      "Epoch 16/25\n",
      "109/109 [==============================] - 10s 93ms/step - loss: 0.0741 - mae: 0.2083 - val_loss: 0.2589 - val_mae: 0.3692\n",
      "Epoch 17/25\n",
      "109/109 [==============================] - 9s 79ms/step - loss: 0.0752 - mae: 0.2082 - val_loss: 0.2914 - val_mae: 0.3919\n",
      "Epoch 18/25\n",
      "109/109 [==============================] - 9s 77ms/step - loss: 0.0719 - mae: 0.2050 - val_loss: 0.3446 - val_mae: 0.4302\n",
      "Epoch 19/25\n",
      "109/109 [==============================] - 9s 78ms/step - loss: 0.0698 - mae: 0.2018 - val_loss: 0.2848 - val_mae: 0.3866\n",
      "Epoch 20/25\n",
      "109/109 [==============================] - 9s 77ms/step - loss: 0.0702 - mae: 0.2025 - val_loss: 0.2714 - val_mae: 0.3753\n",
      "Epoch 21/25\n",
      "109/109 [==============================] - 9s 78ms/step - loss: 0.0665 - mae: 0.1969 - val_loss: 0.2562 - val_mae: 0.3652\n",
      "Epoch 22/25\n",
      "109/109 [==============================] - 9s 77ms/step - loss: 0.0655 - mae: 0.1953 - val_loss: 0.2821 - val_mae: 0.3824\n",
      "Epoch 23/25\n",
      "109/109 [==============================] - 9s 77ms/step - loss: 0.0664 - mae: 0.1965 - val_loss: 0.2474 - val_mae: 0.3580\n",
      "Epoch 24/25\n",
      "109/109 [==============================] - 9s 78ms/step - loss: 0.0654 - mae: 0.1956 - val_loss: 0.2608 - val_mae: 0.3667\n",
      "Epoch 25/25\n",
      "109/109 [==============================] - 9s 76ms/step - loss: 0.0650 - mae: 0.1952 - val_loss: 0.2554 - val_mae: 0.3640\n",
      "4/4 [==============================] - 0s 22ms/step - loss: 0.1072 - mae: 0.2532\n"
     ]
    },
    {
     "data": {
      "text/html": [
       "<br/>Waiting for W&B process to finish, PID 11990<br/>Program failed with code 1.  Press ctrl-c to abort syncing."
      ],
      "text/plain": [
       "<IPython.core.display.HTML object>"
      ]
     },
     "metadata": {
      "tags": []
     },
     "output_type": "display_data"
    },
    {
     "data": {
      "application/vnd.jupyter.widget-view+json": {
       "model_id": "b90473aaf7834c9f990b32b3df69fcd3",
       "version_major": 2,
       "version_minor": 0
      },
      "text/plain": [
       "VBox(children=(Label(value=' 3.44MB of 3.44MB uploaded (0.00MB deduped)\\r'), FloatProgress(value=1.0, max=1.0)…"
      ]
     },
     "metadata": {
      "tags": []
     },
     "output_type": "display_data"
    },
    {
     "data": {
      "text/html": [
       "Find user logs for this run at: <code>/content/wandb/run-20210507_114226-faax9z6t/logs/debug.log</code>"
      ],
      "text/plain": [
       "<IPython.core.display.HTML object>"
      ]
     },
     "metadata": {
      "tags": []
     },
     "output_type": "display_data"
    },
    {
     "data": {
      "text/html": [
       "Find internal logs for this run at: <code>/content/wandb/run-20210507_114226-faax9z6t/logs/debug-internal.log</code>"
      ],
      "text/plain": [
       "<IPython.core.display.HTML object>"
      ]
     },
     "metadata": {
      "tags": []
     },
     "output_type": "display_data"
    },
    {
     "data": {
      "text/html": [
       "<h3>Run summary:</h3><br/><style>\n",
       "    table.wandb td:nth-child(1) { padding: 0 10px; text-align: right }\n",
       "    </style><table class=\"wandb\">\n",
       "<tr><td>epoch</td><td>24</td></tr><tr><td>loss</td><td>0.06552</td></tr><tr><td>mae</td><td>0.19524</td></tr><tr><td>val_loss</td><td>0.25545</td></tr><tr><td>val_mae</td><td>0.36395</td></tr><tr><td>_runtime</td><td>226</td></tr><tr><td>_timestamp</td><td>1620387972</td></tr><tr><td>_step</td><td>26</td></tr><tr><td>best_val_loss</td><td>0.24742</td></tr><tr><td>best_epoch</td><td>22</td></tr><tr><td>test_loss</td><td>0.10721</td></tr><tr><td>test_mae</td><td>0.25322</td></tr></table>"
      ],
      "text/plain": [
       "<IPython.core.display.HTML object>"
      ]
     },
     "metadata": {
      "tags": []
     },
     "output_type": "display_data"
    },
    {
     "data": {
      "text/html": [
       "<h3>Run history:</h3><br/><style>\n",
       "    table.wandb td:nth-child(1) { padding: 0 10px; text-align: right }\n",
       "    </style><table class=\"wandb\">\n",
       "<tr><td>epoch</td><td>▁▁▂▂▂▂▃▃▃▄▄▄▅▅▅▅▆▆▆▇▇▇▇██</td></tr><tr><td>loss</td><td>█▃▂▂▂▁▁▁▁▁▁▁▁▁▁▁▁▁▁▁▁▁▁▁▁</td></tr><tr><td>mae</td><td>█▄▂▂▂▂▂▁▂▁▁▁▁▁▁▁▁▁▁▁▁▁▁▁▁</td></tr><tr><td>val_loss</td><td>█▄▅▄▄▅▂▅▂▂▂▂▅▅▄▁▃▅▃▂▁▂▁▂▁</td></tr><tr><td>val_mae</td><td>█▄▅▄▄▅▃▅▂▂▂▂▅▅▄▂▃▅▂▂▁▂▁▁▁</td></tr><tr><td>_runtime</td><td>▁▁▂▂▂▂▃▃▃▄▄▄▄▅▅▅▆▆▆▇▇▇▇████</td></tr><tr><td>_timestamp</td><td>▁▁▂▂▂▂▃▃▃▄▄▄▄▅▅▅▆▆▆▇▇▇▇████</td></tr><tr><td>_step</td><td>▁▁▂▂▂▂▃▃▃▃▄▄▄▅▅▅▅▆▆▆▆▇▇▇▇██</td></tr><tr><td>test_loss</td><td>▁</td></tr><tr><td>test_mae</td><td>▁</td></tr></table><br/>"
      ],
      "text/plain": [
       "<IPython.core.display.HTML object>"
      ]
     },
     "metadata": {
      "tags": []
     },
     "output_type": "display_data"
    },
    {
     "data": {
      "text/html": [
       "Synced 5 W&B file(s), 1 media file(s), 0 artifact file(s) and 1 other file(s)"
      ],
      "text/plain": [
       "<IPython.core.display.HTML object>"
      ]
     },
     "metadata": {
      "tags": []
     },
     "output_type": "display_data"
    },
    {
     "data": {
      "text/html": [
       "\n",
       "                    <br/>Synced <strong style=\"color:#cdcd00\">prime-sweep-49</strong>: <a href=\"https://wandb.ai/nbvanting/thesis/runs/faax9z6t\" target=\"_blank\">https://wandb.ai/nbvanting/thesis/runs/faax9z6t</a><br/>\n",
       "                "
      ],
      "text/plain": [
       "<IPython.core.display.HTML object>"
      ]
     },
     "metadata": {
      "tags": []
     },
     "output_type": "display_data"
    },
    {
     "name": "stderr",
     "output_type": "stream",
     "text": [
      "Run faax9z6t errored: IndexError('list index out of range')\n",
      "\u001b[34m\u001b[1mwandb\u001b[0m: \u001b[32m\u001b[41mERROR\u001b[0m Run faax9z6t errored: IndexError('list index out of range')\n",
      "\u001b[34m\u001b[1mwandb\u001b[0m: Agent Starting Run: s30f2e2j with config:\n",
      "\u001b[34m\u001b[1mwandb\u001b[0m: \tactivation_cnn: relu\n",
      "\u001b[34m\u001b[1mwandb\u001b[0m: \tactivation_gru: tanh\n",
      "\u001b[34m\u001b[1mwandb\u001b[0m: \tbatch_size: 189\n",
      "\u001b[34m\u001b[1mwandb\u001b[0m: \tcnn_lay_2: False\n",
      "\u001b[34m\u001b[1mwandb\u001b[0m: \tcnn_lay_3: False\n",
      "\u001b[34m\u001b[1mwandb\u001b[0m: \tcnn_layer_size_1: 134\n",
      "\u001b[34m\u001b[1mwandb\u001b[0m: \tcnn_layer_size_2: 41\n",
      "\u001b[34m\u001b[1mwandb\u001b[0m: \tcnn_layer_size_3: 41\n",
      "\u001b[34m\u001b[1mwandb\u001b[0m: \tdataset: kolding\n",
      "\u001b[34m\u001b[1mwandb\u001b[0m: \tdropout: 0.10406485189272392\n",
      "\u001b[34m\u001b[1mwandb\u001b[0m: \tepochs: 25\n",
      "\u001b[34m\u001b[1mwandb\u001b[0m: \tgru_lay_1: True\n",
      "\u001b[34m\u001b[1mwandb\u001b[0m: \tgru_lay_2: True\n",
      "\u001b[34m\u001b[1mwandb\u001b[0m: \tgru_layer_size_1: 36\n",
      "\u001b[34m\u001b[1mwandb\u001b[0m: \tgru_layer_size_2: 43\n",
      "\u001b[34m\u001b[1mwandb\u001b[0m: \tgru_layer_size_3: 52\n",
      "\u001b[34m\u001b[1mwandb\u001b[0m: \tkernelsize: 3\n",
      "\u001b[34m\u001b[1mwandb\u001b[0m: \tlearning_rate: 0.03271904860712013\n",
      "\u001b[34m\u001b[1mwandb\u001b[0m: \tlookback: 744\n",
      "\u001b[34m\u001b[1mwandb\u001b[0m: \tmomentum: 0.8939504201745205\n",
      "\u001b[34m\u001b[1mwandb\u001b[0m: \tnum_cnn_layers: 2\n",
      "\u001b[34m\u001b[1mwandb\u001b[0m: \tnum_features: 9\n",
      "\u001b[34m\u001b[1mwandb\u001b[0m: \tnum_gru_layers: 2\n",
      "\u001b[34m\u001b[1mwandb\u001b[0m: \toptimizer: sgd\n",
      "\u001b[34m\u001b[1mwandb\u001b[0m: \tsplitmethod: offset\n",
      "\u001b[34m\u001b[1mwandb\u001b[0m: \tsplitrate: 0.8\n",
      "\u001b[34m\u001b[1mwandb\u001b[0m: \u001b[33mWARNING\u001b[0m Ignored wandb.init() arg project when running a sweep\n"
     ]
    },
    {
     "data": {
      "text/html": [
       "\n",
       "                Tracking run with wandb version 0.10.29<br/>\n",
       "                Syncing run <strong style=\"color:#cdcd00\">helpful-sweep-50</strong> to <a href=\"https://wandb.ai\" target=\"_blank\">Weights & Biases</a> <a href=\"https://docs.wandb.com/integrations/jupyter.html\" target=\"_blank\">(Documentation)</a>.<br/>\n",
       "                Project page: <a href=\"https://wandb.ai/nbvanting/thesis\" target=\"_blank\">https://wandb.ai/nbvanting/thesis</a><br/>\n",
       "                Sweep page: <a href=\"https://wandb.ai/nbvanting/thesis/sweeps/xjdtj3eo\" target=\"_blank\">https://wandb.ai/nbvanting/thesis/sweeps/xjdtj3eo</a><br/>\n",
       "Run page: <a href=\"https://wandb.ai/nbvanting/thesis/runs/s30f2e2j\" target=\"_blank\">https://wandb.ai/nbvanting/thesis/runs/s30f2e2j</a><br/>\n",
       "                Run data is saved locally in <code>/content/wandb/run-20210507_114619-s30f2e2j</code><br/><br/>\n",
       "            "
      ],
      "text/plain": [
       "<IPython.core.display.HTML object>"
      ]
     },
     "metadata": {
      "tags": []
     },
     "output_type": "display_data"
    },
    {
     "name": "stdout",
     "output_type": "stream",
     "text": [
      "Epoch 1/25\n",
      "78/78 [==============================] - 16s 133ms/step - loss: 0.7207 - mae: 0.6599 - val_loss: 0.5846 - val_mae: 0.5930\n",
      "Epoch 2/25\n",
      "78/78 [==============================] - 10s 119ms/step - loss: 0.4685 - mae: 0.5307 - val_loss: 0.4489 - val_mae: 0.5262\n",
      "Epoch 3/25\n",
      "78/78 [==============================] - 9s 117ms/step - loss: 0.3263 - mae: 0.4387 - val_loss: 0.2189 - val_mae: 0.3697\n",
      "Epoch 4/25\n",
      "78/78 [==============================] - 10s 119ms/step - loss: 0.2217 - mae: 0.3625 - val_loss: 0.1673 - val_mae: 0.3210\n",
      "Epoch 5/25\n",
      "78/78 [==============================] - 10s 119ms/step - loss: 0.1700 - mae: 0.3188 - val_loss: 0.1572 - val_mae: 0.3132\n",
      "Epoch 6/25\n",
      "78/78 [==============================] - 10s 119ms/step - loss: 0.1596 - mae: 0.3058 - val_loss: 0.1440 - val_mae: 0.3025\n",
      "Epoch 7/25\n",
      "78/78 [==============================] - 9s 118ms/step - loss: 0.1441 - mae: 0.2937 - val_loss: 0.1383 - val_mae: 0.2981\n",
      "Epoch 8/25\n",
      "78/78 [==============================] - 9s 118ms/step - loss: 0.1352 - mae: 0.2857 - val_loss: 0.1454 - val_mae: 0.3035\n",
      "Epoch 9/25\n",
      "78/78 [==============================] - 10s 119ms/step - loss: 0.1333 - mae: 0.2828 - val_loss: 0.1305 - val_mae: 0.2933\n",
      "Epoch 10/25\n",
      "78/78 [==============================] - 10s 119ms/step - loss: 0.1266 - mae: 0.2753 - val_loss: 0.1363 - val_mae: 0.2960\n",
      "Epoch 11/25\n",
      "78/78 [==============================] - 9s 117ms/step - loss: 0.1221 - mae: 0.2712 - val_loss: 0.1351 - val_mae: 0.2911\n",
      "Epoch 12/25\n",
      "78/78 [==============================] - 9s 118ms/step - loss: 0.1201 - mae: 0.2680 - val_loss: 0.1271 - val_mae: 0.2801\n",
      "Epoch 13/25\n",
      "78/78 [==============================] - 9s 116ms/step - loss: 0.1191 - mae: 0.2673 - val_loss: 0.1372 - val_mae: 0.2977\n",
      "Epoch 14/25\n",
      "78/78 [==============================] - 9s 118ms/step - loss: 0.1189 - mae: 0.2645 - val_loss: 0.1170 - val_mae: 0.2725\n",
      "Epoch 15/25\n",
      "78/78 [==============================] - 9s 118ms/step - loss: 0.1120 - mae: 0.2590 - val_loss: 0.1200 - val_mae: 0.2766\n",
      "Epoch 16/25\n",
      "78/78 [==============================] - 9s 117ms/step - loss: 0.1126 - mae: 0.2588 - val_loss: 0.1091 - val_mae: 0.2629\n",
      "Epoch 17/25\n",
      "78/78 [==============================] - 9s 118ms/step - loss: 0.1080 - mae: 0.2538 - val_loss: 0.1297 - val_mae: 0.2811\n",
      "Epoch 18/25\n",
      "78/78 [==============================] - 9s 118ms/step - loss: 0.1063 - mae: 0.2534 - val_loss: 0.1121 - val_mae: 0.2648\n",
      "Epoch 19/25\n",
      "78/78 [==============================] - 10s 120ms/step - loss: 0.1033 - mae: 0.2474 - val_loss: 0.1118 - val_mae: 0.2674\n",
      "Epoch 20/25\n",
      "78/78 [==============================] - 9s 118ms/step - loss: 0.1054 - mae: 0.2512 - val_loss: 0.1123 - val_mae: 0.2639\n",
      "Epoch 21/25\n",
      "78/78 [==============================] - 10s 119ms/step - loss: 0.1015 - mae: 0.2458 - val_loss: 0.1029 - val_mae: 0.2542\n",
      "Epoch 22/25\n",
      "78/78 [==============================] - 10s 119ms/step - loss: 0.0980 - mae: 0.2420 - val_loss: 0.1050 - val_mae: 0.2566\n",
      "Epoch 23/25\n",
      "78/78 [==============================] - 9s 118ms/step - loss: 0.0992 - mae: 0.2433 - val_loss: 0.1077 - val_mae: 0.2594\n",
      "Epoch 24/25\n",
      "78/78 [==============================] - 9s 118ms/step - loss: 0.0989 - mae: 0.2428 - val_loss: 0.0988 - val_mae: 0.2485\n",
      "Epoch 25/25\n",
      "78/78 [==============================] - 9s 116ms/step - loss: 0.0941 - mae: 0.2357 - val_loss: 0.1006 - val_mae: 0.2514\n",
      "8/8 [==============================] - 1s 43ms/step - loss: 0.1754 - mae: 0.3177\n"
     ]
    },
    {
     "data": {
      "text/html": [
       "<br/>Waiting for W&B process to finish, PID 12289<br/>Program failed with code 1.  Press ctrl-c to abort syncing."
      ],
      "text/plain": [
       "<IPython.core.display.HTML object>"
      ]
     },
     "metadata": {
      "tags": []
     },
     "output_type": "display_data"
    },
    {
     "data": {
      "application/vnd.jupyter.widget-view+json": {
       "model_id": "e173daa09677433c9b603bfdce18693d",
       "version_major": 2,
       "version_minor": 0
      },
      "text/plain": [
       "VBox(children=(Label(value=' 0.43MB of 0.43MB uploaded (0.00MB deduped)\\r'), FloatProgress(value=1.0, max=1.0)…"
      ]
     },
     "metadata": {
      "tags": []
     },
     "output_type": "display_data"
    },
    {
     "data": {
      "text/html": [
       "Find user logs for this run at: <code>/content/wandb/run-20210507_114619-s30f2e2j/logs/debug.log</code>"
      ],
      "text/plain": [
       "<IPython.core.display.HTML object>"
      ]
     },
     "metadata": {
      "tags": []
     },
     "output_type": "display_data"
    },
    {
     "data": {
      "text/html": [
       "Find internal logs for this run at: <code>/content/wandb/run-20210507_114619-s30f2e2j/logs/debug-internal.log</code>"
      ],
      "text/plain": [
       "<IPython.core.display.HTML object>"
      ]
     },
     "metadata": {
      "tags": []
     },
     "output_type": "display_data"
    },
    {
     "data": {
      "text/html": [
       "<h3>Run summary:</h3><br/><style>\n",
       "    table.wandb td:nth-child(1) { padding: 0 10px; text-align: right }\n",
       "    </style><table class=\"wandb\">\n",
       "<tr><td>epoch</td><td>24</td></tr><tr><td>loss</td><td>0.09176</td></tr><tr><td>mae</td><td>0.23374</td></tr><tr><td>val_loss</td><td>0.10056</td></tr><tr><td>val_mae</td><td>0.25143</td></tr><tr><td>_runtime</td><td>250</td></tr><tr><td>_timestamp</td><td>1620388229</td></tr><tr><td>_step</td><td>26</td></tr><tr><td>best_val_loss</td><td>0.09885</td></tr><tr><td>best_epoch</td><td>23</td></tr><tr><td>test_loss</td><td>0.17542</td></tr><tr><td>test_mae</td><td>0.31771</td></tr></table>"
      ],
      "text/plain": [
       "<IPython.core.display.HTML object>"
      ]
     },
     "metadata": {
      "tags": []
     },
     "output_type": "display_data"
    },
    {
     "data": {
      "text/html": [
       "<h3>Run history:</h3><br/><style>\n",
       "    table.wandb td:nth-child(1) { padding: 0 10px; text-align: right }\n",
       "    </style><table class=\"wandb\">\n",
       "<tr><td>epoch</td><td>▁▁▂▂▂▂▃▃▃▄▄▄▅▅▅▅▆▆▆▇▇▇▇██</td></tr><tr><td>loss</td><td>█▆▄▂▂▂▂▂▂▁▁▁▁▁▁▁▁▁▁▁▁▁▁▁▁</td></tr><tr><td>mae</td><td>█▆▄▃▃▂▂▂▂▂▂▂▂▂▁▁▁▁▁▁▁▁▁▁▁</td></tr><tr><td>val_loss</td><td>█▆▃▂▂▂▂▂▁▂▂▁▂▁▁▁▁▁▁▁▁▁▁▁▁</td></tr><tr><td>val_mae</td><td>█▇▃▂▂▂▂▂▂▂▂▂▂▁▂▁▂▁▁▁▁▁▁▁▁</td></tr><tr><td>_runtime</td><td>▁▁▂▂▂▂▃▃▃▄▄▄▅▅▅▅▆▆▆▇▇▇▇████</td></tr><tr><td>_timestamp</td><td>▁▁▂▂▂▂▃▃▃▄▄▄▅▅▅▅▆▆▆▇▇▇▇████</td></tr><tr><td>_step</td><td>▁▁▂▂▂▂▃▃▃▃▄▄▄▅▅▅▅▆▆▆▆▇▇▇▇██</td></tr><tr><td>test_loss</td><td>▁</td></tr><tr><td>test_mae</td><td>▁</td></tr></table><br/>"
      ],
      "text/plain": [
       "<IPython.core.display.HTML object>"
      ]
     },
     "metadata": {
      "tags": []
     },
     "output_type": "display_data"
    },
    {
     "data": {
      "text/html": [
       "Synced 5 W&B file(s), 1 media file(s), 0 artifact file(s) and 1 other file(s)"
      ],
      "text/plain": [
       "<IPython.core.display.HTML object>"
      ]
     },
     "metadata": {
      "tags": []
     },
     "output_type": "display_data"
    },
    {
     "data": {
      "text/html": [
       "\n",
       "                    <br/>Synced <strong style=\"color:#cdcd00\">helpful-sweep-50</strong>: <a href=\"https://wandb.ai/nbvanting/thesis/runs/s30f2e2j\" target=\"_blank\">https://wandb.ai/nbvanting/thesis/runs/s30f2e2j</a><br/>\n",
       "                "
      ],
      "text/plain": [
       "<IPython.core.display.HTML object>"
      ]
     },
     "metadata": {
      "tags": []
     },
     "output_type": "display_data"
    },
    {
     "name": "stderr",
     "output_type": "stream",
     "text": [
      "Run s30f2e2j errored: IndexError('list index out of range')\n",
      "\u001b[34m\u001b[1mwandb\u001b[0m: \u001b[32m\u001b[41mERROR\u001b[0m Run s30f2e2j errored: IndexError('list index out of range')\n",
      "\u001b[34m\u001b[1mwandb\u001b[0m: Agent Starting Run: 5n1wqgja with config:\n",
      "\u001b[34m\u001b[1mwandb\u001b[0m: \tactivation_cnn: relu\n",
      "\u001b[34m\u001b[1mwandb\u001b[0m: \tactivation_gru: tanh\n",
      "\u001b[34m\u001b[1mwandb\u001b[0m: \tbatch_size: 152\n",
      "\u001b[34m\u001b[1mwandb\u001b[0m: \tcnn_lay_2: False\n",
      "\u001b[34m\u001b[1mwandb\u001b[0m: \tcnn_lay_3: False\n",
      "\u001b[34m\u001b[1mwandb\u001b[0m: \tcnn_layer_size_1: 54\n",
      "\u001b[34m\u001b[1mwandb\u001b[0m: \tcnn_layer_size_2: 242\n",
      "\u001b[34m\u001b[1mwandb\u001b[0m: \tcnn_layer_size_3: 166\n",
      "\u001b[34m\u001b[1mwandb\u001b[0m: \tdataset: strib\n",
      "\u001b[34m\u001b[1mwandb\u001b[0m: \tdropout: 0.44452256195950224\n",
      "\u001b[34m\u001b[1mwandb\u001b[0m: \tepochs: 25\n",
      "\u001b[34m\u001b[1mwandb\u001b[0m: \tgru_lay_1: False\n",
      "\u001b[34m\u001b[1mwandb\u001b[0m: \tgru_lay_2: False\n",
      "\u001b[34m\u001b[1mwandb\u001b[0m: \tgru_layer_size_1: 59\n",
      "\u001b[34m\u001b[1mwandb\u001b[0m: \tgru_layer_size_2: 187\n",
      "\u001b[34m\u001b[1mwandb\u001b[0m: \tgru_layer_size_3: 240\n",
      "\u001b[34m\u001b[1mwandb\u001b[0m: \tkernelsize: 5\n",
      "\u001b[34m\u001b[1mwandb\u001b[0m: \tlearning_rate: 0.026467767730827353\n",
      "\u001b[34m\u001b[1mwandb\u001b[0m: \tlookback: 744\n",
      "\u001b[34m\u001b[1mwandb\u001b[0m: \tmomentum: 0.6977998739690052\n",
      "\u001b[34m\u001b[1mwandb\u001b[0m: \tnum_cnn_layers: 2\n",
      "\u001b[34m\u001b[1mwandb\u001b[0m: \tnum_features: 9\n",
      "\u001b[34m\u001b[1mwandb\u001b[0m: \tnum_gru_layers: 2\n",
      "\u001b[34m\u001b[1mwandb\u001b[0m: \toptimizer: sgd\n",
      "\u001b[34m\u001b[1mwandb\u001b[0m: \tsplitmethod: standard\n",
      "\u001b[34m\u001b[1mwandb\u001b[0m: \tsplitrate: 0.8\n",
      "\u001b[34m\u001b[1mwandb\u001b[0m: \u001b[33mWARNING\u001b[0m Ignored wandb.init() arg project when running a sweep\n"
     ]
    },
    {
     "data": {
      "text/html": [
       "\n",
       "                Tracking run with wandb version 0.10.29<br/>\n",
       "                Syncing run <strong style=\"color:#cdcd00\">crisp-sweep-51</strong> to <a href=\"https://wandb.ai\" target=\"_blank\">Weights & Biases</a> <a href=\"https://docs.wandb.com/integrations/jupyter.html\" target=\"_blank\">(Documentation)</a>.<br/>\n",
       "                Project page: <a href=\"https://wandb.ai/nbvanting/thesis\" target=\"_blank\">https://wandb.ai/nbvanting/thesis</a><br/>\n",
       "                Sweep page: <a href=\"https://wandb.ai/nbvanting/thesis/sweeps/xjdtj3eo\" target=\"_blank\">https://wandb.ai/nbvanting/thesis/sweeps/xjdtj3eo</a><br/>\n",
       "Run page: <a href=\"https://wandb.ai/nbvanting/thesis/runs/5n1wqgja\" target=\"_blank\">https://wandb.ai/nbvanting/thesis/runs/5n1wqgja</a><br/>\n",
       "                Run data is saved locally in <code>/content/wandb/run-20210507_115036-5n1wqgja</code><br/><br/>\n",
       "            "
      ],
      "text/plain": [
       "<IPython.core.display.HTML object>"
      ]
     },
     "metadata": {
      "tags": []
     },
     "output_type": "display_data"
    },
    {
     "name": "stdout",
     "output_type": "stream",
     "text": [
      "Epoch 1/25\n",
      "104/104 [==============================] - 12s 93ms/step - loss: 0.5767 - mae: 0.5865 - val_loss: 0.9483 - val_mae: 0.6757\n",
      "Epoch 2/25\n",
      "104/104 [==============================] - 9s 89ms/step - loss: 0.3148 - mae: 0.4255 - val_loss: 0.6666 - val_mae: 0.5782\n",
      "Epoch 3/25\n",
      "104/104 [==============================] - 9s 87ms/step - loss: 0.2601 - mae: 0.3849 - val_loss: 0.7538 - val_mae: 0.6248\n",
      "Epoch 4/25\n",
      "104/104 [==============================] - 9s 81ms/step - loss: 0.2364 - mae: 0.3676 - val_loss: 0.8732 - val_mae: 0.6991\n",
      "Epoch 5/25\n",
      "104/104 [==============================] - 8s 79ms/step - loss: 0.2123 - mae: 0.3486 - val_loss: 0.7817 - val_mae: 0.6704\n",
      "Epoch 6/25\n",
      "104/104 [==============================] - 9s 82ms/step - loss: 0.2024 - mae: 0.3383 - val_loss: 1.0358 - val_mae: 0.8110\n",
      "Epoch 7/25\n",
      "104/104 [==============================] - 9s 82ms/step - loss: 0.1962 - mae: 0.3352 - val_loss: 0.4368 - val_mae: 0.5292\n",
      "Epoch 8/25\n",
      "104/104 [==============================] - 8s 80ms/step - loss: 0.1961 - mae: 0.3384 - val_loss: 0.6166 - val_mae: 0.5754\n",
      "Epoch 9/25\n",
      "104/104 [==============================] - 8s 79ms/step - loss: 0.1832 - mae: 0.3251 - val_loss: 0.6328 - val_mae: 0.5801\n",
      "Epoch 10/25\n",
      " 59/104 [================>.............] - ETA: 3s - loss: 0.1741 - mae: 0.3162"
     ]
    },
    {
     "data": {
      "text/html": [
       "<br/>Waiting for W&B process to finish, PID 12598<br/>Program failed with code 1.  Press ctrl-c to abort syncing."
      ],
      "text/plain": [
       "<IPython.core.display.HTML object>"
      ]
     },
     "metadata": {
      "tags": []
     },
     "output_type": "display_data"
    },
    {
     "data": {
      "application/vnd.jupyter.widget-view+json": {
       "model_id": "a8a2d97d79e34961afbdfd339f0571d2",
       "version_major": 2,
       "version_minor": 0
      },
      "text/plain": [
       "VBox(children=(Label(value=' 1.68MB of 1.68MB uploaded (0.00MB deduped)\\r'), FloatProgress(value=1.0, max=1.0)…"
      ]
     },
     "metadata": {
      "tags": []
     },
     "output_type": "display_data"
    },
    {
     "data": {
      "text/html": [
       "Find user logs for this run at: <code>/content/wandb/run-20210507_115036-5n1wqgja/logs/debug.log</code>"
      ],
      "text/plain": [
       "<IPython.core.display.HTML object>"
      ]
     },
     "metadata": {
      "tags": []
     },
     "output_type": "display_data"
    },
    {
     "data": {
      "text/html": [
       "Find internal logs for this run at: <code>/content/wandb/run-20210507_115036-5n1wqgja/logs/debug-internal.log</code>"
      ],
      "text/plain": [
       "<IPython.core.display.HTML object>"
      ]
     },
     "metadata": {
      "tags": []
     },
     "output_type": "display_data"
    },
    {
     "data": {
      "text/html": [
       "<h3>Run summary:</h3><br/><style>\n",
       "    table.wandb td:nth-child(1) { padding: 0 10px; text-align: right }\n",
       "    </style><table class=\"wandb\">\n",
       "<tr><td>epoch</td><td>8</td></tr><tr><td>loss</td><td>0.18347</td></tr><tr><td>mae</td><td>0.32414</td></tr><tr><td>val_loss</td><td>0.63275</td></tr><tr><td>val_mae</td><td>0.58013</td></tr><tr><td>_runtime</td><td>86</td></tr><tr><td>_timestamp</td><td>1620388322</td></tr><tr><td>_step</td><td>8</td></tr><tr><td>best_val_loss</td><td>0.43682</td></tr><tr><td>best_epoch</td><td>6</td></tr></table>"
      ],
      "text/plain": [
       "<IPython.core.display.HTML object>"
      ]
     },
     "metadata": {
      "tags": []
     },
     "output_type": "display_data"
    },
    {
     "data": {
      "text/html": [
       "<h3>Run history:</h3><br/><style>\n",
       "    table.wandb td:nth-child(1) { padding: 0 10px; text-align: right }\n",
       "    </style><table class=\"wandb\">\n",
       "<tr><td>epoch</td><td>▁▂▃▄▅▅▆▇█</td></tr><tr><td>loss</td><td>█▄▃▂▂▁▁▁▁</td></tr><tr><td>mae</td><td>█▄▃▂▂▁▁▁▁</td></tr><tr><td>val_loss</td><td>▇▄▅▆▅█▁▃▃</td></tr><tr><td>val_mae</td><td>▅▂▃▅▅█▁▂▂</td></tr><tr><td>_runtime</td><td>▁▂▃▄▅▅▆▇█</td></tr><tr><td>_timestamp</td><td>▁▂▃▄▅▅▆▇█</td></tr><tr><td>_step</td><td>▁▂▃▄▅▅▆▇█</td></tr></table><br/>"
      ],
      "text/plain": [
       "<IPython.core.display.HTML object>"
      ]
     },
     "metadata": {
      "tags": []
     },
     "output_type": "display_data"
    },
    {
     "data": {
      "text/html": [
       "Synced 5 W&B file(s), 1 media file(s), 0 artifact file(s) and 1 other file(s)"
      ],
      "text/plain": [
       "<IPython.core.display.HTML object>"
      ]
     },
     "metadata": {
      "tags": []
     },
     "output_type": "display_data"
    },
    {
     "data": {
      "text/html": [
       "\n",
       "                    <br/>Synced <strong style=\"color:#cdcd00\">crisp-sweep-51</strong>: <a href=\"https://wandb.ai/nbvanting/thesis/runs/5n1wqgja\" target=\"_blank\">https://wandb.ai/nbvanting/thesis/runs/5n1wqgja</a><br/>\n",
       "                "
      ],
      "text/plain": [
       "<IPython.core.display.HTML object>"
      ]
     },
     "metadata": {
      "tags": []
     },
     "output_type": "display_data"
    },
    {
     "name": "stderr",
     "output_type": "stream",
     "text": [
      "\u001b[34m\u001b[1mwandb\u001b[0m: Agent Starting Run: y9a0z7pz with config:\n",
      "\u001b[34m\u001b[1mwandb\u001b[0m: \tactivation_cnn: relu\n",
      "\u001b[34m\u001b[1mwandb\u001b[0m: \tactivation_gru: tanh\n",
      "\u001b[34m\u001b[1mwandb\u001b[0m: \tbatch_size: 51\n",
      "\u001b[34m\u001b[1mwandb\u001b[0m: \tcnn_lay_2: True\n",
      "\u001b[34m\u001b[1mwandb\u001b[0m: \tcnn_lay_3: True\n",
      "\u001b[34m\u001b[1mwandb\u001b[0m: \tcnn_layer_size_1: 105\n",
      "\u001b[34m\u001b[1mwandb\u001b[0m: \tcnn_layer_size_2: 43\n",
      "\u001b[34m\u001b[1mwandb\u001b[0m: \tcnn_layer_size_3: 55\n",
      "\u001b[34m\u001b[1mwandb\u001b[0m: \tdataset: kolding\n",
      "\u001b[34m\u001b[1mwandb\u001b[0m: \tdropout: 0.19618993215500768\n",
      "\u001b[34m\u001b[1mwandb\u001b[0m: \tepochs: 25\n",
      "\u001b[34m\u001b[1mwandb\u001b[0m: \tgru_lay_1: True\n",
      "\u001b[34m\u001b[1mwandb\u001b[0m: \tgru_lay_2: False\n",
      "\u001b[34m\u001b[1mwandb\u001b[0m: \tgru_layer_size_1: 49\n",
      "\u001b[34m\u001b[1mwandb\u001b[0m: \tgru_layer_size_2: 67\n",
      "\u001b[34m\u001b[1mwandb\u001b[0m: \tgru_layer_size_3: 57\n",
      "\u001b[34m\u001b[1mwandb\u001b[0m: \tkernelsize: 3\n",
      "\u001b[34m\u001b[1mwandb\u001b[0m: \tlearning_rate: 0.019151974568264885\n",
      "\u001b[34m\u001b[1mwandb\u001b[0m: \tlookback: 744\n",
      "\u001b[34m\u001b[1mwandb\u001b[0m: \tmomentum: 0.8072755722968414\n",
      "\u001b[34m\u001b[1mwandb\u001b[0m: \tnum_cnn_layers: 2\n",
      "\u001b[34m\u001b[1mwandb\u001b[0m: \tnum_features: 9\n",
      "\u001b[34m\u001b[1mwandb\u001b[0m: \tnum_gru_layers: 2\n",
      "\u001b[34m\u001b[1mwandb\u001b[0m: \toptimizer: sgd\n",
      "\u001b[34m\u001b[1mwandb\u001b[0m: \tsplitmethod: offset\n",
      "\u001b[34m\u001b[1mwandb\u001b[0m: \tsplitrate: 0.8\n",
      "\u001b[34m\u001b[1mwandb\u001b[0m: \u001b[33mWARNING\u001b[0m Ignored wandb.init() arg project when running a sweep\n"
     ]
    },
    {
     "data": {
      "text/html": [
       "\n",
       "                Tracking run with wandb version 0.10.29<br/>\n",
       "                Syncing run <strong style=\"color:#cdcd00\">royal-sweep-52</strong> to <a href=\"https://wandb.ai\" target=\"_blank\">Weights & Biases</a> <a href=\"https://docs.wandb.com/integrations/jupyter.html\" target=\"_blank\">(Documentation)</a>.<br/>\n",
       "                Project page: <a href=\"https://wandb.ai/nbvanting/thesis\" target=\"_blank\">https://wandb.ai/nbvanting/thesis</a><br/>\n",
       "                Sweep page: <a href=\"https://wandb.ai/nbvanting/thesis/sweeps/xjdtj3eo\" target=\"_blank\">https://wandb.ai/nbvanting/thesis/sweeps/xjdtj3eo</a><br/>\n",
       "Run page: <a href=\"https://wandb.ai/nbvanting/thesis/runs/y9a0z7pz\" target=\"_blank\">https://wandb.ai/nbvanting/thesis/runs/y9a0z7pz</a><br/>\n",
       "                Run data is saved locally in <code>/content/wandb/run-20210507_115216-y9a0z7pz</code><br/><br/>\n",
       "            "
      ],
      "text/plain": [
       "<IPython.core.display.HTML object>"
      ]
     },
     "metadata": {
      "tags": []
     },
     "output_type": "display_data"
    },
    {
     "name": "stdout",
     "output_type": "stream",
     "text": [
      "Epoch 1/25\n",
      "287/287 [==============================] - 13s 34ms/step - loss: 0.7176 - mae: 0.6655 - val_loss: 0.4380 - val_mae: 0.5098\n",
      "Epoch 2/25\n",
      "287/287 [==============================] - 9s 31ms/step - loss: 0.2979 - mae: 0.4242 - val_loss: 0.1965 - val_mae: 0.3444\n",
      "Epoch 3/25\n",
      "287/287 [==============================] - 9s 31ms/step - loss: 0.1698 - mae: 0.3192 - val_loss: 0.1635 - val_mae: 0.3179\n",
      "Epoch 4/25\n",
      "287/287 [==============================] - 9s 30ms/step - loss: 0.1440 - mae: 0.2936 - val_loss: 0.1785 - val_mae: 0.3340\n",
      "Epoch 5/25\n",
      "287/287 [==============================] - 9s 30ms/step - loss: 0.1284 - mae: 0.2761 - val_loss: 0.1739 - val_mae: 0.3283\n",
      "Epoch 6/25\n",
      "287/287 [==============================] - 9s 30ms/step - loss: 0.1188 - mae: 0.2659 - val_loss: 0.1471 - val_mae: 0.3017\n",
      "Epoch 7/25\n",
      "287/287 [==============================] - 9s 30ms/step - loss: 0.1113 - mae: 0.2577 - val_loss: 0.1491 - val_mae: 0.3042\n",
      "Epoch 8/25\n",
      "287/287 [==============================] - 9s 30ms/step - loss: 0.1104 - mae: 0.2558 - val_loss: 0.1401 - val_mae: 0.2938\n",
      "Epoch 9/25\n",
      "287/287 [==============================] - 9s 30ms/step - loss: 0.1041 - mae: 0.2494 - val_loss: 0.1428 - val_mae: 0.2949\n",
      "Epoch 10/25\n",
      "287/287 [==============================] - 9s 30ms/step - loss: 0.1000 - mae: 0.2438 - val_loss: 0.1353 - val_mae: 0.2918\n",
      "Epoch 11/25\n",
      "287/287 [==============================] - 9s 30ms/step - loss: 0.0979 - mae: 0.2398 - val_loss: 0.1379 - val_mae: 0.2910\n",
      "Epoch 12/25\n",
      "287/287 [==============================] - 9s 30ms/step - loss: 0.0949 - mae: 0.2381 - val_loss: 0.1404 - val_mae: 0.2953\n",
      "Epoch 13/25\n",
      "287/287 [==============================] - 9s 30ms/step - loss: 0.0913 - mae: 0.2324 - val_loss: 0.1358 - val_mae: 0.2910\n",
      "Epoch 14/25\n",
      "287/287 [==============================] - 9s 31ms/step - loss: 0.0914 - mae: 0.2331 - val_loss: 0.1360 - val_mae: 0.2914\n",
      "Epoch 15/25\n",
      "287/287 [==============================] - 9s 31ms/step - loss: 0.0880 - mae: 0.2273 - val_loss: 0.1320 - val_mae: 0.2852\n",
      "Epoch 16/25\n",
      "287/287 [==============================] - 9s 31ms/step - loss: 0.0869 - mae: 0.2275 - val_loss: 0.1349 - val_mae: 0.2888\n",
      "Epoch 17/25\n",
      "287/287 [==============================] - 10s 33ms/step - loss: 0.0851 - mae: 0.2249 - val_loss: 0.1319 - val_mae: 0.2855\n",
      "Epoch 18/25\n",
      "287/287 [==============================] - 9s 31ms/step - loss: 0.0849 - mae: 0.2245 - val_loss: 0.1309 - val_mae: 0.2877\n",
      "Epoch 19/25\n",
      "287/287 [==============================] - 9s 31ms/step - loss: 0.0827 - mae: 0.2207 - val_loss: 0.1372 - val_mae: 0.2929\n",
      "Epoch 20/25\n",
      "287/287 [==============================] - 10s 35ms/step - loss: 0.0814 - mae: 0.2193 - val_loss: 0.1314 - val_mae: 0.2850\n",
      "Epoch 21/25\n",
      "287/287 [==============================] - 10s 33ms/step - loss: 0.0800 - mae: 0.2183 - val_loss: 0.1271 - val_mae: 0.2799\n",
      "Epoch 22/25\n",
      "287/287 [==============================] - 9s 31ms/step - loss: 0.0805 - mae: 0.2160 - val_loss: 0.1296 - val_mae: 0.2833\n",
      "Epoch 23/25\n",
      "287/287 [==============================] - 10s 33ms/step - loss: 0.0780 - mae: 0.2144 - val_loss: 0.1267 - val_mae: 0.2801\n",
      "Epoch 24/25\n",
      "287/287 [==============================] - 10s 36ms/step - loss: 0.0768 - mae: 0.2129 - val_loss: 0.1327 - val_mae: 0.2872\n",
      "Epoch 25/25\n",
      "287/287 [==============================] - 11s 37ms/step - loss: 0.0758 - mae: 0.2118 - val_loss: 0.1296 - val_mae: 0.2826\n",
      "30/30 [==============================] - 1s 26ms/step - loss: 0.2222 - mae: 0.3598\n"
     ]
    },
    {
     "data": {
      "text/html": [
       "<br/>Waiting for W&B process to finish, PID 12733<br/>Program failed with code 1.  Press ctrl-c to abort syncing."
      ],
      "text/plain": [
       "<IPython.core.display.HTML object>"
      ]
     },
     "metadata": {
      "tags": []
     },
     "output_type": "display_data"
    },
    {
     "data": {
      "application/vnd.jupyter.widget-view+json": {
       "model_id": "870af10c946d4e498569890a03fc5c00",
       "version_major": 2,
       "version_minor": 0
      },
      "text/plain": [
       "VBox(children=(Label(value=' 0.51MB of 0.51MB uploaded (0.00MB deduped)\\r'), FloatProgress(value=1.0, max=1.0)…"
      ]
     },
     "metadata": {
      "tags": []
     },
     "output_type": "display_data"
    },
    {
     "data": {
      "text/html": [
       "Find user logs for this run at: <code>/content/wandb/run-20210507_115216-y9a0z7pz/logs/debug.log</code>"
      ],
      "text/plain": [
       "<IPython.core.display.HTML object>"
      ]
     },
     "metadata": {
      "tags": []
     },
     "output_type": "display_data"
    },
    {
     "data": {
      "text/html": [
       "Find internal logs for this run at: <code>/content/wandb/run-20210507_115216-y9a0z7pz/logs/debug-internal.log</code>"
      ],
      "text/plain": [
       "<IPython.core.display.HTML object>"
      ]
     },
     "metadata": {
      "tags": []
     },
     "output_type": "display_data"
    },
    {
     "data": {
      "text/html": [
       "<h3>Run summary:</h3><br/><style>\n",
       "    table.wandb td:nth-child(1) { padding: 0 10px; text-align: right }\n",
       "    </style><table class=\"wandb\">\n",
       "<tr><td>epoch</td><td>24</td></tr><tr><td>loss</td><td>0.07556</td></tr><tr><td>mae</td><td>0.21125</td></tr><tr><td>val_loss</td><td>0.12964</td></tr><tr><td>val_mae</td><td>0.28257</td></tr><tr><td>_runtime</td><td>237</td></tr><tr><td>_timestamp</td><td>1620388573</td></tr><tr><td>_step</td><td>26</td></tr><tr><td>best_val_loss</td><td>0.12667</td></tr><tr><td>best_epoch</td><td>22</td></tr><tr><td>test_loss</td><td>0.22223</td></tr><tr><td>test_mae</td><td>0.35985</td></tr></table>"
      ],
      "text/plain": [
       "<IPython.core.display.HTML object>"
      ]
     },
     "metadata": {
      "tags": []
     },
     "output_type": "display_data"
    },
    {
     "data": {
      "text/html": [
       "<h3>Run history:</h3><br/><style>\n",
       "    table.wandb td:nth-child(1) { padding: 0 10px; text-align: right }\n",
       "    </style><table class=\"wandb\">\n",
       "<tr><td>epoch</td><td>▁▁▂▂▂▂▃▃▃▄▄▄▅▅▅▅▆▆▆▇▇▇▇██</td></tr><tr><td>loss</td><td>█▃▂▂▂▂▁▁▁▁▁▁▁▁▁▁▁▁▁▁▁▁▁▁▁</td></tr><tr><td>mae</td><td>█▄▃▂▂▂▂▂▂▂▁▁▁▁▁▁▁▁▁▁▁▁▁▁▁</td></tr><tr><td>val_loss</td><td>█▃▂▂▂▁▂▁▁▁▁▁▁▁▁▁▁▁▁▁▁▁▁▁▁</td></tr><tr><td>val_mae</td><td>█▃▂▃▂▂▂▁▁▁▁▁▁▁▁▁▁▁▁▁▁▁▁▁▁</td></tr><tr><td>_runtime</td><td>▁▁▂▂▂▂▃▃▃▄▄▄▄▅▅▅▅▆▆▆▇▇▇████</td></tr><tr><td>_timestamp</td><td>▁▁▂▂▂▂▃▃▃▄▄▄▄▅▅▅▅▆▆▆▇▇▇████</td></tr><tr><td>_step</td><td>▁▁▂▂▂▂▃▃▃▃▄▄▄▅▅▅▅▆▆▆▆▇▇▇▇██</td></tr><tr><td>test_loss</td><td>▁</td></tr><tr><td>test_mae</td><td>▁</td></tr></table><br/>"
      ],
      "text/plain": [
       "<IPython.core.display.HTML object>"
      ]
     },
     "metadata": {
      "tags": []
     },
     "output_type": "display_data"
    },
    {
     "data": {
      "text/html": [
       "Synced 5 W&B file(s), 1 media file(s), 0 artifact file(s) and 1 other file(s)"
      ],
      "text/plain": [
       "<IPython.core.display.HTML object>"
      ]
     },
     "metadata": {
      "tags": []
     },
     "output_type": "display_data"
    },
    {
     "data": {
      "text/html": [
       "\n",
       "                    <br/>Synced <strong style=\"color:#cdcd00\">royal-sweep-52</strong>: <a href=\"https://wandb.ai/nbvanting/thesis/runs/y9a0z7pz\" target=\"_blank\">https://wandb.ai/nbvanting/thesis/runs/y9a0z7pz</a><br/>\n",
       "                "
      ],
      "text/plain": [
       "<IPython.core.display.HTML object>"
      ]
     },
     "metadata": {
      "tags": []
     },
     "output_type": "display_data"
    },
    {
     "name": "stderr",
     "output_type": "stream",
     "text": [
      "Run y9a0z7pz errored: IndexError('list index out of range')\n",
      "\u001b[34m\u001b[1mwandb\u001b[0m: \u001b[32m\u001b[41mERROR\u001b[0m Run y9a0z7pz errored: IndexError('list index out of range')\n",
      "\u001b[34m\u001b[1mwandb\u001b[0m: Agent Starting Run: 7wnco6y8 with config:\n",
      "\u001b[34m\u001b[1mwandb\u001b[0m: \tactivation_cnn: relu\n",
      "\u001b[34m\u001b[1mwandb\u001b[0m: \tactivation_gru: tanh\n",
      "\u001b[34m\u001b[1mwandb\u001b[0m: \tbatch_size: 209\n",
      "\u001b[34m\u001b[1mwandb\u001b[0m: \tcnn_lay_2: False\n",
      "\u001b[34m\u001b[1mwandb\u001b[0m: \tcnn_lay_3: False\n",
      "\u001b[34m\u001b[1mwandb\u001b[0m: \tcnn_layer_size_1: 88\n",
      "\u001b[34m\u001b[1mwandb\u001b[0m: \tcnn_layer_size_2: 71\n",
      "\u001b[34m\u001b[1mwandb\u001b[0m: \tcnn_layer_size_3: 122\n",
      "\u001b[34m\u001b[1mwandb\u001b[0m: \tdataset: strib\n",
      "\u001b[34m\u001b[1mwandb\u001b[0m: \tdropout: 0.10727328652638862\n",
      "\u001b[34m\u001b[1mwandb\u001b[0m: \tepochs: 25\n",
      "\u001b[34m\u001b[1mwandb\u001b[0m: \tgru_lay_1: False\n",
      "\u001b[34m\u001b[1mwandb\u001b[0m: \tgru_lay_2: True\n",
      "\u001b[34m\u001b[1mwandb\u001b[0m: \tgru_layer_size_1: 219\n",
      "\u001b[34m\u001b[1mwandb\u001b[0m: \tgru_layer_size_2: 34\n",
      "\u001b[34m\u001b[1mwandb\u001b[0m: \tgru_layer_size_3: 33\n",
      "\u001b[34m\u001b[1mwandb\u001b[0m: \tkernelsize: 3\n",
      "\u001b[34m\u001b[1mwandb\u001b[0m: \tlearning_rate: 0.021740576834116496\n",
      "\u001b[34m\u001b[1mwandb\u001b[0m: \tlookback: 744\n",
      "\u001b[34m\u001b[1mwandb\u001b[0m: \tmomentum: 0.8349192446685972\n",
      "\u001b[34m\u001b[1mwandb\u001b[0m: \tnum_cnn_layers: 2\n",
      "\u001b[34m\u001b[1mwandb\u001b[0m: \tnum_features: 9\n",
      "\u001b[34m\u001b[1mwandb\u001b[0m: \tnum_gru_layers: 2\n",
      "\u001b[34m\u001b[1mwandb\u001b[0m: \toptimizer: sgd\n",
      "\u001b[34m\u001b[1mwandb\u001b[0m: \tsplitmethod: standard\n",
      "\u001b[34m\u001b[1mwandb\u001b[0m: \tsplitrate: 0.8\n",
      "\u001b[34m\u001b[1mwandb\u001b[0m: \u001b[33mWARNING\u001b[0m Ignored wandb.init() arg project when running a sweep\n"
     ]
    },
    {
     "data": {
      "text/html": [
       "\n",
       "                Tracking run with wandb version 0.10.29<br/>\n",
       "                Syncing run <strong style=\"color:#cdcd00\">fancy-sweep-53</strong> to <a href=\"https://wandb.ai\" target=\"_blank\">Weights & Biases</a> <a href=\"https://docs.wandb.com/integrations/jupyter.html\" target=\"_blank\">(Documentation)</a>.<br/>\n",
       "                Project page: <a href=\"https://wandb.ai/nbvanting/thesis\" target=\"_blank\">https://wandb.ai/nbvanting/thesis</a><br/>\n",
       "                Sweep page: <a href=\"https://wandb.ai/nbvanting/thesis/sweeps/xjdtj3eo\" target=\"_blank\">https://wandb.ai/nbvanting/thesis/sweeps/xjdtj3eo</a><br/>\n",
       "Run page: <a href=\"https://wandb.ai/nbvanting/thesis/runs/7wnco6y8\" target=\"_blank\">https://wandb.ai/nbvanting/thesis/runs/7wnco6y8</a><br/>\n",
       "                Run data is saved locally in <code>/content/wandb/run-20210507_115621-7wnco6y8</code><br/><br/>\n",
       "            "
      ],
      "text/plain": [
       "<IPython.core.display.HTML object>"
      ]
     },
     "metadata": {
      "tags": []
     },
     "output_type": "display_data"
    },
    {
     "name": "stderr",
     "output_type": "stream",
     "text": [
      "\u001b[34m\u001b[1mwandb\u001b[0m: Ctrl + C detected. Stopping sweep.\n"
     ]
    }
   ],
   "source": [
    "wandb.agent(sweep_id, function=run_tuner, count=50)"
   ]
  },
  {
   "cell_type": "code",
   "execution_count": 16,
   "metadata": {
    "executionInfo": {
     "elapsed": 1144,
     "status": "ok",
     "timestamp": 1620388599972,
     "user": {
      "displayName": "Nicolai Vanting",
      "photoUrl": "https://lh3.googleusercontent.com/a-/AOh14GiWnEEuOWbZS-OaQ39dImSUs4aeCCg6eT_9I5cKsA=s64",
      "userId": "06389002382871165024"
     },
     "user_tz": -120
    },
    "id": "cLPZsMlL39CB"
   },
   "outputs": [],
   "source": [
    "wandb.finish()"
   ]
  },
  {
   "cell_type": "code",
   "execution_count": null,
   "metadata": {
    "id": "5whirsC-3-g5"
   },
   "outputs": [],
   "source": []
  }
 ],
 "metadata": {
  "accelerator": "GPU",
  "colab": {
   "authorship_tag": "ABX9TyODRtOG6T2cRTWApflIPs9l",
   "collapsed_sections": [],
   "mount_file_id": "1WgWFGoO5kj5orm2QoiaiKIKJgkl-tCxH",
   "name": "Thesis - Sweep Run.ipynb",
   "provenance": []
  },
  "kernelspec": {
   "display_name": "Python 3",
   "language": "python",
   "name": "python3"
  },
  "language_info": {
   "codemirror_mode": {
    "name": "ipython",
    "version": 3
   },
   "file_extension": ".py",
   "mimetype": "text/x-python",
   "name": "python",
   "nbconvert_exporter": "python",
   "pygments_lexer": "ipython3",
   "version": "3.8.3"
  },
  "widgets": {
   "application/vnd.jupyter.widget-state+json": {
    "005ef95818cf4ff4b6f9ed57d3a5979e": {
     "model_module": "@jupyter-widgets/base",
     "model_name": "LayoutModel",
     "state": {
      "_model_module": "@jupyter-widgets/base",
      "_model_module_version": "1.2.0",
      "_model_name": "LayoutModel",
      "_view_count": null,
      "_view_module": "@jupyter-widgets/base",
      "_view_module_version": "1.2.0",
      "_view_name": "LayoutView",
      "align_content": null,
      "align_items": null,
      "align_self": null,
      "border": null,
      "bottom": null,
      "display": null,
      "flex": null,
      "flex_flow": null,
      "grid_area": null,
      "grid_auto_columns": null,
      "grid_auto_flow": null,
      "grid_auto_rows": null,
      "grid_column": null,
      "grid_gap": null,
      "grid_row": null,
      "grid_template_areas": null,
      "grid_template_columns": null,
      "grid_template_rows": null,
      "height": null,
      "justify_content": null,
      "justify_items": null,
      "left": null,
      "margin": null,
      "max_height": null,
      "max_width": null,
      "min_height": null,
      "min_width": null,
      "object_fit": null,
      "object_position": null,
      "order": null,
      "overflow": null,
      "overflow_x": null,
      "overflow_y": null,
      "padding": null,
      "right": null,
      "top": null,
      "visibility": null,
      "width": null
     }
    },
    "006ab2005a30406d8b7e7f101a22e016": {
     "model_module": "@jupyter-widgets/base",
     "model_name": "LayoutModel",
     "state": {
      "_model_module": "@jupyter-widgets/base",
      "_model_module_version": "1.2.0",
      "_model_name": "LayoutModel",
      "_view_count": null,
      "_view_module": "@jupyter-widgets/base",
      "_view_module_version": "1.2.0",
      "_view_name": "LayoutView",
      "align_content": null,
      "align_items": null,
      "align_self": null,
      "border": null,
      "bottom": null,
      "display": null,
      "flex": null,
      "flex_flow": null,
      "grid_area": null,
      "grid_auto_columns": null,
      "grid_auto_flow": null,
      "grid_auto_rows": null,
      "grid_column": null,
      "grid_gap": null,
      "grid_row": null,
      "grid_template_areas": null,
      "grid_template_columns": null,
      "grid_template_rows": null,
      "height": null,
      "justify_content": null,
      "justify_items": null,
      "left": null,
      "margin": null,
      "max_height": null,
      "max_width": null,
      "min_height": null,
      "min_width": null,
      "object_fit": null,
      "object_position": null,
      "order": null,
      "overflow": null,
      "overflow_x": null,
      "overflow_y": null,
      "padding": null,
      "right": null,
      "top": null,
      "visibility": null,
      "width": null
     }
    },
    "00a329e73e7d47c4aadadd929161e485": {
     "model_module": "@jupyter-widgets/controls",
     "model_name": "ProgressStyleModel",
     "state": {
      "_model_module": "@jupyter-widgets/controls",
      "_model_module_version": "1.5.0",
      "_model_name": "ProgressStyleModel",
      "_view_count": null,
      "_view_module": "@jupyter-widgets/base",
      "_view_module_version": "1.2.0",
      "_view_name": "StyleView",
      "bar_color": null,
      "description_width": ""
     }
    },
    "0111c8345add4144a2fcee27d8a94469": {
     "model_module": "@jupyter-widgets/controls",
     "model_name": "LabelModel",
     "state": {
      "_dom_classes": [],
      "_model_module": "@jupyter-widgets/controls",
      "_model_module_version": "1.5.0",
      "_model_name": "LabelModel",
      "_view_count": null,
      "_view_module": "@jupyter-widgets/controls",
      "_view_module_version": "1.5.0",
      "_view_name": "LabelView",
      "description": "",
      "description_tooltip": null,
      "layout": "IPY_MODEL_6e54be3024274f0fb2bcbf416faa9514",
      "placeholder": "​",
      "style": "IPY_MODEL_aa43ec039c434750a3993059e2ec2471",
      "value": " 0.20MB of 0.20MB uploaded (0.00MB deduped)\r"
     }
    },
    "01e9ab47b2f440b197cb196405dae3c7": {
     "model_module": "@jupyter-widgets/controls",
     "model_name": "VBoxModel",
     "state": {
      "_dom_classes": [],
      "_model_module": "@jupyter-widgets/controls",
      "_model_module_version": "1.5.0",
      "_model_name": "VBoxModel",
      "_view_count": null,
      "_view_module": "@jupyter-widgets/controls",
      "_view_module_version": "1.5.0",
      "_view_name": "VBoxView",
      "box_style": "",
      "children": [
       "IPY_MODEL_32b2cc76421e402bae744f8fe0e8bdcb",
       "IPY_MODEL_4f09b611e1fb4096b4e406d039f6c5f6"
      ],
      "layout": "IPY_MODEL_93d4bb405840493aa5b880c16fd64c38"
     }
    },
    "0211aa281e3c40e18f4e124e2c5e8fc9": {
     "model_module": "@jupyter-widgets/controls",
     "model_name": "FloatProgressModel",
     "state": {
      "_dom_classes": [],
      "_model_module": "@jupyter-widgets/controls",
      "_model_module_version": "1.5.0",
      "_model_name": "FloatProgressModel",
      "_view_count": null,
      "_view_module": "@jupyter-widgets/controls",
      "_view_module_version": "1.5.0",
      "_view_name": "ProgressView",
      "bar_style": "",
      "description": "",
      "description_tooltip": null,
      "layout": "IPY_MODEL_c0d82eef034343f8a7d2cbc98ee1fa2e",
      "max": 1,
      "min": 0,
      "orientation": "horizontal",
      "style": "IPY_MODEL_75859b0a222c4eea8b555e888837b8ed",
      "value": 1
     }
    },
    "02f07bc4585243b1b8cc487c2869e60b": {
     "model_module": "@jupyter-widgets/base",
     "model_name": "LayoutModel",
     "state": {
      "_model_module": "@jupyter-widgets/base",
      "_model_module_version": "1.2.0",
      "_model_name": "LayoutModel",
      "_view_count": null,
      "_view_module": "@jupyter-widgets/base",
      "_view_module_version": "1.2.0",
      "_view_name": "LayoutView",
      "align_content": null,
      "align_items": null,
      "align_self": null,
      "border": null,
      "bottom": null,
      "display": null,
      "flex": null,
      "flex_flow": null,
      "grid_area": null,
      "grid_auto_columns": null,
      "grid_auto_flow": null,
      "grid_auto_rows": null,
      "grid_column": null,
      "grid_gap": null,
      "grid_row": null,
      "grid_template_areas": null,
      "grid_template_columns": null,
      "grid_template_rows": null,
      "height": null,
      "justify_content": null,
      "justify_items": null,
      "left": null,
      "margin": null,
      "max_height": null,
      "max_width": null,
      "min_height": null,
      "min_width": null,
      "object_fit": null,
      "object_position": null,
      "order": null,
      "overflow": null,
      "overflow_x": null,
      "overflow_y": null,
      "padding": null,
      "right": null,
      "top": null,
      "visibility": null,
      "width": null
     }
    },
    "035dbc0d1b3547fcbab95238c3bf5bed": {
     "model_module": "@jupyter-widgets/base",
     "model_name": "LayoutModel",
     "state": {
      "_model_module": "@jupyter-widgets/base",
      "_model_module_version": "1.2.0",
      "_model_name": "LayoutModel",
      "_view_count": null,
      "_view_module": "@jupyter-widgets/base",
      "_view_module_version": "1.2.0",
      "_view_name": "LayoutView",
      "align_content": null,
      "align_items": null,
      "align_self": null,
      "border": null,
      "bottom": null,
      "display": null,
      "flex": null,
      "flex_flow": null,
      "grid_area": null,
      "grid_auto_columns": null,
      "grid_auto_flow": null,
      "grid_auto_rows": null,
      "grid_column": null,
      "grid_gap": null,
      "grid_row": null,
      "grid_template_areas": null,
      "grid_template_columns": null,
      "grid_template_rows": null,
      "height": null,
      "justify_content": null,
      "justify_items": null,
      "left": null,
      "margin": null,
      "max_height": null,
      "max_width": null,
      "min_height": null,
      "min_width": null,
      "object_fit": null,
      "object_position": null,
      "order": null,
      "overflow": null,
      "overflow_x": null,
      "overflow_y": null,
      "padding": null,
      "right": null,
      "top": null,
      "visibility": null,
      "width": null
     }
    },
    "03681345320944cc8179c4920f6d62a7": {
     "model_module": "@jupyter-widgets/controls",
     "model_name": "LabelModel",
     "state": {
      "_dom_classes": [],
      "_model_module": "@jupyter-widgets/controls",
      "_model_module_version": "1.5.0",
      "_model_name": "LabelModel",
      "_view_count": null,
      "_view_module": "@jupyter-widgets/controls",
      "_view_module_version": "1.5.0",
      "_view_name": "LabelView",
      "description": "",
      "description_tooltip": null,
      "layout": "IPY_MODEL_60017f7c91fe4daeab94cd23140565d5",
      "placeholder": "​",
      "style": "IPY_MODEL_6edce6f4298f4252ace09e879969dddf",
      "value": " 2.39MB of 2.39MB uploaded (0.00MB deduped)\r"
     }
    },
    "03a56b9587e645d0b39e3e672f0f7807": {
     "model_module": "@jupyter-widgets/controls",
     "model_name": "FloatProgressModel",
     "state": {
      "_dom_classes": [],
      "_model_module": "@jupyter-widgets/controls",
      "_model_module_version": "1.5.0",
      "_model_name": "FloatProgressModel",
      "_view_count": null,
      "_view_module": "@jupyter-widgets/controls",
      "_view_module_version": "1.5.0",
      "_view_name": "ProgressView",
      "bar_style": "",
      "description": "",
      "description_tooltip": null,
      "layout": "IPY_MODEL_1e3744dd12d646e8a241efe4e2d94770",
      "max": 1,
      "min": 0,
      "orientation": "horizontal",
      "style": "IPY_MODEL_2a6b53f0bba246fa94e615660f1be028",
      "value": 1
     }
    },
    "03d23c7bc0f541c39e478e80c97dad72": {
     "model_module": "@jupyter-widgets/controls",
     "model_name": "DescriptionStyleModel",
     "state": {
      "_model_module": "@jupyter-widgets/controls",
      "_model_module_version": "1.5.0",
      "_model_name": "DescriptionStyleModel",
      "_view_count": null,
      "_view_module": "@jupyter-widgets/base",
      "_view_module_version": "1.2.0",
      "_view_name": "StyleView",
      "description_width": ""
     }
    },
    "046723a9aaec42cb9349fb463cff4b96": {
     "model_module": "@jupyter-widgets/base",
     "model_name": "LayoutModel",
     "state": {
      "_model_module": "@jupyter-widgets/base",
      "_model_module_version": "1.2.0",
      "_model_name": "LayoutModel",
      "_view_count": null,
      "_view_module": "@jupyter-widgets/base",
      "_view_module_version": "1.2.0",
      "_view_name": "LayoutView",
      "align_content": null,
      "align_items": null,
      "align_self": null,
      "border": null,
      "bottom": null,
      "display": null,
      "flex": null,
      "flex_flow": null,
      "grid_area": null,
      "grid_auto_columns": null,
      "grid_auto_flow": null,
      "grid_auto_rows": null,
      "grid_column": null,
      "grid_gap": null,
      "grid_row": null,
      "grid_template_areas": null,
      "grid_template_columns": null,
      "grid_template_rows": null,
      "height": null,
      "justify_content": null,
      "justify_items": null,
      "left": null,
      "margin": null,
      "max_height": null,
      "max_width": null,
      "min_height": null,
      "min_width": null,
      "object_fit": null,
      "object_position": null,
      "order": null,
      "overflow": null,
      "overflow_x": null,
      "overflow_y": null,
      "padding": null,
      "right": null,
      "top": null,
      "visibility": null,
      "width": null
     }
    },
    "046de15aeeb8451cb6d6647bf17293d0": {
     "model_module": "@jupyter-widgets/controls",
     "model_name": "FloatProgressModel",
     "state": {
      "_dom_classes": [],
      "_model_module": "@jupyter-widgets/controls",
      "_model_module_version": "1.5.0",
      "_model_name": "FloatProgressModel",
      "_view_count": null,
      "_view_module": "@jupyter-widgets/controls",
      "_view_module_version": "1.5.0",
      "_view_name": "ProgressView",
      "bar_style": "",
      "description": "",
      "description_tooltip": null,
      "layout": "IPY_MODEL_ea0b24840b77482f8ff21bc54dee092f",
      "max": 1,
      "min": 0,
      "orientation": "horizontal",
      "style": "IPY_MODEL_1de7f6c25f2344c1b5cdb723796b90b9",
      "value": 1
     }
    },
    "055d0e565bd5421db4a73da1d47afbf8": {
     "model_module": "@jupyter-widgets/base",
     "model_name": "LayoutModel",
     "state": {
      "_model_module": "@jupyter-widgets/base",
      "_model_module_version": "1.2.0",
      "_model_name": "LayoutModel",
      "_view_count": null,
      "_view_module": "@jupyter-widgets/base",
      "_view_module_version": "1.2.0",
      "_view_name": "LayoutView",
      "align_content": null,
      "align_items": null,
      "align_self": null,
      "border": null,
      "bottom": null,
      "display": null,
      "flex": null,
      "flex_flow": null,
      "grid_area": null,
      "grid_auto_columns": null,
      "grid_auto_flow": null,
      "grid_auto_rows": null,
      "grid_column": null,
      "grid_gap": null,
      "grid_row": null,
      "grid_template_areas": null,
      "grid_template_columns": null,
      "grid_template_rows": null,
      "height": null,
      "justify_content": null,
      "justify_items": null,
      "left": null,
      "margin": null,
      "max_height": null,
      "max_width": null,
      "min_height": null,
      "min_width": null,
      "object_fit": null,
      "object_position": null,
      "order": null,
      "overflow": null,
      "overflow_x": null,
      "overflow_y": null,
      "padding": null,
      "right": null,
      "top": null,
      "visibility": null,
      "width": null
     }
    },
    "07790538ff3c4f09b37d8eeaf850c85e": {
     "model_module": "@jupyter-widgets/controls",
     "model_name": "DescriptionStyleModel",
     "state": {
      "_model_module": "@jupyter-widgets/controls",
      "_model_module_version": "1.5.0",
      "_model_name": "DescriptionStyleModel",
      "_view_count": null,
      "_view_module": "@jupyter-widgets/base",
      "_view_module_version": "1.2.0",
      "_view_name": "StyleView",
      "description_width": ""
     }
    },
    "085678228011499cb3231114b36e6997": {
     "model_module": "@jupyter-widgets/controls",
     "model_name": "DescriptionStyleModel",
     "state": {
      "_model_module": "@jupyter-widgets/controls",
      "_model_module_version": "1.5.0",
      "_model_name": "DescriptionStyleModel",
      "_view_count": null,
      "_view_module": "@jupyter-widgets/base",
      "_view_module_version": "1.2.0",
      "_view_name": "StyleView",
      "description_width": ""
     }
    },
    "09f8d1ab771046f9a5336f926544a9f1": {
     "model_module": "@jupyter-widgets/controls",
     "model_name": "ProgressStyleModel",
     "state": {
      "_model_module": "@jupyter-widgets/controls",
      "_model_module_version": "1.5.0",
      "_model_name": "ProgressStyleModel",
      "_view_count": null,
      "_view_module": "@jupyter-widgets/base",
      "_view_module_version": "1.2.0",
      "_view_name": "StyleView",
      "bar_color": null,
      "description_width": ""
     }
    },
    "0b6ef4fb154b4934866e6b28eb522b13": {
     "model_module": "@jupyter-widgets/controls",
     "model_name": "ProgressStyleModel",
     "state": {
      "_model_module": "@jupyter-widgets/controls",
      "_model_module_version": "1.5.0",
      "_model_name": "ProgressStyleModel",
      "_view_count": null,
      "_view_module": "@jupyter-widgets/base",
      "_view_module_version": "1.2.0",
      "_view_name": "StyleView",
      "bar_color": null,
      "description_width": ""
     }
    },
    "0e5fc74e88c24d669290207693b697d0": {
     "model_module": "@jupyter-widgets/controls",
     "model_name": "FloatProgressModel",
     "state": {
      "_dom_classes": [],
      "_model_module": "@jupyter-widgets/controls",
      "_model_module_version": "1.5.0",
      "_model_name": "FloatProgressModel",
      "_view_count": null,
      "_view_module": "@jupyter-widgets/controls",
      "_view_module_version": "1.5.0",
      "_view_name": "ProgressView",
      "bar_style": "",
      "description": "",
      "description_tooltip": null,
      "layout": "IPY_MODEL_445e275d8451465b9fe25b745236d66d",
      "max": 1,
      "min": 0,
      "orientation": "horizontal",
      "style": "IPY_MODEL_abcaa626952b48349889e91cea61c5e0",
      "value": 1
     }
    },
    "0f07de4486124c62b709de89749442a4": {
     "model_module": "@jupyter-widgets/controls",
     "model_name": "VBoxModel",
     "state": {
      "_dom_classes": [],
      "_model_module": "@jupyter-widgets/controls",
      "_model_module_version": "1.5.0",
      "_model_name": "VBoxModel",
      "_view_count": null,
      "_view_module": "@jupyter-widgets/controls",
      "_view_module_version": "1.5.0",
      "_view_name": "VBoxView",
      "box_style": "",
      "children": [
       "IPY_MODEL_2e40677b3b094c3aaefbd8c86dd6c8cd",
       "IPY_MODEL_56856a4cae144cff9baab2641a4f94c6"
      ],
      "layout": "IPY_MODEL_fd31af82346744a1ba77123c9955728b"
     }
    },
    "0f3248e62e664751b98e1aeb783b2ef3": {
     "model_module": "@jupyter-widgets/controls",
     "model_name": "VBoxModel",
     "state": {
      "_dom_classes": [],
      "_model_module": "@jupyter-widgets/controls",
      "_model_module_version": "1.5.0",
      "_model_name": "VBoxModel",
      "_view_count": null,
      "_view_module": "@jupyter-widgets/controls",
      "_view_module_version": "1.5.0",
      "_view_name": "VBoxView",
      "box_style": "",
      "children": [
       "IPY_MODEL_d9f091d3492342238c313f41bf76c17f",
       "IPY_MODEL_0211aa281e3c40e18f4e124e2c5e8fc9"
      ],
      "layout": "IPY_MODEL_eee35d3d2a5b47269f6e6fa4a94cd679"
     }
    },
    "0f95e19abb444c288d90ce6e9e94307d": {
     "model_module": "@jupyter-widgets/base",
     "model_name": "LayoutModel",
     "state": {
      "_model_module": "@jupyter-widgets/base",
      "_model_module_version": "1.2.0",
      "_model_name": "LayoutModel",
      "_view_count": null,
      "_view_module": "@jupyter-widgets/base",
      "_view_module_version": "1.2.0",
      "_view_name": "LayoutView",
      "align_content": null,
      "align_items": null,
      "align_self": null,
      "border": null,
      "bottom": null,
      "display": null,
      "flex": null,
      "flex_flow": null,
      "grid_area": null,
      "grid_auto_columns": null,
      "grid_auto_flow": null,
      "grid_auto_rows": null,
      "grid_column": null,
      "grid_gap": null,
      "grid_row": null,
      "grid_template_areas": null,
      "grid_template_columns": null,
      "grid_template_rows": null,
      "height": null,
      "justify_content": null,
      "justify_items": null,
      "left": null,
      "margin": null,
      "max_height": null,
      "max_width": null,
      "min_height": null,
      "min_width": null,
      "object_fit": null,
      "object_position": null,
      "order": null,
      "overflow": null,
      "overflow_x": null,
      "overflow_y": null,
      "padding": null,
      "right": null,
      "top": null,
      "visibility": null,
      "width": null
     }
    },
    "110bb900b0fc48fb9bfcc9c5c814bb10": {
     "model_module": "@jupyter-widgets/controls",
     "model_name": "VBoxModel",
     "state": {
      "_dom_classes": [],
      "_model_module": "@jupyter-widgets/controls",
      "_model_module_version": "1.5.0",
      "_model_name": "VBoxModel",
      "_view_count": null,
      "_view_module": "@jupyter-widgets/controls",
      "_view_module_version": "1.5.0",
      "_view_name": "VBoxView",
      "box_style": "",
      "children": [
       "IPY_MODEL_57e5000240ed4b9abd0cfc492f60395a",
       "IPY_MODEL_a603be1dd74d41cba7a00485c26107cc"
      ],
      "layout": "IPY_MODEL_192aa2d0dd1e4addbe5bf1cdea75f30e"
     }
    },
    "11f334f357e84ab7ae6b460511e6d259": {
     "model_module": "@jupyter-widgets/controls",
     "model_name": "FloatProgressModel",
     "state": {
      "_dom_classes": [],
      "_model_module": "@jupyter-widgets/controls",
      "_model_module_version": "1.5.0",
      "_model_name": "FloatProgressModel",
      "_view_count": null,
      "_view_module": "@jupyter-widgets/controls",
      "_view_module_version": "1.5.0",
      "_view_name": "ProgressView",
      "bar_style": "",
      "description": "",
      "description_tooltip": null,
      "layout": "IPY_MODEL_7c92452272254272b95a8f073e8cfbea",
      "max": 1,
      "min": 0,
      "orientation": "horizontal",
      "style": "IPY_MODEL_dfd017d91d474d76b0a1cec718d379c2",
      "value": 1
     }
    },
    "1248bad45abe40d1b251600aedb59c13": {
     "model_module": "@jupyter-widgets/controls",
     "model_name": "VBoxModel",
     "state": {
      "_dom_classes": [],
      "_model_module": "@jupyter-widgets/controls",
      "_model_module_version": "1.5.0",
      "_model_name": "VBoxModel",
      "_view_count": null,
      "_view_module": "@jupyter-widgets/controls",
      "_view_module_version": "1.5.0",
      "_view_name": "VBoxView",
      "box_style": "",
      "children": [
       "IPY_MODEL_bc7e12732a1d4a49a9fb3eb08c623554",
       "IPY_MODEL_4bace665f7e94fdcb3045492baf1ca94"
      ],
      "layout": "IPY_MODEL_d7481241f1b2423e8647ae11bdeda6eb"
     }
    },
    "12de5a8be3ea474b805929af54a125c4": {
     "model_module": "@jupyter-widgets/controls",
     "model_name": "LabelModel",
     "state": {
      "_dom_classes": [],
      "_model_module": "@jupyter-widgets/controls",
      "_model_module_version": "1.5.0",
      "_model_name": "LabelModel",
      "_view_count": null,
      "_view_module": "@jupyter-widgets/controls",
      "_view_module_version": "1.5.0",
      "_view_name": "LabelView",
      "description": "",
      "description_tooltip": null,
      "layout": "IPY_MODEL_b04f2589cb564afe89b18aae10028d85",
      "placeholder": "​",
      "style": "IPY_MODEL_085678228011499cb3231114b36e6997",
      "value": " 1.69MB of 1.69MB uploaded (0.00MB deduped)\r"
     }
    },
    "12fcc164d84b4fcdbcb16a45b7261a43": {
     "model_module": "@jupyter-widgets/controls",
     "model_name": "ProgressStyleModel",
     "state": {
      "_model_module": "@jupyter-widgets/controls",
      "_model_module_version": "1.5.0",
      "_model_name": "ProgressStyleModel",
      "_view_count": null,
      "_view_module": "@jupyter-widgets/base",
      "_view_module_version": "1.2.0",
      "_view_name": "StyleView",
      "bar_color": null,
      "description_width": ""
     }
    },
    "130cf36e247749d6a4b0a4a47e00798c": {
     "model_module": "@jupyter-widgets/controls",
     "model_name": "ProgressStyleModel",
     "state": {
      "_model_module": "@jupyter-widgets/controls",
      "_model_module_version": "1.5.0",
      "_model_name": "ProgressStyleModel",
      "_view_count": null,
      "_view_module": "@jupyter-widgets/base",
      "_view_module_version": "1.2.0",
      "_view_name": "StyleView",
      "bar_color": null,
      "description_width": ""
     }
    },
    "131ceaa801d04db79950ff97207da3dc": {
     "model_module": "@jupyter-widgets/controls",
     "model_name": "LabelModel",
     "state": {
      "_dom_classes": [],
      "_model_module": "@jupyter-widgets/controls",
      "_model_module_version": "1.5.0",
      "_model_name": "LabelModel",
      "_view_count": null,
      "_view_module": "@jupyter-widgets/controls",
      "_view_module_version": "1.5.0",
      "_view_name": "LabelView",
      "description": "",
      "description_tooltip": null,
      "layout": "IPY_MODEL_a2acf69d3e5841ee89ded138c59b5011",
      "placeholder": "​",
      "style": "IPY_MODEL_3c4faa613ca94e54bb439e34ea007564",
      "value": " 4.21MB of 4.21MB uploaded (0.00MB deduped)\r"
     }
    },
    "13604f4131b24547b9a4107c1bf86b7b": {
     "model_module": "@jupyter-widgets/controls",
     "model_name": "FloatProgressModel",
     "state": {
      "_dom_classes": [],
      "_model_module": "@jupyter-widgets/controls",
      "_model_module_version": "1.5.0",
      "_model_name": "FloatProgressModel",
      "_view_count": null,
      "_view_module": "@jupyter-widgets/controls",
      "_view_module_version": "1.5.0",
      "_view_name": "ProgressView",
      "bar_style": "",
      "description": "",
      "description_tooltip": null,
      "layout": "IPY_MODEL_5504090a87bb44a8a2ff43dbad25193f",
      "max": 1,
      "min": 0,
      "orientation": "horizontal",
      "style": "IPY_MODEL_60e281e1dc244a2da21001d9282ce503",
      "value": 1
     }
    },
    "13efde36998b4b6e8fbfb53d19425f60": {
     "model_module": "@jupyter-widgets/controls",
     "model_name": "FloatProgressModel",
     "state": {
      "_dom_classes": [],
      "_model_module": "@jupyter-widgets/controls",
      "_model_module_version": "1.5.0",
      "_model_name": "FloatProgressModel",
      "_view_count": null,
      "_view_module": "@jupyter-widgets/controls",
      "_view_module_version": "1.5.0",
      "_view_name": "ProgressView",
      "bar_style": "",
      "description": "",
      "description_tooltip": null,
      "layout": "IPY_MODEL_31331d6acf574d62871fcc8420ca7ca0",
      "max": 1,
      "min": 0,
      "orientation": "horizontal",
      "style": "IPY_MODEL_ce71ab875fa24c59bae1a23f90582bf4",
      "value": 1
     }
    },
    "15bcb1138ce84eb3b5bc4bb42a6e0d0d": {
     "model_module": "@jupyter-widgets/base",
     "model_name": "LayoutModel",
     "state": {
      "_model_module": "@jupyter-widgets/base",
      "_model_module_version": "1.2.0",
      "_model_name": "LayoutModel",
      "_view_count": null,
      "_view_module": "@jupyter-widgets/base",
      "_view_module_version": "1.2.0",
      "_view_name": "LayoutView",
      "align_content": null,
      "align_items": null,
      "align_self": null,
      "border": null,
      "bottom": null,
      "display": null,
      "flex": null,
      "flex_flow": null,
      "grid_area": null,
      "grid_auto_columns": null,
      "grid_auto_flow": null,
      "grid_auto_rows": null,
      "grid_column": null,
      "grid_gap": null,
      "grid_row": null,
      "grid_template_areas": null,
      "grid_template_columns": null,
      "grid_template_rows": null,
      "height": null,
      "justify_content": null,
      "justify_items": null,
      "left": null,
      "margin": null,
      "max_height": null,
      "max_width": null,
      "min_height": null,
      "min_width": null,
      "object_fit": null,
      "object_position": null,
      "order": null,
      "overflow": null,
      "overflow_x": null,
      "overflow_y": null,
      "padding": null,
      "right": null,
      "top": null,
      "visibility": null,
      "width": null
     }
    },
    "168dc230462848e4a18352482ab085e0": {
     "model_module": "@jupyter-widgets/controls",
     "model_name": "FloatProgressModel",
     "state": {
      "_dom_classes": [],
      "_model_module": "@jupyter-widgets/controls",
      "_model_module_version": "1.5.0",
      "_model_name": "FloatProgressModel",
      "_view_count": null,
      "_view_module": "@jupyter-widgets/controls",
      "_view_module_version": "1.5.0",
      "_view_name": "ProgressView",
      "bar_style": "",
      "description": "",
      "description_tooltip": null,
      "layout": "IPY_MODEL_390b7906874f4841afe4de744cd6225c",
      "max": 1,
      "min": 0,
      "orientation": "horizontal",
      "style": "IPY_MODEL_d81ed9e4b2334940a755ab22c5efb217",
      "value": 1
     }
    },
    "16df411f935a4239b0f266fd65c7f680": {
     "model_module": "@jupyter-widgets/controls",
     "model_name": "VBoxModel",
     "state": {
      "_dom_classes": [],
      "_model_module": "@jupyter-widgets/controls",
      "_model_module_version": "1.5.0",
      "_model_name": "VBoxModel",
      "_view_count": null,
      "_view_module": "@jupyter-widgets/controls",
      "_view_module_version": "1.5.0",
      "_view_name": "VBoxView",
      "box_style": "",
      "children": [
       "IPY_MODEL_2a672ad8ad0d44328a01ce07a4cecf76",
       "IPY_MODEL_184c2422e24d4f64a444062830a279a6"
      ],
      "layout": "IPY_MODEL_7b22747b327944f0846f43658d2c22e0"
     }
    },
    "1724d135d8764f9d93ae70afd58e0884": {
     "model_module": "@jupyter-widgets/controls",
     "model_name": "FloatProgressModel",
     "state": {
      "_dom_classes": [],
      "_model_module": "@jupyter-widgets/controls",
      "_model_module_version": "1.5.0",
      "_model_name": "FloatProgressModel",
      "_view_count": null,
      "_view_module": "@jupyter-widgets/controls",
      "_view_module_version": "1.5.0",
      "_view_name": "ProgressView",
      "bar_style": "",
      "description": "",
      "description_tooltip": null,
      "layout": "IPY_MODEL_33f74fb3836f402785f8222f27a379de",
      "max": 1,
      "min": 0,
      "orientation": "horizontal",
      "style": "IPY_MODEL_4497eef1ad8846c8882a94ffc1ecd41b",
      "value": 1
     }
    },
    "180eec7f68f744799076ec8803325dd8": {
     "model_module": "@jupyter-widgets/controls",
     "model_name": "FloatProgressModel",
     "state": {
      "_dom_classes": [],
      "_model_module": "@jupyter-widgets/controls",
      "_model_module_version": "1.5.0",
      "_model_name": "FloatProgressModel",
      "_view_count": null,
      "_view_module": "@jupyter-widgets/controls",
      "_view_module_version": "1.5.0",
      "_view_name": "ProgressView",
      "bar_style": "",
      "description": "",
      "description_tooltip": null,
      "layout": "IPY_MODEL_2c2c2b3ff5574dcba3da25f71d676f24",
      "max": 1,
      "min": 0,
      "orientation": "horizontal",
      "style": "IPY_MODEL_b60569d8ba0443d1ba67b89879c5127c",
      "value": 1
     }
    },
    "184c2422e24d4f64a444062830a279a6": {
     "model_module": "@jupyter-widgets/controls",
     "model_name": "FloatProgressModel",
     "state": {
      "_dom_classes": [],
      "_model_module": "@jupyter-widgets/controls",
      "_model_module_version": "1.5.0",
      "_model_name": "FloatProgressModel",
      "_view_count": null,
      "_view_module": "@jupyter-widgets/controls",
      "_view_module_version": "1.5.0",
      "_view_name": "ProgressView",
      "bar_style": "",
      "description": "",
      "description_tooltip": null,
      "layout": "IPY_MODEL_7a14ffc85f0846259a219cd107d43be6",
      "max": 1,
      "min": 0,
      "orientation": "horizontal",
      "style": "IPY_MODEL_130cf36e247749d6a4b0a4a47e00798c",
      "value": 1
     }
    },
    "18fda9594e5b4876b14426da2483d4e0": {
     "model_module": "@jupyter-widgets/base",
     "model_name": "LayoutModel",
     "state": {
      "_model_module": "@jupyter-widgets/base",
      "_model_module_version": "1.2.0",
      "_model_name": "LayoutModel",
      "_view_count": null,
      "_view_module": "@jupyter-widgets/base",
      "_view_module_version": "1.2.0",
      "_view_name": "LayoutView",
      "align_content": null,
      "align_items": null,
      "align_self": null,
      "border": null,
      "bottom": null,
      "display": null,
      "flex": null,
      "flex_flow": null,
      "grid_area": null,
      "grid_auto_columns": null,
      "grid_auto_flow": null,
      "grid_auto_rows": null,
      "grid_column": null,
      "grid_gap": null,
      "grid_row": null,
      "grid_template_areas": null,
      "grid_template_columns": null,
      "grid_template_rows": null,
      "height": null,
      "justify_content": null,
      "justify_items": null,
      "left": null,
      "margin": null,
      "max_height": null,
      "max_width": null,
      "min_height": null,
      "min_width": null,
      "object_fit": null,
      "object_position": null,
      "order": null,
      "overflow": null,
      "overflow_x": null,
      "overflow_y": null,
      "padding": null,
      "right": null,
      "top": null,
      "visibility": null,
      "width": null
     }
    },
    "192aa2d0dd1e4addbe5bf1cdea75f30e": {
     "model_module": "@jupyter-widgets/base",
     "model_name": "LayoutModel",
     "state": {
      "_model_module": "@jupyter-widgets/base",
      "_model_module_version": "1.2.0",
      "_model_name": "LayoutModel",
      "_view_count": null,
      "_view_module": "@jupyter-widgets/base",
      "_view_module_version": "1.2.0",
      "_view_name": "LayoutView",
      "align_content": null,
      "align_items": null,
      "align_self": null,
      "border": null,
      "bottom": null,
      "display": null,
      "flex": null,
      "flex_flow": null,
      "grid_area": null,
      "grid_auto_columns": null,
      "grid_auto_flow": null,
      "grid_auto_rows": null,
      "grid_column": null,
      "grid_gap": null,
      "grid_row": null,
      "grid_template_areas": null,
      "grid_template_columns": null,
      "grid_template_rows": null,
      "height": null,
      "justify_content": null,
      "justify_items": null,
      "left": null,
      "margin": null,
      "max_height": null,
      "max_width": null,
      "min_height": null,
      "min_width": null,
      "object_fit": null,
      "object_position": null,
      "order": null,
      "overflow": null,
      "overflow_x": null,
      "overflow_y": null,
      "padding": null,
      "right": null,
      "top": null,
      "visibility": null,
      "width": null
     }
    },
    "1ae43c90ada44f88ae6096628964dd4c": {
     "model_module": "@jupyter-widgets/base",
     "model_name": "LayoutModel",
     "state": {
      "_model_module": "@jupyter-widgets/base",
      "_model_module_version": "1.2.0",
      "_model_name": "LayoutModel",
      "_view_count": null,
      "_view_module": "@jupyter-widgets/base",
      "_view_module_version": "1.2.0",
      "_view_name": "LayoutView",
      "align_content": null,
      "align_items": null,
      "align_self": null,
      "border": null,
      "bottom": null,
      "display": null,
      "flex": null,
      "flex_flow": null,
      "grid_area": null,
      "grid_auto_columns": null,
      "grid_auto_flow": null,
      "grid_auto_rows": null,
      "grid_column": null,
      "grid_gap": null,
      "grid_row": null,
      "grid_template_areas": null,
      "grid_template_columns": null,
      "grid_template_rows": null,
      "height": null,
      "justify_content": null,
      "justify_items": null,
      "left": null,
      "margin": null,
      "max_height": null,
      "max_width": null,
      "min_height": null,
      "min_width": null,
      "object_fit": null,
      "object_position": null,
      "order": null,
      "overflow": null,
      "overflow_x": null,
      "overflow_y": null,
      "padding": null,
      "right": null,
      "top": null,
      "visibility": null,
      "width": null
     }
    },
    "1b0a595d067647c1a90cdcdce2f8b8ce": {
     "model_module": "@jupyter-widgets/base",
     "model_name": "LayoutModel",
     "state": {
      "_model_module": "@jupyter-widgets/base",
      "_model_module_version": "1.2.0",
      "_model_name": "LayoutModel",
      "_view_count": null,
      "_view_module": "@jupyter-widgets/base",
      "_view_module_version": "1.2.0",
      "_view_name": "LayoutView",
      "align_content": null,
      "align_items": null,
      "align_self": null,
      "border": null,
      "bottom": null,
      "display": null,
      "flex": null,
      "flex_flow": null,
      "grid_area": null,
      "grid_auto_columns": null,
      "grid_auto_flow": null,
      "grid_auto_rows": null,
      "grid_column": null,
      "grid_gap": null,
      "grid_row": null,
      "grid_template_areas": null,
      "grid_template_columns": null,
      "grid_template_rows": null,
      "height": null,
      "justify_content": null,
      "justify_items": null,
      "left": null,
      "margin": null,
      "max_height": null,
      "max_width": null,
      "min_height": null,
      "min_width": null,
      "object_fit": null,
      "object_position": null,
      "order": null,
      "overflow": null,
      "overflow_x": null,
      "overflow_y": null,
      "padding": null,
      "right": null,
      "top": null,
      "visibility": null,
      "width": null
     }
    },
    "1b2a76d61e6d45eda6f1a920444f1093": {
     "model_module": "@jupyter-widgets/controls",
     "model_name": "LabelModel",
     "state": {
      "_dom_classes": [],
      "_model_module": "@jupyter-widgets/controls",
      "_model_module_version": "1.5.0",
      "_model_name": "LabelModel",
      "_view_count": null,
      "_view_module": "@jupyter-widgets/controls",
      "_view_module_version": "1.5.0",
      "_view_name": "LabelView",
      "description": "",
      "description_tooltip": null,
      "layout": "IPY_MODEL_871cbf79045e479396bec19da5e7e9ca",
      "placeholder": "​",
      "style": "IPY_MODEL_d793062a2fff4a17a632d3b5e7c5b2eb",
      "value": " 1.11MB of 1.11MB uploaded (0.00MB deduped)\r"
     }
    },
    "1c488db5c13b46ec9f303c448215d448": {
     "model_module": "@jupyter-widgets/controls",
     "model_name": "VBoxModel",
     "state": {
      "_dom_classes": [],
      "_model_module": "@jupyter-widgets/controls",
      "_model_module_version": "1.5.0",
      "_model_name": "VBoxModel",
      "_view_count": null,
      "_view_module": "@jupyter-widgets/controls",
      "_view_module_version": "1.5.0",
      "_view_name": "VBoxView",
      "box_style": "",
      "children": [
       "IPY_MODEL_ec3d1d41e51f4acb8dceca26003b30ab",
       "IPY_MODEL_698aa40916964cb9bbdabd9048d6b95b"
      ],
      "layout": "IPY_MODEL_ad93976e90744f2cbc68f564c279c6bf"
     }
    },
    "1d7ba4bc61b54e309f218f3a34265e2e": {
     "model_module": "@jupyter-widgets/base",
     "model_name": "LayoutModel",
     "state": {
      "_model_module": "@jupyter-widgets/base",
      "_model_module_version": "1.2.0",
      "_model_name": "LayoutModel",
      "_view_count": null,
      "_view_module": "@jupyter-widgets/base",
      "_view_module_version": "1.2.0",
      "_view_name": "LayoutView",
      "align_content": null,
      "align_items": null,
      "align_self": null,
      "border": null,
      "bottom": null,
      "display": null,
      "flex": null,
      "flex_flow": null,
      "grid_area": null,
      "grid_auto_columns": null,
      "grid_auto_flow": null,
      "grid_auto_rows": null,
      "grid_column": null,
      "grid_gap": null,
      "grid_row": null,
      "grid_template_areas": null,
      "grid_template_columns": null,
      "grid_template_rows": null,
      "height": null,
      "justify_content": null,
      "justify_items": null,
      "left": null,
      "margin": null,
      "max_height": null,
      "max_width": null,
      "min_height": null,
      "min_width": null,
      "object_fit": null,
      "object_position": null,
      "order": null,
      "overflow": null,
      "overflow_x": null,
      "overflow_y": null,
      "padding": null,
      "right": null,
      "top": null,
      "visibility": null,
      "width": null
     }
    },
    "1dda27d7ac4a4f67a93f9ba6352691f7": {
     "model_module": "@jupyter-widgets/base",
     "model_name": "LayoutModel",
     "state": {
      "_model_module": "@jupyter-widgets/base",
      "_model_module_version": "1.2.0",
      "_model_name": "LayoutModel",
      "_view_count": null,
      "_view_module": "@jupyter-widgets/base",
      "_view_module_version": "1.2.0",
      "_view_name": "LayoutView",
      "align_content": null,
      "align_items": null,
      "align_self": null,
      "border": null,
      "bottom": null,
      "display": null,
      "flex": null,
      "flex_flow": null,
      "grid_area": null,
      "grid_auto_columns": null,
      "grid_auto_flow": null,
      "grid_auto_rows": null,
      "grid_column": null,
      "grid_gap": null,
      "grid_row": null,
      "grid_template_areas": null,
      "grid_template_columns": null,
      "grid_template_rows": null,
      "height": null,
      "justify_content": null,
      "justify_items": null,
      "left": null,
      "margin": null,
      "max_height": null,
      "max_width": null,
      "min_height": null,
      "min_width": null,
      "object_fit": null,
      "object_position": null,
      "order": null,
      "overflow": null,
      "overflow_x": null,
      "overflow_y": null,
      "padding": null,
      "right": null,
      "top": null,
      "visibility": null,
      "width": null
     }
    },
    "1de7f6c25f2344c1b5cdb723796b90b9": {
     "model_module": "@jupyter-widgets/controls",
     "model_name": "ProgressStyleModel",
     "state": {
      "_model_module": "@jupyter-widgets/controls",
      "_model_module_version": "1.5.0",
      "_model_name": "ProgressStyleModel",
      "_view_count": null,
      "_view_module": "@jupyter-widgets/base",
      "_view_module_version": "1.2.0",
      "_view_name": "StyleView",
      "bar_color": null,
      "description_width": ""
     }
    },
    "1e3744dd12d646e8a241efe4e2d94770": {
     "model_module": "@jupyter-widgets/base",
     "model_name": "LayoutModel",
     "state": {
      "_model_module": "@jupyter-widgets/base",
      "_model_module_version": "1.2.0",
      "_model_name": "LayoutModel",
      "_view_count": null,
      "_view_module": "@jupyter-widgets/base",
      "_view_module_version": "1.2.0",
      "_view_name": "LayoutView",
      "align_content": null,
      "align_items": null,
      "align_self": null,
      "border": null,
      "bottom": null,
      "display": null,
      "flex": null,
      "flex_flow": null,
      "grid_area": null,
      "grid_auto_columns": null,
      "grid_auto_flow": null,
      "grid_auto_rows": null,
      "grid_column": null,
      "grid_gap": null,
      "grid_row": null,
      "grid_template_areas": null,
      "grid_template_columns": null,
      "grid_template_rows": null,
      "height": null,
      "justify_content": null,
      "justify_items": null,
      "left": null,
      "margin": null,
      "max_height": null,
      "max_width": null,
      "min_height": null,
      "min_width": null,
      "object_fit": null,
      "object_position": null,
      "order": null,
      "overflow": null,
      "overflow_x": null,
      "overflow_y": null,
      "padding": null,
      "right": null,
      "top": null,
      "visibility": null,
      "width": null
     }
    },
    "1e3a0cf761fc4f83a1b4dc14e222bc2d": {
     "model_module": "@jupyter-widgets/controls",
     "model_name": "FloatProgressModel",
     "state": {
      "_dom_classes": [],
      "_model_module": "@jupyter-widgets/controls",
      "_model_module_version": "1.5.0",
      "_model_name": "FloatProgressModel",
      "_view_count": null,
      "_view_module": "@jupyter-widgets/controls",
      "_view_module_version": "1.5.0",
      "_view_name": "ProgressView",
      "bar_style": "",
      "description": "",
      "description_tooltip": null,
      "layout": "IPY_MODEL_5e674c808c3440fa93bdc5667a2484af",
      "max": 1,
      "min": 0,
      "orientation": "horizontal",
      "style": "IPY_MODEL_6521de42d6f548aeb0b479ec90422305",
      "value": 1
     }
    },
    "1e76e0b4aaf5418c8bcc0822d6190d33": {
     "model_module": "@jupyter-widgets/base",
     "model_name": "LayoutModel",
     "state": {
      "_model_module": "@jupyter-widgets/base",
      "_model_module_version": "1.2.0",
      "_model_name": "LayoutModel",
      "_view_count": null,
      "_view_module": "@jupyter-widgets/base",
      "_view_module_version": "1.2.0",
      "_view_name": "LayoutView",
      "align_content": null,
      "align_items": null,
      "align_self": null,
      "border": null,
      "bottom": null,
      "display": null,
      "flex": null,
      "flex_flow": null,
      "grid_area": null,
      "grid_auto_columns": null,
      "grid_auto_flow": null,
      "grid_auto_rows": null,
      "grid_column": null,
      "grid_gap": null,
      "grid_row": null,
      "grid_template_areas": null,
      "grid_template_columns": null,
      "grid_template_rows": null,
      "height": null,
      "justify_content": null,
      "justify_items": null,
      "left": null,
      "margin": null,
      "max_height": null,
      "max_width": null,
      "min_height": null,
      "min_width": null,
      "object_fit": null,
      "object_position": null,
      "order": null,
      "overflow": null,
      "overflow_x": null,
      "overflow_y": null,
      "padding": null,
      "right": null,
      "top": null,
      "visibility": null,
      "width": null
     }
    },
    "1ee359116c3648b19067bd3d998b521e": {
     "model_module": "@jupyter-widgets/controls",
     "model_name": "LabelModel",
     "state": {
      "_dom_classes": [],
      "_model_module": "@jupyter-widgets/controls",
      "_model_module_version": "1.5.0",
      "_model_name": "LabelModel",
      "_view_count": null,
      "_view_module": "@jupyter-widgets/controls",
      "_view_module_version": "1.5.0",
      "_view_name": "LabelView",
      "description": "",
      "description_tooltip": null,
      "layout": "IPY_MODEL_1b0a595d067647c1a90cdcdce2f8b8ce",
      "placeholder": "​",
      "style": "IPY_MODEL_b3f4a07aa8d942b89489d9fa475faf06",
      "value": " 1.21MB of 1.21MB uploaded (0.00MB deduped)\r"
     }
    },
    "1f33e4ee56bd41a1b2165b7e0a5ba8e0": {
     "model_module": "@jupyter-widgets/controls",
     "model_name": "VBoxModel",
     "state": {
      "_dom_classes": [],
      "_model_module": "@jupyter-widgets/controls",
      "_model_module_version": "1.5.0",
      "_model_name": "VBoxModel",
      "_view_count": null,
      "_view_module": "@jupyter-widgets/controls",
      "_view_module_version": "1.5.0",
      "_view_name": "VBoxView",
      "box_style": "",
      "children": [
       "IPY_MODEL_a156df3da20a4a619c1cc818574b1802",
       "IPY_MODEL_1e3a0cf761fc4f83a1b4dc14e222bc2d"
      ],
      "layout": "IPY_MODEL_89cf62f3418d439b9cc747e3c5857325"
     }
    },
    "1fdb043c594a43a3aee30e6034e9e428": {
     "model_module": "@jupyter-widgets/controls",
     "model_name": "DescriptionStyleModel",
     "state": {
      "_model_module": "@jupyter-widgets/controls",
      "_model_module_version": "1.5.0",
      "_model_name": "DescriptionStyleModel",
      "_view_count": null,
      "_view_module": "@jupyter-widgets/base",
      "_view_module_version": "1.2.0",
      "_view_name": "StyleView",
      "description_width": ""
     }
    },
    "219724b6871a44d58e64c614ae1836fd": {
     "model_module": "@jupyter-widgets/base",
     "model_name": "LayoutModel",
     "state": {
      "_model_module": "@jupyter-widgets/base",
      "_model_module_version": "1.2.0",
      "_model_name": "LayoutModel",
      "_view_count": null,
      "_view_module": "@jupyter-widgets/base",
      "_view_module_version": "1.2.0",
      "_view_name": "LayoutView",
      "align_content": null,
      "align_items": null,
      "align_self": null,
      "border": null,
      "bottom": null,
      "display": null,
      "flex": null,
      "flex_flow": null,
      "grid_area": null,
      "grid_auto_columns": null,
      "grid_auto_flow": null,
      "grid_auto_rows": null,
      "grid_column": null,
      "grid_gap": null,
      "grid_row": null,
      "grid_template_areas": null,
      "grid_template_columns": null,
      "grid_template_rows": null,
      "height": null,
      "justify_content": null,
      "justify_items": null,
      "left": null,
      "margin": null,
      "max_height": null,
      "max_width": null,
      "min_height": null,
      "min_width": null,
      "object_fit": null,
      "object_position": null,
      "order": null,
      "overflow": null,
      "overflow_x": null,
      "overflow_y": null,
      "padding": null,
      "right": null,
      "top": null,
      "visibility": null,
      "width": null
     }
    },
    "21dfbd3f1cad40a8a8662b8d651b53ad": {
     "model_module": "@jupyter-widgets/base",
     "model_name": "LayoutModel",
     "state": {
      "_model_module": "@jupyter-widgets/base",
      "_model_module_version": "1.2.0",
      "_model_name": "LayoutModel",
      "_view_count": null,
      "_view_module": "@jupyter-widgets/base",
      "_view_module_version": "1.2.0",
      "_view_name": "LayoutView",
      "align_content": null,
      "align_items": null,
      "align_self": null,
      "border": null,
      "bottom": null,
      "display": null,
      "flex": null,
      "flex_flow": null,
      "grid_area": null,
      "grid_auto_columns": null,
      "grid_auto_flow": null,
      "grid_auto_rows": null,
      "grid_column": null,
      "grid_gap": null,
      "grid_row": null,
      "grid_template_areas": null,
      "grid_template_columns": null,
      "grid_template_rows": null,
      "height": null,
      "justify_content": null,
      "justify_items": null,
      "left": null,
      "margin": null,
      "max_height": null,
      "max_width": null,
      "min_height": null,
      "min_width": null,
      "object_fit": null,
      "object_position": null,
      "order": null,
      "overflow": null,
      "overflow_x": null,
      "overflow_y": null,
      "padding": null,
      "right": null,
      "top": null,
      "visibility": null,
      "width": null
     }
    },
    "22539cdcdb4f4180985b5515cf1edd53": {
     "model_module": "@jupyter-widgets/controls",
     "model_name": "DescriptionStyleModel",
     "state": {
      "_model_module": "@jupyter-widgets/controls",
      "_model_module_version": "1.5.0",
      "_model_name": "DescriptionStyleModel",
      "_view_count": null,
      "_view_module": "@jupyter-widgets/base",
      "_view_module_version": "1.2.0",
      "_view_name": "StyleView",
      "description_width": ""
     }
    },
    "2573f602663f4c2fb4483368bf77d6ef": {
     "model_module": "@jupyter-widgets/controls",
     "model_name": "ProgressStyleModel",
     "state": {
      "_model_module": "@jupyter-widgets/controls",
      "_model_module_version": "1.5.0",
      "_model_name": "ProgressStyleModel",
      "_view_count": null,
      "_view_module": "@jupyter-widgets/base",
      "_view_module_version": "1.2.0",
      "_view_name": "StyleView",
      "bar_color": null,
      "description_width": ""
     }
    },
    "259bd6152c8a40549c2dffe4042c8de0": {
     "model_module": "@jupyter-widgets/controls",
     "model_name": "LabelModel",
     "state": {
      "_dom_classes": [],
      "_model_module": "@jupyter-widgets/controls",
      "_model_module_version": "1.5.0",
      "_model_name": "LabelModel",
      "_view_count": null,
      "_view_module": "@jupyter-widgets/controls",
      "_view_module_version": "1.5.0",
      "_view_name": "LabelView",
      "description": "",
      "description_tooltip": null,
      "layout": "IPY_MODEL_f00b4b73f1c14047982975d94d72f70c",
      "placeholder": "​",
      "style": "IPY_MODEL_8525c8ed2245480284b3775dfc9dd62e",
      "value": " 0.70MB of 0.70MB uploaded (0.00MB deduped)\r"
     }
    },
    "25b47681c58b4c6cbffd24d4dc3db163": {
     "model_module": "@jupyter-widgets/base",
     "model_name": "LayoutModel",
     "state": {
      "_model_module": "@jupyter-widgets/base",
      "_model_module_version": "1.2.0",
      "_model_name": "LayoutModel",
      "_view_count": null,
      "_view_module": "@jupyter-widgets/base",
      "_view_module_version": "1.2.0",
      "_view_name": "LayoutView",
      "align_content": null,
      "align_items": null,
      "align_self": null,
      "border": null,
      "bottom": null,
      "display": null,
      "flex": null,
      "flex_flow": null,
      "grid_area": null,
      "grid_auto_columns": null,
      "grid_auto_flow": null,
      "grid_auto_rows": null,
      "grid_column": null,
      "grid_gap": null,
      "grid_row": null,
      "grid_template_areas": null,
      "grid_template_columns": null,
      "grid_template_rows": null,
      "height": null,
      "justify_content": null,
      "justify_items": null,
      "left": null,
      "margin": null,
      "max_height": null,
      "max_width": null,
      "min_height": null,
      "min_width": null,
      "object_fit": null,
      "object_position": null,
      "order": null,
      "overflow": null,
      "overflow_x": null,
      "overflow_y": null,
      "padding": null,
      "right": null,
      "top": null,
      "visibility": null,
      "width": null
     }
    },
    "2613d5a50f044f29b6daee33db01d0c0": {
     "model_module": "@jupyter-widgets/controls",
     "model_name": "VBoxModel",
     "state": {
      "_dom_classes": [],
      "_model_module": "@jupyter-widgets/controls",
      "_model_module_version": "1.5.0",
      "_model_name": "VBoxModel",
      "_view_count": null,
      "_view_module": "@jupyter-widgets/controls",
      "_view_module_version": "1.5.0",
      "_view_name": "VBoxView",
      "box_style": "",
      "children": [
       "IPY_MODEL_03681345320944cc8179c4920f6d62a7",
       "IPY_MODEL_c5d170a3b02e4dd1a64b000c7226564b"
      ],
      "layout": "IPY_MODEL_9e0690492c3c46a79890f63a6b076e99"
     }
    },
    "2679a954921d471aa7dc4213d74ec43e": {
     "model_module": "@jupyter-widgets/base",
     "model_name": "LayoutModel",
     "state": {
      "_model_module": "@jupyter-widgets/base",
      "_model_module_version": "1.2.0",
      "_model_name": "LayoutModel",
      "_view_count": null,
      "_view_module": "@jupyter-widgets/base",
      "_view_module_version": "1.2.0",
      "_view_name": "LayoutView",
      "align_content": null,
      "align_items": null,
      "align_self": null,
      "border": null,
      "bottom": null,
      "display": null,
      "flex": null,
      "flex_flow": null,
      "grid_area": null,
      "grid_auto_columns": null,
      "grid_auto_flow": null,
      "grid_auto_rows": null,
      "grid_column": null,
      "grid_gap": null,
      "grid_row": null,
      "grid_template_areas": null,
      "grid_template_columns": null,
      "grid_template_rows": null,
      "height": null,
      "justify_content": null,
      "justify_items": null,
      "left": null,
      "margin": null,
      "max_height": null,
      "max_width": null,
      "min_height": null,
      "min_width": null,
      "object_fit": null,
      "object_position": null,
      "order": null,
      "overflow": null,
      "overflow_x": null,
      "overflow_y": null,
      "padding": null,
      "right": null,
      "top": null,
      "visibility": null,
      "width": null
     }
    },
    "26f6f355c6fd443daa3c88f6bc66e291": {
     "model_module": "@jupyter-widgets/base",
     "model_name": "LayoutModel",
     "state": {
      "_model_module": "@jupyter-widgets/base",
      "_model_module_version": "1.2.0",
      "_model_name": "LayoutModel",
      "_view_count": null,
      "_view_module": "@jupyter-widgets/base",
      "_view_module_version": "1.2.0",
      "_view_name": "LayoutView",
      "align_content": null,
      "align_items": null,
      "align_self": null,
      "border": null,
      "bottom": null,
      "display": null,
      "flex": null,
      "flex_flow": null,
      "grid_area": null,
      "grid_auto_columns": null,
      "grid_auto_flow": null,
      "grid_auto_rows": null,
      "grid_column": null,
      "grid_gap": null,
      "grid_row": null,
      "grid_template_areas": null,
      "grid_template_columns": null,
      "grid_template_rows": null,
      "height": null,
      "justify_content": null,
      "justify_items": null,
      "left": null,
      "margin": null,
      "max_height": null,
      "max_width": null,
      "min_height": null,
      "min_width": null,
      "object_fit": null,
      "object_position": null,
      "order": null,
      "overflow": null,
      "overflow_x": null,
      "overflow_y": null,
      "padding": null,
      "right": null,
      "top": null,
      "visibility": null,
      "width": null
     }
    },
    "2958177115c84b979222ab5d9b1d2799": {
     "model_module": "@jupyter-widgets/controls",
     "model_name": "ProgressStyleModel",
     "state": {
      "_model_module": "@jupyter-widgets/controls",
      "_model_module_version": "1.5.0",
      "_model_name": "ProgressStyleModel",
      "_view_count": null,
      "_view_module": "@jupyter-widgets/base",
      "_view_module_version": "1.2.0",
      "_view_name": "StyleView",
      "bar_color": null,
      "description_width": ""
     }
    },
    "29b2796a4dae402294c1c6717a221579": {
     "model_module": "@jupyter-widgets/base",
     "model_name": "LayoutModel",
     "state": {
      "_model_module": "@jupyter-widgets/base",
      "_model_module_version": "1.2.0",
      "_model_name": "LayoutModel",
      "_view_count": null,
      "_view_module": "@jupyter-widgets/base",
      "_view_module_version": "1.2.0",
      "_view_name": "LayoutView",
      "align_content": null,
      "align_items": null,
      "align_self": null,
      "border": null,
      "bottom": null,
      "display": null,
      "flex": null,
      "flex_flow": null,
      "grid_area": null,
      "grid_auto_columns": null,
      "grid_auto_flow": null,
      "grid_auto_rows": null,
      "grid_column": null,
      "grid_gap": null,
      "grid_row": null,
      "grid_template_areas": null,
      "grid_template_columns": null,
      "grid_template_rows": null,
      "height": null,
      "justify_content": null,
      "justify_items": null,
      "left": null,
      "margin": null,
      "max_height": null,
      "max_width": null,
      "min_height": null,
      "min_width": null,
      "object_fit": null,
      "object_position": null,
      "order": null,
      "overflow": null,
      "overflow_x": null,
      "overflow_y": null,
      "padding": null,
      "right": null,
      "top": null,
      "visibility": null,
      "width": null
     }
    },
    "2a672ad8ad0d44328a01ce07a4cecf76": {
     "model_module": "@jupyter-widgets/controls",
     "model_name": "LabelModel",
     "state": {
      "_dom_classes": [],
      "_model_module": "@jupyter-widgets/controls",
      "_model_module_version": "1.5.0",
      "_model_name": "LabelModel",
      "_view_count": null,
      "_view_module": "@jupyter-widgets/controls",
      "_view_module_version": "1.5.0",
      "_view_name": "LabelView",
      "description": "",
      "description_tooltip": null,
      "layout": "IPY_MODEL_ed32cdc963aa48da92c4cea5b50ce663",
      "placeholder": "​",
      "style": "IPY_MODEL_8b6f74da450c4dd18fe37b4e59f4b80f",
      "value": " 3.40MB of 3.40MB uploaded (0.00MB deduped)\r"
     }
    },
    "2a6b53f0bba246fa94e615660f1be028": {
     "model_module": "@jupyter-widgets/controls",
     "model_name": "ProgressStyleModel",
     "state": {
      "_model_module": "@jupyter-widgets/controls",
      "_model_module_version": "1.5.0",
      "_model_name": "ProgressStyleModel",
      "_view_count": null,
      "_view_module": "@jupyter-widgets/base",
      "_view_module_version": "1.2.0",
      "_view_name": "StyleView",
      "bar_color": null,
      "description_width": ""
     }
    },
    "2aa74851e18e4803ac56c35db47b19db": {
     "model_module": "@jupyter-widgets/base",
     "model_name": "LayoutModel",
     "state": {
      "_model_module": "@jupyter-widgets/base",
      "_model_module_version": "1.2.0",
      "_model_name": "LayoutModel",
      "_view_count": null,
      "_view_module": "@jupyter-widgets/base",
      "_view_module_version": "1.2.0",
      "_view_name": "LayoutView",
      "align_content": null,
      "align_items": null,
      "align_self": null,
      "border": null,
      "bottom": null,
      "display": null,
      "flex": null,
      "flex_flow": null,
      "grid_area": null,
      "grid_auto_columns": null,
      "grid_auto_flow": null,
      "grid_auto_rows": null,
      "grid_column": null,
      "grid_gap": null,
      "grid_row": null,
      "grid_template_areas": null,
      "grid_template_columns": null,
      "grid_template_rows": null,
      "height": null,
      "justify_content": null,
      "justify_items": null,
      "left": null,
      "margin": null,
      "max_height": null,
      "max_width": null,
      "min_height": null,
      "min_width": null,
      "object_fit": null,
      "object_position": null,
      "order": null,
      "overflow": null,
      "overflow_x": null,
      "overflow_y": null,
      "padding": null,
      "right": null,
      "top": null,
      "visibility": null,
      "width": null
     }
    },
    "2abe433d6b91458eb9bbc6674fa49b16": {
     "model_module": "@jupyter-widgets/controls",
     "model_name": "ProgressStyleModel",
     "state": {
      "_model_module": "@jupyter-widgets/controls",
      "_model_module_version": "1.5.0",
      "_model_name": "ProgressStyleModel",
      "_view_count": null,
      "_view_module": "@jupyter-widgets/base",
      "_view_module_version": "1.2.0",
      "_view_name": "StyleView",
      "bar_color": null,
      "description_width": ""
     }
    },
    "2acfeac22b464dd8b39168af64321390": {
     "model_module": "@jupyter-widgets/controls",
     "model_name": "FloatProgressModel",
     "state": {
      "_dom_classes": [],
      "_model_module": "@jupyter-widgets/controls",
      "_model_module_version": "1.5.0",
      "_model_name": "FloatProgressModel",
      "_view_count": null,
      "_view_module": "@jupyter-widgets/controls",
      "_view_module_version": "1.5.0",
      "_view_name": "ProgressView",
      "bar_style": "",
      "description": "",
      "description_tooltip": null,
      "layout": "IPY_MODEL_584a3f239c4042d38a06768d367f74cf",
      "max": 1,
      "min": 0,
      "orientation": "horizontal",
      "style": "IPY_MODEL_0b6ef4fb154b4934866e6b28eb522b13",
      "value": 1
     }
    },
    "2b787c6428e04aa08a2dc58b8c18860d": {
     "model_module": "@jupyter-widgets/base",
     "model_name": "LayoutModel",
     "state": {
      "_model_module": "@jupyter-widgets/base",
      "_model_module_version": "1.2.0",
      "_model_name": "LayoutModel",
      "_view_count": null,
      "_view_module": "@jupyter-widgets/base",
      "_view_module_version": "1.2.0",
      "_view_name": "LayoutView",
      "align_content": null,
      "align_items": null,
      "align_self": null,
      "border": null,
      "bottom": null,
      "display": null,
      "flex": null,
      "flex_flow": null,
      "grid_area": null,
      "grid_auto_columns": null,
      "grid_auto_flow": null,
      "grid_auto_rows": null,
      "grid_column": null,
      "grid_gap": null,
      "grid_row": null,
      "grid_template_areas": null,
      "grid_template_columns": null,
      "grid_template_rows": null,
      "height": null,
      "justify_content": null,
      "justify_items": null,
      "left": null,
      "margin": null,
      "max_height": null,
      "max_width": null,
      "min_height": null,
      "min_width": null,
      "object_fit": null,
      "object_position": null,
      "order": null,
      "overflow": null,
      "overflow_x": null,
      "overflow_y": null,
      "padding": null,
      "right": null,
      "top": null,
      "visibility": null,
      "width": null
     }
    },
    "2b8c14ee2de5486f9452d1a7ad8d040b": {
     "model_module": "@jupyter-widgets/controls",
     "model_name": "FloatProgressModel",
     "state": {
      "_dom_classes": [],
      "_model_module": "@jupyter-widgets/controls",
      "_model_module_version": "1.5.0",
      "_model_name": "FloatProgressModel",
      "_view_count": null,
      "_view_module": "@jupyter-widgets/controls",
      "_view_module_version": "1.5.0",
      "_view_name": "ProgressView",
      "bar_style": "",
      "description": "",
      "description_tooltip": null,
      "layout": "IPY_MODEL_4d8c9b98b0de4433801dd85a3c3741c1",
      "max": 1,
      "min": 0,
      "orientation": "horizontal",
      "style": "IPY_MODEL_b397f473f47e4361870b3ab474400fbd",
      "value": 1
     }
    },
    "2c2c2b3ff5574dcba3da25f71d676f24": {
     "model_module": "@jupyter-widgets/base",
     "model_name": "LayoutModel",
     "state": {
      "_model_module": "@jupyter-widgets/base",
      "_model_module_version": "1.2.0",
      "_model_name": "LayoutModel",
      "_view_count": null,
      "_view_module": "@jupyter-widgets/base",
      "_view_module_version": "1.2.0",
      "_view_name": "LayoutView",
      "align_content": null,
      "align_items": null,
      "align_self": null,
      "border": null,
      "bottom": null,
      "display": null,
      "flex": null,
      "flex_flow": null,
      "grid_area": null,
      "grid_auto_columns": null,
      "grid_auto_flow": null,
      "grid_auto_rows": null,
      "grid_column": null,
      "grid_gap": null,
      "grid_row": null,
      "grid_template_areas": null,
      "grid_template_columns": null,
      "grid_template_rows": null,
      "height": null,
      "justify_content": null,
      "justify_items": null,
      "left": null,
      "margin": null,
      "max_height": null,
      "max_width": null,
      "min_height": null,
      "min_width": null,
      "object_fit": null,
      "object_position": null,
      "order": null,
      "overflow": null,
      "overflow_x": null,
      "overflow_y": null,
      "padding": null,
      "right": null,
      "top": null,
      "visibility": null,
      "width": null
     }
    },
    "2c5f4f2c752d4f149aef5e1b94631734": {
     "model_module": "@jupyter-widgets/controls",
     "model_name": "DescriptionStyleModel",
     "state": {
      "_model_module": "@jupyter-widgets/controls",
      "_model_module_version": "1.5.0",
      "_model_name": "DescriptionStyleModel",
      "_view_count": null,
      "_view_module": "@jupyter-widgets/base",
      "_view_module_version": "1.2.0",
      "_view_name": "StyleView",
      "description_width": ""
     }
    },
    "2c6e4755ff0b4221bbc5b1be08ca1ffa": {
     "model_module": "@jupyter-widgets/base",
     "model_name": "LayoutModel",
     "state": {
      "_model_module": "@jupyter-widgets/base",
      "_model_module_version": "1.2.0",
      "_model_name": "LayoutModel",
      "_view_count": null,
      "_view_module": "@jupyter-widgets/base",
      "_view_module_version": "1.2.0",
      "_view_name": "LayoutView",
      "align_content": null,
      "align_items": null,
      "align_self": null,
      "border": null,
      "bottom": null,
      "display": null,
      "flex": null,
      "flex_flow": null,
      "grid_area": null,
      "grid_auto_columns": null,
      "grid_auto_flow": null,
      "grid_auto_rows": null,
      "grid_column": null,
      "grid_gap": null,
      "grid_row": null,
      "grid_template_areas": null,
      "grid_template_columns": null,
      "grid_template_rows": null,
      "height": null,
      "justify_content": null,
      "justify_items": null,
      "left": null,
      "margin": null,
      "max_height": null,
      "max_width": null,
      "min_height": null,
      "min_width": null,
      "object_fit": null,
      "object_position": null,
      "order": null,
      "overflow": null,
      "overflow_x": null,
      "overflow_y": null,
      "padding": null,
      "right": null,
      "top": null,
      "visibility": null,
      "width": null
     }
    },
    "2c8e895bd49c4dcd9831027ab29b7b71": {
     "model_module": "@jupyter-widgets/controls",
     "model_name": "LabelModel",
     "state": {
      "_dom_classes": [],
      "_model_module": "@jupyter-widgets/controls",
      "_model_module_version": "1.5.0",
      "_model_name": "LabelModel",
      "_view_count": null,
      "_view_module": "@jupyter-widgets/controls",
      "_view_module_version": "1.5.0",
      "_view_name": "LabelView",
      "description": "",
      "description_tooltip": null,
      "layout": "IPY_MODEL_9d7e3907d9da426e9504fbfa7440cf14",
      "placeholder": "​",
      "style": "IPY_MODEL_6563ad985f72451cbfe9af7fdb96aa26",
      "value": " 0.30MB of 0.30MB uploaded (0.00MB deduped)\r"
     }
    },
    "2d95dd99c6f742a7a263d1b521beaa00": {
     "model_module": "@jupyter-widgets/base",
     "model_name": "LayoutModel",
     "state": {
      "_model_module": "@jupyter-widgets/base",
      "_model_module_version": "1.2.0",
      "_model_name": "LayoutModel",
      "_view_count": null,
      "_view_module": "@jupyter-widgets/base",
      "_view_module_version": "1.2.0",
      "_view_name": "LayoutView",
      "align_content": null,
      "align_items": null,
      "align_self": null,
      "border": null,
      "bottom": null,
      "display": null,
      "flex": null,
      "flex_flow": null,
      "grid_area": null,
      "grid_auto_columns": null,
      "grid_auto_flow": null,
      "grid_auto_rows": null,
      "grid_column": null,
      "grid_gap": null,
      "grid_row": null,
      "grid_template_areas": null,
      "grid_template_columns": null,
      "grid_template_rows": null,
      "height": null,
      "justify_content": null,
      "justify_items": null,
      "left": null,
      "margin": null,
      "max_height": null,
      "max_width": null,
      "min_height": null,
      "min_width": null,
      "object_fit": null,
      "object_position": null,
      "order": null,
      "overflow": null,
      "overflow_x": null,
      "overflow_y": null,
      "padding": null,
      "right": null,
      "top": null,
      "visibility": null,
      "width": null
     }
    },
    "2e2286f1a00a4533a82dc3a8da46ada7": {
     "model_module": "@jupyter-widgets/controls",
     "model_name": "ProgressStyleModel",
     "state": {
      "_model_module": "@jupyter-widgets/controls",
      "_model_module_version": "1.5.0",
      "_model_name": "ProgressStyleModel",
      "_view_count": null,
      "_view_module": "@jupyter-widgets/base",
      "_view_module_version": "1.2.0",
      "_view_name": "StyleView",
      "bar_color": null,
      "description_width": ""
     }
    },
    "2e40677b3b094c3aaefbd8c86dd6c8cd": {
     "model_module": "@jupyter-widgets/controls",
     "model_name": "LabelModel",
     "state": {
      "_dom_classes": [],
      "_model_module": "@jupyter-widgets/controls",
      "_model_module_version": "1.5.0",
      "_model_name": "LabelModel",
      "_view_count": null,
      "_view_module": "@jupyter-widgets/controls",
      "_view_module_version": "1.5.0",
      "_view_name": "LabelView",
      "description": "",
      "description_tooltip": null,
      "layout": "IPY_MODEL_e090395478024966aa771e9599f6ac4f",
      "placeholder": "​",
      "style": "IPY_MODEL_a981d87379dd428791b5b86a0eef980a",
      "value": " 0.73MB of 0.73MB uploaded (0.00MB deduped)\r"
     }
    },
    "2e903eb7384042e6b69b1919183c6ee5": {
     "model_module": "@jupyter-widgets/controls",
     "model_name": "VBoxModel",
     "state": {
      "_dom_classes": [],
      "_model_module": "@jupyter-widgets/controls",
      "_model_module_version": "1.5.0",
      "_model_name": "VBoxModel",
      "_view_count": null,
      "_view_module": "@jupyter-widgets/controls",
      "_view_module_version": "1.5.0",
      "_view_name": "VBoxView",
      "box_style": "",
      "children": [
       "IPY_MODEL_aa3ae0286b9740af984a13685095b5e0",
       "IPY_MODEL_f9dc945c503b48809703d913ff155660"
      ],
      "layout": "IPY_MODEL_810ae8b208354db1b10ba44e9fd8ef7b"
     }
    },
    "2e9818a2e2a94382abe869feead83552": {
     "model_module": "@jupyter-widgets/controls",
     "model_name": "VBoxModel",
     "state": {
      "_dom_classes": [],
      "_model_module": "@jupyter-widgets/controls",
      "_model_module_version": "1.5.0",
      "_model_name": "VBoxModel",
      "_view_count": null,
      "_view_module": "@jupyter-widgets/controls",
      "_view_module_version": "1.5.0",
      "_view_name": "VBoxView",
      "box_style": "",
      "children": [
       "IPY_MODEL_82d76c30cfaa4a24af3993fd584b425f",
       "IPY_MODEL_2acfeac22b464dd8b39168af64321390"
      ],
      "layout": "IPY_MODEL_1e76e0b4aaf5418c8bcc0822d6190d33"
     }
    },
    "2f59c0bb00e84daba842382c62295d4e": {
     "model_module": "@jupyter-widgets/base",
     "model_name": "LayoutModel",
     "state": {
      "_model_module": "@jupyter-widgets/base",
      "_model_module_version": "1.2.0",
      "_model_name": "LayoutModel",
      "_view_count": null,
      "_view_module": "@jupyter-widgets/base",
      "_view_module_version": "1.2.0",
      "_view_name": "LayoutView",
      "align_content": null,
      "align_items": null,
      "align_self": null,
      "border": null,
      "bottom": null,
      "display": null,
      "flex": null,
      "flex_flow": null,
      "grid_area": null,
      "grid_auto_columns": null,
      "grid_auto_flow": null,
      "grid_auto_rows": null,
      "grid_column": null,
      "grid_gap": null,
      "grid_row": null,
      "grid_template_areas": null,
      "grid_template_columns": null,
      "grid_template_rows": null,
      "height": null,
      "justify_content": null,
      "justify_items": null,
      "left": null,
      "margin": null,
      "max_height": null,
      "max_width": null,
      "min_height": null,
      "min_width": null,
      "object_fit": null,
      "object_position": null,
      "order": null,
      "overflow": null,
      "overflow_x": null,
      "overflow_y": null,
      "padding": null,
      "right": null,
      "top": null,
      "visibility": null,
      "width": null
     }
    },
    "2f5cf4a36a904e01895946ec7e6ea04c": {
     "model_module": "@jupyter-widgets/controls",
     "model_name": "DescriptionStyleModel",
     "state": {
      "_model_module": "@jupyter-widgets/controls",
      "_model_module_version": "1.5.0",
      "_model_name": "DescriptionStyleModel",
      "_view_count": null,
      "_view_module": "@jupyter-widgets/base",
      "_view_module_version": "1.2.0",
      "_view_name": "StyleView",
      "description_width": ""
     }
    },
    "31331d6acf574d62871fcc8420ca7ca0": {
     "model_module": "@jupyter-widgets/base",
     "model_name": "LayoutModel",
     "state": {
      "_model_module": "@jupyter-widgets/base",
      "_model_module_version": "1.2.0",
      "_model_name": "LayoutModel",
      "_view_count": null,
      "_view_module": "@jupyter-widgets/base",
      "_view_module_version": "1.2.0",
      "_view_name": "LayoutView",
      "align_content": null,
      "align_items": null,
      "align_self": null,
      "border": null,
      "bottom": null,
      "display": null,
      "flex": null,
      "flex_flow": null,
      "grid_area": null,
      "grid_auto_columns": null,
      "grid_auto_flow": null,
      "grid_auto_rows": null,
      "grid_column": null,
      "grid_gap": null,
      "grid_row": null,
      "grid_template_areas": null,
      "grid_template_columns": null,
      "grid_template_rows": null,
      "height": null,
      "justify_content": null,
      "justify_items": null,
      "left": null,
      "margin": null,
      "max_height": null,
      "max_width": null,
      "min_height": null,
      "min_width": null,
      "object_fit": null,
      "object_position": null,
      "order": null,
      "overflow": null,
      "overflow_x": null,
      "overflow_y": null,
      "padding": null,
      "right": null,
      "top": null,
      "visibility": null,
      "width": null
     }
    },
    "32b2cc76421e402bae744f8fe0e8bdcb": {
     "model_module": "@jupyter-widgets/controls",
     "model_name": "LabelModel",
     "state": {
      "_dom_classes": [],
      "_model_module": "@jupyter-widgets/controls",
      "_model_module_version": "1.5.0",
      "_model_name": "LabelModel",
      "_view_count": null,
      "_view_module": "@jupyter-widgets/controls",
      "_view_module_version": "1.5.0",
      "_view_name": "LabelView",
      "description": "",
      "description_tooltip": null,
      "layout": "IPY_MODEL_3cde705145d849a2afff46f2ebb095a1",
      "placeholder": "​",
      "style": "IPY_MODEL_dc0e7d8d104b443a8ba3e51a81d7a088",
      "value": " 1.28MB of 1.28MB uploaded (0.00MB deduped)\r"
     }
    },
    "33f74fb3836f402785f8222f27a379de": {
     "model_module": "@jupyter-widgets/base",
     "model_name": "LayoutModel",
     "state": {
      "_model_module": "@jupyter-widgets/base",
      "_model_module_version": "1.2.0",
      "_model_name": "LayoutModel",
      "_view_count": null,
      "_view_module": "@jupyter-widgets/base",
      "_view_module_version": "1.2.0",
      "_view_name": "LayoutView",
      "align_content": null,
      "align_items": null,
      "align_self": null,
      "border": null,
      "bottom": null,
      "display": null,
      "flex": null,
      "flex_flow": null,
      "grid_area": null,
      "grid_auto_columns": null,
      "grid_auto_flow": null,
      "grid_auto_rows": null,
      "grid_column": null,
      "grid_gap": null,
      "grid_row": null,
      "grid_template_areas": null,
      "grid_template_columns": null,
      "grid_template_rows": null,
      "height": null,
      "justify_content": null,
      "justify_items": null,
      "left": null,
      "margin": null,
      "max_height": null,
      "max_width": null,
      "min_height": null,
      "min_width": null,
      "object_fit": null,
      "object_position": null,
      "order": null,
      "overflow": null,
      "overflow_x": null,
      "overflow_y": null,
      "padding": null,
      "right": null,
      "top": null,
      "visibility": null,
      "width": null
     }
    },
    "359c2220557c4bddb77c1bc3882f88f6": {
     "model_module": "@jupyter-widgets/base",
     "model_name": "LayoutModel",
     "state": {
      "_model_module": "@jupyter-widgets/base",
      "_model_module_version": "1.2.0",
      "_model_name": "LayoutModel",
      "_view_count": null,
      "_view_module": "@jupyter-widgets/base",
      "_view_module_version": "1.2.0",
      "_view_name": "LayoutView",
      "align_content": null,
      "align_items": null,
      "align_self": null,
      "border": null,
      "bottom": null,
      "display": null,
      "flex": null,
      "flex_flow": null,
      "grid_area": null,
      "grid_auto_columns": null,
      "grid_auto_flow": null,
      "grid_auto_rows": null,
      "grid_column": null,
      "grid_gap": null,
      "grid_row": null,
      "grid_template_areas": null,
      "grid_template_columns": null,
      "grid_template_rows": null,
      "height": null,
      "justify_content": null,
      "justify_items": null,
      "left": null,
      "margin": null,
      "max_height": null,
      "max_width": null,
      "min_height": null,
      "min_width": null,
      "object_fit": null,
      "object_position": null,
      "order": null,
      "overflow": null,
      "overflow_x": null,
      "overflow_y": null,
      "padding": null,
      "right": null,
      "top": null,
      "visibility": null,
      "width": null
     }
    },
    "36245ce09c6d41a48a9a5593ac3cb25c": {
     "model_module": "@jupyter-widgets/controls",
     "model_name": "VBoxModel",
     "state": {
      "_dom_classes": [],
      "_model_module": "@jupyter-widgets/controls",
      "_model_module_version": "1.5.0",
      "_model_name": "VBoxModel",
      "_view_count": null,
      "_view_module": "@jupyter-widgets/controls",
      "_view_module_version": "1.5.0",
      "_view_name": "VBoxView",
      "box_style": "",
      "children": [
       "IPY_MODEL_5dd2e5a0bcd14f8581cd583fe7656b4d",
       "IPY_MODEL_a089a90eacf24879bfe1893d53f4a433"
      ],
      "layout": "IPY_MODEL_372e23cc77b24f238056eeccb532e9b1"
     }
    },
    "3699eb201cde47ae93daffc8d17e0085": {
     "model_module": "@jupyter-widgets/controls",
     "model_name": "ProgressStyleModel",
     "state": {
      "_model_module": "@jupyter-widgets/controls",
      "_model_module_version": "1.5.0",
      "_model_name": "ProgressStyleModel",
      "_view_count": null,
      "_view_module": "@jupyter-widgets/base",
      "_view_module_version": "1.2.0",
      "_view_name": "StyleView",
      "bar_color": null,
      "description_width": ""
     }
    },
    "372e23cc77b24f238056eeccb532e9b1": {
     "model_module": "@jupyter-widgets/base",
     "model_name": "LayoutModel",
     "state": {
      "_model_module": "@jupyter-widgets/base",
      "_model_module_version": "1.2.0",
      "_model_name": "LayoutModel",
      "_view_count": null,
      "_view_module": "@jupyter-widgets/base",
      "_view_module_version": "1.2.0",
      "_view_name": "LayoutView",
      "align_content": null,
      "align_items": null,
      "align_self": null,
      "border": null,
      "bottom": null,
      "display": null,
      "flex": null,
      "flex_flow": null,
      "grid_area": null,
      "grid_auto_columns": null,
      "grid_auto_flow": null,
      "grid_auto_rows": null,
      "grid_column": null,
      "grid_gap": null,
      "grid_row": null,
      "grid_template_areas": null,
      "grid_template_columns": null,
      "grid_template_rows": null,
      "height": null,
      "justify_content": null,
      "justify_items": null,
      "left": null,
      "margin": null,
      "max_height": null,
      "max_width": null,
      "min_height": null,
      "min_width": null,
      "object_fit": null,
      "object_position": null,
      "order": null,
      "overflow": null,
      "overflow_x": null,
      "overflow_y": null,
      "padding": null,
      "right": null,
      "top": null,
      "visibility": null,
      "width": null
     }
    },
    "37b957f3ca6b47d4bcc6f0e8cd11ea0f": {
     "model_module": "@jupyter-widgets/controls",
     "model_name": "VBoxModel",
     "state": {
      "_dom_classes": [],
      "_model_module": "@jupyter-widgets/controls",
      "_model_module_version": "1.5.0",
      "_model_name": "VBoxModel",
      "_view_count": null,
      "_view_module": "@jupyter-widgets/controls",
      "_view_module_version": "1.5.0",
      "_view_name": "VBoxView",
      "box_style": "",
      "children": [
       "IPY_MODEL_834f23c9429b4ce6a40dcf755f609da3",
       "IPY_MODEL_8c1d9f8f434c4addbd457fec736cc46d"
      ],
      "layout": "IPY_MODEL_6fed141daa894ab4b3e778f429346250"
     }
    },
    "37e4952123db4bbabe4b8df020ba7ae8": {
     "model_module": "@jupyter-widgets/controls",
     "model_name": "LabelModel",
     "state": {
      "_dom_classes": [],
      "_model_module": "@jupyter-widgets/controls",
      "_model_module_version": "1.5.0",
      "_model_name": "LabelModel",
      "_view_count": null,
      "_view_module": "@jupyter-widgets/controls",
      "_view_module_version": "1.5.0",
      "_view_name": "LabelView",
      "description": "",
      "description_tooltip": null,
      "layout": "IPY_MODEL_18fda9594e5b4876b14426da2483d4e0",
      "placeholder": "​",
      "style": "IPY_MODEL_3ca32eae130f44dcbf7e4a658a1f70d8",
      "value": " 0.99MB of 0.99MB uploaded (0.00MB deduped)\r"
     }
    },
    "37fda328e33a435bb0b13e9425b69ea6": {
     "model_module": "@jupyter-widgets/controls",
     "model_name": "DescriptionStyleModel",
     "state": {
      "_model_module": "@jupyter-widgets/controls",
      "_model_module_version": "1.5.0",
      "_model_name": "DescriptionStyleModel",
      "_view_count": null,
      "_view_module": "@jupyter-widgets/base",
      "_view_module_version": "1.2.0",
      "_view_name": "StyleView",
      "description_width": ""
     }
    },
    "38792e2c4cac4414ac45226341ee31c3": {
     "model_module": "@jupyter-widgets/base",
     "model_name": "LayoutModel",
     "state": {
      "_model_module": "@jupyter-widgets/base",
      "_model_module_version": "1.2.0",
      "_model_name": "LayoutModel",
      "_view_count": null,
      "_view_module": "@jupyter-widgets/base",
      "_view_module_version": "1.2.0",
      "_view_name": "LayoutView",
      "align_content": null,
      "align_items": null,
      "align_self": null,
      "border": null,
      "bottom": null,
      "display": null,
      "flex": null,
      "flex_flow": null,
      "grid_area": null,
      "grid_auto_columns": null,
      "grid_auto_flow": null,
      "grid_auto_rows": null,
      "grid_column": null,
      "grid_gap": null,
      "grid_row": null,
      "grid_template_areas": null,
      "grid_template_columns": null,
      "grid_template_rows": null,
      "height": null,
      "justify_content": null,
      "justify_items": null,
      "left": null,
      "margin": null,
      "max_height": null,
      "max_width": null,
      "min_height": null,
      "min_width": null,
      "object_fit": null,
      "object_position": null,
      "order": null,
      "overflow": null,
      "overflow_x": null,
      "overflow_y": null,
      "padding": null,
      "right": null,
      "top": null,
      "visibility": null,
      "width": null
     }
    },
    "38843b96b5aa46a9a2ab157c59aa6bb0": {
     "model_module": "@jupyter-widgets/base",
     "model_name": "LayoutModel",
     "state": {
      "_model_module": "@jupyter-widgets/base",
      "_model_module_version": "1.2.0",
      "_model_name": "LayoutModel",
      "_view_count": null,
      "_view_module": "@jupyter-widgets/base",
      "_view_module_version": "1.2.0",
      "_view_name": "LayoutView",
      "align_content": null,
      "align_items": null,
      "align_self": null,
      "border": null,
      "bottom": null,
      "display": null,
      "flex": null,
      "flex_flow": null,
      "grid_area": null,
      "grid_auto_columns": null,
      "grid_auto_flow": null,
      "grid_auto_rows": null,
      "grid_column": null,
      "grid_gap": null,
      "grid_row": null,
      "grid_template_areas": null,
      "grid_template_columns": null,
      "grid_template_rows": null,
      "height": null,
      "justify_content": null,
      "justify_items": null,
      "left": null,
      "margin": null,
      "max_height": null,
      "max_width": null,
      "min_height": null,
      "min_width": null,
      "object_fit": null,
      "object_position": null,
      "order": null,
      "overflow": null,
      "overflow_x": null,
      "overflow_y": null,
      "padding": null,
      "right": null,
      "top": null,
      "visibility": null,
      "width": null
     }
    },
    "390b7906874f4841afe4de744cd6225c": {
     "model_module": "@jupyter-widgets/base",
     "model_name": "LayoutModel",
     "state": {
      "_model_module": "@jupyter-widgets/base",
      "_model_module_version": "1.2.0",
      "_model_name": "LayoutModel",
      "_view_count": null,
      "_view_module": "@jupyter-widgets/base",
      "_view_module_version": "1.2.0",
      "_view_name": "LayoutView",
      "align_content": null,
      "align_items": null,
      "align_self": null,
      "border": null,
      "bottom": null,
      "display": null,
      "flex": null,
      "flex_flow": null,
      "grid_area": null,
      "grid_auto_columns": null,
      "grid_auto_flow": null,
      "grid_auto_rows": null,
      "grid_column": null,
      "grid_gap": null,
      "grid_row": null,
      "grid_template_areas": null,
      "grid_template_columns": null,
      "grid_template_rows": null,
      "height": null,
      "justify_content": null,
      "justify_items": null,
      "left": null,
      "margin": null,
      "max_height": null,
      "max_width": null,
      "min_height": null,
      "min_width": null,
      "object_fit": null,
      "object_position": null,
      "order": null,
      "overflow": null,
      "overflow_x": null,
      "overflow_y": null,
      "padding": null,
      "right": null,
      "top": null,
      "visibility": null,
      "width": null
     }
    },
    "3914e44292e341b78918759879c8ba66": {
     "model_module": "@jupyter-widgets/controls",
     "model_name": "FloatProgressModel",
     "state": {
      "_dom_classes": [],
      "_model_module": "@jupyter-widgets/controls",
      "_model_module_version": "1.5.0",
      "_model_name": "FloatProgressModel",
      "_view_count": null,
      "_view_module": "@jupyter-widgets/controls",
      "_view_module_version": "1.5.0",
      "_view_name": "ProgressView",
      "bar_style": "",
      "description": "",
      "description_tooltip": null,
      "layout": "IPY_MODEL_85a0dcc29d4f4bf4bc8116fc785a19e2",
      "max": 1,
      "min": 0,
      "orientation": "horizontal",
      "style": "IPY_MODEL_53c639bdfc1f4ce6bcce50f4b0d59317",
      "value": 1
     }
    },
    "3928e2b481be4b829e8a69f2c72c195a": {
     "model_module": "@jupyter-widgets/base",
     "model_name": "LayoutModel",
     "state": {
      "_model_module": "@jupyter-widgets/base",
      "_model_module_version": "1.2.0",
      "_model_name": "LayoutModel",
      "_view_count": null,
      "_view_module": "@jupyter-widgets/base",
      "_view_module_version": "1.2.0",
      "_view_name": "LayoutView",
      "align_content": null,
      "align_items": null,
      "align_self": null,
      "border": null,
      "bottom": null,
      "display": null,
      "flex": null,
      "flex_flow": null,
      "grid_area": null,
      "grid_auto_columns": null,
      "grid_auto_flow": null,
      "grid_auto_rows": null,
      "grid_column": null,
      "grid_gap": null,
      "grid_row": null,
      "grid_template_areas": null,
      "grid_template_columns": null,
      "grid_template_rows": null,
      "height": null,
      "justify_content": null,
      "justify_items": null,
      "left": null,
      "margin": null,
      "max_height": null,
      "max_width": null,
      "min_height": null,
      "min_width": null,
      "object_fit": null,
      "object_position": null,
      "order": null,
      "overflow": null,
      "overflow_x": null,
      "overflow_y": null,
      "padding": null,
      "right": null,
      "top": null,
      "visibility": null,
      "width": null
     }
    },
    "395a1f98fdfd4f85a1c0a344c332e541": {
     "model_module": "@jupyter-widgets/controls",
     "model_name": "DescriptionStyleModel",
     "state": {
      "_model_module": "@jupyter-widgets/controls",
      "_model_module_version": "1.5.0",
      "_model_name": "DescriptionStyleModel",
      "_view_count": null,
      "_view_module": "@jupyter-widgets/base",
      "_view_module_version": "1.2.0",
      "_view_name": "StyleView",
      "description_width": ""
     }
    },
    "39a94a8634fc4c00b925e22b8ff20d0d": {
     "model_module": "@jupyter-widgets/controls",
     "model_name": "FloatProgressModel",
     "state": {
      "_dom_classes": [],
      "_model_module": "@jupyter-widgets/controls",
      "_model_module_version": "1.5.0",
      "_model_name": "FloatProgressModel",
      "_view_count": null,
      "_view_module": "@jupyter-widgets/controls",
      "_view_module_version": "1.5.0",
      "_view_name": "ProgressView",
      "bar_style": "",
      "description": "",
      "description_tooltip": null,
      "layout": "IPY_MODEL_8660f2cf41a84d678d606af4b5f38b7d",
      "max": 1,
      "min": 0,
      "orientation": "horizontal",
      "style": "IPY_MODEL_2573f602663f4c2fb4483368bf77d6ef",
      "value": 1
     }
    },
    "39c5957113d24b2c80d83f7ca4cd79f7": {
     "model_module": "@jupyter-widgets/controls",
     "model_name": "VBoxModel",
     "state": {
      "_dom_classes": [],
      "_model_module": "@jupyter-widgets/controls",
      "_model_module_version": "1.5.0",
      "_model_name": "VBoxModel",
      "_view_count": null,
      "_view_module": "@jupyter-widgets/controls",
      "_view_module_version": "1.5.0",
      "_view_name": "VBoxView",
      "box_style": "",
      "children": [
       "IPY_MODEL_689119657e5f4251956eba9449fbfbd4",
       "IPY_MODEL_a931ae4b03404f97b644515932a17dca"
      ],
      "layout": "IPY_MODEL_ebcd8a2dd1924fd28e4a33e022fa2d0d"
     }
    },
    "3c4faa613ca94e54bb439e34ea007564": {
     "model_module": "@jupyter-widgets/controls",
     "model_name": "DescriptionStyleModel",
     "state": {
      "_model_module": "@jupyter-widgets/controls",
      "_model_module_version": "1.5.0",
      "_model_name": "DescriptionStyleModel",
      "_view_count": null,
      "_view_module": "@jupyter-widgets/base",
      "_view_module_version": "1.2.0",
      "_view_name": "StyleView",
      "description_width": ""
     }
    },
    "3ca32eae130f44dcbf7e4a658a1f70d8": {
     "model_module": "@jupyter-widgets/controls",
     "model_name": "DescriptionStyleModel",
     "state": {
      "_model_module": "@jupyter-widgets/controls",
      "_model_module_version": "1.5.0",
      "_model_name": "DescriptionStyleModel",
      "_view_count": null,
      "_view_module": "@jupyter-widgets/base",
      "_view_module_version": "1.2.0",
      "_view_name": "StyleView",
      "description_width": ""
     }
    },
    "3cde705145d849a2afff46f2ebb095a1": {
     "model_module": "@jupyter-widgets/base",
     "model_name": "LayoutModel",
     "state": {
      "_model_module": "@jupyter-widgets/base",
      "_model_module_version": "1.2.0",
      "_model_name": "LayoutModel",
      "_view_count": null,
      "_view_module": "@jupyter-widgets/base",
      "_view_module_version": "1.2.0",
      "_view_name": "LayoutView",
      "align_content": null,
      "align_items": null,
      "align_self": null,
      "border": null,
      "bottom": null,
      "display": null,
      "flex": null,
      "flex_flow": null,
      "grid_area": null,
      "grid_auto_columns": null,
      "grid_auto_flow": null,
      "grid_auto_rows": null,
      "grid_column": null,
      "grid_gap": null,
      "grid_row": null,
      "grid_template_areas": null,
      "grid_template_columns": null,
      "grid_template_rows": null,
      "height": null,
      "justify_content": null,
      "justify_items": null,
      "left": null,
      "margin": null,
      "max_height": null,
      "max_width": null,
      "min_height": null,
      "min_width": null,
      "object_fit": null,
      "object_position": null,
      "order": null,
      "overflow": null,
      "overflow_x": null,
      "overflow_y": null,
      "padding": null,
      "right": null,
      "top": null,
      "visibility": null,
      "width": null
     }
    },
    "3df68021046644448b69e91f3c2b2a55": {
     "model_module": "@jupyter-widgets/base",
     "model_name": "LayoutModel",
     "state": {
      "_model_module": "@jupyter-widgets/base",
      "_model_module_version": "1.2.0",
      "_model_name": "LayoutModel",
      "_view_count": null,
      "_view_module": "@jupyter-widgets/base",
      "_view_module_version": "1.2.0",
      "_view_name": "LayoutView",
      "align_content": null,
      "align_items": null,
      "align_self": null,
      "border": null,
      "bottom": null,
      "display": null,
      "flex": null,
      "flex_flow": null,
      "grid_area": null,
      "grid_auto_columns": null,
      "grid_auto_flow": null,
      "grid_auto_rows": null,
      "grid_column": null,
      "grid_gap": null,
      "grid_row": null,
      "grid_template_areas": null,
      "grid_template_columns": null,
      "grid_template_rows": null,
      "height": null,
      "justify_content": null,
      "justify_items": null,
      "left": null,
      "margin": null,
      "max_height": null,
      "max_width": null,
      "min_height": null,
      "min_width": null,
      "object_fit": null,
      "object_position": null,
      "order": null,
      "overflow": null,
      "overflow_x": null,
      "overflow_y": null,
      "padding": null,
      "right": null,
      "top": null,
      "visibility": null,
      "width": null
     }
    },
    "3ec82169da1f48d3b15ed29ca774a415": {
     "model_module": "@jupyter-widgets/controls",
     "model_name": "LabelModel",
     "state": {
      "_dom_classes": [],
      "_model_module": "@jupyter-widgets/controls",
      "_model_module_version": "1.5.0",
      "_model_name": "LabelModel",
      "_view_count": null,
      "_view_module": "@jupyter-widgets/controls",
      "_view_module_version": "1.5.0",
      "_view_name": "LabelView",
      "description": "",
      "description_tooltip": null,
      "layout": "IPY_MODEL_bedd16c4d2a74e0f92952464127f837a",
      "placeholder": "​",
      "style": "IPY_MODEL_d7d1a72efdd744ae9ad055b175a4001a",
      "value": " 4.55MB of 4.55MB uploaded (0.00MB deduped)\r"
     }
    },
    "40f2fc553d0646c8a59c2c7dd1d34ebb": {
     "model_module": "@jupyter-widgets/base",
     "model_name": "LayoutModel",
     "state": {
      "_model_module": "@jupyter-widgets/base",
      "_model_module_version": "1.2.0",
      "_model_name": "LayoutModel",
      "_view_count": null,
      "_view_module": "@jupyter-widgets/base",
      "_view_module_version": "1.2.0",
      "_view_name": "LayoutView",
      "align_content": null,
      "align_items": null,
      "align_self": null,
      "border": null,
      "bottom": null,
      "display": null,
      "flex": null,
      "flex_flow": null,
      "grid_area": null,
      "grid_auto_columns": null,
      "grid_auto_flow": null,
      "grid_auto_rows": null,
      "grid_column": null,
      "grid_gap": null,
      "grid_row": null,
      "grid_template_areas": null,
      "grid_template_columns": null,
      "grid_template_rows": null,
      "height": null,
      "justify_content": null,
      "justify_items": null,
      "left": null,
      "margin": null,
      "max_height": null,
      "max_width": null,
      "min_height": null,
      "min_width": null,
      "object_fit": null,
      "object_position": null,
      "order": null,
      "overflow": null,
      "overflow_x": null,
      "overflow_y": null,
      "padding": null,
      "right": null,
      "top": null,
      "visibility": null,
      "width": null
     }
    },
    "42156e5fa9d94b01b05b9393988115c7": {
     "model_module": "@jupyter-widgets/controls",
     "model_name": "DescriptionStyleModel",
     "state": {
      "_model_module": "@jupyter-widgets/controls",
      "_model_module_version": "1.5.0",
      "_model_name": "DescriptionStyleModel",
      "_view_count": null,
      "_view_module": "@jupyter-widgets/base",
      "_view_module_version": "1.2.0",
      "_view_name": "StyleView",
      "description_width": ""
     }
    },
    "42be9f73079a45d2b32e10777746a890": {
     "model_module": "@jupyter-widgets/controls",
     "model_name": "ProgressStyleModel",
     "state": {
      "_model_module": "@jupyter-widgets/controls",
      "_model_module_version": "1.5.0",
      "_model_name": "ProgressStyleModel",
      "_view_count": null,
      "_view_module": "@jupyter-widgets/base",
      "_view_module_version": "1.2.0",
      "_view_name": "StyleView",
      "bar_color": null,
      "description_width": ""
     }
    },
    "43c42982fc7641ceb558b67a2eb4eb37": {
     "model_module": "@jupyter-widgets/controls",
     "model_name": "ProgressStyleModel",
     "state": {
      "_model_module": "@jupyter-widgets/controls",
      "_model_module_version": "1.5.0",
      "_model_name": "ProgressStyleModel",
      "_view_count": null,
      "_view_module": "@jupyter-widgets/base",
      "_view_module_version": "1.2.0",
      "_view_name": "StyleView",
      "bar_color": null,
      "description_width": ""
     }
    },
    "445e275d8451465b9fe25b745236d66d": {
     "model_module": "@jupyter-widgets/base",
     "model_name": "LayoutModel",
     "state": {
      "_model_module": "@jupyter-widgets/base",
      "_model_module_version": "1.2.0",
      "_model_name": "LayoutModel",
      "_view_count": null,
      "_view_module": "@jupyter-widgets/base",
      "_view_module_version": "1.2.0",
      "_view_name": "LayoutView",
      "align_content": null,
      "align_items": null,
      "align_self": null,
      "border": null,
      "bottom": null,
      "display": null,
      "flex": null,
      "flex_flow": null,
      "grid_area": null,
      "grid_auto_columns": null,
      "grid_auto_flow": null,
      "grid_auto_rows": null,
      "grid_column": null,
      "grid_gap": null,
      "grid_row": null,
      "grid_template_areas": null,
      "grid_template_columns": null,
      "grid_template_rows": null,
      "height": null,
      "justify_content": null,
      "justify_items": null,
      "left": null,
      "margin": null,
      "max_height": null,
      "max_width": null,
      "min_height": null,
      "min_width": null,
      "object_fit": null,
      "object_position": null,
      "order": null,
      "overflow": null,
      "overflow_x": null,
      "overflow_y": null,
      "padding": null,
      "right": null,
      "top": null,
      "visibility": null,
      "width": null
     }
    },
    "4497eef1ad8846c8882a94ffc1ecd41b": {
     "model_module": "@jupyter-widgets/controls",
     "model_name": "ProgressStyleModel",
     "state": {
      "_model_module": "@jupyter-widgets/controls",
      "_model_module_version": "1.5.0",
      "_model_name": "ProgressStyleModel",
      "_view_count": null,
      "_view_module": "@jupyter-widgets/base",
      "_view_module_version": "1.2.0",
      "_view_name": "StyleView",
      "bar_color": null,
      "description_width": ""
     }
    },
    "469e12d5151c4d91b8b76f0d177573e8": {
     "model_module": "@jupyter-widgets/base",
     "model_name": "LayoutModel",
     "state": {
      "_model_module": "@jupyter-widgets/base",
      "_model_module_version": "1.2.0",
      "_model_name": "LayoutModel",
      "_view_count": null,
      "_view_module": "@jupyter-widgets/base",
      "_view_module_version": "1.2.0",
      "_view_name": "LayoutView",
      "align_content": null,
      "align_items": null,
      "align_self": null,
      "border": null,
      "bottom": null,
      "display": null,
      "flex": null,
      "flex_flow": null,
      "grid_area": null,
      "grid_auto_columns": null,
      "grid_auto_flow": null,
      "grid_auto_rows": null,
      "grid_column": null,
      "grid_gap": null,
      "grid_row": null,
      "grid_template_areas": null,
      "grid_template_columns": null,
      "grid_template_rows": null,
      "height": null,
      "justify_content": null,
      "justify_items": null,
      "left": null,
      "margin": null,
      "max_height": null,
      "max_width": null,
      "min_height": null,
      "min_width": null,
      "object_fit": null,
      "object_position": null,
      "order": null,
      "overflow": null,
      "overflow_x": null,
      "overflow_y": null,
      "padding": null,
      "right": null,
      "top": null,
      "visibility": null,
      "width": null
     }
    },
    "47e45196ff5b457196ff696404037306": {
     "model_module": "@jupyter-widgets/controls",
     "model_name": "VBoxModel",
     "state": {
      "_dom_classes": [],
      "_model_module": "@jupyter-widgets/controls",
      "_model_module_version": "1.5.0",
      "_model_name": "VBoxModel",
      "_view_count": null,
      "_view_module": "@jupyter-widgets/controls",
      "_view_module_version": "1.5.0",
      "_view_name": "VBoxView",
      "box_style": "",
      "children": [
       "IPY_MODEL_9659e5bb1c13424eb9b5e27b9c299492",
       "IPY_MODEL_5bee195ef68248638704b5417ae464ea"
      ],
      "layout": "IPY_MODEL_2f59c0bb00e84daba842382c62295d4e"
     }
    },
    "48128eae96fc4efe9bc8e4cbcc70e342": {
     "model_module": "@jupyter-widgets/controls",
     "model_name": "ProgressStyleModel",
     "state": {
      "_model_module": "@jupyter-widgets/controls",
      "_model_module_version": "1.5.0",
      "_model_name": "ProgressStyleModel",
      "_view_count": null,
      "_view_module": "@jupyter-widgets/base",
      "_view_module_version": "1.2.0",
      "_view_name": "StyleView",
      "bar_color": null,
      "description_width": ""
     }
    },
    "48ab68228fa34a5282d79513af784350": {
     "model_module": "@jupyter-widgets/controls",
     "model_name": "ProgressStyleModel",
     "state": {
      "_model_module": "@jupyter-widgets/controls",
      "_model_module_version": "1.5.0",
      "_model_name": "ProgressStyleModel",
      "_view_count": null,
      "_view_module": "@jupyter-widgets/base",
      "_view_module_version": "1.2.0",
      "_view_name": "StyleView",
      "bar_color": null,
      "description_width": ""
     }
    },
    "4a2ddf40bada46d5be0e76a1b5967323": {
     "model_module": "@jupyter-widgets/base",
     "model_name": "LayoutModel",
     "state": {
      "_model_module": "@jupyter-widgets/base",
      "_model_module_version": "1.2.0",
      "_model_name": "LayoutModel",
      "_view_count": null,
      "_view_module": "@jupyter-widgets/base",
      "_view_module_version": "1.2.0",
      "_view_name": "LayoutView",
      "align_content": null,
      "align_items": null,
      "align_self": null,
      "border": null,
      "bottom": null,
      "display": null,
      "flex": null,
      "flex_flow": null,
      "grid_area": null,
      "grid_auto_columns": null,
      "grid_auto_flow": null,
      "grid_auto_rows": null,
      "grid_column": null,
      "grid_gap": null,
      "grid_row": null,
      "grid_template_areas": null,
      "grid_template_columns": null,
      "grid_template_rows": null,
      "height": null,
      "justify_content": null,
      "justify_items": null,
      "left": null,
      "margin": null,
      "max_height": null,
      "max_width": null,
      "min_height": null,
      "min_width": null,
      "object_fit": null,
      "object_position": null,
      "order": null,
      "overflow": null,
      "overflow_x": null,
      "overflow_y": null,
      "padding": null,
      "right": null,
      "top": null,
      "visibility": null,
      "width": null
     }
    },
    "4a8b20981a594a118b285c8f504ebe96": {
     "model_module": "@jupyter-widgets/controls",
     "model_name": "DescriptionStyleModel",
     "state": {
      "_model_module": "@jupyter-widgets/controls",
      "_model_module_version": "1.5.0",
      "_model_name": "DescriptionStyleModel",
      "_view_count": null,
      "_view_module": "@jupyter-widgets/base",
      "_view_module_version": "1.2.0",
      "_view_name": "StyleView",
      "description_width": ""
     }
    },
    "4bace665f7e94fdcb3045492baf1ca94": {
     "model_module": "@jupyter-widgets/controls",
     "model_name": "FloatProgressModel",
     "state": {
      "_dom_classes": [],
      "_model_module": "@jupyter-widgets/controls",
      "_model_module_version": "1.5.0",
      "_model_name": "FloatProgressModel",
      "_view_count": null,
      "_view_module": "@jupyter-widgets/controls",
      "_view_module_version": "1.5.0",
      "_view_name": "ProgressView",
      "bar_style": "",
      "description": "",
      "description_tooltip": null,
      "layout": "IPY_MODEL_469e12d5151c4d91b8b76f0d177573e8",
      "max": 1,
      "min": 0,
      "orientation": "horizontal",
      "style": "IPY_MODEL_908f659dbee54c6fae03a4fa66afb39f",
      "value": 1
     }
    },
    "4bd0643c290b40eba204302c697a313d": {
     "model_module": "@jupyter-widgets/controls",
     "model_name": "LabelModel",
     "state": {
      "_dom_classes": [],
      "_model_module": "@jupyter-widgets/controls",
      "_model_module_version": "1.5.0",
      "_model_name": "LabelModel",
      "_view_count": null,
      "_view_module": "@jupyter-widgets/controls",
      "_view_module_version": "1.5.0",
      "_view_name": "LabelView",
      "description": "",
      "description_tooltip": null,
      "layout": "IPY_MODEL_7701675f317a4c49b6f4b3337e47cd68",
      "placeholder": "​",
      "style": "IPY_MODEL_37fda328e33a435bb0b13e9425b69ea6",
      "value": " 0.84MB of 0.84MB uploaded (0.00MB deduped)\r"
     }
    },
    "4ca75866e8ec4eecbf1e79ff63d647d5": {
     "model_module": "@jupyter-widgets/base",
     "model_name": "LayoutModel",
     "state": {
      "_model_module": "@jupyter-widgets/base",
      "_model_module_version": "1.2.0",
      "_model_name": "LayoutModel",
      "_view_count": null,
      "_view_module": "@jupyter-widgets/base",
      "_view_module_version": "1.2.0",
      "_view_name": "LayoutView",
      "align_content": null,
      "align_items": null,
      "align_self": null,
      "border": null,
      "bottom": null,
      "display": null,
      "flex": null,
      "flex_flow": null,
      "grid_area": null,
      "grid_auto_columns": null,
      "grid_auto_flow": null,
      "grid_auto_rows": null,
      "grid_column": null,
      "grid_gap": null,
      "grid_row": null,
      "grid_template_areas": null,
      "grid_template_columns": null,
      "grid_template_rows": null,
      "height": null,
      "justify_content": null,
      "justify_items": null,
      "left": null,
      "margin": null,
      "max_height": null,
      "max_width": null,
      "min_height": null,
      "min_width": null,
      "object_fit": null,
      "object_position": null,
      "order": null,
      "overflow": null,
      "overflow_x": null,
      "overflow_y": null,
      "padding": null,
      "right": null,
      "top": null,
      "visibility": null,
      "width": null
     }
    },
    "4d8c9b98b0de4433801dd85a3c3741c1": {
     "model_module": "@jupyter-widgets/base",
     "model_name": "LayoutModel",
     "state": {
      "_model_module": "@jupyter-widgets/base",
      "_model_module_version": "1.2.0",
      "_model_name": "LayoutModel",
      "_view_count": null,
      "_view_module": "@jupyter-widgets/base",
      "_view_module_version": "1.2.0",
      "_view_name": "LayoutView",
      "align_content": null,
      "align_items": null,
      "align_self": null,
      "border": null,
      "bottom": null,
      "display": null,
      "flex": null,
      "flex_flow": null,
      "grid_area": null,
      "grid_auto_columns": null,
      "grid_auto_flow": null,
      "grid_auto_rows": null,
      "grid_column": null,
      "grid_gap": null,
      "grid_row": null,
      "grid_template_areas": null,
      "grid_template_columns": null,
      "grid_template_rows": null,
      "height": null,
      "justify_content": null,
      "justify_items": null,
      "left": null,
      "margin": null,
      "max_height": null,
      "max_width": null,
      "min_height": null,
      "min_width": null,
      "object_fit": null,
      "object_position": null,
      "order": null,
      "overflow": null,
      "overflow_x": null,
      "overflow_y": null,
      "padding": null,
      "right": null,
      "top": null,
      "visibility": null,
      "width": null
     }
    },
    "4eea2693789545789ddc12cd8fb3c78e": {
     "model_module": "@jupyter-widgets/controls",
     "model_name": "ProgressStyleModel",
     "state": {
      "_model_module": "@jupyter-widgets/controls",
      "_model_module_version": "1.5.0",
      "_model_name": "ProgressStyleModel",
      "_view_count": null,
      "_view_module": "@jupyter-widgets/base",
      "_view_module_version": "1.2.0",
      "_view_name": "StyleView",
      "bar_color": null,
      "description_width": ""
     }
    },
    "4f09b611e1fb4096b4e406d039f6c5f6": {
     "model_module": "@jupyter-widgets/controls",
     "model_name": "FloatProgressModel",
     "state": {
      "_dom_classes": [],
      "_model_module": "@jupyter-widgets/controls",
      "_model_module_version": "1.5.0",
      "_model_name": "FloatProgressModel",
      "_view_count": null,
      "_view_module": "@jupyter-widgets/controls",
      "_view_module_version": "1.5.0",
      "_view_name": "ProgressView",
      "bar_style": "",
      "description": "",
      "description_tooltip": null,
      "layout": "IPY_MODEL_9ef0f333065e4a17a7aa6e8ec446cf71",
      "max": 1,
      "min": 0,
      "orientation": "horizontal",
      "style": "IPY_MODEL_df661ffe12d04a6eb21785587d842dd7",
      "value": 1
     }
    },
    "4f1d8fa644aa4cd188d271a9eb0451db": {
     "model_module": "@jupyter-widgets/controls",
     "model_name": "DescriptionStyleModel",
     "state": {
      "_model_module": "@jupyter-widgets/controls",
      "_model_module_version": "1.5.0",
      "_model_name": "DescriptionStyleModel",
      "_view_count": null,
      "_view_module": "@jupyter-widgets/base",
      "_view_module_version": "1.2.0",
      "_view_name": "StyleView",
      "description_width": ""
     }
    },
    "4f28944aa5be449da19d3b0498c633ae": {
     "model_module": "@jupyter-widgets/controls",
     "model_name": "DescriptionStyleModel",
     "state": {
      "_model_module": "@jupyter-widgets/controls",
      "_model_module_version": "1.5.0",
      "_model_name": "DescriptionStyleModel",
      "_view_count": null,
      "_view_module": "@jupyter-widgets/base",
      "_view_module_version": "1.2.0",
      "_view_name": "StyleView",
      "description_width": ""
     }
    },
    "50cce0d9bc174f678cbda6195d2b13d1": {
     "model_module": "@jupyter-widgets/base",
     "model_name": "LayoutModel",
     "state": {
      "_model_module": "@jupyter-widgets/base",
      "_model_module_version": "1.2.0",
      "_model_name": "LayoutModel",
      "_view_count": null,
      "_view_module": "@jupyter-widgets/base",
      "_view_module_version": "1.2.0",
      "_view_name": "LayoutView",
      "align_content": null,
      "align_items": null,
      "align_self": null,
      "border": null,
      "bottom": null,
      "display": null,
      "flex": null,
      "flex_flow": null,
      "grid_area": null,
      "grid_auto_columns": null,
      "grid_auto_flow": null,
      "grid_auto_rows": null,
      "grid_column": null,
      "grid_gap": null,
      "grid_row": null,
      "grid_template_areas": null,
      "grid_template_columns": null,
      "grid_template_rows": null,
      "height": null,
      "justify_content": null,
      "justify_items": null,
      "left": null,
      "margin": null,
      "max_height": null,
      "max_width": null,
      "min_height": null,
      "min_width": null,
      "object_fit": null,
      "object_position": null,
      "order": null,
      "overflow": null,
      "overflow_x": null,
      "overflow_y": null,
      "padding": null,
      "right": null,
      "top": null,
      "visibility": null,
      "width": null
     }
    },
    "53c639bdfc1f4ce6bcce50f4b0d59317": {
     "model_module": "@jupyter-widgets/controls",
     "model_name": "ProgressStyleModel",
     "state": {
      "_model_module": "@jupyter-widgets/controls",
      "_model_module_version": "1.5.0",
      "_model_name": "ProgressStyleModel",
      "_view_count": null,
      "_view_module": "@jupyter-widgets/base",
      "_view_module_version": "1.2.0",
      "_view_name": "StyleView",
      "bar_color": null,
      "description_width": ""
     }
    },
    "5504090a87bb44a8a2ff43dbad25193f": {
     "model_module": "@jupyter-widgets/base",
     "model_name": "LayoutModel",
     "state": {
      "_model_module": "@jupyter-widgets/base",
      "_model_module_version": "1.2.0",
      "_model_name": "LayoutModel",
      "_view_count": null,
      "_view_module": "@jupyter-widgets/base",
      "_view_module_version": "1.2.0",
      "_view_name": "LayoutView",
      "align_content": null,
      "align_items": null,
      "align_self": null,
      "border": null,
      "bottom": null,
      "display": null,
      "flex": null,
      "flex_flow": null,
      "grid_area": null,
      "grid_auto_columns": null,
      "grid_auto_flow": null,
      "grid_auto_rows": null,
      "grid_column": null,
      "grid_gap": null,
      "grid_row": null,
      "grid_template_areas": null,
      "grid_template_columns": null,
      "grid_template_rows": null,
      "height": null,
      "justify_content": null,
      "justify_items": null,
      "left": null,
      "margin": null,
      "max_height": null,
      "max_width": null,
      "min_height": null,
      "min_width": null,
      "object_fit": null,
      "object_position": null,
      "order": null,
      "overflow": null,
      "overflow_x": null,
      "overflow_y": null,
      "padding": null,
      "right": null,
      "top": null,
      "visibility": null,
      "width": null
     }
    },
    "55eab153127f4f178f771c938fa3afbc": {
     "model_module": "@jupyter-widgets/controls",
     "model_name": "FloatProgressModel",
     "state": {
      "_dom_classes": [],
      "_model_module": "@jupyter-widgets/controls",
      "_model_module_version": "1.5.0",
      "_model_name": "FloatProgressModel",
      "_view_count": null,
      "_view_module": "@jupyter-widgets/controls",
      "_view_module_version": "1.5.0",
      "_view_name": "ProgressView",
      "bar_style": "",
      "description": "",
      "description_tooltip": null,
      "layout": "IPY_MODEL_005ef95818cf4ff4b6f9ed57d3a5979e",
      "max": 1,
      "min": 0,
      "orientation": "horizontal",
      "style": "IPY_MODEL_3699eb201cde47ae93daffc8d17e0085",
      "value": 1
     }
    },
    "561c51cdcb7541e88f183680828f4001": {
     "model_module": "@jupyter-widgets/base",
     "model_name": "LayoutModel",
     "state": {
      "_model_module": "@jupyter-widgets/base",
      "_model_module_version": "1.2.0",
      "_model_name": "LayoutModel",
      "_view_count": null,
      "_view_module": "@jupyter-widgets/base",
      "_view_module_version": "1.2.0",
      "_view_name": "LayoutView",
      "align_content": null,
      "align_items": null,
      "align_self": null,
      "border": null,
      "bottom": null,
      "display": null,
      "flex": null,
      "flex_flow": null,
      "grid_area": null,
      "grid_auto_columns": null,
      "grid_auto_flow": null,
      "grid_auto_rows": null,
      "grid_column": null,
      "grid_gap": null,
      "grid_row": null,
      "grid_template_areas": null,
      "grid_template_columns": null,
      "grid_template_rows": null,
      "height": null,
      "justify_content": null,
      "justify_items": null,
      "left": null,
      "margin": null,
      "max_height": null,
      "max_width": null,
      "min_height": null,
      "min_width": null,
      "object_fit": null,
      "object_position": null,
      "order": null,
      "overflow": null,
      "overflow_x": null,
      "overflow_y": null,
      "padding": null,
      "right": null,
      "top": null,
      "visibility": null,
      "width": null
     }
    },
    "562b3fb4b002428cbdb57e0287b1b199": {
     "model_module": "@jupyter-widgets/controls",
     "model_name": "DescriptionStyleModel",
     "state": {
      "_model_module": "@jupyter-widgets/controls",
      "_model_module_version": "1.5.0",
      "_model_name": "DescriptionStyleModel",
      "_view_count": null,
      "_view_module": "@jupyter-widgets/base",
      "_view_module_version": "1.2.0",
      "_view_name": "StyleView",
      "description_width": ""
     }
    },
    "56856a4cae144cff9baab2641a4f94c6": {
     "model_module": "@jupyter-widgets/controls",
     "model_name": "FloatProgressModel",
     "state": {
      "_dom_classes": [],
      "_model_module": "@jupyter-widgets/controls",
      "_model_module_version": "1.5.0",
      "_model_name": "FloatProgressModel",
      "_view_count": null,
      "_view_module": "@jupyter-widgets/controls",
      "_view_module_version": "1.5.0",
      "_view_name": "ProgressView",
      "bar_style": "",
      "description": "",
      "description_tooltip": null,
      "layout": "IPY_MODEL_a0dfe2a7cae1404fb76548019a3df991",
      "max": 1,
      "min": 0,
      "orientation": "horizontal",
      "style": "IPY_MODEL_00a329e73e7d47c4aadadd929161e485",
      "value": 1
     }
    },
    "57e5000240ed4b9abd0cfc492f60395a": {
     "model_module": "@jupyter-widgets/controls",
     "model_name": "LabelModel",
     "state": {
      "_dom_classes": [],
      "_model_module": "@jupyter-widgets/controls",
      "_model_module_version": "1.5.0",
      "_model_name": "LabelModel",
      "_view_count": null,
      "_view_module": "@jupyter-widgets/controls",
      "_view_module_version": "1.5.0",
      "_view_name": "LabelView",
      "description": "",
      "description_tooltip": null,
      "layout": "IPY_MODEL_219724b6871a44d58e64c614ae1836fd",
      "placeholder": "​",
      "style": "IPY_MODEL_d1ed86cc6dc34d1dab67927f816e7cb8",
      "value": " 1.35MB of 1.35MB uploaded (0.00MB deduped)\r"
     }
    },
    "584a3f239c4042d38a06768d367f74cf": {
     "model_module": "@jupyter-widgets/base",
     "model_name": "LayoutModel",
     "state": {
      "_model_module": "@jupyter-widgets/base",
      "_model_module_version": "1.2.0",
      "_model_name": "LayoutModel",
      "_view_count": null,
      "_view_module": "@jupyter-widgets/base",
      "_view_module_version": "1.2.0",
      "_view_name": "LayoutView",
      "align_content": null,
      "align_items": null,
      "align_self": null,
      "border": null,
      "bottom": null,
      "display": null,
      "flex": null,
      "flex_flow": null,
      "grid_area": null,
      "grid_auto_columns": null,
      "grid_auto_flow": null,
      "grid_auto_rows": null,
      "grid_column": null,
      "grid_gap": null,
      "grid_row": null,
      "grid_template_areas": null,
      "grid_template_columns": null,
      "grid_template_rows": null,
      "height": null,
      "justify_content": null,
      "justify_items": null,
      "left": null,
      "margin": null,
      "max_height": null,
      "max_width": null,
      "min_height": null,
      "min_width": null,
      "object_fit": null,
      "object_position": null,
      "order": null,
      "overflow": null,
      "overflow_x": null,
      "overflow_y": null,
      "padding": null,
      "right": null,
      "top": null,
      "visibility": null,
      "width": null
     }
    },
    "5ba7375ad67541258dd306989e804c33": {
     "model_module": "@jupyter-widgets/controls",
     "model_name": "FloatProgressModel",
     "state": {
      "_dom_classes": [],
      "_model_module": "@jupyter-widgets/controls",
      "_model_module_version": "1.5.0",
      "_model_name": "FloatProgressModel",
      "_view_count": null,
      "_view_module": "@jupyter-widgets/controls",
      "_view_module_version": "1.5.0",
      "_view_name": "ProgressView",
      "bar_style": "",
      "description": "",
      "description_tooltip": null,
      "layout": "IPY_MODEL_cbb997c831904d2f9e9ca92aa1166e07",
      "max": 1,
      "min": 0,
      "orientation": "horizontal",
      "style": "IPY_MODEL_824ce7336529443eafdeb8a1d2e7db6d",
      "value": 1
     }
    },
    "5bee195ef68248638704b5417ae464ea": {
     "model_module": "@jupyter-widgets/controls",
     "model_name": "FloatProgressModel",
     "state": {
      "_dom_classes": [],
      "_model_module": "@jupyter-widgets/controls",
      "_model_module_version": "1.5.0",
      "_model_name": "FloatProgressModel",
      "_view_count": null,
      "_view_module": "@jupyter-widgets/controls",
      "_view_module_version": "1.5.0",
      "_view_name": "ProgressView",
      "bar_style": "",
      "description": "",
      "description_tooltip": null,
      "layout": "IPY_MODEL_f6e803886e0441c59566af24f3eabee0",
      "max": 1,
      "min": 0,
      "orientation": "horizontal",
      "style": "IPY_MODEL_c68bbfcd53474dba8f10869da6bb879d",
      "value": 1
     }
    },
    "5dd2e5a0bcd14f8581cd583fe7656b4d": {
     "model_module": "@jupyter-widgets/controls",
     "model_name": "LabelModel",
     "state": {
      "_dom_classes": [],
      "_model_module": "@jupyter-widgets/controls",
      "_model_module_version": "1.5.0",
      "_model_name": "LabelModel",
      "_view_count": null,
      "_view_module": "@jupyter-widgets/controls",
      "_view_module_version": "1.5.0",
      "_view_name": "LabelView",
      "description": "",
      "description_tooltip": null,
      "layout": "IPY_MODEL_2aa74851e18e4803ac56c35db47b19db",
      "placeholder": "​",
      "style": "IPY_MODEL_9711d0f9c4f741c8baeb901585bf55a3",
      "value": " 4.22MB of 4.22MB uploaded (0.00MB deduped)\r"
     }
    },
    "5dda61a56d8d43d782e3305e7dfb1d1c": {
     "model_module": "@jupyter-widgets/controls",
     "model_name": "FloatProgressModel",
     "state": {
      "_dom_classes": [],
      "_model_module": "@jupyter-widgets/controls",
      "_model_module_version": "1.5.0",
      "_model_name": "FloatProgressModel",
      "_view_count": null,
      "_view_module": "@jupyter-widgets/controls",
      "_view_module_version": "1.5.0",
      "_view_name": "ProgressView",
      "bar_style": "",
      "description": "",
      "description_tooltip": null,
      "layout": "IPY_MODEL_8c96429c5fed43de89de536dd5abb705",
      "max": 1,
      "min": 0,
      "orientation": "horizontal",
      "style": "IPY_MODEL_e55926bf4b31458f9f47c17383d13a5d",
      "value": 1
     }
    },
    "5e674c808c3440fa93bdc5667a2484af": {
     "model_module": "@jupyter-widgets/base",
     "model_name": "LayoutModel",
     "state": {
      "_model_module": "@jupyter-widgets/base",
      "_model_module_version": "1.2.0",
      "_model_name": "LayoutModel",
      "_view_count": null,
      "_view_module": "@jupyter-widgets/base",
      "_view_module_version": "1.2.0",
      "_view_name": "LayoutView",
      "align_content": null,
      "align_items": null,
      "align_self": null,
      "border": null,
      "bottom": null,
      "display": null,
      "flex": null,
      "flex_flow": null,
      "grid_area": null,
      "grid_auto_columns": null,
      "grid_auto_flow": null,
      "grid_auto_rows": null,
      "grid_column": null,
      "grid_gap": null,
      "grid_row": null,
      "grid_template_areas": null,
      "grid_template_columns": null,
      "grid_template_rows": null,
      "height": null,
      "justify_content": null,
      "justify_items": null,
      "left": null,
      "margin": null,
      "max_height": null,
      "max_width": null,
      "min_height": null,
      "min_width": null,
      "object_fit": null,
      "object_position": null,
      "order": null,
      "overflow": null,
      "overflow_x": null,
      "overflow_y": null,
      "padding": null,
      "right": null,
      "top": null,
      "visibility": null,
      "width": null
     }
    },
    "5e763f28d49f4e3ba8eeaf84afa98f20": {
     "model_module": "@jupyter-widgets/base",
     "model_name": "LayoutModel",
     "state": {
      "_model_module": "@jupyter-widgets/base",
      "_model_module_version": "1.2.0",
      "_model_name": "LayoutModel",
      "_view_count": null,
      "_view_module": "@jupyter-widgets/base",
      "_view_module_version": "1.2.0",
      "_view_name": "LayoutView",
      "align_content": null,
      "align_items": null,
      "align_self": null,
      "border": null,
      "bottom": null,
      "display": null,
      "flex": null,
      "flex_flow": null,
      "grid_area": null,
      "grid_auto_columns": null,
      "grid_auto_flow": null,
      "grid_auto_rows": null,
      "grid_column": null,
      "grid_gap": null,
      "grid_row": null,
      "grid_template_areas": null,
      "grid_template_columns": null,
      "grid_template_rows": null,
      "height": null,
      "justify_content": null,
      "justify_items": null,
      "left": null,
      "margin": null,
      "max_height": null,
      "max_width": null,
      "min_height": null,
      "min_width": null,
      "object_fit": null,
      "object_position": null,
      "order": null,
      "overflow": null,
      "overflow_x": null,
      "overflow_y": null,
      "padding": null,
      "right": null,
      "top": null,
      "visibility": null,
      "width": null
     }
    },
    "5e77f8e02d3c479b9b04c4d2346df4e4": {
     "model_module": "@jupyter-widgets/controls",
     "model_name": "VBoxModel",
     "state": {
      "_dom_classes": [],
      "_model_module": "@jupyter-widgets/controls",
      "_model_module_version": "1.5.0",
      "_model_name": "VBoxModel",
      "_view_count": null,
      "_view_module": "@jupyter-widgets/controls",
      "_view_module_version": "1.5.0",
      "_view_name": "VBoxView",
      "box_style": "",
      "children": [
       "IPY_MODEL_a044c0b2ecd04f7b9b9b865d45753e55",
       "IPY_MODEL_770e7fda729d4433bc92ff86a1730344"
      ],
      "layout": "IPY_MODEL_21dfbd3f1cad40a8a8662b8d651b53ad"
     }
    },
    "5ea7b2c6407745968413240a7392d17d": {
     "model_module": "@jupyter-widgets/base",
     "model_name": "LayoutModel",
     "state": {
      "_model_module": "@jupyter-widgets/base",
      "_model_module_version": "1.2.0",
      "_model_name": "LayoutModel",
      "_view_count": null,
      "_view_module": "@jupyter-widgets/base",
      "_view_module_version": "1.2.0",
      "_view_name": "LayoutView",
      "align_content": null,
      "align_items": null,
      "align_self": null,
      "border": null,
      "bottom": null,
      "display": null,
      "flex": null,
      "flex_flow": null,
      "grid_area": null,
      "grid_auto_columns": null,
      "grid_auto_flow": null,
      "grid_auto_rows": null,
      "grid_column": null,
      "grid_gap": null,
      "grid_row": null,
      "grid_template_areas": null,
      "grid_template_columns": null,
      "grid_template_rows": null,
      "height": null,
      "justify_content": null,
      "justify_items": null,
      "left": null,
      "margin": null,
      "max_height": null,
      "max_width": null,
      "min_height": null,
      "min_width": null,
      "object_fit": null,
      "object_position": null,
      "order": null,
      "overflow": null,
      "overflow_x": null,
      "overflow_y": null,
      "padding": null,
      "right": null,
      "top": null,
      "visibility": null,
      "width": null
     }
    },
    "5eaf5c051e8d456ca8e8c0eb0ddb37cc": {
     "model_module": "@jupyter-widgets/base",
     "model_name": "LayoutModel",
     "state": {
      "_model_module": "@jupyter-widgets/base",
      "_model_module_version": "1.2.0",
      "_model_name": "LayoutModel",
      "_view_count": null,
      "_view_module": "@jupyter-widgets/base",
      "_view_module_version": "1.2.0",
      "_view_name": "LayoutView",
      "align_content": null,
      "align_items": null,
      "align_self": null,
      "border": null,
      "bottom": null,
      "display": null,
      "flex": null,
      "flex_flow": null,
      "grid_area": null,
      "grid_auto_columns": null,
      "grid_auto_flow": null,
      "grid_auto_rows": null,
      "grid_column": null,
      "grid_gap": null,
      "grid_row": null,
      "grid_template_areas": null,
      "grid_template_columns": null,
      "grid_template_rows": null,
      "height": null,
      "justify_content": null,
      "justify_items": null,
      "left": null,
      "margin": null,
      "max_height": null,
      "max_width": null,
      "min_height": null,
      "min_width": null,
      "object_fit": null,
      "object_position": null,
      "order": null,
      "overflow": null,
      "overflow_x": null,
      "overflow_y": null,
      "padding": null,
      "right": null,
      "top": null,
      "visibility": null,
      "width": null
     }
    },
    "5f0b7481de5f4b47970591f66f84d1f4": {
     "model_module": "@jupyter-widgets/controls",
     "model_name": "VBoxModel",
     "state": {
      "_dom_classes": [],
      "_model_module": "@jupyter-widgets/controls",
      "_model_module_version": "1.5.0",
      "_model_name": "VBoxModel",
      "_view_count": null,
      "_view_module": "@jupyter-widgets/controls",
      "_view_module_version": "1.5.0",
      "_view_name": "VBoxView",
      "box_style": "",
      "children": [
       "IPY_MODEL_a45a733f0de8407bb678128252361fb1",
       "IPY_MODEL_3914e44292e341b78918759879c8ba66"
      ],
      "layout": "IPY_MODEL_40f2fc553d0646c8a59c2c7dd1d34ebb"
     }
    },
    "5f42bed4dc8749b1a95bd7780287c843": {
     "model_module": "@jupyter-widgets/base",
     "model_name": "LayoutModel",
     "state": {
      "_model_module": "@jupyter-widgets/base",
      "_model_module_version": "1.2.0",
      "_model_name": "LayoutModel",
      "_view_count": null,
      "_view_module": "@jupyter-widgets/base",
      "_view_module_version": "1.2.0",
      "_view_name": "LayoutView",
      "align_content": null,
      "align_items": null,
      "align_self": null,
      "border": null,
      "bottom": null,
      "display": null,
      "flex": null,
      "flex_flow": null,
      "grid_area": null,
      "grid_auto_columns": null,
      "grid_auto_flow": null,
      "grid_auto_rows": null,
      "grid_column": null,
      "grid_gap": null,
      "grid_row": null,
      "grid_template_areas": null,
      "grid_template_columns": null,
      "grid_template_rows": null,
      "height": null,
      "justify_content": null,
      "justify_items": null,
      "left": null,
      "margin": null,
      "max_height": null,
      "max_width": null,
      "min_height": null,
      "min_width": null,
      "object_fit": null,
      "object_position": null,
      "order": null,
      "overflow": null,
      "overflow_x": null,
      "overflow_y": null,
      "padding": null,
      "right": null,
      "top": null,
      "visibility": null,
      "width": null
     }
    },
    "5fb493d7c5774fdd9380238f94b38ebe": {
     "model_module": "@jupyter-widgets/controls",
     "model_name": "ProgressStyleModel",
     "state": {
      "_model_module": "@jupyter-widgets/controls",
      "_model_module_version": "1.5.0",
      "_model_name": "ProgressStyleModel",
      "_view_count": null,
      "_view_module": "@jupyter-widgets/base",
      "_view_module_version": "1.2.0",
      "_view_name": "StyleView",
      "bar_color": null,
      "description_width": ""
     }
    },
    "60017f7c91fe4daeab94cd23140565d5": {
     "model_module": "@jupyter-widgets/base",
     "model_name": "LayoutModel",
     "state": {
      "_model_module": "@jupyter-widgets/base",
      "_model_module_version": "1.2.0",
      "_model_name": "LayoutModel",
      "_view_count": null,
      "_view_module": "@jupyter-widgets/base",
      "_view_module_version": "1.2.0",
      "_view_name": "LayoutView",
      "align_content": null,
      "align_items": null,
      "align_self": null,
      "border": null,
      "bottom": null,
      "display": null,
      "flex": null,
      "flex_flow": null,
      "grid_area": null,
      "grid_auto_columns": null,
      "grid_auto_flow": null,
      "grid_auto_rows": null,
      "grid_column": null,
      "grid_gap": null,
      "grid_row": null,
      "grid_template_areas": null,
      "grid_template_columns": null,
      "grid_template_rows": null,
      "height": null,
      "justify_content": null,
      "justify_items": null,
      "left": null,
      "margin": null,
      "max_height": null,
      "max_width": null,
      "min_height": null,
      "min_width": null,
      "object_fit": null,
      "object_position": null,
      "order": null,
      "overflow": null,
      "overflow_x": null,
      "overflow_y": null,
      "padding": null,
      "right": null,
      "top": null,
      "visibility": null,
      "width": null
     }
    },
    "603df89816a7487f867482d4769cc3fb": {
     "model_module": "@jupyter-widgets/base",
     "model_name": "LayoutModel",
     "state": {
      "_model_module": "@jupyter-widgets/base",
      "_model_module_version": "1.2.0",
      "_model_name": "LayoutModel",
      "_view_count": null,
      "_view_module": "@jupyter-widgets/base",
      "_view_module_version": "1.2.0",
      "_view_name": "LayoutView",
      "align_content": null,
      "align_items": null,
      "align_self": null,
      "border": null,
      "bottom": null,
      "display": null,
      "flex": null,
      "flex_flow": null,
      "grid_area": null,
      "grid_auto_columns": null,
      "grid_auto_flow": null,
      "grid_auto_rows": null,
      "grid_column": null,
      "grid_gap": null,
      "grid_row": null,
      "grid_template_areas": null,
      "grid_template_columns": null,
      "grid_template_rows": null,
      "height": null,
      "justify_content": null,
      "justify_items": null,
      "left": null,
      "margin": null,
      "max_height": null,
      "max_width": null,
      "min_height": null,
      "min_width": null,
      "object_fit": null,
      "object_position": null,
      "order": null,
      "overflow": null,
      "overflow_x": null,
      "overflow_y": null,
      "padding": null,
      "right": null,
      "top": null,
      "visibility": null,
      "width": null
     }
    },
    "6043ff641e0d49299c754fad6cc37941": {
     "model_module": "@jupyter-widgets/controls",
     "model_name": "VBoxModel",
     "state": {
      "_dom_classes": [],
      "_model_module": "@jupyter-widgets/controls",
      "_model_module_version": "1.5.0",
      "_model_name": "VBoxModel",
      "_view_count": null,
      "_view_module": "@jupyter-widgets/controls",
      "_view_module_version": "1.5.0",
      "_view_name": "VBoxView",
      "box_style": "",
      "children": [
       "IPY_MODEL_8a105f834687458ea1c356b5fec5acb5",
       "IPY_MODEL_046de15aeeb8451cb6d6647bf17293d0"
      ],
      "layout": "IPY_MODEL_61e666cf2ab14ac3a89be38bb2ed0d6d"
     }
    },
    "60e281e1dc244a2da21001d9282ce503": {
     "model_module": "@jupyter-widgets/controls",
     "model_name": "ProgressStyleModel",
     "state": {
      "_model_module": "@jupyter-widgets/controls",
      "_model_module_version": "1.5.0",
      "_model_name": "ProgressStyleModel",
      "_view_count": null,
      "_view_module": "@jupyter-widgets/base",
      "_view_module_version": "1.2.0",
      "_view_name": "StyleView",
      "bar_color": null,
      "description_width": ""
     }
    },
    "61e666cf2ab14ac3a89be38bb2ed0d6d": {
     "model_module": "@jupyter-widgets/base",
     "model_name": "LayoutModel",
     "state": {
      "_model_module": "@jupyter-widgets/base",
      "_model_module_version": "1.2.0",
      "_model_name": "LayoutModel",
      "_view_count": null,
      "_view_module": "@jupyter-widgets/base",
      "_view_module_version": "1.2.0",
      "_view_name": "LayoutView",
      "align_content": null,
      "align_items": null,
      "align_self": null,
      "border": null,
      "bottom": null,
      "display": null,
      "flex": null,
      "flex_flow": null,
      "grid_area": null,
      "grid_auto_columns": null,
      "grid_auto_flow": null,
      "grid_auto_rows": null,
      "grid_column": null,
      "grid_gap": null,
      "grid_row": null,
      "grid_template_areas": null,
      "grid_template_columns": null,
      "grid_template_rows": null,
      "height": null,
      "justify_content": null,
      "justify_items": null,
      "left": null,
      "margin": null,
      "max_height": null,
      "max_width": null,
      "min_height": null,
      "min_width": null,
      "object_fit": null,
      "object_position": null,
      "order": null,
      "overflow": null,
      "overflow_x": null,
      "overflow_y": null,
      "padding": null,
      "right": null,
      "top": null,
      "visibility": null,
      "width": null
     }
    },
    "63790e6bddc7471793cba96475d0ca88": {
     "model_module": "@jupyter-widgets/base",
     "model_name": "LayoutModel",
     "state": {
      "_model_module": "@jupyter-widgets/base",
      "_model_module_version": "1.2.0",
      "_model_name": "LayoutModel",
      "_view_count": null,
      "_view_module": "@jupyter-widgets/base",
      "_view_module_version": "1.2.0",
      "_view_name": "LayoutView",
      "align_content": null,
      "align_items": null,
      "align_self": null,
      "border": null,
      "bottom": null,
      "display": null,
      "flex": null,
      "flex_flow": null,
      "grid_area": null,
      "grid_auto_columns": null,
      "grid_auto_flow": null,
      "grid_auto_rows": null,
      "grid_column": null,
      "grid_gap": null,
      "grid_row": null,
      "grid_template_areas": null,
      "grid_template_columns": null,
      "grid_template_rows": null,
      "height": null,
      "justify_content": null,
      "justify_items": null,
      "left": null,
      "margin": null,
      "max_height": null,
      "max_width": null,
      "min_height": null,
      "min_width": null,
      "object_fit": null,
      "object_position": null,
      "order": null,
      "overflow": null,
      "overflow_x": null,
      "overflow_y": null,
      "padding": null,
      "right": null,
      "top": null,
      "visibility": null,
      "width": null
     }
    },
    "63ba65daf64648c6acce7287259a5d1c": {
     "model_module": "@jupyter-widgets/controls",
     "model_name": "LabelModel",
     "state": {
      "_dom_classes": [],
      "_model_module": "@jupyter-widgets/controls",
      "_model_module_version": "1.5.0",
      "_model_name": "LabelModel",
      "_view_count": null,
      "_view_module": "@jupyter-widgets/controls",
      "_view_module_version": "1.5.0",
      "_view_name": "LabelView",
      "description": "",
      "description_tooltip": null,
      "layout": "IPY_MODEL_5ea7b2c6407745968413240a7392d17d",
      "placeholder": "​",
      "style": "IPY_MODEL_77efce085efa49ed99238707dbdd08a3",
      "value": " 0.82MB of 0.82MB uploaded (0.00MB deduped)\r"
     }
    },
    "64772c893f504027a2100a1ffbb331f1": {
     "model_module": "@jupyter-widgets/controls",
     "model_name": "VBoxModel",
     "state": {
      "_dom_classes": [],
      "_model_module": "@jupyter-widgets/controls",
      "_model_module_version": "1.5.0",
      "_model_name": "VBoxModel",
      "_view_count": null,
      "_view_module": "@jupyter-widgets/controls",
      "_view_module_version": "1.5.0",
      "_view_name": "VBoxView",
      "box_style": "",
      "children": [
       "IPY_MODEL_3ec82169da1f48d3b15ed29ca774a415",
       "IPY_MODEL_bbebd14be61b453a981095eba658b7b0"
      ],
      "layout": "IPY_MODEL_29b2796a4dae402294c1c6717a221579"
     }
    },
    "6521de42d6f548aeb0b479ec90422305": {
     "model_module": "@jupyter-widgets/controls",
     "model_name": "ProgressStyleModel",
     "state": {
      "_model_module": "@jupyter-widgets/controls",
      "_model_module_version": "1.5.0",
      "_model_name": "ProgressStyleModel",
      "_view_count": null,
      "_view_module": "@jupyter-widgets/base",
      "_view_module_version": "1.2.0",
      "_view_name": "StyleView",
      "bar_color": null,
      "description_width": ""
     }
    },
    "6563ad985f72451cbfe9af7fdb96aa26": {
     "model_module": "@jupyter-widgets/controls",
     "model_name": "DescriptionStyleModel",
     "state": {
      "_model_module": "@jupyter-widgets/controls",
      "_model_module_version": "1.5.0",
      "_model_name": "DescriptionStyleModel",
      "_view_count": null,
      "_view_module": "@jupyter-widgets/base",
      "_view_module_version": "1.2.0",
      "_view_name": "StyleView",
      "description_width": ""
     }
    },
    "6573d9d1b01b4503837159f980c4afa1": {
     "model_module": "@jupyter-widgets/controls",
     "model_name": "ProgressStyleModel",
     "state": {
      "_model_module": "@jupyter-widgets/controls",
      "_model_module_version": "1.5.0",
      "_model_name": "ProgressStyleModel",
      "_view_count": null,
      "_view_module": "@jupyter-widgets/base",
      "_view_module_version": "1.2.0",
      "_view_name": "StyleView",
      "bar_color": null,
      "description_width": ""
     }
    },
    "6777c31df07748b49ca6a5c772a6d85b": {
     "model_module": "@jupyter-widgets/base",
     "model_name": "LayoutModel",
     "state": {
      "_model_module": "@jupyter-widgets/base",
      "_model_module_version": "1.2.0",
      "_model_name": "LayoutModel",
      "_view_count": null,
      "_view_module": "@jupyter-widgets/base",
      "_view_module_version": "1.2.0",
      "_view_name": "LayoutView",
      "align_content": null,
      "align_items": null,
      "align_self": null,
      "border": null,
      "bottom": null,
      "display": null,
      "flex": null,
      "flex_flow": null,
      "grid_area": null,
      "grid_auto_columns": null,
      "grid_auto_flow": null,
      "grid_auto_rows": null,
      "grid_column": null,
      "grid_gap": null,
      "grid_row": null,
      "grid_template_areas": null,
      "grid_template_columns": null,
      "grid_template_rows": null,
      "height": null,
      "justify_content": null,
      "justify_items": null,
      "left": null,
      "margin": null,
      "max_height": null,
      "max_width": null,
      "min_height": null,
      "min_width": null,
      "object_fit": null,
      "object_position": null,
      "order": null,
      "overflow": null,
      "overflow_x": null,
      "overflow_y": null,
      "padding": null,
      "right": null,
      "top": null,
      "visibility": null,
      "width": null
     }
    },
    "689119657e5f4251956eba9449fbfbd4": {
     "model_module": "@jupyter-widgets/controls",
     "model_name": "LabelModel",
     "state": {
      "_dom_classes": [],
      "_model_module": "@jupyter-widgets/controls",
      "_model_module_version": "1.5.0",
      "_model_name": "LabelModel",
      "_view_count": null,
      "_view_module": "@jupyter-widgets/controls",
      "_view_module_version": "1.5.0",
      "_view_name": "LabelView",
      "description": "",
      "description_tooltip": null,
      "layout": "IPY_MODEL_d0adf0ccaca84e179b64da36a189f4d1",
      "placeholder": "​",
      "style": "IPY_MODEL_4f28944aa5be449da19d3b0498c633ae",
      "value": " 0.29MB of 0.29MB uploaded (0.00MB deduped)\r"
     }
    },
    "698aa40916964cb9bbdabd9048d6b95b": {
     "model_module": "@jupyter-widgets/controls",
     "model_name": "FloatProgressModel",
     "state": {
      "_dom_classes": [],
      "_model_module": "@jupyter-widgets/controls",
      "_model_module_version": "1.5.0",
      "_model_name": "FloatProgressModel",
      "_view_count": null,
      "_view_module": "@jupyter-widgets/controls",
      "_view_module_version": "1.5.0",
      "_view_name": "ProgressView",
      "bar_style": "",
      "description": "",
      "description_tooltip": null,
      "layout": "IPY_MODEL_dee605fb8c7d4bd3872e7c738e3b4d78",
      "max": 1,
      "min": 0,
      "orientation": "horizontal",
      "style": "IPY_MODEL_43c42982fc7641ceb558b67a2eb4eb37",
      "value": 1
     }
    },
    "6ab167a88b49414786122832b139087a": {
     "model_module": "@jupyter-widgets/base",
     "model_name": "LayoutModel",
     "state": {
      "_model_module": "@jupyter-widgets/base",
      "_model_module_version": "1.2.0",
      "_model_name": "LayoutModel",
      "_view_count": null,
      "_view_module": "@jupyter-widgets/base",
      "_view_module_version": "1.2.0",
      "_view_name": "LayoutView",
      "align_content": null,
      "align_items": null,
      "align_self": null,
      "border": null,
      "bottom": null,
      "display": null,
      "flex": null,
      "flex_flow": null,
      "grid_area": null,
      "grid_auto_columns": null,
      "grid_auto_flow": null,
      "grid_auto_rows": null,
      "grid_column": null,
      "grid_gap": null,
      "grid_row": null,
      "grid_template_areas": null,
      "grid_template_columns": null,
      "grid_template_rows": null,
      "height": null,
      "justify_content": null,
      "justify_items": null,
      "left": null,
      "margin": null,
      "max_height": null,
      "max_width": null,
      "min_height": null,
      "min_width": null,
      "object_fit": null,
      "object_position": null,
      "order": null,
      "overflow": null,
      "overflow_x": null,
      "overflow_y": null,
      "padding": null,
      "right": null,
      "top": null,
      "visibility": null,
      "width": null
     }
    },
    "6bff0d62a5904949829ff4f9e4391aad": {
     "model_module": "@jupyter-widgets/controls",
     "model_name": "DescriptionStyleModel",
     "state": {
      "_model_module": "@jupyter-widgets/controls",
      "_model_module_version": "1.5.0",
      "_model_name": "DescriptionStyleModel",
      "_view_count": null,
      "_view_module": "@jupyter-widgets/base",
      "_view_module_version": "1.2.0",
      "_view_name": "StyleView",
      "description_width": ""
     }
    },
    "6cb831e165334649b6a75767e76c703f": {
     "model_module": "@jupyter-widgets/base",
     "model_name": "LayoutModel",
     "state": {
      "_model_module": "@jupyter-widgets/base",
      "_model_module_version": "1.2.0",
      "_model_name": "LayoutModel",
      "_view_count": null,
      "_view_module": "@jupyter-widgets/base",
      "_view_module_version": "1.2.0",
      "_view_name": "LayoutView",
      "align_content": null,
      "align_items": null,
      "align_self": null,
      "border": null,
      "bottom": null,
      "display": null,
      "flex": null,
      "flex_flow": null,
      "grid_area": null,
      "grid_auto_columns": null,
      "grid_auto_flow": null,
      "grid_auto_rows": null,
      "grid_column": null,
      "grid_gap": null,
      "grid_row": null,
      "grid_template_areas": null,
      "grid_template_columns": null,
      "grid_template_rows": null,
      "height": null,
      "justify_content": null,
      "justify_items": null,
      "left": null,
      "margin": null,
      "max_height": null,
      "max_width": null,
      "min_height": null,
      "min_width": null,
      "object_fit": null,
      "object_position": null,
      "order": null,
      "overflow": null,
      "overflow_x": null,
      "overflow_y": null,
      "padding": null,
      "right": null,
      "top": null,
      "visibility": null,
      "width": null
     }
    },
    "6ce1ac480a3841b7bca9f6f54cce6690": {
     "model_module": "@jupyter-widgets/controls",
     "model_name": "VBoxModel",
     "state": {
      "_dom_classes": [],
      "_model_module": "@jupyter-widgets/controls",
      "_model_module_version": "1.5.0",
      "_model_name": "VBoxModel",
      "_view_count": null,
      "_view_module": "@jupyter-widgets/controls",
      "_view_module_version": "1.5.0",
      "_view_name": "VBoxView",
      "box_style": "",
      "children": [
       "IPY_MODEL_fe3d6a8b30484b5780f03161dcc2ea15",
       "IPY_MODEL_fbf00302ee8c44dc966a87a0b6572117"
      ],
      "layout": "IPY_MODEL_c2f29096be3d4690846178636de721b5"
     }
    },
    "6db8797fb5ae4d9e8df87d807de634d9": {
     "model_module": "@jupyter-widgets/controls",
     "model_name": "FloatProgressModel",
     "state": {
      "_dom_classes": [],
      "_model_module": "@jupyter-widgets/controls",
      "_model_module_version": "1.5.0",
      "_model_name": "FloatProgressModel",
      "_view_count": null,
      "_view_module": "@jupyter-widgets/controls",
      "_view_module_version": "1.5.0",
      "_view_name": "ProgressView",
      "bar_style": "",
      "description": "",
      "description_tooltip": null,
      "layout": "IPY_MODEL_f81c758556d143ee841b48f42e93d1ac",
      "max": 1,
      "min": 0,
      "orientation": "horizontal",
      "style": "IPY_MODEL_c1dbb75c7fb0404d931833bc289912d2",
      "value": 1
     }
    },
    "6e54be3024274f0fb2bcbf416faa9514": {
     "model_module": "@jupyter-widgets/base",
     "model_name": "LayoutModel",
     "state": {
      "_model_module": "@jupyter-widgets/base",
      "_model_module_version": "1.2.0",
      "_model_name": "LayoutModel",
      "_view_count": null,
      "_view_module": "@jupyter-widgets/base",
      "_view_module_version": "1.2.0",
      "_view_name": "LayoutView",
      "align_content": null,
      "align_items": null,
      "align_self": null,
      "border": null,
      "bottom": null,
      "display": null,
      "flex": null,
      "flex_flow": null,
      "grid_area": null,
      "grid_auto_columns": null,
      "grid_auto_flow": null,
      "grid_auto_rows": null,
      "grid_column": null,
      "grid_gap": null,
      "grid_row": null,
      "grid_template_areas": null,
      "grid_template_columns": null,
      "grid_template_rows": null,
      "height": null,
      "justify_content": null,
      "justify_items": null,
      "left": null,
      "margin": null,
      "max_height": null,
      "max_width": null,
      "min_height": null,
      "min_width": null,
      "object_fit": null,
      "object_position": null,
      "order": null,
      "overflow": null,
      "overflow_x": null,
      "overflow_y": null,
      "padding": null,
      "right": null,
      "top": null,
      "visibility": null,
      "width": null
     }
    },
    "6ed05501af484dd49ccae0b3b1bf1c6b": {
     "model_module": "@jupyter-widgets/base",
     "model_name": "LayoutModel",
     "state": {
      "_model_module": "@jupyter-widgets/base",
      "_model_module_version": "1.2.0",
      "_model_name": "LayoutModel",
      "_view_count": null,
      "_view_module": "@jupyter-widgets/base",
      "_view_module_version": "1.2.0",
      "_view_name": "LayoutView",
      "align_content": null,
      "align_items": null,
      "align_self": null,
      "border": null,
      "bottom": null,
      "display": null,
      "flex": null,
      "flex_flow": null,
      "grid_area": null,
      "grid_auto_columns": null,
      "grid_auto_flow": null,
      "grid_auto_rows": null,
      "grid_column": null,
      "grid_gap": null,
      "grid_row": null,
      "grid_template_areas": null,
      "grid_template_columns": null,
      "grid_template_rows": null,
      "height": null,
      "justify_content": null,
      "justify_items": null,
      "left": null,
      "margin": null,
      "max_height": null,
      "max_width": null,
      "min_height": null,
      "min_width": null,
      "object_fit": null,
      "object_position": null,
      "order": null,
      "overflow": null,
      "overflow_x": null,
      "overflow_y": null,
      "padding": null,
      "right": null,
      "top": null,
      "visibility": null,
      "width": null
     }
    },
    "6edce6f4298f4252ace09e879969dddf": {
     "model_module": "@jupyter-widgets/controls",
     "model_name": "DescriptionStyleModel",
     "state": {
      "_model_module": "@jupyter-widgets/controls",
      "_model_module_version": "1.5.0",
      "_model_name": "DescriptionStyleModel",
      "_view_count": null,
      "_view_module": "@jupyter-widgets/base",
      "_view_module_version": "1.2.0",
      "_view_name": "StyleView",
      "description_width": ""
     }
    },
    "6f48c275ee634a808043a2442c6f2290": {
     "model_module": "@jupyter-widgets/controls",
     "model_name": "DescriptionStyleModel",
     "state": {
      "_model_module": "@jupyter-widgets/controls",
      "_model_module_version": "1.5.0",
      "_model_name": "DescriptionStyleModel",
      "_view_count": null,
      "_view_module": "@jupyter-widgets/base",
      "_view_module_version": "1.2.0",
      "_view_name": "StyleView",
      "description_width": ""
     }
    },
    "6fae664c11d140de90b22d2aecfddc82": {
     "model_module": "@jupyter-widgets/controls",
     "model_name": "VBoxModel",
     "state": {
      "_dom_classes": [],
      "_model_module": "@jupyter-widgets/controls",
      "_model_module_version": "1.5.0",
      "_model_name": "VBoxModel",
      "_view_count": null,
      "_view_module": "@jupyter-widgets/controls",
      "_view_module_version": "1.5.0",
      "_view_name": "VBoxView",
      "box_style": "",
      "children": [
       "IPY_MODEL_8fbfe81a4c1c4f49b4eda68b9ebae85c",
       "IPY_MODEL_5ba7375ad67541258dd306989e804c33"
      ],
      "layout": "IPY_MODEL_a3287dfe8b6445e9a87809cf7285dd03"
     }
    },
    "6fed141daa894ab4b3e778f429346250": {
     "model_module": "@jupyter-widgets/base",
     "model_name": "LayoutModel",
     "state": {
      "_model_module": "@jupyter-widgets/base",
      "_model_module_version": "1.2.0",
      "_model_name": "LayoutModel",
      "_view_count": null,
      "_view_module": "@jupyter-widgets/base",
      "_view_module_version": "1.2.0",
      "_view_name": "LayoutView",
      "align_content": null,
      "align_items": null,
      "align_self": null,
      "border": null,
      "bottom": null,
      "display": null,
      "flex": null,
      "flex_flow": null,
      "grid_area": null,
      "grid_auto_columns": null,
      "grid_auto_flow": null,
      "grid_auto_rows": null,
      "grid_column": null,
      "grid_gap": null,
      "grid_row": null,
      "grid_template_areas": null,
      "grid_template_columns": null,
      "grid_template_rows": null,
      "height": null,
      "justify_content": null,
      "justify_items": null,
      "left": null,
      "margin": null,
      "max_height": null,
      "max_width": null,
      "min_height": null,
      "min_width": null,
      "object_fit": null,
      "object_position": null,
      "order": null,
      "overflow": null,
      "overflow_x": null,
      "overflow_y": null,
      "padding": null,
      "right": null,
      "top": null,
      "visibility": null,
      "width": null
     }
    },
    "728f33bd58804098b8d7d38eca98b88f": {
     "model_module": "@jupyter-widgets/controls",
     "model_name": "LabelModel",
     "state": {
      "_dom_classes": [],
      "_model_module": "@jupyter-widgets/controls",
      "_model_module_version": "1.5.0",
      "_model_name": "LabelModel",
      "_view_count": null,
      "_view_module": "@jupyter-widgets/controls",
      "_view_module_version": "1.5.0",
      "_view_name": "LabelView",
      "description": "",
      "description_tooltip": null,
      "layout": "IPY_MODEL_d21d160401f44f64993ac0cd24c1a0fd",
      "placeholder": "​",
      "style": "IPY_MODEL_6bff0d62a5904949829ff4f9e4391aad",
      "value": " 2.85MB of 2.85MB uploaded (0.00MB deduped)\r"
     }
    },
    "737f8ba47ba74e929a2916599b2bfda8": {
     "model_module": "@jupyter-widgets/controls",
     "model_name": "VBoxModel",
     "state": {
      "_dom_classes": [],
      "_model_module": "@jupyter-widgets/controls",
      "_model_module_version": "1.5.0",
      "_model_name": "VBoxModel",
      "_view_count": null,
      "_view_module": "@jupyter-widgets/controls",
      "_view_module_version": "1.5.0",
      "_view_name": "VBoxView",
      "box_style": "",
      "children": [
       "IPY_MODEL_937d81de5c344af89458435605245f1b",
       "IPY_MODEL_e5ab338993834c46bc86e7f4f7c0d15f"
      ],
      "layout": "IPY_MODEL_7551e787ddd34654ac1e6f15e97b3c2d"
     }
    },
    "73edc99f94b7419c8ca1f77ef2a1dcb6": {
     "model_module": "@jupyter-widgets/base",
     "model_name": "LayoutModel",
     "state": {
      "_model_module": "@jupyter-widgets/base",
      "_model_module_version": "1.2.0",
      "_model_name": "LayoutModel",
      "_view_count": null,
      "_view_module": "@jupyter-widgets/base",
      "_view_module_version": "1.2.0",
      "_view_name": "LayoutView",
      "align_content": null,
      "align_items": null,
      "align_self": null,
      "border": null,
      "bottom": null,
      "display": null,
      "flex": null,
      "flex_flow": null,
      "grid_area": null,
      "grid_auto_columns": null,
      "grid_auto_flow": null,
      "grid_auto_rows": null,
      "grid_column": null,
      "grid_gap": null,
      "grid_row": null,
      "grid_template_areas": null,
      "grid_template_columns": null,
      "grid_template_rows": null,
      "height": null,
      "justify_content": null,
      "justify_items": null,
      "left": null,
      "margin": null,
      "max_height": null,
      "max_width": null,
      "min_height": null,
      "min_width": null,
      "object_fit": null,
      "object_position": null,
      "order": null,
      "overflow": null,
      "overflow_x": null,
      "overflow_y": null,
      "padding": null,
      "right": null,
      "top": null,
      "visibility": null,
      "width": null
     }
    },
    "750b996b83194584a8ac4ee032a89085": {
     "model_module": "@jupyter-widgets/base",
     "model_name": "LayoutModel",
     "state": {
      "_model_module": "@jupyter-widgets/base",
      "_model_module_version": "1.2.0",
      "_model_name": "LayoutModel",
      "_view_count": null,
      "_view_module": "@jupyter-widgets/base",
      "_view_module_version": "1.2.0",
      "_view_name": "LayoutView",
      "align_content": null,
      "align_items": null,
      "align_self": null,
      "border": null,
      "bottom": null,
      "display": null,
      "flex": null,
      "flex_flow": null,
      "grid_area": null,
      "grid_auto_columns": null,
      "grid_auto_flow": null,
      "grid_auto_rows": null,
      "grid_column": null,
      "grid_gap": null,
      "grid_row": null,
      "grid_template_areas": null,
      "grid_template_columns": null,
      "grid_template_rows": null,
      "height": null,
      "justify_content": null,
      "justify_items": null,
      "left": null,
      "margin": null,
      "max_height": null,
      "max_width": null,
      "min_height": null,
      "min_width": null,
      "object_fit": null,
      "object_position": null,
      "order": null,
      "overflow": null,
      "overflow_x": null,
      "overflow_y": null,
      "padding": null,
      "right": null,
      "top": null,
      "visibility": null,
      "width": null
     }
    },
    "75362e1b563c41f3a60bc356d95675aa": {
     "model_module": "@jupyter-widgets/base",
     "model_name": "LayoutModel",
     "state": {
      "_model_module": "@jupyter-widgets/base",
      "_model_module_version": "1.2.0",
      "_model_name": "LayoutModel",
      "_view_count": null,
      "_view_module": "@jupyter-widgets/base",
      "_view_module_version": "1.2.0",
      "_view_name": "LayoutView",
      "align_content": null,
      "align_items": null,
      "align_self": null,
      "border": null,
      "bottom": null,
      "display": null,
      "flex": null,
      "flex_flow": null,
      "grid_area": null,
      "grid_auto_columns": null,
      "grid_auto_flow": null,
      "grid_auto_rows": null,
      "grid_column": null,
      "grid_gap": null,
      "grid_row": null,
      "grid_template_areas": null,
      "grid_template_columns": null,
      "grid_template_rows": null,
      "height": null,
      "justify_content": null,
      "justify_items": null,
      "left": null,
      "margin": null,
      "max_height": null,
      "max_width": null,
      "min_height": null,
      "min_width": null,
      "object_fit": null,
      "object_position": null,
      "order": null,
      "overflow": null,
      "overflow_x": null,
      "overflow_y": null,
      "padding": null,
      "right": null,
      "top": null,
      "visibility": null,
      "width": null
     }
    },
    "7551e787ddd34654ac1e6f15e97b3c2d": {
     "model_module": "@jupyter-widgets/base",
     "model_name": "LayoutModel",
     "state": {
      "_model_module": "@jupyter-widgets/base",
      "_model_module_version": "1.2.0",
      "_model_name": "LayoutModel",
      "_view_count": null,
      "_view_module": "@jupyter-widgets/base",
      "_view_module_version": "1.2.0",
      "_view_name": "LayoutView",
      "align_content": null,
      "align_items": null,
      "align_self": null,
      "border": null,
      "bottom": null,
      "display": null,
      "flex": null,
      "flex_flow": null,
      "grid_area": null,
      "grid_auto_columns": null,
      "grid_auto_flow": null,
      "grid_auto_rows": null,
      "grid_column": null,
      "grid_gap": null,
      "grid_row": null,
      "grid_template_areas": null,
      "grid_template_columns": null,
      "grid_template_rows": null,
      "height": null,
      "justify_content": null,
      "justify_items": null,
      "left": null,
      "margin": null,
      "max_height": null,
      "max_width": null,
      "min_height": null,
      "min_width": null,
      "object_fit": null,
      "object_position": null,
      "order": null,
      "overflow": null,
      "overflow_x": null,
      "overflow_y": null,
      "padding": null,
      "right": null,
      "top": null,
      "visibility": null,
      "width": null
     }
    },
    "7560c4d3a1b24d8a975dc869cfe3ac84": {
     "model_module": "@jupyter-widgets/base",
     "model_name": "LayoutModel",
     "state": {
      "_model_module": "@jupyter-widgets/base",
      "_model_module_version": "1.2.0",
      "_model_name": "LayoutModel",
      "_view_count": null,
      "_view_module": "@jupyter-widgets/base",
      "_view_module_version": "1.2.0",
      "_view_name": "LayoutView",
      "align_content": null,
      "align_items": null,
      "align_self": null,
      "border": null,
      "bottom": null,
      "display": null,
      "flex": null,
      "flex_flow": null,
      "grid_area": null,
      "grid_auto_columns": null,
      "grid_auto_flow": null,
      "grid_auto_rows": null,
      "grid_column": null,
      "grid_gap": null,
      "grid_row": null,
      "grid_template_areas": null,
      "grid_template_columns": null,
      "grid_template_rows": null,
      "height": null,
      "justify_content": null,
      "justify_items": null,
      "left": null,
      "margin": null,
      "max_height": null,
      "max_width": null,
      "min_height": null,
      "min_width": null,
      "object_fit": null,
      "object_position": null,
      "order": null,
      "overflow": null,
      "overflow_x": null,
      "overflow_y": null,
      "padding": null,
      "right": null,
      "top": null,
      "visibility": null,
      "width": null
     }
    },
    "75859b0a222c4eea8b555e888837b8ed": {
     "model_module": "@jupyter-widgets/controls",
     "model_name": "ProgressStyleModel",
     "state": {
      "_model_module": "@jupyter-widgets/controls",
      "_model_module_version": "1.5.0",
      "_model_name": "ProgressStyleModel",
      "_view_count": null,
      "_view_module": "@jupyter-widgets/base",
      "_view_module_version": "1.2.0",
      "_view_name": "StyleView",
      "bar_color": null,
      "description_width": ""
     }
    },
    "76833d3e3b6246c086e7b700a18ca859": {
     "model_module": "@jupyter-widgets/controls",
     "model_name": "LabelModel",
     "state": {
      "_dom_classes": [],
      "_model_module": "@jupyter-widgets/controls",
      "_model_module_version": "1.5.0",
      "_model_name": "LabelModel",
      "_view_count": null,
      "_view_module": "@jupyter-widgets/controls",
      "_view_module_version": "1.5.0",
      "_view_name": "LabelView",
      "description": "",
      "description_tooltip": null,
      "layout": "IPY_MODEL_2d95dd99c6f742a7a263d1b521beaa00",
      "placeholder": "​",
      "style": "IPY_MODEL_8964e06b21764a70985a532e61df4a72",
      "value": " 1.12MB of 1.12MB uploaded (0.00MB deduped)\r"
     }
    },
    "7701675f317a4c49b6f4b3337e47cd68": {
     "model_module": "@jupyter-widgets/base",
     "model_name": "LayoutModel",
     "state": {
      "_model_module": "@jupyter-widgets/base",
      "_model_module_version": "1.2.0",
      "_model_name": "LayoutModel",
      "_view_count": null,
      "_view_module": "@jupyter-widgets/base",
      "_view_module_version": "1.2.0",
      "_view_name": "LayoutView",
      "align_content": null,
      "align_items": null,
      "align_self": null,
      "border": null,
      "bottom": null,
      "display": null,
      "flex": null,
      "flex_flow": null,
      "grid_area": null,
      "grid_auto_columns": null,
      "grid_auto_flow": null,
      "grid_auto_rows": null,
      "grid_column": null,
      "grid_gap": null,
      "grid_row": null,
      "grid_template_areas": null,
      "grid_template_columns": null,
      "grid_template_rows": null,
      "height": null,
      "justify_content": null,
      "justify_items": null,
      "left": null,
      "margin": null,
      "max_height": null,
      "max_width": null,
      "min_height": null,
      "min_width": null,
      "object_fit": null,
      "object_position": null,
      "order": null,
      "overflow": null,
      "overflow_x": null,
      "overflow_y": null,
      "padding": null,
      "right": null,
      "top": null,
      "visibility": null,
      "width": null
     }
    },
    "770e7fda729d4433bc92ff86a1730344": {
     "model_module": "@jupyter-widgets/controls",
     "model_name": "FloatProgressModel",
     "state": {
      "_dom_classes": [],
      "_model_module": "@jupyter-widgets/controls",
      "_model_module_version": "1.5.0",
      "_model_name": "FloatProgressModel",
      "_view_count": null,
      "_view_module": "@jupyter-widgets/controls",
      "_view_module_version": "1.5.0",
      "_view_name": "ProgressView",
      "bar_style": "",
      "description": "",
      "description_tooltip": null,
      "layout": "IPY_MODEL_38843b96b5aa46a9a2ab157c59aa6bb0",
      "max": 1,
      "min": 0,
      "orientation": "horizontal",
      "style": "IPY_MODEL_9eb4e33eb60b479abe513d9026e8a1fa",
      "value": 1
     }
    },
    "771073f7aebb4bb9b6f1ff89cb94ffcc": {
     "model_module": "@jupyter-widgets/base",
     "model_name": "LayoutModel",
     "state": {
      "_model_module": "@jupyter-widgets/base",
      "_model_module_version": "1.2.0",
      "_model_name": "LayoutModel",
      "_view_count": null,
      "_view_module": "@jupyter-widgets/base",
      "_view_module_version": "1.2.0",
      "_view_name": "LayoutView",
      "align_content": null,
      "align_items": null,
      "align_self": null,
      "border": null,
      "bottom": null,
      "display": null,
      "flex": null,
      "flex_flow": null,
      "grid_area": null,
      "grid_auto_columns": null,
      "grid_auto_flow": null,
      "grid_auto_rows": null,
      "grid_column": null,
      "grid_gap": null,
      "grid_row": null,
      "grid_template_areas": null,
      "grid_template_columns": null,
      "grid_template_rows": null,
      "height": null,
      "justify_content": null,
      "justify_items": null,
      "left": null,
      "margin": null,
      "max_height": null,
      "max_width": null,
      "min_height": null,
      "min_width": null,
      "object_fit": null,
      "object_position": null,
      "order": null,
      "overflow": null,
      "overflow_x": null,
      "overflow_y": null,
      "padding": null,
      "right": null,
      "top": null,
      "visibility": null,
      "width": null
     }
    },
    "77efce085efa49ed99238707dbdd08a3": {
     "model_module": "@jupyter-widgets/controls",
     "model_name": "DescriptionStyleModel",
     "state": {
      "_model_module": "@jupyter-widgets/controls",
      "_model_module_version": "1.5.0",
      "_model_name": "DescriptionStyleModel",
      "_view_count": null,
      "_view_module": "@jupyter-widgets/base",
      "_view_module_version": "1.2.0",
      "_view_name": "StyleView",
      "description_width": ""
     }
    },
    "7a14ffc85f0846259a219cd107d43be6": {
     "model_module": "@jupyter-widgets/base",
     "model_name": "LayoutModel",
     "state": {
      "_model_module": "@jupyter-widgets/base",
      "_model_module_version": "1.2.0",
      "_model_name": "LayoutModel",
      "_view_count": null,
      "_view_module": "@jupyter-widgets/base",
      "_view_module_version": "1.2.0",
      "_view_name": "LayoutView",
      "align_content": null,
      "align_items": null,
      "align_self": null,
      "border": null,
      "bottom": null,
      "display": null,
      "flex": null,
      "flex_flow": null,
      "grid_area": null,
      "grid_auto_columns": null,
      "grid_auto_flow": null,
      "grid_auto_rows": null,
      "grid_column": null,
      "grid_gap": null,
      "grid_row": null,
      "grid_template_areas": null,
      "grid_template_columns": null,
      "grid_template_rows": null,
      "height": null,
      "justify_content": null,
      "justify_items": null,
      "left": null,
      "margin": null,
      "max_height": null,
      "max_width": null,
      "min_height": null,
      "min_width": null,
      "object_fit": null,
      "object_position": null,
      "order": null,
      "overflow": null,
      "overflow_x": null,
      "overflow_y": null,
      "padding": null,
      "right": null,
      "top": null,
      "visibility": null,
      "width": null
     }
    },
    "7a6ab6409ebc4ebb91c9a13bc2be3fb2": {
     "model_module": "@jupyter-widgets/base",
     "model_name": "LayoutModel",
     "state": {
      "_model_module": "@jupyter-widgets/base",
      "_model_module_version": "1.2.0",
      "_model_name": "LayoutModel",
      "_view_count": null,
      "_view_module": "@jupyter-widgets/base",
      "_view_module_version": "1.2.0",
      "_view_name": "LayoutView",
      "align_content": null,
      "align_items": null,
      "align_self": null,
      "border": null,
      "bottom": null,
      "display": null,
      "flex": null,
      "flex_flow": null,
      "grid_area": null,
      "grid_auto_columns": null,
      "grid_auto_flow": null,
      "grid_auto_rows": null,
      "grid_column": null,
      "grid_gap": null,
      "grid_row": null,
      "grid_template_areas": null,
      "grid_template_columns": null,
      "grid_template_rows": null,
      "height": null,
      "justify_content": null,
      "justify_items": null,
      "left": null,
      "margin": null,
      "max_height": null,
      "max_width": null,
      "min_height": null,
      "min_width": null,
      "object_fit": null,
      "object_position": null,
      "order": null,
      "overflow": null,
      "overflow_x": null,
      "overflow_y": null,
      "padding": null,
      "right": null,
      "top": null,
      "visibility": null,
      "width": null
     }
    },
    "7b22747b327944f0846f43658d2c22e0": {
     "model_module": "@jupyter-widgets/base",
     "model_name": "LayoutModel",
     "state": {
      "_model_module": "@jupyter-widgets/base",
      "_model_module_version": "1.2.0",
      "_model_name": "LayoutModel",
      "_view_count": null,
      "_view_module": "@jupyter-widgets/base",
      "_view_module_version": "1.2.0",
      "_view_name": "LayoutView",
      "align_content": null,
      "align_items": null,
      "align_self": null,
      "border": null,
      "bottom": null,
      "display": null,
      "flex": null,
      "flex_flow": null,
      "grid_area": null,
      "grid_auto_columns": null,
      "grid_auto_flow": null,
      "grid_auto_rows": null,
      "grid_column": null,
      "grid_gap": null,
      "grid_row": null,
      "grid_template_areas": null,
      "grid_template_columns": null,
      "grid_template_rows": null,
      "height": null,
      "justify_content": null,
      "justify_items": null,
      "left": null,
      "margin": null,
      "max_height": null,
      "max_width": null,
      "min_height": null,
      "min_width": null,
      "object_fit": null,
      "object_position": null,
      "order": null,
      "overflow": null,
      "overflow_x": null,
      "overflow_y": null,
      "padding": null,
      "right": null,
      "top": null,
      "visibility": null,
      "width": null
     }
    },
    "7bb83bcf308b48fc986a21de61755d76": {
     "model_module": "@jupyter-widgets/controls",
     "model_name": "LabelModel",
     "state": {
      "_dom_classes": [],
      "_model_module": "@jupyter-widgets/controls",
      "_model_module_version": "1.5.0",
      "_model_name": "LabelModel",
      "_view_count": null,
      "_view_module": "@jupyter-widgets/controls",
      "_view_module_version": "1.5.0",
      "_view_name": "LabelView",
      "description": "",
      "description_tooltip": null,
      "layout": "IPY_MODEL_994bc95459a24c179f53a83c584a1f21",
      "placeholder": "​",
      "style": "IPY_MODEL_d9bf883e13f44dd7ac3d0e1f3f5bd959",
      "value": " 0.52MB of 0.52MB uploaded (0.00MB deduped)\r"
     }
    },
    "7c92452272254272b95a8f073e8cfbea": {
     "model_module": "@jupyter-widgets/base",
     "model_name": "LayoutModel",
     "state": {
      "_model_module": "@jupyter-widgets/base",
      "_model_module_version": "1.2.0",
      "_model_name": "LayoutModel",
      "_view_count": null,
      "_view_module": "@jupyter-widgets/base",
      "_view_module_version": "1.2.0",
      "_view_name": "LayoutView",
      "align_content": null,
      "align_items": null,
      "align_self": null,
      "border": null,
      "bottom": null,
      "display": null,
      "flex": null,
      "flex_flow": null,
      "grid_area": null,
      "grid_auto_columns": null,
      "grid_auto_flow": null,
      "grid_auto_rows": null,
      "grid_column": null,
      "grid_gap": null,
      "grid_row": null,
      "grid_template_areas": null,
      "grid_template_columns": null,
      "grid_template_rows": null,
      "height": null,
      "justify_content": null,
      "justify_items": null,
      "left": null,
      "margin": null,
      "max_height": null,
      "max_width": null,
      "min_height": null,
      "min_width": null,
      "object_fit": null,
      "object_position": null,
      "order": null,
      "overflow": null,
      "overflow_x": null,
      "overflow_y": null,
      "padding": null,
      "right": null,
      "top": null,
      "visibility": null,
      "width": null
     }
    },
    "7e88d02d813841dcbda4796e31531d01": {
     "model_module": "@jupyter-widgets/base",
     "model_name": "LayoutModel",
     "state": {
      "_model_module": "@jupyter-widgets/base",
      "_model_module_version": "1.2.0",
      "_model_name": "LayoutModel",
      "_view_count": null,
      "_view_module": "@jupyter-widgets/base",
      "_view_module_version": "1.2.0",
      "_view_name": "LayoutView",
      "align_content": null,
      "align_items": null,
      "align_self": null,
      "border": null,
      "bottom": null,
      "display": null,
      "flex": null,
      "flex_flow": null,
      "grid_area": null,
      "grid_auto_columns": null,
      "grid_auto_flow": null,
      "grid_auto_rows": null,
      "grid_column": null,
      "grid_gap": null,
      "grid_row": null,
      "grid_template_areas": null,
      "grid_template_columns": null,
      "grid_template_rows": null,
      "height": null,
      "justify_content": null,
      "justify_items": null,
      "left": null,
      "margin": null,
      "max_height": null,
      "max_width": null,
      "min_height": null,
      "min_width": null,
      "object_fit": null,
      "object_position": null,
      "order": null,
      "overflow": null,
      "overflow_x": null,
      "overflow_y": null,
      "padding": null,
      "right": null,
      "top": null,
      "visibility": null,
      "width": null
     }
    },
    "7efaf5851ac84e74aa4dbf7f1fa0ad9b": {
     "model_module": "@jupyter-widgets/controls",
     "model_name": "VBoxModel",
     "state": {
      "_dom_classes": [],
      "_model_module": "@jupyter-widgets/controls",
      "_model_module_version": "1.5.0",
      "_model_name": "VBoxModel",
      "_view_count": null,
      "_view_module": "@jupyter-widgets/controls",
      "_view_module_version": "1.5.0",
      "_view_name": "VBoxView",
      "box_style": "",
      "children": [
       "IPY_MODEL_f7cdcd93651f40839e67bf435ea55519",
       "IPY_MODEL_13efde36998b4b6e8fbfb53d19425f60"
      ],
      "layout": "IPY_MODEL_75362e1b563c41f3a60bc356d95675aa"
     }
    },
    "804bb31affba4d6c8a8641542b6e4fa0": {
     "model_module": "@jupyter-widgets/controls",
     "model_name": "LabelModel",
     "state": {
      "_dom_classes": [],
      "_model_module": "@jupyter-widgets/controls",
      "_model_module_version": "1.5.0",
      "_model_name": "LabelModel",
      "_view_count": null,
      "_view_module": "@jupyter-widgets/controls",
      "_view_module_version": "1.5.0",
      "_view_name": "LabelView",
      "description": "",
      "description_tooltip": null,
      "layout": "IPY_MODEL_1dda27d7ac4a4f67a93f9ba6352691f7",
      "placeholder": "​",
      "style": "IPY_MODEL_896bae50c8494aeb98101527becb4e9b",
      "value": " 0.44MB of 0.44MB uploaded (0.00MB deduped)\r"
     }
    },
    "80d83c86193c491d814e7bb0c8d78fd3": {
     "model_module": "@jupyter-widgets/controls",
     "model_name": "FloatProgressModel",
     "state": {
      "_dom_classes": [],
      "_model_module": "@jupyter-widgets/controls",
      "_model_module_version": "1.5.0",
      "_model_name": "FloatProgressModel",
      "_view_count": null,
      "_view_module": "@jupyter-widgets/controls",
      "_view_module_version": "1.5.0",
      "_view_name": "ProgressView",
      "bar_style": "",
      "description": "",
      "description_tooltip": null,
      "layout": "IPY_MODEL_6777c31df07748b49ca6a5c772a6d85b",
      "max": 1,
      "min": 0,
      "orientation": "horizontal",
      "style": "IPY_MODEL_2e2286f1a00a4533a82dc3a8da46ada7",
      "value": 1
     }
    },
    "80ea65066c1b437b9294272bfbedc810": {
     "model_module": "@jupyter-widgets/controls",
     "model_name": "VBoxModel",
     "state": {
      "_dom_classes": [],
      "_model_module": "@jupyter-widgets/controls",
      "_model_module_version": "1.5.0",
      "_model_name": "VBoxModel",
      "_view_count": null,
      "_view_module": "@jupyter-widgets/controls",
      "_view_module_version": "1.5.0",
      "_view_name": "VBoxView",
      "box_style": "",
      "children": [
       "IPY_MODEL_1b2a76d61e6d45eda6f1a920444f1093",
       "IPY_MODEL_cf2035af3d294f119911c997f5e31d5d"
      ],
      "layout": "IPY_MODEL_eff188b0452742bf9d4aa474eaea747a"
     }
    },
    "810ae8b208354db1b10ba44e9fd8ef7b": {
     "model_module": "@jupyter-widgets/base",
     "model_name": "LayoutModel",
     "state": {
      "_model_module": "@jupyter-widgets/base",
      "_model_module_version": "1.2.0",
      "_model_name": "LayoutModel",
      "_view_count": null,
      "_view_module": "@jupyter-widgets/base",
      "_view_module_version": "1.2.0",
      "_view_name": "LayoutView",
      "align_content": null,
      "align_items": null,
      "align_self": null,
      "border": null,
      "bottom": null,
      "display": null,
      "flex": null,
      "flex_flow": null,
      "grid_area": null,
      "grid_auto_columns": null,
      "grid_auto_flow": null,
      "grid_auto_rows": null,
      "grid_column": null,
      "grid_gap": null,
      "grid_row": null,
      "grid_template_areas": null,
      "grid_template_columns": null,
      "grid_template_rows": null,
      "height": null,
      "justify_content": null,
      "justify_items": null,
      "left": null,
      "margin": null,
      "max_height": null,
      "max_width": null,
      "min_height": null,
      "min_width": null,
      "object_fit": null,
      "object_position": null,
      "order": null,
      "overflow": null,
      "overflow_x": null,
      "overflow_y": null,
      "padding": null,
      "right": null,
      "top": null,
      "visibility": null,
      "width": null
     }
    },
    "819f7e791dd64cfb82a178cd73cb27f6": {
     "model_module": "@jupyter-widgets/controls",
     "model_name": "ProgressStyleModel",
     "state": {
      "_model_module": "@jupyter-widgets/controls",
      "_model_module_version": "1.5.0",
      "_model_name": "ProgressStyleModel",
      "_view_count": null,
      "_view_module": "@jupyter-widgets/base",
      "_view_module_version": "1.2.0",
      "_view_name": "StyleView",
      "bar_color": null,
      "description_width": ""
     }
    },
    "824ce7336529443eafdeb8a1d2e7db6d": {
     "model_module": "@jupyter-widgets/controls",
     "model_name": "ProgressStyleModel",
     "state": {
      "_model_module": "@jupyter-widgets/controls",
      "_model_module_version": "1.5.0",
      "_model_name": "ProgressStyleModel",
      "_view_count": null,
      "_view_module": "@jupyter-widgets/base",
      "_view_module_version": "1.2.0",
      "_view_name": "StyleView",
      "bar_color": null,
      "description_width": ""
     }
    },
    "82d76c30cfaa4a24af3993fd584b425f": {
     "model_module": "@jupyter-widgets/controls",
     "model_name": "LabelModel",
     "state": {
      "_dom_classes": [],
      "_model_module": "@jupyter-widgets/controls",
      "_model_module_version": "1.5.0",
      "_model_name": "LabelModel",
      "_view_count": null,
      "_view_module": "@jupyter-widgets/controls",
      "_view_module_version": "1.5.0",
      "_view_name": "LabelView",
      "description": "",
      "description_tooltip": null,
      "layout": "IPY_MODEL_38792e2c4cac4414ac45226341ee31c3",
      "placeholder": "​",
      "style": "IPY_MODEL_2f5cf4a36a904e01895946ec7e6ea04c",
      "value": " 3.76MB of 3.76MB uploaded (0.00MB deduped)\r"
     }
    },
    "82dd9d8c06904b1eb9b72ac343bea776": {
     "model_module": "@jupyter-widgets/controls",
     "model_name": "DescriptionStyleModel",
     "state": {
      "_model_module": "@jupyter-widgets/controls",
      "_model_module_version": "1.5.0",
      "_model_name": "DescriptionStyleModel",
      "_view_count": null,
      "_view_module": "@jupyter-widgets/base",
      "_view_module_version": "1.2.0",
      "_view_name": "StyleView",
      "description_width": ""
     }
    },
    "834f23c9429b4ce6a40dcf755f609da3": {
     "model_module": "@jupyter-widgets/controls",
     "model_name": "LabelModel",
     "state": {
      "_dom_classes": [],
      "_model_module": "@jupyter-widgets/controls",
      "_model_module_version": "1.5.0",
      "_model_name": "LabelModel",
      "_view_count": null,
      "_view_module": "@jupyter-widgets/controls",
      "_view_module_version": "1.5.0",
      "_view_name": "LabelView",
      "description": "",
      "description_tooltip": null,
      "layout": "IPY_MODEL_1ae43c90ada44f88ae6096628964dd4c",
      "placeholder": "​",
      "style": "IPY_MODEL_8ecffba86feb44649373041aa9454af5",
      "value": " 1.30MB of 1.30MB uploaded (0.00MB deduped)\r"
     }
    },
    "84c8e441a5484857a6ec9b5c66e6a95e": {
     "model_module": "@jupyter-widgets/controls",
     "model_name": "VBoxModel",
     "state": {
      "_dom_classes": [],
      "_model_module": "@jupyter-widgets/controls",
      "_model_module_version": "1.5.0",
      "_model_name": "VBoxModel",
      "_view_count": null,
      "_view_module": "@jupyter-widgets/controls",
      "_view_module_version": "1.5.0",
      "_view_name": "VBoxView",
      "box_style": "",
      "children": [
       "IPY_MODEL_4bd0643c290b40eba204302c697a313d",
       "IPY_MODEL_885eba4deff346089dc160487e59ffde"
      ],
      "layout": "IPY_MODEL_15bcb1138ce84eb3b5bc4bb42a6e0d0d"
     }
    },
    "8525c8ed2245480284b3775dfc9dd62e": {
     "model_module": "@jupyter-widgets/controls",
     "model_name": "DescriptionStyleModel",
     "state": {
      "_model_module": "@jupyter-widgets/controls",
      "_model_module_version": "1.5.0",
      "_model_name": "DescriptionStyleModel",
      "_view_count": null,
      "_view_module": "@jupyter-widgets/base",
      "_view_module_version": "1.2.0",
      "_view_name": "StyleView",
      "description_width": ""
     }
    },
    "85a0dcc29d4f4bf4bc8116fc785a19e2": {
     "model_module": "@jupyter-widgets/base",
     "model_name": "LayoutModel",
     "state": {
      "_model_module": "@jupyter-widgets/base",
      "_model_module_version": "1.2.0",
      "_model_name": "LayoutModel",
      "_view_count": null,
      "_view_module": "@jupyter-widgets/base",
      "_view_module_version": "1.2.0",
      "_view_name": "LayoutView",
      "align_content": null,
      "align_items": null,
      "align_self": null,
      "border": null,
      "bottom": null,
      "display": null,
      "flex": null,
      "flex_flow": null,
      "grid_area": null,
      "grid_auto_columns": null,
      "grid_auto_flow": null,
      "grid_auto_rows": null,
      "grid_column": null,
      "grid_gap": null,
      "grid_row": null,
      "grid_template_areas": null,
      "grid_template_columns": null,
      "grid_template_rows": null,
      "height": null,
      "justify_content": null,
      "justify_items": null,
      "left": null,
      "margin": null,
      "max_height": null,
      "max_width": null,
      "min_height": null,
      "min_width": null,
      "object_fit": null,
      "object_position": null,
      "order": null,
      "overflow": null,
      "overflow_x": null,
      "overflow_y": null,
      "padding": null,
      "right": null,
      "top": null,
      "visibility": null,
      "width": null
     }
    },
    "85f5de8074b64721ad0b17e9238e8f7f": {
     "model_module": "@jupyter-widgets/controls",
     "model_name": "DescriptionStyleModel",
     "state": {
      "_model_module": "@jupyter-widgets/controls",
      "_model_module_version": "1.5.0",
      "_model_name": "DescriptionStyleModel",
      "_view_count": null,
      "_view_module": "@jupyter-widgets/base",
      "_view_module_version": "1.2.0",
      "_view_name": "StyleView",
      "description_width": ""
     }
    },
    "8660f2cf41a84d678d606af4b5f38b7d": {
     "model_module": "@jupyter-widgets/base",
     "model_name": "LayoutModel",
     "state": {
      "_model_module": "@jupyter-widgets/base",
      "_model_module_version": "1.2.0",
      "_model_name": "LayoutModel",
      "_view_count": null,
      "_view_module": "@jupyter-widgets/base",
      "_view_module_version": "1.2.0",
      "_view_name": "LayoutView",
      "align_content": null,
      "align_items": null,
      "align_self": null,
      "border": null,
      "bottom": null,
      "display": null,
      "flex": null,
      "flex_flow": null,
      "grid_area": null,
      "grid_auto_columns": null,
      "grid_auto_flow": null,
      "grid_auto_rows": null,
      "grid_column": null,
      "grid_gap": null,
      "grid_row": null,
      "grid_template_areas": null,
      "grid_template_columns": null,
      "grid_template_rows": null,
      "height": null,
      "justify_content": null,
      "justify_items": null,
      "left": null,
      "margin": null,
      "max_height": null,
      "max_width": null,
      "min_height": null,
      "min_width": null,
      "object_fit": null,
      "object_position": null,
      "order": null,
      "overflow": null,
      "overflow_x": null,
      "overflow_y": null,
      "padding": null,
      "right": null,
      "top": null,
      "visibility": null,
      "width": null
     }
    },
    "868843db1ab5436d8c73a57e71833fd3": {
     "model_module": "@jupyter-widgets/controls",
     "model_name": "DescriptionStyleModel",
     "state": {
      "_model_module": "@jupyter-widgets/controls",
      "_model_module_version": "1.5.0",
      "_model_name": "DescriptionStyleModel",
      "_view_count": null,
      "_view_module": "@jupyter-widgets/base",
      "_view_module_version": "1.2.0",
      "_view_name": "StyleView",
      "description_width": ""
     }
    },
    "870af10c946d4e498569890a03fc5c00": {
     "model_module": "@jupyter-widgets/controls",
     "model_name": "VBoxModel",
     "state": {
      "_dom_classes": [],
      "_model_module": "@jupyter-widgets/controls",
      "_model_module_version": "1.5.0",
      "_model_name": "VBoxModel",
      "_view_count": null,
      "_view_module": "@jupyter-widgets/controls",
      "_view_module_version": "1.5.0",
      "_view_name": "VBoxView",
      "box_style": "",
      "children": [
       "IPY_MODEL_7bb83bcf308b48fc986a21de61755d76",
       "IPY_MODEL_0e5fc74e88c24d669290207693b697d0"
      ],
      "layout": "IPY_MODEL_9abe2fd2842c4188b770f8b9514e14d2"
     }
    },
    "871cbf79045e479396bec19da5e7e9ca": {
     "model_module": "@jupyter-widgets/base",
     "model_name": "LayoutModel",
     "state": {
      "_model_module": "@jupyter-widgets/base",
      "_model_module_version": "1.2.0",
      "_model_name": "LayoutModel",
      "_view_count": null,
      "_view_module": "@jupyter-widgets/base",
      "_view_module_version": "1.2.0",
      "_view_name": "LayoutView",
      "align_content": null,
      "align_items": null,
      "align_self": null,
      "border": null,
      "bottom": null,
      "display": null,
      "flex": null,
      "flex_flow": null,
      "grid_area": null,
      "grid_auto_columns": null,
      "grid_auto_flow": null,
      "grid_auto_rows": null,
      "grid_column": null,
      "grid_gap": null,
      "grid_row": null,
      "grid_template_areas": null,
      "grid_template_columns": null,
      "grid_template_rows": null,
      "height": null,
      "justify_content": null,
      "justify_items": null,
      "left": null,
      "margin": null,
      "max_height": null,
      "max_width": null,
      "min_height": null,
      "min_width": null,
      "object_fit": null,
      "object_position": null,
      "order": null,
      "overflow": null,
      "overflow_x": null,
      "overflow_y": null,
      "padding": null,
      "right": null,
      "top": null,
      "visibility": null,
      "width": null
     }
    },
    "8760d86a9c2d464e9df4f9bc3eeddd5e": {
     "model_module": "@jupyter-widgets/controls",
     "model_name": "LabelModel",
     "state": {
      "_dom_classes": [],
      "_model_module": "@jupyter-widgets/controls",
      "_model_module_version": "1.5.0",
      "_model_name": "LabelModel",
      "_view_count": null,
      "_view_module": "@jupyter-widgets/controls",
      "_view_module_version": "1.5.0",
      "_view_name": "LabelView",
      "description": "",
      "description_tooltip": null,
      "layout": "IPY_MODEL_b5fec1e43b4e44cca64a07b5985c40e9",
      "placeholder": "​",
      "style": "IPY_MODEL_2c5f4f2c752d4f149aef5e1b94631734",
      "value": " 2.63MB of 2.63MB uploaded (0.00MB deduped)\r"
     }
    },
    "877bae00ef154542b1a18319261793f9": {
     "model_module": "@jupyter-widgets/base",
     "model_name": "LayoutModel",
     "state": {
      "_model_module": "@jupyter-widgets/base",
      "_model_module_version": "1.2.0",
      "_model_name": "LayoutModel",
      "_view_count": null,
      "_view_module": "@jupyter-widgets/base",
      "_view_module_version": "1.2.0",
      "_view_name": "LayoutView",
      "align_content": null,
      "align_items": null,
      "align_self": null,
      "border": null,
      "bottom": null,
      "display": null,
      "flex": null,
      "flex_flow": null,
      "grid_area": null,
      "grid_auto_columns": null,
      "grid_auto_flow": null,
      "grid_auto_rows": null,
      "grid_column": null,
      "grid_gap": null,
      "grid_row": null,
      "grid_template_areas": null,
      "grid_template_columns": null,
      "grid_template_rows": null,
      "height": null,
      "justify_content": null,
      "justify_items": null,
      "left": null,
      "margin": null,
      "max_height": null,
      "max_width": null,
      "min_height": null,
      "min_width": null,
      "object_fit": null,
      "object_position": null,
      "order": null,
      "overflow": null,
      "overflow_x": null,
      "overflow_y": null,
      "padding": null,
      "right": null,
      "top": null,
      "visibility": null,
      "width": null
     }
    },
    "8787467981e44f3f9f7b577c3917e474": {
     "model_module": "@jupyter-widgets/base",
     "model_name": "LayoutModel",
     "state": {
      "_model_module": "@jupyter-widgets/base",
      "_model_module_version": "1.2.0",
      "_model_name": "LayoutModel",
      "_view_count": null,
      "_view_module": "@jupyter-widgets/base",
      "_view_module_version": "1.2.0",
      "_view_name": "LayoutView",
      "align_content": null,
      "align_items": null,
      "align_self": null,
      "border": null,
      "bottom": null,
      "display": null,
      "flex": null,
      "flex_flow": null,
      "grid_area": null,
      "grid_auto_columns": null,
      "grid_auto_flow": null,
      "grid_auto_rows": null,
      "grid_column": null,
      "grid_gap": null,
      "grid_row": null,
      "grid_template_areas": null,
      "grid_template_columns": null,
      "grid_template_rows": null,
      "height": null,
      "justify_content": null,
      "justify_items": null,
      "left": null,
      "margin": null,
      "max_height": null,
      "max_width": null,
      "min_height": null,
      "min_width": null,
      "object_fit": null,
      "object_position": null,
      "order": null,
      "overflow": null,
      "overflow_x": null,
      "overflow_y": null,
      "padding": null,
      "right": null,
      "top": null,
      "visibility": null,
      "width": null
     }
    },
    "885eba4deff346089dc160487e59ffde": {
     "model_module": "@jupyter-widgets/controls",
     "model_name": "FloatProgressModel",
     "state": {
      "_dom_classes": [],
      "_model_module": "@jupyter-widgets/controls",
      "_model_module_version": "1.5.0",
      "_model_name": "FloatProgressModel",
      "_view_count": null,
      "_view_module": "@jupyter-widgets/controls",
      "_view_module_version": "1.5.0",
      "_view_name": "ProgressView",
      "bar_style": "",
      "description": "",
      "description_tooltip": null,
      "layout": "IPY_MODEL_9863d2a1c9dd443bba7cf089cc1f86ee",
      "max": 1,
      "min": 0,
      "orientation": "horizontal",
      "style": "IPY_MODEL_5fb493d7c5774fdd9380238f94b38ebe",
      "value": 1
     }
    },
    "8964e06b21764a70985a532e61df4a72": {
     "model_module": "@jupyter-widgets/controls",
     "model_name": "DescriptionStyleModel",
     "state": {
      "_model_module": "@jupyter-widgets/controls",
      "_model_module_version": "1.5.0",
      "_model_name": "DescriptionStyleModel",
      "_view_count": null,
      "_view_module": "@jupyter-widgets/base",
      "_view_module_version": "1.2.0",
      "_view_name": "StyleView",
      "description_width": ""
     }
    },
    "8967f9b9f02a4b1abb20586bb5214a97": {
     "model_module": "@jupyter-widgets/base",
     "model_name": "LayoutModel",
     "state": {
      "_model_module": "@jupyter-widgets/base",
      "_model_module_version": "1.2.0",
      "_model_name": "LayoutModel",
      "_view_count": null,
      "_view_module": "@jupyter-widgets/base",
      "_view_module_version": "1.2.0",
      "_view_name": "LayoutView",
      "align_content": null,
      "align_items": null,
      "align_self": null,
      "border": null,
      "bottom": null,
      "display": null,
      "flex": null,
      "flex_flow": null,
      "grid_area": null,
      "grid_auto_columns": null,
      "grid_auto_flow": null,
      "grid_auto_rows": null,
      "grid_column": null,
      "grid_gap": null,
      "grid_row": null,
      "grid_template_areas": null,
      "grid_template_columns": null,
      "grid_template_rows": null,
      "height": null,
      "justify_content": null,
      "justify_items": null,
      "left": null,
      "margin": null,
      "max_height": null,
      "max_width": null,
      "min_height": null,
      "min_width": null,
      "object_fit": null,
      "object_position": null,
      "order": null,
      "overflow": null,
      "overflow_x": null,
      "overflow_y": null,
      "padding": null,
      "right": null,
      "top": null,
      "visibility": null,
      "width": null
     }
    },
    "896bae50c8494aeb98101527becb4e9b": {
     "model_module": "@jupyter-widgets/controls",
     "model_name": "DescriptionStyleModel",
     "state": {
      "_model_module": "@jupyter-widgets/controls",
      "_model_module_version": "1.5.0",
      "_model_name": "DescriptionStyleModel",
      "_view_count": null,
      "_view_module": "@jupyter-widgets/base",
      "_view_module_version": "1.2.0",
      "_view_name": "StyleView",
      "description_width": ""
     }
    },
    "89cf62f3418d439b9cc747e3c5857325": {
     "model_module": "@jupyter-widgets/base",
     "model_name": "LayoutModel",
     "state": {
      "_model_module": "@jupyter-widgets/base",
      "_model_module_version": "1.2.0",
      "_model_name": "LayoutModel",
      "_view_count": null,
      "_view_module": "@jupyter-widgets/base",
      "_view_module_version": "1.2.0",
      "_view_name": "LayoutView",
      "align_content": null,
      "align_items": null,
      "align_self": null,
      "border": null,
      "bottom": null,
      "display": null,
      "flex": null,
      "flex_flow": null,
      "grid_area": null,
      "grid_auto_columns": null,
      "grid_auto_flow": null,
      "grid_auto_rows": null,
      "grid_column": null,
      "grid_gap": null,
      "grid_row": null,
      "grid_template_areas": null,
      "grid_template_columns": null,
      "grid_template_rows": null,
      "height": null,
      "justify_content": null,
      "justify_items": null,
      "left": null,
      "margin": null,
      "max_height": null,
      "max_width": null,
      "min_height": null,
      "min_width": null,
      "object_fit": null,
      "object_position": null,
      "order": null,
      "overflow": null,
      "overflow_x": null,
      "overflow_y": null,
      "padding": null,
      "right": null,
      "top": null,
      "visibility": null,
      "width": null
     }
    },
    "89f9b40907ad4b2591e5be69bf05f57f": {
     "model_module": "@jupyter-widgets/controls",
     "model_name": "LabelModel",
     "state": {
      "_dom_classes": [],
      "_model_module": "@jupyter-widgets/controls",
      "_model_module_version": "1.5.0",
      "_model_name": "LabelModel",
      "_view_count": null,
      "_view_module": "@jupyter-widgets/controls",
      "_view_module_version": "1.5.0",
      "_view_name": "LabelView",
      "description": "",
      "description_tooltip": null,
      "layout": "IPY_MODEL_63790e6bddc7471793cba96475d0ca88",
      "placeholder": "​",
      "style": "IPY_MODEL_4f1d8fa644aa4cd188d271a9eb0451db",
      "value": " 1.85MB of 1.85MB uploaded (0.00MB deduped)\r"
     }
    },
    "8a105f834687458ea1c356b5fec5acb5": {
     "model_module": "@jupyter-widgets/controls",
     "model_name": "LabelModel",
     "state": {
      "_dom_classes": [],
      "_model_module": "@jupyter-widgets/controls",
      "_model_module_version": "1.5.0",
      "_model_name": "LabelModel",
      "_view_count": null,
      "_view_module": "@jupyter-widgets/controls",
      "_view_module_version": "1.5.0",
      "_view_name": "LabelView",
      "description": "",
      "description_tooltip": null,
      "layout": "IPY_MODEL_b4578dc5557e4a9e89314773401afddf",
      "placeholder": "​",
      "style": "IPY_MODEL_95db3c5e45284edfb7358f0924ddc97c",
      "value": " 1.05MB of 1.05MB uploaded (0.00MB deduped)\r"
     }
    },
    "8b6f74da450c4dd18fe37b4e59f4b80f": {
     "model_module": "@jupyter-widgets/controls",
     "model_name": "DescriptionStyleModel",
     "state": {
      "_model_module": "@jupyter-widgets/controls",
      "_model_module_version": "1.5.0",
      "_model_name": "DescriptionStyleModel",
      "_view_count": null,
      "_view_module": "@jupyter-widgets/base",
      "_view_module_version": "1.2.0",
      "_view_name": "StyleView",
      "description_width": ""
     }
    },
    "8c1d9f8f434c4addbd457fec736cc46d": {
     "model_module": "@jupyter-widgets/controls",
     "model_name": "FloatProgressModel",
     "state": {
      "_dom_classes": [],
      "_model_module": "@jupyter-widgets/controls",
      "_model_module_version": "1.5.0",
      "_model_name": "FloatProgressModel",
      "_view_count": null,
      "_view_module": "@jupyter-widgets/controls",
      "_view_module_version": "1.5.0",
      "_view_name": "ProgressView",
      "bar_style": "",
      "description": "",
      "description_tooltip": null,
      "layout": "IPY_MODEL_02f07bc4585243b1b8cc487c2869e60b",
      "max": 1,
      "min": 0,
      "orientation": "horizontal",
      "style": "IPY_MODEL_de4cf2652132449fae11c9657321d062",
      "value": 1
     }
    },
    "8c96429c5fed43de89de536dd5abb705": {
     "model_module": "@jupyter-widgets/base",
     "model_name": "LayoutModel",
     "state": {
      "_model_module": "@jupyter-widgets/base",
      "_model_module_version": "1.2.0",
      "_model_name": "LayoutModel",
      "_view_count": null,
      "_view_module": "@jupyter-widgets/base",
      "_view_module_version": "1.2.0",
      "_view_name": "LayoutView",
      "align_content": null,
      "align_items": null,
      "align_self": null,
      "border": null,
      "bottom": null,
      "display": null,
      "flex": null,
      "flex_flow": null,
      "grid_area": null,
      "grid_auto_columns": null,
      "grid_auto_flow": null,
      "grid_auto_rows": null,
      "grid_column": null,
      "grid_gap": null,
      "grid_row": null,
      "grid_template_areas": null,
      "grid_template_columns": null,
      "grid_template_rows": null,
      "height": null,
      "justify_content": null,
      "justify_items": null,
      "left": null,
      "margin": null,
      "max_height": null,
      "max_width": null,
      "min_height": null,
      "min_width": null,
      "object_fit": null,
      "object_position": null,
      "order": null,
      "overflow": null,
      "overflow_x": null,
      "overflow_y": null,
      "padding": null,
      "right": null,
      "top": null,
      "visibility": null,
      "width": null
     }
    },
    "8eb12224136142f39c5e852e14664226": {
     "model_module": "@jupyter-widgets/controls",
     "model_name": "DescriptionStyleModel",
     "state": {
      "_model_module": "@jupyter-widgets/controls",
      "_model_module_version": "1.5.0",
      "_model_name": "DescriptionStyleModel",
      "_view_count": null,
      "_view_module": "@jupyter-widgets/base",
      "_view_module_version": "1.2.0",
      "_view_name": "StyleView",
      "description_width": ""
     }
    },
    "8ecffba86feb44649373041aa9454af5": {
     "model_module": "@jupyter-widgets/controls",
     "model_name": "DescriptionStyleModel",
     "state": {
      "_model_module": "@jupyter-widgets/controls",
      "_model_module_version": "1.5.0",
      "_model_name": "DescriptionStyleModel",
      "_view_count": null,
      "_view_module": "@jupyter-widgets/base",
      "_view_module_version": "1.2.0",
      "_view_name": "StyleView",
      "description_width": ""
     }
    },
    "8efb79aa0b984f8299759ea68c4bd429": {
     "model_module": "@jupyter-widgets/base",
     "model_name": "LayoutModel",
     "state": {
      "_model_module": "@jupyter-widgets/base",
      "_model_module_version": "1.2.0",
      "_model_name": "LayoutModel",
      "_view_count": null,
      "_view_module": "@jupyter-widgets/base",
      "_view_module_version": "1.2.0",
      "_view_name": "LayoutView",
      "align_content": null,
      "align_items": null,
      "align_self": null,
      "border": null,
      "bottom": null,
      "display": null,
      "flex": null,
      "flex_flow": null,
      "grid_area": null,
      "grid_auto_columns": null,
      "grid_auto_flow": null,
      "grid_auto_rows": null,
      "grid_column": null,
      "grid_gap": null,
      "grid_row": null,
      "grid_template_areas": null,
      "grid_template_columns": null,
      "grid_template_rows": null,
      "height": null,
      "justify_content": null,
      "justify_items": null,
      "left": null,
      "margin": null,
      "max_height": null,
      "max_width": null,
      "min_height": null,
      "min_width": null,
      "object_fit": null,
      "object_position": null,
      "order": null,
      "overflow": null,
      "overflow_x": null,
      "overflow_y": null,
      "padding": null,
      "right": null,
      "top": null,
      "visibility": null,
      "width": null
     }
    },
    "8fbfe81a4c1c4f49b4eda68b9ebae85c": {
     "model_module": "@jupyter-widgets/controls",
     "model_name": "LabelModel",
     "state": {
      "_dom_classes": [],
      "_model_module": "@jupyter-widgets/controls",
      "_model_module_version": "1.5.0",
      "_model_name": "LabelModel",
      "_view_count": null,
      "_view_module": "@jupyter-widgets/controls",
      "_view_module_version": "1.5.0",
      "_view_name": "LabelView",
      "description": "",
      "description_tooltip": null,
      "layout": "IPY_MODEL_9d244f711c174fe38dee0200c629704c",
      "placeholder": "​",
      "style": "IPY_MODEL_8eb12224136142f39c5e852e14664226",
      "value": " 1.73MB of 1.73MB uploaded (0.00MB deduped)\r"
     }
    },
    "908f659dbee54c6fae03a4fa66afb39f": {
     "model_module": "@jupyter-widgets/controls",
     "model_name": "ProgressStyleModel",
     "state": {
      "_model_module": "@jupyter-widgets/controls",
      "_model_module_version": "1.5.0",
      "_model_name": "ProgressStyleModel",
      "_view_count": null,
      "_view_module": "@jupyter-widgets/base",
      "_view_module_version": "1.2.0",
      "_view_name": "StyleView",
      "bar_color": null,
      "description_width": ""
     }
    },
    "92d2cfac42794e72aeca7fbff4f89fce": {
     "model_module": "@jupyter-widgets/controls",
     "model_name": "VBoxModel",
     "state": {
      "_dom_classes": [],
      "_model_module": "@jupyter-widgets/controls",
      "_model_module_version": "1.5.0",
      "_model_name": "VBoxModel",
      "_view_count": null,
      "_view_module": "@jupyter-widgets/controls",
      "_view_module_version": "1.5.0",
      "_view_name": "VBoxView",
      "box_style": "",
      "children": [
       "IPY_MODEL_37e4952123db4bbabe4b8df020ba7ae8",
       "IPY_MODEL_aec41dc3f76f4b5cb2a0cf58a7d0c46d"
      ],
      "layout": "IPY_MODEL_0f95e19abb444c288d90ce6e9e94307d"
     }
    },
    "937d81de5c344af89458435605245f1b": {
     "model_module": "@jupyter-widgets/controls",
     "model_name": "LabelModel",
     "state": {
      "_dom_classes": [],
      "_model_module": "@jupyter-widgets/controls",
      "_model_module_version": "1.5.0",
      "_model_name": "LabelModel",
      "_view_count": null,
      "_view_module": "@jupyter-widgets/controls",
      "_view_module_version": "1.5.0",
      "_view_name": "LabelView",
      "description": "",
      "description_tooltip": null,
      "layout": "IPY_MODEL_5f42bed4dc8749b1a95bd7780287c843",
      "placeholder": "​",
      "style": "IPY_MODEL_395a1f98fdfd4f85a1c0a344c332e541",
      "value": " 1.22MB of 1.22MB uploaded (0.00MB deduped)\r"
     }
    },
    "93d4bb405840493aa5b880c16fd64c38": {
     "model_module": "@jupyter-widgets/base",
     "model_name": "LayoutModel",
     "state": {
      "_model_module": "@jupyter-widgets/base",
      "_model_module_version": "1.2.0",
      "_model_name": "LayoutModel",
      "_view_count": null,
      "_view_module": "@jupyter-widgets/base",
      "_view_module_version": "1.2.0",
      "_view_name": "LayoutView",
      "align_content": null,
      "align_items": null,
      "align_self": null,
      "border": null,
      "bottom": null,
      "display": null,
      "flex": null,
      "flex_flow": null,
      "grid_area": null,
      "grid_auto_columns": null,
      "grid_auto_flow": null,
      "grid_auto_rows": null,
      "grid_column": null,
      "grid_gap": null,
      "grid_row": null,
      "grid_template_areas": null,
      "grid_template_columns": null,
      "grid_template_rows": null,
      "height": null,
      "justify_content": null,
      "justify_items": null,
      "left": null,
      "margin": null,
      "max_height": null,
      "max_width": null,
      "min_height": null,
      "min_width": null,
      "object_fit": null,
      "object_position": null,
      "order": null,
      "overflow": null,
      "overflow_x": null,
      "overflow_y": null,
      "padding": null,
      "right": null,
      "top": null,
      "visibility": null,
      "width": null
     }
    },
    "95725a0cdb5d4152909f996fb9fadd17": {
     "model_module": "@jupyter-widgets/controls",
     "model_name": "LabelModel",
     "state": {
      "_dom_classes": [],
      "_model_module": "@jupyter-widgets/controls",
      "_model_module_version": "1.5.0",
      "_model_name": "LabelModel",
      "_view_count": null,
      "_view_module": "@jupyter-widgets/controls",
      "_view_module_version": "1.5.0",
      "_view_name": "LabelView",
      "description": "",
      "description_tooltip": null,
      "layout": "IPY_MODEL_f17aad71024b4a40bd20435e3561dbed",
      "placeholder": "​",
      "style": "IPY_MODEL_e97bd32d41cd4565b1023d9fe636bb50",
      "value": " 1.13MB of 1.13MB uploaded (0.00MB deduped)\r"
     }
    },
    "95a9a7a604d34ad1afd6e3a53735454f": {
     "model_module": "@jupyter-widgets/controls",
     "model_name": "LabelModel",
     "state": {
      "_dom_classes": [],
      "_model_module": "@jupyter-widgets/controls",
      "_model_module_version": "1.5.0",
      "_model_name": "LabelModel",
      "_view_count": null,
      "_view_module": "@jupyter-widgets/controls",
      "_view_module_version": "1.5.0",
      "_view_name": "LabelView",
      "description": "",
      "description_tooltip": null,
      "layout": "IPY_MODEL_6ab167a88b49414786122832b139087a",
      "placeholder": "​",
      "style": "IPY_MODEL_82dd9d8c06904b1eb9b72ac343bea776",
      "value": " 3.45MB of 3.45MB uploaded (0.00MB deduped)\r"
     }
    },
    "95af94e938c14e40b15e3ef914ee1da1": {
     "model_module": "@jupyter-widgets/controls",
     "model_name": "ProgressStyleModel",
     "state": {
      "_model_module": "@jupyter-widgets/controls",
      "_model_module_version": "1.5.0",
      "_model_name": "ProgressStyleModel",
      "_view_count": null,
      "_view_module": "@jupyter-widgets/base",
      "_view_module_version": "1.2.0",
      "_view_name": "StyleView",
      "bar_color": null,
      "description_width": ""
     }
    },
    "95db3c5e45284edfb7358f0924ddc97c": {
     "model_module": "@jupyter-widgets/controls",
     "model_name": "DescriptionStyleModel",
     "state": {
      "_model_module": "@jupyter-widgets/controls",
      "_model_module_version": "1.5.0",
      "_model_name": "DescriptionStyleModel",
      "_view_count": null,
      "_view_module": "@jupyter-widgets/base",
      "_view_module_version": "1.2.0",
      "_view_name": "StyleView",
      "description_width": ""
     }
    },
    "964445c7585740499ba1b5bb2da2a570": {
     "model_module": "@jupyter-widgets/controls",
     "model_name": "LabelModel",
     "state": {
      "_dom_classes": [],
      "_model_module": "@jupyter-widgets/controls",
      "_model_module_version": "1.5.0",
      "_model_name": "LabelModel",
      "_view_count": null,
      "_view_module": "@jupyter-widgets/controls",
      "_view_module_version": "1.5.0",
      "_view_name": "LabelView",
      "description": "",
      "description_tooltip": null,
      "layout": "IPY_MODEL_b485d86af50d4038942b5de9c5cde041",
      "placeholder": "​",
      "style": "IPY_MODEL_03d23c7bc0f541c39e478e80c97dad72",
      "value": " 0.64MB of 0.64MB uploaded (0.00MB deduped)\r"
     }
    },
    "9659e5bb1c13424eb9b5e27b9c299492": {
     "model_module": "@jupyter-widgets/controls",
     "model_name": "LabelModel",
     "state": {
      "_dom_classes": [],
      "_model_module": "@jupyter-widgets/controls",
      "_model_module_version": "1.5.0",
      "_model_name": "LabelModel",
      "_view_count": null,
      "_view_module": "@jupyter-widgets/controls",
      "_view_module_version": "1.5.0",
      "_view_name": "LabelView",
      "description": "",
      "description_tooltip": null,
      "layout": "IPY_MODEL_b1496f06455042aebcc7ee556fc0c167",
      "placeholder": "​",
      "style": "IPY_MODEL_d7529dde31e94343bdd5da1e2d26d6bf",
      "value": " 0.56MB of 0.56MB uploaded (0.00MB deduped)\r"
     }
    },
    "9711d0f9c4f741c8baeb901585bf55a3": {
     "model_module": "@jupyter-widgets/controls",
     "model_name": "DescriptionStyleModel",
     "state": {
      "_model_module": "@jupyter-widgets/controls",
      "_model_module_version": "1.5.0",
      "_model_name": "DescriptionStyleModel",
      "_view_count": null,
      "_view_module": "@jupyter-widgets/base",
      "_view_module_version": "1.2.0",
      "_view_name": "StyleView",
      "description_width": ""
     }
    },
    "978ba85061fb43418e968fd694a942e2": {
     "model_module": "@jupyter-widgets/base",
     "model_name": "LayoutModel",
     "state": {
      "_model_module": "@jupyter-widgets/base",
      "_model_module_version": "1.2.0",
      "_model_name": "LayoutModel",
      "_view_count": null,
      "_view_module": "@jupyter-widgets/base",
      "_view_module_version": "1.2.0",
      "_view_name": "LayoutView",
      "align_content": null,
      "align_items": null,
      "align_self": null,
      "border": null,
      "bottom": null,
      "display": null,
      "flex": null,
      "flex_flow": null,
      "grid_area": null,
      "grid_auto_columns": null,
      "grid_auto_flow": null,
      "grid_auto_rows": null,
      "grid_column": null,
      "grid_gap": null,
      "grid_row": null,
      "grid_template_areas": null,
      "grid_template_columns": null,
      "grid_template_rows": null,
      "height": null,
      "justify_content": null,
      "justify_items": null,
      "left": null,
      "margin": null,
      "max_height": null,
      "max_width": null,
      "min_height": null,
      "min_width": null,
      "object_fit": null,
      "object_position": null,
      "order": null,
      "overflow": null,
      "overflow_x": null,
      "overflow_y": null,
      "padding": null,
      "right": null,
      "top": null,
      "visibility": null,
      "width": null
     }
    },
    "9863d2a1c9dd443bba7cf089cc1f86ee": {
     "model_module": "@jupyter-widgets/base",
     "model_name": "LayoutModel",
     "state": {
      "_model_module": "@jupyter-widgets/base",
      "_model_module_version": "1.2.0",
      "_model_name": "LayoutModel",
      "_view_count": null,
      "_view_module": "@jupyter-widgets/base",
      "_view_module_version": "1.2.0",
      "_view_name": "LayoutView",
      "align_content": null,
      "align_items": null,
      "align_self": null,
      "border": null,
      "bottom": null,
      "display": null,
      "flex": null,
      "flex_flow": null,
      "grid_area": null,
      "grid_auto_columns": null,
      "grid_auto_flow": null,
      "grid_auto_rows": null,
      "grid_column": null,
      "grid_gap": null,
      "grid_row": null,
      "grid_template_areas": null,
      "grid_template_columns": null,
      "grid_template_rows": null,
      "height": null,
      "justify_content": null,
      "justify_items": null,
      "left": null,
      "margin": null,
      "max_height": null,
      "max_width": null,
      "min_height": null,
      "min_width": null,
      "object_fit": null,
      "object_position": null,
      "order": null,
      "overflow": null,
      "overflow_x": null,
      "overflow_y": null,
      "padding": null,
      "right": null,
      "top": null,
      "visibility": null,
      "width": null
     }
    },
    "994bc95459a24c179f53a83c584a1f21": {
     "model_module": "@jupyter-widgets/base",
     "model_name": "LayoutModel",
     "state": {
      "_model_module": "@jupyter-widgets/base",
      "_model_module_version": "1.2.0",
      "_model_name": "LayoutModel",
      "_view_count": null,
      "_view_module": "@jupyter-widgets/base",
      "_view_module_version": "1.2.0",
      "_view_name": "LayoutView",
      "align_content": null,
      "align_items": null,
      "align_self": null,
      "border": null,
      "bottom": null,
      "display": null,
      "flex": null,
      "flex_flow": null,
      "grid_area": null,
      "grid_auto_columns": null,
      "grid_auto_flow": null,
      "grid_auto_rows": null,
      "grid_column": null,
      "grid_gap": null,
      "grid_row": null,
      "grid_template_areas": null,
      "grid_template_columns": null,
      "grid_template_rows": null,
      "height": null,
      "justify_content": null,
      "justify_items": null,
      "left": null,
      "margin": null,
      "max_height": null,
      "max_width": null,
      "min_height": null,
      "min_width": null,
      "object_fit": null,
      "object_position": null,
      "order": null,
      "overflow": null,
      "overflow_x": null,
      "overflow_y": null,
      "padding": null,
      "right": null,
      "top": null,
      "visibility": null,
      "width": null
     }
    },
    "9a1dbeda7c0042038d6bc43db1bcc2b7": {
     "model_module": "@jupyter-widgets/controls",
     "model_name": "ProgressStyleModel",
     "state": {
      "_model_module": "@jupyter-widgets/controls",
      "_model_module_version": "1.5.0",
      "_model_name": "ProgressStyleModel",
      "_view_count": null,
      "_view_module": "@jupyter-widgets/base",
      "_view_module_version": "1.2.0",
      "_view_name": "StyleView",
      "bar_color": null,
      "description_width": ""
     }
    },
    "9a2482bc12bd414f97ade0f9587da405": {
     "model_module": "@jupyter-widgets/controls",
     "model_name": "VBoxModel",
     "state": {
      "_dom_classes": [],
      "_model_module": "@jupyter-widgets/controls",
      "_model_module_version": "1.5.0",
      "_model_name": "VBoxModel",
      "_view_count": null,
      "_view_module": "@jupyter-widgets/controls",
      "_view_module_version": "1.5.0",
      "_view_name": "VBoxView",
      "box_style": "",
      "children": [
       "IPY_MODEL_b44d3f4e2b9646d6807fc4b7bd1a764e",
       "IPY_MODEL_13604f4131b24547b9a4107c1bf86b7b"
      ],
      "layout": "IPY_MODEL_5eaf5c051e8d456ca8e8c0eb0ddb37cc"
     }
    },
    "9a504f7c429a49498a5fd9e993ea227a": {
     "model_module": "@jupyter-widgets/controls",
     "model_name": "DescriptionStyleModel",
     "state": {
      "_model_module": "@jupyter-widgets/controls",
      "_model_module_version": "1.5.0",
      "_model_name": "DescriptionStyleModel",
      "_view_count": null,
      "_view_module": "@jupyter-widgets/base",
      "_view_module_version": "1.2.0",
      "_view_name": "StyleView",
      "description_width": ""
     }
    },
    "9abe2fd2842c4188b770f8b9514e14d2": {
     "model_module": "@jupyter-widgets/base",
     "model_name": "LayoutModel",
     "state": {
      "_model_module": "@jupyter-widgets/base",
      "_model_module_version": "1.2.0",
      "_model_name": "LayoutModel",
      "_view_count": null,
      "_view_module": "@jupyter-widgets/base",
      "_view_module_version": "1.2.0",
      "_view_name": "LayoutView",
      "align_content": null,
      "align_items": null,
      "align_self": null,
      "border": null,
      "bottom": null,
      "display": null,
      "flex": null,
      "flex_flow": null,
      "grid_area": null,
      "grid_auto_columns": null,
      "grid_auto_flow": null,
      "grid_auto_rows": null,
      "grid_column": null,
      "grid_gap": null,
      "grid_row": null,
      "grid_template_areas": null,
      "grid_template_columns": null,
      "grid_template_rows": null,
      "height": null,
      "justify_content": null,
      "justify_items": null,
      "left": null,
      "margin": null,
      "max_height": null,
      "max_width": null,
      "min_height": null,
      "min_width": null,
      "object_fit": null,
      "object_position": null,
      "order": null,
      "overflow": null,
      "overflow_x": null,
      "overflow_y": null,
      "padding": null,
      "right": null,
      "top": null,
      "visibility": null,
      "width": null
     }
    },
    "9b7fc68f1a374fab86bf6d73ce4c5870": {
     "model_module": "@jupyter-widgets/base",
     "model_name": "LayoutModel",
     "state": {
      "_model_module": "@jupyter-widgets/base",
      "_model_module_version": "1.2.0",
      "_model_name": "LayoutModel",
      "_view_count": null,
      "_view_module": "@jupyter-widgets/base",
      "_view_module_version": "1.2.0",
      "_view_name": "LayoutView",
      "align_content": null,
      "align_items": null,
      "align_self": null,
      "border": null,
      "bottom": null,
      "display": null,
      "flex": null,
      "flex_flow": null,
      "grid_area": null,
      "grid_auto_columns": null,
      "grid_auto_flow": null,
      "grid_auto_rows": null,
      "grid_column": null,
      "grid_gap": null,
      "grid_row": null,
      "grid_template_areas": null,
      "grid_template_columns": null,
      "grid_template_rows": null,
      "height": null,
      "justify_content": null,
      "justify_items": null,
      "left": null,
      "margin": null,
      "max_height": null,
      "max_width": null,
      "min_height": null,
      "min_width": null,
      "object_fit": null,
      "object_position": null,
      "order": null,
      "overflow": null,
      "overflow_x": null,
      "overflow_y": null,
      "padding": null,
      "right": null,
      "top": null,
      "visibility": null,
      "width": null
     }
    },
    "9c6113d96df04c60aaa33739e26da22e": {
     "model_module": "@jupyter-widgets/base",
     "model_name": "LayoutModel",
     "state": {
      "_model_module": "@jupyter-widgets/base",
      "_model_module_version": "1.2.0",
      "_model_name": "LayoutModel",
      "_view_count": null,
      "_view_module": "@jupyter-widgets/base",
      "_view_module_version": "1.2.0",
      "_view_name": "LayoutView",
      "align_content": null,
      "align_items": null,
      "align_self": null,
      "border": null,
      "bottom": null,
      "display": null,
      "flex": null,
      "flex_flow": null,
      "grid_area": null,
      "grid_auto_columns": null,
      "grid_auto_flow": null,
      "grid_auto_rows": null,
      "grid_column": null,
      "grid_gap": null,
      "grid_row": null,
      "grid_template_areas": null,
      "grid_template_columns": null,
      "grid_template_rows": null,
      "height": null,
      "justify_content": null,
      "justify_items": null,
      "left": null,
      "margin": null,
      "max_height": null,
      "max_width": null,
      "min_height": null,
      "min_width": null,
      "object_fit": null,
      "object_position": null,
      "order": null,
      "overflow": null,
      "overflow_x": null,
      "overflow_y": null,
      "padding": null,
      "right": null,
      "top": null,
      "visibility": null,
      "width": null
     }
    },
    "9d244f711c174fe38dee0200c629704c": {
     "model_module": "@jupyter-widgets/base",
     "model_name": "LayoutModel",
     "state": {
      "_model_module": "@jupyter-widgets/base",
      "_model_module_version": "1.2.0",
      "_model_name": "LayoutModel",
      "_view_count": null,
      "_view_module": "@jupyter-widgets/base",
      "_view_module_version": "1.2.0",
      "_view_name": "LayoutView",
      "align_content": null,
      "align_items": null,
      "align_self": null,
      "border": null,
      "bottom": null,
      "display": null,
      "flex": null,
      "flex_flow": null,
      "grid_area": null,
      "grid_auto_columns": null,
      "grid_auto_flow": null,
      "grid_auto_rows": null,
      "grid_column": null,
      "grid_gap": null,
      "grid_row": null,
      "grid_template_areas": null,
      "grid_template_columns": null,
      "grid_template_rows": null,
      "height": null,
      "justify_content": null,
      "justify_items": null,
      "left": null,
      "margin": null,
      "max_height": null,
      "max_width": null,
      "min_height": null,
      "min_width": null,
      "object_fit": null,
      "object_position": null,
      "order": null,
      "overflow": null,
      "overflow_x": null,
      "overflow_y": null,
      "padding": null,
      "right": null,
      "top": null,
      "visibility": null,
      "width": null
     }
    },
    "9d7e3907d9da426e9504fbfa7440cf14": {
     "model_module": "@jupyter-widgets/base",
     "model_name": "LayoutModel",
     "state": {
      "_model_module": "@jupyter-widgets/base",
      "_model_module_version": "1.2.0",
      "_model_name": "LayoutModel",
      "_view_count": null,
      "_view_module": "@jupyter-widgets/base",
      "_view_module_version": "1.2.0",
      "_view_name": "LayoutView",
      "align_content": null,
      "align_items": null,
      "align_self": null,
      "border": null,
      "bottom": null,
      "display": null,
      "flex": null,
      "flex_flow": null,
      "grid_area": null,
      "grid_auto_columns": null,
      "grid_auto_flow": null,
      "grid_auto_rows": null,
      "grid_column": null,
      "grid_gap": null,
      "grid_row": null,
      "grid_template_areas": null,
      "grid_template_columns": null,
      "grid_template_rows": null,
      "height": null,
      "justify_content": null,
      "justify_items": null,
      "left": null,
      "margin": null,
      "max_height": null,
      "max_width": null,
      "min_height": null,
      "min_width": null,
      "object_fit": null,
      "object_position": null,
      "order": null,
      "overflow": null,
      "overflow_x": null,
      "overflow_y": null,
      "padding": null,
      "right": null,
      "top": null,
      "visibility": null,
      "width": null
     }
    },
    "9e0690492c3c46a79890f63a6b076e99": {
     "model_module": "@jupyter-widgets/base",
     "model_name": "LayoutModel",
     "state": {
      "_model_module": "@jupyter-widgets/base",
      "_model_module_version": "1.2.0",
      "_model_name": "LayoutModel",
      "_view_count": null,
      "_view_module": "@jupyter-widgets/base",
      "_view_module_version": "1.2.0",
      "_view_name": "LayoutView",
      "align_content": null,
      "align_items": null,
      "align_self": null,
      "border": null,
      "bottom": null,
      "display": null,
      "flex": null,
      "flex_flow": null,
      "grid_area": null,
      "grid_auto_columns": null,
      "grid_auto_flow": null,
      "grid_auto_rows": null,
      "grid_column": null,
      "grid_gap": null,
      "grid_row": null,
      "grid_template_areas": null,
      "grid_template_columns": null,
      "grid_template_rows": null,
      "height": null,
      "justify_content": null,
      "justify_items": null,
      "left": null,
      "margin": null,
      "max_height": null,
      "max_width": null,
      "min_height": null,
      "min_width": null,
      "object_fit": null,
      "object_position": null,
      "order": null,
      "overflow": null,
      "overflow_x": null,
      "overflow_y": null,
      "padding": null,
      "right": null,
      "top": null,
      "visibility": null,
      "width": null
     }
    },
    "9eb4e33eb60b479abe513d9026e8a1fa": {
     "model_module": "@jupyter-widgets/controls",
     "model_name": "ProgressStyleModel",
     "state": {
      "_model_module": "@jupyter-widgets/controls",
      "_model_module_version": "1.5.0",
      "_model_name": "ProgressStyleModel",
      "_view_count": null,
      "_view_module": "@jupyter-widgets/base",
      "_view_module_version": "1.2.0",
      "_view_name": "StyleView",
      "bar_color": null,
      "description_width": ""
     }
    },
    "9ef0f333065e4a17a7aa6e8ec446cf71": {
     "model_module": "@jupyter-widgets/base",
     "model_name": "LayoutModel",
     "state": {
      "_model_module": "@jupyter-widgets/base",
      "_model_module_version": "1.2.0",
      "_model_name": "LayoutModel",
      "_view_count": null,
      "_view_module": "@jupyter-widgets/base",
      "_view_module_version": "1.2.0",
      "_view_name": "LayoutView",
      "align_content": null,
      "align_items": null,
      "align_self": null,
      "border": null,
      "bottom": null,
      "display": null,
      "flex": null,
      "flex_flow": null,
      "grid_area": null,
      "grid_auto_columns": null,
      "grid_auto_flow": null,
      "grid_auto_rows": null,
      "grid_column": null,
      "grid_gap": null,
      "grid_row": null,
      "grid_template_areas": null,
      "grid_template_columns": null,
      "grid_template_rows": null,
      "height": null,
      "justify_content": null,
      "justify_items": null,
      "left": null,
      "margin": null,
      "max_height": null,
      "max_width": null,
      "min_height": null,
      "min_width": null,
      "object_fit": null,
      "object_position": null,
      "order": null,
      "overflow": null,
      "overflow_x": null,
      "overflow_y": null,
      "padding": null,
      "right": null,
      "top": null,
      "visibility": null,
      "width": null
     }
    },
    "9fcce93b513a469aa9fd178ff0ccb9ea": {
     "model_module": "@jupyter-widgets/controls",
     "model_name": "VBoxModel",
     "state": {
      "_dom_classes": [],
      "_model_module": "@jupyter-widgets/controls",
      "_model_module_version": "1.5.0",
      "_model_name": "VBoxModel",
      "_view_count": null,
      "_view_module": "@jupyter-widgets/controls",
      "_view_module_version": "1.5.0",
      "_view_name": "VBoxView",
      "box_style": "",
      "children": [
       "IPY_MODEL_728f33bd58804098b8d7d38eca98b88f",
       "IPY_MODEL_dd613a8bab194f179500c66bd9811772"
      ],
      "layout": "IPY_MODEL_fecdd1fb9dcc4b4d91f0bf50b3b46a9e"
     }
    },
    "a044c0b2ecd04f7b9b9b865d45753e55": {
     "model_module": "@jupyter-widgets/controls",
     "model_name": "LabelModel",
     "state": {
      "_dom_classes": [],
      "_model_module": "@jupyter-widgets/controls",
      "_model_module_version": "1.5.0",
      "_model_name": "LabelModel",
      "_view_count": null,
      "_view_module": "@jupyter-widgets/controls",
      "_view_module_version": "1.5.0",
      "_view_name": "LabelView",
      "description": "",
      "description_tooltip": null,
      "layout": "IPY_MODEL_1d7ba4bc61b54e309f218f3a34265e2e",
      "placeholder": "​",
      "style": "IPY_MODEL_07790538ff3c4f09b37d8eeaf850c85e",
      "value": " 3.19MB of 3.19MB uploaded (0.00MB deduped)\r"
     }
    },
    "a046ad0b89694cc3b1de0e67f3870208": {
     "model_module": "@jupyter-widgets/controls",
     "model_name": "VBoxModel",
     "state": {
      "_dom_classes": [],
      "_model_module": "@jupyter-widgets/controls",
      "_model_module_version": "1.5.0",
      "_model_name": "VBoxModel",
      "_view_count": null,
      "_view_module": "@jupyter-widgets/controls",
      "_view_module_version": "1.5.0",
      "_view_name": "VBoxView",
      "box_style": "",
      "children": [
       "IPY_MODEL_76833d3e3b6246c086e7b700a18ca859",
       "IPY_MODEL_5dda61a56d8d43d782e3305e7dfb1d1c"
      ],
      "layout": "IPY_MODEL_f05c38dd86ac439084ecb17db16e37c1"
     }
    },
    "a089a90eacf24879bfe1893d53f4a433": {
     "model_module": "@jupyter-widgets/controls",
     "model_name": "FloatProgressModel",
     "state": {
      "_dom_classes": [],
      "_model_module": "@jupyter-widgets/controls",
      "_model_module_version": "1.5.0",
      "_model_name": "FloatProgressModel",
      "_view_count": null,
      "_view_module": "@jupyter-widgets/controls",
      "_view_module_version": "1.5.0",
      "_view_name": "ProgressView",
      "bar_style": "",
      "description": "",
      "description_tooltip": null,
      "layout": "IPY_MODEL_ed727062227245c2ab4de4f1c2dae954",
      "max": 1,
      "min": 0,
      "orientation": "horizontal",
      "style": "IPY_MODEL_2abe433d6b91458eb9bbc6674fa49b16",
      "value": 1
     }
    },
    "a09dacd21266478abb11cb86759118cb": {
     "model_module": "@jupyter-widgets/base",
     "model_name": "LayoutModel",
     "state": {
      "_model_module": "@jupyter-widgets/base",
      "_model_module_version": "1.2.0",
      "_model_name": "LayoutModel",
      "_view_count": null,
      "_view_module": "@jupyter-widgets/base",
      "_view_module_version": "1.2.0",
      "_view_name": "LayoutView",
      "align_content": null,
      "align_items": null,
      "align_self": null,
      "border": null,
      "bottom": null,
      "display": null,
      "flex": null,
      "flex_flow": null,
      "grid_area": null,
      "grid_auto_columns": null,
      "grid_auto_flow": null,
      "grid_auto_rows": null,
      "grid_column": null,
      "grid_gap": null,
      "grid_row": null,
      "grid_template_areas": null,
      "grid_template_columns": null,
      "grid_template_rows": null,
      "height": null,
      "justify_content": null,
      "justify_items": null,
      "left": null,
      "margin": null,
      "max_height": null,
      "max_width": null,
      "min_height": null,
      "min_width": null,
      "object_fit": null,
      "object_position": null,
      "order": null,
      "overflow": null,
      "overflow_x": null,
      "overflow_y": null,
      "padding": null,
      "right": null,
      "top": null,
      "visibility": null,
      "width": null
     }
    },
    "a0dfe2a7cae1404fb76548019a3df991": {
     "model_module": "@jupyter-widgets/base",
     "model_name": "LayoutModel",
     "state": {
      "_model_module": "@jupyter-widgets/base",
      "_model_module_version": "1.2.0",
      "_model_name": "LayoutModel",
      "_view_count": null,
      "_view_module": "@jupyter-widgets/base",
      "_view_module_version": "1.2.0",
      "_view_name": "LayoutView",
      "align_content": null,
      "align_items": null,
      "align_self": null,
      "border": null,
      "bottom": null,
      "display": null,
      "flex": null,
      "flex_flow": null,
      "grid_area": null,
      "grid_auto_columns": null,
      "grid_auto_flow": null,
      "grid_auto_rows": null,
      "grid_column": null,
      "grid_gap": null,
      "grid_row": null,
      "grid_template_areas": null,
      "grid_template_columns": null,
      "grid_template_rows": null,
      "height": null,
      "justify_content": null,
      "justify_items": null,
      "left": null,
      "margin": null,
      "max_height": null,
      "max_width": null,
      "min_height": null,
      "min_width": null,
      "object_fit": null,
      "object_position": null,
      "order": null,
      "overflow": null,
      "overflow_x": null,
      "overflow_y": null,
      "padding": null,
      "right": null,
      "top": null,
      "visibility": null,
      "width": null
     }
    },
    "a156df3da20a4a619c1cc818574b1802": {
     "model_module": "@jupyter-widgets/controls",
     "model_name": "LabelModel",
     "state": {
      "_dom_classes": [],
      "_model_module": "@jupyter-widgets/controls",
      "_model_module_version": "1.5.0",
      "_model_name": "LabelModel",
      "_view_count": null,
      "_view_module": "@jupyter-widgets/controls",
      "_view_module_version": "1.5.0",
      "_view_name": "LabelView",
      "description": "",
      "description_tooltip": null,
      "layout": "IPY_MODEL_8787467981e44f3f9f7b577c3917e474",
      "placeholder": "​",
      "style": "IPY_MODEL_f9484a42909e4fe888591282260350ab",
      "value": " 1.13MB of 1.13MB uploaded (0.00MB deduped)\r"
     }
    },
    "a2acf69d3e5841ee89ded138c59b5011": {
     "model_module": "@jupyter-widgets/base",
     "model_name": "LayoutModel",
     "state": {
      "_model_module": "@jupyter-widgets/base",
      "_model_module_version": "1.2.0",
      "_model_name": "LayoutModel",
      "_view_count": null,
      "_view_module": "@jupyter-widgets/base",
      "_view_module_version": "1.2.0",
      "_view_name": "LayoutView",
      "align_content": null,
      "align_items": null,
      "align_self": null,
      "border": null,
      "bottom": null,
      "display": null,
      "flex": null,
      "flex_flow": null,
      "grid_area": null,
      "grid_auto_columns": null,
      "grid_auto_flow": null,
      "grid_auto_rows": null,
      "grid_column": null,
      "grid_gap": null,
      "grid_row": null,
      "grid_template_areas": null,
      "grid_template_columns": null,
      "grid_template_rows": null,
      "height": null,
      "justify_content": null,
      "justify_items": null,
      "left": null,
      "margin": null,
      "max_height": null,
      "max_width": null,
      "min_height": null,
      "min_width": null,
      "object_fit": null,
      "object_position": null,
      "order": null,
      "overflow": null,
      "overflow_x": null,
      "overflow_y": null,
      "padding": null,
      "right": null,
      "top": null,
      "visibility": null,
      "width": null
     }
    },
    "a3287dfe8b6445e9a87809cf7285dd03": {
     "model_module": "@jupyter-widgets/base",
     "model_name": "LayoutModel",
     "state": {
      "_model_module": "@jupyter-widgets/base",
      "_model_module_version": "1.2.0",
      "_model_name": "LayoutModel",
      "_view_count": null,
      "_view_module": "@jupyter-widgets/base",
      "_view_module_version": "1.2.0",
      "_view_name": "LayoutView",
      "align_content": null,
      "align_items": null,
      "align_self": null,
      "border": null,
      "bottom": null,
      "display": null,
      "flex": null,
      "flex_flow": null,
      "grid_area": null,
      "grid_auto_columns": null,
      "grid_auto_flow": null,
      "grid_auto_rows": null,
      "grid_column": null,
      "grid_gap": null,
      "grid_row": null,
      "grid_template_areas": null,
      "grid_template_columns": null,
      "grid_template_rows": null,
      "height": null,
      "justify_content": null,
      "justify_items": null,
      "left": null,
      "margin": null,
      "max_height": null,
      "max_width": null,
      "min_height": null,
      "min_width": null,
      "object_fit": null,
      "object_position": null,
      "order": null,
      "overflow": null,
      "overflow_x": null,
      "overflow_y": null,
      "padding": null,
      "right": null,
      "top": null,
      "visibility": null,
      "width": null
     }
    },
    "a36fe6e57efe45c8b1f7b2ebf2a3003d": {
     "model_module": "@jupyter-widgets/base",
     "model_name": "LayoutModel",
     "state": {
      "_model_module": "@jupyter-widgets/base",
      "_model_module_version": "1.2.0",
      "_model_name": "LayoutModel",
      "_view_count": null,
      "_view_module": "@jupyter-widgets/base",
      "_view_module_version": "1.2.0",
      "_view_name": "LayoutView",
      "align_content": null,
      "align_items": null,
      "align_self": null,
      "border": null,
      "bottom": null,
      "display": null,
      "flex": null,
      "flex_flow": null,
      "grid_area": null,
      "grid_auto_columns": null,
      "grid_auto_flow": null,
      "grid_auto_rows": null,
      "grid_column": null,
      "grid_gap": null,
      "grid_row": null,
      "grid_template_areas": null,
      "grid_template_columns": null,
      "grid_template_rows": null,
      "height": null,
      "justify_content": null,
      "justify_items": null,
      "left": null,
      "margin": null,
      "max_height": null,
      "max_width": null,
      "min_height": null,
      "min_width": null,
      "object_fit": null,
      "object_position": null,
      "order": null,
      "overflow": null,
      "overflow_x": null,
      "overflow_y": null,
      "padding": null,
      "right": null,
      "top": null,
      "visibility": null,
      "width": null
     }
    },
    "a45a733f0de8407bb678128252361fb1": {
     "model_module": "@jupyter-widgets/controls",
     "model_name": "LabelModel",
     "state": {
      "_dom_classes": [],
      "_model_module": "@jupyter-widgets/controls",
      "_model_module_version": "1.5.0",
      "_model_name": "LabelModel",
      "_view_count": null,
      "_view_module": "@jupyter-widgets/controls",
      "_view_module_version": "1.5.0",
      "_view_name": "LabelView",
      "description": "",
      "description_tooltip": null,
      "layout": "IPY_MODEL_a09dacd21266478abb11cb86759118cb",
      "placeholder": "​",
      "style": "IPY_MODEL_6f48c275ee634a808043a2442c6f2290",
      "value": " 0.30MB of 0.30MB uploaded (0.00MB deduped)\r"
     }
    },
    "a52e0485f2444b97a697e73d429b9965": {
     "model_module": "@jupyter-widgets/controls",
     "model_name": "FloatProgressModel",
     "state": {
      "_dom_classes": [],
      "_model_module": "@jupyter-widgets/controls",
      "_model_module_version": "1.5.0",
      "_model_name": "FloatProgressModel",
      "_view_count": null,
      "_view_module": "@jupyter-widgets/controls",
      "_view_module_version": "1.5.0",
      "_view_name": "ProgressView",
      "bar_style": "",
      "description": "",
      "description_tooltip": null,
      "layout": "IPY_MODEL_771073f7aebb4bb9b6f1ff89cb94ffcc",
      "max": 1,
      "min": 0,
      "orientation": "horizontal",
      "style": "IPY_MODEL_48ab68228fa34a5282d79513af784350",
      "value": 1
     }
    },
    "a5319b685b54456ca499c64445465d59": {
     "model_module": "@jupyter-widgets/base",
     "model_name": "LayoutModel",
     "state": {
      "_model_module": "@jupyter-widgets/base",
      "_model_module_version": "1.2.0",
      "_model_name": "LayoutModel",
      "_view_count": null,
      "_view_module": "@jupyter-widgets/base",
      "_view_module_version": "1.2.0",
      "_view_name": "LayoutView",
      "align_content": null,
      "align_items": null,
      "align_self": null,
      "border": null,
      "bottom": null,
      "display": null,
      "flex": null,
      "flex_flow": null,
      "grid_area": null,
      "grid_auto_columns": null,
      "grid_auto_flow": null,
      "grid_auto_rows": null,
      "grid_column": null,
      "grid_gap": null,
      "grid_row": null,
      "grid_template_areas": null,
      "grid_template_columns": null,
      "grid_template_rows": null,
      "height": null,
      "justify_content": null,
      "justify_items": null,
      "left": null,
      "margin": null,
      "max_height": null,
      "max_width": null,
      "min_height": null,
      "min_width": null,
      "object_fit": null,
      "object_position": null,
      "order": null,
      "overflow": null,
      "overflow_x": null,
      "overflow_y": null,
      "padding": null,
      "right": null,
      "top": null,
      "visibility": null,
      "width": null
     }
    },
    "a55d3a6dba1840aa9d8f52d1d932633e": {
     "model_module": "@jupyter-widgets/base",
     "model_name": "LayoutModel",
     "state": {
      "_model_module": "@jupyter-widgets/base",
      "_model_module_version": "1.2.0",
      "_model_name": "LayoutModel",
      "_view_count": null,
      "_view_module": "@jupyter-widgets/base",
      "_view_module_version": "1.2.0",
      "_view_name": "LayoutView",
      "align_content": null,
      "align_items": null,
      "align_self": null,
      "border": null,
      "bottom": null,
      "display": null,
      "flex": null,
      "flex_flow": null,
      "grid_area": null,
      "grid_auto_columns": null,
      "grid_auto_flow": null,
      "grid_auto_rows": null,
      "grid_column": null,
      "grid_gap": null,
      "grid_row": null,
      "grid_template_areas": null,
      "grid_template_columns": null,
      "grid_template_rows": null,
      "height": null,
      "justify_content": null,
      "justify_items": null,
      "left": null,
      "margin": null,
      "max_height": null,
      "max_width": null,
      "min_height": null,
      "min_width": null,
      "object_fit": null,
      "object_position": null,
      "order": null,
      "overflow": null,
      "overflow_x": null,
      "overflow_y": null,
      "padding": null,
      "right": null,
      "top": null,
      "visibility": null,
      "width": null
     }
    },
    "a603be1dd74d41cba7a00485c26107cc": {
     "model_module": "@jupyter-widgets/controls",
     "model_name": "FloatProgressModel",
     "state": {
      "_dom_classes": [],
      "_model_module": "@jupyter-widgets/controls",
      "_model_module_version": "1.5.0",
      "_model_name": "FloatProgressModel",
      "_view_count": null,
      "_view_module": "@jupyter-widgets/controls",
      "_view_module_version": "1.5.0",
      "_view_name": "ProgressView",
      "bar_style": "",
      "description": "",
      "description_tooltip": null,
      "layout": "IPY_MODEL_a36fe6e57efe45c8b1f7b2ebf2a3003d",
      "max": 1,
      "min": 0,
      "orientation": "horizontal",
      "style": "IPY_MODEL_12fcc164d84b4fcdbcb16a45b7261a43",
      "value": 1
     }
    },
    "a67929dfaf9a40a398f5a1a826e046d0": {
     "model_module": "@jupyter-widgets/controls",
     "model_name": "DescriptionStyleModel",
     "state": {
      "_model_module": "@jupyter-widgets/controls",
      "_model_module_version": "1.5.0",
      "_model_name": "DescriptionStyleModel",
      "_view_count": null,
      "_view_module": "@jupyter-widgets/base",
      "_view_module_version": "1.2.0",
      "_view_name": "StyleView",
      "description_width": ""
     }
    },
    "a6c3ea15918045b99f832a30fd067208": {
     "model_module": "@jupyter-widgets/controls",
     "model_name": "FloatProgressModel",
     "state": {
      "_dom_classes": [],
      "_model_module": "@jupyter-widgets/controls",
      "_model_module_version": "1.5.0",
      "_model_name": "FloatProgressModel",
      "_view_count": null,
      "_view_module": "@jupyter-widgets/controls",
      "_view_module_version": "1.5.0",
      "_view_name": "ProgressView",
      "bar_style": "",
      "description": "",
      "description_tooltip": null,
      "layout": "IPY_MODEL_dd625c3892614c93ac44caab626986b5",
      "max": 1,
      "min": 0,
      "orientation": "horizontal",
      "style": "IPY_MODEL_95af94e938c14e40b15e3ef914ee1da1",
      "value": 1
     }
    },
    "a852b3f5e64a4c0aba10dd1d64f3df37": {
     "model_module": "@jupyter-widgets/controls",
     "model_name": "FloatProgressModel",
     "state": {
      "_dom_classes": [],
      "_model_module": "@jupyter-widgets/controls",
      "_model_module_version": "1.5.0",
      "_model_name": "FloatProgressModel",
      "_view_count": null,
      "_view_module": "@jupyter-widgets/controls",
      "_view_module_version": "1.5.0",
      "_view_name": "ProgressView",
      "bar_style": "",
      "description": "",
      "description_tooltip": null,
      "layout": "IPY_MODEL_d50eb0eee49c4b76bef559a0f88ede11",
      "max": 1,
      "min": 0,
      "orientation": "horizontal",
      "style": "IPY_MODEL_819f7e791dd64cfb82a178cd73cb27f6",
      "value": 1
     }
    },
    "a8a2d97d79e34961afbdfd339f0571d2": {
     "model_module": "@jupyter-widgets/controls",
     "model_name": "VBoxModel",
     "state": {
      "_dom_classes": [],
      "_model_module": "@jupyter-widgets/controls",
      "_model_module_version": "1.5.0",
      "_model_name": "VBoxModel",
      "_view_count": null,
      "_view_module": "@jupyter-widgets/controls",
      "_view_module_version": "1.5.0",
      "_view_name": "VBoxView",
      "box_style": "",
      "children": [
       "IPY_MODEL_12de5a8be3ea474b805929af54a125c4",
       "IPY_MODEL_168dc230462848e4a18352482ab085e0"
      ],
      "layout": "IPY_MODEL_6cb831e165334649b6a75767e76c703f"
     }
    },
    "a931ae4b03404f97b644515932a17dca": {
     "model_module": "@jupyter-widgets/controls",
     "model_name": "FloatProgressModel",
     "state": {
      "_dom_classes": [],
      "_model_module": "@jupyter-widgets/controls",
      "_model_module_version": "1.5.0",
      "_model_name": "FloatProgressModel",
      "_view_count": null,
      "_view_module": "@jupyter-widgets/controls",
      "_view_module_version": "1.5.0",
      "_view_name": "ProgressView",
      "bar_style": "",
      "description": "",
      "description_tooltip": null,
      "layout": "IPY_MODEL_006ab2005a30406d8b7e7f101a22e016",
      "max": 1,
      "min": 0,
      "orientation": "horizontal",
      "style": "IPY_MODEL_ae442ea74e9648d18e1e33490e2ae9d4",
      "value": 1
     }
    },
    "a981d87379dd428791b5b86a0eef980a": {
     "model_module": "@jupyter-widgets/controls",
     "model_name": "DescriptionStyleModel",
     "state": {
      "_model_module": "@jupyter-widgets/controls",
      "_model_module_version": "1.5.0",
      "_model_name": "DescriptionStyleModel",
      "_view_count": null,
      "_view_module": "@jupyter-widgets/base",
      "_view_module_version": "1.2.0",
      "_view_name": "StyleView",
      "description_width": ""
     }
    },
    "aa3ae0286b9740af984a13685095b5e0": {
     "model_module": "@jupyter-widgets/controls",
     "model_name": "LabelModel",
     "state": {
      "_dom_classes": [],
      "_model_module": "@jupyter-widgets/controls",
      "_model_module_version": "1.5.0",
      "_model_name": "LabelModel",
      "_view_count": null,
      "_view_module": "@jupyter-widgets/controls",
      "_view_module_version": "1.5.0",
      "_view_name": "LabelView",
      "description": "",
      "description_tooltip": null,
      "layout": "IPY_MODEL_978ba85061fb43418e968fd694a942e2",
      "placeholder": "​",
      "style": "IPY_MODEL_a67929dfaf9a40a398f5a1a826e046d0",
      "value": " 0.88MB of 0.88MB uploaded (0.00MB deduped)\r"
     }
    },
    "aa43ec039c434750a3993059e2ec2471": {
     "model_module": "@jupyter-widgets/controls",
     "model_name": "DescriptionStyleModel",
     "state": {
      "_model_module": "@jupyter-widgets/controls",
      "_model_module_version": "1.5.0",
      "_model_name": "DescriptionStyleModel",
      "_view_count": null,
      "_view_module": "@jupyter-widgets/base",
      "_view_module_version": "1.2.0",
      "_view_name": "StyleView",
      "description_width": ""
     }
    },
    "ab05add826fa46e3a45791083383babd": {
     "model_module": "@jupyter-widgets/controls",
     "model_name": "LabelModel",
     "state": {
      "_dom_classes": [],
      "_model_module": "@jupyter-widgets/controls",
      "_model_module_version": "1.5.0",
      "_model_name": "LabelModel",
      "_view_count": null,
      "_view_module": "@jupyter-widgets/controls",
      "_view_module_version": "1.5.0",
      "_view_name": "LabelView",
      "description": "",
      "description_tooltip": null,
      "layout": "IPY_MODEL_a55d3a6dba1840aa9d8f52d1d932633e",
      "placeholder": "​",
      "style": "IPY_MODEL_42156e5fa9d94b01b05b9393988115c7",
      "value": " 2.46MB of 2.46MB uploaded (0.00MB deduped)\r"
     }
    },
    "abcaa626952b48349889e91cea61c5e0": {
     "model_module": "@jupyter-widgets/controls",
     "model_name": "ProgressStyleModel",
     "state": {
      "_model_module": "@jupyter-widgets/controls",
      "_model_module_version": "1.5.0",
      "_model_name": "ProgressStyleModel",
      "_view_count": null,
      "_view_module": "@jupyter-widgets/base",
      "_view_module_version": "1.2.0",
      "_view_name": "StyleView",
      "bar_color": null,
      "description_width": ""
     }
    },
    "ac594936cc144a4a91b2b0b7dd73a5b4": {
     "model_module": "@jupyter-widgets/controls",
     "model_name": "VBoxModel",
     "state": {
      "_dom_classes": [],
      "_model_module": "@jupyter-widgets/controls",
      "_model_module_version": "1.5.0",
      "_model_name": "VBoxModel",
      "_view_count": null,
      "_view_module": "@jupyter-widgets/controls",
      "_view_module_version": "1.5.0",
      "_view_name": "VBoxView",
      "box_style": "",
      "children": [
       "IPY_MODEL_95725a0cdb5d4152909f996fb9fadd17",
       "IPY_MODEL_de53318375394e8aab2073a029b3ebd2"
      ],
      "layout": "IPY_MODEL_7560c4d3a1b24d8a975dc869cfe3ac84"
     }
    },
    "ad93976e90744f2cbc68f564c279c6bf": {
     "model_module": "@jupyter-widgets/base",
     "model_name": "LayoutModel",
     "state": {
      "_model_module": "@jupyter-widgets/base",
      "_model_module_version": "1.2.0",
      "_model_name": "LayoutModel",
      "_view_count": null,
      "_view_module": "@jupyter-widgets/base",
      "_view_module_version": "1.2.0",
      "_view_name": "LayoutView",
      "align_content": null,
      "align_items": null,
      "align_self": null,
      "border": null,
      "bottom": null,
      "display": null,
      "flex": null,
      "flex_flow": null,
      "grid_area": null,
      "grid_auto_columns": null,
      "grid_auto_flow": null,
      "grid_auto_rows": null,
      "grid_column": null,
      "grid_gap": null,
      "grid_row": null,
      "grid_template_areas": null,
      "grid_template_columns": null,
      "grid_template_rows": null,
      "height": null,
      "justify_content": null,
      "justify_items": null,
      "left": null,
      "margin": null,
      "max_height": null,
      "max_width": null,
      "min_height": null,
      "min_width": null,
      "object_fit": null,
      "object_position": null,
      "order": null,
      "overflow": null,
      "overflow_x": null,
      "overflow_y": null,
      "padding": null,
      "right": null,
      "top": null,
      "visibility": null,
      "width": null
     }
    },
    "ae442ea74e9648d18e1e33490e2ae9d4": {
     "model_module": "@jupyter-widgets/controls",
     "model_name": "ProgressStyleModel",
     "state": {
      "_model_module": "@jupyter-widgets/controls",
      "_model_module_version": "1.5.0",
      "_model_name": "ProgressStyleModel",
      "_view_count": null,
      "_view_module": "@jupyter-widgets/base",
      "_view_module_version": "1.2.0",
      "_view_name": "StyleView",
      "bar_color": null,
      "description_width": ""
     }
    },
    "aec41dc3f76f4b5cb2a0cf58a7d0c46d": {
     "model_module": "@jupyter-widgets/controls",
     "model_name": "FloatProgressModel",
     "state": {
      "_dom_classes": [],
      "_model_module": "@jupyter-widgets/controls",
      "_model_module_version": "1.5.0",
      "_model_name": "FloatProgressModel",
      "_view_count": null,
      "_view_module": "@jupyter-widgets/controls",
      "_view_module_version": "1.5.0",
      "_view_name": "ProgressView",
      "bar_style": "",
      "description": "",
      "description_tooltip": null,
      "layout": "IPY_MODEL_035dbc0d1b3547fcbab95238c3bf5bed",
      "max": 1,
      "min": 0,
      "orientation": "horizontal",
      "style": "IPY_MODEL_b07d99c8949c4404a63138d14f2a98fc",
      "value": 1
     }
    },
    "b04f2589cb564afe89b18aae10028d85": {
     "model_module": "@jupyter-widgets/base",
     "model_name": "LayoutModel",
     "state": {
      "_model_module": "@jupyter-widgets/base",
      "_model_module_version": "1.2.0",
      "_model_name": "LayoutModel",
      "_view_count": null,
      "_view_module": "@jupyter-widgets/base",
      "_view_module_version": "1.2.0",
      "_view_name": "LayoutView",
      "align_content": null,
      "align_items": null,
      "align_self": null,
      "border": null,
      "bottom": null,
      "display": null,
      "flex": null,
      "flex_flow": null,
      "grid_area": null,
      "grid_auto_columns": null,
      "grid_auto_flow": null,
      "grid_auto_rows": null,
      "grid_column": null,
      "grid_gap": null,
      "grid_row": null,
      "grid_template_areas": null,
      "grid_template_columns": null,
      "grid_template_rows": null,
      "height": null,
      "justify_content": null,
      "justify_items": null,
      "left": null,
      "margin": null,
      "max_height": null,
      "max_width": null,
      "min_height": null,
      "min_width": null,
      "object_fit": null,
      "object_position": null,
      "order": null,
      "overflow": null,
      "overflow_x": null,
      "overflow_y": null,
      "padding": null,
      "right": null,
      "top": null,
      "visibility": null,
      "width": null
     }
    },
    "b07d99c8949c4404a63138d14f2a98fc": {
     "model_module": "@jupyter-widgets/controls",
     "model_name": "ProgressStyleModel",
     "state": {
      "_model_module": "@jupyter-widgets/controls",
      "_model_module_version": "1.5.0",
      "_model_name": "ProgressStyleModel",
      "_view_count": null,
      "_view_module": "@jupyter-widgets/base",
      "_view_module_version": "1.2.0",
      "_view_name": "StyleView",
      "bar_color": null,
      "description_width": ""
     }
    },
    "b1496f06455042aebcc7ee556fc0c167": {
     "model_module": "@jupyter-widgets/base",
     "model_name": "LayoutModel",
     "state": {
      "_model_module": "@jupyter-widgets/base",
      "_model_module_version": "1.2.0",
      "_model_name": "LayoutModel",
      "_view_count": null,
      "_view_module": "@jupyter-widgets/base",
      "_view_module_version": "1.2.0",
      "_view_name": "LayoutView",
      "align_content": null,
      "align_items": null,
      "align_self": null,
      "border": null,
      "bottom": null,
      "display": null,
      "flex": null,
      "flex_flow": null,
      "grid_area": null,
      "grid_auto_columns": null,
      "grid_auto_flow": null,
      "grid_auto_rows": null,
      "grid_column": null,
      "grid_gap": null,
      "grid_row": null,
      "grid_template_areas": null,
      "grid_template_columns": null,
      "grid_template_rows": null,
      "height": null,
      "justify_content": null,
      "justify_items": null,
      "left": null,
      "margin": null,
      "max_height": null,
      "max_width": null,
      "min_height": null,
      "min_width": null,
      "object_fit": null,
      "object_position": null,
      "order": null,
      "overflow": null,
      "overflow_x": null,
      "overflow_y": null,
      "padding": null,
      "right": null,
      "top": null,
      "visibility": null,
      "width": null
     }
    },
    "b16ef0afd181451db4177b52784ba08e": {
     "model_module": "@jupyter-widgets/controls",
     "model_name": "ProgressStyleModel",
     "state": {
      "_model_module": "@jupyter-widgets/controls",
      "_model_module_version": "1.5.0",
      "_model_name": "ProgressStyleModel",
      "_view_count": null,
      "_view_module": "@jupyter-widgets/base",
      "_view_module_version": "1.2.0",
      "_view_name": "StyleView",
      "bar_color": null,
      "description_width": ""
     }
    },
    "b19ce9285b35408496c026407b2f9e44": {
     "model_module": "@jupyter-widgets/base",
     "model_name": "LayoutModel",
     "state": {
      "_model_module": "@jupyter-widgets/base",
      "_model_module_version": "1.2.0",
      "_model_name": "LayoutModel",
      "_view_count": null,
      "_view_module": "@jupyter-widgets/base",
      "_view_module_version": "1.2.0",
      "_view_name": "LayoutView",
      "align_content": null,
      "align_items": null,
      "align_self": null,
      "border": null,
      "bottom": null,
      "display": null,
      "flex": null,
      "flex_flow": null,
      "grid_area": null,
      "grid_auto_columns": null,
      "grid_auto_flow": null,
      "grid_auto_rows": null,
      "grid_column": null,
      "grid_gap": null,
      "grid_row": null,
      "grid_template_areas": null,
      "grid_template_columns": null,
      "grid_template_rows": null,
      "height": null,
      "justify_content": null,
      "justify_items": null,
      "left": null,
      "margin": null,
      "max_height": null,
      "max_width": null,
      "min_height": null,
      "min_width": null,
      "object_fit": null,
      "object_position": null,
      "order": null,
      "overflow": null,
      "overflow_x": null,
      "overflow_y": null,
      "padding": null,
      "right": null,
      "top": null,
      "visibility": null,
      "width": null
     }
    },
    "b397f473f47e4361870b3ab474400fbd": {
     "model_module": "@jupyter-widgets/controls",
     "model_name": "ProgressStyleModel",
     "state": {
      "_model_module": "@jupyter-widgets/controls",
      "_model_module_version": "1.5.0",
      "_model_name": "ProgressStyleModel",
      "_view_count": null,
      "_view_module": "@jupyter-widgets/base",
      "_view_module_version": "1.2.0",
      "_view_name": "StyleView",
      "bar_color": null,
      "description_width": ""
     }
    },
    "b3f4a07aa8d942b89489d9fa475faf06": {
     "model_module": "@jupyter-widgets/controls",
     "model_name": "DescriptionStyleModel",
     "state": {
      "_model_module": "@jupyter-widgets/controls",
      "_model_module_version": "1.5.0",
      "_model_name": "DescriptionStyleModel",
      "_view_count": null,
      "_view_module": "@jupyter-widgets/base",
      "_view_module_version": "1.2.0",
      "_view_name": "StyleView",
      "description_width": ""
     }
    },
    "b44d3f4e2b9646d6807fc4b7bd1a764e": {
     "model_module": "@jupyter-widgets/controls",
     "model_name": "LabelModel",
     "state": {
      "_dom_classes": [],
      "_model_module": "@jupyter-widgets/controls",
      "_model_module_version": "1.5.0",
      "_model_name": "LabelModel",
      "_view_count": null,
      "_view_module": "@jupyter-widgets/controls",
      "_view_module_version": "1.5.0",
      "_view_name": "LabelView",
      "description": "",
      "description_tooltip": null,
      "layout": "IPY_MODEL_7e88d02d813841dcbda4796e31531d01",
      "placeholder": "​",
      "style": "IPY_MODEL_9a504f7c429a49498a5fd9e993ea227a",
      "value": " 1.15MB of 1.15MB uploaded (0.00MB deduped)\r"
     }
    },
    "b4578dc5557e4a9e89314773401afddf": {
     "model_module": "@jupyter-widgets/base",
     "model_name": "LayoutModel",
     "state": {
      "_model_module": "@jupyter-widgets/base",
      "_model_module_version": "1.2.0",
      "_model_name": "LayoutModel",
      "_view_count": null,
      "_view_module": "@jupyter-widgets/base",
      "_view_module_version": "1.2.0",
      "_view_name": "LayoutView",
      "align_content": null,
      "align_items": null,
      "align_self": null,
      "border": null,
      "bottom": null,
      "display": null,
      "flex": null,
      "flex_flow": null,
      "grid_area": null,
      "grid_auto_columns": null,
      "grid_auto_flow": null,
      "grid_auto_rows": null,
      "grid_column": null,
      "grid_gap": null,
      "grid_row": null,
      "grid_template_areas": null,
      "grid_template_columns": null,
      "grid_template_rows": null,
      "height": null,
      "justify_content": null,
      "justify_items": null,
      "left": null,
      "margin": null,
      "max_height": null,
      "max_width": null,
      "min_height": null,
      "min_width": null,
      "object_fit": null,
      "object_position": null,
      "order": null,
      "overflow": null,
      "overflow_x": null,
      "overflow_y": null,
      "padding": null,
      "right": null,
      "top": null,
      "visibility": null,
      "width": null
     }
    },
    "b485d86af50d4038942b5de9c5cde041": {
     "model_module": "@jupyter-widgets/base",
     "model_name": "LayoutModel",
     "state": {
      "_model_module": "@jupyter-widgets/base",
      "_model_module_version": "1.2.0",
      "_model_name": "LayoutModel",
      "_view_count": null,
      "_view_module": "@jupyter-widgets/base",
      "_view_module_version": "1.2.0",
      "_view_name": "LayoutView",
      "align_content": null,
      "align_items": null,
      "align_self": null,
      "border": null,
      "bottom": null,
      "display": null,
      "flex": null,
      "flex_flow": null,
      "grid_area": null,
      "grid_auto_columns": null,
      "grid_auto_flow": null,
      "grid_auto_rows": null,
      "grid_column": null,
      "grid_gap": null,
      "grid_row": null,
      "grid_template_areas": null,
      "grid_template_columns": null,
      "grid_template_rows": null,
      "height": null,
      "justify_content": null,
      "justify_items": null,
      "left": null,
      "margin": null,
      "max_height": null,
      "max_width": null,
      "min_height": null,
      "min_width": null,
      "object_fit": null,
      "object_position": null,
      "order": null,
      "overflow": null,
      "overflow_x": null,
      "overflow_y": null,
      "padding": null,
      "right": null,
      "top": null,
      "visibility": null,
      "width": null
     }
    },
    "b5fec1e43b4e44cca64a07b5985c40e9": {
     "model_module": "@jupyter-widgets/base",
     "model_name": "LayoutModel",
     "state": {
      "_model_module": "@jupyter-widgets/base",
      "_model_module_version": "1.2.0",
      "_model_name": "LayoutModel",
      "_view_count": null,
      "_view_module": "@jupyter-widgets/base",
      "_view_module_version": "1.2.0",
      "_view_name": "LayoutView",
      "align_content": null,
      "align_items": null,
      "align_self": null,
      "border": null,
      "bottom": null,
      "display": null,
      "flex": null,
      "flex_flow": null,
      "grid_area": null,
      "grid_auto_columns": null,
      "grid_auto_flow": null,
      "grid_auto_rows": null,
      "grid_column": null,
      "grid_gap": null,
      "grid_row": null,
      "grid_template_areas": null,
      "grid_template_columns": null,
      "grid_template_rows": null,
      "height": null,
      "justify_content": null,
      "justify_items": null,
      "left": null,
      "margin": null,
      "max_height": null,
      "max_width": null,
      "min_height": null,
      "min_width": null,
      "object_fit": null,
      "object_position": null,
      "order": null,
      "overflow": null,
      "overflow_x": null,
      "overflow_y": null,
      "padding": null,
      "right": null,
      "top": null,
      "visibility": null,
      "width": null
     }
    },
    "b60569d8ba0443d1ba67b89879c5127c": {
     "model_module": "@jupyter-widgets/controls",
     "model_name": "ProgressStyleModel",
     "state": {
      "_model_module": "@jupyter-widgets/controls",
      "_model_module_version": "1.5.0",
      "_model_name": "ProgressStyleModel",
      "_view_count": null,
      "_view_module": "@jupyter-widgets/base",
      "_view_module_version": "1.2.0",
      "_view_name": "StyleView",
      "bar_color": null,
      "description_width": ""
     }
    },
    "b70f6002040c4644ae44ee6ad38d5720": {
     "model_module": "@jupyter-widgets/controls",
     "model_name": "VBoxModel",
     "state": {
      "_dom_classes": [],
      "_model_module": "@jupyter-widgets/controls",
      "_model_module_version": "1.5.0",
      "_model_name": "VBoxModel",
      "_view_count": null,
      "_view_module": "@jupyter-widgets/controls",
      "_view_module_version": "1.5.0",
      "_view_name": "VBoxView",
      "box_style": "",
      "children": [
       "IPY_MODEL_89f9b40907ad4b2591e5be69bf05f57f",
       "IPY_MODEL_80d83c86193c491d814e7bb0c8d78fd3"
      ],
      "layout": "IPY_MODEL_50cce0d9bc174f678cbda6195d2b13d1"
     }
    },
    "b7961746ea834b0abb397ea0a0111565": {
     "model_module": "@jupyter-widgets/controls",
     "model_name": "ProgressStyleModel",
     "state": {
      "_model_module": "@jupyter-widgets/controls",
      "_model_module_version": "1.5.0",
      "_model_name": "ProgressStyleModel",
      "_view_count": null,
      "_view_module": "@jupyter-widgets/base",
      "_view_module_version": "1.2.0",
      "_view_name": "StyleView",
      "bar_color": null,
      "description_width": ""
     }
    },
    "b84d7613c94048759c7edf966f78ef34": {
     "model_module": "@jupyter-widgets/base",
     "model_name": "LayoutModel",
     "state": {
      "_model_module": "@jupyter-widgets/base",
      "_model_module_version": "1.2.0",
      "_model_name": "LayoutModel",
      "_view_count": null,
      "_view_module": "@jupyter-widgets/base",
      "_view_module_version": "1.2.0",
      "_view_name": "LayoutView",
      "align_content": null,
      "align_items": null,
      "align_self": null,
      "border": null,
      "bottom": null,
      "display": null,
      "flex": null,
      "flex_flow": null,
      "grid_area": null,
      "grid_auto_columns": null,
      "grid_auto_flow": null,
      "grid_auto_rows": null,
      "grid_column": null,
      "grid_gap": null,
      "grid_row": null,
      "grid_template_areas": null,
      "grid_template_columns": null,
      "grid_template_rows": null,
      "height": null,
      "justify_content": null,
      "justify_items": null,
      "left": null,
      "margin": null,
      "max_height": null,
      "max_width": null,
      "min_height": null,
      "min_width": null,
      "object_fit": null,
      "object_position": null,
      "order": null,
      "overflow": null,
      "overflow_x": null,
      "overflow_y": null,
      "padding": null,
      "right": null,
      "top": null,
      "visibility": null,
      "width": null
     }
    },
    "b8609d1a5b03409f8b8fa82d631588b5": {
     "model_module": "@jupyter-widgets/controls",
     "model_name": "VBoxModel",
     "state": {
      "_dom_classes": [],
      "_model_module": "@jupyter-widgets/controls",
      "_model_module_version": "1.5.0",
      "_model_name": "VBoxModel",
      "_view_count": null,
      "_view_module": "@jupyter-widgets/controls",
      "_view_module_version": "1.5.0",
      "_view_name": "VBoxView",
      "box_style": "",
      "children": [
       "IPY_MODEL_131ceaa801d04db79950ff97207da3dc",
       "IPY_MODEL_1724d135d8764f9d93ae70afd58e0884"
      ],
      "layout": "IPY_MODEL_055d0e565bd5421db4a73da1d47afbf8"
     }
    },
    "b90473aaf7834c9f990b32b3df69fcd3": {
     "model_module": "@jupyter-widgets/controls",
     "model_name": "VBoxModel",
     "state": {
      "_dom_classes": [],
      "_model_module": "@jupyter-widgets/controls",
      "_model_module_version": "1.5.0",
      "_model_name": "VBoxModel",
      "_view_count": null,
      "_view_module": "@jupyter-widgets/controls",
      "_view_module_version": "1.5.0",
      "_view_name": "VBoxView",
      "box_style": "",
      "children": [
       "IPY_MODEL_95a9a7a604d34ad1afd6e3a53735454f",
       "IPY_MODEL_c6c7ea4447da438eb6a87649178a69f9"
      ],
      "layout": "IPY_MODEL_5e763f28d49f4e3ba8eeaf84afa98f20"
     }
    },
    "bbebd14be61b453a981095eba658b7b0": {
     "model_module": "@jupyter-widgets/controls",
     "model_name": "FloatProgressModel",
     "state": {
      "_dom_classes": [],
      "_model_module": "@jupyter-widgets/controls",
      "_model_module_version": "1.5.0",
      "_model_name": "FloatProgressModel",
      "_view_count": null,
      "_view_module": "@jupyter-widgets/controls",
      "_view_module_version": "1.5.0",
      "_view_name": "ProgressView",
      "bar_style": "",
      "description": "",
      "description_tooltip": null,
      "layout": "IPY_MODEL_4a2ddf40bada46d5be0e76a1b5967323",
      "max": 1,
      "min": 0,
      "orientation": "horizontal",
      "style": "IPY_MODEL_eced63a569094128abd81b5b25b03b85",
      "value": 1
     }
    },
    "bc7e12732a1d4a49a9fb3eb08c623554": {
     "model_module": "@jupyter-widgets/controls",
     "model_name": "LabelModel",
     "state": {
      "_dom_classes": [],
      "_model_module": "@jupyter-widgets/controls",
      "_model_module_version": "1.5.0",
      "_model_name": "LabelModel",
      "_view_count": null,
      "_view_module": "@jupyter-widgets/controls",
      "_view_module_version": "1.5.0",
      "_view_name": "LabelView",
      "description": "",
      "description_tooltip": null,
      "layout": "IPY_MODEL_26f6f355c6fd443daa3c88f6bc66e291",
      "placeholder": "​",
      "style": "IPY_MODEL_bcbb5d8d61b3422c80dac0af518917d6",
      "value": " 1.45MB of 1.45MB uploaded (0.00MB deduped)\r"
     }
    },
    "bc83d444d5b642e98c718265405a0c2d": {
     "model_module": "@jupyter-widgets/controls",
     "model_name": "ProgressStyleModel",
     "state": {
      "_model_module": "@jupyter-widgets/controls",
      "_model_module_version": "1.5.0",
      "_model_name": "ProgressStyleModel",
      "_view_count": null,
      "_view_module": "@jupyter-widgets/base",
      "_view_module_version": "1.2.0",
      "_view_name": "StyleView",
      "bar_color": null,
      "description_width": ""
     }
    },
    "bca9db9da5304f3dacd3f1fa3ef3b976": {
     "model_module": "@jupyter-widgets/controls",
     "model_name": "LabelModel",
     "state": {
      "_dom_classes": [],
      "_model_module": "@jupyter-widgets/controls",
      "_model_module_version": "1.5.0",
      "_model_name": "LabelModel",
      "_view_count": null,
      "_view_module": "@jupyter-widgets/controls",
      "_view_module_version": "1.5.0",
      "_view_name": "LabelView",
      "description": "",
      "description_tooltip": null,
      "layout": "IPY_MODEL_f7a0dfad1bdf439ca5fccea08c9d3e30",
      "placeholder": "​",
      "style": "IPY_MODEL_868843db1ab5436d8c73a57e71833fd3",
      "value": " 0.25MB of 0.25MB uploaded (0.00MB deduped)\r"
     }
    },
    "bcbb5d8d61b3422c80dac0af518917d6": {
     "model_module": "@jupyter-widgets/controls",
     "model_name": "DescriptionStyleModel",
     "state": {
      "_model_module": "@jupyter-widgets/controls",
      "_model_module_version": "1.5.0",
      "_model_name": "DescriptionStyleModel",
      "_view_count": null,
      "_view_module": "@jupyter-widgets/base",
      "_view_module_version": "1.2.0",
      "_view_name": "StyleView",
      "description_width": ""
     }
    },
    "bedd16c4d2a74e0f92952464127f837a": {
     "model_module": "@jupyter-widgets/base",
     "model_name": "LayoutModel",
     "state": {
      "_model_module": "@jupyter-widgets/base",
      "_model_module_version": "1.2.0",
      "_model_name": "LayoutModel",
      "_view_count": null,
      "_view_module": "@jupyter-widgets/base",
      "_view_module_version": "1.2.0",
      "_view_name": "LayoutView",
      "align_content": null,
      "align_items": null,
      "align_self": null,
      "border": null,
      "bottom": null,
      "display": null,
      "flex": null,
      "flex_flow": null,
      "grid_area": null,
      "grid_auto_columns": null,
      "grid_auto_flow": null,
      "grid_auto_rows": null,
      "grid_column": null,
      "grid_gap": null,
      "grid_row": null,
      "grid_template_areas": null,
      "grid_template_columns": null,
      "grid_template_rows": null,
      "height": null,
      "justify_content": null,
      "justify_items": null,
      "left": null,
      "margin": null,
      "max_height": null,
      "max_width": null,
      "min_height": null,
      "min_width": null,
      "object_fit": null,
      "object_position": null,
      "order": null,
      "overflow": null,
      "overflow_x": null,
      "overflow_y": null,
      "padding": null,
      "right": null,
      "top": null,
      "visibility": null,
      "width": null
     }
    },
    "c0d82eef034343f8a7d2cbc98ee1fa2e": {
     "model_module": "@jupyter-widgets/base",
     "model_name": "LayoutModel",
     "state": {
      "_model_module": "@jupyter-widgets/base",
      "_model_module_version": "1.2.0",
      "_model_name": "LayoutModel",
      "_view_count": null,
      "_view_module": "@jupyter-widgets/base",
      "_view_module_version": "1.2.0",
      "_view_name": "LayoutView",
      "align_content": null,
      "align_items": null,
      "align_self": null,
      "border": null,
      "bottom": null,
      "display": null,
      "flex": null,
      "flex_flow": null,
      "grid_area": null,
      "grid_auto_columns": null,
      "grid_auto_flow": null,
      "grid_auto_rows": null,
      "grid_column": null,
      "grid_gap": null,
      "grid_row": null,
      "grid_template_areas": null,
      "grid_template_columns": null,
      "grid_template_rows": null,
      "height": null,
      "justify_content": null,
      "justify_items": null,
      "left": null,
      "margin": null,
      "max_height": null,
      "max_width": null,
      "min_height": null,
      "min_width": null,
      "object_fit": null,
      "object_position": null,
      "order": null,
      "overflow": null,
      "overflow_x": null,
      "overflow_y": null,
      "padding": null,
      "right": null,
      "top": null,
      "visibility": null,
      "width": null
     }
    },
    "c0e4f955385e409ebac84af867661cd9": {
     "model_module": "@jupyter-widgets/controls",
     "model_name": "VBoxModel",
     "state": {
      "_dom_classes": [],
      "_model_module": "@jupyter-widgets/controls",
      "_model_module_version": "1.5.0",
      "_model_name": "VBoxModel",
      "_view_count": null,
      "_view_module": "@jupyter-widgets/controls",
      "_view_module_version": "1.5.0",
      "_view_name": "VBoxView",
      "box_style": "",
      "children": [
       "IPY_MODEL_259bd6152c8a40549c2dffe4042c8de0",
       "IPY_MODEL_a852b3f5e64a4c0aba10dd1d64f3df37"
      ],
      "layout": "IPY_MODEL_877bae00ef154542b1a18319261793f9"
     }
    },
    "c1dbb75c7fb0404d931833bc289912d2": {
     "model_module": "@jupyter-widgets/controls",
     "model_name": "ProgressStyleModel",
     "state": {
      "_model_module": "@jupyter-widgets/controls",
      "_model_module_version": "1.5.0",
      "_model_name": "ProgressStyleModel",
      "_view_count": null,
      "_view_module": "@jupyter-widgets/base",
      "_view_module_version": "1.2.0",
      "_view_name": "StyleView",
      "bar_color": null,
      "description_width": ""
     }
    },
    "c2f29096be3d4690846178636de721b5": {
     "model_module": "@jupyter-widgets/base",
     "model_name": "LayoutModel",
     "state": {
      "_model_module": "@jupyter-widgets/base",
      "_model_module_version": "1.2.0",
      "_model_name": "LayoutModel",
      "_view_count": null,
      "_view_module": "@jupyter-widgets/base",
      "_view_module_version": "1.2.0",
      "_view_name": "LayoutView",
      "align_content": null,
      "align_items": null,
      "align_self": null,
      "border": null,
      "bottom": null,
      "display": null,
      "flex": null,
      "flex_flow": null,
      "grid_area": null,
      "grid_auto_columns": null,
      "grid_auto_flow": null,
      "grid_auto_rows": null,
      "grid_column": null,
      "grid_gap": null,
      "grid_row": null,
      "grid_template_areas": null,
      "grid_template_columns": null,
      "grid_template_rows": null,
      "height": null,
      "justify_content": null,
      "justify_items": null,
      "left": null,
      "margin": null,
      "max_height": null,
      "max_width": null,
      "min_height": null,
      "min_width": null,
      "object_fit": null,
      "object_position": null,
      "order": null,
      "overflow": null,
      "overflow_x": null,
      "overflow_y": null,
      "padding": null,
      "right": null,
      "top": null,
      "visibility": null,
      "width": null
     }
    },
    "c5d170a3b02e4dd1a64b000c7226564b": {
     "model_module": "@jupyter-widgets/controls",
     "model_name": "FloatProgressModel",
     "state": {
      "_dom_classes": [],
      "_model_module": "@jupyter-widgets/controls",
      "_model_module_version": "1.5.0",
      "_model_name": "FloatProgressModel",
      "_view_count": null,
      "_view_module": "@jupyter-widgets/controls",
      "_view_module_version": "1.5.0",
      "_view_name": "ProgressView",
      "bar_style": "",
      "description": "",
      "description_tooltip": null,
      "layout": "IPY_MODEL_a5319b685b54456ca499c64445465d59",
      "max": 1,
      "min": 0,
      "orientation": "horizontal",
      "style": "IPY_MODEL_d0328cc92aa04579b45b4011571fc11e",
      "value": 1
     }
    },
    "c68bbfcd53474dba8f10869da6bb879d": {
     "model_module": "@jupyter-widgets/controls",
     "model_name": "ProgressStyleModel",
     "state": {
      "_model_module": "@jupyter-widgets/controls",
      "_model_module_version": "1.5.0",
      "_model_name": "ProgressStyleModel",
      "_view_count": null,
      "_view_module": "@jupyter-widgets/base",
      "_view_module_version": "1.2.0",
      "_view_name": "StyleView",
      "bar_color": null,
      "description_width": ""
     }
    },
    "c6c7ea4447da438eb6a87649178a69f9": {
     "model_module": "@jupyter-widgets/controls",
     "model_name": "FloatProgressModel",
     "state": {
      "_dom_classes": [],
      "_model_module": "@jupyter-widgets/controls",
      "_model_module_version": "1.5.0",
      "_model_name": "FloatProgressModel",
      "_view_count": null,
      "_view_module": "@jupyter-widgets/controls",
      "_view_module_version": "1.5.0",
      "_view_name": "ProgressView",
      "bar_style": "",
      "description": "",
      "description_tooltip": null,
      "layout": "IPY_MODEL_046723a9aaec42cb9349fb463cff4b96",
      "max": 1,
      "min": 0,
      "orientation": "horizontal",
      "style": "IPY_MODEL_bc83d444d5b642e98c718265405a0c2d",
      "value": 1
     }
    },
    "c893ddebc1cb4402b32f4446ca0fe50e": {
     "model_module": "@jupyter-widgets/controls",
     "model_name": "VBoxModel",
     "state": {
      "_dom_classes": [],
      "_model_module": "@jupyter-widgets/controls",
      "_model_module_version": "1.5.0",
      "_model_name": "VBoxModel",
      "_view_count": null,
      "_view_module": "@jupyter-widgets/controls",
      "_view_module_version": "1.5.0",
      "_view_name": "VBoxView",
      "box_style": "",
      "children": [
       "IPY_MODEL_e2d606eb05b3463fa562c05ba7981ff5",
       "IPY_MODEL_a6c3ea15918045b99f832a30fd067208"
      ],
      "layout": "IPY_MODEL_4ca75866e8ec4eecbf1e79ff63d647d5"
     }
    },
    "cb4275038c764fa1bd6cd34ee6c53c8a": {
     "model_module": "@jupyter-widgets/controls",
     "model_name": "DescriptionStyleModel",
     "state": {
      "_model_module": "@jupyter-widgets/controls",
      "_model_module_version": "1.5.0",
      "_model_name": "DescriptionStyleModel",
      "_view_count": null,
      "_view_module": "@jupyter-widgets/base",
      "_view_module_version": "1.2.0",
      "_view_name": "StyleView",
      "description_width": ""
     }
    },
    "cbb997c831904d2f9e9ca92aa1166e07": {
     "model_module": "@jupyter-widgets/base",
     "model_name": "LayoutModel",
     "state": {
      "_model_module": "@jupyter-widgets/base",
      "_model_module_version": "1.2.0",
      "_model_name": "LayoutModel",
      "_view_count": null,
      "_view_module": "@jupyter-widgets/base",
      "_view_module_version": "1.2.0",
      "_view_name": "LayoutView",
      "align_content": null,
      "align_items": null,
      "align_self": null,
      "border": null,
      "bottom": null,
      "display": null,
      "flex": null,
      "flex_flow": null,
      "grid_area": null,
      "grid_auto_columns": null,
      "grid_auto_flow": null,
      "grid_auto_rows": null,
      "grid_column": null,
      "grid_gap": null,
      "grid_row": null,
      "grid_template_areas": null,
      "grid_template_columns": null,
      "grid_template_rows": null,
      "height": null,
      "justify_content": null,
      "justify_items": null,
      "left": null,
      "margin": null,
      "max_height": null,
      "max_width": null,
      "min_height": null,
      "min_width": null,
      "object_fit": null,
      "object_position": null,
      "order": null,
      "overflow": null,
      "overflow_x": null,
      "overflow_y": null,
      "padding": null,
      "right": null,
      "top": null,
      "visibility": null,
      "width": null
     }
    },
    "ce71ab875fa24c59bae1a23f90582bf4": {
     "model_module": "@jupyter-widgets/controls",
     "model_name": "ProgressStyleModel",
     "state": {
      "_model_module": "@jupyter-widgets/controls",
      "_model_module_version": "1.5.0",
      "_model_name": "ProgressStyleModel",
      "_view_count": null,
      "_view_module": "@jupyter-widgets/base",
      "_view_module_version": "1.2.0",
      "_view_name": "StyleView",
      "bar_color": null,
      "description_width": ""
     }
    },
    "cf2035af3d294f119911c997f5e31d5d": {
     "model_module": "@jupyter-widgets/controls",
     "model_name": "FloatProgressModel",
     "state": {
      "_dom_classes": [],
      "_model_module": "@jupyter-widgets/controls",
      "_model_module_version": "1.5.0",
      "_model_name": "FloatProgressModel",
      "_view_count": null,
      "_view_module": "@jupyter-widgets/controls",
      "_view_module_version": "1.5.0",
      "_view_name": "ProgressView",
      "bar_style": "",
      "description": "",
      "description_tooltip": null,
      "layout": "IPY_MODEL_2b787c6428e04aa08a2dc58b8c18860d",
      "max": 1,
      "min": 0,
      "orientation": "horizontal",
      "style": "IPY_MODEL_2958177115c84b979222ab5d9b1d2799",
      "value": 1
     }
    },
    "d0328cc92aa04579b45b4011571fc11e": {
     "model_module": "@jupyter-widgets/controls",
     "model_name": "ProgressStyleModel",
     "state": {
      "_model_module": "@jupyter-widgets/controls",
      "_model_module_version": "1.5.0",
      "_model_name": "ProgressStyleModel",
      "_view_count": null,
      "_view_module": "@jupyter-widgets/base",
      "_view_module_version": "1.2.0",
      "_view_name": "StyleView",
      "bar_color": null,
      "description_width": ""
     }
    },
    "d0adf0ccaca84e179b64da36a189f4d1": {
     "model_module": "@jupyter-widgets/base",
     "model_name": "LayoutModel",
     "state": {
      "_model_module": "@jupyter-widgets/base",
      "_model_module_version": "1.2.0",
      "_model_name": "LayoutModel",
      "_view_count": null,
      "_view_module": "@jupyter-widgets/base",
      "_view_module_version": "1.2.0",
      "_view_name": "LayoutView",
      "align_content": null,
      "align_items": null,
      "align_self": null,
      "border": null,
      "bottom": null,
      "display": null,
      "flex": null,
      "flex_flow": null,
      "grid_area": null,
      "grid_auto_columns": null,
      "grid_auto_flow": null,
      "grid_auto_rows": null,
      "grid_column": null,
      "grid_gap": null,
      "grid_row": null,
      "grid_template_areas": null,
      "grid_template_columns": null,
      "grid_template_rows": null,
      "height": null,
      "justify_content": null,
      "justify_items": null,
      "left": null,
      "margin": null,
      "max_height": null,
      "max_width": null,
      "min_height": null,
      "min_width": null,
      "object_fit": null,
      "object_position": null,
      "order": null,
      "overflow": null,
      "overflow_x": null,
      "overflow_y": null,
      "padding": null,
      "right": null,
      "top": null,
      "visibility": null,
      "width": null
     }
    },
    "d146fe3f5dd94ddcbb2a9d0a032b12c7": {
     "model_module": "@jupyter-widgets/controls",
     "model_name": "VBoxModel",
     "state": {
      "_dom_classes": [],
      "_model_module": "@jupyter-widgets/controls",
      "_model_module_version": "1.5.0",
      "_model_name": "VBoxModel",
      "_view_count": null,
      "_view_module": "@jupyter-widgets/controls",
      "_view_module_version": "1.5.0",
      "_view_name": "VBoxView",
      "box_style": "",
      "children": [
       "IPY_MODEL_bca9db9da5304f3dacd3f1fa3ef3b976",
       "IPY_MODEL_180eec7f68f744799076ec8803325dd8"
      ],
      "layout": "IPY_MODEL_3928e2b481be4b829e8a69f2c72c195a"
     }
    },
    "d1ed86cc6dc34d1dab67927f816e7cb8": {
     "model_module": "@jupyter-widgets/controls",
     "model_name": "DescriptionStyleModel",
     "state": {
      "_model_module": "@jupyter-widgets/controls",
      "_model_module_version": "1.5.0",
      "_model_name": "DescriptionStyleModel",
      "_view_count": null,
      "_view_module": "@jupyter-widgets/base",
      "_view_module_version": "1.2.0",
      "_view_name": "StyleView",
      "description_width": ""
     }
    },
    "d21d160401f44f64993ac0cd24c1a0fd": {
     "model_module": "@jupyter-widgets/base",
     "model_name": "LayoutModel",
     "state": {
      "_model_module": "@jupyter-widgets/base",
      "_model_module_version": "1.2.0",
      "_model_name": "LayoutModel",
      "_view_count": null,
      "_view_module": "@jupyter-widgets/base",
      "_view_module_version": "1.2.0",
      "_view_name": "LayoutView",
      "align_content": null,
      "align_items": null,
      "align_self": null,
      "border": null,
      "bottom": null,
      "display": null,
      "flex": null,
      "flex_flow": null,
      "grid_area": null,
      "grid_auto_columns": null,
      "grid_auto_flow": null,
      "grid_auto_rows": null,
      "grid_column": null,
      "grid_gap": null,
      "grid_row": null,
      "grid_template_areas": null,
      "grid_template_columns": null,
      "grid_template_rows": null,
      "height": null,
      "justify_content": null,
      "justify_items": null,
      "left": null,
      "margin": null,
      "max_height": null,
      "max_width": null,
      "min_height": null,
      "min_width": null,
      "object_fit": null,
      "object_position": null,
      "order": null,
      "overflow": null,
      "overflow_x": null,
      "overflow_y": null,
      "padding": null,
      "right": null,
      "top": null,
      "visibility": null,
      "width": null
     }
    },
    "d50eb0eee49c4b76bef559a0f88ede11": {
     "model_module": "@jupyter-widgets/base",
     "model_name": "LayoutModel",
     "state": {
      "_model_module": "@jupyter-widgets/base",
      "_model_module_version": "1.2.0",
      "_model_name": "LayoutModel",
      "_view_count": null,
      "_view_module": "@jupyter-widgets/base",
      "_view_module_version": "1.2.0",
      "_view_name": "LayoutView",
      "align_content": null,
      "align_items": null,
      "align_self": null,
      "border": null,
      "bottom": null,
      "display": null,
      "flex": null,
      "flex_flow": null,
      "grid_area": null,
      "grid_auto_columns": null,
      "grid_auto_flow": null,
      "grid_auto_rows": null,
      "grid_column": null,
      "grid_gap": null,
      "grid_row": null,
      "grid_template_areas": null,
      "grid_template_columns": null,
      "grid_template_rows": null,
      "height": null,
      "justify_content": null,
      "justify_items": null,
      "left": null,
      "margin": null,
      "max_height": null,
      "max_width": null,
      "min_height": null,
      "min_width": null,
      "object_fit": null,
      "object_position": null,
      "order": null,
      "overflow": null,
      "overflow_x": null,
      "overflow_y": null,
      "padding": null,
      "right": null,
      "top": null,
      "visibility": null,
      "width": null
     }
    },
    "d547eafa23ae45aab3bb9db8aff5688f": {
     "model_module": "@jupyter-widgets/controls",
     "model_name": "VBoxModel",
     "state": {
      "_dom_classes": [],
      "_model_module": "@jupyter-widgets/controls",
      "_model_module_version": "1.5.0",
      "_model_name": "VBoxModel",
      "_view_count": null,
      "_view_module": "@jupyter-widgets/controls",
      "_view_module_version": "1.5.0",
      "_view_name": "VBoxView",
      "box_style": "",
      "children": [
       "IPY_MODEL_8760d86a9c2d464e9df4f9bc3eeddd5e",
       "IPY_MODEL_f5b27b54e7e642abbadf29f955c9f295"
      ],
      "layout": "IPY_MODEL_9c6113d96df04c60aaa33739e26da22e"
     }
    },
    "d7481241f1b2423e8647ae11bdeda6eb": {
     "model_module": "@jupyter-widgets/base",
     "model_name": "LayoutModel",
     "state": {
      "_model_module": "@jupyter-widgets/base",
      "_model_module_version": "1.2.0",
      "_model_name": "LayoutModel",
      "_view_count": null,
      "_view_module": "@jupyter-widgets/base",
      "_view_module_version": "1.2.0",
      "_view_name": "LayoutView",
      "align_content": null,
      "align_items": null,
      "align_self": null,
      "border": null,
      "bottom": null,
      "display": null,
      "flex": null,
      "flex_flow": null,
      "grid_area": null,
      "grid_auto_columns": null,
      "grid_auto_flow": null,
      "grid_auto_rows": null,
      "grid_column": null,
      "grid_gap": null,
      "grid_row": null,
      "grid_template_areas": null,
      "grid_template_columns": null,
      "grid_template_rows": null,
      "height": null,
      "justify_content": null,
      "justify_items": null,
      "left": null,
      "margin": null,
      "max_height": null,
      "max_width": null,
      "min_height": null,
      "min_width": null,
      "object_fit": null,
      "object_position": null,
      "order": null,
      "overflow": null,
      "overflow_x": null,
      "overflow_y": null,
      "padding": null,
      "right": null,
      "top": null,
      "visibility": null,
      "width": null
     }
    },
    "d7529dde31e94343bdd5da1e2d26d6bf": {
     "model_module": "@jupyter-widgets/controls",
     "model_name": "DescriptionStyleModel",
     "state": {
      "_model_module": "@jupyter-widgets/controls",
      "_model_module_version": "1.5.0",
      "_model_name": "DescriptionStyleModel",
      "_view_count": null,
      "_view_module": "@jupyter-widgets/base",
      "_view_module_version": "1.2.0",
      "_view_name": "StyleView",
      "description_width": ""
     }
    },
    "d793062a2fff4a17a632d3b5e7c5b2eb": {
     "model_module": "@jupyter-widgets/controls",
     "model_name": "DescriptionStyleModel",
     "state": {
      "_model_module": "@jupyter-widgets/controls",
      "_model_module_version": "1.5.0",
      "_model_name": "DescriptionStyleModel",
      "_view_count": null,
      "_view_module": "@jupyter-widgets/base",
      "_view_module_version": "1.2.0",
      "_view_name": "StyleView",
      "description_width": ""
     }
    },
    "d7d1a72efdd744ae9ad055b175a4001a": {
     "model_module": "@jupyter-widgets/controls",
     "model_name": "DescriptionStyleModel",
     "state": {
      "_model_module": "@jupyter-widgets/controls",
      "_model_module_version": "1.5.0",
      "_model_name": "DescriptionStyleModel",
      "_view_count": null,
      "_view_module": "@jupyter-widgets/base",
      "_view_module_version": "1.2.0",
      "_view_name": "StyleView",
      "description_width": ""
     }
    },
    "d81ed9e4b2334940a755ab22c5efb217": {
     "model_module": "@jupyter-widgets/controls",
     "model_name": "ProgressStyleModel",
     "state": {
      "_model_module": "@jupyter-widgets/controls",
      "_model_module_version": "1.5.0",
      "_model_name": "ProgressStyleModel",
      "_view_count": null,
      "_view_module": "@jupyter-widgets/base",
      "_view_module_version": "1.2.0",
      "_view_name": "StyleView",
      "bar_color": null,
      "description_width": ""
     }
    },
    "d9bf883e13f44dd7ac3d0e1f3f5bd959": {
     "model_module": "@jupyter-widgets/controls",
     "model_name": "DescriptionStyleModel",
     "state": {
      "_model_module": "@jupyter-widgets/controls",
      "_model_module_version": "1.5.0",
      "_model_name": "DescriptionStyleModel",
      "_view_count": null,
      "_view_module": "@jupyter-widgets/base",
      "_view_module_version": "1.2.0",
      "_view_name": "StyleView",
      "description_width": ""
     }
    },
    "d9f091d3492342238c313f41bf76c17f": {
     "model_module": "@jupyter-widgets/controls",
     "model_name": "LabelModel",
     "state": {
      "_dom_classes": [],
      "_model_module": "@jupyter-widgets/controls",
      "_model_module_version": "1.5.0",
      "_model_name": "LabelModel",
      "_view_count": null,
      "_view_module": "@jupyter-widgets/controls",
      "_view_module_version": "1.5.0",
      "_view_name": "LabelView",
      "description": "",
      "description_tooltip": null,
      "layout": "IPY_MODEL_e19d18dd88814a569a3b1520e5033bf7",
      "placeholder": "​",
      "style": "IPY_MODEL_4a8b20981a594a118b285c8f504ebe96",
      "value": " 2.84MB of 2.84MB uploaded (0.00MB deduped)\r"
     }
    },
    "db4dbfbf15dd433b9ab3662a8d7a6b41": {
     "model_module": "@jupyter-widgets/controls",
     "model_name": "VBoxModel",
     "state": {
      "_dom_classes": [],
      "_model_module": "@jupyter-widgets/controls",
      "_model_module_version": "1.5.0",
      "_model_name": "VBoxModel",
      "_view_count": null,
      "_view_module": "@jupyter-widgets/controls",
      "_view_module_version": "1.5.0",
      "_view_name": "VBoxView",
      "box_style": "",
      "children": [
       "IPY_MODEL_ab05add826fa46e3a45791083383babd",
       "IPY_MODEL_a52e0485f2444b97a697e73d429b9965"
      ],
      "layout": "IPY_MODEL_dcae7bd02d54405ab46a027d2d55e626"
     }
    },
    "db757e82cf9746afa442a7d4db83e44b": {
     "model_module": "@jupyter-widgets/controls",
     "model_name": "VBoxModel",
     "state": {
      "_dom_classes": [],
      "_model_module": "@jupyter-widgets/controls",
      "_model_module_version": "1.5.0",
      "_model_name": "VBoxModel",
      "_view_count": null,
      "_view_module": "@jupyter-widgets/controls",
      "_view_module_version": "1.5.0",
      "_view_name": "VBoxView",
      "box_style": "",
      "children": [
       "IPY_MODEL_63ba65daf64648c6acce7287259a5d1c",
       "IPY_MODEL_55eab153127f4f178f771c938fa3afbc"
      ],
      "layout": "IPY_MODEL_2c6e4755ff0b4221bbc5b1be08ca1ffa"
     }
    },
    "dc0e7d8d104b443a8ba3e51a81d7a088": {
     "model_module": "@jupyter-widgets/controls",
     "model_name": "DescriptionStyleModel",
     "state": {
      "_model_module": "@jupyter-widgets/controls",
      "_model_module_version": "1.5.0",
      "_model_name": "DescriptionStyleModel",
      "_view_count": null,
      "_view_module": "@jupyter-widgets/base",
      "_view_module_version": "1.2.0",
      "_view_name": "StyleView",
      "description_width": ""
     }
    },
    "dc62d0e79c6e4e9da5fc3a3d40e58362": {
     "model_module": "@jupyter-widgets/controls",
     "model_name": "VBoxModel",
     "state": {
      "_dom_classes": [],
      "_model_module": "@jupyter-widgets/controls",
      "_model_module_version": "1.5.0",
      "_model_name": "VBoxModel",
      "_view_count": null,
      "_view_module": "@jupyter-widgets/controls",
      "_view_module_version": "1.5.0",
      "_view_name": "VBoxView",
      "box_style": "",
      "children": [
       "IPY_MODEL_964445c7585740499ba1b5bb2da2a570",
       "IPY_MODEL_2b8c14ee2de5486f9452d1a7ad8d040b"
      ],
      "layout": "IPY_MODEL_b84d7613c94048759c7edf966f78ef34"
     }
    },
    "dcae7bd02d54405ab46a027d2d55e626": {
     "model_module": "@jupyter-widgets/base",
     "model_name": "LayoutModel",
     "state": {
      "_model_module": "@jupyter-widgets/base",
      "_model_module_version": "1.2.0",
      "_model_name": "LayoutModel",
      "_view_count": null,
      "_view_module": "@jupyter-widgets/base",
      "_view_module_version": "1.2.0",
      "_view_name": "LayoutView",
      "align_content": null,
      "align_items": null,
      "align_self": null,
      "border": null,
      "bottom": null,
      "display": null,
      "flex": null,
      "flex_flow": null,
      "grid_area": null,
      "grid_auto_columns": null,
      "grid_auto_flow": null,
      "grid_auto_rows": null,
      "grid_column": null,
      "grid_gap": null,
      "grid_row": null,
      "grid_template_areas": null,
      "grid_template_columns": null,
      "grid_template_rows": null,
      "height": null,
      "justify_content": null,
      "justify_items": null,
      "left": null,
      "margin": null,
      "max_height": null,
      "max_width": null,
      "min_height": null,
      "min_width": null,
      "object_fit": null,
      "object_position": null,
      "order": null,
      "overflow": null,
      "overflow_x": null,
      "overflow_y": null,
      "padding": null,
      "right": null,
      "top": null,
      "visibility": null,
      "width": null
     }
    },
    "dcf59fedcade4f50a6fadb35841a488d": {
     "model_module": "@jupyter-widgets/base",
     "model_name": "LayoutModel",
     "state": {
      "_model_module": "@jupyter-widgets/base",
      "_model_module_version": "1.2.0",
      "_model_name": "LayoutModel",
      "_view_count": null,
      "_view_module": "@jupyter-widgets/base",
      "_view_module_version": "1.2.0",
      "_view_name": "LayoutView",
      "align_content": null,
      "align_items": null,
      "align_self": null,
      "border": null,
      "bottom": null,
      "display": null,
      "flex": null,
      "flex_flow": null,
      "grid_area": null,
      "grid_auto_columns": null,
      "grid_auto_flow": null,
      "grid_auto_rows": null,
      "grid_column": null,
      "grid_gap": null,
      "grid_row": null,
      "grid_template_areas": null,
      "grid_template_columns": null,
      "grid_template_rows": null,
      "height": null,
      "justify_content": null,
      "justify_items": null,
      "left": null,
      "margin": null,
      "max_height": null,
      "max_width": null,
      "min_height": null,
      "min_width": null,
      "object_fit": null,
      "object_position": null,
      "order": null,
      "overflow": null,
      "overflow_x": null,
      "overflow_y": null,
      "padding": null,
      "right": null,
      "top": null,
      "visibility": null,
      "width": null
     }
    },
    "dd613a8bab194f179500c66bd9811772": {
     "model_module": "@jupyter-widgets/controls",
     "model_name": "FloatProgressModel",
     "state": {
      "_dom_classes": [],
      "_model_module": "@jupyter-widgets/controls",
      "_model_module_version": "1.5.0",
      "_model_name": "FloatProgressModel",
      "_view_count": null,
      "_view_module": "@jupyter-widgets/controls",
      "_view_module_version": "1.5.0",
      "_view_name": "ProgressView",
      "bar_style": "",
      "description": "",
      "description_tooltip": null,
      "layout": "IPY_MODEL_9b7fc68f1a374fab86bf6d73ce4c5870",
      "max": 1,
      "min": 0,
      "orientation": "horizontal",
      "style": "IPY_MODEL_b16ef0afd181451db4177b52784ba08e",
      "value": 1
     }
    },
    "dd625c3892614c93ac44caab626986b5": {
     "model_module": "@jupyter-widgets/base",
     "model_name": "LayoutModel",
     "state": {
      "_model_module": "@jupyter-widgets/base",
      "_model_module_version": "1.2.0",
      "_model_name": "LayoutModel",
      "_view_count": null,
      "_view_module": "@jupyter-widgets/base",
      "_view_module_version": "1.2.0",
      "_view_name": "LayoutView",
      "align_content": null,
      "align_items": null,
      "align_self": null,
      "border": null,
      "bottom": null,
      "display": null,
      "flex": null,
      "flex_flow": null,
      "grid_area": null,
      "grid_auto_columns": null,
      "grid_auto_flow": null,
      "grid_auto_rows": null,
      "grid_column": null,
      "grid_gap": null,
      "grid_row": null,
      "grid_template_areas": null,
      "grid_template_columns": null,
      "grid_template_rows": null,
      "height": null,
      "justify_content": null,
      "justify_items": null,
      "left": null,
      "margin": null,
      "max_height": null,
      "max_width": null,
      "min_height": null,
      "min_width": null,
      "object_fit": null,
      "object_position": null,
      "order": null,
      "overflow": null,
      "overflow_x": null,
      "overflow_y": null,
      "padding": null,
      "right": null,
      "top": null,
      "visibility": null,
      "width": null
     }
    },
    "de03e00644e24d6f8c93c00f5181b7d8": {
     "model_module": "@jupyter-widgets/controls",
     "model_name": "LabelModel",
     "state": {
      "_dom_classes": [],
      "_model_module": "@jupyter-widgets/controls",
      "_model_module_version": "1.5.0",
      "_model_name": "LabelModel",
      "_view_count": null,
      "_view_module": "@jupyter-widgets/controls",
      "_view_module_version": "1.5.0",
      "_view_name": "LabelView",
      "description": "",
      "description_tooltip": null,
      "layout": "IPY_MODEL_25b47681c58b4c6cbffd24d4dc3db163",
      "placeholder": "​",
      "style": "IPY_MODEL_22539cdcdb4f4180985b5515cf1edd53",
      "value": " 2.51MB of 2.51MB uploaded (0.00MB deduped)\r"
     }
    },
    "de4cf2652132449fae11c9657321d062": {
     "model_module": "@jupyter-widgets/controls",
     "model_name": "ProgressStyleModel",
     "state": {
      "_model_module": "@jupyter-widgets/controls",
      "_model_module_version": "1.5.0",
      "_model_name": "ProgressStyleModel",
      "_view_count": null,
      "_view_module": "@jupyter-widgets/base",
      "_view_module_version": "1.2.0",
      "_view_name": "StyleView",
      "bar_color": null,
      "description_width": ""
     }
    },
    "de53318375394e8aab2073a029b3ebd2": {
     "model_module": "@jupyter-widgets/controls",
     "model_name": "FloatProgressModel",
     "state": {
      "_dom_classes": [],
      "_model_module": "@jupyter-widgets/controls",
      "_model_module_version": "1.5.0",
      "_model_name": "FloatProgressModel",
      "_view_count": null,
      "_view_module": "@jupyter-widgets/controls",
      "_view_module_version": "1.5.0",
      "_view_name": "ProgressView",
      "bar_style": "",
      "description": "",
      "description_tooltip": null,
      "layout": "IPY_MODEL_359c2220557c4bddb77c1bc3882f88f6",
      "max": 1,
      "min": 0,
      "orientation": "horizontal",
      "style": "IPY_MODEL_b7961746ea834b0abb397ea0a0111565",
      "value": 1
     }
    },
    "dee605fb8c7d4bd3872e7c738e3b4d78": {
     "model_module": "@jupyter-widgets/base",
     "model_name": "LayoutModel",
     "state": {
      "_model_module": "@jupyter-widgets/base",
      "_model_module_version": "1.2.0",
      "_model_name": "LayoutModel",
      "_view_count": null,
      "_view_module": "@jupyter-widgets/base",
      "_view_module_version": "1.2.0",
      "_view_name": "LayoutView",
      "align_content": null,
      "align_items": null,
      "align_self": null,
      "border": null,
      "bottom": null,
      "display": null,
      "flex": null,
      "flex_flow": null,
      "grid_area": null,
      "grid_auto_columns": null,
      "grid_auto_flow": null,
      "grid_auto_rows": null,
      "grid_column": null,
      "grid_gap": null,
      "grid_row": null,
      "grid_template_areas": null,
      "grid_template_columns": null,
      "grid_template_rows": null,
      "height": null,
      "justify_content": null,
      "justify_items": null,
      "left": null,
      "margin": null,
      "max_height": null,
      "max_width": null,
      "min_height": null,
      "min_width": null,
      "object_fit": null,
      "object_position": null,
      "order": null,
      "overflow": null,
      "overflow_x": null,
      "overflow_y": null,
      "padding": null,
      "right": null,
      "top": null,
      "visibility": null,
      "width": null
     }
    },
    "df661ffe12d04a6eb21785587d842dd7": {
     "model_module": "@jupyter-widgets/controls",
     "model_name": "ProgressStyleModel",
     "state": {
      "_model_module": "@jupyter-widgets/controls",
      "_model_module_version": "1.5.0",
      "_model_name": "ProgressStyleModel",
      "_view_count": null,
      "_view_module": "@jupyter-widgets/base",
      "_view_module_version": "1.2.0",
      "_view_name": "StyleView",
      "bar_color": null,
      "description_width": ""
     }
    },
    "dfd017d91d474d76b0a1cec718d379c2": {
     "model_module": "@jupyter-widgets/controls",
     "model_name": "ProgressStyleModel",
     "state": {
      "_model_module": "@jupyter-widgets/controls",
      "_model_module_version": "1.5.0",
      "_model_name": "ProgressStyleModel",
      "_view_count": null,
      "_view_module": "@jupyter-widgets/base",
      "_view_module_version": "1.2.0",
      "_view_name": "StyleView",
      "bar_color": null,
      "description_width": ""
     }
    },
    "dfe2520b01824d69996bdc83713f2f2e": {
     "model_module": "@jupyter-widgets/controls",
     "model_name": "VBoxModel",
     "state": {
      "_dom_classes": [],
      "_model_module": "@jupyter-widgets/controls",
      "_model_module_version": "1.5.0",
      "_model_name": "VBoxModel",
      "_view_count": null,
      "_view_module": "@jupyter-widgets/controls",
      "_view_module_version": "1.5.0",
      "_view_name": "VBoxView",
      "box_style": "",
      "children": [
       "IPY_MODEL_1ee359116c3648b19067bd3d998b521e",
       "IPY_MODEL_11f334f357e84ab7ae6b460511e6d259"
      ],
      "layout": "IPY_MODEL_7a6ab6409ebc4ebb91c9a13bc2be3fb2"
     }
    },
    "e090395478024966aa771e9599f6ac4f": {
     "model_module": "@jupyter-widgets/base",
     "model_name": "LayoutModel",
     "state": {
      "_model_module": "@jupyter-widgets/base",
      "_model_module_version": "1.2.0",
      "_model_name": "LayoutModel",
      "_view_count": null,
      "_view_module": "@jupyter-widgets/base",
      "_view_module_version": "1.2.0",
      "_view_name": "LayoutView",
      "align_content": null,
      "align_items": null,
      "align_self": null,
      "border": null,
      "bottom": null,
      "display": null,
      "flex": null,
      "flex_flow": null,
      "grid_area": null,
      "grid_auto_columns": null,
      "grid_auto_flow": null,
      "grid_auto_rows": null,
      "grid_column": null,
      "grid_gap": null,
      "grid_row": null,
      "grid_template_areas": null,
      "grid_template_columns": null,
      "grid_template_rows": null,
      "height": null,
      "justify_content": null,
      "justify_items": null,
      "left": null,
      "margin": null,
      "max_height": null,
      "max_width": null,
      "min_height": null,
      "min_width": null,
      "object_fit": null,
      "object_position": null,
      "order": null,
      "overflow": null,
      "overflow_x": null,
      "overflow_y": null,
      "padding": null,
      "right": null,
      "top": null,
      "visibility": null,
      "width": null
     }
    },
    "e173daa09677433c9b603bfdce18693d": {
     "model_module": "@jupyter-widgets/controls",
     "model_name": "VBoxModel",
     "state": {
      "_dom_classes": [],
      "_model_module": "@jupyter-widgets/controls",
      "_model_module_version": "1.5.0",
      "_model_name": "VBoxModel",
      "_view_count": null,
      "_view_module": "@jupyter-widgets/controls",
      "_view_module_version": "1.5.0",
      "_view_name": "VBoxView",
      "box_style": "",
      "children": [
       "IPY_MODEL_804bb31affba4d6c8a8641542b6e4fa0",
       "IPY_MODEL_39a94a8634fc4c00b925e22b8ff20d0d"
      ],
      "layout": "IPY_MODEL_6ed05501af484dd49ccae0b3b1bf1c6b"
     }
    },
    "e19d18dd88814a569a3b1520e5033bf7": {
     "model_module": "@jupyter-widgets/base",
     "model_name": "LayoutModel",
     "state": {
      "_model_module": "@jupyter-widgets/base",
      "_model_module_version": "1.2.0",
      "_model_name": "LayoutModel",
      "_view_count": null,
      "_view_module": "@jupyter-widgets/base",
      "_view_module_version": "1.2.0",
      "_view_name": "LayoutView",
      "align_content": null,
      "align_items": null,
      "align_self": null,
      "border": null,
      "bottom": null,
      "display": null,
      "flex": null,
      "flex_flow": null,
      "grid_area": null,
      "grid_auto_columns": null,
      "grid_auto_flow": null,
      "grid_auto_rows": null,
      "grid_column": null,
      "grid_gap": null,
      "grid_row": null,
      "grid_template_areas": null,
      "grid_template_columns": null,
      "grid_template_rows": null,
      "height": null,
      "justify_content": null,
      "justify_items": null,
      "left": null,
      "margin": null,
      "max_height": null,
      "max_width": null,
      "min_height": null,
      "min_width": null,
      "object_fit": null,
      "object_position": null,
      "order": null,
      "overflow": null,
      "overflow_x": null,
      "overflow_y": null,
      "padding": null,
      "right": null,
      "top": null,
      "visibility": null,
      "width": null
     }
    },
    "e2d606eb05b3463fa562c05ba7981ff5": {
     "model_module": "@jupyter-widgets/controls",
     "model_name": "LabelModel",
     "state": {
      "_dom_classes": [],
      "_model_module": "@jupyter-widgets/controls",
      "_model_module_version": "1.5.0",
      "_model_name": "LabelModel",
      "_view_count": null,
      "_view_module": "@jupyter-widgets/controls",
      "_view_module_version": "1.5.0",
      "_view_name": "LabelView",
      "description": "",
      "description_tooltip": null,
      "layout": "IPY_MODEL_73edc99f94b7419c8ca1f77ef2a1dcb6",
      "placeholder": "​",
      "style": "IPY_MODEL_feec9aeb37e741a2b4635256f6766c00",
      "value": " 1.90MB of 1.90MB uploaded (0.00MB deduped)\r"
     }
    },
    "e55926bf4b31458f9f47c17383d13a5d": {
     "model_module": "@jupyter-widgets/controls",
     "model_name": "ProgressStyleModel",
     "state": {
      "_model_module": "@jupyter-widgets/controls",
      "_model_module_version": "1.5.0",
      "_model_name": "ProgressStyleModel",
      "_view_count": null,
      "_view_module": "@jupyter-widgets/base",
      "_view_module_version": "1.2.0",
      "_view_name": "StyleView",
      "bar_color": null,
      "description_width": ""
     }
    },
    "e5ab338993834c46bc86e7f4f7c0d15f": {
     "model_module": "@jupyter-widgets/controls",
     "model_name": "FloatProgressModel",
     "state": {
      "_dom_classes": [],
      "_model_module": "@jupyter-widgets/controls",
      "_model_module_version": "1.5.0",
      "_model_name": "FloatProgressModel",
      "_view_count": null,
      "_view_module": "@jupyter-widgets/controls",
      "_view_module_version": "1.5.0",
      "_view_name": "ProgressView",
      "bar_style": "",
      "description": "",
      "description_tooltip": null,
      "layout": "IPY_MODEL_8967f9b9f02a4b1abb20586bb5214a97",
      "max": 1,
      "min": 0,
      "orientation": "horizontal",
      "style": "IPY_MODEL_48128eae96fc4efe9bc8e4cbcc70e342",
      "value": 1
     }
    },
    "e97bd32d41cd4565b1023d9fe636bb50": {
     "model_module": "@jupyter-widgets/controls",
     "model_name": "DescriptionStyleModel",
     "state": {
      "_model_module": "@jupyter-widgets/controls",
      "_model_module_version": "1.5.0",
      "_model_name": "DescriptionStyleModel",
      "_view_count": null,
      "_view_module": "@jupyter-widgets/base",
      "_view_module_version": "1.2.0",
      "_view_name": "StyleView",
      "description_width": ""
     }
    },
    "ea0b24840b77482f8ff21bc54dee092f": {
     "model_module": "@jupyter-widgets/base",
     "model_name": "LayoutModel",
     "state": {
      "_model_module": "@jupyter-widgets/base",
      "_model_module_version": "1.2.0",
      "_model_name": "LayoutModel",
      "_view_count": null,
      "_view_module": "@jupyter-widgets/base",
      "_view_module_version": "1.2.0",
      "_view_name": "LayoutView",
      "align_content": null,
      "align_items": null,
      "align_self": null,
      "border": null,
      "bottom": null,
      "display": null,
      "flex": null,
      "flex_flow": null,
      "grid_area": null,
      "grid_auto_columns": null,
      "grid_auto_flow": null,
      "grid_auto_rows": null,
      "grid_column": null,
      "grid_gap": null,
      "grid_row": null,
      "grid_template_areas": null,
      "grid_template_columns": null,
      "grid_template_rows": null,
      "height": null,
      "justify_content": null,
      "justify_items": null,
      "left": null,
      "margin": null,
      "max_height": null,
      "max_width": null,
      "min_height": null,
      "min_width": null,
      "object_fit": null,
      "object_position": null,
      "order": null,
      "overflow": null,
      "overflow_x": null,
      "overflow_y": null,
      "padding": null,
      "right": null,
      "top": null,
      "visibility": null,
      "width": null
     }
    },
    "ebcd8a2dd1924fd28e4a33e022fa2d0d": {
     "model_module": "@jupyter-widgets/base",
     "model_name": "LayoutModel",
     "state": {
      "_model_module": "@jupyter-widgets/base",
      "_model_module_version": "1.2.0",
      "_model_name": "LayoutModel",
      "_view_count": null,
      "_view_module": "@jupyter-widgets/base",
      "_view_module_version": "1.2.0",
      "_view_name": "LayoutView",
      "align_content": null,
      "align_items": null,
      "align_self": null,
      "border": null,
      "bottom": null,
      "display": null,
      "flex": null,
      "flex_flow": null,
      "grid_area": null,
      "grid_auto_columns": null,
      "grid_auto_flow": null,
      "grid_auto_rows": null,
      "grid_column": null,
      "grid_gap": null,
      "grid_row": null,
      "grid_template_areas": null,
      "grid_template_columns": null,
      "grid_template_rows": null,
      "height": null,
      "justify_content": null,
      "justify_items": null,
      "left": null,
      "margin": null,
      "max_height": null,
      "max_width": null,
      "min_height": null,
      "min_width": null,
      "object_fit": null,
      "object_position": null,
      "order": null,
      "overflow": null,
      "overflow_x": null,
      "overflow_y": null,
      "padding": null,
      "right": null,
      "top": null,
      "visibility": null,
      "width": null
     }
    },
    "ec3d1d41e51f4acb8dceca26003b30ab": {
     "model_module": "@jupyter-widgets/controls",
     "model_name": "LabelModel",
     "state": {
      "_dom_classes": [],
      "_model_module": "@jupyter-widgets/controls",
      "_model_module_version": "1.5.0",
      "_model_name": "LabelModel",
      "_view_count": null,
      "_view_module": "@jupyter-widgets/controls",
      "_view_module_version": "1.5.0",
      "_view_name": "LabelView",
      "description": "",
      "description_tooltip": null,
      "layout": "IPY_MODEL_b19ce9285b35408496c026407b2f9e44",
      "placeholder": "​",
      "style": "IPY_MODEL_85f5de8074b64721ad0b17e9238e8f7f",
      "value": " 0.57MB of 0.57MB uploaded (0.00MB deduped)\r"
     }
    },
    "eced63a569094128abd81b5b25b03b85": {
     "model_module": "@jupyter-widgets/controls",
     "model_name": "ProgressStyleModel",
     "state": {
      "_model_module": "@jupyter-widgets/controls",
      "_model_module_version": "1.5.0",
      "_model_name": "ProgressStyleModel",
      "_view_count": null,
      "_view_module": "@jupyter-widgets/base",
      "_view_module_version": "1.2.0",
      "_view_name": "StyleView",
      "bar_color": null,
      "description_width": ""
     }
    },
    "ed32cdc963aa48da92c4cea5b50ce663": {
     "model_module": "@jupyter-widgets/base",
     "model_name": "LayoutModel",
     "state": {
      "_model_module": "@jupyter-widgets/base",
      "_model_module_version": "1.2.0",
      "_model_name": "LayoutModel",
      "_view_count": null,
      "_view_module": "@jupyter-widgets/base",
      "_view_module_version": "1.2.0",
      "_view_name": "LayoutView",
      "align_content": null,
      "align_items": null,
      "align_self": null,
      "border": null,
      "bottom": null,
      "display": null,
      "flex": null,
      "flex_flow": null,
      "grid_area": null,
      "grid_auto_columns": null,
      "grid_auto_flow": null,
      "grid_auto_rows": null,
      "grid_column": null,
      "grid_gap": null,
      "grid_row": null,
      "grid_template_areas": null,
      "grid_template_columns": null,
      "grid_template_rows": null,
      "height": null,
      "justify_content": null,
      "justify_items": null,
      "left": null,
      "margin": null,
      "max_height": null,
      "max_width": null,
      "min_height": null,
      "min_width": null,
      "object_fit": null,
      "object_position": null,
      "order": null,
      "overflow": null,
      "overflow_x": null,
      "overflow_y": null,
      "padding": null,
      "right": null,
      "top": null,
      "visibility": null,
      "width": null
     }
    },
    "ed727062227245c2ab4de4f1c2dae954": {
     "model_module": "@jupyter-widgets/base",
     "model_name": "LayoutModel",
     "state": {
      "_model_module": "@jupyter-widgets/base",
      "_model_module_version": "1.2.0",
      "_model_name": "LayoutModel",
      "_view_count": null,
      "_view_module": "@jupyter-widgets/base",
      "_view_module_version": "1.2.0",
      "_view_name": "LayoutView",
      "align_content": null,
      "align_items": null,
      "align_self": null,
      "border": null,
      "bottom": null,
      "display": null,
      "flex": null,
      "flex_flow": null,
      "grid_area": null,
      "grid_auto_columns": null,
      "grid_auto_flow": null,
      "grid_auto_rows": null,
      "grid_column": null,
      "grid_gap": null,
      "grid_row": null,
      "grid_template_areas": null,
      "grid_template_columns": null,
      "grid_template_rows": null,
      "height": null,
      "justify_content": null,
      "justify_items": null,
      "left": null,
      "margin": null,
      "max_height": null,
      "max_width": null,
      "min_height": null,
      "min_width": null,
      "object_fit": null,
      "object_position": null,
      "order": null,
      "overflow": null,
      "overflow_x": null,
      "overflow_y": null,
      "padding": null,
      "right": null,
      "top": null,
      "visibility": null,
      "width": null
     }
    },
    "eee35d3d2a5b47269f6e6fa4a94cd679": {
     "model_module": "@jupyter-widgets/base",
     "model_name": "LayoutModel",
     "state": {
      "_model_module": "@jupyter-widgets/base",
      "_model_module_version": "1.2.0",
      "_model_name": "LayoutModel",
      "_view_count": null,
      "_view_module": "@jupyter-widgets/base",
      "_view_module_version": "1.2.0",
      "_view_name": "LayoutView",
      "align_content": null,
      "align_items": null,
      "align_self": null,
      "border": null,
      "bottom": null,
      "display": null,
      "flex": null,
      "flex_flow": null,
      "grid_area": null,
      "grid_auto_columns": null,
      "grid_auto_flow": null,
      "grid_auto_rows": null,
      "grid_column": null,
      "grid_gap": null,
      "grid_row": null,
      "grid_template_areas": null,
      "grid_template_columns": null,
      "grid_template_rows": null,
      "height": null,
      "justify_content": null,
      "justify_items": null,
      "left": null,
      "margin": null,
      "max_height": null,
      "max_width": null,
      "min_height": null,
      "min_width": null,
      "object_fit": null,
      "object_position": null,
      "order": null,
      "overflow": null,
      "overflow_x": null,
      "overflow_y": null,
      "padding": null,
      "right": null,
      "top": null,
      "visibility": null,
      "width": null
     }
    },
    "eff188b0452742bf9d4aa474eaea747a": {
     "model_module": "@jupyter-widgets/base",
     "model_name": "LayoutModel",
     "state": {
      "_model_module": "@jupyter-widgets/base",
      "_model_module_version": "1.2.0",
      "_model_name": "LayoutModel",
      "_view_count": null,
      "_view_module": "@jupyter-widgets/base",
      "_view_module_version": "1.2.0",
      "_view_name": "LayoutView",
      "align_content": null,
      "align_items": null,
      "align_self": null,
      "border": null,
      "bottom": null,
      "display": null,
      "flex": null,
      "flex_flow": null,
      "grid_area": null,
      "grid_auto_columns": null,
      "grid_auto_flow": null,
      "grid_auto_rows": null,
      "grid_column": null,
      "grid_gap": null,
      "grid_row": null,
      "grid_template_areas": null,
      "grid_template_columns": null,
      "grid_template_rows": null,
      "height": null,
      "justify_content": null,
      "justify_items": null,
      "left": null,
      "margin": null,
      "max_height": null,
      "max_width": null,
      "min_height": null,
      "min_width": null,
      "object_fit": null,
      "object_position": null,
      "order": null,
      "overflow": null,
      "overflow_x": null,
      "overflow_y": null,
      "padding": null,
      "right": null,
      "top": null,
      "visibility": null,
      "width": null
     }
    },
    "efff41a9ef1842c39a96dd441aad648d": {
     "model_module": "@jupyter-widgets/base",
     "model_name": "LayoutModel",
     "state": {
      "_model_module": "@jupyter-widgets/base",
      "_model_module_version": "1.2.0",
      "_model_name": "LayoutModel",
      "_view_count": null,
      "_view_module": "@jupyter-widgets/base",
      "_view_module_version": "1.2.0",
      "_view_name": "LayoutView",
      "align_content": null,
      "align_items": null,
      "align_self": null,
      "border": null,
      "bottom": null,
      "display": null,
      "flex": null,
      "flex_flow": null,
      "grid_area": null,
      "grid_auto_columns": null,
      "grid_auto_flow": null,
      "grid_auto_rows": null,
      "grid_column": null,
      "grid_gap": null,
      "grid_row": null,
      "grid_template_areas": null,
      "grid_template_columns": null,
      "grid_template_rows": null,
      "height": null,
      "justify_content": null,
      "justify_items": null,
      "left": null,
      "margin": null,
      "max_height": null,
      "max_width": null,
      "min_height": null,
      "min_width": null,
      "object_fit": null,
      "object_position": null,
      "order": null,
      "overflow": null,
      "overflow_x": null,
      "overflow_y": null,
      "padding": null,
      "right": null,
      "top": null,
      "visibility": null,
      "width": null
     }
    },
    "f00b4b73f1c14047982975d94d72f70c": {
     "model_module": "@jupyter-widgets/base",
     "model_name": "LayoutModel",
     "state": {
      "_model_module": "@jupyter-widgets/base",
      "_model_module_version": "1.2.0",
      "_model_name": "LayoutModel",
      "_view_count": null,
      "_view_module": "@jupyter-widgets/base",
      "_view_module_version": "1.2.0",
      "_view_name": "LayoutView",
      "align_content": null,
      "align_items": null,
      "align_self": null,
      "border": null,
      "bottom": null,
      "display": null,
      "flex": null,
      "flex_flow": null,
      "grid_area": null,
      "grid_auto_columns": null,
      "grid_auto_flow": null,
      "grid_auto_rows": null,
      "grid_column": null,
      "grid_gap": null,
      "grid_row": null,
      "grid_template_areas": null,
      "grid_template_columns": null,
      "grid_template_rows": null,
      "height": null,
      "justify_content": null,
      "justify_items": null,
      "left": null,
      "margin": null,
      "max_height": null,
      "max_width": null,
      "min_height": null,
      "min_width": null,
      "object_fit": null,
      "object_position": null,
      "order": null,
      "overflow": null,
      "overflow_x": null,
      "overflow_y": null,
      "padding": null,
      "right": null,
      "top": null,
      "visibility": null,
      "width": null
     }
    },
    "f05c38dd86ac439084ecb17db16e37c1": {
     "model_module": "@jupyter-widgets/base",
     "model_name": "LayoutModel",
     "state": {
      "_model_module": "@jupyter-widgets/base",
      "_model_module_version": "1.2.0",
      "_model_name": "LayoutModel",
      "_view_count": null,
      "_view_module": "@jupyter-widgets/base",
      "_view_module_version": "1.2.0",
      "_view_name": "LayoutView",
      "align_content": null,
      "align_items": null,
      "align_self": null,
      "border": null,
      "bottom": null,
      "display": null,
      "flex": null,
      "flex_flow": null,
      "grid_area": null,
      "grid_auto_columns": null,
      "grid_auto_flow": null,
      "grid_auto_rows": null,
      "grid_column": null,
      "grid_gap": null,
      "grid_row": null,
      "grid_template_areas": null,
      "grid_template_columns": null,
      "grid_template_rows": null,
      "height": null,
      "justify_content": null,
      "justify_items": null,
      "left": null,
      "margin": null,
      "max_height": null,
      "max_width": null,
      "min_height": null,
      "min_width": null,
      "object_fit": null,
      "object_position": null,
      "order": null,
      "overflow": null,
      "overflow_x": null,
      "overflow_y": null,
      "padding": null,
      "right": null,
      "top": null,
      "visibility": null,
      "width": null
     }
    },
    "f17aad71024b4a40bd20435e3561dbed": {
     "model_module": "@jupyter-widgets/base",
     "model_name": "LayoutModel",
     "state": {
      "_model_module": "@jupyter-widgets/base",
      "_model_module_version": "1.2.0",
      "_model_name": "LayoutModel",
      "_view_count": null,
      "_view_module": "@jupyter-widgets/base",
      "_view_module_version": "1.2.0",
      "_view_name": "LayoutView",
      "align_content": null,
      "align_items": null,
      "align_self": null,
      "border": null,
      "bottom": null,
      "display": null,
      "flex": null,
      "flex_flow": null,
      "grid_area": null,
      "grid_auto_columns": null,
      "grid_auto_flow": null,
      "grid_auto_rows": null,
      "grid_column": null,
      "grid_gap": null,
      "grid_row": null,
      "grid_template_areas": null,
      "grid_template_columns": null,
      "grid_template_rows": null,
      "height": null,
      "justify_content": null,
      "justify_items": null,
      "left": null,
      "margin": null,
      "max_height": null,
      "max_width": null,
      "min_height": null,
      "min_width": null,
      "object_fit": null,
      "object_position": null,
      "order": null,
      "overflow": null,
      "overflow_x": null,
      "overflow_y": null,
      "padding": null,
      "right": null,
      "top": null,
      "visibility": null,
      "width": null
     }
    },
    "f292e97718a04aa291507a48eac19f4b": {
     "model_module": "@jupyter-widgets/base",
     "model_name": "LayoutModel",
     "state": {
      "_model_module": "@jupyter-widgets/base",
      "_model_module_version": "1.2.0",
      "_model_name": "LayoutModel",
      "_view_count": null,
      "_view_module": "@jupyter-widgets/base",
      "_view_module_version": "1.2.0",
      "_view_name": "LayoutView",
      "align_content": null,
      "align_items": null,
      "align_self": null,
      "border": null,
      "bottom": null,
      "display": null,
      "flex": null,
      "flex_flow": null,
      "grid_area": null,
      "grid_auto_columns": null,
      "grid_auto_flow": null,
      "grid_auto_rows": null,
      "grid_column": null,
      "grid_gap": null,
      "grid_row": null,
      "grid_template_areas": null,
      "grid_template_columns": null,
      "grid_template_rows": null,
      "height": null,
      "justify_content": null,
      "justify_items": null,
      "left": null,
      "margin": null,
      "max_height": null,
      "max_width": null,
      "min_height": null,
      "min_width": null,
      "object_fit": null,
      "object_position": null,
      "order": null,
      "overflow": null,
      "overflow_x": null,
      "overflow_y": null,
      "padding": null,
      "right": null,
      "top": null,
      "visibility": null,
      "width": null
     }
    },
    "f4d1fd0ac3c64708924358faae3cc55a": {
     "model_module": "@jupyter-widgets/controls",
     "model_name": "FloatProgressModel",
     "state": {
      "_dom_classes": [],
      "_model_module": "@jupyter-widgets/controls",
      "_model_module_version": "1.5.0",
      "_model_name": "FloatProgressModel",
      "_view_count": null,
      "_view_module": "@jupyter-widgets/controls",
      "_view_module_version": "1.5.0",
      "_view_name": "ProgressView",
      "bar_style": "",
      "description": "",
      "description_tooltip": null,
      "layout": "IPY_MODEL_dcf59fedcade4f50a6fadb35841a488d",
      "max": 1,
      "min": 0,
      "orientation": "horizontal",
      "style": "IPY_MODEL_9a1dbeda7c0042038d6bc43db1bcc2b7",
      "value": 1
     }
    },
    "f4f5eb9c1e6243758cee3f84ad0ea82c": {
     "model_module": "@jupyter-widgets/controls",
     "model_name": "LabelModel",
     "state": {
      "_dom_classes": [],
      "_model_module": "@jupyter-widgets/controls",
      "_model_module_version": "1.5.0",
      "_model_name": "LabelModel",
      "_view_count": null,
      "_view_module": "@jupyter-widgets/controls",
      "_view_module_version": "1.5.0",
      "_view_name": "LabelView",
      "description": "",
      "description_tooltip": null,
      "layout": "IPY_MODEL_f292e97718a04aa291507a48eac19f4b",
      "placeholder": "​",
      "style": "IPY_MODEL_cb4275038c764fa1bd6cd34ee6c53c8a",
      "value": " 1.15MB of 1.15MB uploaded (0.00MB deduped)\r"
     }
    },
    "f51ca23dc4924723b11a3cd2a7546ed1": {
     "model_module": "@jupyter-widgets/controls",
     "model_name": "FloatProgressModel",
     "state": {
      "_dom_classes": [],
      "_model_module": "@jupyter-widgets/controls",
      "_model_module_version": "1.5.0",
      "_model_name": "FloatProgressModel",
      "_view_count": null,
      "_view_module": "@jupyter-widgets/controls",
      "_view_module_version": "1.5.0",
      "_view_name": "ProgressView",
      "bar_style": "",
      "description": "",
      "description_tooltip": null,
      "layout": "IPY_MODEL_fbd69b84e3064d4fb51010ec4da07a1c",
      "max": 1,
      "min": 0,
      "orientation": "horizontal",
      "style": "IPY_MODEL_09f8d1ab771046f9a5336f926544a9f1",
      "value": 1
     }
    },
    "f5b27b54e7e642abbadf29f955c9f295": {
     "model_module": "@jupyter-widgets/controls",
     "model_name": "FloatProgressModel",
     "state": {
      "_dom_classes": [],
      "_model_module": "@jupyter-widgets/controls",
      "_model_module_version": "1.5.0",
      "_model_name": "FloatProgressModel",
      "_view_count": null,
      "_view_module": "@jupyter-widgets/controls",
      "_view_module_version": "1.5.0",
      "_view_name": "ProgressView",
      "bar_style": "",
      "description": "",
      "description_tooltip": null,
      "layout": "IPY_MODEL_fc085b78470e43c8af5111a37f4cf1bf",
      "max": 1,
      "min": 0,
      "orientation": "horizontal",
      "style": "IPY_MODEL_4eea2693789545789ddc12cd8fb3c78e",
      "value": 1
     }
    },
    "f5cbeb2e147d4581a1ac1b1855c2d415": {
     "model_module": "@jupyter-widgets/controls",
     "model_name": "VBoxModel",
     "state": {
      "_dom_classes": [],
      "_model_module": "@jupyter-widgets/controls",
      "_model_module_version": "1.5.0",
      "_model_name": "VBoxModel",
      "_view_count": null,
      "_view_module": "@jupyter-widgets/controls",
      "_view_module_version": "1.5.0",
      "_view_name": "VBoxView",
      "box_style": "",
      "children": [
       "IPY_MODEL_2c8e895bd49c4dcd9831027ab29b7b71",
       "IPY_MODEL_f4d1fd0ac3c64708924358faae3cc55a"
      ],
      "layout": "IPY_MODEL_facdfa2b48524e3daad1359110973cc5"
     }
    },
    "f6e803886e0441c59566af24f3eabee0": {
     "model_module": "@jupyter-widgets/base",
     "model_name": "LayoutModel",
     "state": {
      "_model_module": "@jupyter-widgets/base",
      "_model_module_version": "1.2.0",
      "_model_name": "LayoutModel",
      "_view_count": null,
      "_view_module": "@jupyter-widgets/base",
      "_view_module_version": "1.2.0",
      "_view_name": "LayoutView",
      "align_content": null,
      "align_items": null,
      "align_self": null,
      "border": null,
      "bottom": null,
      "display": null,
      "flex": null,
      "flex_flow": null,
      "grid_area": null,
      "grid_auto_columns": null,
      "grid_auto_flow": null,
      "grid_auto_rows": null,
      "grid_column": null,
      "grid_gap": null,
      "grid_row": null,
      "grid_template_areas": null,
      "grid_template_columns": null,
      "grid_template_rows": null,
      "height": null,
      "justify_content": null,
      "justify_items": null,
      "left": null,
      "margin": null,
      "max_height": null,
      "max_width": null,
      "min_height": null,
      "min_width": null,
      "object_fit": null,
      "object_position": null,
      "order": null,
      "overflow": null,
      "overflow_x": null,
      "overflow_y": null,
      "padding": null,
      "right": null,
      "top": null,
      "visibility": null,
      "width": null
     }
    },
    "f7a0dfad1bdf439ca5fccea08c9d3e30": {
     "model_module": "@jupyter-widgets/base",
     "model_name": "LayoutModel",
     "state": {
      "_model_module": "@jupyter-widgets/base",
      "_model_module_version": "1.2.0",
      "_model_name": "LayoutModel",
      "_view_count": null,
      "_view_module": "@jupyter-widgets/base",
      "_view_module_version": "1.2.0",
      "_view_name": "LayoutView",
      "align_content": null,
      "align_items": null,
      "align_self": null,
      "border": null,
      "bottom": null,
      "display": null,
      "flex": null,
      "flex_flow": null,
      "grid_area": null,
      "grid_auto_columns": null,
      "grid_auto_flow": null,
      "grid_auto_rows": null,
      "grid_column": null,
      "grid_gap": null,
      "grid_row": null,
      "grid_template_areas": null,
      "grid_template_columns": null,
      "grid_template_rows": null,
      "height": null,
      "justify_content": null,
      "justify_items": null,
      "left": null,
      "margin": null,
      "max_height": null,
      "max_width": null,
      "min_height": null,
      "min_width": null,
      "object_fit": null,
      "object_position": null,
      "order": null,
      "overflow": null,
      "overflow_x": null,
      "overflow_y": null,
      "padding": null,
      "right": null,
      "top": null,
      "visibility": null,
      "width": null
     }
    },
    "f7cdcd93651f40839e67bf435ea55519": {
     "model_module": "@jupyter-widgets/controls",
     "model_name": "LabelModel",
     "state": {
      "_dom_classes": [],
      "_model_module": "@jupyter-widgets/controls",
      "_model_module_version": "1.5.0",
      "_model_name": "LabelModel",
      "_view_count": null,
      "_view_module": "@jupyter-widgets/controls",
      "_view_module_version": "1.5.0",
      "_view_name": "LabelView",
      "description": "",
      "description_tooltip": null,
      "layout": "IPY_MODEL_750b996b83194584a8ac4ee032a89085",
      "placeholder": "​",
      "style": "IPY_MODEL_1fdb043c594a43a3aee30e6034e9e428",
      "value": " 2.28MB of 2.28MB uploaded (0.00MB deduped)\r"
     }
    },
    "f81c758556d143ee841b48f42e93d1ac": {
     "model_module": "@jupyter-widgets/base",
     "model_name": "LayoutModel",
     "state": {
      "_model_module": "@jupyter-widgets/base",
      "_model_module_version": "1.2.0",
      "_model_name": "LayoutModel",
      "_view_count": null,
      "_view_module": "@jupyter-widgets/base",
      "_view_module_version": "1.2.0",
      "_view_name": "LayoutView",
      "align_content": null,
      "align_items": null,
      "align_self": null,
      "border": null,
      "bottom": null,
      "display": null,
      "flex": null,
      "flex_flow": null,
      "grid_area": null,
      "grid_auto_columns": null,
      "grid_auto_flow": null,
      "grid_auto_rows": null,
      "grid_column": null,
      "grid_gap": null,
      "grid_row": null,
      "grid_template_areas": null,
      "grid_template_columns": null,
      "grid_template_rows": null,
      "height": null,
      "justify_content": null,
      "justify_items": null,
      "left": null,
      "margin": null,
      "max_height": null,
      "max_width": null,
      "min_height": null,
      "min_width": null,
      "object_fit": null,
      "object_position": null,
      "order": null,
      "overflow": null,
      "overflow_x": null,
      "overflow_y": null,
      "padding": null,
      "right": null,
      "top": null,
      "visibility": null,
      "width": null
     }
    },
    "f9484a42909e4fe888591282260350ab": {
     "model_module": "@jupyter-widgets/controls",
     "model_name": "DescriptionStyleModel",
     "state": {
      "_model_module": "@jupyter-widgets/controls",
      "_model_module_version": "1.5.0",
      "_model_name": "DescriptionStyleModel",
      "_view_count": null,
      "_view_module": "@jupyter-widgets/base",
      "_view_module_version": "1.2.0",
      "_view_name": "StyleView",
      "description_width": ""
     }
    },
    "f949b6ac9a984ec89144ad78e1c66585": {
     "model_module": "@jupyter-widgets/controls",
     "model_name": "VBoxModel",
     "state": {
      "_dom_classes": [],
      "_model_module": "@jupyter-widgets/controls",
      "_model_module_version": "1.5.0",
      "_model_name": "VBoxModel",
      "_view_count": null,
      "_view_module": "@jupyter-widgets/controls",
      "_view_module_version": "1.5.0",
      "_view_name": "VBoxView",
      "box_style": "",
      "children": [
       "IPY_MODEL_0111c8345add4144a2fcee27d8a94469",
       "IPY_MODEL_03a56b9587e645d0b39e3e672f0f7807"
      ],
      "layout": "IPY_MODEL_efff41a9ef1842c39a96dd441aad648d"
     }
    },
    "f9dc945c503b48809703d913ff155660": {
     "model_module": "@jupyter-widgets/controls",
     "model_name": "FloatProgressModel",
     "state": {
      "_dom_classes": [],
      "_model_module": "@jupyter-widgets/controls",
      "_model_module_version": "1.5.0",
      "_model_name": "FloatProgressModel",
      "_view_count": null,
      "_view_module": "@jupyter-widgets/controls",
      "_view_module_version": "1.5.0",
      "_view_name": "ProgressView",
      "bar_style": "",
      "description": "",
      "description_tooltip": null,
      "layout": "IPY_MODEL_3df68021046644448b69e91f3c2b2a55",
      "max": 1,
      "min": 0,
      "orientation": "horizontal",
      "style": "IPY_MODEL_6573d9d1b01b4503837159f980c4afa1",
      "value": 1
     }
    },
    "facdfa2b48524e3daad1359110973cc5": {
     "model_module": "@jupyter-widgets/base",
     "model_name": "LayoutModel",
     "state": {
      "_model_module": "@jupyter-widgets/base",
      "_model_module_version": "1.2.0",
      "_model_name": "LayoutModel",
      "_view_count": null,
      "_view_module": "@jupyter-widgets/base",
      "_view_module_version": "1.2.0",
      "_view_name": "LayoutView",
      "align_content": null,
      "align_items": null,
      "align_self": null,
      "border": null,
      "bottom": null,
      "display": null,
      "flex": null,
      "flex_flow": null,
      "grid_area": null,
      "grid_auto_columns": null,
      "grid_auto_flow": null,
      "grid_auto_rows": null,
      "grid_column": null,
      "grid_gap": null,
      "grid_row": null,
      "grid_template_areas": null,
      "grid_template_columns": null,
      "grid_template_rows": null,
      "height": null,
      "justify_content": null,
      "justify_items": null,
      "left": null,
      "margin": null,
      "max_height": null,
      "max_width": null,
      "min_height": null,
      "min_width": null,
      "object_fit": null,
      "object_position": null,
      "order": null,
      "overflow": null,
      "overflow_x": null,
      "overflow_y": null,
      "padding": null,
      "right": null,
      "top": null,
      "visibility": null,
      "width": null
     }
    },
    "fba99852ce0b40c59393151704df1a80": {
     "model_module": "@jupyter-widgets/controls",
     "model_name": "VBoxModel",
     "state": {
      "_dom_classes": [],
      "_model_module": "@jupyter-widgets/controls",
      "_model_module_version": "1.5.0",
      "_model_name": "VBoxModel",
      "_view_count": null,
      "_view_module": "@jupyter-widgets/controls",
      "_view_module_version": "1.5.0",
      "_view_name": "VBoxView",
      "box_style": "",
      "children": [
       "IPY_MODEL_de03e00644e24d6f8c93c00f5181b7d8",
       "IPY_MODEL_6db8797fb5ae4d9e8df87d807de634d9"
      ],
      "layout": "IPY_MODEL_2679a954921d471aa7dc4213d74ec43e"
     }
    },
    "fbd69b84e3064d4fb51010ec4da07a1c": {
     "model_module": "@jupyter-widgets/base",
     "model_name": "LayoutModel",
     "state": {
      "_model_module": "@jupyter-widgets/base",
      "_model_module_version": "1.2.0",
      "_model_name": "LayoutModel",
      "_view_count": null,
      "_view_module": "@jupyter-widgets/base",
      "_view_module_version": "1.2.0",
      "_view_name": "LayoutView",
      "align_content": null,
      "align_items": null,
      "align_self": null,
      "border": null,
      "bottom": null,
      "display": null,
      "flex": null,
      "flex_flow": null,
      "grid_area": null,
      "grid_auto_columns": null,
      "grid_auto_flow": null,
      "grid_auto_rows": null,
      "grid_column": null,
      "grid_gap": null,
      "grid_row": null,
      "grid_template_areas": null,
      "grid_template_columns": null,
      "grid_template_rows": null,
      "height": null,
      "justify_content": null,
      "justify_items": null,
      "left": null,
      "margin": null,
      "max_height": null,
      "max_width": null,
      "min_height": null,
      "min_width": null,
      "object_fit": null,
      "object_position": null,
      "order": null,
      "overflow": null,
      "overflow_x": null,
      "overflow_y": null,
      "padding": null,
      "right": null,
      "top": null,
      "visibility": null,
      "width": null
     }
    },
    "fbf00302ee8c44dc966a87a0b6572117": {
     "model_module": "@jupyter-widgets/controls",
     "model_name": "FloatProgressModel",
     "state": {
      "_dom_classes": [],
      "_model_module": "@jupyter-widgets/controls",
      "_model_module_version": "1.5.0",
      "_model_name": "FloatProgressModel",
      "_view_count": null,
      "_view_module": "@jupyter-widgets/controls",
      "_view_module_version": "1.5.0",
      "_view_name": "ProgressView",
      "bar_style": "",
      "description": "",
      "description_tooltip": null,
      "layout": "IPY_MODEL_603df89816a7487f867482d4769cc3fb",
      "max": 1,
      "min": 0,
      "orientation": "horizontal",
      "style": "IPY_MODEL_42be9f73079a45d2b32e10777746a890",
      "value": 1
     }
    },
    "fc085b78470e43c8af5111a37f4cf1bf": {
     "model_module": "@jupyter-widgets/base",
     "model_name": "LayoutModel",
     "state": {
      "_model_module": "@jupyter-widgets/base",
      "_model_module_version": "1.2.0",
      "_model_name": "LayoutModel",
      "_view_count": null,
      "_view_module": "@jupyter-widgets/base",
      "_view_module_version": "1.2.0",
      "_view_name": "LayoutView",
      "align_content": null,
      "align_items": null,
      "align_self": null,
      "border": null,
      "bottom": null,
      "display": null,
      "flex": null,
      "flex_flow": null,
      "grid_area": null,
      "grid_auto_columns": null,
      "grid_auto_flow": null,
      "grid_auto_rows": null,
      "grid_column": null,
      "grid_gap": null,
      "grid_row": null,
      "grid_template_areas": null,
      "grid_template_columns": null,
      "grid_template_rows": null,
      "height": null,
      "justify_content": null,
      "justify_items": null,
      "left": null,
      "margin": null,
      "max_height": null,
      "max_width": null,
      "min_height": null,
      "min_width": null,
      "object_fit": null,
      "object_position": null,
      "order": null,
      "overflow": null,
      "overflow_x": null,
      "overflow_y": null,
      "padding": null,
      "right": null,
      "top": null,
      "visibility": null,
      "width": null
     }
    },
    "fd0fc2b7bff040b5ac80fee34ef5ef88": {
     "model_module": "@jupyter-widgets/controls",
     "model_name": "VBoxModel",
     "state": {
      "_dom_classes": [],
      "_model_module": "@jupyter-widgets/controls",
      "_model_module_version": "1.5.0",
      "_model_name": "VBoxModel",
      "_view_count": null,
      "_view_module": "@jupyter-widgets/controls",
      "_view_module_version": "1.5.0",
      "_view_name": "VBoxView",
      "box_style": "",
      "children": [
       "IPY_MODEL_f4f5eb9c1e6243758cee3f84ad0ea82c",
       "IPY_MODEL_f51ca23dc4924723b11a3cd2a7546ed1"
      ],
      "layout": "IPY_MODEL_8efb79aa0b984f8299759ea68c4bd429"
     }
    },
    "fd31af82346744a1ba77123c9955728b": {
     "model_module": "@jupyter-widgets/base",
     "model_name": "LayoutModel",
     "state": {
      "_model_module": "@jupyter-widgets/base",
      "_model_module_version": "1.2.0",
      "_model_name": "LayoutModel",
      "_view_count": null,
      "_view_module": "@jupyter-widgets/base",
      "_view_module_version": "1.2.0",
      "_view_name": "LayoutView",
      "align_content": null,
      "align_items": null,
      "align_self": null,
      "border": null,
      "bottom": null,
      "display": null,
      "flex": null,
      "flex_flow": null,
      "grid_area": null,
      "grid_auto_columns": null,
      "grid_auto_flow": null,
      "grid_auto_rows": null,
      "grid_column": null,
      "grid_gap": null,
      "grid_row": null,
      "grid_template_areas": null,
      "grid_template_columns": null,
      "grid_template_rows": null,
      "height": null,
      "justify_content": null,
      "justify_items": null,
      "left": null,
      "margin": null,
      "max_height": null,
      "max_width": null,
      "min_height": null,
      "min_width": null,
      "object_fit": null,
      "object_position": null,
      "order": null,
      "overflow": null,
      "overflow_x": null,
      "overflow_y": null,
      "padding": null,
      "right": null,
      "top": null,
      "visibility": null,
      "width": null
     }
    },
    "fe3d6a8b30484b5780f03161dcc2ea15": {
     "model_module": "@jupyter-widgets/controls",
     "model_name": "LabelModel",
     "state": {
      "_dom_classes": [],
      "_model_module": "@jupyter-widgets/controls",
      "_model_module_version": "1.5.0",
      "_model_name": "LabelModel",
      "_view_count": null,
      "_view_module": "@jupyter-widgets/controls",
      "_view_module_version": "1.5.0",
      "_view_name": "LabelView",
      "description": "",
      "description_tooltip": null,
      "layout": "IPY_MODEL_561c51cdcb7541e88f183680828f4001",
      "placeholder": "​",
      "style": "IPY_MODEL_562b3fb4b002428cbdb57e0287b1b199",
      "value": " 2.33MB of 2.33MB uploaded (0.00MB deduped)\r"
     }
    },
    "fecdd1fb9dcc4b4d91f0bf50b3b46a9e": {
     "model_module": "@jupyter-widgets/base",
     "model_name": "LayoutModel",
     "state": {
      "_model_module": "@jupyter-widgets/base",
      "_model_module_version": "1.2.0",
      "_model_name": "LayoutModel",
      "_view_count": null,
      "_view_module": "@jupyter-widgets/base",
      "_view_module_version": "1.2.0",
      "_view_name": "LayoutView",
      "align_content": null,
      "align_items": null,
      "align_self": null,
      "border": null,
      "bottom": null,
      "display": null,
      "flex": null,
      "flex_flow": null,
      "grid_area": null,
      "grid_auto_columns": null,
      "grid_auto_flow": null,
      "grid_auto_rows": null,
      "grid_column": null,
      "grid_gap": null,
      "grid_row": null,
      "grid_template_areas": null,
      "grid_template_columns": null,
      "grid_template_rows": null,
      "height": null,
      "justify_content": null,
      "justify_items": null,
      "left": null,
      "margin": null,
      "max_height": null,
      "max_width": null,
      "min_height": null,
      "min_width": null,
      "object_fit": null,
      "object_position": null,
      "order": null,
      "overflow": null,
      "overflow_x": null,
      "overflow_y": null,
      "padding": null,
      "right": null,
      "top": null,
      "visibility": null,
      "width": null
     }
    },
    "feec9aeb37e741a2b4635256f6766c00": {
     "model_module": "@jupyter-widgets/controls",
     "model_name": "DescriptionStyleModel",
     "state": {
      "_model_module": "@jupyter-widgets/controls",
      "_model_module_version": "1.5.0",
      "_model_name": "DescriptionStyleModel",
      "_view_count": null,
      "_view_module": "@jupyter-widgets/base",
      "_view_module_version": "1.2.0",
      "_view_name": "StyleView",
      "description_width": ""
     }
    }
   }
  }
 },
 "nbformat": 4,
 "nbformat_minor": 1
}
