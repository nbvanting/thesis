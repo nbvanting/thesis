{
 "cells": [
  {
   "cell_type": "code",
   "execution_count": 1,
   "id": "comparative-instrumentation",
   "metadata": {},
   "outputs": [],
   "source": [
    "import pandas as pd\n",
    "import numpy as np\n",
    "import matplotlib.pyplot as plt\n",
    "import math\n",
    "import random\n",
    "import os\n",
    "import datetime as dt\n",
    "import pickle\n",
    "\n",
    "from utils import processing\n",
    "from utils import utils\n",
    "\n",
    "from tensorflow.keras.preprocessing import timeseries_dataset_from_array\n",
    "from sklearn.preprocessing import MinMaxScaler, StandardScaler\n",
    "\n",
    "import tensorflow as tf\n",
    "from tensorflow.keras.losses import mean_squared_error, mean_absolute_error, mean_absolute_percentage_error\n",
    "from tensorflow.keras.models import Sequential, load_model\n",
    "from tensorflow.keras import Input\n",
    "from tensorflow.keras.layers import LSTM, GRU, Conv1D, MaxPooling1D, Flatten, Dense, Dropout, TimeDistributed, \\\n",
    "    BatchNormalization\n",
    "from tensorflow.keras.optimizers import RMSprop, Adam, SGD\n",
    "from tensorflow.keras.callbacks import EarlyStopping, ModelCheckpoint, ReduceLROnPlateau\n",
    "\n",
    "import wandb\n",
    "from wandb.keras import WandbCallback\n"
   ]
  },
  {
   "cell_type": "code",
   "execution_count": 2,
   "id": "indonesian-constitution",
   "metadata": {},
   "outputs": [],
   "source": [
    "random.seed(hash(\"random seed\") % 2**32 - 1)\n",
    "np.random.seed(hash(\"numpy seed\") % 2**32 - 1)\n",
    "tf.random.set_seed(hash(\"tensorflow seed\") % 2**32 - 1)"
   ]
  },
  {
   "cell_type": "code",
   "execution_count": 3,
   "id": "unexpected-coaching",
   "metadata": {},
   "outputs": [],
   "source": [
    "plt.style.use('fivethirtyeight')\n",
    "plt.rcParams[\"figure.figsize\"] = (20,12)"
   ]
  },
  {
   "cell_type": "code",
   "execution_count": 4,
   "id": "fatal-titanium",
   "metadata": {},
   "outputs": [],
   "source": [
    "kld = pd.read_csv('../data/processed/kolding_features.csv', index_col='Datetime', parse_dates=['Datetime'])\n",
    "kld = kld[['Value', 'sunshine_mins', 'airtemp_c', 'daylength_hrs', 'wkdy_sin', 'wkdy_cos', 'wknd', 'mnth_sin', 'mnth_cos']]\n",
    "stb = pd.read_csv('../data/processed/kolding_features.csv', index_col='Datetime', parse_dates=['Datetime'])\n",
    "stb = stb[['Value', 'sunshine_mins', 'airtemp_c', 'daylength_hrs', 'wkdy_sin', 'wkdy_cos', 'wknd', 'mnth_sin', 'mnth_cos']]"
   ]
  },
  {
   "cell_type": "code",
   "execution_count": 5,
   "id": "brief-buyer",
   "metadata": {},
   "outputs": [],
   "source": [
    "# Processing Parameters\n",
    "steps = 1 # timesteps: 1 hour\n",
    "num_features = 9\n",
    "\n",
    "lookback = 744 # the number of hours in the past the model is shown\n",
    "horizon = 1 # the target hour in the future we want to predict 1 hour ahead\n",
    "\n",
    "# Training parameters\n",
    "batch_size = 224\n",
    "epochs = 50\n",
    "lr = 0.04"
   ]
  },
  {
   "cell_type": "code",
   "execution_count": 6,
   "id": "toxic-indie",
   "metadata": {},
   "outputs": [],
   "source": [
    "# Create Train, Val, and Test Sets\n",
    "kld_train, kld_val, kld_test = processing.ts_offset_split(kld, steps=steps, lookback=lookback,\n",
    "                                                          horizon=horizon, batch_size=batch_size, scaler='standard')\n",
    "stb_train, stb_val, stb_test = processing.ts_offset_split(stb, steps=steps, lookback=lookback,\n",
    "                                                          horizon=horizon, batch_size=batch_size, scaler='standard')"
   ]
  },
  {
   "cell_type": "code",
   "execution_count": 7,
   "id": "mounted-lodge",
   "metadata": {},
   "outputs": [
    {
     "name": "stdout",
     "output_type": "stream",
     "text": [
      "Input Shape: (224, 744, 9)\n",
      "Target Shape: (224, 1)\n"
     ]
    }
   ],
   "source": [
    "for batch in kld_train.take(1):\n",
    "    inputs, targets = batch\n",
    "    \n",
    "print(f\"Input Shape: {inputs.numpy().shape}\")\n",
    "print(f\"Target Shape: {targets.numpy().shape}\")"
   ]
  },
  {
   "cell_type": "markdown",
   "id": "scientific-investigation",
   "metadata": {},
   "source": [
    "# LSTM: Kolding Dataset"
   ]
  },
  {
   "cell_type": "code",
   "execution_count": 8,
   "id": "northern-being",
   "metadata": {},
   "outputs": [
    {
     "name": "stdout",
     "output_type": "stream",
     "text": [
      "Model: \"sequential\"\n",
      "_________________________________________________________________\n",
      "Layer (type)                 Output Shape              Param #   \n",
      "=================================================================\n",
      "lstm (LSTM)                  (None, 96)                40704     \n",
      "_________________________________________________________________\n",
      "dropout (Dropout)            (None, 96)                0         \n",
      "_________________________________________________________________\n",
      "dense (Dense)                (None, 1)                 97        \n",
      "=================================================================\n",
      "Total params: 40,801\n",
      "Trainable params: 40,801\n",
      "Non-trainable params: 0\n",
      "_________________________________________________________________\n"
     ]
    }
   ],
   "source": [
    "# LSTM Benchmark\n",
    "LSTM_base_kld = Sequential()\n",
    "LSTM_base_kld.add(Input(shape=(lookback, num_features)))\n",
    "\n",
    "LSTM_base_kld.add(LSTM(96, return_sequences=False, activation='tanh'))\n",
    "LSTM_base_kld.add(Dropout(0.2))\n",
    "\n",
    "LSTM_base_kld.add(Dense(1))\n",
    "\n",
    "LSTM_base_kld.compile(optimizer=SGD(momentum=0.9, learning_rate=lr), loss=\"mse\", metrics=['mae'])\n",
    "\n",
    "LSTM_base_kld.summary()"
   ]
  },
  {
   "cell_type": "code",
   "execution_count": 9,
   "id": "unexpected-semiconductor",
   "metadata": {},
   "outputs": [],
   "source": [
    "# Callbacks\n",
    "estp = EarlyStopping(monitor='val_loss', patience=10)\n",
    "\n",
    "reduce_lr = ReduceLROnPlateau(monitor='val_loss', factor=0.6, patience=5, verbose=1)\n",
    "\n",
    "ckpt_path = \"../model/models/LSTM_benchmark_kld.h5\"\n",
    "ckpt = ModelCheckpoint(\n",
    "    monitor='val_loss',\n",
    "    filepath=ckpt_path,\n",
    "    verbose=1,\n",
    "    save_weights_only=True,\n",
    "    save_best_only=True\n",
    ")\n"
   ]
  },
  {
   "cell_type": "code",
   "execution_count": 10,
   "id": "exceptional-armenia",
   "metadata": {},
   "outputs": [
    {
     "name": "stdout",
     "output_type": "stream",
     "text": [
      "Epoch 1/50\n",
      "66/66 [==============================] - 189s 3s/step - loss: 0.6295 - mae: 0.6104 - val_loss: 0.4412 - val_mae: 0.5067\n",
      "\n",
      "Epoch 00001: val_loss improved from inf to 0.44124, saving model to ../model/models\\LSTM_benchmark_kld.h5\n",
      "Epoch 2/50\n",
      "66/66 [==============================] - 174s 3s/step - loss: 0.3675 - mae: 0.4486 - val_loss: 0.3168 - val_mae: 0.4249\n",
      "\n",
      "Epoch 00002: val_loss improved from 0.44124 to 0.31678, saving model to ../model/models\\LSTM_benchmark_kld.h5\n",
      "Epoch 3/50\n",
      "66/66 [==============================] - 189s 3s/step - loss: 0.2630 - mae: 0.3856 - val_loss: 0.2209 - val_mae: 0.3553\n",
      "\n",
      "Epoch 00003: val_loss improved from 0.31678 to 0.22093, saving model to ../model/models\\LSTM_benchmark_kld.h5\n",
      "Epoch 4/50\n",
      "66/66 [==============================] - 197s 3s/step - loss: 0.1924 - mae: 0.3328 - val_loss: 0.1962 - val_mae: 0.3481\n",
      "\n",
      "Epoch 00004: val_loss improved from 0.22093 to 0.19622, saving model to ../model/models\\LSTM_benchmark_kld.h5\n",
      "Epoch 5/50\n",
      "66/66 [==============================] - 199s 3s/step - loss: 0.1626 - mae: 0.3100 - val_loss: 0.1536 - val_mae: 0.3053\n",
      "\n",
      "Epoch 00005: val_loss improved from 0.19622 to 0.15355, saving model to ../model/models\\LSTM_benchmark_kld.h5\n",
      "Epoch 6/50\n",
      "66/66 [==============================] - 198s 3s/step - loss: 0.1430 - mae: 0.2894 - val_loss: 0.1517 - val_mae: 0.3021\n",
      "\n",
      "Epoch 00006: val_loss improved from 0.15355 to 0.15171, saving model to ../model/models\\LSTM_benchmark_kld.h5\n",
      "Epoch 7/50\n",
      "66/66 [==============================] - 199s 3s/step - loss: 0.1374 - mae: 0.2845 - val_loss: 0.1344 - val_mae: 0.2861\n",
      "\n",
      "Epoch 00007: val_loss improved from 0.15171 to 0.13439, saving model to ../model/models\\LSTM_benchmark_kld.h5\n",
      "Epoch 8/50\n",
      "66/66 [==============================] - 200s 3s/step - loss: 0.1217 - mae: 0.2683 - val_loss: 0.1186 - val_mae: 0.2642\n",
      "\n",
      "Epoch 00008: val_loss improved from 0.13439 to 0.11863, saving model to ../model/models\\LSTM_benchmark_kld.h5\n",
      "Epoch 9/50\n",
      "66/66 [==============================] - 202s 3s/step - loss: 0.1155 - mae: 0.2637 - val_loss: 0.1124 - val_mae: 0.2598\n",
      "\n",
      "Epoch 00009: val_loss improved from 0.11863 to 0.11235, saving model to ../model/models\\LSTM_benchmark_kld.h5\n",
      "Epoch 10/50\n",
      "66/66 [==============================] - 203s 3s/step - loss: 0.1104 - mae: 0.2558 - val_loss: 0.1127 - val_mae: 0.2588\n",
      "\n",
      "Epoch 00010: val_loss did not improve from 0.11235\n",
      "Epoch 11/50\n",
      "66/66 [==============================] - 204s 3s/step - loss: 0.1105 - mae: 0.2549 - val_loss: 0.1135 - val_mae: 0.2596\n",
      "\n",
      "Epoch 00011: val_loss did not improve from 0.11235\n",
      "Epoch 12/50\n",
      "66/66 [==============================] - 204s 3s/step - loss: 0.1065 - mae: 0.2521 - val_loss: 0.1097 - val_mae: 0.2553\n",
      "\n",
      "Epoch 00012: val_loss improved from 0.11235 to 0.10968, saving model to ../model/models\\LSTM_benchmark_kld.h5\n",
      "Epoch 13/50\n",
      "66/66 [==============================] - 218s 3s/step - loss: 0.1069 - mae: 0.2512 - val_loss: 0.1089 - val_mae: 0.2553\n",
      "\n",
      "Epoch 00013: val_loss improved from 0.10968 to 0.10888, saving model to ../model/models\\LSTM_benchmark_kld.h5\n",
      "Epoch 14/50\n",
      "66/66 [==============================] - 213s 3s/step - loss: 0.0987 - mae: 0.2436 - val_loss: 0.1024 - val_mae: 0.2462\n",
      "\n",
      "Epoch 00014: val_loss improved from 0.10888 to 0.10240, saving model to ../model/models\\LSTM_benchmark_kld.h5\n",
      "Epoch 15/50\n",
      "66/66 [==============================] - 203s 3s/step - loss: 0.0990 - mae: 0.2429 - val_loss: 0.1022 - val_mae: 0.2474\n",
      "\n",
      "Epoch 00015: val_loss improved from 0.10240 to 0.10224, saving model to ../model/models\\LSTM_benchmark_kld.h5\n",
      "Epoch 16/50\n",
      "66/66 [==============================] - 205s 3s/step - loss: 0.0926 - mae: 0.2353 - val_loss: 0.1008 - val_mae: 0.2460\n",
      "\n",
      "Epoch 00016: val_loss improved from 0.10224 to 0.10081, saving model to ../model/models\\LSTM_benchmark_kld.h5\n",
      "Epoch 17/50\n",
      "66/66 [==============================] - 206s 3s/step - loss: 0.0911 - mae: 0.2326 - val_loss: 0.1048 - val_mae: 0.2444\n",
      "\n",
      "Epoch 00017: val_loss did not improve from 0.10081\n",
      "Epoch 18/50\n",
      "66/66 [==============================] - 206s 3s/step - loss: 0.0926 - mae: 0.2353 - val_loss: 0.0967 - val_mae: 0.2399\n",
      "\n",
      "Epoch 00018: val_loss improved from 0.10081 to 0.09669, saving model to ../model/models\\LSTM_benchmark_kld.h5\n",
      "Epoch 19/50\n",
      "66/66 [==============================] - 205s 3s/step - loss: 0.0893 - mae: 0.2307 - val_loss: 0.0951 - val_mae: 0.2372\n",
      "\n",
      "Epoch 00019: val_loss improved from 0.09669 to 0.09509, saving model to ../model/models\\LSTM_benchmark_kld.h5\n",
      "Epoch 20/50\n",
      "66/66 [==============================] - 206s 3s/step - loss: 0.0881 - mae: 0.2282 - val_loss: 0.0990 - val_mae: 0.2422\n",
      "\n",
      "Epoch 00020: val_loss did not improve from 0.09509\n",
      "Epoch 21/50\n",
      "66/66 [==============================] - 205s 3s/step - loss: 0.0887 - mae: 0.2301 - val_loss: 0.1326 - val_mae: 0.2776\n",
      "\n",
      "Epoch 00021: val_loss did not improve from 0.09509\n",
      "Epoch 22/50\n",
      "66/66 [==============================] - 204s 3s/step - loss: 0.0884 - mae: 0.2282 - val_loss: 0.0985 - val_mae: 0.2367\n",
      "\n",
      "Epoch 00022: val_loss did not improve from 0.09509\n",
      "Epoch 23/50\n",
      "66/66 [==============================] - 205s 3s/step - loss: 0.0833 - mae: 0.2224 - val_loss: 0.0953 - val_mae: 0.2360\n",
      "\n",
      "Epoch 00023: val_loss did not improve from 0.09509\n",
      "Epoch 24/50\n",
      "66/66 [==============================] - 205s 3s/step - loss: 0.0823 - mae: 0.2217 - val_loss: 0.0974 - val_mae: 0.2385\n",
      "\n",
      "Epoch 00024: val_loss did not improve from 0.09509\n",
      "Epoch 25/50\n",
      "66/66 [==============================] - 206s 3s/step - loss: 0.0814 - mae: 0.2193 - val_loss: 0.0996 - val_mae: 0.2403\n",
      "\n",
      "Epoch 00025: val_loss did not improve from 0.09509\n",
      "Epoch 26/50\n",
      "66/66 [==============================] - 206s 3s/step - loss: 0.0793 - mae: 0.2178 - val_loss: 0.0948 - val_mae: 0.2333\n",
      "\n",
      "Epoch 00026: val_loss improved from 0.09509 to 0.09481, saving model to ../model/models\\LSTM_benchmark_kld.h5\n",
      "Epoch 27/50\n",
      "66/66 [==============================] - 206s 3s/step - loss: 0.0815 - mae: 0.2192 - val_loss: 0.0960 - val_mae: 0.2355\n",
      "\n",
      "Epoch 00027: val_loss did not improve from 0.09481\n",
      "Epoch 28/50\n",
      "66/66 [==============================] - 206s 3s/step - loss: 0.0837 - mae: 0.2216 - val_loss: 0.0932 - val_mae: 0.2319\n",
      "\n",
      "Epoch 00028: val_loss improved from 0.09481 to 0.09316, saving model to ../model/models\\LSTM_benchmark_kld.h5\n",
      "Epoch 29/50\n",
      "66/66 [==============================] - 207s 3s/step - loss: 0.0807 - mae: 0.2178 - val_loss: 0.0953 - val_mae: 0.2346\n",
      "\n",
      "Epoch 00029: val_loss did not improve from 0.09316\n",
      "Epoch 30/50\n",
      "66/66 [==============================] - 207s 3s/step - loss: 0.0790 - mae: 0.2175 - val_loss: 0.0942 - val_mae: 0.2295\n",
      "\n",
      "Epoch 00030: val_loss did not improve from 0.09316\n",
      "Epoch 31/50\n",
      "66/66 [==============================] - 206s 3s/step - loss: 0.0756 - mae: 0.2122 - val_loss: 0.0904 - val_mae: 0.2276\n",
      "\n",
      "Epoch 00031: val_loss improved from 0.09316 to 0.09039, saving model to ../model/models\\LSTM_benchmark_kld.h5\n",
      "Epoch 32/50\n",
      "66/66 [==============================] - 207s 3s/step - loss: 0.0760 - mae: 0.2114 - val_loss: 0.0975 - val_mae: 0.2391\n",
      "\n",
      "Epoch 00032: val_loss did not improve from 0.09039\n",
      "Epoch 33/50\n",
      "66/66 [==============================] - 209s 3s/step - loss: 0.0753 - mae: 0.2102 - val_loss: 0.0954 - val_mae: 0.2336\n",
      "\n",
      "Epoch 00033: val_loss did not improve from 0.09039\n",
      "Epoch 34/50\n",
      "66/66 [==============================] - 205s 3s/step - loss: 0.0794 - mae: 0.2145 - val_loss: 0.0968 - val_mae: 0.2339\n",
      "\n",
      "Epoch 00034: val_loss did not improve from 0.09039\n",
      "Epoch 35/50\n",
      "66/66 [==============================] - 206s 3s/step - loss: 0.0744 - mae: 0.2114 - val_loss: 0.0964 - val_mae: 0.2301\n",
      "\n",
      "Epoch 00035: val_loss did not improve from 0.09039\n",
      "Epoch 36/50\n",
      "66/66 [==============================] - 208s 3s/step - loss: 0.0753 - mae: 0.2105 - val_loss: 0.0893 - val_mae: 0.2253\n",
      "\n",
      "Epoch 00036: val_loss improved from 0.09039 to 0.08931, saving model to ../model/models\\LSTM_benchmark_kld.h5\n",
      "Epoch 37/50\n",
      "66/66 [==============================] - 208s 3s/step - loss: 0.0742 - mae: 0.2083 - val_loss: 0.0963 - val_mae: 0.2303\n",
      "\n",
      "Epoch 00037: val_loss did not improve from 0.08931\n",
      "Epoch 38/50\n",
      "66/66 [==============================] - 209s 3s/step - loss: 0.0772 - mae: 0.2129 - val_loss: 0.0923 - val_mae: 0.2286\n",
      "\n",
      "Epoch 00038: val_loss did not improve from 0.08931\n",
      "Epoch 39/50\n",
      "66/66 [==============================] - 207s 3s/step - loss: 0.0741 - mae: 0.2084 - val_loss: 0.1038 - val_mae: 0.2443\n",
      "\n",
      "Epoch 00039: val_loss did not improve from 0.08931\n",
      "Epoch 40/50\n",
      "66/66 [==============================] - 206s 3s/step - loss: 0.0759 - mae: 0.2097 - val_loss: 0.0890 - val_mae: 0.2240\n",
      "\n",
      "Epoch 00040: val_loss improved from 0.08931 to 0.08896, saving model to ../model/models\\LSTM_benchmark_kld.h5\n",
      "Epoch 41/50\n",
      "66/66 [==============================] - 208s 3s/step - loss: 0.0724 - mae: 0.2066 - val_loss: 0.0939 - val_mae: 0.2296\n",
      "\n",
      "Epoch 00041: val_loss did not improve from 0.08896\n",
      "Epoch 42/50\n",
      "66/66 [==============================] - 237s 4s/step - loss: 0.0730 - mae: 0.2066 - val_loss: 0.0924 - val_mae: 0.2284\n",
      "\n",
      "Epoch 00042: val_loss did not improve from 0.08896\n",
      "Epoch 43/50\n",
      "66/66 [==============================] - 232s 4s/step - loss: 0.0719 - mae: 0.2058 - val_loss: 0.0989 - val_mae: 0.2342\n",
      "\n",
      "Epoch 00043: val_loss did not improve from 0.08896\n",
      "Epoch 44/50\n",
      "66/66 [==============================] - 228s 3s/step - loss: 0.0746 - mae: 0.2089 - val_loss: 0.0918 - val_mae: 0.2263\n",
      "\n",
      "Epoch 00044: val_loss did not improve from 0.08896\n",
      "Epoch 45/50\n",
      "66/66 [==============================] - 244s 4s/step - loss: 0.0721 - mae: 0.2062 - val_loss: 0.0983 - val_mae: 0.2359\n",
      "\n",
      "Epoch 00045: val_loss did not improve from 0.08896\n",
      "Epoch 46/50\n",
      "66/66 [==============================] - 265s 4s/step - loss: 0.0708 - mae: 0.2042 - val_loss: 0.0914 - val_mae: 0.2257\n",
      "\n",
      "Epoch 00046: val_loss did not improve from 0.08896\n",
      "Epoch 47/50\n",
      "66/66 [==============================] - 258s 4s/step - loss: 0.0703 - mae: 0.2038 - val_loss: 0.0965 - val_mae: 0.2316\n",
      "\n",
      "Epoch 00047: val_loss did not improve from 0.08896\n",
      "Epoch 48/50\n",
      "66/66 [==============================] - 261s 4s/step - loss: 0.0704 - mae: 0.2023 - val_loss: 0.0943 - val_mae: 0.2284\n",
      "\n",
      "Epoch 00048: val_loss did not improve from 0.08896\n",
      "Epoch 49/50\n",
      "66/66 [==============================] - 255s 4s/step - loss: 0.0701 - mae: 0.2030 - val_loss: 0.0957 - val_mae: 0.2295\n",
      "\n",
      "Epoch 00049: val_loss did not improve from 0.08896\n",
      "Epoch 50/50\n",
      "66/66 [==============================] - 252s 4s/step - loss: 0.0693 - mae: 0.2015 - val_loss: 0.0858 - val_mae: 0.2216\n",
      "\n",
      "Epoch 00050: val_loss improved from 0.08896 to 0.08576, saving model to ../model/models\\LSTM_benchmark_kld.h5\n"
     ]
    }
   ],
   "source": [
    "history_kld = LSTM_base_kld.fit(\n",
    "    kld_train,\n",
    "    epochs=epochs,\n",
    "    validation_data=kld_val,\n",
    "    callbacks=[estp, ckpt]\n",
    ")"
   ]
  },
  {
   "cell_type": "code",
   "execution_count": 11,
   "id": "veterinary-shareware",
   "metadata": {},
   "outputs": [
    {
     "data": {
      "image/png": "[encoded data removed]",
      "text/plain": [
       "<Figure size 1440x864 with 1 Axes>"
      ]
     },
     "metadata": {},
     "output_type": "display_data"
    }
   ],
   "source": [
    "utils.plot_training(history_kld, \"Kolding: Training and Validation Loss on LSTM Benchmark\")"
   ]
  },
  {
   "cell_type": "code",
   "execution_count": 12,
   "id": "unlike-heading",
   "metadata": {},
   "outputs": [
    {
     "name": "stdout",
     "output_type": "stream",
     "text": [
      "12/12 [==============================] - 1s 110ms/step - loss: 0.1148 - mae: 0.2529\n"
     ]
    }
   ],
   "source": [
    "kld_eval = LSTM_base_kld.evaluate(kld_test)"
   ]
  },
  {
   "cell_type": "code",
   "execution_count": 13,
   "id": "macro-certificate",
   "metadata": {},
   "outputs": [
    {
     "name": "stdout",
     "output_type": "stream",
     "text": [
      "Inverse Scaled MAE: 7.92\n"
     ]
    }
   ],
   "source": [
    "kld_std = 31.31291841\n",
    "print(f'Inverse Scaled MAE: {round(kld_eval[1] * kld_std, 2)}')"
   ]
  },
  {
   "cell_type": "markdown",
   "id": "illegal-congo",
   "metadata": {},
   "source": [
    "# LSTM: Middelfart Dataset"
   ]
  },
  {
   "cell_type": "code",
   "execution_count": 12,
   "id": "signed-coast",
   "metadata": {},
   "outputs": [
    {
     "name": "stdout",
     "output_type": "stream",
     "text": [
      "Input Shape: (224, 744, 9)\n",
      "Target Shape: (224, 1)\n"
     ]
    }
   ],
   "source": [
    "for batch in stb_train.take(1):\n",
    "    inputs, targets = batch\n",
    "    \n",
    "print(f\"Input Shape: {inputs.numpy().shape}\")\n",
    "print(f\"Target Shape: {targets.numpy().shape}\")"
   ]
  },
  {
   "cell_type": "code",
   "execution_count": 13,
   "id": "indonesian-identification",
   "metadata": {},
   "outputs": [
    {
     "name": "stdout",
     "output_type": "stream",
     "text": [
      "Model: \"sequential_1\"\n",
      "_________________________________________________________________\n",
      "Layer (type)                 Output Shape              Param #   \n",
      "=================================================================\n",
      "lstm_1 (LSTM)                (None, 96)                40704     \n",
      "_________________________________________________________________\n",
      "dropout_1 (Dropout)          (None, 96)                0         \n",
      "_________________________________________________________________\n",
      "dense_1 (Dense)              (None, 1)                 97        \n",
      "=================================================================\n",
      "Total params: 40,801\n",
      "Trainable params: 40,801\n",
      "Non-trainable params: 0\n",
      "_________________________________________________________________\n"
     ]
    }
   ],
   "source": [
    "# LSTM Benchmark\n",
    "LSTM_base_stb = Sequential()\n",
    "\n",
    "LSTM_base_stb.add(Input(shape=(lookback, num_features)))\n",
    "\n",
    "LSTM_base_stb.add(LSTM(96, return_sequences=False, activation='tanh'))\n",
    "LSTM_base_stb.add(Dropout(0.2))\n",
    "\n",
    "LSTM_base_stb.add(Dense(1))\n",
    "\n",
    "LSTM_base_stb.compile(optimizer=SGD(momentum=0.9, learning_rate=lr), loss=\"mse\", metrics=['mae'])\n",
    "\n",
    "LSTM_base_stb.summary()"
   ]
  },
  {
   "cell_type": "code",
   "execution_count": 14,
   "id": "confused-bobby",
   "metadata": {},
   "outputs": [],
   "source": [
    "estp = EarlyStopping(monitor='val_loss', patience=10)\n",
    "\n",
    "reduce_lr = ReduceLROnPlateau(monitor='val_loss', factor=0.6, patience=5)\n",
    "\n",
    "ckpt_path = \"../model/models/LSTM_benchmark_stb.h5\"\n",
    "ckpt = ModelCheckpoint(\n",
    "    monitor='val_loss',\n",
    "    filepath=ckpt_path,\n",
    "    verbose=1,\n",
    "    save_weights_only=True,\n",
    "    save_best_only=True\n",
    ")\n"
   ]
  },
  {
   "cell_type": "code",
   "execution_count": 15,
   "id": "correct-september",
   "metadata": {
    "scrolled": true
   },
   "outputs": [
    {
     "name": "stdout",
     "output_type": "stream",
     "text": [
      "Epoch 1/50\n",
      "66/66 [==============================] - 233s 3s/step - loss: 0.7158 - mae: 0.6515 - val_loss: 0.4617 - val_mae: 0.4994\n",
      "\n",
      "Epoch 00001: val_loss improved from inf to 0.46171, saving model to ../model/models\\LSTM_benchmark_stb.h5\n",
      "Epoch 2/50\n",
      "66/66 [==============================] - 234s 4s/step - loss: 0.3733 - mae: 0.4514 - val_loss: 0.3650 - val_mae: 0.4506\n",
      "\n",
      "Epoch 00002: val_loss improved from 0.46171 to 0.36503, saving model to ../model/models\\LSTM_benchmark_stb.h5\n",
      "Epoch 3/50\n",
      "66/66 [==============================] - 232s 4s/step - loss: 0.3194 - mae: 0.4205 - val_loss: 0.2466 - val_mae: 0.3794\n",
      "\n",
      "Epoch 00003: val_loss improved from 0.36503 to 0.24656, saving model to ../model/models\\LSTM_benchmark_stb.h5\n",
      "Epoch 4/50\n",
      "66/66 [==============================] - 245s 4s/step - loss: 0.2241 - mae: 0.3619 - val_loss: 0.1674 - val_mae: 0.3157\n",
      "\n",
      "Epoch 00004: val_loss improved from 0.24656 to 0.16739, saving model to ../model/models\\LSTM_benchmark_stb.h5\n",
      "Epoch 5/50\n",
      "66/66 [==============================] - 240s 4s/step - loss: 0.1696 - mae: 0.3172 - val_loss: 0.1469 - val_mae: 0.2987\n",
      "\n",
      "Epoch 00005: val_loss improved from 0.16739 to 0.14691, saving model to ../model/models\\LSTM_benchmark_stb.h5\n",
      "Epoch 6/50\n",
      "66/66 [==============================] - 232s 4s/step - loss: 0.1404 - mae: 0.2894 - val_loss: 0.1347 - val_mae: 0.2847\n",
      "\n",
      "Epoch 00006: val_loss improved from 0.14691 to 0.13472, saving model to ../model/models\\LSTM_benchmark_stb.h5\n",
      "Epoch 7/50\n",
      "66/66 [==============================] - 230s 3s/step - loss: 0.1243 - mae: 0.2717 - val_loss: 0.1216 - val_mae: 0.2686\n",
      "\n",
      "Epoch 00007: val_loss improved from 0.13472 to 0.12161, saving model to ../model/models\\LSTM_benchmark_stb.h5\n",
      "Epoch 8/50\n",
      "66/66 [==============================] - 231s 4s/step - loss: 0.1196 - mae: 0.2672 - val_loss: 0.1459 - val_mae: 0.2953\n",
      "\n",
      "Epoch 00008: val_loss did not improve from 0.12161\n",
      "Epoch 9/50\n",
      "66/66 [==============================] - 245s 4s/step - loss: 0.1178 - mae: 0.2654 - val_loss: 0.1159 - val_mae: 0.2624\n",
      "\n",
      "Epoch 00009: val_loss improved from 0.12161 to 0.11588, saving model to ../model/models\\LSTM_benchmark_stb.h5\n",
      "Epoch 10/50\n",
      "66/66 [==============================] - 223s 3s/step - loss: 0.1088 - mae: 0.2567 - val_loss: 0.1111 - val_mae: 0.2600\n",
      "\n",
      "Epoch 00010: val_loss improved from 0.11588 to 0.11110, saving model to ../model/models\\LSTM_benchmark_stb.h5\n",
      "Epoch 11/50\n",
      "22/66 [=========>....................] - ETA: 2:30 - loss: 0.1030 - mae: 0.2482"
     ]
    },
    {
     "ename": "KeyboardInterrupt",
     "evalue": "",
     "output_type": "error",
     "traceback": [
      "\u001b[1;31m---------------------------------------------------------------------------\u001b[0m",
      "\u001b[1;31mKeyboardInterrupt\u001b[0m                         Traceback (most recent call last)",
      "\u001b[1;32m<ipython-input-15-5c1f98f69471>\u001b[0m in \u001b[0;36m<module>\u001b[1;34m\u001b[0m\n\u001b[1;32m----> 1\u001b[1;33m history_stb = LSTM_base_stb.fit(\n\u001b[0m\u001b[0;32m      2\u001b[0m     \u001b[0mstb_train\u001b[0m\u001b[1;33m,\u001b[0m\u001b[1;33m\u001b[0m\u001b[1;33m\u001b[0m\u001b[0m\n\u001b[0;32m      3\u001b[0m     \u001b[0mepochs\u001b[0m\u001b[1;33m=\u001b[0m\u001b[0mepochs\u001b[0m\u001b[1;33m,\u001b[0m\u001b[1;33m\u001b[0m\u001b[1;33m\u001b[0m\u001b[0m\n\u001b[0;32m      4\u001b[0m     \u001b[0mvalidation_data\u001b[0m\u001b[1;33m=\u001b[0m\u001b[0mstb_val\u001b[0m\u001b[1;33m,\u001b[0m\u001b[1;33m\u001b[0m\u001b[1;33m\u001b[0m\u001b[0m\n\u001b[0;32m      5\u001b[0m     \u001b[0mcallbacks\u001b[0m\u001b[1;33m=\u001b[0m\u001b[1;33m[\u001b[0m\u001b[0mestp\u001b[0m\u001b[1;33m,\u001b[0m \u001b[0mckpt\u001b[0m\u001b[1;33m,\u001b[0m \u001b[0mreduce_lr\u001b[0m\u001b[1;33m]\u001b[0m\u001b[1;33m\u001b[0m\u001b[1;33m\u001b[0m\u001b[0m\n",
      "\u001b[1;32mc:\\users\\nicol\\envs\\thesis\\lib\\site-packages\\wandb\\integration\\keras\\keras.py\u001b[0m in \u001b[0;36mnew_v2\u001b[1;34m(*args, **kwargs)\u001b[0m\n\u001b[0;32m    122\u001b[0m             \u001b[1;32mfor\u001b[0m \u001b[0mcbk\u001b[0m \u001b[1;32min\u001b[0m \u001b[0mcbks\u001b[0m\u001b[1;33m:\u001b[0m\u001b[1;33m\u001b[0m\u001b[1;33m\u001b[0m\u001b[0m\n\u001b[0;32m    123\u001b[0m                 \u001b[0mset_wandb_attrs\u001b[0m\u001b[1;33m(\u001b[0m\u001b[0mcbk\u001b[0m\u001b[1;33m,\u001b[0m \u001b[0mval_data\u001b[0m\u001b[1;33m)\u001b[0m\u001b[1;33m\u001b[0m\u001b[1;33m\u001b[0m\u001b[0m\n\u001b[1;32m--> 124\u001b[1;33m         \u001b[1;32mreturn\u001b[0m \u001b[0mold_v2\u001b[0m\u001b[1;33m(\u001b[0m\u001b[1;33m*\u001b[0m\u001b[0margs\u001b[0m\u001b[1;33m,\u001b[0m \u001b[1;33m**\u001b[0m\u001b[0mkwargs\u001b[0m\u001b[1;33m)\u001b[0m\u001b[1;33m\u001b[0m\u001b[1;33m\u001b[0m\u001b[0m\n\u001b[0m\u001b[0;32m    125\u001b[0m \u001b[1;33m\u001b[0m\u001b[0m\n\u001b[0;32m    126\u001b[0m     \u001b[0mtraining_arrays\u001b[0m\u001b[1;33m.\u001b[0m\u001b[0morig_fit_loop\u001b[0m \u001b[1;33m=\u001b[0m \u001b[0mold_arrays\u001b[0m\u001b[1;33m\u001b[0m\u001b[1;33m\u001b[0m\u001b[0m\n",
      "\u001b[1;32mc:\\users\\nicol\\envs\\thesis\\lib\\site-packages\\tensorflow\\python\\keras\\engine\\training.py\u001b[0m in \u001b[0;36mfit\u001b[1;34m(self, x, y, batch_size, epochs, verbose, callbacks, validation_split, validation_data, shuffle, class_weight, sample_weight, initial_epoch, steps_per_epoch, validation_steps, validation_batch_size, validation_freq, max_queue_size, workers, use_multiprocessing)\u001b[0m\n\u001b[0;32m   1098\u001b[0m                 _r=1):\n\u001b[0;32m   1099\u001b[0m               \u001b[0mcallbacks\u001b[0m\u001b[1;33m.\u001b[0m\u001b[0mon_train_batch_begin\u001b[0m\u001b[1;33m(\u001b[0m\u001b[0mstep\u001b[0m\u001b[1;33m)\u001b[0m\u001b[1;33m\u001b[0m\u001b[1;33m\u001b[0m\u001b[0m\n\u001b[1;32m-> 1100\u001b[1;33m               \u001b[0mtmp_logs\u001b[0m \u001b[1;33m=\u001b[0m \u001b[0mself\u001b[0m\u001b[1;33m.\u001b[0m\u001b[0mtrain_function\u001b[0m\u001b[1;33m(\u001b[0m\u001b[0miterator\u001b[0m\u001b[1;33m)\u001b[0m\u001b[1;33m\u001b[0m\u001b[1;33m\u001b[0m\u001b[0m\n\u001b[0m\u001b[0;32m   1101\u001b[0m               \u001b[1;32mif\u001b[0m \u001b[0mdata_handler\u001b[0m\u001b[1;33m.\u001b[0m\u001b[0mshould_sync\u001b[0m\u001b[1;33m:\u001b[0m\u001b[1;33m\u001b[0m\u001b[1;33m\u001b[0m\u001b[0m\n\u001b[0;32m   1102\u001b[0m                 \u001b[0mcontext\u001b[0m\u001b[1;33m.\u001b[0m\u001b[0masync_wait\u001b[0m\u001b[1;33m(\u001b[0m\u001b[1;33m)\u001b[0m\u001b[1;33m\u001b[0m\u001b[1;33m\u001b[0m\u001b[0m\n",
      "\u001b[1;32mc:\\users\\nicol\\envs\\thesis\\lib\\site-packages\\tensorflow\\python\\eager\\def_function.py\u001b[0m in \u001b[0;36m__call__\u001b[1;34m(self, *args, **kwds)\u001b[0m\n\u001b[0;32m    826\u001b[0m     \u001b[0mtracing_count\u001b[0m \u001b[1;33m=\u001b[0m \u001b[0mself\u001b[0m\u001b[1;33m.\u001b[0m\u001b[0mexperimental_get_tracing_count\u001b[0m\u001b[1;33m(\u001b[0m\u001b[1;33m)\u001b[0m\u001b[1;33m\u001b[0m\u001b[1;33m\u001b[0m\u001b[0m\n\u001b[0;32m    827\u001b[0m     \u001b[1;32mwith\u001b[0m \u001b[0mtrace\u001b[0m\u001b[1;33m.\u001b[0m\u001b[0mTrace\u001b[0m\u001b[1;33m(\u001b[0m\u001b[0mself\u001b[0m\u001b[1;33m.\u001b[0m\u001b[0m_name\u001b[0m\u001b[1;33m)\u001b[0m \u001b[1;32mas\u001b[0m \u001b[0mtm\u001b[0m\u001b[1;33m:\u001b[0m\u001b[1;33m\u001b[0m\u001b[1;33m\u001b[0m\u001b[0m\n\u001b[1;32m--> 828\u001b[1;33m       \u001b[0mresult\u001b[0m \u001b[1;33m=\u001b[0m \u001b[0mself\u001b[0m\u001b[1;33m.\u001b[0m\u001b[0m_call\u001b[0m\u001b[1;33m(\u001b[0m\u001b[1;33m*\u001b[0m\u001b[0margs\u001b[0m\u001b[1;33m,\u001b[0m \u001b[1;33m**\u001b[0m\u001b[0mkwds\u001b[0m\u001b[1;33m)\u001b[0m\u001b[1;33m\u001b[0m\u001b[1;33m\u001b[0m\u001b[0m\n\u001b[0m\u001b[0;32m    829\u001b[0m       \u001b[0mcompiler\u001b[0m \u001b[1;33m=\u001b[0m \u001b[1;34m\"xla\"\u001b[0m \u001b[1;32mif\u001b[0m \u001b[0mself\u001b[0m\u001b[1;33m.\u001b[0m\u001b[0m_experimental_compile\u001b[0m \u001b[1;32melse\u001b[0m \u001b[1;34m\"nonXla\"\u001b[0m\u001b[1;33m\u001b[0m\u001b[1;33m\u001b[0m\u001b[0m\n\u001b[0;32m    830\u001b[0m       \u001b[0mnew_tracing_count\u001b[0m \u001b[1;33m=\u001b[0m \u001b[0mself\u001b[0m\u001b[1;33m.\u001b[0m\u001b[0mexperimental_get_tracing_count\u001b[0m\u001b[1;33m(\u001b[0m\u001b[1;33m)\u001b[0m\u001b[1;33m\u001b[0m\u001b[1;33m\u001b[0m\u001b[0m\n",
      "\u001b[1;32mc:\\users\\nicol\\envs\\thesis\\lib\\site-packages\\tensorflow\\python\\eager\\def_function.py\u001b[0m in \u001b[0;36m_call\u001b[1;34m(self, *args, **kwds)\u001b[0m\n\u001b[0;32m    853\u001b[0m       \u001b[1;31m# In this case we have created variables on the first call, so we run the\u001b[0m\u001b[1;33m\u001b[0m\u001b[1;33m\u001b[0m\u001b[1;33m\u001b[0m\u001b[0m\n\u001b[0;32m    854\u001b[0m       \u001b[1;31m# defunned version which is guaranteed to never create variables.\u001b[0m\u001b[1;33m\u001b[0m\u001b[1;33m\u001b[0m\u001b[1;33m\u001b[0m\u001b[0m\n\u001b[1;32m--> 855\u001b[1;33m       \u001b[1;32mreturn\u001b[0m \u001b[0mself\u001b[0m\u001b[1;33m.\u001b[0m\u001b[0m_stateless_fn\u001b[0m\u001b[1;33m(\u001b[0m\u001b[1;33m*\u001b[0m\u001b[0margs\u001b[0m\u001b[1;33m,\u001b[0m \u001b[1;33m**\u001b[0m\u001b[0mkwds\u001b[0m\u001b[1;33m)\u001b[0m  \u001b[1;31m# pylint: disable=not-callable\u001b[0m\u001b[1;33m\u001b[0m\u001b[1;33m\u001b[0m\u001b[0m\n\u001b[0m\u001b[0;32m    856\u001b[0m     \u001b[1;32melif\u001b[0m \u001b[0mself\u001b[0m\u001b[1;33m.\u001b[0m\u001b[0m_stateful_fn\u001b[0m \u001b[1;32mis\u001b[0m \u001b[1;32mnot\u001b[0m \u001b[1;32mNone\u001b[0m\u001b[1;33m:\u001b[0m\u001b[1;33m\u001b[0m\u001b[1;33m\u001b[0m\u001b[0m\n\u001b[0;32m    857\u001b[0m       \u001b[1;31m# Release the lock early so that multiple threads can perform the call\u001b[0m\u001b[1;33m\u001b[0m\u001b[1;33m\u001b[0m\u001b[1;33m\u001b[0m\u001b[0m\n",
      "\u001b[1;32mc:\\users\\nicol\\envs\\thesis\\lib\\site-packages\\tensorflow\\python\\eager\\function.py\u001b[0m in \u001b[0;36m__call__\u001b[1;34m(self, *args, **kwargs)\u001b[0m\n\u001b[0;32m   2940\u001b[0m       (graph_function,\n\u001b[0;32m   2941\u001b[0m        filtered_flat_args) = self._maybe_define_function(args, kwargs)\n\u001b[1;32m-> 2942\u001b[1;33m     return graph_function._call_flat(\n\u001b[0m\u001b[0;32m   2943\u001b[0m         filtered_flat_args, captured_inputs=graph_function.captured_inputs)  # pylint: disable=protected-access\n\u001b[0;32m   2944\u001b[0m \u001b[1;33m\u001b[0m\u001b[0m\n",
      "\u001b[1;32mc:\\users\\nicol\\envs\\thesis\\lib\\site-packages\\tensorflow\\python\\eager\\function.py\u001b[0m in \u001b[0;36m_call_flat\u001b[1;34m(self, args, captured_inputs, cancellation_manager)\u001b[0m\n\u001b[0;32m   1916\u001b[0m         and executing_eagerly):\n\u001b[0;32m   1917\u001b[0m       \u001b[1;31m# No tape is watching; skip to running the function.\u001b[0m\u001b[1;33m\u001b[0m\u001b[1;33m\u001b[0m\u001b[1;33m\u001b[0m\u001b[0m\n\u001b[1;32m-> 1918\u001b[1;33m       return self._build_call_outputs(self._inference_function.call(\n\u001b[0m\u001b[0;32m   1919\u001b[0m           ctx, args, cancellation_manager=cancellation_manager))\n\u001b[0;32m   1920\u001b[0m     forward_backward = self._select_forward_and_backward_functions(\n",
      "\u001b[1;32mc:\\users\\nicol\\envs\\thesis\\lib\\site-packages\\tensorflow\\python\\eager\\function.py\u001b[0m in \u001b[0;36mcall\u001b[1;34m(self, ctx, args, cancellation_manager)\u001b[0m\n\u001b[0;32m    553\u001b[0m       \u001b[1;32mwith\u001b[0m \u001b[0m_InterpolateFunctionError\u001b[0m\u001b[1;33m(\u001b[0m\u001b[0mself\u001b[0m\u001b[1;33m)\u001b[0m\u001b[1;33m:\u001b[0m\u001b[1;33m\u001b[0m\u001b[1;33m\u001b[0m\u001b[0m\n\u001b[0;32m    554\u001b[0m         \u001b[1;32mif\u001b[0m \u001b[0mcancellation_manager\u001b[0m \u001b[1;32mis\u001b[0m \u001b[1;32mNone\u001b[0m\u001b[1;33m:\u001b[0m\u001b[1;33m\u001b[0m\u001b[1;33m\u001b[0m\u001b[0m\n\u001b[1;32m--> 555\u001b[1;33m           outputs = execute.execute(\n\u001b[0m\u001b[0;32m    556\u001b[0m               \u001b[0mstr\u001b[0m\u001b[1;33m(\u001b[0m\u001b[0mself\u001b[0m\u001b[1;33m.\u001b[0m\u001b[0msignature\u001b[0m\u001b[1;33m.\u001b[0m\u001b[0mname\u001b[0m\u001b[1;33m)\u001b[0m\u001b[1;33m,\u001b[0m\u001b[1;33m\u001b[0m\u001b[1;33m\u001b[0m\u001b[0m\n\u001b[0;32m    557\u001b[0m               \u001b[0mnum_outputs\u001b[0m\u001b[1;33m=\u001b[0m\u001b[0mself\u001b[0m\u001b[1;33m.\u001b[0m\u001b[0m_num_outputs\u001b[0m\u001b[1;33m,\u001b[0m\u001b[1;33m\u001b[0m\u001b[1;33m\u001b[0m\u001b[0m\n",
      "\u001b[1;32mc:\\users\\nicol\\envs\\thesis\\lib\\site-packages\\tensorflow\\python\\eager\\execute.py\u001b[0m in \u001b[0;36mquick_execute\u001b[1;34m(op_name, num_outputs, inputs, attrs, ctx, name)\u001b[0m\n\u001b[0;32m     57\u001b[0m   \u001b[1;32mtry\u001b[0m\u001b[1;33m:\u001b[0m\u001b[1;33m\u001b[0m\u001b[1;33m\u001b[0m\u001b[0m\n\u001b[0;32m     58\u001b[0m     \u001b[0mctx\u001b[0m\u001b[1;33m.\u001b[0m\u001b[0mensure_initialized\u001b[0m\u001b[1;33m(\u001b[0m\u001b[1;33m)\u001b[0m\u001b[1;33m\u001b[0m\u001b[1;33m\u001b[0m\u001b[0m\n\u001b[1;32m---> 59\u001b[1;33m     tensors = pywrap_tfe.TFE_Py_Execute(ctx._handle, device_name, op_name,\n\u001b[0m\u001b[0;32m     60\u001b[0m                                         inputs, attrs, num_outputs)\n\u001b[0;32m     61\u001b[0m   \u001b[1;32mexcept\u001b[0m \u001b[0mcore\u001b[0m\u001b[1;33m.\u001b[0m\u001b[0m_NotOkStatusException\u001b[0m \u001b[1;32mas\u001b[0m \u001b[0me\u001b[0m\u001b[1;33m:\u001b[0m\u001b[1;33m\u001b[0m\u001b[1;33m\u001b[0m\u001b[0m\n",
      "\u001b[1;31mKeyboardInterrupt\u001b[0m: "
     ]
    }
   ],
   "source": [
    "history_stb = LSTM_base_stb.fit(\n",
    "    stb_train,\n",
    "    epochs=epochs,\n",
    "    validation_data=stb_val,\n",
    "    callbacks=[estp, ckpt, reduce_lr]\n",
    ")"
   ]
  },
  {
   "cell_type": "code",
   "execution_count": null,
   "id": "systematic-buddy",
   "metadata": {},
   "outputs": [],
   "source": [
    "utils.plot_training(history_stb, \"Middelfart: Training and Validation Loss on LSTM Benchmark\")"
   ]
  },
  {
   "cell_type": "code",
   "execution_count": 19,
   "id": "bizarre-equilibrium",
   "metadata": {},
   "outputs": [
    {
     "name": "stdout",
     "output_type": "stream",
     "text": [
      "12/12 [==============================] - 1s 76ms/step - loss: 0.1367 - mae: 0.2795\n"
     ]
    }
   ],
   "source": [
    "stb_eval = LSTM_base_stb.evaluate(stb_test)"
   ]
  },
  {
   "cell_type": "code",
   "execution_count": 20,
   "id": "spatial-poetry",
   "metadata": {},
   "outputs": [
    {
     "name": "stdout",
     "output_type": "stream",
     "text": [
      "Inverse Scaled MAE: 5.13\n"
     ]
    }
   ],
   "source": [
    "stb_std = 18.33954707\n",
    "print(f'Inverse Scaled MAE: {round(stb_eval[1] * stb_std, 2)}')"
   ]
  }
 ],
 "metadata": {
  "kernelspec": {
   "display_name": "Python 3",
   "language": "python",
   "name": "python3"
  },
  "language_info": {
   "codemirror_mode": {
    "name": "ipython",
    "version": 3
   },
   "file_extension": ".py",
   "mimetype": "text/x-python",
   "name": "python",
   "nbconvert_exporter": "python",
   "pygments_lexer": "ipython3",
   "version": "3.8.3"
  }
 },
 "nbformat": 4,
 "nbformat_minor": 5
}
